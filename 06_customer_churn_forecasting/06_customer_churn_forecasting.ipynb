{
 "cells": [
  {
   "cell_type": "markdown",
   "metadata": {},
   "source": [
    "# Отток клиентов"
   ]
  },
  {
   "cell_type": "markdown",
   "metadata": {},
   "source": [
    "Из «Бета-Банка» стали уходить клиенты. Каждый месяц. Немного, но заметно. Банковские маркетологи посчитали: сохранять текущих клиентов дешевле, чем привлекать новых.\n",
    "\n",
    "Нужно спрогнозировать, уйдёт клиент из банка в ближайшее время или нет. Вам предоставлены исторические данные о поведении клиентов и расторжении договоров с банком. \n",
    "\n",
    "Постройте модель с предельно большим значением *F1*-меры. Чтобы сдать проект успешно, нужно довести метрику до 0.59. Проверьте *F1*-меру на тестовой выборке самостоятельно.\n",
    "\n",
    "Дополнительно измеряйте *AUC-ROC*, сравнивайте её значение с *F1*-мерой.\n",
    "\n",
    "Источник данных: [https://www.kaggle.com/barelydedicated/bank-customer-churn-modeling](https://www.kaggle.com/barelydedicated/bank-customer-churn-modeling)"
   ]
  },
  {
   "cell_type": "markdown",
   "metadata": {},
   "source": [
    "- RowNumber — индекс строки в данных\n",
    "- CustomerId — уникальный идентификатор клиента\n",
    "- Surname — фамилия\n",
    "- CreditScore — кредитный рейтинг\n",
    "- Geography — страна проживания\n",
    "- Gender — пол\n",
    "- Age — возраст\n",
    "- Tenure — сколько лет человек является клиентом банка\n",
    "- Balance — баланс на счёте\n",
    "- NumOfProducts — количество продуктов банка, используемых клиентом\n",
    "- HasCrCard — наличие кредитной карты\n",
    "- IsActiveMember — активность клиента\n",
    "- EstimatedSalary — предполагаемая зарплата  \n",
    "  \n",
    "- **Целевой признак Exited** — факт ухода клиента"
   ]
  },
  {
   "cell_type": "markdown",
   "metadata": {},
   "source": [
    "## Подготовка данных"
   ]
  },
  {
   "cell_type": "code",
   "execution_count": 1,
   "metadata": {},
   "outputs": [],
   "source": [
    "import pandas as pd\n",
    "import numpy as np\n",
    "import matplotlib.pyplot as plt\n",
    "import seaborn as sns\n",
    "\n",
    "from sklearn.model_selection import train_test_split\n",
    "from sklearn.preprocessing import StandardScaler\n",
    "from sklearn.linear_model import LogisticRegression\n",
    "from sklearn.ensemble import RandomForestClassifier\n",
    "from sklearn.metrics import accuracy_score, precision_score, recall_score\n",
    "from sklearn.metrics import roc_auc_score, roc_curve, f1_score\n",
    "from sklearn.utils import shuffle\n",
    "\n",
    "import warnings\n",
    "warnings.filterwarnings(\"ignore\")"
   ]
  },
  {
   "cell_type": "code",
   "execution_count": 2,
   "metadata": {
    "scrolled": true
   },
   "outputs": [
    {
     "data": {
      "text/html": [
       "<div>\n",
       "<style scoped>\n",
       "    .dataframe tbody tr th:only-of-type {\n",
       "        vertical-align: middle;\n",
       "    }\n",
       "\n",
       "    .dataframe tbody tr th {\n",
       "        vertical-align: top;\n",
       "    }\n",
       "\n",
       "    .dataframe thead th {\n",
       "        text-align: right;\n",
       "    }\n",
       "</style>\n",
       "<table border=\"1\" class=\"dataframe\">\n",
       "  <thead>\n",
       "    <tr style=\"text-align: right;\">\n",
       "      <th></th>\n",
       "      <th>RowNumber</th>\n",
       "      <th>CustomerId</th>\n",
       "      <th>Surname</th>\n",
       "      <th>CreditScore</th>\n",
       "      <th>Geography</th>\n",
       "      <th>Gender</th>\n",
       "      <th>Age</th>\n",
       "      <th>Tenure</th>\n",
       "      <th>Balance</th>\n",
       "      <th>NumOfProducts</th>\n",
       "      <th>HasCrCard</th>\n",
       "      <th>IsActiveMember</th>\n",
       "      <th>EstimatedSalary</th>\n",
       "      <th>Exited</th>\n",
       "    </tr>\n",
       "  </thead>\n",
       "  <tbody>\n",
       "    <tr>\n",
       "      <th>0</th>\n",
       "      <td>1</td>\n",
       "      <td>15634602</td>\n",
       "      <td>Hargrave</td>\n",
       "      <td>619</td>\n",
       "      <td>France</td>\n",
       "      <td>Female</td>\n",
       "      <td>42</td>\n",
       "      <td>2.0</td>\n",
       "      <td>0.00</td>\n",
       "      <td>1</td>\n",
       "      <td>1</td>\n",
       "      <td>1</td>\n",
       "      <td>101348.88</td>\n",
       "      <td>1</td>\n",
       "    </tr>\n",
       "    <tr>\n",
       "      <th>1</th>\n",
       "      <td>2</td>\n",
       "      <td>15647311</td>\n",
       "      <td>Hill</td>\n",
       "      <td>608</td>\n",
       "      <td>Spain</td>\n",
       "      <td>Female</td>\n",
       "      <td>41</td>\n",
       "      <td>1.0</td>\n",
       "      <td>83807.86</td>\n",
       "      <td>1</td>\n",
       "      <td>0</td>\n",
       "      <td>1</td>\n",
       "      <td>112542.58</td>\n",
       "      <td>0</td>\n",
       "    </tr>\n",
       "    <tr>\n",
       "      <th>2</th>\n",
       "      <td>3</td>\n",
       "      <td>15619304</td>\n",
       "      <td>Onio</td>\n",
       "      <td>502</td>\n",
       "      <td>France</td>\n",
       "      <td>Female</td>\n",
       "      <td>42</td>\n",
       "      <td>8.0</td>\n",
       "      <td>159660.80</td>\n",
       "      <td>3</td>\n",
       "      <td>1</td>\n",
       "      <td>0</td>\n",
       "      <td>113931.57</td>\n",
       "      <td>1</td>\n",
       "    </tr>\n",
       "    <tr>\n",
       "      <th>3</th>\n",
       "      <td>4</td>\n",
       "      <td>15701354</td>\n",
       "      <td>Boni</td>\n",
       "      <td>699</td>\n",
       "      <td>France</td>\n",
       "      <td>Female</td>\n",
       "      <td>39</td>\n",
       "      <td>1.0</td>\n",
       "      <td>0.00</td>\n",
       "      <td>2</td>\n",
       "      <td>0</td>\n",
       "      <td>0</td>\n",
       "      <td>93826.63</td>\n",
       "      <td>0</td>\n",
       "    </tr>\n",
       "    <tr>\n",
       "      <th>4</th>\n",
       "      <td>5</td>\n",
       "      <td>15737888</td>\n",
       "      <td>Mitchell</td>\n",
       "      <td>850</td>\n",
       "      <td>Spain</td>\n",
       "      <td>Female</td>\n",
       "      <td>43</td>\n",
       "      <td>2.0</td>\n",
       "      <td>125510.82</td>\n",
       "      <td>1</td>\n",
       "      <td>1</td>\n",
       "      <td>1</td>\n",
       "      <td>79084.10</td>\n",
       "      <td>0</td>\n",
       "    </tr>\n",
       "  </tbody>\n",
       "</table>\n",
       "</div>"
      ],
      "text/plain": [
       "   RowNumber  CustomerId   Surname  CreditScore Geography  Gender  Age  \\\n",
       "0          1    15634602  Hargrave          619    France  Female   42   \n",
       "1          2    15647311      Hill          608     Spain  Female   41   \n",
       "2          3    15619304      Onio          502    France  Female   42   \n",
       "3          4    15701354      Boni          699    France  Female   39   \n",
       "4          5    15737888  Mitchell          850     Spain  Female   43   \n",
       "\n",
       "   Tenure    Balance  NumOfProducts  HasCrCard  IsActiveMember  \\\n",
       "0     2.0       0.00              1          1               1   \n",
       "1     1.0   83807.86              1          0               1   \n",
       "2     8.0  159660.80              3          1               0   \n",
       "3     1.0       0.00              2          0               0   \n",
       "4     2.0  125510.82              1          1               1   \n",
       "\n",
       "   EstimatedSalary  Exited  \n",
       "0        101348.88       1  \n",
       "1        112542.58       0  \n",
       "2        113931.57       1  \n",
       "3         93826.63       0  \n",
       "4         79084.10       0  "
      ]
     },
     "execution_count": 2,
     "metadata": {},
     "output_type": "execute_result"
    }
   ],
   "source": [
    "data = pd.read_csv('/datasets/Churn.csv')\n",
    "data.head()"
   ]
  },
  {
   "cell_type": "code",
   "execution_count": 3,
   "metadata": {},
   "outputs": [
    {
     "data": {
      "text/plain": [
       "(10000, 14)"
      ]
     },
     "execution_count": 3,
     "metadata": {},
     "output_type": "execute_result"
    }
   ],
   "source": [
    "data.shape"
   ]
  },
  {
   "cell_type": "code",
   "execution_count": 4,
   "metadata": {
    "scrolled": false
   },
   "outputs": [
    {
     "name": "stdout",
     "output_type": "stream",
     "text": [
      "<class 'pandas.core.frame.DataFrame'>\n",
      "RangeIndex: 10000 entries, 0 to 9999\n",
      "Data columns (total 14 columns):\n",
      " #   Column           Non-Null Count  Dtype  \n",
      "---  ------           --------------  -----  \n",
      " 0   RowNumber        10000 non-null  int64  \n",
      " 1   CustomerId       10000 non-null  int64  \n",
      " 2   Surname          10000 non-null  object \n",
      " 3   CreditScore      10000 non-null  int64  \n",
      " 4   Geography        10000 non-null  object \n",
      " 5   Gender           10000 non-null  object \n",
      " 6   Age              10000 non-null  int64  \n",
      " 7   Tenure           9091 non-null   float64\n",
      " 8   Balance          10000 non-null  float64\n",
      " 9   NumOfProducts    10000 non-null  int64  \n",
      " 10  HasCrCard        10000 non-null  int64  \n",
      " 11  IsActiveMember   10000 non-null  int64  \n",
      " 12  EstimatedSalary  10000 non-null  float64\n",
      " 13  Exited           10000 non-null  int64  \n",
      "dtypes: float64(3), int64(8), object(3)\n",
      "memory usage: 1.1+ MB\n"
     ]
    }
   ],
   "source": [
    "data.info()"
   ]
  },
  {
   "cell_type": "markdown",
   "metadata": {},
   "source": [
    "Наблюдаем, что пропуски имеются только в колонке **Tenure**.      \n",
    "Отсутствие данных в таком случае, вероятно, говорит о новом клиенте.  \n",
    "Следовательно, мы заполним эти пропуски нулями, предварительно переименовав все колонки для удобства использования, а затем избавимся от явных дубликатов, если таковые имеются."
   ]
  },
  {
   "cell_type": "code",
   "execution_count": 5,
   "metadata": {},
   "outputs": [],
   "source": [
    "data = data.rename(columns={'RowNumber':'row_number', 'CustomerId':'customer_id',\n",
    "                            'CreditScore':'credit_score', 'NumOfProducts':'num_of_products',\n",
    "                            'HasCrCard':'has_cr_card', 'IsActiveMember':'is_active_member',\n",
    "                            'EstimatedSalary':'estimated_salary'})"
   ]
  },
  {
   "cell_type": "code",
   "execution_count": 6,
   "metadata": {},
   "outputs": [],
   "source": [
    "data.columns = data.columns.str.lower()"
   ]
  },
  {
   "cell_type": "code",
   "execution_count": 7,
   "metadata": {},
   "outputs": [],
   "source": [
    "data['tenure'] = data['tenure'].fillna(data['tenure'].median())"
   ]
  },
  {
   "cell_type": "code",
   "execution_count": 8,
   "metadata": {},
   "outputs": [],
   "source": [
    "data = data.drop_duplicates()"
   ]
  },
  {
   "cell_type": "markdown",
   "metadata": {},
   "source": [
    "Взглянем на общую картину, поищем аномалии и выбросы"
   ]
  },
  {
   "cell_type": "code",
   "execution_count": 9,
   "metadata": {},
   "outputs": [
    {
     "data": {
      "image/png": "[encoded data removed]",
      "text/plain": [
       "<Figure size 1440x1440 with 12 Axes>"
      ]
     },
     "metadata": {
      "needs_background": "light"
     },
     "output_type": "display_data"
    }
   ],
   "source": [
    "data.hist(figsize=(20, 20), bins=30)\n",
    "plt.show()"
   ]
  },
  {
   "cell_type": "markdown",
   "metadata": {},
   "source": [
    "Ничего необычного не обнаружено, высокие столбцы не являются аномальными."
   ]
  },
  {
   "cell_type": "markdown",
   "metadata": {},
   "source": [
    "## Исследование задачи"
   ]
  },
  {
   "cell_type": "markdown",
   "metadata": {},
   "source": [
    "Итак, взглянем на данные ещё раз"
   ]
  },
  {
   "cell_type": "code",
   "execution_count": 10,
   "metadata": {
    "scrolled": true
   },
   "outputs": [
    {
     "data": {
      "text/html": [
       "<div>\n",
       "<style scoped>\n",
       "    .dataframe tbody tr th:only-of-type {\n",
       "        vertical-align: middle;\n",
       "    }\n",
       "\n",
       "    .dataframe tbody tr th {\n",
       "        vertical-align: top;\n",
       "    }\n",
       "\n",
       "    .dataframe thead th {\n",
       "        text-align: right;\n",
       "    }\n",
       "</style>\n",
       "<table border=\"1\" class=\"dataframe\">\n",
       "  <thead>\n",
       "    <tr style=\"text-align: right;\">\n",
       "      <th></th>\n",
       "      <th>row_number</th>\n",
       "      <th>customer_id</th>\n",
       "      <th>surname</th>\n",
       "      <th>credit_score</th>\n",
       "      <th>geography</th>\n",
       "      <th>gender</th>\n",
       "      <th>age</th>\n",
       "      <th>tenure</th>\n",
       "      <th>balance</th>\n",
       "      <th>num_of_products</th>\n",
       "      <th>has_cr_card</th>\n",
       "      <th>is_active_member</th>\n",
       "      <th>estimated_salary</th>\n",
       "      <th>exited</th>\n",
       "    </tr>\n",
       "  </thead>\n",
       "  <tbody>\n",
       "    <tr>\n",
       "      <th>0</th>\n",
       "      <td>1</td>\n",
       "      <td>15634602</td>\n",
       "      <td>Hargrave</td>\n",
       "      <td>619</td>\n",
       "      <td>France</td>\n",
       "      <td>Female</td>\n",
       "      <td>42</td>\n",
       "      <td>2.0</td>\n",
       "      <td>0.00</td>\n",
       "      <td>1</td>\n",
       "      <td>1</td>\n",
       "      <td>1</td>\n",
       "      <td>101348.88</td>\n",
       "      <td>1</td>\n",
       "    </tr>\n",
       "    <tr>\n",
       "      <th>1</th>\n",
       "      <td>2</td>\n",
       "      <td>15647311</td>\n",
       "      <td>Hill</td>\n",
       "      <td>608</td>\n",
       "      <td>Spain</td>\n",
       "      <td>Female</td>\n",
       "      <td>41</td>\n",
       "      <td>1.0</td>\n",
       "      <td>83807.86</td>\n",
       "      <td>1</td>\n",
       "      <td>0</td>\n",
       "      <td>1</td>\n",
       "      <td>112542.58</td>\n",
       "      <td>0</td>\n",
       "    </tr>\n",
       "    <tr>\n",
       "      <th>2</th>\n",
       "      <td>3</td>\n",
       "      <td>15619304</td>\n",
       "      <td>Onio</td>\n",
       "      <td>502</td>\n",
       "      <td>France</td>\n",
       "      <td>Female</td>\n",
       "      <td>42</td>\n",
       "      <td>8.0</td>\n",
       "      <td>159660.80</td>\n",
       "      <td>3</td>\n",
       "      <td>1</td>\n",
       "      <td>0</td>\n",
       "      <td>113931.57</td>\n",
       "      <td>1</td>\n",
       "    </tr>\n",
       "    <tr>\n",
       "      <th>3</th>\n",
       "      <td>4</td>\n",
       "      <td>15701354</td>\n",
       "      <td>Boni</td>\n",
       "      <td>699</td>\n",
       "      <td>France</td>\n",
       "      <td>Female</td>\n",
       "      <td>39</td>\n",
       "      <td>1.0</td>\n",
       "      <td>0.00</td>\n",
       "      <td>2</td>\n",
       "      <td>0</td>\n",
       "      <td>0</td>\n",
       "      <td>93826.63</td>\n",
       "      <td>0</td>\n",
       "    </tr>\n",
       "    <tr>\n",
       "      <th>4</th>\n",
       "      <td>5</td>\n",
       "      <td>15737888</td>\n",
       "      <td>Mitchell</td>\n",
       "      <td>850</td>\n",
       "      <td>Spain</td>\n",
       "      <td>Female</td>\n",
       "      <td>43</td>\n",
       "      <td>2.0</td>\n",
       "      <td>125510.82</td>\n",
       "      <td>1</td>\n",
       "      <td>1</td>\n",
       "      <td>1</td>\n",
       "      <td>79084.10</td>\n",
       "      <td>0</td>\n",
       "    </tr>\n",
       "  </tbody>\n",
       "</table>\n",
       "</div>"
      ],
      "text/plain": [
       "   row_number  customer_id   surname  credit_score geography  gender  age  \\\n",
       "0           1     15634602  Hargrave           619    France  Female   42   \n",
       "1           2     15647311      Hill           608     Spain  Female   41   \n",
       "2           3     15619304      Onio           502    France  Female   42   \n",
       "3           4     15701354      Boni           699    France  Female   39   \n",
       "4           5     15737888  Mitchell           850     Spain  Female   43   \n",
       "\n",
       "   tenure    balance  num_of_products  has_cr_card  is_active_member  \\\n",
       "0     2.0       0.00                1            1                 1   \n",
       "1     1.0   83807.86                1            0                 1   \n",
       "2     8.0  159660.80                3            1                 0   \n",
       "3     1.0       0.00                2            0                 0   \n",
       "4     2.0  125510.82                1            1                 1   \n",
       "\n",
       "   estimated_salary  exited  \n",
       "0         101348.88       1  \n",
       "1         112542.58       0  \n",
       "2         113931.57       1  \n",
       "3          93826.63       0  \n",
       "4          79084.10       0  "
      ]
     },
     "execution_count": 10,
     "metadata": {},
     "output_type": "execute_result"
    }
   ],
   "source": [
    "data.head()"
   ]
  },
  {
   "cell_type": "markdown",
   "metadata": {},
   "source": [
    "Первые три колонки абсолютно уникальны для каждого клиента и не пригодятся при построении модели, следует сразу их отделить"
   ]
  },
  {
   "cell_type": "code",
   "execution_count": 11,
   "metadata": {},
   "outputs": [],
   "source": [
    "data.drop(columns=['row_number', 'customer_id', 'surname'], inplace=True)"
   ]
  },
  {
   "cell_type": "markdown",
   "metadata": {},
   "source": [
    "### One-Hot-Encoding"
   ]
  },
  {
   "cell_type": "markdown",
   "metadata": {},
   "source": [
    "Для дальнейшего применения линейных моделей используем метод One-Hot-Encoding"
   ]
  },
  {
   "cell_type": "code",
   "execution_count": 12,
   "metadata": {
    "scrolled": true
   },
   "outputs": [
    {
     "data": {
      "text/html": [
       "<div>\n",
       "<style scoped>\n",
       "    .dataframe tbody tr th:only-of-type {\n",
       "        vertical-align: middle;\n",
       "    }\n",
       "\n",
       "    .dataframe tbody tr th {\n",
       "        vertical-align: top;\n",
       "    }\n",
       "\n",
       "    .dataframe thead th {\n",
       "        text-align: right;\n",
       "    }\n",
       "</style>\n",
       "<table border=\"1\" class=\"dataframe\">\n",
       "  <thead>\n",
       "    <tr style=\"text-align: right;\">\n",
       "      <th></th>\n",
       "      <th>credit_score</th>\n",
       "      <th>age</th>\n",
       "      <th>tenure</th>\n",
       "      <th>balance</th>\n",
       "      <th>num_of_products</th>\n",
       "      <th>has_cr_card</th>\n",
       "      <th>is_active_member</th>\n",
       "      <th>estimated_salary</th>\n",
       "      <th>exited</th>\n",
       "      <th>geography_germany</th>\n",
       "      <th>geography_spain</th>\n",
       "      <th>gender_male</th>\n",
       "    </tr>\n",
       "  </thead>\n",
       "  <tbody>\n",
       "    <tr>\n",
       "      <th>0</th>\n",
       "      <td>619</td>\n",
       "      <td>42</td>\n",
       "      <td>2.0</td>\n",
       "      <td>0.00</td>\n",
       "      <td>1</td>\n",
       "      <td>1</td>\n",
       "      <td>1</td>\n",
       "      <td>101348.88</td>\n",
       "      <td>1</td>\n",
       "      <td>0</td>\n",
       "      <td>0</td>\n",
       "      <td>0</td>\n",
       "    </tr>\n",
       "    <tr>\n",
       "      <th>1</th>\n",
       "      <td>608</td>\n",
       "      <td>41</td>\n",
       "      <td>1.0</td>\n",
       "      <td>83807.86</td>\n",
       "      <td>1</td>\n",
       "      <td>0</td>\n",
       "      <td>1</td>\n",
       "      <td>112542.58</td>\n",
       "      <td>0</td>\n",
       "      <td>0</td>\n",
       "      <td>1</td>\n",
       "      <td>0</td>\n",
       "    </tr>\n",
       "    <tr>\n",
       "      <th>2</th>\n",
       "      <td>502</td>\n",
       "      <td>42</td>\n",
       "      <td>8.0</td>\n",
       "      <td>159660.80</td>\n",
       "      <td>3</td>\n",
       "      <td>1</td>\n",
       "      <td>0</td>\n",
       "      <td>113931.57</td>\n",
       "      <td>1</td>\n",
       "      <td>0</td>\n",
       "      <td>0</td>\n",
       "      <td>0</td>\n",
       "    </tr>\n",
       "    <tr>\n",
       "      <th>3</th>\n",
       "      <td>699</td>\n",
       "      <td>39</td>\n",
       "      <td>1.0</td>\n",
       "      <td>0.00</td>\n",
       "      <td>2</td>\n",
       "      <td>0</td>\n",
       "      <td>0</td>\n",
       "      <td>93826.63</td>\n",
       "      <td>0</td>\n",
       "      <td>0</td>\n",
       "      <td>0</td>\n",
       "      <td>0</td>\n",
       "    </tr>\n",
       "    <tr>\n",
       "      <th>4</th>\n",
       "      <td>850</td>\n",
       "      <td>43</td>\n",
       "      <td>2.0</td>\n",
       "      <td>125510.82</td>\n",
       "      <td>1</td>\n",
       "      <td>1</td>\n",
       "      <td>1</td>\n",
       "      <td>79084.10</td>\n",
       "      <td>0</td>\n",
       "      <td>0</td>\n",
       "      <td>1</td>\n",
       "      <td>0</td>\n",
       "    </tr>\n",
       "  </tbody>\n",
       "</table>\n",
       "</div>"
      ],
      "text/plain": [
       "   credit_score  age  tenure    balance  num_of_products  has_cr_card  \\\n",
       "0           619   42     2.0       0.00                1            1   \n",
       "1           608   41     1.0   83807.86                1            0   \n",
       "2           502   42     8.0  159660.80                3            1   \n",
       "3           699   39     1.0       0.00                2            0   \n",
       "4           850   43     2.0  125510.82                1            1   \n",
       "\n",
       "   is_active_member  estimated_salary  exited  geography_germany  \\\n",
       "0                 1         101348.88       1                  0   \n",
       "1                 1         112542.58       0                  0   \n",
       "2                 0         113931.57       1                  0   \n",
       "3                 0          93826.63       0                  0   \n",
       "4                 1          79084.10       0                  0   \n",
       "\n",
       "   geography_spain  gender_male  \n",
       "0                0            0  \n",
       "1                1            0  \n",
       "2                0            0  \n",
       "3                0            0  \n",
       "4                1            0  "
      ]
     },
     "execution_count": 12,
     "metadata": {},
     "output_type": "execute_result"
    }
   ],
   "source": [
    "data_dummies = pd.get_dummies(data, drop_first=True)\n",
    "data_dummies.columns = data_dummies.columns.str.lower()\n",
    "data_dummies.head()"
   ]
  },
  {
   "cell_type": "markdown",
   "metadata": {},
   "source": [
    "### Формирование выборок"
   ]
  },
  {
   "cell_type": "markdown",
   "metadata": {},
   "source": [
    "Выделим фичи и целевой признак, проведём разбивку на выборки"
   ]
  },
  {
   "cell_type": "code",
   "execution_count": 13,
   "metadata": {},
   "outputs": [],
   "source": [
    "target = data_dummies['exited']\n",
    "features = data_dummies.drop(columns=['exited'])"
   ]
  },
  {
   "cell_type": "code",
   "execution_count": 14,
   "metadata": {},
   "outputs": [],
   "source": [
    "features_train, features_valid, target_train,target_valid = \\\n",
    "    train_test_split(features, target, test_size=0.4, random_state=42)\n",
    "\n",
    "features_valid, features_test, target_valid, target_test = \\\n",
    "    train_test_split(features_valid, target_valid, test_size=0.5, random_state=42)"
   ]
  },
  {
   "cell_type": "code",
   "execution_count": 15,
   "metadata": {},
   "outputs": [
    {
     "data": {
      "text/plain": [
       "((6000, 11), (2000, 11), (2000, 11))"
      ]
     },
     "execution_count": 15,
     "metadata": {},
     "output_type": "execute_result"
    }
   ],
   "source": [
    "features_train.shape, features_valid.shape, features_test.shape"
   ]
  },
  {
   "cell_type": "markdown",
   "metadata": {},
   "source": [
    "## Борьба с дисбалансом"
   ]
  },
  {
   "cell_type": "code",
   "execution_count": 16,
   "metadata": {},
   "outputs": [
    {
     "data": {
      "text/plain": [
       "0    0.7963\n",
       "1    0.2037\n",
       "Name: exited, dtype: float64"
      ]
     },
     "execution_count": 16,
     "metadata": {},
     "output_type": "execute_result"
    }
   ],
   "source": [
    "target.value_counts(normalize=True)"
   ]
  },
  {
   "cell_type": "code",
   "execution_count": 17,
   "metadata": {},
   "outputs": [
    {
     "data": {
      "image/png": "[encoded data removed]",
      "text/plain": [
       "<Figure size 432x288 with 1 Axes>"
      ]
     },
     "metadata": {
      "needs_background": "light"
     },
     "output_type": "display_data"
    }
   ],
   "source": [
    "target.plot(kind='hist')\n",
    "plt.show()"
   ]
  },
  {
   "cell_type": "markdown",
   "metadata": {},
   "source": [
    "Дисбаланс классов видео невооружённым взглядом.  \n",
    "Но всё же сначала проверим модели с дисбалансом классов, а затем устраним его. "
   ]
  },
  {
   "cell_type": "markdown",
   "metadata": {},
   "source": [
    "### Масштабирование числовых признаков"
   ]
  },
  {
   "cell_type": "markdown",
   "metadata": {},
   "source": [
    "Проведём масштабирование для улучшения работы моделей"
   ]
  },
  {
   "cell_type": "code",
   "execution_count": 18,
   "metadata": {},
   "outputs": [
    {
     "data": {
      "text/plain": [
       "StandardScaler()"
      ]
     },
     "execution_count": 18,
     "metadata": {},
     "output_type": "execute_result"
    }
   ],
   "source": [
    "numeric = ['credit_score', 'age', 'tenure', 'balance', 'estimated_salary']\n",
    "scaler = StandardScaler()\n",
    "scaler.fit(features_train[numeric])"
   ]
  },
  {
   "cell_type": "code",
   "execution_count": 19,
   "metadata": {},
   "outputs": [],
   "source": [
    "scaled_features_train = features_train\n",
    "scaled_features_valid = features_valid\n",
    "scaled_features_test = features_test"
   ]
  },
  {
   "cell_type": "code",
   "execution_count": 20,
   "metadata": {},
   "outputs": [],
   "source": [
    "scaled_features_train[numeric] = scaler.transform(scaled_features_train[numeric])\n",
    "scaled_features_valid[numeric] = scaler.transform(scaled_features_valid[numeric])\n",
    "scaled_features_test[numeric] = scaler.transform(scaled_features_test[numeric])"
   ]
  },
  {
   "cell_type": "code",
   "execution_count": 21,
   "metadata": {
    "scrolled": true
   },
   "outputs": [
    {
     "data": {
      "text/html": [
       "<div>\n",
       "<style scoped>\n",
       "    .dataframe tbody tr th:only-of-type {\n",
       "        vertical-align: middle;\n",
       "    }\n",
       "\n",
       "    .dataframe tbody tr th {\n",
       "        vertical-align: top;\n",
       "    }\n",
       "\n",
       "    .dataframe thead th {\n",
       "        text-align: right;\n",
       "    }\n",
       "</style>\n",
       "<table border=\"1\" class=\"dataframe\">\n",
       "  <thead>\n",
       "    <tr style=\"text-align: right;\">\n",
       "      <th></th>\n",
       "      <th>credit_score</th>\n",
       "      <th>age</th>\n",
       "      <th>tenure</th>\n",
       "      <th>balance</th>\n",
       "      <th>num_of_products</th>\n",
       "      <th>has_cr_card</th>\n",
       "      <th>is_active_member</th>\n",
       "      <th>estimated_salary</th>\n",
       "      <th>geography_germany</th>\n",
       "      <th>geography_spain</th>\n",
       "      <th>gender_male</th>\n",
       "    </tr>\n",
       "  </thead>\n",
       "  <tbody>\n",
       "    <tr>\n",
       "      <th>8029</th>\n",
       "      <td>0.192066</td>\n",
       "      <td>1.068808</td>\n",
       "      <td>1.097514</td>\n",
       "      <td>-1.214721</td>\n",
       "      <td>1</td>\n",
       "      <td>0</td>\n",
       "      <td>1</td>\n",
       "      <td>-1.709387</td>\n",
       "      <td>0</td>\n",
       "      <td>1</td>\n",
       "      <td>1</td>\n",
       "    </tr>\n",
       "    <tr>\n",
       "      <th>608</th>\n",
       "      <td>0.482566</td>\n",
       "      <td>-0.369459</td>\n",
       "      <td>0.012657</td>\n",
       "      <td>-1.214721</td>\n",
       "      <td>2</td>\n",
       "      <td>1</td>\n",
       "      <td>1</td>\n",
       "      <td>-0.395112</td>\n",
       "      <td>0</td>\n",
       "      <td>0</td>\n",
       "      <td>1</td>\n",
       "    </tr>\n",
       "    <tr>\n",
       "      <th>2604</th>\n",
       "      <td>-1.167062</td>\n",
       "      <td>-1.328303</td>\n",
       "      <td>0.012657</td>\n",
       "      <td>0.642751</td>\n",
       "      <td>1</td>\n",
       "      <td>1</td>\n",
       "      <td>0</td>\n",
       "      <td>-1.521327</td>\n",
       "      <td>0</td>\n",
       "      <td>0</td>\n",
       "      <td>1</td>\n",
       "    </tr>\n",
       "  </tbody>\n",
       "</table>\n",
       "</div>"
      ],
      "text/plain": [
       "      credit_score       age    tenure   balance  num_of_products  \\\n",
       "8029      0.192066  1.068808  1.097514 -1.214721                1   \n",
       "608       0.482566 -0.369459  0.012657 -1.214721                2   \n",
       "2604     -1.167062 -1.328303  0.012657  0.642751                1   \n",
       "\n",
       "      has_cr_card  is_active_member  estimated_salary  geography_germany  \\\n",
       "8029            0                 1         -1.709387                  0   \n",
       "608             1                 1         -0.395112                  0   \n",
       "2604            1                 0         -1.521327                  0   \n",
       "\n",
       "      geography_spain  gender_male  \n",
       "8029                1            1  \n",
       "608                 0            1  \n",
       "2604                0            1  "
      ]
     },
     "execution_count": 21,
     "metadata": {},
     "output_type": "execute_result"
    }
   ],
   "source": [
    "scaled_features_train.sample(3)"
   ]
  },
  {
   "cell_type": "markdown",
   "metadata": {},
   "source": [
    "### Логистическая регрессия с дисбалансом классов"
   ]
  },
  {
   "cell_type": "markdown",
   "metadata": {},
   "source": [
    "Для начала взглянем на результаты двух моделей, не устраняя дисбаланс классов"
   ]
  },
  {
   "cell_type": "code",
   "execution_count": 22,
   "metadata": {},
   "outputs": [],
   "source": [
    "logreg = LogisticRegression(random_state=42)"
   ]
  },
  {
   "cell_type": "code",
   "execution_count": 23,
   "metadata": {},
   "outputs": [
    {
     "data": {
      "text/plain": [
       "LogisticRegression(random_state=42)"
      ]
     },
     "execution_count": 23,
     "metadata": {},
     "output_type": "execute_result"
    }
   ],
   "source": [
    "logreg.fit(scaled_features_train, target_train)"
   ]
  },
  {
   "cell_type": "code",
   "execution_count": 24,
   "metadata": {},
   "outputs": [
    {
     "data": {
      "text/plain": [
       "0.29615384615384616"
      ]
     },
     "execution_count": 24,
     "metadata": {},
     "output_type": "execute_result"
    }
   ],
   "source": [
    "predicted_valid = logreg.predict(scaled_features_valid)\n",
    "f1_score(target_valid, predicted_valid)"
   ]
  },
  {
   "cell_type": "code",
   "execution_count": 25,
   "metadata": {},
   "outputs": [
    {
     "data": {
      "text/plain": [
       "0.7519818063677712"
      ]
     },
     "execution_count": 25,
     "metadata": {},
     "output_type": "execute_result"
    }
   ],
   "source": [
    "roc_auc_score(target_valid, logreg.predict_proba(scaled_features_valid)[:, 1])"
   ]
  },
  {
   "cell_type": "markdown",
   "metadata": {},
   "source": [
    "### Случайный лес с дисбалансом классов"
   ]
  },
  {
   "cell_type": "code",
   "execution_count": 26,
   "metadata": {},
   "outputs": [],
   "source": [
    "forest = RandomForestClassifier(random_state=42)"
   ]
  },
  {
   "cell_type": "code",
   "execution_count": 27,
   "metadata": {},
   "outputs": [
    {
     "data": {
      "text/plain": [
       "RandomForestClassifier(random_state=42)"
      ]
     },
     "execution_count": 27,
     "metadata": {},
     "output_type": "execute_result"
    }
   ],
   "source": [
    "forest.fit(scaled_features_train, target_train)"
   ]
  },
  {
   "cell_type": "code",
   "execution_count": 28,
   "metadata": {
    "scrolled": true
   },
   "outputs": [
    {
     "data": {
      "text/plain": [
       "0.5460526315789473"
      ]
     },
     "execution_count": 28,
     "metadata": {},
     "output_type": "execute_result"
    }
   ],
   "source": [
    "predicted_valid = forest.predict(scaled_features_valid)\n",
    "f1_score(target_valid, predicted_valid)"
   ]
  },
  {
   "cell_type": "code",
   "execution_count": 29,
   "metadata": {},
   "outputs": [
    {
     "data": {
      "text/plain": [
       "0.8285209551656919"
      ]
     },
     "execution_count": 29,
     "metadata": {},
     "output_type": "execute_result"
    }
   ],
   "source": [
    "roc_auc_score(target_valid, forest.predict_proba(scaled_features_valid)[:, 1])"
   ]
  },
  {
   "cell_type": "markdown",
   "metadata": {},
   "source": [
    "В данном случае модель случайного леса показала себя с лучшей стороны."
   ]
  },
  {
   "cell_type": "markdown",
   "metadata": {},
   "source": [
    "### Логистическая регрессия с балансировкой весов классов"
   ]
  },
  {
   "cell_type": "code",
   "execution_count": 30,
   "metadata": {},
   "outputs": [
    {
     "data": {
      "text/plain": [
       "LogisticRegression(class_weight='balanced', random_state=42, solver='liblinear')"
      ]
     },
     "execution_count": 30,
     "metadata": {},
     "output_type": "execute_result"
    }
   ],
   "source": [
    "balanced_logreg = LogisticRegression(random_state=42, solver='liblinear', class_weight='balanced')\n",
    "balanced_logreg.fit(scaled_features_train, target_train)"
   ]
  },
  {
   "cell_type": "code",
   "execution_count": 31,
   "metadata": {},
   "outputs": [],
   "source": [
    "balanced_predicted_valid = balanced_logreg.predict(scaled_features_valid)"
   ]
  },
  {
   "cell_type": "code",
   "execution_count": 32,
   "metadata": {},
   "outputs": [
    {
     "data": {
      "text/plain": [
       "0.46140350877192987"
      ]
     },
     "execution_count": 32,
     "metadata": {},
     "output_type": "execute_result"
    }
   ],
   "source": [
    "f1_score(target_valid, balanced_predicted_valid)"
   ]
  },
  {
   "cell_type": "code",
   "execution_count": 33,
   "metadata": {},
   "outputs": [
    {
     "data": {
      "text/plain": [
       "0.7528476283300845"
      ]
     },
     "execution_count": 33,
     "metadata": {},
     "output_type": "execute_result"
    }
   ],
   "source": [
    "roc_auc_score(target_valid, balanced_logreg.predict_proba(scaled_features_valid)[:, 1])"
   ]
  },
  {
   "cell_type": "markdown",
   "metadata": {},
   "source": [
    "Как видим, балансировка весов классов положительно повлияла на F1-меры модели логистической регрессии, однако ROC-AUC осталя почти неизменным"
   ]
  },
  {
   "cell_type": "markdown",
   "metadata": {},
   "source": [
    "### Логистическая регрессия с устранением дисбаланса классов через upsampling"
   ]
  },
  {
   "cell_type": "code",
   "execution_count": 34,
   "metadata": {},
   "outputs": [],
   "source": [
    "def upsample(features, target, repeat):\n",
    "    features_zeros = features[target == 0]\n",
    "    features_ones = features[target == 1]\n",
    "    target_zeros = target[target == 0]\n",
    "    target_ones = target[target == 1]\n",
    "    \n",
    "    features_upsampled = pd.concat([features_zeros] + [features_ones] * repeat)\n",
    "    target_upsampled = pd.concat([target_zeros] + [target_ones] * repeat)\n",
    "  \n",
    "    return features_upsampled, target_upsampled"
   ]
  },
  {
   "cell_type": "code",
   "execution_count": 35,
   "metadata": {},
   "outputs": [],
   "source": [
    "features_upsampled, target_upsampled = upsample(scaled_features_train, target_train, 4)"
   ]
  },
  {
   "cell_type": "code",
   "execution_count": 36,
   "metadata": {},
   "outputs": [],
   "source": [
    "features_upsampled, target_upsampled = shuffle(features_upsampled, target_upsampled, random_state=42)"
   ]
  },
  {
   "cell_type": "code",
   "execution_count": 37,
   "metadata": {},
   "outputs": [
    {
     "data": {
      "text/plain": [
       "LogisticRegression(random_state=42)"
      ]
     },
     "execution_count": 37,
     "metadata": {},
     "output_type": "execute_result"
    }
   ],
   "source": [
    "upsampled_logreg = LogisticRegression(random_state=42)\n",
    "upsampled_logreg.fit(features_upsampled, target_upsampled)"
   ]
  },
  {
   "cell_type": "code",
   "execution_count": 38,
   "metadata": {},
   "outputs": [],
   "source": [
    "upsampled_predicted_valid = upsampled_logreg.predict(scaled_features_valid)"
   ]
  },
  {
   "cell_type": "code",
   "execution_count": 39,
   "metadata": {},
   "outputs": [
    {
     "data": {
      "text/plain": [
       "0.46379310344827585"
      ]
     },
     "execution_count": 39,
     "metadata": {},
     "output_type": "execute_result"
    }
   ],
   "source": [
    "f1_score(target_valid, upsampled_predicted_valid)"
   ]
  },
  {
   "cell_type": "code",
   "execution_count": 40,
   "metadata": {},
   "outputs": [
    {
     "data": {
      "text/plain": [
       "0.7528151397011047"
      ]
     },
     "execution_count": 40,
     "metadata": {},
     "output_type": "execute_result"
    }
   ],
   "source": [
    "roc_auc_score(target_valid, upsampled_logreg.predict_proba(scaled_features_valid)[:, 1])"
   ]
  },
  {
   "cell_type": "markdown",
   "metadata": {},
   "source": [
    "Балансировка классов через upsampling показала схожие результаты"
   ]
  },
  {
   "cell_type": "markdown",
   "metadata": {},
   "source": [
    "### Случайный лес с балансировкой классов"
   ]
  },
  {
   "cell_type": "markdown",
   "metadata": {},
   "source": [
    "Теперь посмотрим на модель случайного леса с балансировкой классов"
   ]
  },
  {
   "cell_type": "code",
   "execution_count": 41,
   "metadata": {},
   "outputs": [
    {
     "data": {
      "text/plain": [
       "RandomForestClassifier(random_state=42)"
      ]
     },
     "execution_count": 41,
     "metadata": {},
     "output_type": "execute_result"
    }
   ],
   "source": [
    "forest = RandomForestClassifier(random_state=42)\n",
    "forest.fit(features_upsampled, target_upsampled)"
   ]
  },
  {
   "cell_type": "code",
   "execution_count": 42,
   "metadata": {},
   "outputs": [],
   "source": [
    "predicted_valid_forest = forest.predict(scaled_features_valid)"
   ]
  },
  {
   "cell_type": "code",
   "execution_count": 43,
   "metadata": {},
   "outputs": [
    {
     "data": {
      "text/plain": [
       "0.562942008486563"
      ]
     },
     "execution_count": 43,
     "metadata": {},
     "output_type": "execute_result"
    }
   ],
   "source": [
    "f1_score(target_valid, predicted_valid_forest)"
   ]
  },
  {
   "cell_type": "code",
   "execution_count": 44,
   "metadata": {},
   "outputs": [
    {
     "data": {
      "text/plain": [
       "0.8286362897985705"
      ]
     },
     "execution_count": 44,
     "metadata": {},
     "output_type": "execute_result"
    }
   ],
   "source": [
    "roc_auc_score(target_valid, forest.predict_proba(scaled_features_valid)[:, 1])"
   ]
  },
  {
   "cell_type": "markdown",
   "metadata": {},
   "source": [
    "Наивысший результат.  \n",
    "Следовательно, эту модель и будем использовать, но сначала подберём гиперпараметры."
   ]
  },
  {
   "cell_type": "markdown",
   "metadata": {},
   "source": [
    "### Подбор гиперпараметров"
   ]
  },
  {
   "cell_type": "code",
   "execution_count": 45,
   "metadata": {},
   "outputs": [
    {
     "name": "stdout",
     "output_type": "stream",
     "text": [
      "Наиболее высокий показатель F1 = 0.5850515463917525 у модели случайного леса с параметрами:\n",
      "n_estimators: 95, max_depth: 13\n"
     ]
    }
   ],
   "source": [
    "best_f1 = 0\n",
    "\n",
    "for est in range(5, 101, 10):\n",
    "    for depth in range(1, 20, 1):\n",
    "        model = RandomForestClassifier(n_estimators=est, max_depth=depth, random_state=42)\n",
    "        model.fit(features_upsampled, target_upsampled)\n",
    "        predicted_valid = model.predict(scaled_features_valid)\n",
    "        f1 = f1_score(predicted_valid, target_valid)\n",
    "        if f1 > best_f1:\n",
    "            best_f1 = f1\n",
    "            best_est = est\n",
    "            best_depth = depth\n",
    "\n",
    "print(f'Наиболее высокий показатель F1 = {best_f1} у модели случайного леса с параметрами:')\n",
    "print(f'n_estimators: {best_est}, max_depth: {best_depth}')"
   ]
  },
  {
   "cell_type": "code",
   "execution_count": 52,
   "metadata": {},
   "outputs": [
    {
     "data": {
      "text/plain": [
       "0.8330181936322287"
      ]
     },
     "execution_count": 52,
     "metadata": {},
     "output_type": "execute_result"
    }
   ],
   "source": [
    "roc_auc_score(target_valid, model.predict_proba(scaled_features_valid)[:, 1])"
   ]
  },
  {
   "cell_type": "markdown",
   "metadata": {},
   "source": [
    "Подбор гиперпараметров позволил повысить показатели как F1-меры, так и метрики ROC-AUC."
   ]
  },
  {
   "cell_type": "markdown",
   "metadata": {},
   "source": [
    "## Тестирование модели"
   ]
  },
  {
   "cell_type": "code",
   "execution_count": 46,
   "metadata": {},
   "outputs": [
    {
     "name": "stdout",
     "output_type": "stream",
     "text": [
      "F1 лучшей модели на тестовой выборке 0.6362573099415205\n"
     ]
    }
   ],
   "source": [
    "model = RandomForestClassifier(n_estimators=best_est, max_depth=best_depth, random_state=42)\n",
    "model.fit(features_upsampled, target_upsampled)\n",
    "predicted_test = model.predict(scaled_features_test)\n",
    "print('F1 лучшей модели на тестовой выборке', f1_score(predicted_test, target_test))"
   ]
  },
  {
   "cell_type": "markdown",
   "metadata": {},
   "source": [
    "Теперь проверим модель на адекватность"
   ]
  },
  {
   "cell_type": "code",
   "execution_count": 47,
   "metadata": {},
   "outputs": [],
   "source": [
    "target_zeros = pd.Series(list(0 for i in range(len(target_test))))"
   ]
  },
  {
   "cell_type": "code",
   "execution_count": 48,
   "metadata": {},
   "outputs": [
    {
     "name": "stdout",
     "output_type": "stream",
     "text": [
      "Accuracy оригинальной модели: 0.8445\n",
      "Accuracy с нулями: 0.785\n"
     ]
    }
   ],
   "source": [
    "print('Accuracy оригинальной модели:', accuracy_score(target_test, predicted_test))\n",
    "print('Accuracy с нулями:', accuracy_score(target_test, target_zeros))"
   ]
  },
  {
   "cell_type": "markdown",
   "metadata": {},
   "source": [
    "**Вывод:** Оригинальная модель оказалась точнее, значит можем считать её адекватной."
   ]
  },
  {
   "cell_type": "markdown",
   "metadata": {},
   "source": [
    "### ROC-кривая"
   ]
  },
  {
   "cell_type": "markdown",
   "metadata": {},
   "source": [
    "Напоследок построим ROC-кривую и выведем значение AUC-ROC"
   ]
  },
  {
   "cell_type": "code",
   "execution_count": 49,
   "metadata": {},
   "outputs": [],
   "source": [
    "probabilities_test = model.predict_proba(scaled_features_test)\n",
    "probabilities_one_test = probabilities_test[:, 1]"
   ]
  },
  {
   "cell_type": "code",
   "execution_count": 50,
   "metadata": {},
   "outputs": [
    {
     "data": {
      "image/png": "[encoded data removed]",
      "text/plain": [
       "<Figure size 288x288 with 1 Axes>"
      ]
     },
     "metadata": {
      "needs_background": "light"
     },
     "output_type": "display_data"
    }
   ],
   "source": [
    "fpr, tpr, thresholds = roc_curve(target_test, probabilities_one_test)\n",
    "plt.figure(figsize=(4,4))\n",
    "\n",
    "plt.plot(fpr, tpr)\n",
    "plt.plot([0, 1], [0, 1], linestyle='--')\n",
    "plt.title('ROC-кривая')\n",
    "plt.xlabel('False Positive Rate')\n",
    "plt.ylabel('True Positive Rate')\n",
    "plt.show()"
   ]
  },
  {
   "cell_type": "code",
   "execution_count": 51,
   "metadata": {
    "scrolled": true
   },
   "outputs": [
    {
     "name": "stdout",
     "output_type": "stream",
     "text": [
      "AUC-ROC = 0.8646452377425566\n"
     ]
    }
   ],
   "source": [
    "print('AUC-ROC =', roc_auc_score(target_test, probabilities_one_test))"
   ]
  },
  {
   "cell_type": "markdown",
   "metadata": {},
   "source": [
    "## Общий вывод"
   ]
  },
  {
   "cell_type": "markdown",
   "metadata": {},
   "source": [
    "В результате работы нам удалось найти модель прогнозирования оттока клиентов банка с наиболее высоким значением F1-меры. Всему этому поспобоствовали: перевод категориальных признаков в дамми-переменные, устранение дисбаланса классов с помощью upsampling'a.  \n",
    "\n",
    "Наилучшей моделью оказался RandomForestClassifier с 35 деревьями и глубиной 15. \n",
    "- F1 на тестовой выборке =  0.636\n",
    "- AUC-ROC = 0.864\n"
   ]
  }
 ],
 "metadata": {
  "ExecuteTimeLog": [
   {
    "duration": 1605,
    "start_time": "2022-12-15T09:58:10.189Z"
   },
   {
    "duration": 108,
    "start_time": "2022-12-15T09:58:51.776Z"
   },
   {
    "duration": 53,
    "start_time": "2022-12-15T09:59:02.890Z"
   },
   {
    "duration": 13,
    "start_time": "2022-12-15T09:59:40.204Z"
   },
   {
    "duration": 4,
    "start_time": "2022-12-15T10:03:22.617Z"
   },
   {
    "duration": 4,
    "start_time": "2022-12-15T10:03:25.195Z"
   },
   {
    "duration": 54,
    "start_time": "2022-12-15T10:03:25.438Z"
   },
   {
    "duration": 13,
    "start_time": "2022-12-15T10:03:26.167Z"
   },
   {
    "duration": 5,
    "start_time": "2022-12-15T10:05:51.066Z"
   },
   {
    "duration": 4,
    "start_time": "2022-12-15T10:07:52.048Z"
   },
   {
    "duration": 13,
    "start_time": "2022-12-15T10:07:59.814Z"
   },
   {
    "duration": 5,
    "start_time": "2022-12-15T10:08:29.391Z"
   },
   {
    "duration": 21,
    "start_time": "2022-12-15T10:08:30.223Z"
   },
   {
    "duration": 3,
    "start_time": "2022-12-15T10:09:14.957Z"
   },
   {
    "duration": 13,
    "start_time": "2022-12-15T10:09:16.188Z"
   },
   {
    "duration": 1974,
    "start_time": "2022-12-15T10:11:03.224Z"
   },
   {
    "duration": 1850,
    "start_time": "2022-12-15T10:11:11.444Z"
   },
   {
    "duration": 5,
    "start_time": "2022-12-15T10:17:35.778Z"
   },
   {
    "duration": 1876,
    "start_time": "2022-12-15T10:17:37.521Z"
   },
   {
    "duration": 17,
    "start_time": "2022-12-15T10:18:55.255Z"
   },
   {
    "duration": 49,
    "start_time": "2022-12-15T10:29:08.172Z"
   },
   {
    "duration": 1032,
    "start_time": "2022-12-15T10:31:07.081Z"
   },
   {
    "duration": 709,
    "start_time": "2022-12-15T10:31:15.341Z"
   },
   {
    "duration": 841,
    "start_time": "2022-12-15T10:31:21.718Z"
   },
   {
    "duration": 4,
    "start_time": "2022-12-15T10:31:31.167Z"
   },
   {
    "duration": 50,
    "start_time": "2022-12-15T10:31:31.534Z"
   },
   {
    "duration": 5,
    "start_time": "2022-12-15T10:31:31.897Z"
   },
   {
    "duration": 16,
    "start_time": "2022-12-15T10:31:32.272Z"
   },
   {
    "duration": 5,
    "start_time": "2022-12-15T10:31:32.733Z"
   },
   {
    "duration": 4,
    "start_time": "2022-12-15T10:31:32.899Z"
   },
   {
    "duration": 4,
    "start_time": "2022-12-15T10:31:33.087Z"
   },
   {
    "duration": 14,
    "start_time": "2022-12-15T10:31:33.378Z"
   },
   {
    "duration": 2245,
    "start_time": "2022-12-15T10:31:34.088Z"
   },
   {
    "duration": 9,
    "start_time": "2022-12-15T10:31:36.568Z"
   },
   {
    "duration": 16,
    "start_time": "2022-12-15T10:32:31.165Z"
   },
   {
    "duration": 15,
    "start_time": "2022-12-15T10:35:54.195Z"
   },
   {
    "duration": 4,
    "start_time": "2022-12-15T10:36:25.305Z"
   },
   {
    "duration": 16,
    "start_time": "2022-12-15T10:36:29.279Z"
   },
   {
    "duration": 13,
    "start_time": "2022-12-15T10:36:39.156Z"
   },
   {
    "duration": 13,
    "start_time": "2022-12-15T10:36:40.807Z"
   },
   {
    "duration": 13,
    "start_time": "2022-12-15T10:36:43.563Z"
   },
   {
    "duration": 1455,
    "start_time": "2022-12-15T10:36:55.892Z"
   },
   {
    "duration": 55,
    "start_time": "2022-12-15T10:36:57.349Z"
   },
   {
    "duration": 4,
    "start_time": "2022-12-15T10:36:57.405Z"
   },
   {
    "duration": 15,
    "start_time": "2022-12-15T10:36:57.411Z"
   },
   {
    "duration": 4,
    "start_time": "2022-12-15T10:36:57.427Z"
   },
   {
    "duration": 5,
    "start_time": "2022-12-15T10:36:57.433Z"
   },
   {
    "duration": 8,
    "start_time": "2022-12-15T10:36:57.439Z"
   },
   {
    "duration": 15,
    "start_time": "2022-12-15T10:36:57.449Z"
   },
   {
    "duration": 1996,
    "start_time": "2022-12-15T10:36:57.466Z"
   },
   {
    "duration": 13,
    "start_time": "2022-12-15T10:36:59.465Z"
   },
   {
    "duration": 7,
    "start_time": "2022-12-15T10:36:59.480Z"
   },
   {
    "duration": 20,
    "start_time": "2022-12-15T10:39:16.230Z"
   },
   {
    "duration": 27,
    "start_time": "2022-12-15T10:40:14.775Z"
   },
   {
    "duration": 4,
    "start_time": "2022-12-15T10:45:23.174Z"
   },
   {
    "duration": 6,
    "start_time": "2022-12-15T10:46:27.783Z"
   },
   {
    "duration": 9,
    "start_time": "2022-12-15T10:47:46.172Z"
   },
   {
    "duration": 5,
    "start_time": "2022-12-15T10:48:07.121Z"
   },
   {
    "duration": 52,
    "start_time": "2022-12-15T14:38:28.826Z"
   },
   {
    "duration": 1661,
    "start_time": "2022-12-15T14:38:41.621Z"
   },
   {
    "duration": 108,
    "start_time": "2022-12-15T14:38:43.284Z"
   },
   {
    "duration": 4,
    "start_time": "2022-12-15T14:38:43.394Z"
   },
   {
    "duration": 17,
    "start_time": "2022-12-15T14:38:43.400Z"
   },
   {
    "duration": 4,
    "start_time": "2022-12-15T14:38:43.419Z"
   },
   {
    "duration": 8,
    "start_time": "2022-12-15T14:38:43.425Z"
   },
   {
    "duration": 6,
    "start_time": "2022-12-15T14:38:43.435Z"
   },
   {
    "duration": 17,
    "start_time": "2022-12-15T14:38:43.443Z"
   },
   {
    "duration": 2082,
    "start_time": "2022-12-15T14:38:43.462Z"
   },
   {
    "duration": 14,
    "start_time": "2022-12-15T14:38:45.547Z"
   },
   {
    "duration": 8,
    "start_time": "2022-12-15T14:38:45.563Z"
   },
   {
    "duration": 24,
    "start_time": "2022-12-15T14:38:45.573Z"
   },
   {
    "duration": 6,
    "start_time": "2022-12-15T14:38:45.598Z"
   },
   {
    "duration": 12,
    "start_time": "2022-12-15T14:38:45.606Z"
   },
   {
    "duration": 14,
    "start_time": "2022-12-15T14:38:45.619Z"
   },
   {
    "duration": 9,
    "start_time": "2022-12-15T14:38:45.635Z"
   },
   {
    "duration": 165,
    "start_time": "2022-12-15T14:39:46.173Z"
   },
   {
    "duration": 9,
    "start_time": "2022-12-15T14:43:09.832Z"
   },
   {
    "duration": 3,
    "start_time": "2022-12-15T14:45:31.757Z"
   },
   {
    "duration": 21,
    "start_time": "2022-12-15T14:46:19.632Z"
   },
   {
    "duration": 114,
    "start_time": "2022-12-15T14:46:37.834Z"
   },
   {
    "duration": 13,
    "start_time": "2022-12-15T14:46:45.377Z"
   },
   {
    "duration": 2,
    "start_time": "2022-12-15T14:48:51.103Z"
   },
   {
    "duration": 73,
    "start_time": "2022-12-15T14:48:51.546Z"
   },
   {
    "duration": 9,
    "start_time": "2022-12-15T14:48:52.296Z"
   },
   {
    "duration": 13,
    "start_time": "2022-12-15T14:49:16.107Z"
   },
   {
    "duration": 59,
    "start_time": "2022-12-15T14:49:32.854Z"
   },
   {
    "duration": 3,
    "start_time": "2022-12-15T14:54:37.194Z"
   },
   {
    "duration": 727,
    "start_time": "2022-12-15T14:54:37.491Z"
   },
   {
    "duration": 170,
    "start_time": "2022-12-15T14:54:38.935Z"
   },
   {
    "duration": 58,
    "start_time": "2022-12-15T14:54:39.639Z"
   },
   {
    "duration": 4,
    "start_time": "2022-12-15T14:57:02.240Z"
   },
   {
    "duration": 9,
    "start_time": "2022-12-15T14:57:03.005Z"
   },
   {
    "duration": 7,
    "start_time": "2022-12-15T14:57:03.560Z"
   },
   {
    "duration": 184,
    "start_time": "2022-12-15T15:03:14.135Z"
   },
   {
    "duration": 6,
    "start_time": "2022-12-15T15:03:14.592Z"
   },
   {
    "duration": 6,
    "start_time": "2022-12-15T15:03:15.690Z"
   },
   {
    "duration": 11,
    "start_time": "2022-12-15T15:05:18.900Z"
   },
   {
    "duration": 20,
    "start_time": "2022-12-15T15:05:46.288Z"
   },
   {
    "duration": 7,
    "start_time": "2022-12-15T15:05:47.513Z"
   },
   {
    "duration": 7,
    "start_time": "2022-12-15T15:05:48.304Z"
   },
   {
    "duration": 1023,
    "start_time": "2022-12-15T15:57:29.971Z"
   },
   {
    "duration": 59,
    "start_time": "2022-12-15T15:58:23.971Z"
   },
   {
    "duration": 7,
    "start_time": "2022-12-15T15:58:37.630Z"
   },
   {
    "duration": 959,
    "start_time": "2022-12-15T16:02:36.419Z"
   },
   {
    "duration": 52,
    "start_time": "2022-12-15T16:02:38.283Z"
   },
   {
    "duration": 7,
    "start_time": "2022-12-15T16:02:39.378Z"
   },
   {
    "duration": 864,
    "start_time": "2022-12-15T16:02:50.182Z"
   },
   {
    "duration": 62,
    "start_time": "2022-12-15T16:02:51.624Z"
   },
   {
    "duration": 6,
    "start_time": "2022-12-15T16:02:52.423Z"
   },
   {
    "duration": 915,
    "start_time": "2022-12-15T16:02:56.291Z"
   },
   {
    "duration": 52,
    "start_time": "2022-12-15T16:02:57.588Z"
   },
   {
    "duration": 6,
    "start_time": "2022-12-15T16:02:58.402Z"
   },
   {
    "duration": 21486,
    "start_time": "2022-12-15T16:06:34.833Z"
   },
   {
    "duration": 10,
    "start_time": "2022-12-15T16:06:59.913Z"
   },
   {
    "duration": 16,
    "start_time": "2022-12-15T16:07:06.716Z"
   },
   {
    "duration": 11,
    "start_time": "2022-12-15T16:07:24.832Z"
   },
   {
    "duration": 17,
    "start_time": "2022-12-15T16:07:38.126Z"
   },
   {
    "duration": 12,
    "start_time": "2022-12-15T16:07:46.494Z"
   },
   {
    "duration": 693,
    "start_time": "2022-12-15T16:08:37.948Z"
   },
   {
    "duration": 58,
    "start_time": "2022-12-15T16:08:42.800Z"
   },
   {
    "duration": 7,
    "start_time": "2022-12-15T16:08:43.250Z"
   },
   {
    "duration": 1017,
    "start_time": "2022-12-15T16:08:52.781Z"
   },
   {
    "duration": 64,
    "start_time": "2022-12-15T16:08:53.800Z"
   },
   {
    "duration": 6,
    "start_time": "2022-12-15T16:08:54.340Z"
   },
   {
    "duration": 54196,
    "start_time": "2022-12-15T16:09:13.091Z"
   },
   {
    "duration": 10,
    "start_time": "2022-12-15T16:10:07.289Z"
   },
   {
    "duration": 911,
    "start_time": "2022-12-15T16:10:54.170Z"
   },
   {
    "duration": 102641,
    "start_time": "2022-12-15T16:11:50.492Z"
   },
   {
    "duration": 11,
    "start_time": "2022-12-15T16:13:33.135Z"
   },
   {
    "duration": 372,
    "start_time": "2022-12-15T16:14:04.583Z"
   },
   {
    "duration": 100644,
    "start_time": "2022-12-15T16:18:38.886Z"
   },
   {
    "duration": 364,
    "start_time": "2022-12-15T16:20:54.905Z"
   },
   {
    "duration": 46,
    "start_time": "2022-12-15T16:24:53.547Z"
   },
   {
    "duration": 107808,
    "start_time": "2022-12-15T16:26:44.704Z"
   },
   {
    "duration": 4,
    "start_time": "2022-12-15T16:28:32.514Z"
   },
   {
    "duration": 76168,
    "start_time": "2022-12-15T16:29:14.844Z"
   },
   {
    "duration": 71,
    "start_time": "2022-12-15T16:30:38.180Z"
   },
   {
    "duration": 14,
    "start_time": "2022-12-15T16:31:40.173Z"
   },
   {
    "duration": 5,
    "start_time": "2022-12-15T16:32:10.344Z"
   },
   {
    "duration": 161,
    "start_time": "2022-12-15T16:32:15.564Z"
   },
   {
    "duration": 170,
    "start_time": "2022-12-15T16:32:27.800Z"
   },
   {
    "duration": 7,
    "start_time": "2022-12-15T16:33:04.465Z"
   },
   {
    "duration": 7,
    "start_time": "2022-12-15T16:33:09.000Z"
   },
   {
    "duration": 5,
    "start_time": "2022-12-15T16:35:53.733Z"
   },
   {
    "duration": 5,
    "start_time": "2022-12-15T16:38:57.649Z"
   },
   {
    "duration": 7,
    "start_time": "2022-12-15T16:38:58.744Z"
   },
   {
    "duration": 1589,
    "start_time": "2022-12-15T17:01:47.322Z"
   },
   {
    "duration": 60,
    "start_time": "2022-12-15T17:01:48.913Z"
   },
   {
    "duration": 5,
    "start_time": "2022-12-15T17:01:48.975Z"
   },
   {
    "duration": 26,
    "start_time": "2022-12-15T17:01:48.982Z"
   },
   {
    "duration": 5,
    "start_time": "2022-12-15T17:01:49.009Z"
   },
   {
    "duration": 9,
    "start_time": "2022-12-15T17:01:49.016Z"
   },
   {
    "duration": 11,
    "start_time": "2022-12-15T17:01:49.027Z"
   },
   {
    "duration": 18,
    "start_time": "2022-12-15T17:01:49.040Z"
   },
   {
    "duration": 2211,
    "start_time": "2022-12-15T17:01:49.061Z"
   },
   {
    "duration": 17,
    "start_time": "2022-12-15T17:01:51.275Z"
   },
   {
    "duration": 19,
    "start_time": "2022-12-15T17:01:51.295Z"
   },
   {
    "duration": 41,
    "start_time": "2022-12-15T17:01:51.316Z"
   },
   {
    "duration": 10,
    "start_time": "2022-12-15T17:01:51.359Z"
   },
   {
    "duration": 16,
    "start_time": "2022-12-15T17:01:51.371Z"
   },
   {
    "duration": 25,
    "start_time": "2022-12-15T17:01:51.389Z"
   },
   {
    "duration": 28,
    "start_time": "2022-12-15T17:01:51.416Z"
   },
   {
    "duration": 164,
    "start_time": "2022-12-15T17:01:51.447Z"
   },
   {
    "duration": 13,
    "start_time": "2022-12-15T17:01:51.613Z"
   },
   {
    "duration": 8,
    "start_time": "2022-12-15T17:01:51.628Z"
   },
   {
    "duration": 37,
    "start_time": "2022-12-15T17:01:51.639Z"
   },
   {
    "duration": 36,
    "start_time": "2022-12-15T17:01:51.678Z"
   },
   {
    "duration": 3,
    "start_time": "2022-12-15T17:01:51.716Z"
   },
   {
    "duration": 392,
    "start_time": "2022-12-15T17:01:51.721Z"
   },
   {
    "duration": 98,
    "start_time": "2022-12-15T17:01:52.115Z"
   },
   {
    "duration": 98,
    "start_time": "2022-12-15T17:01:52.217Z"
   },
   {
    "duration": 750,
    "start_time": "2022-12-15T17:01:52.317Z"
   },
   {
    "duration": 71,
    "start_time": "2022-12-15T17:01:53.069Z"
   },
   {
    "duration": 19,
    "start_time": "2022-12-15T17:01:53.144Z"
   },
   {
    "duration": 47,
    "start_time": "2022-12-15T17:01:53.165Z"
   },
   {
    "duration": 94,
    "start_time": "2022-12-15T17:01:53.227Z"
   },
   {
    "duration": 10,
    "start_time": "2022-12-15T17:01:53.323Z"
   },
   {
    "duration": 14,
    "start_time": "2022-12-15T17:01:53.335Z"
   },
   {
    "duration": 8,
    "start_time": "2022-12-15T17:01:53.351Z"
   },
   {
    "duration": 263,
    "start_time": "2022-12-15T17:01:53.360Z"
   },
   {
    "duration": 7,
    "start_time": "2022-12-15T17:01:53.711Z"
   },
   {
    "duration": 100,
    "start_time": "2022-12-15T17:01:53.720Z"
   },
   {
    "duration": 1109,
    "start_time": "2022-12-15T17:01:53.826Z"
   },
   {
    "duration": 63,
    "start_time": "2022-12-15T17:01:54.938Z"
   },
   {
    "duration": 8,
    "start_time": "2022-12-15T17:01:55.012Z"
   },
   {
    "duration": 74898,
    "start_time": "2022-12-15T17:01:55.022Z"
   },
   {
    "duration": 372,
    "start_time": "2022-12-15T17:03:09.922Z"
   },
   {
    "duration": 5,
    "start_time": "2022-12-15T17:03:10.297Z"
   },
   {
    "duration": 10,
    "start_time": "2022-12-15T17:03:10.304Z"
   },
   {
    "duration": 26,
    "start_time": "2022-12-15T17:03:10.316Z"
   },
   {
    "duration": 151,
    "start_time": "2022-12-15T17:03:10.343Z"
   },
   {
    "duration": 16,
    "start_time": "2022-12-15T17:03:10.496Z"
   },
   {
    "duration": 1704,
    "start_time": "2022-12-16T12:33:55.674Z"
   },
   {
    "duration": 58,
    "start_time": "2022-12-16T12:33:57.380Z"
   },
   {
    "duration": 4,
    "start_time": "2022-12-16T12:33:57.440Z"
   },
   {
    "duration": 16,
    "start_time": "2022-12-16T12:33:57.447Z"
   },
   {
    "duration": 5,
    "start_time": "2022-12-16T12:33:57.464Z"
   },
   {
    "duration": 9,
    "start_time": "2022-12-16T12:33:57.470Z"
   },
   {
    "duration": 7,
    "start_time": "2022-12-16T12:33:57.480Z"
   },
   {
    "duration": 36,
    "start_time": "2022-12-16T12:33:57.489Z"
   },
   {
    "duration": 2043,
    "start_time": "2022-12-16T12:33:57.528Z"
   },
   {
    "duration": 13,
    "start_time": "2022-12-16T12:33:59.574Z"
   },
   {
    "duration": 50,
    "start_time": "2022-12-16T12:33:59.588Z"
   },
   {
    "duration": 43,
    "start_time": "2022-12-16T12:33:59.640Z"
   },
   {
    "duration": 5,
    "start_time": "2022-12-16T12:33:59.685Z"
   },
   {
    "duration": 38,
    "start_time": "2022-12-16T12:33:59.692Z"
   },
   {
    "duration": 18,
    "start_time": "2022-12-16T12:33:59.733Z"
   },
   {
    "duration": 16,
    "start_time": "2022-12-16T12:33:59.753Z"
   },
   {
    "duration": 192,
    "start_time": "2022-12-16T12:33:59.770Z"
   },
   {
    "duration": 8,
    "start_time": "2022-12-16T12:33:59.964Z"
   },
   {
    "duration": 17,
    "start_time": "2022-12-16T12:33:59.974Z"
   },
   {
    "duration": 43,
    "start_time": "2022-12-16T12:33:59.993Z"
   },
   {
    "duration": 23,
    "start_time": "2022-12-16T12:34:00.038Z"
   },
   {
    "duration": 28,
    "start_time": "2022-12-16T12:34:00.063Z"
   },
   {
    "duration": 53,
    "start_time": "2022-12-16T12:34:00.093Z"
   },
   {
    "duration": 124,
    "start_time": "2022-12-16T12:34:00.223Z"
   },
   {
    "duration": 175,
    "start_time": "2022-12-16T12:34:00.349Z"
   },
   {
    "duration": 790,
    "start_time": "2022-12-16T12:34:00.527Z"
   },
   {
    "duration": 59,
    "start_time": "2022-12-16T12:34:01.319Z"
   },
   {
    "duration": 25,
    "start_time": "2022-12-16T12:34:01.381Z"
   },
   {
    "duration": 33,
    "start_time": "2022-12-16T12:34:01.408Z"
   },
   {
    "duration": 183,
    "start_time": "2022-12-16T12:34:01.444Z"
   },
   {
    "duration": 33,
    "start_time": "2022-12-16T12:34:01.629Z"
   },
   {
    "duration": 76,
    "start_time": "2022-12-16T12:34:01.665Z"
   },
   {
    "duration": 42,
    "start_time": "2022-12-16T12:34:01.743Z"
   },
   {
    "duration": 236,
    "start_time": "2022-12-16T12:34:01.786Z"
   },
   {
    "duration": 103,
    "start_time": "2022-12-16T12:34:02.024Z"
   },
   {
    "duration": 199,
    "start_time": "2022-12-16T12:34:02.129Z"
   },
   {
    "duration": 1021,
    "start_time": "2022-12-16T12:34:02.330Z"
   },
   {
    "duration": 72,
    "start_time": "2022-12-16T12:34:03.353Z"
   },
   {
    "duration": 7,
    "start_time": "2022-12-16T12:34:03.427Z"
   },
   {
    "duration": 75325,
    "start_time": "2022-12-16T12:34:03.436Z"
   },
   {
    "duration": 396,
    "start_time": "2022-12-16T12:35:18.762Z"
   },
   {
    "duration": 4,
    "start_time": "2022-12-16T12:35:19.160Z"
   },
   {
    "duration": 15,
    "start_time": "2022-12-16T12:35:19.167Z"
   },
   {
    "duration": 42,
    "start_time": "2022-12-16T12:35:19.184Z"
   },
   {
    "duration": 144,
    "start_time": "2022-12-16T12:35:19.229Z"
   },
   {
    "duration": 8,
    "start_time": "2022-12-16T12:35:19.374Z"
   },
   {
    "duration": 1659,
    "start_time": "2022-12-18T09:58:47.720Z"
   },
   {
    "duration": 101,
    "start_time": "2022-12-18T09:58:49.381Z"
   },
   {
    "duration": 4,
    "start_time": "2022-12-18T09:58:49.484Z"
   },
   {
    "duration": 14,
    "start_time": "2022-12-18T09:58:49.689Z"
   },
   {
    "duration": 6,
    "start_time": "2022-12-18T09:58:52.934Z"
   },
   {
    "duration": 3,
    "start_time": "2022-12-18T09:58:53.984Z"
   },
   {
    "duration": 6,
    "start_time": "2022-12-18T09:58:55.920Z"
   },
   {
    "duration": 4,
    "start_time": "2022-12-18T09:58:57.075Z"
   },
   {
    "duration": 6,
    "start_time": "2022-12-18T09:59:09.287Z"
   },
   {
    "duration": 4,
    "start_time": "2022-12-18T09:59:42.091Z"
   },
   {
    "duration": 49,
    "start_time": "2022-12-18T09:59:42.809Z"
   },
   {
    "duration": 4,
    "start_time": "2022-12-18T09:59:43.222Z"
   },
   {
    "duration": 13,
    "start_time": "2022-12-18T09:59:43.714Z"
   },
   {
    "duration": 5,
    "start_time": "2022-12-18T09:59:44.873Z"
   },
   {
    "duration": 4,
    "start_time": "2022-12-18T09:59:45.723Z"
   },
   {
    "duration": 7,
    "start_time": "2022-12-18T09:59:46.383Z"
   },
   {
    "duration": 4,
    "start_time": "2022-12-18T09:59:46.939Z"
   },
   {
    "duration": 5,
    "start_time": "2022-12-18T09:59:47.380Z"
   },
   {
    "duration": 1527,
    "start_time": "2022-12-18T10:06:41.104Z"
   },
   {
    "duration": 59,
    "start_time": "2022-12-18T10:06:42.634Z"
   },
   {
    "duration": 5,
    "start_time": "2022-12-18T10:06:42.695Z"
   },
   {
    "duration": 17,
    "start_time": "2022-12-18T10:06:42.702Z"
   },
   {
    "duration": 4,
    "start_time": "2022-12-18T10:06:42.720Z"
   },
   {
    "duration": 9,
    "start_time": "2022-12-18T10:06:42.726Z"
   },
   {
    "duration": 14,
    "start_time": "2022-12-18T10:06:42.736Z"
   },
   {
    "duration": 38,
    "start_time": "2022-12-18T10:06:42.751Z"
   },
   {
    "duration": 2334,
    "start_time": "2022-12-18T10:06:42.791Z"
   },
   {
    "duration": 21,
    "start_time": "2022-12-18T10:06:45.128Z"
   },
   {
    "duration": 10,
    "start_time": "2022-12-18T10:06:45.151Z"
   },
   {
    "duration": 26,
    "start_time": "2022-12-18T10:06:45.164Z"
   },
   {
    "duration": 8,
    "start_time": "2022-12-18T10:06:45.192Z"
   },
   {
    "duration": 12,
    "start_time": "2022-12-18T10:06:45.202Z"
   },
   {
    "duration": 6,
    "start_time": "2022-12-18T10:06:45.216Z"
   },
   {
    "duration": 11,
    "start_time": "2022-12-18T10:06:45.224Z"
   },
   {
    "duration": 197,
    "start_time": "2022-12-18T10:06:45.237Z"
   },
   {
    "duration": 12,
    "start_time": "2022-12-18T10:06:45.437Z"
   },
   {
    "duration": 7,
    "start_time": "2022-12-18T10:06:45.451Z"
   },
   {
    "duration": 36,
    "start_time": "2022-12-18T10:06:45.460Z"
   },
   {
    "duration": 13,
    "start_time": "2022-12-18T10:06:45.498Z"
   },
   {
    "duration": 5,
    "start_time": "2022-12-18T10:06:45.512Z"
   },
   {
    "duration": 165,
    "start_time": "2022-12-18T10:06:45.519Z"
   },
   {
    "duration": 94,
    "start_time": "2022-12-18T10:06:45.690Z"
   },
   {
    "duration": 310,
    "start_time": "2022-12-18T10:06:45.786Z"
   },
   {
    "duration": 0,
    "start_time": "2022-12-18T10:06:46.099Z"
   },
   {
    "duration": 0,
    "start_time": "2022-12-18T10:06:46.100Z"
   },
   {
    "duration": 0,
    "start_time": "2022-12-18T10:06:46.101Z"
   },
   {
    "duration": 0,
    "start_time": "2022-12-18T10:06:46.102Z"
   },
   {
    "duration": 0,
    "start_time": "2022-12-18T10:06:46.103Z"
   },
   {
    "duration": 1,
    "start_time": "2022-12-18T10:06:46.104Z"
   },
   {
    "duration": 0,
    "start_time": "2022-12-18T10:06:46.106Z"
   },
   {
    "duration": 0,
    "start_time": "2022-12-18T10:06:46.107Z"
   },
   {
    "duration": 0,
    "start_time": "2022-12-18T10:06:46.108Z"
   },
   {
    "duration": 0,
    "start_time": "2022-12-18T10:06:46.109Z"
   },
   {
    "duration": 0,
    "start_time": "2022-12-18T10:06:46.110Z"
   },
   {
    "duration": 0,
    "start_time": "2022-12-18T10:06:46.111Z"
   },
   {
    "duration": 0,
    "start_time": "2022-12-18T10:06:46.112Z"
   },
   {
    "duration": 0,
    "start_time": "2022-12-18T10:06:46.113Z"
   },
   {
    "duration": 0,
    "start_time": "2022-12-18T10:06:46.114Z"
   },
   {
    "duration": 0,
    "start_time": "2022-12-18T10:06:46.115Z"
   },
   {
    "duration": 0,
    "start_time": "2022-12-18T10:06:46.116Z"
   },
   {
    "duration": 0,
    "start_time": "2022-12-18T10:06:46.118Z"
   },
   {
    "duration": 0,
    "start_time": "2022-12-18T10:06:46.119Z"
   },
   {
    "duration": 0,
    "start_time": "2022-12-18T10:06:46.120Z"
   },
   {
    "duration": 0,
    "start_time": "2022-12-18T10:06:46.121Z"
   },
   {
    "duration": 0,
    "start_time": "2022-12-18T10:06:46.122Z"
   },
   {
    "duration": 24,
    "start_time": "2022-12-18T10:07:08.155Z"
   },
   {
    "duration": 3,
    "start_time": "2022-12-18T10:07:49.433Z"
   },
   {
    "duration": 731,
    "start_time": "2022-12-18T10:07:49.957Z"
   },
   {
    "duration": 59,
    "start_time": "2022-12-18T10:07:50.691Z"
   },
   {
    "duration": 64,
    "start_time": "2022-12-18T10:07:52.050Z"
   },
   {
    "duration": 19,
    "start_time": "2022-12-18T10:08:14.861Z"
   },
   {
    "duration": 5,
    "start_time": "2022-12-18T10:08:15.349Z"
   },
   {
    "duration": 6,
    "start_time": "2022-12-18T10:08:15.479Z"
   },
   {
    "duration": 12,
    "start_time": "2022-12-18T10:08:15.925Z"
   },
   {
    "duration": 5,
    "start_time": "2022-12-18T10:08:21.856Z"
   },
   {
    "duration": 9,
    "start_time": "2022-12-18T10:08:22.331Z"
   },
   {
    "duration": 6,
    "start_time": "2022-12-18T10:08:22.918Z"
   },
   {
    "duration": 211,
    "start_time": "2022-12-18T10:08:23.571Z"
   },
   {
    "duration": 7,
    "start_time": "2022-12-18T10:08:26.349Z"
   },
   {
    "duration": 6,
    "start_time": "2022-12-18T10:08:46.048Z"
   },
   {
    "duration": 11,
    "start_time": "2022-12-18T10:08:46.652Z"
   },
   {
    "duration": 1009,
    "start_time": "2022-12-18T10:09:04.203Z"
   },
   {
    "duration": 67,
    "start_time": "2022-12-18T10:09:05.215Z"
   },
   {
    "duration": 9,
    "start_time": "2022-12-18T10:09:06.033Z"
   },
   {
    "duration": 63,
    "start_time": "2022-12-18T10:09:06.782Z"
   },
   {
    "duration": 1462,
    "start_time": "2022-12-18T10:10:37.245Z"
   },
   {
    "duration": 56,
    "start_time": "2022-12-18T10:10:38.709Z"
   },
   {
    "duration": 4,
    "start_time": "2022-12-18T10:10:38.766Z"
   },
   {
    "duration": 21,
    "start_time": "2022-12-18T10:10:38.772Z"
   },
   {
    "duration": 4,
    "start_time": "2022-12-18T10:10:38.795Z"
   },
   {
    "duration": 6,
    "start_time": "2022-12-18T10:10:38.801Z"
   },
   {
    "duration": 7,
    "start_time": "2022-12-18T10:10:38.808Z"
   },
   {
    "duration": 13,
    "start_time": "2022-12-18T10:10:38.817Z"
   },
   {
    "duration": 2005,
    "start_time": "2022-12-18T10:10:38.832Z"
   },
   {
    "duration": 23,
    "start_time": "2022-12-18T10:10:40.840Z"
   },
   {
    "duration": 18,
    "start_time": "2022-12-18T10:10:40.865Z"
   },
   {
    "duration": 26,
    "start_time": "2022-12-18T10:10:40.884Z"
   },
   {
    "duration": 7,
    "start_time": "2022-12-18T10:10:40.912Z"
   },
   {
    "duration": 14,
    "start_time": "2022-12-18T10:10:40.920Z"
   },
   {
    "duration": 9,
    "start_time": "2022-12-18T10:10:40.936Z"
   },
   {
    "duration": 12,
    "start_time": "2022-12-18T10:10:40.947Z"
   },
   {
    "duration": 174,
    "start_time": "2022-12-18T10:10:40.962Z"
   },
   {
    "duration": 10,
    "start_time": "2022-12-18T10:10:41.138Z"
   },
   {
    "duration": 3,
    "start_time": "2022-12-18T10:10:41.149Z"
   },
   {
    "duration": 40,
    "start_time": "2022-12-18T10:10:41.154Z"
   },
   {
    "duration": 12,
    "start_time": "2022-12-18T10:10:41.196Z"
   },
   {
    "duration": 3,
    "start_time": "2022-12-18T10:10:41.210Z"
   },
   {
    "duration": 174,
    "start_time": "2022-12-18T10:10:41.214Z"
   },
   {
    "duration": 188,
    "start_time": "2022-12-18T10:10:41.390Z"
   },
   {
    "duration": 114,
    "start_time": "2022-12-18T10:10:41.580Z"
   },
   {
    "duration": 82,
    "start_time": "2022-12-18T10:10:41.697Z"
   },
   {
    "duration": 758,
    "start_time": "2022-12-18T10:10:41.782Z"
   },
   {
    "duration": 62,
    "start_time": "2022-12-18T10:10:42.544Z"
   },
   {
    "duration": 58,
    "start_time": "2022-12-18T10:10:42.608Z"
   },
   {
    "duration": 18,
    "start_time": "2022-12-18T10:10:42.678Z"
   },
   {
    "duration": 13,
    "start_time": "2022-12-18T10:10:42.698Z"
   },
   {
    "duration": 70,
    "start_time": "2022-12-18T10:10:42.712Z"
   },
   {
    "duration": 99,
    "start_time": "2022-12-18T10:10:42.784Z"
   },
   {
    "duration": 94,
    "start_time": "2022-12-18T10:10:42.885Z"
   },
   {
    "duration": 115,
    "start_time": "2022-12-18T10:10:42.981Z"
   },
   {
    "duration": 6,
    "start_time": "2022-12-18T10:10:43.098Z"
   },
   {
    "duration": 179,
    "start_time": "2022-12-18T10:10:43.105Z"
   },
   {
    "duration": 99,
    "start_time": "2022-12-18T10:10:43.286Z"
   },
   {
    "duration": 192,
    "start_time": "2022-12-18T10:10:43.387Z"
   },
   {
    "duration": 32,
    "start_time": "2022-12-18T10:10:43.581Z"
   },
   {
    "duration": 1095,
    "start_time": "2022-12-18T10:10:43.615Z"
   },
   {
    "duration": 64,
    "start_time": "2022-12-18T10:10:44.713Z"
   },
   {
    "duration": 6,
    "start_time": "2022-12-18T10:10:44.779Z"
   },
   {
    "duration": 75,
    "start_time": "2022-12-18T10:10:44.787Z"
   },
   {
    "duration": 70297,
    "start_time": "2022-12-18T10:10:44.863Z"
   },
   {
    "duration": 872,
    "start_time": "2022-12-18T10:11:55.161Z"
   },
   {
    "duration": 4,
    "start_time": "2022-12-18T10:11:56.035Z"
   },
   {
    "duration": 7,
    "start_time": "2022-12-18T10:11:56.041Z"
   },
   {
    "duration": 67,
    "start_time": "2022-12-18T10:11:56.050Z"
   },
   {
    "duration": 128,
    "start_time": "2022-12-18T10:11:56.119Z"
   },
   {
    "duration": 6,
    "start_time": "2022-12-18T10:11:56.249Z"
   },
   {
    "duration": 62,
    "start_time": "2022-12-18T10:15:38.358Z"
   }
  ],
  "kernelspec": {
   "display_name": "Python 3 (ipykernel)",
   "language": "python",
   "name": "python3"
  },
  "language_info": {
   "codemirror_mode": {
    "name": "ipython",
    "version": 3
   },
   "file_extension": ".py",
   "mimetype": "text/x-python",
   "name": "python",
   "nbconvert_exporter": "python",
   "pygments_lexer": "ipython3",
   "version": "3.9.5"
  },
  "toc": {
   "base_numbering": 1,
   "nav_menu": {},
   "number_sections": true,
   "sideBar": true,
   "skip_h1_title": true,
   "title_cell": "Содержание",
   "title_sidebar": "Contents",
   "toc_cell": true,
   "toc_position": {
    "height": "376.667px",
    "left": "40px",
    "top": "142.125px",
    "width": "165px"
   },
   "toc_section_display": true,
   "toc_window_display": true
  }
 },
 "nbformat": 4,
 "nbformat_minor": 2
}
