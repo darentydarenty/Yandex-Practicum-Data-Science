{
 "cells": [
  {
   "cell_type": "markdown",
   "metadata": {},
   "source": [
    "# Определение стоимости автомобилей"
   ]
  },
  {
   "cell_type": "markdown",
   "metadata": {},
   "source": [
    "## Описание данных\n",
    "Сервис по продаже автомобилей с пробегом «Не бит, не крашен» разрабатывает приложение для привлечения новых клиентов. В нём можно быстро узнать рыночную стоимость своего автомобиля. В вашем распоряжении исторические данные: технические характеристики, комплектации и цены автомобилей. Вам нужно построить модель для определения стоимости. \n",
    "\n",
    "Заказчику важны:\n",
    "\n",
    "- качество предсказания;\n",
    "- скорость предсказания;\n",
    "- время обучения.\n",
    "\n",
    "### Примечания\n",
    "- Для оценки качества моделей применяйте метрику RMSE.\n",
    "- Самостоятельно освойте библиотеку LightGBM и её средствами постройте модели градиентного бустинга.\n",
    "- Время выполнения ячейки кода Jupyter Notebook можно получить специальной командой. Найдите её.\n",
    "- Поскольку модель градиентного бустинга может обучаться долго, измените у неё только два-три параметра.\n",
    "- Если перестанет работать Jupyter Notebook, удалите лишние переменные.\n",
    "\n",
    "### Признаки\n",
    "- DateCrawled — дата скачивания анкеты из базы\n",
    "- VehicleType — тип автомобильного кузова\n",
    "- RegistrationYear — год регистрации автомобиля\n",
    "- Gearbox — тип коробки передач\n",
    "- Power — мощность (л. с.)\n",
    "- Model — модель автомобиля\n",
    "- Kilometer — пробег (км)\n",
    "- RegistrationMonth — месяц регистрации автомобиля\n",
    "- FuelType — тип топлива\n",
    "- Brand — марка автомобиля\n",
    "- NotRepaired — была машина в ремонте или нет\n",
    "- DateCreated — дата создания анкеты\n",
    "- NumberOfPictures — количество фотографий автомобиля\n",
    "- PostalCode — почтовый индекс владельца анкеты (пользователя)\n",
    "- LastSeen — дата последней активности пользователя\n",
    "\n",
    "\n",
    "- Price — цена (евро)"
   ]
  },
  {
   "cell_type": "markdown",
   "metadata": {},
   "source": [
    "## Подготовка данных"
   ]
  },
  {
   "cell_type": "code",
   "execution_count": 1,
   "metadata": {},
   "outputs": [],
   "source": [
    "import re\n",
    "import time\n",
    "import numpy as np\n",
    "import pandas as pd\n",
    "import matplotlib.pyplot as plt\n",
    "from sklearn.model_selection import train_test_split, GridSearchCV\n",
    "from sklearn.metrics import mean_squared_error\n",
    "from sklearn.pipeline import Pipeline\n",
    "from sklearn.preprocessing import OneHotEncoder, OrdinalEncoder, StandardScaler\n",
    "from sklearn.compose import ColumnTransformer\n",
    "from sklearn.ensemble import RandomForestRegressor\n",
    "from catboost import CatBoostRegressor\n",
    "from lightgbm import LGBMRegressor\n",
    "import warnings\n",
    "warnings.filterwarnings('ignore')"
   ]
  },
  {
   "cell_type": "code",
   "execution_count": 2,
   "metadata": {},
   "outputs": [
    {
     "data": {
      "text/html": [
       "<div>\n",
       "<style scoped>\n",
       "    .dataframe tbody tr th:only-of-type {\n",
       "        vertical-align: middle;\n",
       "    }\n",
       "\n",
       "    .dataframe tbody tr th {\n",
       "        vertical-align: top;\n",
       "    }\n",
       "\n",
       "    .dataframe thead th {\n",
       "        text-align: right;\n",
       "    }\n",
       "</style>\n",
       "<table border=\"1\" class=\"dataframe\">\n",
       "  <thead>\n",
       "    <tr style=\"text-align: right;\">\n",
       "      <th></th>\n",
       "      <th>DateCrawled</th>\n",
       "      <th>Price</th>\n",
       "      <th>VehicleType</th>\n",
       "      <th>RegistrationYear</th>\n",
       "      <th>Gearbox</th>\n",
       "      <th>Power</th>\n",
       "      <th>Model</th>\n",
       "      <th>Kilometer</th>\n",
       "      <th>RegistrationMonth</th>\n",
       "      <th>FuelType</th>\n",
       "      <th>Brand</th>\n",
       "      <th>Repaired</th>\n",
       "      <th>DateCreated</th>\n",
       "      <th>NumberOfPictures</th>\n",
       "      <th>PostalCode</th>\n",
       "      <th>LastSeen</th>\n",
       "    </tr>\n",
       "  </thead>\n",
       "  <tbody>\n",
       "    <tr>\n",
       "      <th>0</th>\n",
       "      <td>2016-03-24 11:52:17</td>\n",
       "      <td>480</td>\n",
       "      <td>NaN</td>\n",
       "      <td>1993</td>\n",
       "      <td>manual</td>\n",
       "      <td>0</td>\n",
       "      <td>golf</td>\n",
       "      <td>150000</td>\n",
       "      <td>0</td>\n",
       "      <td>petrol</td>\n",
       "      <td>volkswagen</td>\n",
       "      <td>NaN</td>\n",
       "      <td>2016-03-24 00:00:00</td>\n",
       "      <td>0</td>\n",
       "      <td>70435</td>\n",
       "      <td>2016-04-07 03:16:57</td>\n",
       "    </tr>\n",
       "    <tr>\n",
       "      <th>1</th>\n",
       "      <td>2016-03-24 10:58:45</td>\n",
       "      <td>18300</td>\n",
       "      <td>coupe</td>\n",
       "      <td>2011</td>\n",
       "      <td>manual</td>\n",
       "      <td>190</td>\n",
       "      <td>NaN</td>\n",
       "      <td>125000</td>\n",
       "      <td>5</td>\n",
       "      <td>gasoline</td>\n",
       "      <td>audi</td>\n",
       "      <td>yes</td>\n",
       "      <td>2016-03-24 00:00:00</td>\n",
       "      <td>0</td>\n",
       "      <td>66954</td>\n",
       "      <td>2016-04-07 01:46:50</td>\n",
       "    </tr>\n",
       "    <tr>\n",
       "      <th>2</th>\n",
       "      <td>2016-03-14 12:52:21</td>\n",
       "      <td>9800</td>\n",
       "      <td>suv</td>\n",
       "      <td>2004</td>\n",
       "      <td>auto</td>\n",
       "      <td>163</td>\n",
       "      <td>grand</td>\n",
       "      <td>125000</td>\n",
       "      <td>8</td>\n",
       "      <td>gasoline</td>\n",
       "      <td>jeep</td>\n",
       "      <td>NaN</td>\n",
       "      <td>2016-03-14 00:00:00</td>\n",
       "      <td>0</td>\n",
       "      <td>90480</td>\n",
       "      <td>2016-04-05 12:47:46</td>\n",
       "    </tr>\n",
       "    <tr>\n",
       "      <th>3</th>\n",
       "      <td>2016-03-17 16:54:04</td>\n",
       "      <td>1500</td>\n",
       "      <td>small</td>\n",
       "      <td>2001</td>\n",
       "      <td>manual</td>\n",
       "      <td>75</td>\n",
       "      <td>golf</td>\n",
       "      <td>150000</td>\n",
       "      <td>6</td>\n",
       "      <td>petrol</td>\n",
       "      <td>volkswagen</td>\n",
       "      <td>no</td>\n",
       "      <td>2016-03-17 00:00:00</td>\n",
       "      <td>0</td>\n",
       "      <td>91074</td>\n",
       "      <td>2016-03-17 17:40:17</td>\n",
       "    </tr>\n",
       "    <tr>\n",
       "      <th>4</th>\n",
       "      <td>2016-03-31 17:25:20</td>\n",
       "      <td>3600</td>\n",
       "      <td>small</td>\n",
       "      <td>2008</td>\n",
       "      <td>manual</td>\n",
       "      <td>69</td>\n",
       "      <td>fabia</td>\n",
       "      <td>90000</td>\n",
       "      <td>7</td>\n",
       "      <td>gasoline</td>\n",
       "      <td>skoda</td>\n",
       "      <td>no</td>\n",
       "      <td>2016-03-31 00:00:00</td>\n",
       "      <td>0</td>\n",
       "      <td>60437</td>\n",
       "      <td>2016-04-06 10:17:21</td>\n",
       "    </tr>\n",
       "  </tbody>\n",
       "</table>\n",
       "</div>"
      ],
      "text/plain": [
       "           DateCrawled  Price VehicleType  RegistrationYear Gearbox  Power  \\\n",
       "0  2016-03-24 11:52:17    480         NaN              1993  manual      0   \n",
       "1  2016-03-24 10:58:45  18300       coupe              2011  manual    190   \n",
       "2  2016-03-14 12:52:21   9800         suv              2004    auto    163   \n",
       "3  2016-03-17 16:54:04   1500       small              2001  manual     75   \n",
       "4  2016-03-31 17:25:20   3600       small              2008  manual     69   \n",
       "\n",
       "   Model  Kilometer  RegistrationMonth  FuelType       Brand Repaired  \\\n",
       "0   golf     150000                  0    petrol  volkswagen      NaN   \n",
       "1    NaN     125000                  5  gasoline        audi      yes   \n",
       "2  grand     125000                  8  gasoline        jeep      NaN   \n",
       "3   golf     150000                  6    petrol  volkswagen       no   \n",
       "4  fabia      90000                  7  gasoline       skoda       no   \n",
       "\n",
       "           DateCreated  NumberOfPictures  PostalCode             LastSeen  \n",
       "0  2016-03-24 00:00:00                 0       70435  2016-04-07 03:16:57  \n",
       "1  2016-03-24 00:00:00                 0       66954  2016-04-07 01:46:50  \n",
       "2  2016-03-14 00:00:00                 0       90480  2016-04-05 12:47:46  \n",
       "3  2016-03-17 00:00:00                 0       91074  2016-03-17 17:40:17  \n",
       "4  2016-03-31 00:00:00                 0       60437  2016-04-06 10:17:21  "
      ]
     },
     "execution_count": 2,
     "metadata": {},
     "output_type": "execute_result"
    }
   ],
   "source": [
    "data = pd.read_csv('https://code.s3.yandex.net/datasets/autos.csv')\n",
    "data.head()"
   ]
  },
  {
   "cell_type": "code",
   "execution_count": 3,
   "metadata": {},
   "outputs": [
    {
     "data": {
      "text/html": [
       "<div>\n",
       "<style scoped>\n",
       "    .dataframe tbody tr th:only-of-type {\n",
       "        vertical-align: middle;\n",
       "    }\n",
       "\n",
       "    .dataframe tbody tr th {\n",
       "        vertical-align: top;\n",
       "    }\n",
       "\n",
       "    .dataframe thead th {\n",
       "        text-align: right;\n",
       "    }\n",
       "</style>\n",
       "<table border=\"1\" class=\"dataframe\">\n",
       "  <thead>\n",
       "    <tr style=\"text-align: right;\">\n",
       "      <th></th>\n",
       "      <th>Price</th>\n",
       "      <th>RegistrationYear</th>\n",
       "      <th>Power</th>\n",
       "      <th>Kilometer</th>\n",
       "      <th>RegistrationMonth</th>\n",
       "      <th>NumberOfPictures</th>\n",
       "      <th>PostalCode</th>\n",
       "    </tr>\n",
       "  </thead>\n",
       "  <tbody>\n",
       "    <tr>\n",
       "      <th>count</th>\n",
       "      <td>354369.000000</td>\n",
       "      <td>354369.000000</td>\n",
       "      <td>354369.000000</td>\n",
       "      <td>354369.000000</td>\n",
       "      <td>354369.000000</td>\n",
       "      <td>354369.0</td>\n",
       "      <td>354369.000000</td>\n",
       "    </tr>\n",
       "    <tr>\n",
       "      <th>mean</th>\n",
       "      <td>4416.656776</td>\n",
       "      <td>2004.234448</td>\n",
       "      <td>110.094337</td>\n",
       "      <td>128211.172535</td>\n",
       "      <td>5.714645</td>\n",
       "      <td>0.0</td>\n",
       "      <td>50508.689087</td>\n",
       "    </tr>\n",
       "    <tr>\n",
       "      <th>std</th>\n",
       "      <td>4514.158514</td>\n",
       "      <td>90.227958</td>\n",
       "      <td>189.850405</td>\n",
       "      <td>37905.341530</td>\n",
       "      <td>3.726421</td>\n",
       "      <td>0.0</td>\n",
       "      <td>25783.096248</td>\n",
       "    </tr>\n",
       "    <tr>\n",
       "      <th>min</th>\n",
       "      <td>0.000000</td>\n",
       "      <td>1000.000000</td>\n",
       "      <td>0.000000</td>\n",
       "      <td>5000.000000</td>\n",
       "      <td>0.000000</td>\n",
       "      <td>0.0</td>\n",
       "      <td>1067.000000</td>\n",
       "    </tr>\n",
       "    <tr>\n",
       "      <th>25%</th>\n",
       "      <td>1050.000000</td>\n",
       "      <td>1999.000000</td>\n",
       "      <td>69.000000</td>\n",
       "      <td>125000.000000</td>\n",
       "      <td>3.000000</td>\n",
       "      <td>0.0</td>\n",
       "      <td>30165.000000</td>\n",
       "    </tr>\n",
       "    <tr>\n",
       "      <th>50%</th>\n",
       "      <td>2700.000000</td>\n",
       "      <td>2003.000000</td>\n",
       "      <td>105.000000</td>\n",
       "      <td>150000.000000</td>\n",
       "      <td>6.000000</td>\n",
       "      <td>0.0</td>\n",
       "      <td>49413.000000</td>\n",
       "    </tr>\n",
       "    <tr>\n",
       "      <th>75%</th>\n",
       "      <td>6400.000000</td>\n",
       "      <td>2008.000000</td>\n",
       "      <td>143.000000</td>\n",
       "      <td>150000.000000</td>\n",
       "      <td>9.000000</td>\n",
       "      <td>0.0</td>\n",
       "      <td>71083.000000</td>\n",
       "    </tr>\n",
       "    <tr>\n",
       "      <th>max</th>\n",
       "      <td>20000.000000</td>\n",
       "      <td>9999.000000</td>\n",
       "      <td>20000.000000</td>\n",
       "      <td>150000.000000</td>\n",
       "      <td>12.000000</td>\n",
       "      <td>0.0</td>\n",
       "      <td>99998.000000</td>\n",
       "    </tr>\n",
       "  </tbody>\n",
       "</table>\n",
       "</div>"
      ],
      "text/plain": [
       "               Price  RegistrationYear          Power      Kilometer  \\\n",
       "count  354369.000000     354369.000000  354369.000000  354369.000000   \n",
       "mean     4416.656776       2004.234448     110.094337  128211.172535   \n",
       "std      4514.158514         90.227958     189.850405   37905.341530   \n",
       "min         0.000000       1000.000000       0.000000    5000.000000   \n",
       "25%      1050.000000       1999.000000      69.000000  125000.000000   \n",
       "50%      2700.000000       2003.000000     105.000000  150000.000000   \n",
       "75%      6400.000000       2008.000000     143.000000  150000.000000   \n",
       "max     20000.000000       9999.000000   20000.000000  150000.000000   \n",
       "\n",
       "       RegistrationMonth  NumberOfPictures     PostalCode  \n",
       "count      354369.000000          354369.0  354369.000000  \n",
       "mean            5.714645               0.0   50508.689087  \n",
       "std             3.726421               0.0   25783.096248  \n",
       "min             0.000000               0.0    1067.000000  \n",
       "25%             3.000000               0.0   30165.000000  \n",
       "50%             6.000000               0.0   49413.000000  \n",
       "75%             9.000000               0.0   71083.000000  \n",
       "max            12.000000               0.0   99998.000000  "
      ]
     },
     "execution_count": 3,
     "metadata": {},
     "output_type": "execute_result"
    }
   ],
   "source": [
    "data.describe()"
   ]
  },
  {
   "cell_type": "markdown",
   "metadata": {},
   "source": [
    "Бросается в глаза, что колонки названы не в стиле snake_case.  \n",
    "Для удобства сразу исправим это с помощью регекса."
   ]
  },
  {
   "cell_type": "code",
   "execution_count": 4,
   "metadata": {},
   "outputs": [],
   "source": [
    "data.columns = [re.sub(r'(?<!^)(?=[A-Z])', '_', column).lower() for column in data.columns]"
   ]
  },
  {
   "cell_type": "markdown",
   "metadata": {},
   "source": [
    "Затем следует сразу избавиться от неинформативных признаков, которые точно не пригодятся.  \n",
    "- Даты (date_crawled, date_created, last_seen)\n",
    "- Количество фотографий (number_of_pictures)\n",
    "- Почтовый индекс (postal_code)\n",
    "- Месяц регистрации (registration_month)"
   ]
  },
  {
   "cell_type": "code",
   "execution_count": 5,
   "metadata": {},
   "outputs": [],
   "source": [
    "data.drop(['date_crawled', 'date_created', 'last_seen', 'number_of_pictures', \\\n",
    "           'postal_code', 'registration_month'], axis=1, inplace=True)"
   ]
  },
  {
   "cell_type": "code",
   "execution_count": 6,
   "metadata": {
    "scrolled": false
   },
   "outputs": [
    {
     "name": "stdout",
     "output_type": "stream",
     "text": [
      "<class 'pandas.core.frame.DataFrame'>\n",
      "RangeIndex: 354369 entries, 0 to 354368\n",
      "Data columns (total 10 columns):\n",
      " #   Column             Non-Null Count   Dtype \n",
      "---  ------             --------------   ----- \n",
      " 0   price              354369 non-null  int64 \n",
      " 1   vehicle_type       316879 non-null  object\n",
      " 2   registration_year  354369 non-null  int64 \n",
      " 3   gearbox            334536 non-null  object\n",
      " 4   power              354369 non-null  int64 \n",
      " 5   model              334664 non-null  object\n",
      " 6   kilometer          354369 non-null  int64 \n",
      " 7   fuel_type          321474 non-null  object\n",
      " 8   brand              354369 non-null  object\n",
      " 9   repaired           283215 non-null  object\n",
      "dtypes: int64(4), object(6)\n",
      "memory usage: 27.0+ MB\n"
     ]
    }
   ],
   "source": [
    "data.info()"
   ]
  },
  {
   "cell_type": "markdown",
   "metadata": {},
   "source": [
    "Подберём более подходящие типы данных для уменьшения затрат памяти."
   ]
  },
  {
   "cell_type": "code",
   "execution_count": 7,
   "metadata": {},
   "outputs": [],
   "source": [
    "data['price'] = pd.to_numeric(data['price'], downcast='integer')\n",
    "data['registration_year'] = pd.to_numeric(data['registration_year'], downcast='integer')\n",
    "data['power'] = pd.to_numeric(data['power'], downcast='integer')\n",
    "data['kilometer'] = pd.to_numeric(data['kilometer'], downcast='integer')"
   ]
  },
  {
   "cell_type": "code",
   "execution_count": 8,
   "metadata": {
    "scrolled": true
   },
   "outputs": [
    {
     "name": "stdout",
     "output_type": "stream",
     "text": [
      "<class 'pandas.core.frame.DataFrame'>\n",
      "RangeIndex: 354369 entries, 0 to 354368\n",
      "Data columns (total 10 columns):\n",
      " #   Column             Non-Null Count   Dtype \n",
      "---  ------             --------------   ----- \n",
      " 0   price              354369 non-null  int16 \n",
      " 1   vehicle_type       316879 non-null  object\n",
      " 2   registration_year  354369 non-null  int16 \n",
      " 3   gearbox            334536 non-null  object\n",
      " 4   power              354369 non-null  int16 \n",
      " 5   model              334664 non-null  object\n",
      " 6   kilometer          354369 non-null  int32 \n",
      " 7   fuel_type          321474 non-null  object\n",
      " 8   brand              354369 non-null  object\n",
      " 9   repaired           283215 non-null  object\n",
      "dtypes: int16(3), int32(1), object(6)\n",
      "memory usage: 19.6+ MB\n"
     ]
    }
   ],
   "source": [
    "data.info()"
   ]
  },
  {
   "cell_type": "markdown",
   "metadata": {},
   "source": [
    "Видим, что память удалось сэкономить.\n",
    "\n",
    "Проверим данные на наличие аномалий и избавимся от них."
   ]
  },
  {
   "cell_type": "code",
   "execution_count": 9,
   "metadata": {},
   "outputs": [
    {
     "data": {
      "text/html": [
       "<div>\n",
       "<style scoped>\n",
       "    .dataframe tbody tr th:only-of-type {\n",
       "        vertical-align: middle;\n",
       "    }\n",
       "\n",
       "    .dataframe tbody tr th {\n",
       "        vertical-align: top;\n",
       "    }\n",
       "\n",
       "    .dataframe thead th {\n",
       "        text-align: right;\n",
       "    }\n",
       "</style>\n",
       "<table border=\"1\" class=\"dataframe\">\n",
       "  <thead>\n",
       "    <tr style=\"text-align: right;\">\n",
       "      <th></th>\n",
       "      <th>price</th>\n",
       "      <th>registration_year</th>\n",
       "      <th>power</th>\n",
       "      <th>kilometer</th>\n",
       "    </tr>\n",
       "  </thead>\n",
       "  <tbody>\n",
       "    <tr>\n",
       "      <th>count</th>\n",
       "      <td>354369.000000</td>\n",
       "      <td>354369.000000</td>\n",
       "      <td>354369.000000</td>\n",
       "      <td>354369.000000</td>\n",
       "    </tr>\n",
       "    <tr>\n",
       "      <th>mean</th>\n",
       "      <td>4416.656776</td>\n",
       "      <td>2004.234448</td>\n",
       "      <td>110.094337</td>\n",
       "      <td>128211.172535</td>\n",
       "    </tr>\n",
       "    <tr>\n",
       "      <th>std</th>\n",
       "      <td>4514.158514</td>\n",
       "      <td>90.227958</td>\n",
       "      <td>189.850405</td>\n",
       "      <td>37905.341530</td>\n",
       "    </tr>\n",
       "    <tr>\n",
       "      <th>min</th>\n",
       "      <td>0.000000</td>\n",
       "      <td>1000.000000</td>\n",
       "      <td>0.000000</td>\n",
       "      <td>5000.000000</td>\n",
       "    </tr>\n",
       "    <tr>\n",
       "      <th>25%</th>\n",
       "      <td>1050.000000</td>\n",
       "      <td>1999.000000</td>\n",
       "      <td>69.000000</td>\n",
       "      <td>125000.000000</td>\n",
       "    </tr>\n",
       "    <tr>\n",
       "      <th>50%</th>\n",
       "      <td>2700.000000</td>\n",
       "      <td>2003.000000</td>\n",
       "      <td>105.000000</td>\n",
       "      <td>150000.000000</td>\n",
       "    </tr>\n",
       "    <tr>\n",
       "      <th>75%</th>\n",
       "      <td>6400.000000</td>\n",
       "      <td>2008.000000</td>\n",
       "      <td>143.000000</td>\n",
       "      <td>150000.000000</td>\n",
       "    </tr>\n",
       "    <tr>\n",
       "      <th>max</th>\n",
       "      <td>20000.000000</td>\n",
       "      <td>9999.000000</td>\n",
       "      <td>20000.000000</td>\n",
       "      <td>150000.000000</td>\n",
       "    </tr>\n",
       "  </tbody>\n",
       "</table>\n",
       "</div>"
      ],
      "text/plain": [
       "               price  registration_year          power      kilometer\n",
       "count  354369.000000      354369.000000  354369.000000  354369.000000\n",
       "mean     4416.656776        2004.234448     110.094337  128211.172535\n",
       "std      4514.158514          90.227958     189.850405   37905.341530\n",
       "min         0.000000        1000.000000       0.000000    5000.000000\n",
       "25%      1050.000000        1999.000000      69.000000  125000.000000\n",
       "50%      2700.000000        2003.000000     105.000000  150000.000000\n",
       "75%      6400.000000        2008.000000     143.000000  150000.000000\n",
       "max     20000.000000        9999.000000   20000.000000  150000.000000"
      ]
     },
     "execution_count": 9,
     "metadata": {},
     "output_type": "execute_result"
    }
   ],
   "source": [
    "data.describe()"
   ]
  },
  {
   "cell_type": "code",
   "execution_count": 10,
   "metadata": {
    "scrolled": false
   },
   "outputs": [
    {
     "data": {
      "image/png": "[encoded data removed]",
      "text/plain": [
       "<Figure size 720x720 with 4 Axes>"
      ]
     },
     "metadata": {
      "needs_background": "light"
     },
     "output_type": "display_data"
    }
   ],
   "source": [
    "data.hist(figsize=(10,10))\n",
    "plt.show()"
   ]
  },
  {
   "cell_type": "markdown",
   "metadata": {},
   "source": [
    "**Цена**"
   ]
  },
  {
   "cell_type": "code",
   "execution_count": 11,
   "metadata": {},
   "outputs": [
    {
     "data": {
      "text/plain": [
       "0        10772\n",
       "500       5670\n",
       "1500      5394\n",
       "1000      4649\n",
       "1200      4594\n",
       "         ...  \n",
       "13180        1\n",
       "10879        1\n",
       "2683         1\n",
       "634          1\n",
       "8188         1\n",
       "Name: price, Length: 3731, dtype: int64"
      ]
     },
     "execution_count": 11,
     "metadata": {},
     "output_type": "execute_result"
    }
   ],
   "source": [
    "data['price'].value_counts()"
   ]
  },
  {
   "cell_type": "code",
   "execution_count": 12,
   "metadata": {},
   "outputs": [
    {
     "data": {
      "image/png": "[encoded data removed]",
      "text/plain": [
       "<Figure size 432x288 with 1 Axes>"
      ]
     },
     "metadata": {
      "needs_background": "light"
     },
     "output_type": "display_data"
    }
   ],
   "source": [
    "data['price'].hist(bins=100)\n",
    "plt.show()"
   ]
  },
  {
   "cell_type": "code",
   "execution_count": 13,
   "metadata": {},
   "outputs": [
    {
     "data": {
      "text/plain": [
       "200.0"
      ]
     },
     "execution_count": 13,
     "metadata": {},
     "output_type": "execute_result"
    }
   ],
   "source": [
    "data['price'].quantile(.05)"
   ]
  },
  {
   "cell_type": "markdown",
   "metadata": {},
   "source": [
    "Видим огромное количество нулевых значений, что нереалистично мало даже для поддержанных автомобилей.\n",
    "Возьмём в рассмотрение автомобили ценой от 200 евро, начиная отбор в уже новый, фильтрованный набор."
   ]
  },
  {
   "cell_type": "code",
   "execution_count": 14,
   "metadata": {},
   "outputs": [],
   "source": [
    "filtered_data = data.query('price > 200')"
   ]
  },
  {
   "cell_type": "markdown",
   "metadata": {},
   "source": [
    "**Год регистрации**"
   ]
  },
  {
   "cell_type": "code",
   "execution_count": 15,
   "metadata": {},
   "outputs": [
    {
     "data": {
      "text/plain": [
       "2000    21829\n",
       "1999    21339\n",
       "2005    21272\n",
       "2006    19635\n",
       "2003    19434\n",
       "        ...  \n",
       "1946        1\n",
       "1949        1\n",
       "5300        1\n",
       "8888        1\n",
       "2290        1\n",
       "Name: registration_year, Length: 134, dtype: int64"
      ]
     },
     "execution_count": 15,
     "metadata": {},
     "output_type": "execute_result"
    }
   ],
   "source": [
    "filtered_data['registration_year'].value_counts()"
   ]
  },
  {
   "cell_type": "markdown",
   "metadata": {},
   "source": [
    "Видим наличие огромных, аномальных значений года регистрации. Обязательно отсекаем эти данные."
   ]
  },
  {
   "cell_type": "code",
   "execution_count": 16,
   "metadata": {},
   "outputs": [],
   "source": [
    "filtered_data = filtered_data.query('2016 > registration_year > 1899')"
   ]
  },
  {
   "cell_type": "markdown",
   "metadata": {},
   "source": [
    "**Мощность**"
   ]
  },
  {
   "cell_type": "code",
   "execution_count": 17,
   "metadata": {
    "scrolled": true
   },
   "outputs": [
    {
     "data": {
      "text/plain": [
       "0       27320\n",
       "75      20629\n",
       "150     13445\n",
       "60      13427\n",
       "140     12123\n",
       "        ...  \n",
       "421         1\n",
       "1700        1\n",
       "1793        1\n",
       "572         1\n",
       "1653        1\n",
       "Name: power, Length: 664, dtype: int64"
      ]
     },
     "execution_count": 17,
     "metadata": {},
     "output_type": "execute_result"
    }
   ],
   "source": [
    "filtered_data['power'].value_counts()"
   ]
  },
  {
   "cell_type": "code",
   "execution_count": 18,
   "metadata": {},
   "outputs": [],
   "source": [
    "filtered_data = filtered_data.query('0 < power < 600')"
   ]
  },
  {
   "cell_type": "markdown",
   "metadata": {},
   "source": [
    "**Пробег**"
   ]
  },
  {
   "cell_type": "code",
   "execution_count": 19,
   "metadata": {
    "scrolled": true
   },
   "outputs": [
    {
     "data": {
      "image/png": "[encoded data removed]",
      "text/plain": [
       "<Figure size 432x288 with 1 Axes>"
      ]
     },
     "metadata": {
      "needs_background": "light"
     },
     "output_type": "display_data"
    }
   ],
   "source": [
    "filtered_data['kilometer'].hist()\n",
    "plt.show()"
   ]
  },
  {
   "cell_type": "markdown",
   "metadata": {},
   "source": [
    "В результате некоторых манипуляций мы получили более реалистичную картину."
   ]
  },
  {
   "cell_type": "code",
   "execution_count": 20,
   "metadata": {
    "scrolled": false
   },
   "outputs": [
    {
     "data": {
      "image/png": "[encoded data removed]",
      "text/plain": [
       "<Figure size 720x720 with 4 Axes>"
      ]
     },
     "metadata": {
      "needs_background": "light"
     },
     "output_type": "display_data"
    }
   ],
   "source": [
    "filtered_data.hist(figsize=(10,10))\n",
    "plt.show()"
   ]
  },
  {
   "cell_type": "code",
   "execution_count": 21,
   "metadata": {},
   "outputs": [
    {
     "name": "stdout",
     "output_type": "stream",
     "text": [
      "<class 'pandas.core.frame.DataFrame'>\n",
      "Int64Index: 285350 entries, 1 to 354368\n",
      "Data columns (total 10 columns):\n",
      " #   Column             Non-Null Count   Dtype \n",
      "---  ------             --------------   ----- \n",
      " 0   price              285350 non-null  int16 \n",
      " 1   vehicle_type       281054 non-null  object\n",
      " 2   registration_year  285350 non-null  int16 \n",
      " 3   gearbox            280755 non-null  object\n",
      " 4   power              285350 non-null  int16 \n",
      " 5   model              275379 non-null  object\n",
      " 6   kilometer          285350 non-null  int32 \n",
      " 7   fuel_type          273165 non-null  object\n",
      " 8   brand              285350 non-null  object\n",
      " 9   repaired           246812 non-null  object\n",
      "dtypes: int16(3), int32(1), object(6)\n",
      "memory usage: 18.0+ MB\n"
     ]
    }
   ],
   "source": [
    "filtered_data.info()"
   ]
  },
  {
   "cell_type": "markdown",
   "metadata": {},
   "source": [
    "Видим, что в нескольких колонках есть пропущенные значения.  \n",
    "Попробуем это исправить."
   ]
  },
  {
   "cell_type": "markdown",
   "metadata": {},
   "source": [
    "Заполнение будет таким:\n",
    "- gearbox - заполним значением manual\n",
    "- model - нет возможности восстановить такие данные, заполняем заглушкой\n",
    "- repaired - заполним значением no"
   ]
  },
  {
   "cell_type": "code",
   "execution_count": 22,
   "metadata": {},
   "outputs": [],
   "source": [
    "filtered_data.fillna({'gearbox':'manual', \n",
    "                      'model':'unknown',\n",
    "                      'repaired':'no'},\n",
    "                       inplace=True)"
   ]
  },
  {
   "cell_type": "code",
   "execution_count": 23,
   "metadata": {},
   "outputs": [
    {
     "data": {
      "text/plain": [
       "price                    0\n",
       "vehicle_type          4296\n",
       "registration_year        0\n",
       "gearbox                  0\n",
       "power                    0\n",
       "model                    0\n",
       "kilometer                0\n",
       "fuel_type            12185\n",
       "brand                    0\n",
       "repaired                 0\n",
       "dtype: int64"
      ]
     },
     "execution_count": 23,
     "metadata": {},
     "output_type": "execute_result"
    }
   ],
   "source": [
    "filtered_data.isna().sum()"
   ]
  },
  {
   "cell_type": "markdown",
   "metadata": {},
   "source": [
    "Остались пропуски только в колонках типа кузова и типа топлива.  \n",
    "Такие данные трудно заполнить достоверно, поэтому будет проще просто удалить."
   ]
  },
  {
   "cell_type": "code",
   "execution_count": 24,
   "metadata": {},
   "outputs": [
    {
     "name": "stdout",
     "output_type": "stream",
     "text": [
      "<class 'pandas.core.frame.DataFrame'>\n",
      "Int64Index: 270700 entries, 1 to 354368\n",
      "Data columns (total 10 columns):\n",
      " #   Column             Non-Null Count   Dtype \n",
      "---  ------             --------------   ----- \n",
      " 0   price              270700 non-null  int16 \n",
      " 1   vehicle_type       270700 non-null  object\n",
      " 2   registration_year  270700 non-null  int16 \n",
      " 3   gearbox            270700 non-null  object\n",
      " 4   power              270700 non-null  int16 \n",
      " 5   model              270700 non-null  object\n",
      " 6   kilometer          270700 non-null  int32 \n",
      " 7   fuel_type          270700 non-null  object\n",
      " 8   brand              270700 non-null  object\n",
      " 9   repaired           270700 non-null  object\n",
      "dtypes: int16(3), int32(1), object(6)\n",
      "memory usage: 17.0+ MB\n"
     ]
    }
   ],
   "source": [
    "filtered_data.dropna(inplace=True)\n",
    "filtered_data.info()"
   ]
  },
  {
   "cell_type": "markdown",
   "metadata": {},
   "source": [
    "Напоследок проверим наличие явных дубликатов и тоже избавимся от них."
   ]
  },
  {
   "cell_type": "code",
   "execution_count": 25,
   "metadata": {
    "scrolled": true
   },
   "outputs": [
    {
     "data": {
      "text/plain": [
       "44298"
      ]
     },
     "execution_count": 25,
     "metadata": {},
     "output_type": "execute_result"
    }
   ],
   "source": [
    "filtered_data.duplicated().sum()"
   ]
  },
  {
   "cell_type": "code",
   "execution_count": 26,
   "metadata": {},
   "outputs": [],
   "source": [
    "filtered_data.drop_duplicates(inplace=True)"
   ]
  },
  {
   "cell_type": "code",
   "execution_count": 27,
   "metadata": {},
   "outputs": [
    {
     "data": {
      "text/html": [
       "<div>\n",
       "<style scoped>\n",
       "    .dataframe tbody tr th:only-of-type {\n",
       "        vertical-align: middle;\n",
       "    }\n",
       "\n",
       "    .dataframe tbody tr th {\n",
       "        vertical-align: top;\n",
       "    }\n",
       "\n",
       "    .dataframe thead th {\n",
       "        text-align: right;\n",
       "    }\n",
       "</style>\n",
       "<table border=\"1\" class=\"dataframe\">\n",
       "  <thead>\n",
       "    <tr style=\"text-align: right;\">\n",
       "      <th></th>\n",
       "      <th>price</th>\n",
       "      <th>vehicle_type</th>\n",
       "      <th>registration_year</th>\n",
       "      <th>gearbox</th>\n",
       "      <th>power</th>\n",
       "      <th>model</th>\n",
       "      <th>kilometer</th>\n",
       "      <th>fuel_type</th>\n",
       "      <th>brand</th>\n",
       "      <th>repaired</th>\n",
       "    </tr>\n",
       "  </thead>\n",
       "  <tbody>\n",
       "    <tr>\n",
       "      <th>1</th>\n",
       "      <td>18300</td>\n",
       "      <td>coupe</td>\n",
       "      <td>2011</td>\n",
       "      <td>manual</td>\n",
       "      <td>190</td>\n",
       "      <td>unknown</td>\n",
       "      <td>125000</td>\n",
       "      <td>gasoline</td>\n",
       "      <td>audi</td>\n",
       "      <td>yes</td>\n",
       "    </tr>\n",
       "    <tr>\n",
       "      <th>2</th>\n",
       "      <td>9800</td>\n",
       "      <td>suv</td>\n",
       "      <td>2004</td>\n",
       "      <td>auto</td>\n",
       "      <td>163</td>\n",
       "      <td>grand</td>\n",
       "      <td>125000</td>\n",
       "      <td>gasoline</td>\n",
       "      <td>jeep</td>\n",
       "      <td>no</td>\n",
       "    </tr>\n",
       "    <tr>\n",
       "      <th>3</th>\n",
       "      <td>1500</td>\n",
       "      <td>small</td>\n",
       "      <td>2001</td>\n",
       "      <td>manual</td>\n",
       "      <td>75</td>\n",
       "      <td>golf</td>\n",
       "      <td>150000</td>\n",
       "      <td>petrol</td>\n",
       "      <td>volkswagen</td>\n",
       "      <td>no</td>\n",
       "    </tr>\n",
       "    <tr>\n",
       "      <th>4</th>\n",
       "      <td>3600</td>\n",
       "      <td>small</td>\n",
       "      <td>2008</td>\n",
       "      <td>manual</td>\n",
       "      <td>69</td>\n",
       "      <td>fabia</td>\n",
       "      <td>90000</td>\n",
       "      <td>gasoline</td>\n",
       "      <td>skoda</td>\n",
       "      <td>no</td>\n",
       "    </tr>\n",
       "    <tr>\n",
       "      <th>5</th>\n",
       "      <td>650</td>\n",
       "      <td>sedan</td>\n",
       "      <td>1995</td>\n",
       "      <td>manual</td>\n",
       "      <td>102</td>\n",
       "      <td>3er</td>\n",
       "      <td>150000</td>\n",
       "      <td>petrol</td>\n",
       "      <td>bmw</td>\n",
       "      <td>yes</td>\n",
       "    </tr>\n",
       "  </tbody>\n",
       "</table>\n",
       "</div>"
      ],
      "text/plain": [
       "   price vehicle_type  registration_year gearbox  power    model  kilometer  \\\n",
       "1  18300        coupe               2011  manual    190  unknown     125000   \n",
       "2   9800          suv               2004    auto    163    grand     125000   \n",
       "3   1500        small               2001  manual     75     golf     150000   \n",
       "4   3600        small               2008  manual     69    fabia      90000   \n",
       "5    650        sedan               1995  manual    102      3er     150000   \n",
       "\n",
       "  fuel_type       brand repaired  \n",
       "1  gasoline        audi      yes  \n",
       "2  gasoline        jeep       no  \n",
       "3    petrol  volkswagen       no  \n",
       "4  gasoline       skoda       no  \n",
       "5    petrol         bmw      yes  "
      ]
     },
     "execution_count": 27,
     "metadata": {},
     "output_type": "execute_result"
    }
   ],
   "source": [
    "filtered_data.head()"
   ]
  },
  {
   "cell_type": "markdown",
   "metadata": {},
   "source": [
    "Теперь данныые подготовлены к работе, приступим к обучению."
   ]
  },
  {
   "cell_type": "markdown",
   "metadata": {},
   "source": [
    "## Обучение моделей"
   ]
  },
  {
   "cell_type": "markdown",
   "metadata": {},
   "source": [
    "В рамках эксперимента будем исследовать данные модели:\n",
    "- RandomForestRegressor\n",
    "- CatBoostRegressor\n",
    "- LGBMRegressor"
   ]
  },
  {
   "cell_type": "code",
   "execution_count": 28,
   "metadata": {},
   "outputs": [],
   "source": [
    "models = ['RandomForestRegressor', 'CatBoostRegressor', 'LGBMRegressor']\n",
    "rmse = []\n",
    "training_time = []"
   ]
  },
  {
   "cell_type": "code",
   "execution_count": 29,
   "metadata": {},
   "outputs": [],
   "source": [
    "target = filtered_data['price']\n",
    "features = filtered_data.drop(['price'], axis=1)\n",
    "\n",
    "cat_features = features.select_dtypes(include='object').columns.values\n",
    "num_features = features.select_dtypes(exclude='object').columns.values\n",
    "\n",
    "features_train, features_test, target_train, target_test = \\\n",
    "train_test_split(features, target, test_size=0.3, random_state=42)"
   ]
  },
  {
   "cell_type": "markdown",
   "metadata": {},
   "source": [
    "### RandomForestRegressor"
   ]
  },
  {
   "cell_type": "code",
   "execution_count": 30,
   "metadata": {},
   "outputs": [],
   "source": [
    "for feature in cat_features:\n",
    "    features_train[feature] = features_train[feature].astype('category')\n",
    "    features_test[feature] = features_test[feature].astype('category')"
   ]
  },
  {
   "cell_type": "code",
   "execution_count": 31,
   "metadata": {},
   "outputs": [],
   "source": [
    "preprocessor = ColumnTransformer([\n",
    "    ('num', StandardScaler(), num_features),\n",
    "    ('cat', OrdinalEncoder(handle_unknown='ignore'), cat_features)])\n",
    "\n",
    "forest = Pipeline(steps=[\n",
    "    ('enc', preprocessor),\n",
    "    ('alg', RandomForestRegressor(random_state=42))\n",
    "])\n",
    "\n",
    "params = {\n",
    "    'alg__n_estimators': [20, 40],\n",
    "    'alg__max_depth': [8, 10, 15, 20],\n",
    "    'alg__min_samples_split': [2, 4, 6],\n",
    "}"
   ]
  },
  {
   "cell_type": "code",
   "execution_count": 32,
   "metadata": {
    "scrolled": true
   },
   "outputs": [
    {
     "name": "stdout",
     "output_type": "stream",
     "text": [
      "Fitting 3 folds for each of 24 candidates, totalling 72 fits\n",
      "[CV 1/3; 1/24] START alg__max_depth=8, alg__min_samples_split=2, alg__n_estimators=20\n",
      "[CV 1/3; 1/24] END alg__max_depth=8, alg__min_samples_split=2, alg__n_estimators=20; total time=   2.3s\n",
      "[CV 2/3; 1/24] START alg__max_depth=8, alg__min_samples_split=2, alg__n_estimators=20\n",
      "[CV 2/3; 1/24] END alg__max_depth=8, alg__min_samples_split=2, alg__n_estimators=20; total time=   2.2s\n",
      "[CV 3/3; 1/24] START alg__max_depth=8, alg__min_samples_split=2, alg__n_estimators=20\n",
      "[CV 3/3; 1/24] END alg__max_depth=8, alg__min_samples_split=2, alg__n_estimators=20; total time=   2.3s\n",
      "[CV 1/3; 2/24] START alg__max_depth=8, alg__min_samples_split=2, alg__n_estimators=40\n",
      "[CV 1/3; 2/24] END alg__max_depth=8, alg__min_samples_split=2, alg__n_estimators=40; total time=   4.4s\n",
      "[CV 2/3; 2/24] START alg__max_depth=8, alg__min_samples_split=2, alg__n_estimators=40\n",
      "[CV 2/3; 2/24] END alg__max_depth=8, alg__min_samples_split=2, alg__n_estimators=40; total time=   4.3s\n",
      "[CV 3/3; 2/24] START alg__max_depth=8, alg__min_samples_split=2, alg__n_estimators=40\n",
      "[CV 3/3; 2/24] END alg__max_depth=8, alg__min_samples_split=2, alg__n_estimators=40; total time=   4.3s\n",
      "[CV 1/3; 3/24] START alg__max_depth=8, alg__min_samples_split=4, alg__n_estimators=20\n",
      "[CV 1/3; 3/24] END alg__max_depth=8, alg__min_samples_split=4, alg__n_estimators=20; total time=   2.3s\n",
      "[CV 2/3; 3/24] START alg__max_depth=8, alg__min_samples_split=4, alg__n_estimators=20\n",
      "[CV 2/3; 3/24] END alg__max_depth=8, alg__min_samples_split=4, alg__n_estimators=20; total time=   2.4s\n",
      "[CV 3/3; 3/24] START alg__max_depth=8, alg__min_samples_split=4, alg__n_estimators=20\n",
      "[CV 3/3; 3/24] END alg__max_depth=8, alg__min_samples_split=4, alg__n_estimators=20; total time=   2.5s\n",
      "[CV 1/3; 4/24] START alg__max_depth=8, alg__min_samples_split=4, alg__n_estimators=40\n",
      "[CV 1/3; 4/24] END alg__max_depth=8, alg__min_samples_split=4, alg__n_estimators=40; total time=   4.5s\n",
      "[CV 2/3; 4/24] START alg__max_depth=8, alg__min_samples_split=4, alg__n_estimators=40\n",
      "[CV 2/3; 4/24] END alg__max_depth=8, alg__min_samples_split=4, alg__n_estimators=40; total time=   4.3s\n",
      "[CV 3/3; 4/24] START alg__max_depth=8, alg__min_samples_split=4, alg__n_estimators=40\n",
      "[CV 3/3; 4/24] END alg__max_depth=8, alg__min_samples_split=4, alg__n_estimators=40; total time=   4.4s\n",
      "[CV 1/3; 5/24] START alg__max_depth=8, alg__min_samples_split=6, alg__n_estimators=20\n",
      "[CV 1/3; 5/24] END alg__max_depth=8, alg__min_samples_split=6, alg__n_estimators=20; total time=   2.3s\n",
      "[CV 2/3; 5/24] START alg__max_depth=8, alg__min_samples_split=6, alg__n_estimators=20\n",
      "[CV 2/3; 5/24] END alg__max_depth=8, alg__min_samples_split=6, alg__n_estimators=20; total time=   2.3s\n",
      "[CV 3/3; 5/24] START alg__max_depth=8, alg__min_samples_split=6, alg__n_estimators=20\n",
      "[CV 3/3; 5/24] END alg__max_depth=8, alg__min_samples_split=6, alg__n_estimators=20; total time=   2.4s\n",
      "[CV 1/3; 6/24] START alg__max_depth=8, alg__min_samples_split=6, alg__n_estimators=40\n",
      "[CV 1/3; 6/24] END alg__max_depth=8, alg__min_samples_split=6, alg__n_estimators=40; total time=   4.6s\n",
      "[CV 2/3; 6/24] START alg__max_depth=8, alg__min_samples_split=6, alg__n_estimators=40\n",
      "[CV 2/3; 6/24] END alg__max_depth=8, alg__min_samples_split=6, alg__n_estimators=40; total time=   4.7s\n",
      "[CV 3/3; 6/24] START alg__max_depth=8, alg__min_samples_split=6, alg__n_estimators=40\n",
      "[CV 3/3; 6/24] END alg__max_depth=8, alg__min_samples_split=6, alg__n_estimators=40; total time=   4.4s\n",
      "[CV 1/3; 7/24] START alg__max_depth=10, alg__min_samples_split=2, alg__n_estimators=20\n",
      "[CV 1/3; 7/24] END alg__max_depth=10, alg__min_samples_split=2, alg__n_estimators=20; total time=   2.7s\n",
      "[CV 2/3; 7/24] START alg__max_depth=10, alg__min_samples_split=2, alg__n_estimators=20\n",
      "[CV 2/3; 7/24] END alg__max_depth=10, alg__min_samples_split=2, alg__n_estimators=20; total time=   2.6s\n",
      "[CV 3/3; 7/24] START alg__max_depth=10, alg__min_samples_split=2, alg__n_estimators=20\n",
      "[CV 3/3; 7/24] END alg__max_depth=10, alg__min_samples_split=2, alg__n_estimators=20; total time=   2.6s\n",
      "[CV 1/3; 8/24] START alg__max_depth=10, alg__min_samples_split=2, alg__n_estimators=40\n",
      "[CV 1/3; 8/24] END alg__max_depth=10, alg__min_samples_split=2, alg__n_estimators=40; total time=   5.2s\n",
      "[CV 2/3; 8/24] START alg__max_depth=10, alg__min_samples_split=2, alg__n_estimators=40\n",
      "[CV 2/3; 8/24] END alg__max_depth=10, alg__min_samples_split=2, alg__n_estimators=40; total time=   5.3s\n",
      "[CV 3/3; 8/24] START alg__max_depth=10, alg__min_samples_split=2, alg__n_estimators=40\n",
      "[CV 3/3; 8/24] END alg__max_depth=10, alg__min_samples_split=2, alg__n_estimators=40; total time=   5.7s\n",
      "[CV 1/3; 9/24] START alg__max_depth=10, alg__min_samples_split=4, alg__n_estimators=20\n",
      "[CV 1/3; 9/24] END alg__max_depth=10, alg__min_samples_split=4, alg__n_estimators=20; total time=   2.8s\n",
      "[CV 2/3; 9/24] START alg__max_depth=10, alg__min_samples_split=4, alg__n_estimators=20\n",
      "[CV 2/3; 9/24] END alg__max_depth=10, alg__min_samples_split=4, alg__n_estimators=20; total time=   2.9s\n",
      "[CV 3/3; 9/24] START alg__max_depth=10, alg__min_samples_split=4, alg__n_estimators=20\n",
      "[CV 3/3; 9/24] END alg__max_depth=10, alg__min_samples_split=4, alg__n_estimators=20; total time=   2.8s\n",
      "[CV 1/3; 10/24] START alg__max_depth=10, alg__min_samples_split=4, alg__n_estimators=40\n",
      "[CV 1/3; 10/24] END alg__max_depth=10, alg__min_samples_split=4, alg__n_estimators=40; total time=   5.3s\n",
      "[CV 2/3; 10/24] START alg__max_depth=10, alg__min_samples_split=4, alg__n_estimators=40\n",
      "[CV 2/3; 10/24] END alg__max_depth=10, alg__min_samples_split=4, alg__n_estimators=40; total time=   5.5s\n",
      "[CV 3/3; 10/24] START alg__max_depth=10, alg__min_samples_split=4, alg__n_estimators=40\n",
      "[CV 3/3; 10/24] END alg__max_depth=10, alg__min_samples_split=4, alg__n_estimators=40; total time=   5.3s\n",
      "[CV 1/3; 11/24] START alg__max_depth=10, alg__min_samples_split=6, alg__n_estimators=20\n",
      "[CV 1/3; 11/24] END alg__max_depth=10, alg__min_samples_split=6, alg__n_estimators=20; total time=   3.0s\n",
      "[CV 2/3; 11/24] START alg__max_depth=10, alg__min_samples_split=6, alg__n_estimators=20\n",
      "[CV 2/3; 11/24] END alg__max_depth=10, alg__min_samples_split=6, alg__n_estimators=20; total time=   3.1s\n",
      "[CV 3/3; 11/24] START alg__max_depth=10, alg__min_samples_split=6, alg__n_estimators=20\n",
      "[CV 3/3; 11/24] END alg__max_depth=10, alg__min_samples_split=6, alg__n_estimators=20; total time=   2.8s\n",
      "[CV 1/3; 12/24] START alg__max_depth=10, alg__min_samples_split=6, alg__n_estimators=40\n",
      "[CV 1/3; 12/24] END alg__max_depth=10, alg__min_samples_split=6, alg__n_estimators=40; total time=   5.3s\n",
      "[CV 2/3; 12/24] START alg__max_depth=10, alg__min_samples_split=6, alg__n_estimators=40\n",
      "[CV 2/3; 12/24] END alg__max_depth=10, alg__min_samples_split=6, alg__n_estimators=40; total time=   5.3s\n",
      "[CV 3/3; 12/24] START alg__max_depth=10, alg__min_samples_split=6, alg__n_estimators=40\n",
      "[CV 3/3; 12/24] END alg__max_depth=10, alg__min_samples_split=6, alg__n_estimators=40; total time=   5.3s\n",
      "[CV 1/3; 13/24] START alg__max_depth=15, alg__min_samples_split=2, alg__n_estimators=20\n",
      "[CV 1/3; 13/24] END alg__max_depth=15, alg__min_samples_split=2, alg__n_estimators=20; total time=   3.9s\n",
      "[CV 2/3; 13/24] START alg__max_depth=15, alg__min_samples_split=2, alg__n_estimators=20\n",
      "[CV 2/3; 13/24] END alg__max_depth=15, alg__min_samples_split=2, alg__n_estimators=20; total time=   3.8s\n",
      "[CV 3/3; 13/24] START alg__max_depth=15, alg__min_samples_split=2, alg__n_estimators=20\n",
      "[CV 3/3; 13/24] END alg__max_depth=15, alg__min_samples_split=2, alg__n_estimators=20; total time=   3.9s\n",
      "[CV 1/3; 14/24] START alg__max_depth=15, alg__min_samples_split=2, alg__n_estimators=40\n",
      "[CV 1/3; 14/24] END alg__max_depth=15, alg__min_samples_split=2, alg__n_estimators=40; total time=   7.4s\n",
      "[CV 2/3; 14/24] START alg__max_depth=15, alg__min_samples_split=2, alg__n_estimators=40\n",
      "[CV 2/3; 14/24] END alg__max_depth=15, alg__min_samples_split=2, alg__n_estimators=40; total time=   7.3s\n",
      "[CV 3/3; 14/24] START alg__max_depth=15, alg__min_samples_split=2, alg__n_estimators=40\n",
      "[CV 3/3; 14/24] END alg__max_depth=15, alg__min_samples_split=2, alg__n_estimators=40; total time=   7.3s\n",
      "[CV 1/3; 15/24] START alg__max_depth=15, alg__min_samples_split=4, alg__n_estimators=20\n",
      "[CV 1/3; 15/24] END alg__max_depth=15, alg__min_samples_split=4, alg__n_estimators=20; total time=   3.7s\n",
      "[CV 2/3; 15/24] START alg__max_depth=15, alg__min_samples_split=4, alg__n_estimators=20\n",
      "[CV 2/3; 15/24] END alg__max_depth=15, alg__min_samples_split=4, alg__n_estimators=20; total time=   3.6s\n",
      "[CV 3/3; 15/24] START alg__max_depth=15, alg__min_samples_split=4, alg__n_estimators=20\n",
      "[CV 3/3; 15/24] END alg__max_depth=15, alg__min_samples_split=4, alg__n_estimators=20; total time=   3.7s\n",
      "[CV 1/3; 16/24] START alg__max_depth=15, alg__min_samples_split=4, alg__n_estimators=40\n",
      "[CV 1/3; 16/24] END alg__max_depth=15, alg__min_samples_split=4, alg__n_estimators=40; total time=   7.1s\n",
      "[CV 2/3; 16/24] START alg__max_depth=15, alg__min_samples_split=4, alg__n_estimators=40\n",
      "[CV 2/3; 16/24] END alg__max_depth=15, alg__min_samples_split=4, alg__n_estimators=40; total time=   7.1s\n",
      "[CV 3/3; 16/24] START alg__max_depth=15, alg__min_samples_split=4, alg__n_estimators=40\n",
      "[CV 3/3; 16/24] END alg__max_depth=15, alg__min_samples_split=4, alg__n_estimators=40; total time=   7.3s\n",
      "[CV 1/3; 17/24] START alg__max_depth=15, alg__min_samples_split=6, alg__n_estimators=20\n",
      "[CV 1/3; 17/24] END alg__max_depth=15, alg__min_samples_split=6, alg__n_estimators=20; total time=   4.0s\n",
      "[CV 2/3; 17/24] START alg__max_depth=15, alg__min_samples_split=6, alg__n_estimators=20\n",
      "[CV 2/3; 17/24] END alg__max_depth=15, alg__min_samples_split=6, alg__n_estimators=20; total time=   3.8s\n",
      "[CV 3/3; 17/24] START alg__max_depth=15, alg__min_samples_split=6, alg__n_estimators=20\n",
      "[CV 3/3; 17/24] END alg__max_depth=15, alg__min_samples_split=6, alg__n_estimators=20; total time=   3.7s\n",
      "[CV 1/3; 18/24] START alg__max_depth=15, alg__min_samples_split=6, alg__n_estimators=40\n",
      "[CV 1/3; 18/24] END alg__max_depth=15, alg__min_samples_split=6, alg__n_estimators=40; total time=   7.0s\n",
      "[CV 2/3; 18/24] START alg__max_depth=15, alg__min_samples_split=6, alg__n_estimators=40\n",
      "[CV 2/3; 18/24] END alg__max_depth=15, alg__min_samples_split=6, alg__n_estimators=40; total time=   7.1s\n",
      "[CV 3/3; 18/24] START alg__max_depth=15, alg__min_samples_split=6, alg__n_estimators=40\n",
      "[CV 3/3; 18/24] END alg__max_depth=15, alg__min_samples_split=6, alg__n_estimators=40; total time=   7.2s\n",
      "[CV 1/3; 19/24] START alg__max_depth=20, alg__min_samples_split=2, alg__n_estimators=20\n",
      "[CV 1/3; 19/24] END alg__max_depth=20, alg__min_samples_split=2, alg__n_estimators=20; total time=   4.6s\n",
      "[CV 2/3; 19/24] START alg__max_depth=20, alg__min_samples_split=2, alg__n_estimators=20\n",
      "[CV 2/3; 19/24] END alg__max_depth=20, alg__min_samples_split=2, alg__n_estimators=20; total time=   4.6s\n",
      "[CV 3/3; 19/24] START alg__max_depth=20, alg__min_samples_split=2, alg__n_estimators=20\n",
      "[CV 3/3; 19/24] END alg__max_depth=20, alg__min_samples_split=2, alg__n_estimators=20; total time=   4.6s\n",
      "[CV 1/3; 20/24] START alg__max_depth=20, alg__min_samples_split=2, alg__n_estimators=40\n",
      "[CV 1/3; 20/24] END alg__max_depth=20, alg__min_samples_split=2, alg__n_estimators=40; total time=   9.1s\n",
      "[CV 2/3; 20/24] START alg__max_depth=20, alg__min_samples_split=2, alg__n_estimators=40\n",
      "[CV 2/3; 20/24] END alg__max_depth=20, alg__min_samples_split=2, alg__n_estimators=40; total time=   9.3s\n",
      "[CV 3/3; 20/24] START alg__max_depth=20, alg__min_samples_split=2, alg__n_estimators=40\n",
      "[CV 3/3; 20/24] END alg__max_depth=20, alg__min_samples_split=2, alg__n_estimators=40; total time=   9.1s\n",
      "[CV 1/3; 21/24] START alg__max_depth=20, alg__min_samples_split=4, alg__n_estimators=20\n",
      "[CV 1/3; 21/24] END alg__max_depth=20, alg__min_samples_split=4, alg__n_estimators=20; total time=   4.4s\n",
      "[CV 2/3; 21/24] START alg__max_depth=20, alg__min_samples_split=4, alg__n_estimators=20\n",
      "[CV 2/3; 21/24] END alg__max_depth=20, alg__min_samples_split=4, alg__n_estimators=20; total time=   4.5s\n",
      "[CV 3/3; 21/24] START alg__max_depth=20, alg__min_samples_split=4, alg__n_estimators=20\n",
      "[CV 3/3; 21/24] END alg__max_depth=20, alg__min_samples_split=4, alg__n_estimators=20; total time=   4.5s\n",
      "[CV 1/3; 22/24] START alg__max_depth=20, alg__min_samples_split=4, alg__n_estimators=40\n",
      "[CV 1/3; 22/24] END alg__max_depth=20, alg__min_samples_split=4, alg__n_estimators=40; total time=   9.1s\n",
      "[CV 2/3; 22/24] START alg__max_depth=20, alg__min_samples_split=4, alg__n_estimators=40\n",
      "[CV 2/3; 22/24] END alg__max_depth=20, alg__min_samples_split=4, alg__n_estimators=40; total time=   8.7s\n",
      "[CV 3/3; 22/24] START alg__max_depth=20, alg__min_samples_split=4, alg__n_estimators=40\n",
      "[CV 3/3; 22/24] END alg__max_depth=20, alg__min_samples_split=4, alg__n_estimators=40; total time=   8.4s\n",
      "[CV 1/3; 23/24] START alg__max_depth=20, alg__min_samples_split=6, alg__n_estimators=20\n",
      "[CV 1/3; 23/24] END alg__max_depth=20, alg__min_samples_split=6, alg__n_estimators=20; total time=   4.2s\n",
      "[CV 2/3; 23/24] START alg__max_depth=20, alg__min_samples_split=6, alg__n_estimators=20\n",
      "[CV 2/3; 23/24] END alg__max_depth=20, alg__min_samples_split=6, alg__n_estimators=20; total time=   4.5s\n",
      "[CV 3/3; 23/24] START alg__max_depth=20, alg__min_samples_split=6, alg__n_estimators=20\n",
      "[CV 3/3; 23/24] END alg__max_depth=20, alg__min_samples_split=6, alg__n_estimators=20; total time=   4.7s\n",
      "[CV 1/3; 24/24] START alg__max_depth=20, alg__min_samples_split=6, alg__n_estimators=40\n",
      "[CV 1/3; 24/24] END alg__max_depth=20, alg__min_samples_split=6, alg__n_estimators=40; total time=   8.5s\n",
      "[CV 2/3; 24/24] START alg__max_depth=20, alg__min_samples_split=6, alg__n_estimators=40\n",
      "[CV 2/3; 24/24] END alg__max_depth=20, alg__min_samples_split=6, alg__n_estimators=40; total time=   8.2s\n",
      "[CV 3/3; 24/24] START alg__max_depth=20, alg__min_samples_split=6, alg__n_estimators=40\n",
      "[CV 3/3; 24/24] END alg__max_depth=20, alg__min_samples_split=6, alg__n_estimators=40; total time=   8.3s\n",
      "CPU times: user 6min 2s, sys: 988 ms, total: 6min 3s\n",
      "Wall time: 6min 4s\n"
     ]
    }
   ],
   "source": [
    "%%time\n",
    "RFR = GridSearchCV(forest, params, cv=3, verbose=10, n_jobs=-1, scoring='neg_root_mean_squared_error', error_score='raise')\n",
    "RFR.fit(features_train, target_train)\n",
    "\n",
    "rmse.append(abs(RFR.best_score_))\n",
    "training_time.append(RFR.refit_time_)"
   ]
  },
  {
   "cell_type": "markdown",
   "metadata": {},
   "source": [
    "### CatBoostRegressor"
   ]
  },
  {
   "cell_type": "code",
   "execution_count": 33,
   "metadata": {},
   "outputs": [],
   "source": [
    "params = {\n",
    "    'depth': [10, 20],\n",
    "    'iterations': [100, 200, 300],\n",
    "}"
   ]
  },
  {
   "cell_type": "code",
   "execution_count": 34,
   "metadata": {},
   "outputs": [
    {
     "name": "stdout",
     "output_type": "stream",
     "text": [
      "Fitting 3 folds for each of 6 candidates, totalling 18 fits\n",
      "[CV 1/3; 1/6] START depth=10, iterations=100....................................\n",
      "Learning rate set to 0.5\n",
      "0:\tlearn: 3178.9348982\ttotal: 109ms\tremaining: 10.8s\n",
      "1:\tlearn: 2493.9623040\ttotal: 165ms\tremaining: 8.1s\n",
      "2:\tlearn: 2162.3156130\ttotal: 225ms\tremaining: 7.29s\n",
      "3:\tlearn: 1990.9528294\ttotal: 277ms\tremaining: 6.65s\n",
      "4:\tlearn: 1905.8626119\ttotal: 327ms\tremaining: 6.21s\n",
      "5:\tlearn: 1856.2290880\ttotal: 392ms\tremaining: 6.13s\n",
      "6:\tlearn: 1823.1242256\ttotal: 441ms\tremaining: 5.86s\n",
      "7:\tlearn: 1800.6890239\ttotal: 492ms\tremaining: 5.66s\n",
      "8:\tlearn: 1777.5854532\ttotal: 542ms\tremaining: 5.48s\n",
      "9:\tlearn: 1759.2368057\ttotal: 594ms\tremaining: 5.34s\n",
      "10:\tlearn: 1750.9166729\ttotal: 642ms\tremaining: 5.2s\n",
      "11:\tlearn: 1735.7378172\ttotal: 689ms\tremaining: 5.05s\n",
      "12:\tlearn: 1716.8373856\ttotal: 738ms\tremaining: 4.94s\n",
      "13:\tlearn: 1708.7147482\ttotal: 788ms\tremaining: 4.84s\n",
      "14:\tlearn: 1705.4343292\ttotal: 841ms\tremaining: 4.76s\n",
      "15:\tlearn: 1698.6241836\ttotal: 891ms\tremaining: 4.67s\n",
      "16:\tlearn: 1686.9064744\ttotal: 939ms\tremaining: 4.59s\n",
      "17:\tlearn: 1681.1895316\ttotal: 987ms\tremaining: 4.5s\n",
      "18:\tlearn: 1675.6533975\ttotal: 1.04s\tremaining: 4.42s\n",
      "19:\tlearn: 1668.6110978\ttotal: 1.09s\tremaining: 4.36s\n",
      "20:\tlearn: 1655.1354506\ttotal: 1.14s\tremaining: 4.28s\n",
      "21:\tlearn: 1649.5845965\ttotal: 1.19s\tremaining: 4.22s\n",
      "22:\tlearn: 1639.7143926\ttotal: 1.24s\tremaining: 4.14s\n",
      "23:\tlearn: 1631.1247985\ttotal: 1.28s\tremaining: 4.06s\n",
      "24:\tlearn: 1627.0327007\ttotal: 1.33s\tremaining: 4s\n",
      "25:\tlearn: 1623.0110279\ttotal: 1.38s\tremaining: 3.94s\n",
      "26:\tlearn: 1618.3953797\ttotal: 1.43s\tremaining: 3.87s\n",
      "27:\tlearn: 1609.4433978\ttotal: 1.49s\tremaining: 3.82s\n",
      "28:\tlearn: 1605.2504303\ttotal: 1.53s\tremaining: 3.75s\n",
      "29:\tlearn: 1601.5909146\ttotal: 1.58s\tremaining: 3.69s\n",
      "30:\tlearn: 1594.9717109\ttotal: 1.63s\tremaining: 3.63s\n",
      "31:\tlearn: 1590.8729525\ttotal: 1.68s\tremaining: 3.57s\n",
      "32:\tlearn: 1586.0598012\ttotal: 1.73s\tremaining: 3.51s\n",
      "33:\tlearn: 1580.7433898\ttotal: 1.78s\tremaining: 3.46s\n",
      "34:\tlearn: 1579.1515595\ttotal: 1.83s\tremaining: 3.4s\n",
      "35:\tlearn: 1573.1393382\ttotal: 1.88s\tremaining: 3.35s\n",
      "36:\tlearn: 1572.1635614\ttotal: 1.93s\tremaining: 3.29s\n",
      "37:\tlearn: 1568.8813214\ttotal: 1.98s\tremaining: 3.23s\n",
      "38:\tlearn: 1564.9724613\ttotal: 2.03s\tremaining: 3.18s\n",
      "39:\tlearn: 1561.6444154\ttotal: 2.08s\tremaining: 3.12s\n",
      "40:\tlearn: 1559.4385567\ttotal: 2.13s\tremaining: 3.07s\n",
      "41:\tlearn: 1557.7403225\ttotal: 2.18s\tremaining: 3.02s\n",
      "42:\tlearn: 1554.3059079\ttotal: 2.23s\tremaining: 2.96s\n",
      "43:\tlearn: 1554.2703474\ttotal: 2.27s\tremaining: 2.89s\n",
      "44:\tlearn: 1550.8989018\ttotal: 2.32s\tremaining: 2.83s\n",
      "45:\tlearn: 1547.0927857\ttotal: 2.37s\tremaining: 2.78s\n",
      "46:\tlearn: 1544.8550102\ttotal: 2.42s\tremaining: 2.73s\n",
      "47:\tlearn: 1543.3241424\ttotal: 2.48s\tremaining: 2.68s\n",
      "48:\tlearn: 1540.4526275\ttotal: 2.53s\tremaining: 2.63s\n",
      "49:\tlearn: 1537.4339107\ttotal: 2.58s\tremaining: 2.58s\n",
      "50:\tlearn: 1534.1889865\ttotal: 2.63s\tremaining: 2.53s\n",
      "51:\tlearn: 1530.3358635\ttotal: 2.68s\tremaining: 2.47s\n",
      "52:\tlearn: 1528.5525026\ttotal: 2.73s\tremaining: 2.42s\n",
      "53:\tlearn: 1526.4331524\ttotal: 2.78s\tremaining: 2.37s\n",
      "54:\tlearn: 1522.0925634\ttotal: 2.82s\tremaining: 2.31s\n",
      "55:\tlearn: 1520.2543568\ttotal: 2.88s\tremaining: 2.26s\n",
      "56:\tlearn: 1517.2994644\ttotal: 2.92s\tremaining: 2.21s\n",
      "57:\tlearn: 1515.7676098\ttotal: 2.97s\tremaining: 2.15s\n",
      "58:\tlearn: 1512.9371662\ttotal: 3.02s\tremaining: 2.1s\n",
      "59:\tlearn: 1510.6472597\ttotal: 3.08s\tremaining: 2.05s\n",
      "60:\tlearn: 1509.5670494\ttotal: 3.13s\tremaining: 2s\n",
      "61:\tlearn: 1507.0166265\ttotal: 3.18s\tremaining: 1.95s\n",
      "62:\tlearn: 1504.8718147\ttotal: 3.23s\tremaining: 1.9s\n",
      "63:\tlearn: 1502.4063926\ttotal: 3.28s\tremaining: 1.84s\n",
      "64:\tlearn: 1502.3285487\ttotal: 3.33s\tremaining: 1.79s\n",
      "65:\tlearn: 1496.8932518\ttotal: 3.38s\tremaining: 1.74s\n",
      "66:\tlearn: 1493.6295715\ttotal: 3.43s\tremaining: 1.69s\n",
      "67:\tlearn: 1491.9661078\ttotal: 3.48s\tremaining: 1.64s\n",
      "68:\tlearn: 1489.0246820\ttotal: 3.52s\tremaining: 1.58s\n",
      "69:\tlearn: 1486.4555633\ttotal: 3.58s\tremaining: 1.53s\n",
      "70:\tlearn: 1485.1232584\ttotal: 3.62s\tremaining: 1.48s\n",
      "71:\tlearn: 1483.1693572\ttotal: 3.67s\tremaining: 1.43s\n",
      "72:\tlearn: 1479.8869302\ttotal: 3.72s\tremaining: 1.38s\n",
      "73:\tlearn: 1477.7452089\ttotal: 3.77s\tremaining: 1.33s\n",
      "74:\tlearn: 1476.4538807\ttotal: 3.82s\tremaining: 1.27s\n",
      "75:\tlearn: 1472.9099689\ttotal: 3.87s\tremaining: 1.22s\n",
      "76:\tlearn: 1471.0414146\ttotal: 3.92s\tremaining: 1.17s\n",
      "77:\tlearn: 1470.0842274\ttotal: 3.97s\tremaining: 1.12s\n",
      "78:\tlearn: 1468.3254342\ttotal: 4.02s\tremaining: 1.07s\n",
      "79:\tlearn: 1467.9121239\ttotal: 4.07s\tremaining: 1.02s\n",
      "80:\tlearn: 1467.0422504\ttotal: 4.12s\tremaining: 966ms\n",
      "81:\tlearn: 1465.6042351\ttotal: 4.17s\tremaining: 916ms\n",
      "82:\tlearn: 1463.3287166\ttotal: 4.22s\tremaining: 865ms\n",
      "83:\tlearn: 1461.7248169\ttotal: 4.27s\tremaining: 814ms\n",
      "84:\tlearn: 1459.7999667\ttotal: 4.32s\tremaining: 762ms\n",
      "85:\tlearn: 1458.4862890\ttotal: 4.37s\tremaining: 712ms\n",
      "86:\tlearn: 1457.1105494\ttotal: 4.42s\tremaining: 661ms\n",
      "87:\tlearn: 1454.8897382\ttotal: 4.47s\tremaining: 610ms\n",
      "88:\tlearn: 1454.0311349\ttotal: 4.53s\tremaining: 560ms\n",
      "89:\tlearn: 1453.1914868\ttotal: 4.58s\tremaining: 509ms\n",
      "90:\tlearn: 1450.3261364\ttotal: 4.64s\tremaining: 459ms\n",
      "91:\tlearn: 1449.1868428\ttotal: 4.68s\tremaining: 407ms\n",
      "92:\tlearn: 1447.3293556\ttotal: 4.74s\tremaining: 356ms\n",
      "93:\tlearn: 1445.7468867\ttotal: 4.78s\tremaining: 305ms\n",
      "94:\tlearn: 1441.4671458\ttotal: 4.83s\tremaining: 254ms\n",
      "95:\tlearn: 1440.1275659\ttotal: 4.88s\tremaining: 203ms\n",
      "96:\tlearn: 1437.9831643\ttotal: 4.93s\tremaining: 153ms\n",
      "97:\tlearn: 1436.7348004\ttotal: 4.99s\tremaining: 102ms\n",
      "98:\tlearn: 1435.1191914\ttotal: 5.04s\tremaining: 50.9ms\n",
      "99:\tlearn: 1432.1789378\ttotal: 5.08s\tremaining: 0us\n",
      "[CV 1/3; 1/6] END ..................depth=10, iterations=100; total time=   5.7s\n",
      "[CV 2/3; 1/6] START depth=10, iterations=100....................................\n",
      "Learning rate set to 0.5\n",
      "0:\tlearn: 3167.6556709\ttotal: 54.9ms\tremaining: 5.43s\n",
      "1:\tlearn: 2500.2626853\ttotal: 106ms\tremaining: 5.22s\n",
      "2:\tlearn: 2161.5448663\ttotal: 159ms\tremaining: 5.13s\n",
      "3:\tlearn: 2010.2342081\ttotal: 210ms\tremaining: 5.05s\n",
      "4:\tlearn: 1933.3193805\ttotal: 257ms\tremaining: 4.88s\n",
      "5:\tlearn: 1865.1099565\ttotal: 312ms\tremaining: 4.89s\n",
      "6:\tlearn: 1833.4645892\ttotal: 361ms\tremaining: 4.8s\n",
      "7:\tlearn: 1808.2796757\ttotal: 412ms\tremaining: 4.74s\n",
      "8:\tlearn: 1789.5194243\ttotal: 462ms\tremaining: 4.67s\n",
      "9:\tlearn: 1775.6590751\ttotal: 511ms\tremaining: 4.6s\n",
      "10:\tlearn: 1757.5624120\ttotal: 564ms\tremaining: 4.57s\n",
      "11:\tlearn: 1742.8503320\ttotal: 616ms\tremaining: 4.52s\n",
      "12:\tlearn: 1729.6154446\ttotal: 664ms\tremaining: 4.44s\n",
      "13:\tlearn: 1721.9682478\ttotal: 715ms\tremaining: 4.39s\n",
      "14:\tlearn: 1714.4571232\ttotal: 764ms\tremaining: 4.33s\n",
      "15:\tlearn: 1703.9177101\ttotal: 819ms\tremaining: 4.3s\n",
      "16:\tlearn: 1699.0100066\ttotal: 867ms\tremaining: 4.23s\n",
      "17:\tlearn: 1688.7731455\ttotal: 917ms\tremaining: 4.18s\n",
      "18:\tlearn: 1682.0439002\ttotal: 966ms\tremaining: 4.12s\n",
      "19:\tlearn: 1675.8831582\ttotal: 1.02s\tremaining: 4.07s\n",
      "20:\tlearn: 1667.0685722\ttotal: 1.07s\tremaining: 4.02s\n",
      "21:\tlearn: 1658.9539295\ttotal: 1.12s\tremaining: 3.96s\n",
      "22:\tlearn: 1653.4368550\ttotal: 1.17s\tremaining: 3.9s\n",
      "23:\tlearn: 1645.7361619\ttotal: 1.22s\tremaining: 3.85s\n",
      "24:\tlearn: 1638.0486188\ttotal: 1.26s\tremaining: 3.79s\n",
      "25:\tlearn: 1632.7087855\ttotal: 1.31s\tremaining: 3.74s\n",
      "26:\tlearn: 1626.6255165\ttotal: 1.36s\tremaining: 3.69s\n",
      "27:\tlearn: 1622.3317418\ttotal: 1.42s\tremaining: 3.64s\n",
      "28:\tlearn: 1619.7050138\ttotal: 1.47s\tremaining: 3.59s\n",
      "29:\tlearn: 1616.5570597\ttotal: 1.52s\tremaining: 3.54s\n",
      "30:\tlearn: 1610.6719160\ttotal: 1.57s\tremaining: 3.5s\n",
      "31:\tlearn: 1604.4851290\ttotal: 1.63s\tremaining: 3.46s\n",
      "32:\tlearn: 1597.9938573\ttotal: 1.68s\tremaining: 3.41s\n",
      "33:\tlearn: 1595.5314089\ttotal: 1.73s\tremaining: 3.35s\n",
      "34:\tlearn: 1590.2238331\ttotal: 1.78s\tremaining: 3.31s\n",
      "35:\tlearn: 1587.1721131\ttotal: 1.83s\tremaining: 3.25s\n",
      "36:\tlearn: 1583.7279271\ttotal: 1.88s\tremaining: 3.2s\n",
      "37:\tlearn: 1580.0412141\ttotal: 1.93s\tremaining: 3.14s\n",
      "38:\tlearn: 1575.0765957\ttotal: 1.98s\tremaining: 3.09s\n",
      "39:\tlearn: 1571.4527220\ttotal: 2.03s\tremaining: 3.05s\n",
      "40:\tlearn: 1568.0757231\ttotal: 2.09s\tremaining: 3s\n",
      "41:\tlearn: 1566.1580666\ttotal: 2.14s\tremaining: 2.96s\n",
      "42:\tlearn: 1560.4515368\ttotal: 2.19s\tremaining: 2.9s\n",
      "43:\tlearn: 1556.9595790\ttotal: 2.24s\tremaining: 2.85s\n",
      "44:\tlearn: 1555.0007145\ttotal: 2.29s\tremaining: 2.8s\n",
      "45:\tlearn: 1551.2227764\ttotal: 2.34s\tremaining: 2.75s\n",
      "46:\tlearn: 1549.3518149\ttotal: 2.39s\tremaining: 2.69s\n",
      "47:\tlearn: 1545.6993984\ttotal: 2.44s\tremaining: 2.64s\n",
      "48:\tlearn: 1544.3256326\ttotal: 2.49s\tremaining: 2.59s\n",
      "49:\tlearn: 1541.9538866\ttotal: 2.54s\tremaining: 2.54s\n",
      "50:\tlearn: 1539.3614243\ttotal: 2.59s\tremaining: 2.49s\n",
      "51:\tlearn: 1538.3585470\ttotal: 2.65s\tremaining: 2.44s\n",
      "52:\tlearn: 1536.3394500\ttotal: 2.7s\tremaining: 2.39s\n",
      "53:\tlearn: 1534.4329339\ttotal: 2.75s\tremaining: 2.34s\n",
      "54:\tlearn: 1532.4663538\ttotal: 2.81s\tremaining: 2.3s\n",
      "55:\tlearn: 1530.8547036\ttotal: 2.86s\tremaining: 2.25s\n",
      "56:\tlearn: 1528.8493894\ttotal: 2.91s\tremaining: 2.19s\n",
      "57:\tlearn: 1528.1695725\ttotal: 2.96s\tremaining: 2.14s\n",
      "58:\tlearn: 1525.9645570\ttotal: 3s\tremaining: 2.09s\n",
      "59:\tlearn: 1525.0600339\ttotal: 3.05s\tremaining: 2.04s\n",
      "60:\tlearn: 1524.0195058\ttotal: 3.1s\tremaining: 1.98s\n",
      "61:\tlearn: 1519.6051902\ttotal: 3.16s\tremaining: 1.94s\n",
      "62:\tlearn: 1516.5932720\ttotal: 3.21s\tremaining: 1.88s\n",
      "63:\tlearn: 1514.2829352\ttotal: 3.25s\tremaining: 1.83s\n",
      "64:\tlearn: 1511.5401450\ttotal: 3.3s\tremaining: 1.78s\n",
      "65:\tlearn: 1508.1197002\ttotal: 3.36s\tremaining: 1.73s\n",
      "66:\tlearn: 1506.0188433\ttotal: 3.4s\tremaining: 1.68s\n",
      "67:\tlearn: 1503.5247647\ttotal: 3.45s\tremaining: 1.63s\n",
      "68:\tlearn: 1499.4304596\ttotal: 3.5s\tremaining: 1.57s\n",
      "69:\tlearn: 1498.4344274\ttotal: 3.55s\tremaining: 1.52s\n",
      "70:\tlearn: 1497.4122386\ttotal: 3.6s\tremaining: 1.47s\n",
      "71:\tlearn: 1491.8417415\ttotal: 3.65s\tremaining: 1.42s\n",
      "72:\tlearn: 1485.5001923\ttotal: 3.7s\tremaining: 1.37s\n",
      "73:\tlearn: 1483.2985193\ttotal: 3.75s\tremaining: 1.32s\n",
      "74:\tlearn: 1482.1441548\ttotal: 3.8s\tremaining: 1.27s\n",
      "75:\tlearn: 1477.1026891\ttotal: 3.86s\tremaining: 1.22s\n",
      "76:\tlearn: 1474.6537984\ttotal: 3.91s\tremaining: 1.17s\n",
      "77:\tlearn: 1471.4708521\ttotal: 3.96s\tremaining: 1.12s\n",
      "78:\tlearn: 1467.9895316\ttotal: 4.01s\tremaining: 1.07s\n",
      "79:\tlearn: 1464.5485295\ttotal: 4.07s\tremaining: 1.02s\n",
      "80:\tlearn: 1460.8622557\ttotal: 4.12s\tremaining: 966ms\n",
      "81:\tlearn: 1459.7531603\ttotal: 4.17s\tremaining: 915ms\n",
      "82:\tlearn: 1459.5868070\ttotal: 4.22s\tremaining: 864ms\n",
      "83:\tlearn: 1456.9617350\ttotal: 4.27s\tremaining: 814ms\n",
      "84:\tlearn: 1453.5748171\ttotal: 4.33s\tremaining: 763ms\n",
      "85:\tlearn: 1450.1573452\ttotal: 4.38s\tremaining: 712ms\n",
      "86:\tlearn: 1447.5492691\ttotal: 4.43s\tremaining: 662ms\n",
      "87:\tlearn: 1445.2927793\ttotal: 4.48s\tremaining: 611ms\n",
      "88:\tlearn: 1443.0067282\ttotal: 4.53s\tremaining: 560ms\n",
      "89:\tlearn: 1441.5583739\ttotal: 4.58s\tremaining: 509ms\n",
      "90:\tlearn: 1440.4714563\ttotal: 4.64s\tremaining: 459ms\n",
      "91:\tlearn: 1439.0769561\ttotal: 4.69s\tremaining: 408ms\n",
      "92:\tlearn: 1436.5938800\ttotal: 4.74s\tremaining: 357ms\n",
      "93:\tlearn: 1435.6865729\ttotal: 4.79s\tremaining: 306ms\n",
      "94:\tlearn: 1434.1222495\ttotal: 4.84s\tremaining: 255ms\n",
      "95:\tlearn: 1433.1259901\ttotal: 4.89s\tremaining: 204ms\n",
      "96:\tlearn: 1430.9823108\ttotal: 4.94s\tremaining: 153ms\n",
      "97:\tlearn: 1429.7182603\ttotal: 4.99s\tremaining: 102ms\n",
      "98:\tlearn: 1428.9399111\ttotal: 5.04s\tremaining: 50.9ms\n",
      "99:\tlearn: 1428.5236958\ttotal: 5.09s\tremaining: 0us\n",
      "[CV 2/3; 1/6] END ..................depth=10, iterations=100; total time=   5.7s\n",
      "[CV 3/3; 1/6] START depth=10, iterations=100....................................\n",
      "Learning rate set to 0.5\n",
      "0:\tlearn: 3142.5274659\ttotal: 53.8ms\tremaining: 5.33s\n",
      "1:\tlearn: 2482.3146841\ttotal: 111ms\tremaining: 5.46s\n",
      "2:\tlearn: 2148.3304119\ttotal: 164ms\tremaining: 5.31s\n",
      "3:\tlearn: 1981.9747457\ttotal: 217ms\tremaining: 5.21s\n",
      "4:\tlearn: 1900.8779885\ttotal: 266ms\tremaining: 5.06s\n",
      "5:\tlearn: 1859.1532606\ttotal: 317ms\tremaining: 4.97s\n",
      "6:\tlearn: 1816.2323834\ttotal: 366ms\tremaining: 4.87s\n",
      "7:\tlearn: 1795.6066360\ttotal: 413ms\tremaining: 4.75s\n",
      "8:\tlearn: 1778.2304179\ttotal: 462ms\tremaining: 4.67s\n",
      "9:\tlearn: 1768.1156472\ttotal: 511ms\tremaining: 4.6s\n",
      "10:\tlearn: 1752.0820260\ttotal: 562ms\tremaining: 4.54s\n",
      "11:\tlearn: 1744.6028777\ttotal: 612ms\tremaining: 4.49s\n",
      "12:\tlearn: 1733.9764515\ttotal: 661ms\tremaining: 4.42s\n",
      "13:\tlearn: 1717.2345129\ttotal: 713ms\tremaining: 4.38s\n",
      "14:\tlearn: 1699.7903176\ttotal: 764ms\tremaining: 4.33s\n",
      "15:\tlearn: 1692.1179456\ttotal: 813ms\tremaining: 4.27s\n",
      "16:\tlearn: 1685.4816326\ttotal: 863ms\tremaining: 4.21s\n",
      "17:\tlearn: 1680.2327324\ttotal: 912ms\tremaining: 4.16s\n",
      "18:\tlearn: 1670.5973523\ttotal: 963ms\tremaining: 4.11s\n",
      "19:\tlearn: 1665.0020555\ttotal: 1.01s\tremaining: 4.05s\n",
      "20:\tlearn: 1655.2110379\ttotal: 1.06s\tremaining: 3.99s\n",
      "21:\tlearn: 1648.4574625\ttotal: 1.11s\tremaining: 3.94s\n",
      "22:\tlearn: 1638.2479024\ttotal: 1.17s\tremaining: 3.93s\n",
      "23:\tlearn: 1634.7862676\ttotal: 1.22s\tremaining: 3.88s\n",
      "24:\tlearn: 1626.9868630\ttotal: 1.27s\tremaining: 3.83s\n",
      "25:\tlearn: 1619.7953392\ttotal: 1.32s\tremaining: 3.77s\n",
      "26:\tlearn: 1613.0157031\ttotal: 1.38s\tremaining: 3.72s\n",
      "27:\tlearn: 1610.2656649\ttotal: 1.43s\tremaining: 3.67s\n",
      "28:\tlearn: 1605.4628488\ttotal: 1.48s\tremaining: 3.61s\n",
      "29:\tlearn: 1600.2091792\ttotal: 1.52s\tremaining: 3.56s\n",
      "30:\tlearn: 1594.4320432\ttotal: 1.57s\tremaining: 3.51s\n",
      "31:\tlearn: 1591.4476391\ttotal: 1.62s\tremaining: 3.45s\n",
      "32:\tlearn: 1589.2751609\ttotal: 1.67s\tremaining: 3.4s\n",
      "33:\tlearn: 1581.8789970\ttotal: 1.72s\tremaining: 3.35s\n",
      "34:\tlearn: 1580.1678422\ttotal: 1.78s\tremaining: 3.3s\n",
      "35:\tlearn: 1577.5029753\ttotal: 1.83s\tremaining: 3.25s\n",
      "36:\tlearn: 1573.3322420\ttotal: 1.88s\tremaining: 3.2s\n",
      "37:\tlearn: 1569.6952327\ttotal: 1.93s\tremaining: 3.15s\n",
      "38:\tlearn: 1563.4351788\ttotal: 1.98s\tremaining: 3.1s\n",
      "39:\tlearn: 1559.4253749\ttotal: 2.03s\tremaining: 3.04s\n",
      "40:\tlearn: 1558.7577419\ttotal: 2.08s\tremaining: 2.99s\n",
      "41:\tlearn: 1556.0642300\ttotal: 2.13s\tremaining: 2.94s\n",
      "42:\tlearn: 1554.3411764\ttotal: 2.18s\tremaining: 2.89s\n",
      "43:\tlearn: 1551.8331620\ttotal: 2.23s\tremaining: 2.84s\n",
      "44:\tlearn: 1547.3484136\ttotal: 2.28s\tremaining: 2.79s\n",
      "45:\tlearn: 1545.5912398\ttotal: 2.33s\tremaining: 2.73s\n",
      "46:\tlearn: 1542.8454166\ttotal: 2.38s\tremaining: 2.68s\n",
      "47:\tlearn: 1537.7030799\ttotal: 2.42s\tremaining: 2.63s\n",
      "48:\tlearn: 1534.4355658\ttotal: 2.47s\tremaining: 2.57s\n",
      "49:\tlearn: 1533.1010038\ttotal: 2.52s\tremaining: 2.52s\n",
      "50:\tlearn: 1529.2163206\ttotal: 2.57s\tremaining: 2.47s\n",
      "51:\tlearn: 1526.7325093\ttotal: 2.62s\tremaining: 2.42s\n",
      "52:\tlearn: 1523.6322852\ttotal: 2.67s\tremaining: 2.37s\n",
      "53:\tlearn: 1521.1579137\ttotal: 2.72s\tremaining: 2.32s\n",
      "54:\tlearn: 1516.4315071\ttotal: 2.77s\tremaining: 2.27s\n",
      "55:\tlearn: 1514.2223108\ttotal: 2.82s\tremaining: 2.22s\n",
      "56:\tlearn: 1510.3520488\ttotal: 2.88s\tremaining: 2.17s\n",
      "57:\tlearn: 1506.5151398\ttotal: 2.93s\tremaining: 2.12s\n",
      "58:\tlearn: 1504.2522556\ttotal: 2.98s\tremaining: 2.07s\n",
      "59:\tlearn: 1500.6721055\ttotal: 3.03s\tremaining: 2.02s\n",
      "60:\tlearn: 1499.4359206\ttotal: 3.08s\tremaining: 1.97s\n",
      "61:\tlearn: 1498.1480033\ttotal: 3.13s\tremaining: 1.92s\n",
      "62:\tlearn: 1495.4233351\ttotal: 3.19s\tremaining: 1.87s\n",
      "63:\tlearn: 1494.0764335\ttotal: 3.24s\tremaining: 1.82s\n",
      "64:\tlearn: 1490.8609128\ttotal: 3.29s\tremaining: 1.77s\n",
      "65:\tlearn: 1488.5253362\ttotal: 3.34s\tremaining: 1.72s\n",
      "66:\tlearn: 1485.3118264\ttotal: 3.39s\tremaining: 1.67s\n",
      "67:\tlearn: 1485.2721032\ttotal: 3.43s\tremaining: 1.61s\n",
      "68:\tlearn: 1484.0021111\ttotal: 3.48s\tremaining: 1.56s\n",
      "69:\tlearn: 1482.6278581\ttotal: 3.53s\tremaining: 1.51s\n",
      "70:\tlearn: 1480.4489650\ttotal: 3.58s\tremaining: 1.46s\n",
      "71:\tlearn: 1478.1489197\ttotal: 3.63s\tremaining: 1.41s\n",
      "72:\tlearn: 1476.7410141\ttotal: 3.68s\tremaining: 1.36s\n",
      "73:\tlearn: 1476.4239346\ttotal: 3.73s\tremaining: 1.31s\n",
      "74:\tlearn: 1474.8061956\ttotal: 3.78s\tremaining: 1.26s\n",
      "75:\tlearn: 1474.7019691\ttotal: 3.84s\tremaining: 1.21s\n",
      "76:\tlearn: 1473.4087711\ttotal: 3.89s\tremaining: 1.16s\n",
      "77:\tlearn: 1473.4046585\ttotal: 3.92s\tremaining: 1.1s\n",
      "78:\tlearn: 1472.5319644\ttotal: 3.97s\tremaining: 1.05s\n",
      "79:\tlearn: 1472.4898444\ttotal: 4.03s\tremaining: 1.01s\n",
      "80:\tlearn: 1470.1275662\ttotal: 4.09s\tremaining: 959ms\n",
      "81:\tlearn: 1468.4911278\ttotal: 4.15s\tremaining: 911ms\n",
      "82:\tlearn: 1465.6460989\ttotal: 4.22s\tremaining: 864ms\n",
      "83:\tlearn: 1463.9057810\ttotal: 4.27s\tremaining: 813ms\n",
      "84:\tlearn: 1460.8663001\ttotal: 4.32s\tremaining: 762ms\n",
      "85:\tlearn: 1459.4229922\ttotal: 4.37s\tremaining: 711ms\n",
      "86:\tlearn: 1459.3784621\ttotal: 4.42s\tremaining: 660ms\n",
      "87:\tlearn: 1457.8983470\ttotal: 4.46s\tremaining: 609ms\n",
      "88:\tlearn: 1456.6594215\ttotal: 4.51s\tremaining: 558ms\n",
      "89:\tlearn: 1455.4285091\ttotal: 4.56s\tremaining: 507ms\n",
      "90:\tlearn: 1453.9546037\ttotal: 4.61s\tremaining: 456ms\n",
      "91:\tlearn: 1452.2247650\ttotal: 4.66s\tremaining: 405ms\n",
      "92:\tlearn: 1451.8195559\ttotal: 4.71s\tremaining: 355ms\n",
      "93:\tlearn: 1450.8605920\ttotal: 4.76s\tremaining: 304ms\n",
      "94:\tlearn: 1449.1315679\ttotal: 4.81s\tremaining: 253ms\n",
      "95:\tlearn: 1447.3092379\ttotal: 4.86s\tremaining: 202ms\n",
      "96:\tlearn: 1447.3085660\ttotal: 4.89s\tremaining: 151ms\n",
      "97:\tlearn: 1446.6333413\ttotal: 4.94s\tremaining: 101ms\n",
      "98:\tlearn: 1446.0574515\ttotal: 4.99s\tremaining: 50.4ms\n",
      "99:\tlearn: 1444.4798242\ttotal: 5.04s\tremaining: 0us\n",
      "[CV 3/3; 1/6] END ..................depth=10, iterations=100; total time=   5.6s\n",
      "[CV 1/3; 2/6] START depth=10, iterations=200....................................\n",
      "Learning rate set to 0.316385\n",
      "0:\tlearn: 3696.5574704\ttotal: 193ms\tremaining: 38.5s\n",
      "1:\tlearn: 2995.0617346\ttotal: 365ms\tremaining: 36.1s\n",
      "2:\tlearn: 2561.3171502\ttotal: 550ms\tremaining: 36.1s\n",
      "3:\tlearn: 2285.6718274\ttotal: 702ms\tremaining: 34.4s\n",
      "4:\tlearn: 2122.8359449\ttotal: 871ms\tremaining: 34s\n",
      "5:\tlearn: 2013.0233910\ttotal: 1.04s\tremaining: 33.7s\n",
      "6:\tlearn: 1939.3327448\ttotal: 1.22s\tremaining: 33.6s\n",
      "7:\tlearn: 1875.8997577\ttotal: 1.37s\tremaining: 33s\n",
      "8:\tlearn: 1839.9341838\ttotal: 1.51s\tremaining: 32.1s\n",
      "9:\tlearn: 1806.2193771\ttotal: 1.66s\tremaining: 31.5s\n",
      "10:\tlearn: 1788.1730657\ttotal: 1.79s\tremaining: 30.7s\n",
      "11:\tlearn: 1774.1072170\ttotal: 1.94s\tremaining: 30.4s\n",
      "12:\tlearn: 1760.1814863\ttotal: 2.09s\tremaining: 30s\n",
      "13:\tlearn: 1749.0492196\ttotal: 2.26s\tremaining: 30s\n",
      "14:\tlearn: 1736.0761329\ttotal: 2.39s\tremaining: 29.5s\n",
      "15:\tlearn: 1723.6207210\ttotal: 2.57s\tremaining: 29.6s\n",
      "16:\tlearn: 1718.0409612\ttotal: 2.71s\tremaining: 29.2s\n",
      "17:\tlearn: 1711.5270035\ttotal: 2.91s\tremaining: 29.5s\n",
      "18:\tlearn: 1705.0022832\ttotal: 3.05s\tremaining: 29.1s\n",
      "19:\tlearn: 1700.2660536\ttotal: 3.23s\tremaining: 29.1s\n",
      "20:\tlearn: 1691.4032373\ttotal: 3.4s\tremaining: 29s\n",
      "21:\tlearn: 1686.1768003\ttotal: 3.54s\tremaining: 28.7s\n",
      "22:\tlearn: 1680.0253641\ttotal: 3.71s\tremaining: 28.6s\n",
      "23:\tlearn: 1668.2739202\ttotal: 3.88s\tremaining: 28.4s\n",
      "24:\tlearn: 1666.8079058\ttotal: 4s\tremaining: 28s\n",
      "25:\tlearn: 1658.2022182\ttotal: 4.13s\tremaining: 27.6s\n",
      "26:\tlearn: 1656.7102747\ttotal: 4.21s\tremaining: 27s\n",
      "27:\tlearn: 1648.1385725\ttotal: 4.35s\tremaining: 26.7s\n",
      "28:\tlearn: 1645.0160923\ttotal: 4.53s\tremaining: 26.7s\n",
      "29:\tlearn: 1642.6435831\ttotal: 4.68s\tremaining: 26.5s\n",
      "30:\tlearn: 1639.6041052\ttotal: 4.88s\tremaining: 26.6s\n",
      "31:\tlearn: 1635.9984280\ttotal: 5.02s\tremaining: 26.3s\n",
      "32:\tlearn: 1632.4108470\ttotal: 5.21s\tremaining: 26.4s\n",
      "33:\tlearn: 1629.0285884\ttotal: 5.39s\tremaining: 26.3s\n",
      "34:\tlearn: 1625.5398453\ttotal: 5.57s\tremaining: 26.3s\n",
      "35:\tlearn: 1624.6172336\ttotal: 5.73s\tremaining: 26.1s\n",
      "36:\tlearn: 1620.3851410\ttotal: 5.9s\tremaining: 26s\n",
      "37:\tlearn: 1616.3369916\ttotal: 6.04s\tremaining: 25.8s\n",
      "38:\tlearn: 1614.6425447\ttotal: 6.14s\tremaining: 25.3s\n",
      "39:\tlearn: 1613.2513082\ttotal: 6.32s\tremaining: 25.3s\n",
      "40:\tlearn: 1609.7327808\ttotal: 6.5s\tremaining: 25.2s\n",
      "41:\tlearn: 1604.3209200\ttotal: 6.65s\tremaining: 25s\n",
      "42:\tlearn: 1600.6229537\ttotal: 6.82s\tremaining: 24.9s\n",
      "43:\tlearn: 1599.5856933\ttotal: 6.96s\tremaining: 24.7s\n",
      "44:\tlearn: 1598.3016899\ttotal: 7.12s\tremaining: 24.5s\n",
      "45:\tlearn: 1595.1798441\ttotal: 7.3s\tremaining: 24.4s\n",
      "46:\tlearn: 1593.1143104\ttotal: 7.45s\tremaining: 24.2s\n",
      "47:\tlearn: 1588.6795239\ttotal: 7.62s\tremaining: 24.1s\n",
      "48:\tlearn: 1588.6678868\ttotal: 7.67s\tremaining: 23.6s\n",
      "49:\tlearn: 1585.9550258\ttotal: 7.85s\tremaining: 23.6s\n",
      "50:\tlearn: 1581.5296688\ttotal: 8.01s\tremaining: 23.4s\n",
      "51:\tlearn: 1580.6434898\ttotal: 8.17s\tremaining: 23.3s\n",
      "52:\tlearn: 1578.6153369\ttotal: 8.34s\tremaining: 23.1s\n",
      "53:\tlearn: 1576.0489123\ttotal: 8.55s\tremaining: 23.1s\n",
      "54:\tlearn: 1574.3908259\ttotal: 8.76s\tremaining: 23.1s\n",
      "55:\tlearn: 1571.7414988\ttotal: 8.96s\tremaining: 23s\n",
      "56:\tlearn: 1570.4791726\ttotal: 9.13s\tremaining: 22.9s\n",
      "57:\tlearn: 1570.1317834\ttotal: 9.29s\tremaining: 22.8s\n",
      "58:\tlearn: 1568.2595675\ttotal: 9.46s\tremaining: 22.6s\n",
      "59:\tlearn: 1566.9640108\ttotal: 9.62s\tremaining: 22.4s\n",
      "60:\tlearn: 1563.9496554\ttotal: 9.79s\tremaining: 22.3s\n",
      "61:\tlearn: 1560.2628505\ttotal: 9.97s\tremaining: 22.2s\n",
      "62:\tlearn: 1559.8535522\ttotal: 10.1s\tremaining: 21.9s\n",
      "63:\tlearn: 1558.1608979\ttotal: 10.2s\tremaining: 21.7s\n",
      "64:\tlearn: 1555.6305406\ttotal: 10.4s\tremaining: 21.5s\n",
      "65:\tlearn: 1554.7691371\ttotal: 10.5s\tremaining: 21.4s\n",
      "66:\tlearn: 1551.3308953\ttotal: 10.7s\tremaining: 21.2s\n",
      "67:\tlearn: 1550.7110086\ttotal: 10.9s\tremaining: 21.1s\n",
      "68:\tlearn: 1546.6721784\ttotal: 11s\tremaining: 20.9s\n",
      "69:\tlearn: 1544.7530279\ttotal: 11.2s\tremaining: 20.8s\n",
      "70:\tlearn: 1542.9153911\ttotal: 11.3s\tremaining: 20.6s\n",
      "71:\tlearn: 1542.3116294\ttotal: 11.5s\tremaining: 20.4s\n",
      "72:\tlearn: 1539.3227692\ttotal: 11.7s\tremaining: 20.3s\n",
      "73:\tlearn: 1535.4360066\ttotal: 11.8s\tremaining: 20.1s\n",
      "74:\tlearn: 1534.6071683\ttotal: 12s\tremaining: 19.9s\n",
      "75:\tlearn: 1532.6250822\ttotal: 12.2s\tremaining: 19.8s\n",
      "76:\tlearn: 1531.2101745\ttotal: 12.3s\tremaining: 19.7s\n",
      "77:\tlearn: 1530.0811153\ttotal: 12.6s\tremaining: 19.6s\n",
      "78:\tlearn: 1528.4933099\ttotal: 12.7s\tremaining: 19.4s\n",
      "79:\tlearn: 1527.3519553\ttotal: 12.8s\tremaining: 19.3s\n",
      "80:\tlearn: 1526.3057456\ttotal: 13s\tremaining: 19.1s\n",
      "81:\tlearn: 1523.3142198\ttotal: 13.2s\tremaining: 18.9s\n",
      "82:\tlearn: 1521.4741805\ttotal: 13.3s\tremaining: 18.8s\n",
      "83:\tlearn: 1520.0658779\ttotal: 13.5s\tremaining: 18.6s\n",
      "84:\tlearn: 1518.3279608\ttotal: 13.6s\tremaining: 18.4s\n",
      "85:\tlearn: 1516.5733224\ttotal: 13.8s\tremaining: 18.3s\n",
      "86:\tlearn: 1515.1799811\ttotal: 14s\tremaining: 18.2s\n",
      "87:\tlearn: 1512.3799468\ttotal: 14.2s\tremaining: 18s\n",
      "88:\tlearn: 1510.2101333\ttotal: 14.3s\tremaining: 17.9s\n",
      "89:\tlearn: 1508.3847060\ttotal: 14.5s\tremaining: 17.7s\n",
      "90:\tlearn: 1507.5286587\ttotal: 14.7s\tremaining: 17.6s\n",
      "91:\tlearn: 1505.9802786\ttotal: 14.9s\tremaining: 17.4s\n",
      "92:\tlearn: 1505.2039883\ttotal: 15s\tremaining: 17.3s\n",
      "93:\tlearn: 1503.6943231\ttotal: 15.2s\tremaining: 17.1s\n",
      "94:\tlearn: 1502.0268596\ttotal: 15.4s\tremaining: 17s\n",
      "95:\tlearn: 1500.8443276\ttotal: 15.5s\tremaining: 16.8s\n",
      "96:\tlearn: 1498.6587329\ttotal: 15.7s\tremaining: 16.7s\n",
      "97:\tlearn: 1497.9743227\ttotal: 15.9s\tremaining: 16.5s\n",
      "98:\tlearn: 1496.7269234\ttotal: 16s\tremaining: 16.4s\n",
      "99:\tlearn: 1495.0686882\ttotal: 16.2s\tremaining: 16.2s\n",
      "100:\tlearn: 1494.3544293\ttotal: 16.3s\tremaining: 16s\n",
      "101:\tlearn: 1493.5949749\ttotal: 16.5s\tremaining: 15.9s\n",
      "102:\tlearn: 1491.9287198\ttotal: 16.7s\tremaining: 15.7s\n",
      "103:\tlearn: 1490.2920737\ttotal: 16.8s\tremaining: 15.5s\n",
      "104:\tlearn: 1488.7199547\ttotal: 17s\tremaining: 15.4s\n",
      "105:\tlearn: 1487.1343161\ttotal: 17.1s\tremaining: 15.2s\n",
      "106:\tlearn: 1485.1878949\ttotal: 17.3s\tremaining: 15.1s\n",
      "107:\tlearn: 1482.4957859\ttotal: 17.5s\tremaining: 14.9s\n",
      "108:\tlearn: 1482.1605083\ttotal: 17.7s\tremaining: 14.8s\n",
      "109:\tlearn: 1481.6636084\ttotal: 17.9s\tremaining: 14.6s\n",
      "110:\tlearn: 1481.0024774\ttotal: 18s\tremaining: 14.4s\n",
      "111:\tlearn: 1479.1486739\ttotal: 18.2s\tremaining: 14.3s\n",
      "112:\tlearn: 1477.1384918\ttotal: 18.3s\tremaining: 14.1s\n",
      "113:\tlearn: 1475.2702113\ttotal: 18.6s\tremaining: 14s\n",
      "114:\tlearn: 1474.4175118\ttotal: 18.7s\tremaining: 13.8s\n",
      "115:\tlearn: 1473.0651361\ttotal: 18.8s\tremaining: 13.6s\n",
      "116:\tlearn: 1472.7835481\ttotal: 19s\tremaining: 13.5s\n",
      "117:\tlearn: 1469.2856804\ttotal: 19.2s\tremaining: 13.3s\n",
      "118:\tlearn: 1468.2173559\ttotal: 19.3s\tremaining: 13.2s\n",
      "119:\tlearn: 1466.1623505\ttotal: 19.5s\tremaining: 13s\n",
      "120:\tlearn: 1465.5681316\ttotal: 19.7s\tremaining: 12.8s\n",
      "121:\tlearn: 1463.7188439\ttotal: 19.8s\tremaining: 12.7s\n",
      "122:\tlearn: 1462.0107270\ttotal: 20s\tremaining: 12.5s\n",
      "123:\tlearn: 1461.0705742\ttotal: 20.2s\tremaining: 12.4s\n",
      "124:\tlearn: 1460.7939391\ttotal: 20.4s\tremaining: 12.2s\n",
      "125:\tlearn: 1458.9896146\ttotal: 20.5s\tremaining: 12.1s\n",
      "126:\tlearn: 1458.4742016\ttotal: 20.7s\tremaining: 11.9s\n",
      "127:\tlearn: 1456.7463355\ttotal: 20.9s\tremaining: 11.8s\n",
      "128:\tlearn: 1455.1829396\ttotal: 21.1s\tremaining: 11.6s\n",
      "129:\tlearn: 1454.4875816\ttotal: 21.3s\tremaining: 11.4s\n",
      "130:\tlearn: 1454.0558643\ttotal: 21.4s\tremaining: 11.3s\n",
      "131:\tlearn: 1453.5047947\ttotal: 21.6s\tremaining: 11.1s\n",
      "132:\tlearn: 1452.7454099\ttotal: 21.8s\tremaining: 11s\n",
      "133:\tlearn: 1451.0651994\ttotal: 21.9s\tremaining: 10.8s\n",
      "134:\tlearn: 1450.2445913\ttotal: 22.1s\tremaining: 10.6s\n",
      "135:\tlearn: 1449.1114641\ttotal: 22.3s\tremaining: 10.5s\n",
      "136:\tlearn: 1447.3509766\ttotal: 22.4s\tremaining: 10.3s\n",
      "137:\tlearn: 1445.3018520\ttotal: 22.5s\tremaining: 10.1s\n",
      "138:\tlearn: 1444.5734225\ttotal: 22.7s\tremaining: 9.95s\n",
      "139:\tlearn: 1442.4025047\ttotal: 22.8s\tremaining: 9.78s\n",
      "140:\tlearn: 1441.0805416\ttotal: 23s\tremaining: 9.61s\n",
      "141:\tlearn: 1440.2271073\ttotal: 23.1s\tremaining: 9.44s\n",
      "142:\tlearn: 1439.2847005\ttotal: 23.3s\tremaining: 9.29s\n",
      "143:\tlearn: 1438.7553399\ttotal: 23.5s\tremaining: 9.14s\n",
      "144:\tlearn: 1438.4613681\ttotal: 23.7s\tremaining: 8.99s\n",
      "145:\tlearn: 1437.4840091\ttotal: 23.9s\tremaining: 8.82s\n",
      "146:\tlearn: 1435.0059655\ttotal: 24s\tremaining: 8.66s\n",
      "147:\tlearn: 1434.7033460\ttotal: 24.2s\tremaining: 8.52s\n",
      "148:\tlearn: 1433.4581416\ttotal: 24.4s\tremaining: 8.35s\n",
      "149:\tlearn: 1432.6522768\ttotal: 24.6s\tremaining: 8.19s\n",
      "150:\tlearn: 1431.7711075\ttotal: 24.8s\tremaining: 8.03s\n",
      "151:\tlearn: 1430.3385354\ttotal: 24.9s\tremaining: 7.87s\n",
      "152:\tlearn: 1428.4553108\ttotal: 25.1s\tremaining: 7.71s\n",
      "153:\tlearn: 1427.5397013\ttotal: 25.3s\tremaining: 7.54s\n",
      "154:\tlearn: 1426.6461023\ttotal: 25.4s\tremaining: 7.38s\n",
      "155:\tlearn: 1425.8974296\ttotal: 25.6s\tremaining: 7.21s\n",
      "156:\tlearn: 1424.5276334\ttotal: 25.7s\tremaining: 7.05s\n",
      "157:\tlearn: 1423.6574444\ttotal: 25.9s\tremaining: 6.88s\n",
      "158:\tlearn: 1422.4638775\ttotal: 26.1s\tremaining: 6.72s\n",
      "159:\tlearn: 1422.1488822\ttotal: 26.2s\tremaining: 6.56s\n",
      "160:\tlearn: 1421.4659244\ttotal: 26.4s\tremaining: 6.4s\n",
      "161:\tlearn: 1420.8680868\ttotal: 26.6s\tremaining: 6.23s\n",
      "162:\tlearn: 1419.7877250\ttotal: 26.8s\tremaining: 6.07s\n",
      "163:\tlearn: 1418.9943546\ttotal: 26.9s\tremaining: 5.91s\n",
      "164:\tlearn: 1417.2302119\ttotal: 27.1s\tremaining: 5.74s\n",
      "165:\tlearn: 1416.5378943\ttotal: 27.2s\tremaining: 5.58s\n",
      "166:\tlearn: 1415.7313340\ttotal: 27.4s\tremaining: 5.42s\n",
      "167:\tlearn: 1415.1986734\ttotal: 27.6s\tremaining: 5.26s\n",
      "168:\tlearn: 1414.8809621\ttotal: 27.8s\tremaining: 5.1s\n",
      "169:\tlearn: 1414.3456597\ttotal: 28s\tremaining: 4.93s\n",
      "170:\tlearn: 1412.6839909\ttotal: 28.1s\tremaining: 4.77s\n",
      "171:\tlearn: 1412.0840501\ttotal: 28.3s\tremaining: 4.61s\n",
      "172:\tlearn: 1410.9374930\ttotal: 28.5s\tremaining: 4.45s\n",
      "173:\tlearn: 1409.8957091\ttotal: 28.7s\tremaining: 4.29s\n",
      "174:\tlearn: 1408.9109368\ttotal: 28.9s\tremaining: 4.13s\n",
      "175:\tlearn: 1408.3154900\ttotal: 29.1s\tremaining: 3.96s\n",
      "176:\tlearn: 1407.5816249\ttotal: 29.2s\tremaining: 3.8s\n",
      "177:\tlearn: 1406.7903636\ttotal: 29.4s\tremaining: 3.63s\n",
      "178:\tlearn: 1405.9792102\ttotal: 29.5s\tremaining: 3.46s\n",
      "179:\tlearn: 1405.3915089\ttotal: 29.7s\tremaining: 3.3s\n",
      "180:\tlearn: 1405.1624897\ttotal: 29.9s\tremaining: 3.13s\n",
      "181:\tlearn: 1404.9443963\ttotal: 30s\tremaining: 2.97s\n",
      "182:\tlearn: 1404.4068608\ttotal: 30.2s\tremaining: 2.81s\n",
      "183:\tlearn: 1404.2342643\ttotal: 30.4s\tremaining: 2.64s\n",
      "184:\tlearn: 1402.2114880\ttotal: 30.6s\tremaining: 2.48s\n",
      "185:\tlearn: 1401.3248555\ttotal: 30.8s\tremaining: 2.32s\n",
      "186:\tlearn: 1400.7548496\ttotal: 31s\tremaining: 2.15s\n",
      "187:\tlearn: 1400.4454652\ttotal: 31.2s\tremaining: 1.99s\n",
      "188:\tlearn: 1400.0028555\ttotal: 31.4s\tremaining: 1.82s\n",
      "189:\tlearn: 1399.7223720\ttotal: 31.6s\tremaining: 1.66s\n",
      "190:\tlearn: 1399.2358590\ttotal: 31.8s\tremaining: 1.5s\n",
      "191:\tlearn: 1397.9187863\ttotal: 31.9s\tremaining: 1.33s\n",
      "192:\tlearn: 1397.2351721\ttotal: 32.1s\tremaining: 1.16s\n",
      "193:\tlearn: 1395.8124197\ttotal: 32.3s\tremaining: 998ms\n",
      "194:\tlearn: 1394.9876414\ttotal: 32.5s\tremaining: 832ms\n",
      "195:\tlearn: 1393.2913540\ttotal: 32.6s\tremaining: 665ms\n",
      "196:\tlearn: 1392.2151813\ttotal: 32.7s\tremaining: 498ms\n",
      "197:\tlearn: 1391.8987386\ttotal: 32.9s\tremaining: 332ms\n",
      "198:\tlearn: 1391.0496071\ttotal: 33s\tremaining: 166ms\n",
      "199:\tlearn: 1390.5952713\ttotal: 33.2s\tremaining: 0us\n",
      "[CV 1/3; 2/6] END ..................depth=10, iterations=200; total time=  34.3s\n",
      "[CV 2/3; 2/6] START depth=10, iterations=200....................................\n",
      "Learning rate set to 0.316385\n",
      "0:\tlearn: 3703.5959206\ttotal: 198ms\tremaining: 39.4s\n",
      "1:\tlearn: 3005.9798924\ttotal: 394ms\tremaining: 39s\n",
      "2:\tlearn: 2570.8812802\ttotal: 576ms\tremaining: 37.8s\n",
      "3:\tlearn: 2303.3653955\ttotal: 726ms\tremaining: 35.6s\n",
      "4:\tlearn: 2119.3332350\ttotal: 873ms\tremaining: 34s\n",
      "5:\tlearn: 2013.3551882\ttotal: 1.08s\tremaining: 35.1s\n",
      "6:\tlearn: 1945.3970020\ttotal: 1.21s\tremaining: 33.5s\n",
      "7:\tlearn: 1890.1938233\ttotal: 1.39s\tremaining: 33.5s\n",
      "8:\tlearn: 1850.6620188\ttotal: 1.53s\tremaining: 32.4s\n",
      "9:\tlearn: 1816.4050934\ttotal: 1.66s\tremaining: 31.6s\n",
      "10:\tlearn: 1798.8897599\ttotal: 1.85s\tremaining: 31.8s\n",
      "11:\tlearn: 1776.9363306\ttotal: 2.03s\tremaining: 31.8s\n",
      "12:\tlearn: 1764.0181715\ttotal: 2.17s\tremaining: 31.3s\n",
      "13:\tlearn: 1750.6200071\ttotal: 2.33s\tremaining: 30.9s\n",
      "14:\tlearn: 1734.9974111\ttotal: 2.46s\tremaining: 30.3s\n",
      "15:\tlearn: 1725.3808975\ttotal: 2.63s\tremaining: 30.2s\n",
      "16:\tlearn: 1720.8879819\ttotal: 2.79s\tremaining: 30s\n",
      "17:\tlearn: 1713.9441040\ttotal: 2.91s\tremaining: 29.5s\n",
      "18:\tlearn: 1705.8452342\ttotal: 3.09s\tremaining: 29.4s\n",
      "19:\tlearn: 1699.3669925\ttotal: 3.25s\tremaining: 29.3s\n",
      "20:\tlearn: 1691.0061919\ttotal: 3.4s\tremaining: 29s\n",
      "21:\tlearn: 1684.9949093\ttotal: 3.58s\tremaining: 28.9s\n",
      "22:\tlearn: 1680.5818394\ttotal: 3.73s\tremaining: 28.7s\n",
      "23:\tlearn: 1675.8165538\ttotal: 3.88s\tremaining: 28.4s\n",
      "24:\tlearn: 1670.2106697\ttotal: 4.04s\tremaining: 28.3s\n",
      "25:\tlearn: 1666.5211018\ttotal: 4.24s\tremaining: 28.3s\n",
      "26:\tlearn: 1661.1843058\ttotal: 4.42s\tremaining: 28.3s\n",
      "27:\tlearn: 1656.1632826\ttotal: 4.57s\tremaining: 28.1s\n",
      "28:\tlearn: 1651.7024003\ttotal: 4.73s\tremaining: 27.9s\n",
      "29:\tlearn: 1648.5806033\ttotal: 4.91s\tremaining: 27.8s\n",
      "30:\tlearn: 1645.5420863\ttotal: 5.05s\tremaining: 27.5s\n",
      "31:\tlearn: 1639.1590162\ttotal: 5.21s\tremaining: 27.4s\n",
      "32:\tlearn: 1634.0116431\ttotal: 5.34s\tremaining: 27s\n",
      "33:\tlearn: 1631.7394297\ttotal: 5.53s\tremaining: 27s\n",
      "34:\tlearn: 1627.0611377\ttotal: 5.68s\tremaining: 26.8s\n",
      "35:\tlearn: 1624.3182931\ttotal: 5.88s\tremaining: 26.8s\n",
      "36:\tlearn: 1617.5540590\ttotal: 6.06s\tremaining: 26.7s\n",
      "37:\tlearn: 1615.7138719\ttotal: 6.18s\tremaining: 26.3s\n",
      "38:\tlearn: 1613.4729810\ttotal: 6.31s\tremaining: 26.1s\n",
      "39:\tlearn: 1608.6529458\ttotal: 6.48s\tremaining: 25.9s\n",
      "40:\tlearn: 1602.1345722\ttotal: 6.65s\tremaining: 25.8s\n",
      "41:\tlearn: 1598.5395401\ttotal: 6.82s\tremaining: 25.6s\n",
      "42:\tlearn: 1597.2174442\ttotal: 6.99s\tremaining: 25.5s\n",
      "43:\tlearn: 1595.1032300\ttotal: 7.13s\tremaining: 25.3s\n",
      "44:\tlearn: 1590.9073818\ttotal: 7.28s\tremaining: 25.1s\n",
      "45:\tlearn: 1589.3941290\ttotal: 7.45s\tremaining: 24.9s\n",
      "46:\tlearn: 1586.4034031\ttotal: 7.63s\tremaining: 24.8s\n",
      "47:\tlearn: 1582.5475125\ttotal: 7.79s\tremaining: 24.7s\n",
      "48:\tlearn: 1579.7065374\ttotal: 8.01s\tremaining: 24.7s\n",
      "49:\tlearn: 1577.2830717\ttotal: 8.2s\tremaining: 24.6s\n",
      "50:\tlearn: 1576.3422784\ttotal: 8.34s\tremaining: 24.4s\n",
      "51:\tlearn: 1572.9884130\ttotal: 8.48s\tremaining: 24.1s\n",
      "52:\tlearn: 1569.2566504\ttotal: 8.63s\tremaining: 23.9s\n",
      "53:\tlearn: 1566.0099745\ttotal: 8.79s\tremaining: 23.8s\n",
      "54:\tlearn: 1563.1124880\ttotal: 8.93s\tremaining: 23.5s\n",
      "55:\tlearn: 1561.4173510\ttotal: 9.12s\tremaining: 23.4s\n",
      "56:\tlearn: 1558.6852509\ttotal: 9.26s\tremaining: 23.2s\n",
      "57:\tlearn: 1555.8525603\ttotal: 9.42s\tremaining: 23.1s\n",
      "58:\tlearn: 1553.8328622\ttotal: 9.58s\tremaining: 22.9s\n",
      "59:\tlearn: 1552.3945677\ttotal: 9.76s\tremaining: 22.8s\n",
      "60:\tlearn: 1550.6064901\ttotal: 9.96s\tremaining: 22.7s\n",
      "61:\tlearn: 1548.8003322\ttotal: 10.1s\tremaining: 22.5s\n",
      "62:\tlearn: 1547.0677832\ttotal: 10.2s\tremaining: 22.3s\n",
      "63:\tlearn: 1545.2821289\ttotal: 10.4s\tremaining: 22s\n",
      "64:\tlearn: 1542.3790672\ttotal: 10.5s\tremaining: 21.8s\n",
      "65:\tlearn: 1538.8303167\ttotal: 10.7s\tremaining: 21.6s\n",
      "66:\tlearn: 1537.8125142\ttotal: 10.8s\tremaining: 21.5s\n",
      "67:\tlearn: 1536.6315325\ttotal: 11s\tremaining: 21.3s\n",
      "68:\tlearn: 1534.1008545\ttotal: 11.1s\tremaining: 21.1s\n",
      "69:\tlearn: 1531.7400481\ttotal: 11.2s\tremaining: 20.9s\n",
      "70:\tlearn: 1530.0054996\ttotal: 11.4s\tremaining: 20.7s\n",
      "71:\tlearn: 1527.8570998\ttotal: 11.6s\tremaining: 20.6s\n",
      "72:\tlearn: 1525.0886287\ttotal: 11.7s\tremaining: 20.4s\n",
      "73:\tlearn: 1523.5417438\ttotal: 11.9s\tremaining: 20.3s\n",
      "74:\tlearn: 1522.2016287\ttotal: 12.1s\tremaining: 20.1s\n",
      "75:\tlearn: 1520.3925911\ttotal: 12.2s\tremaining: 20s\n",
      "76:\tlearn: 1519.3637413\ttotal: 12.4s\tremaining: 19.8s\n",
      "77:\tlearn: 1515.9194976\ttotal: 12.6s\tremaining: 19.6s\n",
      "78:\tlearn: 1512.6408228\ttotal: 12.8s\tremaining: 19.5s\n",
      "79:\tlearn: 1512.5043216\ttotal: 12.9s\tremaining: 19.4s\n",
      "80:\tlearn: 1511.4317601\ttotal: 13.1s\tremaining: 19.2s\n",
      "81:\tlearn: 1509.3884713\ttotal: 13.3s\tremaining: 19.1s\n",
      "82:\tlearn: 1507.6289919\ttotal: 13.5s\tremaining: 19s\n",
      "83:\tlearn: 1505.2145952\ttotal: 13.6s\tremaining: 18.8s\n",
      "84:\tlearn: 1503.3995390\ttotal: 13.8s\tremaining: 18.7s\n",
      "85:\tlearn: 1502.0733534\ttotal: 14s\tremaining: 18.6s\n",
      "86:\tlearn: 1501.2092078\ttotal: 14.2s\tremaining: 18.5s\n",
      "87:\tlearn: 1499.9993962\ttotal: 14.4s\tremaining: 18.4s\n",
      "88:\tlearn: 1498.5432832\ttotal: 14.6s\tremaining: 18.2s\n",
      "89:\tlearn: 1494.6125519\ttotal: 14.8s\tremaining: 18s\n",
      "90:\tlearn: 1493.3840061\ttotal: 14.9s\tremaining: 17.9s\n",
      "91:\tlearn: 1490.5349797\ttotal: 15.1s\tremaining: 17.7s\n",
      "92:\tlearn: 1489.2859054\ttotal: 15.3s\tremaining: 17.6s\n",
      "93:\tlearn: 1488.5567160\ttotal: 15.5s\tremaining: 17.5s\n",
      "94:\tlearn: 1488.2643090\ttotal: 15.7s\tremaining: 17.3s\n",
      "95:\tlearn: 1487.3649496\ttotal: 15.8s\tremaining: 17.2s\n",
      "96:\tlearn: 1484.7376055\ttotal: 16s\tremaining: 17s\n",
      "97:\tlearn: 1483.8161790\ttotal: 16.2s\tremaining: 16.9s\n",
      "98:\tlearn: 1482.8911758\ttotal: 16.4s\tremaining: 16.7s\n",
      "99:\tlearn: 1480.6317026\ttotal: 16.5s\tremaining: 16.5s\n",
      "100:\tlearn: 1478.8371079\ttotal: 16.7s\tremaining: 16.3s\n",
      "101:\tlearn: 1476.2857156\ttotal: 16.9s\tremaining: 16.2s\n",
      "102:\tlearn: 1474.5695087\ttotal: 17.1s\tremaining: 16.1s\n",
      "103:\tlearn: 1473.1898327\ttotal: 17.2s\tremaining: 15.9s\n",
      "104:\tlearn: 1471.0051675\ttotal: 17.4s\tremaining: 15.7s\n",
      "105:\tlearn: 1469.5956154\ttotal: 17.6s\tremaining: 15.6s\n",
      "106:\tlearn: 1467.8370976\ttotal: 17.7s\tremaining: 15.4s\n",
      "107:\tlearn: 1466.6899811\ttotal: 17.9s\tremaining: 15.2s\n",
      "108:\tlearn: 1465.5236354\ttotal: 18.1s\tremaining: 15.1s\n",
      "109:\tlearn: 1464.6489293\ttotal: 18.2s\tremaining: 14.9s\n",
      "110:\tlearn: 1462.6986002\ttotal: 18.4s\tremaining: 14.7s\n",
      "111:\tlearn: 1459.7208936\ttotal: 18.5s\tremaining: 14.6s\n",
      "112:\tlearn: 1457.5100980\ttotal: 18.7s\tremaining: 14.4s\n",
      "113:\tlearn: 1456.3369923\ttotal: 18.8s\tremaining: 14.2s\n",
      "114:\tlearn: 1455.6202676\ttotal: 19s\tremaining: 14s\n",
      "115:\tlearn: 1455.1461011\ttotal: 19.2s\tremaining: 13.9s\n",
      "116:\tlearn: 1454.1995890\ttotal: 19.4s\tremaining: 13.8s\n",
      "117:\tlearn: 1453.6193121\ttotal: 19.5s\tremaining: 13.6s\n",
      "118:\tlearn: 1451.9112755\ttotal: 19.7s\tremaining: 13.4s\n",
      "119:\tlearn: 1450.7029564\ttotal: 19.9s\tremaining: 13.2s\n",
      "120:\tlearn: 1449.1434658\ttotal: 20s\tremaining: 13.1s\n",
      "121:\tlearn: 1447.7171597\ttotal: 20.2s\tremaining: 12.9s\n",
      "122:\tlearn: 1446.5466499\ttotal: 20.3s\tremaining: 12.7s\n",
      "123:\tlearn: 1445.1236956\ttotal: 20.4s\tremaining: 12.5s\n",
      "124:\tlearn: 1443.3427629\ttotal: 20.6s\tremaining: 12.4s\n",
      "125:\tlearn: 1442.4926386\ttotal: 20.8s\tremaining: 12.2s\n",
      "126:\tlearn: 1441.3734068\ttotal: 20.9s\tremaining: 12s\n",
      "127:\tlearn: 1439.4901654\ttotal: 21.1s\tremaining: 11.9s\n",
      "128:\tlearn: 1439.3023079\ttotal: 21.2s\tremaining: 11.7s\n",
      "129:\tlearn: 1439.0380203\ttotal: 21.4s\tremaining: 11.5s\n",
      "130:\tlearn: 1438.0770838\ttotal: 21.5s\tremaining: 11.3s\n",
      "131:\tlearn: 1437.0169356\ttotal: 21.7s\tremaining: 11.2s\n",
      "132:\tlearn: 1435.0135229\ttotal: 21.9s\tremaining: 11s\n",
      "133:\tlearn: 1433.3125435\ttotal: 22.1s\tremaining: 10.9s\n",
      "134:\tlearn: 1432.3787733\ttotal: 22.2s\tremaining: 10.7s\n",
      "135:\tlearn: 1431.5550511\ttotal: 22.4s\tremaining: 10.6s\n",
      "136:\tlearn: 1430.9360654\ttotal: 22.6s\tremaining: 10.4s\n",
      "137:\tlearn: 1430.8734917\ttotal: 22.7s\tremaining: 10.2s\n",
      "138:\tlearn: 1429.5591831\ttotal: 22.9s\tremaining: 10.1s\n",
      "139:\tlearn: 1429.3128498\ttotal: 23.1s\tremaining: 9.9s\n",
      "140:\tlearn: 1428.0555213\ttotal: 23.3s\tremaining: 9.75s\n",
      "141:\tlearn: 1426.9803976\ttotal: 23.5s\tremaining: 9.61s\n",
      "142:\tlearn: 1426.3123731\ttotal: 23.7s\tremaining: 9.44s\n",
      "143:\tlearn: 1425.5067715\ttotal: 24s\tremaining: 9.32s\n",
      "144:\tlearn: 1424.0360799\ttotal: 24.2s\tremaining: 9.18s\n",
      "145:\tlearn: 1422.9610815\ttotal: 24.4s\tremaining: 9.02s\n",
      "146:\tlearn: 1420.7314156\ttotal: 24.6s\tremaining: 8.87s\n",
      "147:\tlearn: 1418.5118980\ttotal: 24.8s\tremaining: 8.71s\n",
      "148:\tlearn: 1417.1452727\ttotal: 25s\tremaining: 8.54s\n",
      "149:\tlearn: 1415.5911197\ttotal: 25.1s\tremaining: 8.38s\n",
      "150:\tlearn: 1415.5843554\ttotal: 25.2s\tremaining: 8.18s\n",
      "151:\tlearn: 1414.9914800\ttotal: 25.4s\tremaining: 8.03s\n",
      "152:\tlearn: 1413.3010151\ttotal: 25.6s\tremaining: 7.88s\n",
      "153:\tlearn: 1412.8404445\ttotal: 25.8s\tremaining: 7.71s\n",
      "154:\tlearn: 1411.6726614\ttotal: 26s\tremaining: 7.54s\n",
      "155:\tlearn: 1409.7804734\ttotal: 26.1s\tremaining: 7.37s\n",
      "156:\tlearn: 1409.7646315\ttotal: 26.3s\tremaining: 7.21s\n",
      "157:\tlearn: 1408.1181299\ttotal: 26.5s\tremaining: 7.04s\n",
      "158:\tlearn: 1407.5025394\ttotal: 26.6s\tremaining: 6.87s\n",
      "159:\tlearn: 1407.1155911\ttotal: 26.8s\tremaining: 6.71s\n",
      "160:\tlearn: 1406.4717634\ttotal: 27s\tremaining: 6.53s\n",
      "161:\tlearn: 1405.8659027\ttotal: 27.1s\tremaining: 6.37s\n",
      "162:\tlearn: 1405.8594832\ttotal: 27.3s\tremaining: 6.2s\n",
      "163:\tlearn: 1403.7153072\ttotal: 27.5s\tremaining: 6.04s\n",
      "164:\tlearn: 1402.9073016\ttotal: 27.8s\tremaining: 5.89s\n",
      "165:\tlearn: 1402.6565397\ttotal: 27.9s\tremaining: 5.72s\n",
      "166:\tlearn: 1400.5344289\ttotal: 28.1s\tremaining: 5.55s\n",
      "167:\tlearn: 1399.6275887\ttotal: 28.3s\tremaining: 5.39s\n",
      "168:\tlearn: 1398.8741911\ttotal: 28.5s\tremaining: 5.23s\n",
      "169:\tlearn: 1397.4271236\ttotal: 28.6s\tremaining: 5.05s\n",
      "170:\tlearn: 1395.4639206\ttotal: 28.8s\tremaining: 4.89s\n",
      "171:\tlearn: 1394.4146476\ttotal: 29s\tremaining: 4.72s\n",
      "172:\tlearn: 1393.8936803\ttotal: 29.1s\tremaining: 4.55s\n",
      "173:\tlearn: 1392.8753659\ttotal: 29.3s\tremaining: 4.38s\n",
      "174:\tlearn: 1392.2448377\ttotal: 29.5s\tremaining: 4.21s\n",
      "175:\tlearn: 1391.3142003\ttotal: 29.7s\tremaining: 4.05s\n",
      "176:\tlearn: 1390.1889342\ttotal: 29.9s\tremaining: 3.89s\n",
      "177:\tlearn: 1388.9420999\ttotal: 30.1s\tremaining: 3.72s\n",
      "178:\tlearn: 1388.2108106\ttotal: 30.3s\tremaining: 3.55s\n",
      "179:\tlearn: 1387.8209929\ttotal: 30.5s\tremaining: 3.38s\n",
      "180:\tlearn: 1386.7398332\ttotal: 30.6s\tremaining: 3.21s\n",
      "181:\tlearn: 1386.6055548\ttotal: 30.8s\tremaining: 3.04s\n",
      "182:\tlearn: 1385.1304016\ttotal: 30.9s\tremaining: 2.87s\n",
      "183:\tlearn: 1384.2596459\ttotal: 31.1s\tremaining: 2.7s\n",
      "184:\tlearn: 1383.2848655\ttotal: 31.3s\tremaining: 2.54s\n",
      "185:\tlearn: 1382.6241273\ttotal: 31.5s\tremaining: 2.37s\n",
      "186:\tlearn: 1381.7134406\ttotal: 31.7s\tremaining: 2.2s\n",
      "187:\tlearn: 1380.7194207\ttotal: 31.9s\tremaining: 2.03s\n",
      "188:\tlearn: 1380.0326680\ttotal: 32s\tremaining: 1.86s\n",
      "189:\tlearn: 1379.3043714\ttotal: 32.2s\tremaining: 1.7s\n",
      "190:\tlearn: 1378.3847394\ttotal: 32.5s\tremaining: 1.53s\n",
      "191:\tlearn: 1377.4052226\ttotal: 32.6s\tremaining: 1.36s\n",
      "192:\tlearn: 1376.7706639\ttotal: 32.8s\tremaining: 1.19s\n",
      "193:\tlearn: 1374.4880677\ttotal: 33s\tremaining: 1.02s\n",
      "194:\tlearn: 1373.7416914\ttotal: 33.2s\tremaining: 851ms\n",
      "195:\tlearn: 1372.7298135\ttotal: 33.3s\tremaining: 680ms\n",
      "196:\tlearn: 1372.4955392\ttotal: 33.5s\tremaining: 510ms\n",
      "197:\tlearn: 1371.7634695\ttotal: 33.6s\tremaining: 340ms\n",
      "198:\tlearn: 1371.2375160\ttotal: 33.8s\tremaining: 170ms\n",
      "199:\tlearn: 1369.6661466\ttotal: 33.9s\tremaining: 0us\n",
      "[CV 2/3; 2/6] END ..................depth=10, iterations=200; total time=  35.0s\n",
      "[CV 3/3; 2/6] START depth=10, iterations=200....................................\n",
      "Learning rate set to 0.316385\n",
      "0:\tlearn: 3675.4508377\ttotal: 189ms\tremaining: 37.6s\n",
      "1:\tlearn: 2986.0681702\ttotal: 357ms\tremaining: 35.3s\n",
      "2:\tlearn: 2537.9921881\ttotal: 533ms\tremaining: 35s\n",
      "3:\tlearn: 2266.2706868\ttotal: 719ms\tremaining: 35.2s\n",
      "4:\tlearn: 2099.6984140\ttotal: 901ms\tremaining: 35.2s\n",
      "5:\tlearn: 1986.1839560\ttotal: 1.07s\tremaining: 34.7s\n",
      "6:\tlearn: 1909.1515932\ttotal: 1.23s\tremaining: 33.9s\n",
      "7:\tlearn: 1860.6553195\ttotal: 1.42s\tremaining: 34s\n",
      "8:\tlearn: 1829.8946464\ttotal: 1.55s\tremaining: 33s\n",
      "9:\tlearn: 1806.2904323\ttotal: 1.74s\tremaining: 33s\n",
      "10:\tlearn: 1780.3835762\ttotal: 1.87s\tremaining: 32.2s\n",
      "11:\tlearn: 1766.8277825\ttotal: 2.04s\tremaining: 32s\n",
      "12:\tlearn: 1755.5142092\ttotal: 2.18s\tremaining: 31.3s\n",
      "13:\tlearn: 1747.1864868\ttotal: 2.33s\tremaining: 31s\n",
      "14:\tlearn: 1736.6453432\ttotal: 2.49s\tremaining: 30.8s\n",
      "15:\tlearn: 1731.1712470\ttotal: 2.63s\tremaining: 30.3s\n",
      "16:\tlearn: 1721.6672600\ttotal: 2.76s\tremaining: 29.7s\n",
      "17:\tlearn: 1708.6597476\ttotal: 2.89s\tremaining: 29.2s\n",
      "18:\tlearn: 1701.1813930\ttotal: 3.05s\tremaining: 29.1s\n",
      "19:\tlearn: 1694.4812455\ttotal: 3.18s\tremaining: 28.7s\n",
      "20:\tlearn: 1689.2323021\ttotal: 3.38s\tremaining: 28.8s\n",
      "21:\tlearn: 1683.1219090\ttotal: 3.52s\tremaining: 28.5s\n",
      "22:\tlearn: 1675.6715388\ttotal: 3.69s\tremaining: 28.4s\n",
      "23:\tlearn: 1672.4610862\ttotal: 3.86s\tremaining: 28.3s\n",
      "24:\tlearn: 1665.7112852\ttotal: 4.04s\tremaining: 28.3s\n",
      "25:\tlearn: 1659.8398566\ttotal: 4.21s\tremaining: 28.2s\n",
      "26:\tlearn: 1656.0573157\ttotal: 4.42s\tremaining: 28.3s\n",
      "27:\tlearn: 1651.1620830\ttotal: 4.54s\tremaining: 27.9s\n",
      "28:\tlearn: 1646.5710468\ttotal: 4.71s\tremaining: 27.8s\n",
      "29:\tlearn: 1641.9153060\ttotal: 4.85s\tremaining: 27.5s\n",
      "30:\tlearn: 1640.0759120\ttotal: 5.01s\tremaining: 27.3s\n",
      "31:\tlearn: 1636.5206889\ttotal: 5.18s\tremaining: 27.2s\n",
      "32:\tlearn: 1631.5993176\ttotal: 5.31s\tremaining: 26.9s\n",
      "33:\tlearn: 1626.2959346\ttotal: 5.46s\tremaining: 26.7s\n",
      "34:\tlearn: 1623.4050097\ttotal: 5.59s\tremaining: 26.4s\n",
      "35:\tlearn: 1619.0250721\ttotal: 5.74s\tremaining: 26.1s\n",
      "36:\tlearn: 1613.3258723\ttotal: 5.9s\tremaining: 26s\n",
      "37:\tlearn: 1609.8444391\ttotal: 6.06s\tremaining: 25.8s\n",
      "38:\tlearn: 1605.9811935\ttotal: 6.19s\tremaining: 25.6s\n",
      "39:\tlearn: 1601.6689801\ttotal: 6.38s\tremaining: 25.5s\n",
      "40:\tlearn: 1597.1442998\ttotal: 6.57s\tremaining: 25.5s\n",
      "41:\tlearn: 1594.2496028\ttotal: 6.7s\tremaining: 25.2s\n",
      "42:\tlearn: 1587.6397041\ttotal: 6.85s\tremaining: 25s\n",
      "43:\tlearn: 1582.7524034\ttotal: 7.01s\tremaining: 24.9s\n",
      "44:\tlearn: 1580.6072603\ttotal: 7.19s\tremaining: 24.8s\n",
      "45:\tlearn: 1576.7499000\ttotal: 7.32s\tremaining: 24.5s\n",
      "46:\tlearn: 1571.9906744\ttotal: 7.47s\tremaining: 24.3s\n",
      "47:\tlearn: 1570.5518301\ttotal: 7.62s\tremaining: 24.1s\n",
      "48:\tlearn: 1567.7243439\ttotal: 7.78s\tremaining: 24s\n",
      "49:\tlearn: 1565.0012970\ttotal: 7.91s\tremaining: 23.7s\n",
      "50:\tlearn: 1561.6673650\ttotal: 8.04s\tremaining: 23.5s\n",
      "51:\tlearn: 1560.3457418\ttotal: 8.2s\tremaining: 23.3s\n",
      "52:\tlearn: 1556.2227425\ttotal: 8.35s\tremaining: 23.1s\n",
      "53:\tlearn: 1553.4957963\ttotal: 8.5s\tremaining: 23s\n",
      "54:\tlearn: 1550.8543157\ttotal: 8.68s\tremaining: 22.9s\n",
      "55:\tlearn: 1548.5878356\ttotal: 8.83s\tremaining: 22.7s\n",
      "56:\tlearn: 1548.0070034\ttotal: 8.97s\tremaining: 22.5s\n",
      "57:\tlearn: 1547.5246566\ttotal: 9.15s\tremaining: 22.4s\n",
      "58:\tlearn: 1543.8586223\ttotal: 9.35s\tremaining: 22.3s\n",
      "59:\tlearn: 1542.8526074\ttotal: 9.5s\tremaining: 22.2s\n",
      "60:\tlearn: 1541.6534026\ttotal: 9.65s\tremaining: 22s\n",
      "61:\tlearn: 1540.1985974\ttotal: 9.78s\tremaining: 21.8s\n",
      "62:\tlearn: 1537.0160052\ttotal: 9.92s\tremaining: 21.6s\n",
      "63:\tlearn: 1534.6023806\ttotal: 10.1s\tremaining: 21.4s\n",
      "64:\tlearn: 1533.7526153\ttotal: 10.2s\tremaining: 21.2s\n",
      "65:\tlearn: 1531.4100664\ttotal: 10.4s\tremaining: 21.1s\n",
      "66:\tlearn: 1527.9046778\ttotal: 10.6s\tremaining: 21s\n",
      "67:\tlearn: 1525.5883399\ttotal: 10.8s\tremaining: 20.9s\n",
      "68:\tlearn: 1525.1777387\ttotal: 10.9s\tremaining: 20.8s\n",
      "69:\tlearn: 1523.4674374\ttotal: 11.1s\tremaining: 20.6s\n",
      "70:\tlearn: 1520.7644808\ttotal: 11.3s\tremaining: 20.5s\n",
      "71:\tlearn: 1519.7189488\ttotal: 11.4s\tremaining: 20.4s\n",
      "72:\tlearn: 1518.7560128\ttotal: 11.6s\tremaining: 20.2s\n",
      "73:\tlearn: 1516.1480772\ttotal: 11.7s\tremaining: 20s\n",
      "74:\tlearn: 1514.2078524\ttotal: 11.9s\tremaining: 19.8s\n",
      "75:\tlearn: 1513.2096659\ttotal: 12s\tremaining: 19.7s\n",
      "76:\tlearn: 1513.0904054\ttotal: 12.2s\tremaining: 19.4s\n",
      "77:\tlearn: 1510.8052170\ttotal: 12.4s\tremaining: 19.4s\n",
      "78:\tlearn: 1510.6137582\ttotal: 12.5s\tremaining: 19.1s\n",
      "79:\tlearn: 1508.5474134\ttotal: 12.6s\tremaining: 19s\n",
      "80:\tlearn: 1507.0501553\ttotal: 12.8s\tremaining: 18.8s\n",
      "81:\tlearn: 1506.0402922\ttotal: 13s\tremaining: 18.7s\n",
      "82:\tlearn: 1504.5491125\ttotal: 13.1s\tremaining: 18.5s\n",
      "83:\tlearn: 1502.6909909\ttotal: 13.3s\tremaining: 18.4s\n",
      "84:\tlearn: 1500.6504680\ttotal: 13.5s\tremaining: 18.2s\n",
      "85:\tlearn: 1499.7092965\ttotal: 13.6s\tremaining: 18.1s\n",
      "86:\tlearn: 1498.5962247\ttotal: 13.8s\tremaining: 17.9s\n",
      "87:\tlearn: 1498.2732369\ttotal: 14s\tremaining: 17.8s\n",
      "88:\tlearn: 1496.4577515\ttotal: 14.1s\tremaining: 17.6s\n",
      "89:\tlearn: 1495.0766702\ttotal: 14.3s\tremaining: 17.5s\n",
      "90:\tlearn: 1493.9082793\ttotal: 14.5s\tremaining: 17.4s\n",
      "91:\tlearn: 1493.7946993\ttotal: 14.6s\tremaining: 17.1s\n",
      "92:\tlearn: 1492.9319543\ttotal: 14.8s\tremaining: 17s\n",
      "93:\tlearn: 1491.9312526\ttotal: 14.9s\tremaining: 16.8s\n",
      "94:\tlearn: 1489.9080110\ttotal: 15.1s\tremaining: 16.7s\n",
      "95:\tlearn: 1488.6859321\ttotal: 15.3s\tremaining: 16.6s\n",
      "96:\tlearn: 1486.5884926\ttotal: 15.4s\tremaining: 16.4s\n",
      "97:\tlearn: 1485.2048605\ttotal: 15.6s\tremaining: 16.3s\n",
      "98:\tlearn: 1483.0006236\ttotal: 15.8s\tremaining: 16.1s\n",
      "99:\tlearn: 1481.9631733\ttotal: 15.9s\tremaining: 15.9s\n",
      "100:\tlearn: 1481.2586807\ttotal: 16.2s\tremaining: 15.9s\n",
      "101:\tlearn: 1479.5960338\ttotal: 16.4s\tremaining: 15.7s\n",
      "102:\tlearn: 1479.4109069\ttotal: 16.5s\tremaining: 15.5s\n",
      "103:\tlearn: 1477.0483959\ttotal: 16.7s\tremaining: 15.4s\n",
      "104:\tlearn: 1475.2692071\ttotal: 16.9s\tremaining: 15.2s\n",
      "105:\tlearn: 1475.0239090\ttotal: 17s\tremaining: 15.1s\n",
      "106:\tlearn: 1473.7512269\ttotal: 17.2s\tremaining: 14.9s\n",
      "107:\tlearn: 1473.5187498\ttotal: 17.3s\tremaining: 14.8s\n",
      "108:\tlearn: 1472.7200383\ttotal: 17.4s\tremaining: 14.6s\n",
      "109:\tlearn: 1471.1916876\ttotal: 17.6s\tremaining: 14.4s\n",
      "110:\tlearn: 1471.0736642\ttotal: 17.7s\tremaining: 14.2s\n",
      "111:\tlearn: 1468.9939733\ttotal: 17.9s\tremaining: 14.1s\n",
      "112:\tlearn: 1467.6578602\ttotal: 18.1s\tremaining: 13.9s\n",
      "113:\tlearn: 1466.1568625\ttotal: 18.3s\tremaining: 13.8s\n",
      "114:\tlearn: 1465.2837485\ttotal: 18.5s\tremaining: 13.7s\n",
      "115:\tlearn: 1464.5937071\ttotal: 18.6s\tremaining: 13.5s\n",
      "116:\tlearn: 1461.5236319\ttotal: 18.8s\tremaining: 13.3s\n",
      "117:\tlearn: 1460.3788309\ttotal: 19s\tremaining: 13.2s\n",
      "118:\tlearn: 1458.4723004\ttotal: 19.1s\tremaining: 13s\n",
      "119:\tlearn: 1456.6490963\ttotal: 19.4s\tremaining: 12.9s\n",
      "120:\tlearn: 1455.5271738\ttotal: 19.6s\tremaining: 12.8s\n",
      "121:\tlearn: 1454.3425957\ttotal: 19.7s\tremaining: 12.6s\n",
      "122:\tlearn: 1452.9448935\ttotal: 19.9s\tremaining: 12.4s\n",
      "123:\tlearn: 1451.3583707\ttotal: 20.1s\tremaining: 12.3s\n",
      "124:\tlearn: 1449.9114099\ttotal: 20.2s\tremaining: 12.1s\n",
      "125:\tlearn: 1449.5835109\ttotal: 20.4s\tremaining: 12s\n",
      "126:\tlearn: 1447.4381887\ttotal: 20.5s\tremaining: 11.8s\n",
      "127:\tlearn: 1445.4179594\ttotal: 20.7s\tremaining: 11.6s\n",
      "128:\tlearn: 1444.0604814\ttotal: 20.9s\tremaining: 11.5s\n",
      "129:\tlearn: 1442.9219497\ttotal: 21s\tremaining: 11.3s\n",
      "130:\tlearn: 1441.7587189\ttotal: 21.2s\tremaining: 11.1s\n",
      "131:\tlearn: 1440.6727715\ttotal: 21.3s\tremaining: 11s\n",
      "132:\tlearn: 1439.6908841\ttotal: 21.5s\tremaining: 10.8s\n",
      "133:\tlearn: 1439.5512697\ttotal: 21.7s\tremaining: 10.7s\n",
      "134:\tlearn: 1438.7254751\ttotal: 21.8s\tremaining: 10.5s\n",
      "135:\tlearn: 1437.6728051\ttotal: 22s\tremaining: 10.4s\n",
      "136:\tlearn: 1436.6127094\ttotal: 22.1s\tremaining: 10.2s\n",
      "137:\tlearn: 1435.1623305\ttotal: 22.3s\tremaining: 10s\n",
      "138:\tlearn: 1434.1090376\ttotal: 22.4s\tremaining: 9.85s\n",
      "139:\tlearn: 1432.4681923\ttotal: 22.6s\tremaining: 9.68s\n",
      "140:\tlearn: 1431.9496260\ttotal: 22.8s\tremaining: 9.52s\n",
      "141:\tlearn: 1430.2954173\ttotal: 22.9s\tremaining: 9.35s\n",
      "142:\tlearn: 1429.6328813\ttotal: 23.1s\tremaining: 9.21s\n",
      "143:\tlearn: 1428.0882444\ttotal: 23.3s\tremaining: 9.04s\n",
      "144:\tlearn: 1427.0992029\ttotal: 23.4s\tremaining: 8.88s\n",
      "145:\tlearn: 1427.0032844\ttotal: 23.6s\tremaining: 8.73s\n",
      "146:\tlearn: 1426.0696854\ttotal: 23.8s\tremaining: 8.57s\n",
      "147:\tlearn: 1425.0255662\ttotal: 23.9s\tremaining: 8.41s\n",
      "148:\tlearn: 1424.5065857\ttotal: 24.1s\tremaining: 8.26s\n",
      "149:\tlearn: 1422.6524127\ttotal: 24.3s\tremaining: 8.09s\n",
      "150:\tlearn: 1422.0007959\ttotal: 24.5s\tremaining: 7.94s\n",
      "151:\tlearn: 1420.2514539\ttotal: 24.6s\tremaining: 7.78s\n",
      "152:\tlearn: 1419.2101524\ttotal: 24.8s\tremaining: 7.63s\n",
      "153:\tlearn: 1417.2324718\ttotal: 25s\tremaining: 7.46s\n",
      "154:\tlearn: 1415.9205082\ttotal: 25.1s\tremaining: 7.29s\n",
      "155:\tlearn: 1414.7645204\ttotal: 25.3s\tremaining: 7.13s\n",
      "156:\tlearn: 1412.8127048\ttotal: 25.4s\tremaining: 6.96s\n",
      "157:\tlearn: 1412.1492409\ttotal: 25.6s\tremaining: 6.8s\n",
      "158:\tlearn: 1411.3748310\ttotal: 25.8s\tremaining: 6.64s\n",
      "159:\tlearn: 1410.5965041\ttotal: 25.9s\tremaining: 6.48s\n",
      "160:\tlearn: 1407.9320610\ttotal: 26.1s\tremaining: 6.32s\n",
      "161:\tlearn: 1407.2891926\ttotal: 26.2s\tremaining: 6.16s\n",
      "162:\tlearn: 1406.5863380\ttotal: 26.4s\tremaining: 6s\n",
      "163:\tlearn: 1405.4214062\ttotal: 26.6s\tremaining: 5.83s\n",
      "164:\tlearn: 1404.5945570\ttotal: 26.7s\tremaining: 5.67s\n",
      "165:\tlearn: 1403.7010516\ttotal: 26.9s\tremaining: 5.5s\n",
      "166:\tlearn: 1403.3828562\ttotal: 27s\tremaining: 5.34s\n",
      "167:\tlearn: 1402.6008067\ttotal: 27.2s\tremaining: 5.18s\n",
      "168:\tlearn: 1400.8491444\ttotal: 27.4s\tremaining: 5.02s\n",
      "169:\tlearn: 1400.4626365\ttotal: 27.5s\tremaining: 4.86s\n",
      "170:\tlearn: 1400.1528580\ttotal: 27.7s\tremaining: 4.7s\n",
      "171:\tlearn: 1399.1697967\ttotal: 27.9s\tremaining: 4.54s\n",
      "172:\tlearn: 1398.1912517\ttotal: 28s\tremaining: 4.38s\n",
      "173:\tlearn: 1396.9334368\ttotal: 28.2s\tremaining: 4.22s\n",
      "174:\tlearn: 1396.5543222\ttotal: 28.4s\tremaining: 4.06s\n",
      "175:\tlearn: 1395.9742313\ttotal: 28.6s\tremaining: 3.9s\n",
      "176:\tlearn: 1394.9961423\ttotal: 28.8s\tremaining: 3.74s\n",
      "177:\tlearn: 1393.6204010\ttotal: 29s\tremaining: 3.58s\n",
      "178:\tlearn: 1393.5232131\ttotal: 29.2s\tremaining: 3.42s\n",
      "179:\tlearn: 1391.6472519\ttotal: 29.4s\tremaining: 3.26s\n",
      "180:\tlearn: 1391.1413694\ttotal: 29.5s\tremaining: 3.1s\n",
      "181:\tlearn: 1390.0898255\ttotal: 29.7s\tremaining: 2.93s\n",
      "182:\tlearn: 1389.7443611\ttotal: 29.9s\tremaining: 2.77s\n",
      "183:\tlearn: 1388.8957774\ttotal: 30s\tremaining: 2.61s\n",
      "184:\tlearn: 1387.3671191\ttotal: 30.2s\tremaining: 2.45s\n",
      "185:\tlearn: 1386.0480335\ttotal: 30.3s\tremaining: 2.28s\n",
      "186:\tlearn: 1385.8536807\ttotal: 30.5s\tremaining: 2.12s\n",
      "187:\tlearn: 1385.3480853\ttotal: 30.6s\tremaining: 1.96s\n",
      "188:\tlearn: 1384.4853155\ttotal: 30.8s\tremaining: 1.79s\n",
      "189:\tlearn: 1384.0850991\ttotal: 30.9s\tremaining: 1.63s\n",
      "190:\tlearn: 1383.6526521\ttotal: 31.1s\tremaining: 1.47s\n",
      "191:\tlearn: 1383.0936383\ttotal: 31.3s\tremaining: 1.3s\n",
      "192:\tlearn: 1381.9235465\ttotal: 31.5s\tremaining: 1.14s\n",
      "193:\tlearn: 1381.4315444\ttotal: 31.6s\tremaining: 978ms\n",
      "194:\tlearn: 1380.8359996\ttotal: 31.8s\tremaining: 815ms\n",
      "195:\tlearn: 1380.0115654\ttotal: 32s\tremaining: 653ms\n",
      "196:\tlearn: 1378.2942687\ttotal: 32.1s\tremaining: 489ms\n",
      "197:\tlearn: 1378.0023565\ttotal: 32.3s\tremaining: 327ms\n",
      "198:\tlearn: 1377.8355425\ttotal: 32.5s\tremaining: 163ms\n",
      "199:\tlearn: 1375.6889867\ttotal: 32.7s\tremaining: 0us\n",
      "[CV 3/3; 2/6] END ..................depth=10, iterations=200; total time=  33.7s\n",
      "[CV 1/3; 3/6] START depth=10, iterations=300....................................\n",
      "Learning rate set to 0.227538\n",
      "0:\tlearn: 3975.2031972\ttotal: 189ms\tremaining: 56.5s\n",
      "1:\tlearn: 3387.3142147\ttotal: 346ms\tremaining: 51.5s\n",
      "2:\tlearn: 2960.3055398\ttotal: 485ms\tremaining: 48s\n",
      "3:\tlearn: 2639.6525599\ttotal: 652ms\tremaining: 48.3s\n",
      "4:\tlearn: 2409.4293518\ttotal: 841ms\tremaining: 49.6s\n",
      "5:\tlearn: 2245.0120757\ttotal: 1s\tremaining: 49.3s\n",
      "6:\tlearn: 2132.9964858\ttotal: 1.19s\tremaining: 50s\n",
      "7:\tlearn: 2046.0590740\ttotal: 1.34s\tremaining: 48.9s\n",
      "8:\tlearn: 1983.1885234\ttotal: 1.5s\tremaining: 48.7s\n",
      "9:\tlearn: 1930.3071654\ttotal: 1.68s\tremaining: 48.8s\n",
      "10:\tlearn: 1892.3997226\ttotal: 1.84s\tremaining: 48.5s\n",
      "11:\tlearn: 1858.1348311\ttotal: 2.02s\tremaining: 48.4s\n",
      "12:\tlearn: 1837.0237032\ttotal: 2.2s\tremaining: 48.7s\n",
      "13:\tlearn: 1812.6964830\ttotal: 2.35s\tremaining: 48s\n",
      "14:\tlearn: 1799.9933616\ttotal: 2.49s\tremaining: 47.4s\n",
      "15:\tlearn: 1787.6936721\ttotal: 2.67s\tremaining: 47.4s\n",
      "16:\tlearn: 1776.4285510\ttotal: 2.8s\tremaining: 46.7s\n",
      "17:\tlearn: 1760.5666337\ttotal: 2.95s\tremaining: 46.2s\n",
      "18:\tlearn: 1752.0315001\ttotal: 3.1s\tremaining: 45.8s\n",
      "19:\tlearn: 1743.9861105\ttotal: 3.26s\tremaining: 45.7s\n",
      "20:\tlearn: 1736.5170666\ttotal: 3.39s\tremaining: 45s\n",
      "21:\tlearn: 1724.1414593\ttotal: 3.56s\tremaining: 45s\n",
      "22:\tlearn: 1719.2322454\ttotal: 3.69s\tremaining: 44.4s\n",
      "23:\tlearn: 1713.0407425\ttotal: 3.84s\tremaining: 44.1s\n",
      "24:\tlearn: 1707.0070397\ttotal: 4.04s\tremaining: 44.5s\n",
      "25:\tlearn: 1700.8488696\ttotal: 4.2s\tremaining: 44.3s\n",
      "26:\tlearn: 1697.2158078\ttotal: 4.32s\tremaining: 43.7s\n",
      "27:\tlearn: 1691.2172360\ttotal: 4.49s\tremaining: 43.6s\n",
      "28:\tlearn: 1687.3986123\ttotal: 4.65s\tremaining: 43.4s\n",
      "29:\tlearn: 1684.1778356\ttotal: 4.78s\tremaining: 43.1s\n",
      "30:\tlearn: 1681.4386400\ttotal: 4.95s\tremaining: 43s\n",
      "31:\tlearn: 1676.1945633\ttotal: 5.13s\tremaining: 43s\n",
      "32:\tlearn: 1670.5961147\ttotal: 5.27s\tremaining: 42.6s\n",
      "33:\tlearn: 1665.1750508\ttotal: 5.41s\tremaining: 42.4s\n",
      "34:\tlearn: 1662.2773058\ttotal: 5.53s\tremaining: 41.8s\n",
      "35:\tlearn: 1657.9957269\ttotal: 5.7s\tremaining: 41.8s\n",
      "36:\tlearn: 1654.6281391\ttotal: 5.84s\tremaining: 41.5s\n",
      "37:\tlearn: 1653.6903521\ttotal: 5.99s\tremaining: 41.3s\n",
      "38:\tlearn: 1649.9345289\ttotal: 6.18s\tremaining: 41.3s\n",
      "39:\tlearn: 1647.1990222\ttotal: 6.35s\tremaining: 41.3s\n",
      "40:\tlearn: 1642.6558187\ttotal: 6.5s\tremaining: 41.1s\n",
      "41:\tlearn: 1642.6430773\ttotal: 6.56s\tremaining: 40.3s\n",
      "42:\tlearn: 1639.7836207\ttotal: 6.74s\tremaining: 40.3s\n",
      "43:\tlearn: 1639.7835742\ttotal: 6.76s\tremaining: 39.3s\n",
      "44:\tlearn: 1633.5460597\ttotal: 6.9s\tremaining: 39.1s\n",
      "45:\tlearn: 1630.6281550\ttotal: 7.06s\tremaining: 39s\n",
      "46:\tlearn: 1627.0456492\ttotal: 7.23s\tremaining: 38.9s\n",
      "47:\tlearn: 1623.1916988\ttotal: 7.35s\tremaining: 38.6s\n",
      "48:\tlearn: 1619.6592138\ttotal: 7.48s\tremaining: 38.3s\n",
      "49:\tlearn: 1616.9188833\ttotal: 7.63s\tremaining: 38.2s\n",
      "50:\tlearn: 1616.9188704\ttotal: 7.66s\tremaining: 37.4s\n",
      "51:\tlearn: 1614.8441971\ttotal: 7.83s\tremaining: 37.3s\n",
      "52:\tlearn: 1612.1828148\ttotal: 8.01s\tremaining: 37.3s\n",
      "53:\tlearn: 1609.3197805\ttotal: 8.19s\tremaining: 37.3s\n",
      "54:\tlearn: 1607.0304674\ttotal: 8.37s\tremaining: 37.3s\n",
      "55:\tlearn: 1603.4025898\ttotal: 8.5s\tremaining: 37s\n",
      "56:\tlearn: 1602.4097825\ttotal: 8.63s\tremaining: 36.8s\n",
      "57:\tlearn: 1600.0697648\ttotal: 8.83s\tremaining: 36.8s\n",
      "58:\tlearn: 1599.6582579\ttotal: 9s\tremaining: 36.8s\n",
      "59:\tlearn: 1596.6580621\ttotal: 9.17s\tremaining: 36.7s\n",
      "60:\tlearn: 1592.8794104\ttotal: 9.36s\tremaining: 36.7s\n",
      "61:\tlearn: 1589.7806039\ttotal: 9.5s\tremaining: 36.5s\n",
      "62:\tlearn: 1588.0437045\ttotal: 9.66s\tremaining: 36.4s\n",
      "63:\tlearn: 1586.6689268\ttotal: 9.83s\tremaining: 36.2s\n",
      "64:\tlearn: 1583.4329626\ttotal: 10s\tremaining: 36.1s\n",
      "65:\tlearn: 1582.0473121\ttotal: 10.1s\tremaining: 35.9s\n",
      "66:\tlearn: 1580.8204639\ttotal: 10.3s\tremaining: 35.7s\n",
      "67:\tlearn: 1578.6442810\ttotal: 10.5s\tremaining: 35.7s\n",
      "68:\tlearn: 1576.7786629\ttotal: 10.6s\tremaining: 35.6s\n",
      "69:\tlearn: 1576.1895456\ttotal: 10.8s\tremaining: 35.4s\n",
      "70:\tlearn: 1573.9877946\ttotal: 10.9s\tremaining: 35.3s\n",
      "71:\tlearn: 1573.6509586\ttotal: 11.1s\tremaining: 35.1s\n",
      "72:\tlearn: 1572.8525423\ttotal: 11.3s\tremaining: 35s\n",
      "73:\tlearn: 1570.1891687\ttotal: 11.4s\tremaining: 35s\n",
      "74:\tlearn: 1568.9461129\ttotal: 11.7s\tremaining: 35s\n",
      "75:\tlearn: 1566.8311249\ttotal: 11.8s\tremaining: 34.9s\n",
      "76:\tlearn: 1564.8157521\ttotal: 12s\tremaining: 34.8s\n",
      "77:\tlearn: 1563.9543282\ttotal: 12.2s\tremaining: 34.7s\n",
      "78:\tlearn: 1560.5253176\ttotal: 12.3s\tremaining: 34.5s\n",
      "79:\tlearn: 1559.8824312\ttotal: 12.5s\tremaining: 34.2s\n",
      "80:\tlearn: 1558.7132018\ttotal: 12.6s\tremaining: 34.1s\n",
      "81:\tlearn: 1557.3617416\ttotal: 12.8s\tremaining: 34s\n",
      "82:\tlearn: 1555.6518747\ttotal: 13s\tremaining: 34s\n",
      "83:\tlearn: 1554.0933245\ttotal: 13.2s\tremaining: 33.9s\n",
      "84:\tlearn: 1552.8959229\ttotal: 13.3s\tremaining: 33.7s\n",
      "85:\tlearn: 1551.5984596\ttotal: 13.5s\tremaining: 33.6s\n",
      "86:\tlearn: 1549.7642440\ttotal: 13.7s\tremaining: 33.5s\n",
      "87:\tlearn: 1546.8344979\ttotal: 13.8s\tremaining: 33.3s\n",
      "88:\tlearn: 1545.5335897\ttotal: 14s\tremaining: 33.2s\n",
      "89:\tlearn: 1545.0304674\ttotal: 14.1s\tremaining: 32.9s\n",
      "90:\tlearn: 1541.9722649\ttotal: 14.2s\tremaining: 32.7s\n",
      "91:\tlearn: 1540.8857956\ttotal: 14.4s\tremaining: 32.6s\n",
      "92:\tlearn: 1540.2001782\ttotal: 14.6s\tremaining: 32.4s\n",
      "93:\tlearn: 1539.0275205\ttotal: 14.8s\tremaining: 32.4s\n",
      "94:\tlearn: 1536.6386901\ttotal: 15s\tremaining: 32.3s\n",
      "95:\tlearn: 1535.8721142\ttotal: 15.2s\tremaining: 32.2s\n",
      "96:\tlearn: 1535.1815491\ttotal: 15.4s\tremaining: 32.1s\n",
      "97:\tlearn: 1534.8574625\ttotal: 15.5s\tremaining: 31.9s\n",
      "98:\tlearn: 1533.4383828\ttotal: 15.6s\tremaining: 31.8s\n",
      "99:\tlearn: 1531.0695155\ttotal: 15.8s\tremaining: 31.6s\n",
      "100:\tlearn: 1530.4203969\ttotal: 15.9s\tremaining: 31.4s\n",
      "101:\tlearn: 1529.7181036\ttotal: 16.1s\tremaining: 31.3s\n",
      "102:\tlearn: 1528.6992959\ttotal: 16.3s\tremaining: 31.1s\n",
      "103:\tlearn: 1528.6350385\ttotal: 16.4s\tremaining: 30.8s\n",
      "104:\tlearn: 1527.0471549\ttotal: 16.5s\tremaining: 30.7s\n",
      "105:\tlearn: 1525.9944964\ttotal: 16.7s\tremaining: 30.6s\n",
      "106:\tlearn: 1524.9029687\ttotal: 16.8s\tremaining: 30.4s\n",
      "107:\tlearn: 1523.0039889\ttotal: 17s\tremaining: 30.2s\n",
      "108:\tlearn: 1522.1847840\ttotal: 17.1s\tremaining: 30s\n",
      "109:\tlearn: 1520.3503502\ttotal: 17.3s\tremaining: 29.8s\n",
      "110:\tlearn: 1519.4011229\ttotal: 17.4s\tremaining: 29.6s\n",
      "111:\tlearn: 1518.3520444\ttotal: 17.6s\tremaining: 29.5s\n",
      "112:\tlearn: 1516.7943524\ttotal: 17.8s\tremaining: 29.4s\n",
      "113:\tlearn: 1515.7172051\ttotal: 17.9s\tremaining: 29.2s\n",
      "114:\tlearn: 1514.0367084\ttotal: 18.1s\tremaining: 29.1s\n",
      "115:\tlearn: 1512.1657857\ttotal: 18.3s\tremaining: 29s\n",
      "116:\tlearn: 1511.0436500\ttotal: 18.4s\tremaining: 28.8s\n",
      "117:\tlearn: 1508.0790468\ttotal: 18.6s\tremaining: 28.6s\n",
      "118:\tlearn: 1506.4772510\ttotal: 18.8s\tremaining: 28.5s\n",
      "119:\tlearn: 1506.0031456\ttotal: 18.9s\tremaining: 28.4s\n",
      "120:\tlearn: 1504.9874461\ttotal: 19.1s\tremaining: 28.3s\n",
      "121:\tlearn: 1503.7622711\ttotal: 19.3s\tremaining: 28.1s\n",
      "122:\tlearn: 1503.2065536\ttotal: 19.4s\tremaining: 28s\n",
      "123:\tlearn: 1502.4313302\ttotal: 19.6s\tremaining: 27.9s\n",
      "124:\tlearn: 1501.5794796\ttotal: 19.8s\tremaining: 27.8s\n",
      "125:\tlearn: 1501.0457764\ttotal: 20s\tremaining: 27.6s\n",
      "126:\tlearn: 1499.7173459\ttotal: 20.2s\tremaining: 27.5s\n",
      "127:\tlearn: 1499.0683305\ttotal: 20.4s\tremaining: 27.3s\n",
      "128:\tlearn: 1498.4143119\ttotal: 20.5s\tremaining: 27.2s\n",
      "129:\tlearn: 1497.1723228\ttotal: 20.7s\tremaining: 27s\n",
      "130:\tlearn: 1495.9813356\ttotal: 20.9s\tremaining: 26.9s\n",
      "131:\tlearn: 1494.0957733\ttotal: 21s\tremaining: 26.8s\n",
      "132:\tlearn: 1492.9659950\ttotal: 21.2s\tremaining: 26.6s\n",
      "133:\tlearn: 1492.1287288\ttotal: 21.4s\tremaining: 26.5s\n",
      "134:\tlearn: 1491.3587664\ttotal: 21.6s\tremaining: 26.4s\n",
      "135:\tlearn: 1490.5976052\ttotal: 21.8s\tremaining: 26.3s\n",
      "136:\tlearn: 1488.3870574\ttotal: 22s\tremaining: 26.1s\n",
      "137:\tlearn: 1487.0160315\ttotal: 22.1s\tremaining: 26s\n",
      "138:\tlearn: 1486.2544775\ttotal: 22.3s\tremaining: 25.8s\n",
      "139:\tlearn: 1484.3357712\ttotal: 22.4s\tremaining: 25.6s\n",
      "140:\tlearn: 1481.9953995\ttotal: 22.6s\tremaining: 25.5s\n",
      "141:\tlearn: 1481.3734182\ttotal: 22.8s\tremaining: 25.3s\n",
      "142:\tlearn: 1479.9065462\ttotal: 22.9s\tremaining: 25.1s\n",
      "143:\tlearn: 1478.2976238\ttotal: 23.1s\tremaining: 25s\n",
      "144:\tlearn: 1477.6238829\ttotal: 23.2s\tremaining: 24.8s\n",
      "145:\tlearn: 1477.0061262\ttotal: 23.4s\tremaining: 24.7s\n",
      "146:\tlearn: 1476.3465661\ttotal: 23.6s\tremaining: 24.6s\n",
      "147:\tlearn: 1475.7787041\ttotal: 23.8s\tremaining: 24.4s\n",
      "148:\tlearn: 1475.0649296\ttotal: 23.9s\tremaining: 24.3s\n",
      "149:\tlearn: 1473.7007686\ttotal: 24.1s\tremaining: 24.1s\n",
      "150:\tlearn: 1472.7775640\ttotal: 24.3s\tremaining: 24s\n",
      "151:\tlearn: 1472.0398537\ttotal: 24.4s\tremaining: 23.8s\n",
      "152:\tlearn: 1470.1628845\ttotal: 24.6s\tremaining: 23.7s\n",
      "153:\tlearn: 1469.8689866\ttotal: 24.8s\tremaining: 23.5s\n",
      "154:\tlearn: 1468.5072963\ttotal: 25s\tremaining: 23.3s\n",
      "155:\tlearn: 1467.8540296\ttotal: 25.2s\tremaining: 23.2s\n",
      "156:\tlearn: 1467.0490746\ttotal: 25.3s\tremaining: 23.1s\n",
      "157:\tlearn: 1466.0118557\ttotal: 25.5s\tremaining: 22.9s\n",
      "158:\tlearn: 1464.7474069\ttotal: 25.6s\tremaining: 22.7s\n",
      "159:\tlearn: 1463.8379195\ttotal: 25.8s\tremaining: 22.6s\n",
      "160:\tlearn: 1463.2415473\ttotal: 25.9s\tremaining: 22.4s\n",
      "161:\tlearn: 1462.5425903\ttotal: 26.1s\tremaining: 22.2s\n",
      "162:\tlearn: 1462.4495971\ttotal: 26.2s\tremaining: 22s\n",
      "163:\tlearn: 1461.9049878\ttotal: 26.4s\tremaining: 21.9s\n",
      "164:\tlearn: 1461.3712857\ttotal: 26.6s\tremaining: 21.7s\n",
      "165:\tlearn: 1459.1548211\ttotal: 26.7s\tremaining: 21.6s\n",
      "166:\tlearn: 1458.5492035\ttotal: 26.9s\tremaining: 21.4s\n",
      "167:\tlearn: 1457.7072008\ttotal: 27.1s\tremaining: 21.3s\n",
      "168:\tlearn: 1456.9360422\ttotal: 27.2s\tremaining: 21.1s\n",
      "169:\tlearn: 1455.3538144\ttotal: 27.4s\tremaining: 21s\n",
      "170:\tlearn: 1454.6918019\ttotal: 27.6s\tremaining: 20.8s\n",
      "171:\tlearn: 1452.6363812\ttotal: 27.7s\tremaining: 20.6s\n",
      "172:\tlearn: 1451.5902498\ttotal: 27.9s\tremaining: 20.5s\n",
      "173:\tlearn: 1450.3748554\ttotal: 28s\tremaining: 20.3s\n",
      "174:\tlearn: 1449.2663328\ttotal: 28.2s\tremaining: 20.1s\n",
      "175:\tlearn: 1448.3603159\ttotal: 28.3s\tremaining: 20s\n",
      "176:\tlearn: 1447.7251434\ttotal: 28.6s\tremaining: 19.8s\n",
      "177:\tlearn: 1446.6175138\ttotal: 28.8s\tremaining: 19.7s\n",
      "178:\tlearn: 1446.3358878\ttotal: 28.9s\tremaining: 19.5s\n",
      "179:\tlearn: 1445.4838789\ttotal: 29.1s\tremaining: 19.4s\n",
      "180:\tlearn: 1444.7348874\ttotal: 29.3s\tremaining: 19.2s\n",
      "181:\tlearn: 1444.2671945\ttotal: 29.4s\tremaining: 19.1s\n",
      "182:\tlearn: 1443.7485613\ttotal: 29.6s\tremaining: 18.9s\n",
      "183:\tlearn: 1443.5053164\ttotal: 29.8s\tremaining: 18.8s\n",
      "184:\tlearn: 1442.2049204\ttotal: 29.9s\tremaining: 18.6s\n",
      "185:\tlearn: 1441.3971455\ttotal: 30.1s\tremaining: 18.4s\n",
      "186:\tlearn: 1441.0834877\ttotal: 30.3s\tremaining: 18.3s\n",
      "187:\tlearn: 1440.0988859\ttotal: 30.4s\tremaining: 18.1s\n",
      "188:\tlearn: 1439.5736715\ttotal: 30.6s\tremaining: 18s\n",
      "189:\tlearn: 1438.9201599\ttotal: 30.8s\tremaining: 17.8s\n",
      "190:\tlearn: 1438.7147415\ttotal: 31s\tremaining: 17.7s\n",
      "191:\tlearn: 1437.7578027\ttotal: 31.2s\tremaining: 17.5s\n",
      "192:\tlearn: 1436.6179095\ttotal: 31.3s\tremaining: 17.4s\n",
      "193:\tlearn: 1435.8886818\ttotal: 31.5s\tremaining: 17.2s\n",
      "194:\tlearn: 1435.1077830\ttotal: 31.6s\tremaining: 17s\n",
      "195:\tlearn: 1434.2128082\ttotal: 31.8s\tremaining: 16.9s\n",
      "196:\tlearn: 1432.6028495\ttotal: 32s\tremaining: 16.7s\n",
      "197:\tlearn: 1431.9276871\ttotal: 32.2s\tremaining: 16.6s\n",
      "198:\tlearn: 1430.7471111\ttotal: 32.3s\tremaining: 16.4s\n",
      "199:\tlearn: 1430.2497662\ttotal: 32.5s\tremaining: 16.3s\n",
      "200:\tlearn: 1429.5018691\ttotal: 32.7s\tremaining: 16.1s\n",
      "201:\tlearn: 1429.0339287\ttotal: 32.8s\tremaining: 15.9s\n",
      "202:\tlearn: 1428.1042001\ttotal: 33s\tremaining: 15.8s\n",
      "203:\tlearn: 1426.1688187\ttotal: 33.2s\tremaining: 15.6s\n",
      "204:\tlearn: 1425.6970955\ttotal: 33.4s\tremaining: 15.5s\n",
      "205:\tlearn: 1424.7817020\ttotal: 33.6s\tremaining: 15.3s\n",
      "206:\tlearn: 1423.9208766\ttotal: 33.7s\tremaining: 15.2s\n",
      "207:\tlearn: 1423.0475512\ttotal: 33.9s\tremaining: 15s\n",
      "208:\tlearn: 1422.3891956\ttotal: 34.1s\tremaining: 14.8s\n",
      "209:\tlearn: 1421.8983304\ttotal: 34.3s\tremaining: 14.7s\n",
      "210:\tlearn: 1421.3912686\ttotal: 34.5s\tremaining: 14.5s\n",
      "211:\tlearn: 1420.6753641\ttotal: 34.6s\tremaining: 14.4s\n",
      "212:\tlearn: 1419.4409392\ttotal: 34.8s\tremaining: 14.2s\n",
      "213:\tlearn: 1418.9912531\ttotal: 35s\tremaining: 14.1s\n",
      "214:\tlearn: 1418.4563915\ttotal: 35.1s\tremaining: 13.9s\n",
      "215:\tlearn: 1417.3273856\ttotal: 35.3s\tremaining: 13.7s\n",
      "216:\tlearn: 1417.1065764\ttotal: 35.6s\tremaining: 13.6s\n",
      "217:\tlearn: 1416.1995739\ttotal: 35.7s\tremaining: 13.4s\n",
      "218:\tlearn: 1415.8548650\ttotal: 35.9s\tremaining: 13.3s\n",
      "219:\tlearn: 1415.4073983\ttotal: 36s\tremaining: 13.1s\n",
      "220:\tlearn: 1414.6257958\ttotal: 36.2s\tremaining: 12.9s\n",
      "221:\tlearn: 1414.1103086\ttotal: 36.4s\tremaining: 12.8s\n",
      "222:\tlearn: 1413.7091509\ttotal: 36.5s\tremaining: 12.6s\n",
      "223:\tlearn: 1412.5717113\ttotal: 36.7s\tremaining: 12.4s\n",
      "224:\tlearn: 1411.7224433\ttotal: 36.9s\tremaining: 12.3s\n",
      "225:\tlearn: 1411.2959472\ttotal: 37s\tremaining: 12.1s\n",
      "226:\tlearn: 1410.3985851\ttotal: 37.2s\tremaining: 12s\n",
      "227:\tlearn: 1409.7887995\ttotal: 37.4s\tremaining: 11.8s\n",
      "228:\tlearn: 1409.0402944\ttotal: 37.6s\tremaining: 11.6s\n",
      "229:\tlearn: 1408.2911063\ttotal: 37.8s\tremaining: 11.5s\n",
      "230:\tlearn: 1408.1538405\ttotal: 37.9s\tremaining: 11.3s\n",
      "231:\tlearn: 1407.8622616\ttotal: 38.1s\tremaining: 11.2s\n",
      "232:\tlearn: 1407.4787776\ttotal: 38.3s\tremaining: 11s\n",
      "233:\tlearn: 1406.9264326\ttotal: 38.5s\tremaining: 10.8s\n",
      "234:\tlearn: 1405.9771561\ttotal: 38.6s\tremaining: 10.7s\n",
      "235:\tlearn: 1404.6204021\ttotal: 38.8s\tremaining: 10.5s\n",
      "236:\tlearn: 1404.0466178\ttotal: 38.9s\tremaining: 10.3s\n",
      "237:\tlearn: 1403.7052539\ttotal: 39.1s\tremaining: 10.2s\n",
      "238:\tlearn: 1402.7699886\ttotal: 39.3s\tremaining: 10s\n",
      "239:\tlearn: 1402.2380802\ttotal: 39.5s\tremaining: 9.86s\n",
      "240:\tlearn: 1401.4762701\ttotal: 39.6s\tremaining: 9.7s\n",
      "241:\tlearn: 1400.2577110\ttotal: 39.8s\tremaining: 9.53s\n",
      "242:\tlearn: 1399.9322408\ttotal: 40s\tremaining: 9.37s\n",
      "243:\tlearn: 1399.0199914\ttotal: 40.1s\tremaining: 9.21s\n",
      "244:\tlearn: 1398.4122453\ttotal: 40.3s\tremaining: 9.04s\n",
      "245:\tlearn: 1397.2597419\ttotal: 40.5s\tremaining: 8.88s\n",
      "246:\tlearn: 1396.5488142\ttotal: 40.6s\tremaining: 8.71s\n",
      "247:\tlearn: 1396.0009524\ttotal: 40.8s\tremaining: 8.54s\n",
      "248:\tlearn: 1395.3964157\ttotal: 40.9s\tremaining: 8.39s\n",
      "249:\tlearn: 1395.3832320\ttotal: 41s\tremaining: 8.21s\n",
      "250:\tlearn: 1395.0061289\ttotal: 41.2s\tremaining: 8.05s\n",
      "251:\tlearn: 1394.4245459\ttotal: 41.4s\tremaining: 7.89s\n",
      "252:\tlearn: 1393.9831382\ttotal: 41.6s\tremaining: 7.73s\n",
      "253:\tlearn: 1393.7091328\ttotal: 41.8s\tremaining: 7.57s\n",
      "254:\tlearn: 1391.5079643\ttotal: 42s\tremaining: 7.41s\n",
      "255:\tlearn: 1390.6527116\ttotal: 42.2s\tremaining: 7.25s\n",
      "256:\tlearn: 1390.4321029\ttotal: 42.4s\tremaining: 7.09s\n",
      "257:\tlearn: 1389.9497604\ttotal: 42.6s\tremaining: 6.93s\n",
      "258:\tlearn: 1389.8329410\ttotal: 42.7s\tremaining: 6.76s\n",
      "259:\tlearn: 1389.3476586\ttotal: 42.9s\tremaining: 6.6s\n",
      "260:\tlearn: 1388.5987907\ttotal: 43.1s\tremaining: 6.43s\n",
      "261:\tlearn: 1388.3320111\ttotal: 43.2s\tremaining: 6.27s\n",
      "262:\tlearn: 1387.7397445\ttotal: 43.4s\tremaining: 6.1s\n",
      "263:\tlearn: 1387.3846067\ttotal: 43.5s\tremaining: 5.94s\n",
      "264:\tlearn: 1387.1018346\ttotal: 43.7s\tremaining: 5.77s\n",
      "265:\tlearn: 1385.8333480\ttotal: 43.9s\tremaining: 5.61s\n",
      "266:\tlearn: 1385.4685182\ttotal: 44.1s\tremaining: 5.45s\n",
      "267:\tlearn: 1385.1185095\ttotal: 44.3s\tremaining: 5.29s\n",
      "268:\tlearn: 1384.4831609\ttotal: 44.5s\tremaining: 5.13s\n",
      "269:\tlearn: 1384.2563959\ttotal: 44.7s\tremaining: 4.96s\n",
      "270:\tlearn: 1384.1831096\ttotal: 44.8s\tremaining: 4.79s\n",
      "271:\tlearn: 1383.9675777\ttotal: 45.1s\tremaining: 4.64s\n",
      "272:\tlearn: 1383.8056041\ttotal: 45.2s\tremaining: 4.47s\n",
      "273:\tlearn: 1383.4752981\ttotal: 45.4s\tremaining: 4.31s\n",
      "274:\tlearn: 1383.0345742\ttotal: 45.6s\tremaining: 4.15s\n",
      "275:\tlearn: 1382.7598997\ttotal: 45.8s\tremaining: 3.98s\n",
      "276:\tlearn: 1382.5587743\ttotal: 46s\tremaining: 3.82s\n",
      "277:\tlearn: 1382.1918126\ttotal: 46.2s\tremaining: 3.66s\n",
      "278:\tlearn: 1381.3874064\ttotal: 46.4s\tremaining: 3.49s\n",
      "279:\tlearn: 1381.1603060\ttotal: 46.6s\tremaining: 3.33s\n",
      "280:\tlearn: 1380.9645304\ttotal: 46.7s\tremaining: 3.16s\n",
      "281:\tlearn: 1380.5453449\ttotal: 47s\tremaining: 3s\n",
      "282:\tlearn: 1380.1481541\ttotal: 47.1s\tremaining: 2.83s\n",
      "283:\tlearn: 1379.7507137\ttotal: 47.3s\tremaining: 2.67s\n",
      "284:\tlearn: 1379.4243895\ttotal: 47.5s\tremaining: 2.5s\n",
      "285:\tlearn: 1378.9664597\ttotal: 47.7s\tremaining: 2.33s\n",
      "286:\tlearn: 1378.6914283\ttotal: 47.9s\tremaining: 2.17s\n",
      "287:\tlearn: 1378.2070922\ttotal: 48.1s\tremaining: 2s\n",
      "288:\tlearn: 1377.6996529\ttotal: 48.2s\tremaining: 1.84s\n",
      "289:\tlearn: 1377.1398737\ttotal: 48.4s\tremaining: 1.67s\n",
      "290:\tlearn: 1376.8060336\ttotal: 48.6s\tremaining: 1.5s\n",
      "291:\tlearn: 1376.3870656\ttotal: 48.8s\tremaining: 1.34s\n",
      "292:\tlearn: 1375.7234319\ttotal: 49s\tremaining: 1.17s\n",
      "293:\tlearn: 1375.1413284\ttotal: 49.2s\tremaining: 1s\n",
      "294:\tlearn: 1373.5171470\ttotal: 49.3s\tremaining: 836ms\n",
      "295:\tlearn: 1373.3678414\ttotal: 49.5s\tremaining: 669ms\n",
      "296:\tlearn: 1373.1792125\ttotal: 49.7s\tremaining: 502ms\n",
      "297:\tlearn: 1372.3060096\ttotal: 49.9s\tremaining: 335ms\n",
      "298:\tlearn: 1371.1657723\ttotal: 50.1s\tremaining: 168ms\n",
      "299:\tlearn: 1370.8560416\ttotal: 50.3s\tremaining: 0us\n",
      "[CV 1/3; 3/6] END ..................depth=10, iterations=300; total time=  52.2s\n",
      "[CV 2/3; 3/6] START depth=10, iterations=300....................................\n",
      "Learning rate set to 0.227538\n",
      "0:\tlearn: 3976.8555786\ttotal: 192ms\tremaining: 57.3s\n",
      "1:\tlearn: 3401.7736653\ttotal: 393ms\tremaining: 58.5s\n",
      "2:\tlearn: 2969.6682035\ttotal: 595ms\tremaining: 58.9s\n",
      "3:\tlearn: 2644.4963706\ttotal: 791ms\tremaining: 58.5s\n",
      "4:\tlearn: 2412.9357929\ttotal: 996ms\tremaining: 58.8s\n",
      "5:\tlearn: 2245.7833141\ttotal: 1.19s\tremaining: 58.5s\n",
      "6:\tlearn: 2133.5112527\ttotal: 1.39s\tremaining: 58.3s\n",
      "7:\tlearn: 2049.1269733\ttotal: 1.55s\tremaining: 56.8s\n",
      "8:\tlearn: 1987.8932377\ttotal: 1.71s\tremaining: 55.2s\n",
      "9:\tlearn: 1938.3941304\ttotal: 1.85s\tremaining: 53.8s\n",
      "10:\tlearn: 1902.6437609\ttotal: 2.02s\tremaining: 53.2s\n",
      "11:\tlearn: 1867.1488982\ttotal: 2.16s\tremaining: 51.9s\n",
      "12:\tlearn: 1838.3955900\ttotal: 2.29s\tremaining: 50.6s\n",
      "13:\tlearn: 1814.0804957\ttotal: 2.44s\tremaining: 49.8s\n",
      "14:\tlearn: 1796.1342013\ttotal: 2.58s\tremaining: 49.1s\n",
      "15:\tlearn: 1785.1320432\ttotal: 2.78s\tremaining: 49.3s\n",
      "16:\tlearn: 1768.9256990\ttotal: 2.93s\tremaining: 48.8s\n",
      "17:\tlearn: 1754.3650509\ttotal: 3.06s\tremaining: 48s\n",
      "18:\tlearn: 1743.8253807\ttotal: 3.22s\tremaining: 47.6s\n",
      "19:\tlearn: 1736.2287937\ttotal: 3.36s\tremaining: 47.1s\n",
      "20:\tlearn: 1728.1351345\ttotal: 3.57s\tremaining: 47.4s\n",
      "21:\tlearn: 1720.1539005\ttotal: 3.73s\tremaining: 47.2s\n",
      "22:\tlearn: 1715.9035362\ttotal: 3.88s\tremaining: 46.7s\n",
      "23:\tlearn: 1708.7033387\ttotal: 4.01s\tremaining: 46.2s\n",
      "24:\tlearn: 1700.7740072\ttotal: 4.17s\tremaining: 45.9s\n",
      "25:\tlearn: 1696.7312419\ttotal: 4.34s\tremaining: 45.7s\n",
      "26:\tlearn: 1692.2229430\ttotal: 4.47s\tremaining: 45.2s\n",
      "27:\tlearn: 1689.1884099\ttotal: 4.63s\tremaining: 45s\n",
      "28:\tlearn: 1680.2189908\ttotal: 4.78s\tremaining: 44.7s\n",
      "29:\tlearn: 1675.6413896\ttotal: 4.95s\tremaining: 44.6s\n",
      "30:\tlearn: 1672.6916016\ttotal: 5.13s\tremaining: 44.5s\n",
      "31:\tlearn: 1670.6622303\ttotal: 5.26s\tremaining: 44s\n",
      "32:\tlearn: 1663.4035003\ttotal: 5.4s\tremaining: 43.7s\n",
      "33:\tlearn: 1661.8923506\ttotal: 5.52s\tremaining: 43.2s\n",
      "34:\tlearn: 1658.6835118\ttotal: 5.65s\tremaining: 42.8s\n",
      "35:\tlearn: 1653.9446795\ttotal: 5.81s\tremaining: 42.6s\n",
      "36:\tlearn: 1650.5938462\ttotal: 5.97s\tremaining: 42.5s\n",
      "37:\tlearn: 1647.0399967\ttotal: 6.09s\tremaining: 42s\n",
      "38:\tlearn: 1645.7653125\ttotal: 6.27s\tremaining: 42s\n",
      "39:\tlearn: 1638.9734351\ttotal: 6.41s\tremaining: 41.7s\n",
      "40:\tlearn: 1634.9369202\ttotal: 6.59s\tremaining: 41.7s\n",
      "41:\tlearn: 1631.9049001\ttotal: 6.73s\tremaining: 41.4s\n",
      "42:\tlearn: 1629.3705419\ttotal: 6.88s\tremaining: 41.1s\n",
      "43:\tlearn: 1626.2493710\ttotal: 7.07s\tremaining: 41.1s\n",
      "44:\tlearn: 1622.9311180\ttotal: 7.19s\tremaining: 40.8s\n",
      "45:\tlearn: 1618.8392472\ttotal: 7.35s\tremaining: 40.6s\n",
      "46:\tlearn: 1617.5073044\ttotal: 7.49s\tremaining: 40.3s\n",
      "47:\tlearn: 1613.5126188\ttotal: 7.66s\tremaining: 40.2s\n",
      "48:\tlearn: 1612.1935465\ttotal: 7.81s\tremaining: 40s\n",
      "49:\tlearn: 1609.2696453\ttotal: 7.95s\tremaining: 39.8s\n",
      "50:\tlearn: 1606.0319751\ttotal: 8.12s\tremaining: 39.7s\n",
      "51:\tlearn: 1602.6281590\ttotal: 8.28s\tremaining: 39.5s\n",
      "52:\tlearn: 1599.7452329\ttotal: 8.45s\tremaining: 39.4s\n",
      "53:\tlearn: 1597.3198259\ttotal: 8.63s\tremaining: 39.3s\n",
      "54:\tlearn: 1595.1779178\ttotal: 8.79s\tremaining: 39.2s\n",
      "55:\tlearn: 1591.9083663\ttotal: 8.95s\tremaining: 39s\n",
      "56:\tlearn: 1589.8072212\ttotal: 9.08s\tremaining: 38.7s\n",
      "57:\tlearn: 1588.5554553\ttotal: 9.24s\tremaining: 38.5s\n",
      "58:\tlearn: 1584.6087881\ttotal: 9.39s\tremaining: 38.3s\n",
      "59:\tlearn: 1581.7801213\ttotal: 9.57s\tremaining: 38.3s\n",
      "60:\tlearn: 1580.4077047\ttotal: 9.73s\tremaining: 38.1s\n",
      "61:\tlearn: 1577.0730504\ttotal: 9.85s\tremaining: 37.8s\n",
      "62:\tlearn: 1574.4290601\ttotal: 10s\tremaining: 37.7s\n",
      "63:\tlearn: 1570.7852616\ttotal: 10.2s\tremaining: 37.5s\n",
      "64:\tlearn: 1570.1488563\ttotal: 10.3s\tremaining: 37.3s\n",
      "65:\tlearn: 1567.4356014\ttotal: 10.5s\tremaining: 37.1s\n",
      "66:\tlearn: 1564.2385145\ttotal: 10.6s\tremaining: 36.9s\n",
      "67:\tlearn: 1561.9190473\ttotal: 10.8s\tremaining: 36.7s\n",
      "68:\tlearn: 1559.6841233\ttotal: 10.9s\tremaining: 36.6s\n",
      "69:\tlearn: 1558.0683254\ttotal: 11s\tremaining: 36.3s\n",
      "70:\tlearn: 1555.7508743\ttotal: 11.2s\tremaining: 36.2s\n",
      "71:\tlearn: 1553.6457928\ttotal: 11.3s\tremaining: 35.9s\n",
      "72:\tlearn: 1551.2155442\ttotal: 11.5s\tremaining: 35.8s\n",
      "73:\tlearn: 1551.1898337\ttotal: 11.6s\tremaining: 35.3s\n",
      "74:\tlearn: 1549.6903143\ttotal: 11.7s\tremaining: 35.2s\n",
      "75:\tlearn: 1547.0706151\ttotal: 11.9s\tremaining: 35.1s\n",
      "76:\tlearn: 1545.4704715\ttotal: 12s\tremaining: 34.9s\n",
      "77:\tlearn: 1543.6462758\ttotal: 12.2s\tremaining: 34.8s\n",
      "78:\tlearn: 1543.2248173\ttotal: 12.4s\tremaining: 34.8s\n",
      "79:\tlearn: 1540.6378575\ttotal: 12.6s\tremaining: 34.6s\n",
      "80:\tlearn: 1539.3839978\ttotal: 12.7s\tremaining: 34.4s\n",
      "81:\tlearn: 1538.4800284\ttotal: 12.9s\tremaining: 34.3s\n",
      "82:\tlearn: 1536.6766501\ttotal: 13s\tremaining: 34.1s\n",
      "83:\tlearn: 1534.4947837\ttotal: 13.2s\tremaining: 33.9s\n",
      "84:\tlearn: 1534.4720553\ttotal: 13.3s\tremaining: 33.6s\n",
      "85:\tlearn: 1533.4917852\ttotal: 13.4s\tremaining: 33.5s\n",
      "86:\tlearn: 1533.2682195\ttotal: 13.6s\tremaining: 33.3s\n",
      "87:\tlearn: 1531.9451975\ttotal: 13.8s\tremaining: 33.2s\n",
      "88:\tlearn: 1529.2002626\ttotal: 13.9s\tremaining: 33s\n",
      "89:\tlearn: 1528.6371739\ttotal: 14.1s\tremaining: 32.9s\n",
      "90:\tlearn: 1528.4294955\ttotal: 14.3s\tremaining: 32.8s\n",
      "91:\tlearn: 1526.8256098\ttotal: 14.4s\tremaining: 32.6s\n",
      "92:\tlearn: 1526.0912638\ttotal: 14.6s\tremaining: 32.5s\n",
      "93:\tlearn: 1524.2485345\ttotal: 14.8s\tremaining: 32.4s\n",
      "94:\tlearn: 1523.0508903\ttotal: 15s\tremaining: 32.3s\n",
      "95:\tlearn: 1523.0383871\ttotal: 15.1s\tremaining: 32s\n",
      "96:\tlearn: 1521.7696200\ttotal: 15.2s\tremaining: 31.8s\n",
      "97:\tlearn: 1520.8386973\ttotal: 15.4s\tremaining: 31.7s\n",
      "98:\tlearn: 1518.8127442\ttotal: 15.6s\tremaining: 31.6s\n",
      "99:\tlearn: 1516.3833304\ttotal: 15.7s\tremaining: 31.5s\n",
      "100:\tlearn: 1515.5427762\ttotal: 15.9s\tremaining: 31.4s\n",
      "101:\tlearn: 1513.3174474\ttotal: 16.1s\tremaining: 31.3s\n",
      "102:\tlearn: 1512.2796384\ttotal: 16.3s\tremaining: 31.1s\n",
      "103:\tlearn: 1511.6366879\ttotal: 16.4s\tremaining: 31s\n",
      "104:\tlearn: 1510.6504700\ttotal: 16.6s\tremaining: 30.8s\n",
      "105:\tlearn: 1509.5429241\ttotal: 16.8s\tremaining: 30.7s\n",
      "106:\tlearn: 1508.7442679\ttotal: 17s\tremaining: 30.6s\n",
      "107:\tlearn: 1507.6421979\ttotal: 17.1s\tremaining: 30.4s\n",
      "108:\tlearn: 1505.6735008\ttotal: 17.3s\tremaining: 30.3s\n",
      "109:\tlearn: 1504.5489759\ttotal: 17.4s\tremaining: 30.1s\n",
      "110:\tlearn: 1502.4869813\ttotal: 17.6s\tremaining: 30s\n",
      "111:\tlearn: 1500.2749700\ttotal: 17.7s\tremaining: 29.7s\n",
      "112:\tlearn: 1498.8930672\ttotal: 17.9s\tremaining: 29.7s\n",
      "113:\tlearn: 1497.3417946\ttotal: 18.1s\tremaining: 29.6s\n",
      "114:\tlearn: 1496.8203257\ttotal: 18.4s\tremaining: 29.6s\n",
      "115:\tlearn: 1494.9659508\ttotal: 18.5s\tremaining: 29.4s\n",
      "116:\tlearn: 1493.4576847\ttotal: 18.7s\tremaining: 29.2s\n",
      "117:\tlearn: 1493.4494561\ttotal: 18.7s\tremaining: 28.9s\n",
      "118:\tlearn: 1491.5962197\ttotal: 18.9s\tremaining: 28.8s\n",
      "119:\tlearn: 1491.0096001\ttotal: 19.1s\tremaining: 28.7s\n",
      "120:\tlearn: 1490.2826645\ttotal: 19.3s\tremaining: 28.5s\n",
      "121:\tlearn: 1488.7790420\ttotal: 19.4s\tremaining: 28.3s\n",
      "122:\tlearn: 1488.0668063\ttotal: 19.6s\tremaining: 28.1s\n",
      "123:\tlearn: 1487.2065077\ttotal: 19.8s\tremaining: 28.1s\n",
      "124:\tlearn: 1486.3967778\ttotal: 20s\tremaining: 27.9s\n",
      "125:\tlearn: 1485.8494417\ttotal: 20.1s\tremaining: 27.8s\n",
      "126:\tlearn: 1484.7735377\ttotal: 20.3s\tremaining: 27.7s\n",
      "127:\tlearn: 1483.6525167\ttotal: 20.5s\tremaining: 27.5s\n",
      "128:\tlearn: 1483.2476398\ttotal: 20.7s\tremaining: 27.4s\n",
      "129:\tlearn: 1482.1344993\ttotal: 20.9s\tremaining: 27.3s\n",
      "130:\tlearn: 1481.0584531\ttotal: 21.1s\tremaining: 27.2s\n",
      "131:\tlearn: 1480.5343073\ttotal: 21.2s\tremaining: 27s\n",
      "132:\tlearn: 1479.9637890\ttotal: 21.4s\tremaining: 26.8s\n",
      "133:\tlearn: 1479.3976097\ttotal: 21.5s\tremaining: 26.7s\n",
      "134:\tlearn: 1478.3107980\ttotal: 21.7s\tremaining: 26.6s\n",
      "135:\tlearn: 1476.9582375\ttotal: 21.9s\tremaining: 26.4s\n",
      "136:\tlearn: 1475.8538838\ttotal: 22.1s\tremaining: 26.3s\n",
      "137:\tlearn: 1475.0159616\ttotal: 22.3s\tremaining: 26.2s\n",
      "138:\tlearn: 1474.6089965\ttotal: 22.5s\tremaining: 26s\n",
      "139:\tlearn: 1473.6930757\ttotal: 22.6s\tremaining: 25.9s\n",
      "140:\tlearn: 1473.2834293\ttotal: 22.9s\tremaining: 25.8s\n",
      "141:\tlearn: 1471.5270570\ttotal: 23.1s\tremaining: 25.6s\n",
      "142:\tlearn: 1470.2005247\ttotal: 23.3s\tremaining: 25.5s\n",
      "143:\tlearn: 1469.3026925\ttotal: 23.4s\tremaining: 25.4s\n",
      "144:\tlearn: 1468.8406698\ttotal: 23.6s\tremaining: 25.3s\n",
      "145:\tlearn: 1467.7899027\ttotal: 23.8s\tremaining: 25.1s\n",
      "146:\tlearn: 1464.8854363\ttotal: 24s\tremaining: 25s\n",
      "147:\tlearn: 1463.6673374\ttotal: 24.2s\tremaining: 24.8s\n",
      "148:\tlearn: 1462.4562329\ttotal: 24.4s\tremaining: 24.7s\n",
      "149:\tlearn: 1460.9312316\ttotal: 24.6s\tremaining: 24.6s\n",
      "150:\tlearn: 1459.4643003\ttotal: 24.8s\tremaining: 24.5s\n",
      "151:\tlearn: 1457.5083634\ttotal: 24.9s\tremaining: 24.3s\n",
      "152:\tlearn: 1457.0335552\ttotal: 25.1s\tremaining: 24.1s\n",
      "153:\tlearn: 1455.3584097\ttotal: 25.3s\tremaining: 24s\n",
      "154:\tlearn: 1454.4490528\ttotal: 25.5s\tremaining: 23.8s\n",
      "155:\tlearn: 1452.5260842\ttotal: 25.7s\tremaining: 23.7s\n",
      "156:\tlearn: 1451.7504932\ttotal: 25.9s\tremaining: 23.6s\n",
      "157:\tlearn: 1451.2443838\ttotal: 26.1s\tremaining: 23.5s\n",
      "158:\tlearn: 1450.4593154\ttotal: 26.3s\tremaining: 23.3s\n",
      "159:\tlearn: 1449.1668201\ttotal: 26.5s\tremaining: 23.2s\n",
      "160:\tlearn: 1448.3365107\ttotal: 26.7s\tremaining: 23s\n",
      "161:\tlearn: 1447.9245325\ttotal: 26.9s\tremaining: 22.9s\n",
      "162:\tlearn: 1447.6701505\ttotal: 27.1s\tremaining: 22.8s\n",
      "163:\tlearn: 1446.0568536\ttotal: 27.3s\tremaining: 22.6s\n",
      "164:\tlearn: 1444.7100340\ttotal: 27.5s\tremaining: 22.5s\n",
      "165:\tlearn: 1443.7314052\ttotal: 27.7s\tremaining: 22.3s\n",
      "166:\tlearn: 1441.9723095\ttotal: 27.9s\tremaining: 22.2s\n",
      "167:\tlearn: 1441.6183236\ttotal: 28.1s\tremaining: 22.1s\n",
      "168:\tlearn: 1441.1881220\ttotal: 28.3s\tremaining: 21.9s\n",
      "169:\tlearn: 1440.3598495\ttotal: 28.5s\tremaining: 21.8s\n",
      "170:\tlearn: 1439.9242700\ttotal: 28.7s\tremaining: 21.6s\n",
      "171:\tlearn: 1438.7214199\ttotal: 28.9s\tremaining: 21.5s\n",
      "172:\tlearn: 1438.3159159\ttotal: 29.1s\tremaining: 21.4s\n",
      "173:\tlearn: 1436.7554045\ttotal: 29.3s\tremaining: 21.2s\n",
      "174:\tlearn: 1436.1776543\ttotal: 29.4s\tremaining: 21s\n",
      "175:\tlearn: 1435.4478203\ttotal: 29.6s\tremaining: 20.9s\n",
      "176:\tlearn: 1435.0857149\ttotal: 29.8s\tremaining: 20.7s\n",
      "177:\tlearn: 1433.7863390\ttotal: 30s\tremaining: 20.6s\n",
      "178:\tlearn: 1432.9248095\ttotal: 30.1s\tremaining: 20.4s\n",
      "179:\tlearn: 1432.0729229\ttotal: 30.4s\tremaining: 20.2s\n",
      "180:\tlearn: 1431.1213235\ttotal: 30.5s\tremaining: 20.1s\n",
      "181:\tlearn: 1430.9357505\ttotal: 30.7s\tremaining: 19.9s\n",
      "182:\tlearn: 1430.0481224\ttotal: 30.9s\tremaining: 19.7s\n",
      "183:\tlearn: 1429.4803473\ttotal: 31s\tremaining: 19.6s\n",
      "184:\tlearn: 1429.2633691\ttotal: 31.2s\tremaining: 19.4s\n",
      "185:\tlearn: 1428.7305084\ttotal: 31.4s\tremaining: 19.2s\n",
      "186:\tlearn: 1427.6543060\ttotal: 31.6s\tremaining: 19.1s\n",
      "187:\tlearn: 1426.8599904\ttotal: 31.8s\tremaining: 18.9s\n",
      "188:\tlearn: 1425.3394109\ttotal: 32s\tremaining: 18.8s\n",
      "189:\tlearn: 1424.8796850\ttotal: 32.1s\tremaining: 18.6s\n",
      "190:\tlearn: 1423.7333090\ttotal: 32.3s\tremaining: 18.4s\n",
      "191:\tlearn: 1422.9887107\ttotal: 32.5s\tremaining: 18.3s\n",
      "192:\tlearn: 1422.0070342\ttotal: 32.7s\tremaining: 18.1s\n",
      "193:\tlearn: 1421.4681052\ttotal: 32.9s\tremaining: 18s\n",
      "194:\tlearn: 1420.9783154\ttotal: 33.1s\tremaining: 17.8s\n",
      "195:\tlearn: 1420.5213325\ttotal: 33.4s\tremaining: 17.7s\n",
      "196:\tlearn: 1418.1925554\ttotal: 33.5s\tremaining: 17.5s\n",
      "197:\tlearn: 1417.5885500\ttotal: 33.7s\tremaining: 17.4s\n",
      "198:\tlearn: 1417.5832259\ttotal: 33.9s\tremaining: 17.2s\n",
      "199:\tlearn: 1417.0962549\ttotal: 34.1s\tremaining: 17s\n",
      "200:\tlearn: 1416.8359650\ttotal: 34.2s\tremaining: 16.8s\n",
      "201:\tlearn: 1415.9843798\ttotal: 34.4s\tremaining: 16.7s\n",
      "202:\tlearn: 1415.3349009\ttotal: 34.6s\tremaining: 16.5s\n",
      "203:\tlearn: 1414.4363980\ttotal: 34.7s\tremaining: 16.4s\n",
      "204:\tlearn: 1413.7201526\ttotal: 34.9s\tremaining: 16.2s\n",
      "205:\tlearn: 1412.7805402\ttotal: 35.1s\tremaining: 16s\n",
      "206:\tlearn: 1411.9897025\ttotal: 35.2s\tremaining: 15.8s\n",
      "207:\tlearn: 1410.8454449\ttotal: 35.5s\tremaining: 15.7s\n",
      "208:\tlearn: 1410.4905732\ttotal: 35.6s\tremaining: 15.5s\n",
      "209:\tlearn: 1409.9185551\ttotal: 35.8s\tremaining: 15.3s\n",
      "210:\tlearn: 1409.3968199\ttotal: 36s\tremaining: 15.2s\n",
      "211:\tlearn: 1409.3894888\ttotal: 36.1s\tremaining: 15s\n",
      "212:\tlearn: 1409.1776094\ttotal: 36.3s\tremaining: 14.8s\n",
      "213:\tlearn: 1408.2424597\ttotal: 36.5s\tremaining: 14.7s\n",
      "214:\tlearn: 1406.6550623\ttotal: 36.7s\tremaining: 14.5s\n",
      "215:\tlearn: 1406.1568827\ttotal: 36.8s\tremaining: 14.3s\n",
      "216:\tlearn: 1405.6486436\ttotal: 37s\tremaining: 14.2s\n",
      "217:\tlearn: 1404.7938497\ttotal: 37.2s\tremaining: 14s\n",
      "218:\tlearn: 1404.2535058\ttotal: 37.4s\tremaining: 13.8s\n",
      "219:\tlearn: 1403.9209653\ttotal: 37.6s\tremaining: 13.7s\n",
      "220:\tlearn: 1403.1497755\ttotal: 37.8s\tremaining: 13.5s\n",
      "221:\tlearn: 1403.1071654\ttotal: 37.9s\tremaining: 13.3s\n",
      "222:\tlearn: 1402.3966104\ttotal: 38.1s\tremaining: 13.2s\n",
      "223:\tlearn: 1401.4862017\ttotal: 38.3s\tremaining: 13s\n",
      "224:\tlearn: 1401.0618133\ttotal: 38.5s\tremaining: 12.8s\n",
      "225:\tlearn: 1400.2988019\ttotal: 38.7s\tremaining: 12.7s\n",
      "226:\tlearn: 1399.9350658\ttotal: 38.9s\tremaining: 12.5s\n",
      "227:\tlearn: 1399.6441361\ttotal: 39.1s\tremaining: 12.4s\n",
      "228:\tlearn: 1399.3973901\ttotal: 39.3s\tremaining: 12.2s\n",
      "229:\tlearn: 1398.7342024\ttotal: 39.5s\tremaining: 12s\n",
      "230:\tlearn: 1398.3421177\ttotal: 39.7s\tremaining: 11.9s\n",
      "231:\tlearn: 1397.8189862\ttotal: 39.9s\tremaining: 11.7s\n",
      "232:\tlearn: 1397.4893460\ttotal: 40.1s\tremaining: 11.5s\n",
      "233:\tlearn: 1397.0616438\ttotal: 40.3s\tremaining: 11.4s\n",
      "234:\tlearn: 1396.9300408\ttotal: 40.4s\tremaining: 11.2s\n",
      "235:\tlearn: 1396.4106765\ttotal: 40.6s\tremaining: 11s\n",
      "236:\tlearn: 1396.2232666\ttotal: 40.8s\tremaining: 10.8s\n",
      "237:\tlearn: 1395.4981622\ttotal: 41s\tremaining: 10.7s\n",
      "238:\tlearn: 1394.2760667\ttotal: 41.2s\tremaining: 10.5s\n",
      "239:\tlearn: 1394.0605257\ttotal: 41.4s\tremaining: 10.3s\n",
      "240:\tlearn: 1393.0872624\ttotal: 41.6s\tremaining: 10.2s\n",
      "241:\tlearn: 1392.8236573\ttotal: 41.8s\tremaining: 10s\n",
      "242:\tlearn: 1392.5531570\ttotal: 42s\tremaining: 9.84s\n",
      "243:\tlearn: 1391.5363523\ttotal: 42.1s\tremaining: 9.67s\n",
      "244:\tlearn: 1390.8572267\ttotal: 42.3s\tremaining: 9.5s\n",
      "245:\tlearn: 1390.3666822\ttotal: 42.5s\tremaining: 9.33s\n",
      "246:\tlearn: 1389.9298391\ttotal: 42.7s\tremaining: 9.16s\n",
      "247:\tlearn: 1388.6603778\ttotal: 42.9s\tremaining: 8.98s\n",
      "248:\tlearn: 1388.1325188\ttotal: 43s\tremaining: 8.81s\n",
      "249:\tlearn: 1386.8785025\ttotal: 43.2s\tremaining: 8.65s\n",
      "250:\tlearn: 1385.8637135\ttotal: 43.4s\tremaining: 8.48s\n",
      "251:\tlearn: 1385.3384102\ttotal: 43.6s\tremaining: 8.31s\n",
      "252:\tlearn: 1385.0259454\ttotal: 43.8s\tremaining: 8.14s\n",
      "253:\tlearn: 1384.8482597\ttotal: 44s\tremaining: 7.97s\n",
      "254:\tlearn: 1384.5559684\ttotal: 44.2s\tremaining: 7.8s\n",
      "255:\tlearn: 1383.8571055\ttotal: 44.4s\tremaining: 7.62s\n",
      "256:\tlearn: 1383.3319722\ttotal: 44.5s\tremaining: 7.45s\n",
      "257:\tlearn: 1383.1820800\ttotal: 44.8s\tremaining: 7.29s\n",
      "258:\tlearn: 1382.6073727\ttotal: 45s\tremaining: 7.12s\n",
      "259:\tlearn: 1382.4445003\ttotal: 45.2s\tremaining: 6.96s\n",
      "260:\tlearn: 1381.0254169\ttotal: 45.4s\tremaining: 6.79s\n",
      "261:\tlearn: 1380.4879932\ttotal: 45.6s\tremaining: 6.62s\n",
      "262:\tlearn: 1378.8100455\ttotal: 45.8s\tremaining: 6.44s\n",
      "263:\tlearn: 1378.0525255\ttotal: 46s\tremaining: 6.27s\n",
      "264:\tlearn: 1377.7771497\ttotal: 46.2s\tremaining: 6.1s\n",
      "265:\tlearn: 1377.3324329\ttotal: 46.4s\tremaining: 5.93s\n",
      "266:\tlearn: 1376.9176358\ttotal: 46.5s\tremaining: 5.75s\n",
      "267:\tlearn: 1375.7532265\ttotal: 46.7s\tremaining: 5.58s\n",
      "268:\tlearn: 1374.6621107\ttotal: 46.9s\tremaining: 5.4s\n",
      "269:\tlearn: 1374.1428242\ttotal: 47s\tremaining: 5.22s\n",
      "270:\tlearn: 1373.8786754\ttotal: 47.2s\tremaining: 5.05s\n",
      "271:\tlearn: 1373.6640648\ttotal: 47.5s\tremaining: 4.88s\n",
      "272:\tlearn: 1373.0659908\ttotal: 47.6s\tremaining: 4.71s\n",
      "273:\tlearn: 1372.6061025\ttotal: 47.8s\tremaining: 4.54s\n",
      "274:\tlearn: 1372.2026509\ttotal: 48s\tremaining: 4.36s\n",
      "275:\tlearn: 1371.8870524\ttotal: 48.2s\tremaining: 4.19s\n",
      "276:\tlearn: 1371.5781384\ttotal: 48.4s\tremaining: 4.01s\n",
      "277:\tlearn: 1371.5284208\ttotal: 48.5s\tremaining: 3.84s\n",
      "278:\tlearn: 1370.9841134\ttotal: 48.7s\tremaining: 3.67s\n",
      "279:\tlearn: 1370.4296954\ttotal: 48.9s\tremaining: 3.49s\n",
      "280:\tlearn: 1370.1339764\ttotal: 49.1s\tremaining: 3.32s\n",
      "281:\tlearn: 1369.6257256\ttotal: 49.3s\tremaining: 3.15s\n",
      "282:\tlearn: 1369.5462594\ttotal: 49.5s\tremaining: 2.97s\n",
      "283:\tlearn: 1369.0446659\ttotal: 49.7s\tremaining: 2.8s\n",
      "284:\tlearn: 1368.4396124\ttotal: 49.9s\tremaining: 2.62s\n",
      "285:\tlearn: 1367.8481106\ttotal: 50s\tremaining: 2.45s\n",
      "286:\tlearn: 1367.5385391\ttotal: 50.2s\tremaining: 2.27s\n",
      "287:\tlearn: 1366.5428994\ttotal: 50.4s\tremaining: 2.1s\n",
      "288:\tlearn: 1365.6071390\ttotal: 50.6s\tremaining: 1.93s\n",
      "289:\tlearn: 1365.0142245\ttotal: 50.8s\tremaining: 1.75s\n",
      "290:\tlearn: 1364.2124755\ttotal: 51s\tremaining: 1.57s\n",
      "291:\tlearn: 1363.3661218\ttotal: 51.1s\tremaining: 1.4s\n",
      "292:\tlearn: 1363.2346371\ttotal: 51.3s\tremaining: 1.23s\n",
      "293:\tlearn: 1362.7935722\ttotal: 51.5s\tremaining: 1.05s\n",
      "294:\tlearn: 1361.8934630\ttotal: 51.6s\tremaining: 875ms\n",
      "295:\tlearn: 1361.4799815\ttotal: 51.8s\tremaining: 700ms\n",
      "296:\tlearn: 1361.1163241\ttotal: 52s\tremaining: 525ms\n",
      "297:\tlearn: 1360.1712667\ttotal: 52.3s\tremaining: 351ms\n",
      "298:\tlearn: 1359.4858965\ttotal: 52.5s\tremaining: 175ms\n",
      "299:\tlearn: 1358.7706176\ttotal: 52.7s\tremaining: 0us\n",
      "[CV 2/3; 3/6] END ..................depth=10, iterations=300; total time=  54.3s\n",
      "[CV 3/3; 3/6] START depth=10, iterations=300....................................\n",
      "Learning rate set to 0.227538\n",
      "0:\tlearn: 3948.4609105\ttotal: 220ms\tremaining: 1m 5s\n",
      "1:\tlearn: 3368.6098008\ttotal: 445ms\tremaining: 1m 6s\n",
      "2:\tlearn: 2949.0742398\ttotal: 665ms\tremaining: 1m 5s\n",
      "3:\tlearn: 2630.4095238\ttotal: 868ms\tremaining: 1m 4s\n",
      "4:\tlearn: 2407.6909384\ttotal: 1.06s\tremaining: 1m 2s\n",
      "5:\tlearn: 2247.6964389\ttotal: 1.22s\tremaining: 59.7s\n",
      "6:\tlearn: 2123.4820582\ttotal: 1.37s\tremaining: 57.3s\n",
      "7:\tlearn: 2037.7483651\ttotal: 1.53s\tremaining: 56s\n",
      "8:\tlearn: 1972.2684492\ttotal: 1.7s\tremaining: 55s\n",
      "9:\tlearn: 1921.5449731\ttotal: 1.86s\tremaining: 54.1s\n",
      "10:\tlearn: 1886.6637495\ttotal: 2.07s\tremaining: 54.4s\n",
      "11:\tlearn: 1858.3394663\ttotal: 2.22s\tremaining: 53.4s\n",
      "12:\tlearn: 1836.6901535\ttotal: 2.35s\tremaining: 51.9s\n",
      "13:\tlearn: 1813.0740942\ttotal: 2.5s\tremaining: 51s\n",
      "14:\tlearn: 1799.6229334\ttotal: 2.66s\tremaining: 50.6s\n",
      "15:\tlearn: 1780.3456612\ttotal: 2.81s\tremaining: 50s\n",
      "16:\tlearn: 1767.5618203\ttotal: 3s\tremaining: 50s\n",
      "17:\tlearn: 1757.4934711\ttotal: 3.14s\tremaining: 49.2s\n",
      "18:\tlearn: 1746.8741925\ttotal: 3.27s\tremaining: 48.4s\n",
      "19:\tlearn: 1739.9852747\ttotal: 3.47s\tremaining: 48.6s\n",
      "20:\tlearn: 1730.2613661\ttotal: 3.63s\tremaining: 48.2s\n",
      "21:\tlearn: 1721.3443945\ttotal: 3.79s\tremaining: 47.9s\n",
      "22:\tlearn: 1713.3736412\ttotal: 3.97s\tremaining: 47.8s\n",
      "23:\tlearn: 1709.4021882\ttotal: 4.11s\tremaining: 47.3s\n",
      "24:\tlearn: 1704.1383995\ttotal: 4.27s\tremaining: 47s\n",
      "25:\tlearn: 1698.4247426\ttotal: 4.45s\tremaining: 46.9s\n",
      "26:\tlearn: 1693.8428902\ttotal: 4.62s\tremaining: 46.7s\n",
      "27:\tlearn: 1689.6214024\ttotal: 4.76s\tremaining: 46.3s\n",
      "28:\tlearn: 1684.4365034\ttotal: 4.92s\tremaining: 46s\n",
      "29:\tlearn: 1680.6720345\ttotal: 5.12s\tremaining: 46.1s\n",
      "30:\tlearn: 1677.9806723\ttotal: 5.32s\tremaining: 46.2s\n",
      "31:\tlearn: 1676.4847281\ttotal: 5.52s\tremaining: 46.3s\n",
      "32:\tlearn: 1671.8482893\ttotal: 5.64s\tremaining: 45.7s\n",
      "33:\tlearn: 1666.7695368\ttotal: 5.78s\tremaining: 45.2s\n",
      "34:\tlearn: 1662.4181161\ttotal: 5.93s\tremaining: 44.9s\n",
      "35:\tlearn: 1659.1174958\ttotal: 6.11s\tremaining: 44.8s\n",
      "36:\tlearn: 1653.1244666\ttotal: 6.3s\tremaining: 44.8s\n",
      "37:\tlearn: 1646.9389022\ttotal: 6.45s\tremaining: 44.5s\n",
      "38:\tlearn: 1643.4928949\ttotal: 6.58s\tremaining: 44s\n",
      "39:\tlearn: 1640.5074087\ttotal: 6.75s\tremaining: 43.9s\n",
      "40:\tlearn: 1638.3555744\ttotal: 6.89s\tremaining: 43.5s\n",
      "41:\tlearn: 1635.8442779\ttotal: 7.04s\tremaining: 43.2s\n",
      "42:\tlearn: 1632.6165761\ttotal: 7.22s\tremaining: 43.1s\n",
      "43:\tlearn: 1629.1228878\ttotal: 7.38s\tremaining: 43s\n",
      "44:\tlearn: 1625.3540576\ttotal: 7.55s\tremaining: 42.8s\n",
      "45:\tlearn: 1622.4703553\ttotal: 7.69s\tremaining: 42.5s\n",
      "46:\tlearn: 1620.3298900\ttotal: 7.84s\tremaining: 42.2s\n",
      "47:\tlearn: 1618.8635037\ttotal: 8.03s\tremaining: 42.2s\n",
      "48:\tlearn: 1618.7668956\ttotal: 8.13s\tremaining: 41.7s\n",
      "49:\tlearn: 1616.3359880\ttotal: 8.3s\tremaining: 41.5s\n",
      "50:\tlearn: 1613.0914744\ttotal: 8.46s\tremaining: 41.3s\n",
      "51:\tlearn: 1610.4688316\ttotal: 8.62s\tremaining: 41.1s\n",
      "52:\tlearn: 1607.4496905\ttotal: 8.8s\tremaining: 41s\n",
      "53:\tlearn: 1603.7186877\ttotal: 9.04s\tremaining: 41.2s\n",
      "54:\tlearn: 1600.8108911\ttotal: 9.21s\tremaining: 41s\n",
      "55:\tlearn: 1596.2096911\ttotal: 9.38s\tremaining: 40.9s\n",
      "56:\tlearn: 1592.6971961\ttotal: 9.54s\tremaining: 40.7s\n",
      "57:\tlearn: 1590.5537398\ttotal: 9.68s\tremaining: 40.4s\n",
      "58:\tlearn: 1589.1637193\ttotal: 9.86s\tremaining: 40.3s\n",
      "59:\tlearn: 1588.6339168\ttotal: 10s\tremaining: 40.2s\n",
      "60:\tlearn: 1587.4852020\ttotal: 10.2s\tremaining: 40s\n",
      "61:\tlearn: 1584.1463928\ttotal: 10.4s\tremaining: 39.8s\n",
      "62:\tlearn: 1580.6646186\ttotal: 10.5s\tremaining: 39.6s\n",
      "63:\tlearn: 1577.1907641\ttotal: 10.7s\tremaining: 39.4s\n",
      "64:\tlearn: 1574.2026857\ttotal: 10.8s\tremaining: 39.2s\n",
      "65:\tlearn: 1572.7532947\ttotal: 11s\tremaining: 39s\n",
      "66:\tlearn: 1570.3781252\ttotal: 11.2s\tremaining: 38.8s\n",
      "67:\tlearn: 1568.0486975\ttotal: 11.4s\tremaining: 38.7s\n",
      "68:\tlearn: 1564.7953621\ttotal: 11.5s\tremaining: 38.5s\n",
      "69:\tlearn: 1563.5752077\ttotal: 11.7s\tremaining: 38.5s\n",
      "70:\tlearn: 1560.8882600\ttotal: 11.9s\tremaining: 38.4s\n",
      "71:\tlearn: 1559.1167024\ttotal: 12s\tremaining: 38.1s\n",
      "72:\tlearn: 1556.4706770\ttotal: 12.2s\tremaining: 37.8s\n",
      "73:\tlearn: 1553.8819649\ttotal: 12.3s\tremaining: 37.6s\n",
      "74:\tlearn: 1552.8923898\ttotal: 12.5s\tremaining: 37.5s\n",
      "75:\tlearn: 1552.1557190\ttotal: 12.7s\tremaining: 37.4s\n",
      "76:\tlearn: 1550.0822571\ttotal: 12.8s\tremaining: 37.2s\n",
      "77:\tlearn: 1548.8267567\ttotal: 13s\tremaining: 37s\n",
      "78:\tlearn: 1547.7537766\ttotal: 13.2s\tremaining: 36.8s\n",
      "79:\tlearn: 1546.2282897\ttotal: 13.3s\tremaining: 36.7s\n",
      "80:\tlearn: 1544.3214166\ttotal: 13.5s\tremaining: 36.5s\n",
      "81:\tlearn: 1542.2075559\ttotal: 13.7s\tremaining: 36.4s\n",
      "82:\tlearn: 1540.7582992\ttotal: 13.9s\tremaining: 36.4s\n",
      "83:\tlearn: 1537.4417811\ttotal: 14.1s\tremaining: 36.2s\n",
      "84:\tlearn: 1535.1149016\ttotal: 14.2s\tremaining: 36s\n",
      "85:\tlearn: 1535.1009271\ttotal: 14.3s\tremaining: 35.6s\n",
      "86:\tlearn: 1534.6667403\ttotal: 14.5s\tremaining: 35.4s\n",
      "87:\tlearn: 1533.9696343\ttotal: 14.7s\tremaining: 35.3s\n",
      "88:\tlearn: 1531.8170444\ttotal: 14.8s\tremaining: 35.1s\n",
      "89:\tlearn: 1531.7142022\ttotal: 14.9s\tremaining: 34.9s\n",
      "90:\tlearn: 1530.7747100\ttotal: 15.1s\tremaining: 34.7s\n",
      "91:\tlearn: 1528.6763913\ttotal: 15.3s\tremaining: 34.6s\n",
      "92:\tlearn: 1528.0773476\ttotal: 15.5s\tremaining: 34.4s\n",
      "93:\tlearn: 1527.3630646\ttotal: 15.6s\tremaining: 34.2s\n",
      "94:\tlearn: 1524.9458971\ttotal: 15.8s\tremaining: 34.1s\n",
      "95:\tlearn: 1523.4854530\ttotal: 16s\tremaining: 34s\n",
      "96:\tlearn: 1522.7519194\ttotal: 16.1s\tremaining: 33.8s\n",
      "97:\tlearn: 1521.4019804\ttotal: 16.3s\tremaining: 33.6s\n",
      "98:\tlearn: 1519.7921267\ttotal: 16.5s\tremaining: 33.5s\n",
      "99:\tlearn: 1518.7785740\ttotal: 16.7s\tremaining: 33.4s\n",
      "100:\tlearn: 1517.8369097\ttotal: 16.8s\tremaining: 33.2s\n",
      "101:\tlearn: 1516.2960837\ttotal: 17s\tremaining: 33s\n",
      "102:\tlearn: 1514.5031872\ttotal: 17.2s\tremaining: 32.9s\n",
      "103:\tlearn: 1512.4692104\ttotal: 17.4s\tremaining: 32.7s\n",
      "104:\tlearn: 1511.7206512\ttotal: 17.5s\tremaining: 32.6s\n",
      "105:\tlearn: 1510.0976163\ttotal: 17.7s\tremaining: 32.4s\n",
      "106:\tlearn: 1508.5497245\ttotal: 17.9s\tremaining: 32.2s\n",
      "107:\tlearn: 1507.7043892\ttotal: 18s\tremaining: 32.1s\n",
      "108:\tlearn: 1506.5013136\ttotal: 18.2s\tremaining: 31.9s\n",
      "109:\tlearn: 1504.9389853\ttotal: 18.4s\tremaining: 31.8s\n",
      "110:\tlearn: 1503.6271328\ttotal: 18.6s\tremaining: 31.6s\n",
      "111:\tlearn: 1503.0201876\ttotal: 18.7s\tremaining: 31.5s\n",
      "112:\tlearn: 1501.9167819\ttotal: 18.9s\tremaining: 31.3s\n",
      "113:\tlearn: 1500.3764042\ttotal: 19.1s\tremaining: 31.2s\n",
      "114:\tlearn: 1498.2329193\ttotal: 19.3s\tremaining: 31s\n",
      "115:\tlearn: 1497.3110912\ttotal: 19.4s\tremaining: 30.8s\n",
      "116:\tlearn: 1495.7834610\ttotal: 19.6s\tremaining: 30.6s\n",
      "117:\tlearn: 1494.2662550\ttotal: 19.8s\tremaining: 30.5s\n",
      "118:\tlearn: 1492.7594762\ttotal: 19.9s\tremaining: 30.3s\n",
      "119:\tlearn: 1490.5321600\ttotal: 20.1s\tremaining: 30.1s\n",
      "120:\tlearn: 1489.7453439\ttotal: 20.3s\tremaining: 30s\n",
      "121:\tlearn: 1488.2960123\ttotal: 20.4s\tremaining: 29.8s\n",
      "122:\tlearn: 1488.0879981\ttotal: 20.6s\tremaining: 29.6s\n",
      "123:\tlearn: 1487.5596021\ttotal: 20.7s\tremaining: 29.4s\n",
      "124:\tlearn: 1486.9086787\ttotal: 20.9s\tremaining: 29.3s\n",
      "125:\tlearn: 1486.6410810\ttotal: 21s\tremaining: 29s\n",
      "126:\tlearn: 1484.2053932\ttotal: 21.2s\tremaining: 28.8s\n",
      "127:\tlearn: 1483.3854899\ttotal: 21.3s\tremaining: 28.7s\n",
      "128:\tlearn: 1482.7990422\ttotal: 21.5s\tremaining: 28.5s\n",
      "129:\tlearn: 1481.7057848\ttotal: 21.6s\tremaining: 28.3s\n",
      "130:\tlearn: 1481.0608448\ttotal: 21.8s\tremaining: 28.2s\n",
      "131:\tlearn: 1479.2573843\ttotal: 22s\tremaining: 28s\n",
      "132:\tlearn: 1478.0281102\ttotal: 22.2s\tremaining: 27.8s\n",
      "133:\tlearn: 1476.7433928\ttotal: 22.4s\tremaining: 27.7s\n",
      "134:\tlearn: 1475.7901666\ttotal: 22.5s\tremaining: 27.5s\n",
      "135:\tlearn: 1474.8125601\ttotal: 22.7s\tremaining: 27.4s\n",
      "136:\tlearn: 1474.7411169\ttotal: 22.8s\tremaining: 27.1s\n",
      "137:\tlearn: 1473.4184313\ttotal: 22.9s\tremaining: 26.9s\n",
      "138:\tlearn: 1473.4145681\ttotal: 23s\tremaining: 26.7s\n",
      "139:\tlearn: 1471.9165931\ttotal: 23.2s\tremaining: 26.5s\n",
      "140:\tlearn: 1470.9486577\ttotal: 23.4s\tremaining: 26.3s\n",
      "141:\tlearn: 1469.3285124\ttotal: 23.5s\tremaining: 26.2s\n",
      "142:\tlearn: 1468.4716841\ttotal: 23.7s\tremaining: 26s\n",
      "143:\tlearn: 1466.5559483\ttotal: 23.9s\tremaining: 25.9s\n",
      "144:\tlearn: 1465.4223745\ttotal: 24.1s\tremaining: 25.8s\n",
      "145:\tlearn: 1463.8835202\ttotal: 24.3s\tremaining: 25.6s\n",
      "146:\tlearn: 1463.8521078\ttotal: 24.4s\tremaining: 25.4s\n",
      "147:\tlearn: 1462.6601080\ttotal: 24.6s\tremaining: 25.2s\n",
      "148:\tlearn: 1462.1024437\ttotal: 24.8s\tremaining: 25.1s\n",
      "149:\tlearn: 1461.6227286\ttotal: 24.9s\tremaining: 24.9s\n",
      "150:\tlearn: 1460.7454197\ttotal: 25.1s\tremaining: 24.8s\n",
      "151:\tlearn: 1458.9806001\ttotal: 25.3s\tremaining: 24.7s\n",
      "152:\tlearn: 1457.9518949\ttotal: 25.6s\tremaining: 24.6s\n",
      "153:\tlearn: 1455.4651735\ttotal: 25.8s\tremaining: 24.4s\n",
      "154:\tlearn: 1454.3900655\ttotal: 25.9s\tremaining: 24.3s\n",
      "155:\tlearn: 1453.6165045\ttotal: 26.2s\tremaining: 24.1s\n",
      "156:\tlearn: 1452.7428972\ttotal: 26.4s\tremaining: 24s\n",
      "157:\tlearn: 1452.0163285\ttotal: 26.6s\tremaining: 23.9s\n",
      "158:\tlearn: 1450.6758369\ttotal: 26.7s\tremaining: 23.7s\n",
      "159:\tlearn: 1449.6295312\ttotal: 26.9s\tremaining: 23.6s\n",
      "160:\tlearn: 1448.7735537\ttotal: 27.1s\tremaining: 23.4s\n",
      "161:\tlearn: 1447.9840653\ttotal: 27.3s\tremaining: 23.3s\n",
      "162:\tlearn: 1447.0960978\ttotal: 27.5s\tremaining: 23.1s\n",
      "163:\tlearn: 1446.6034898\ttotal: 27.6s\tremaining: 22.9s\n",
      "164:\tlearn: 1446.0113058\ttotal: 27.8s\tremaining: 22.7s\n",
      "165:\tlearn: 1445.2608400\ttotal: 28s\tremaining: 22.6s\n",
      "166:\tlearn: 1444.9662869\ttotal: 28.2s\tremaining: 22.4s\n",
      "167:\tlearn: 1444.0641232\ttotal: 28.4s\tremaining: 22.3s\n",
      "168:\tlearn: 1443.4467771\ttotal: 28.6s\tremaining: 22.2s\n",
      "169:\tlearn: 1442.6082734\ttotal: 28.8s\tremaining: 22s\n",
      "170:\tlearn: 1441.6957493\ttotal: 29s\tremaining: 21.9s\n",
      "171:\tlearn: 1440.9216117\ttotal: 29.2s\tremaining: 21.7s\n",
      "172:\tlearn: 1439.5508330\ttotal: 29.4s\tremaining: 21.5s\n",
      "173:\tlearn: 1437.2966609\ttotal: 29.5s\tremaining: 21.4s\n",
      "174:\tlearn: 1437.2331970\ttotal: 29.7s\tremaining: 21.2s\n",
      "175:\tlearn: 1436.6359732\ttotal: 30s\tremaining: 21.1s\n",
      "176:\tlearn: 1436.3382444\ttotal: 30.1s\tremaining: 20.9s\n",
      "177:\tlearn: 1435.2305327\ttotal: 30.3s\tremaining: 20.7s\n",
      "178:\tlearn: 1434.4999296\ttotal: 30.5s\tremaining: 20.6s\n",
      "179:\tlearn: 1433.2739166\ttotal: 30.6s\tremaining: 20.4s\n",
      "180:\tlearn: 1432.8079063\ttotal: 30.9s\tremaining: 20.3s\n",
      "181:\tlearn: 1432.0657158\ttotal: 31s\tremaining: 20.1s\n",
      "182:\tlearn: 1431.6204831\ttotal: 31.2s\tremaining: 19.9s\n",
      "183:\tlearn: 1429.7832692\ttotal: 31.3s\tremaining: 19.8s\n",
      "184:\tlearn: 1429.6238078\ttotal: 31.5s\tremaining: 19.6s\n",
      "185:\tlearn: 1428.6373588\ttotal: 31.7s\tremaining: 19.4s\n",
      "186:\tlearn: 1428.3730101\ttotal: 31.9s\tremaining: 19.3s\n",
      "187:\tlearn: 1427.8874043\ttotal: 32.1s\tremaining: 19.1s\n",
      "188:\tlearn: 1427.3756243\ttotal: 32.3s\tremaining: 18.9s\n",
      "189:\tlearn: 1426.6531829\ttotal: 32.4s\tremaining: 18.8s\n",
      "190:\tlearn: 1426.2215004\ttotal: 32.6s\tremaining: 18.6s\n",
      "191:\tlearn: 1424.8795699\ttotal: 32.8s\tremaining: 18.4s\n",
      "192:\tlearn: 1424.6771060\ttotal: 33s\tremaining: 18.3s\n",
      "193:\tlearn: 1423.4506100\ttotal: 33.3s\tremaining: 18.2s\n",
      "194:\tlearn: 1422.1996714\ttotal: 33.5s\tremaining: 18s\n",
      "195:\tlearn: 1421.4206468\ttotal: 33.7s\tremaining: 17.9s\n",
      "196:\tlearn: 1420.7717290\ttotal: 33.9s\tremaining: 17.7s\n",
      "197:\tlearn: 1420.4677356\ttotal: 34.1s\tremaining: 17.6s\n",
      "198:\tlearn: 1420.0238847\ttotal: 34.4s\tremaining: 17.4s\n",
      "199:\tlearn: 1419.1002116\ttotal: 34.6s\tremaining: 17.3s\n",
      "200:\tlearn: 1418.1152586\ttotal: 34.8s\tremaining: 17.1s\n",
      "201:\tlearn: 1417.2144597\ttotal: 35s\tremaining: 17s\n",
      "202:\tlearn: 1416.7136555\ttotal: 35.1s\tremaining: 16.8s\n",
      "203:\tlearn: 1415.3874535\ttotal: 35.3s\tremaining: 16.6s\n",
      "204:\tlearn: 1415.2269233\ttotal: 35.5s\tremaining: 16.4s\n",
      "205:\tlearn: 1414.2740768\ttotal: 35.7s\tremaining: 16.3s\n",
      "206:\tlearn: 1413.1082991\ttotal: 35.8s\tremaining: 16.1s\n",
      "207:\tlearn: 1412.7209477\ttotal: 36s\tremaining: 15.9s\n",
      "208:\tlearn: 1412.3706486\ttotal: 36.2s\tremaining: 15.8s\n",
      "209:\tlearn: 1411.6343586\ttotal: 36.3s\tremaining: 15.6s\n",
      "210:\tlearn: 1410.5544628\ttotal: 36.5s\tremaining: 15.4s\n",
      "211:\tlearn: 1409.7878910\ttotal: 36.6s\tremaining: 15.2s\n",
      "212:\tlearn: 1408.6311110\ttotal: 36.8s\tremaining: 15s\n",
      "213:\tlearn: 1408.0913013\ttotal: 37s\tremaining: 14.9s\n",
      "214:\tlearn: 1407.4832263\ttotal: 37.2s\tremaining: 14.7s\n",
      "215:\tlearn: 1406.9774198\ttotal: 37.4s\tremaining: 14.6s\n",
      "216:\tlearn: 1406.5525657\ttotal: 37.6s\tremaining: 14.4s\n",
      "217:\tlearn: 1405.5886705\ttotal: 37.7s\tremaining: 14.2s\n",
      "218:\tlearn: 1405.2576521\ttotal: 37.9s\tremaining: 14s\n",
      "219:\tlearn: 1404.2644771\ttotal: 38.1s\tremaining: 13.9s\n",
      "220:\tlearn: 1403.4707800\ttotal: 38.4s\tremaining: 13.7s\n",
      "221:\tlearn: 1403.0953955\ttotal: 38.6s\tremaining: 13.6s\n",
      "222:\tlearn: 1402.3353969\ttotal: 38.8s\tremaining: 13.4s\n",
      "223:\tlearn: 1401.5645892\ttotal: 39s\tremaining: 13.2s\n",
      "224:\tlearn: 1400.6528271\ttotal: 39.2s\tremaining: 13.1s\n",
      "225:\tlearn: 1400.5639191\ttotal: 39.4s\tremaining: 12.9s\n",
      "226:\tlearn: 1399.7419688\ttotal: 39.6s\tremaining: 12.7s\n",
      "227:\tlearn: 1399.3128730\ttotal: 39.7s\tremaining: 12.5s\n",
      "228:\tlearn: 1398.7512399\ttotal: 39.9s\tremaining: 12.4s\n",
      "229:\tlearn: 1398.4099513\ttotal: 40.1s\tremaining: 12.2s\n",
      "230:\tlearn: 1397.6133971\ttotal: 40.3s\tremaining: 12s\n",
      "231:\tlearn: 1397.2851996\ttotal: 40.5s\tremaining: 11.9s\n",
      "232:\tlearn: 1396.7328247\ttotal: 40.7s\tremaining: 11.7s\n",
      "233:\tlearn: 1396.7031229\ttotal: 40.8s\tremaining: 11.5s\n",
      "234:\tlearn: 1396.4712476\ttotal: 41s\tremaining: 11.3s\n",
      "235:\tlearn: 1395.8579476\ttotal: 41.1s\tremaining: 11.2s\n",
      "236:\tlearn: 1394.1931559\ttotal: 41.3s\tremaining: 11s\n",
      "237:\tlearn: 1393.6823069\ttotal: 41.5s\tremaining: 10.8s\n",
      "238:\tlearn: 1393.1075980\ttotal: 41.7s\tremaining: 10.6s\n",
      "239:\tlearn: 1392.4959794\ttotal: 41.8s\tremaining: 10.5s\n",
      "240:\tlearn: 1391.8721679\ttotal: 42s\tremaining: 10.3s\n",
      "241:\tlearn: 1391.1907695\ttotal: 42.2s\tremaining: 10.1s\n",
      "242:\tlearn: 1390.7154487\ttotal: 42.3s\tremaining: 9.93s\n",
      "243:\tlearn: 1389.6184561\ttotal: 42.5s\tremaining: 9.76s\n",
      "244:\tlearn: 1389.4109505\ttotal: 42.7s\tremaining: 9.59s\n",
      "245:\tlearn: 1388.9969302\ttotal: 42.9s\tremaining: 9.42s\n",
      "246:\tlearn: 1387.8381705\ttotal: 43.1s\tremaining: 9.24s\n",
      "247:\tlearn: 1386.6723552\ttotal: 43.3s\tremaining: 9.07s\n",
      "248:\tlearn: 1386.2690596\ttotal: 43.5s\tremaining: 8.9s\n",
      "249:\tlearn: 1385.5657282\ttotal: 43.7s\tremaining: 8.73s\n",
      "250:\tlearn: 1384.9300415\ttotal: 43.9s\tremaining: 8.57s\n",
      "251:\tlearn: 1384.3107893\ttotal: 44.1s\tremaining: 8.39s\n",
      "252:\tlearn: 1383.7433240\ttotal: 44.2s\tremaining: 8.22s\n",
      "253:\tlearn: 1383.4464911\ttotal: 44.4s\tremaining: 8.05s\n",
      "254:\tlearn: 1383.0394416\ttotal: 44.6s\tremaining: 7.87s\n",
      "255:\tlearn: 1382.2673487\ttotal: 44.8s\tremaining: 7.7s\n",
      "256:\tlearn: 1382.0290107\ttotal: 45s\tremaining: 7.53s\n",
      "257:\tlearn: 1381.3288008\ttotal: 45.2s\tremaining: 7.36s\n",
      "258:\tlearn: 1380.7584697\ttotal: 45.4s\tremaining: 7.18s\n",
      "259:\tlearn: 1379.5110915\ttotal: 45.6s\tremaining: 7.01s\n",
      "260:\tlearn: 1379.2616089\ttotal: 45.8s\tremaining: 6.84s\n",
      "261:\tlearn: 1378.9676357\ttotal: 46s\tremaining: 6.67s\n",
      "262:\tlearn: 1378.6614797\ttotal: 46.2s\tremaining: 6.5s\n",
      "263:\tlearn: 1378.0832047\ttotal: 46.4s\tremaining: 6.32s\n",
      "264:\tlearn: 1377.9697312\ttotal: 46.6s\tremaining: 6.15s\n",
      "265:\tlearn: 1377.5765919\ttotal: 46.7s\tremaining: 5.97s\n",
      "266:\tlearn: 1377.5609661\ttotal: 46.8s\tremaining: 5.78s\n",
      "267:\tlearn: 1377.0990902\ttotal: 47s\tremaining: 5.61s\n",
      "268:\tlearn: 1377.0590111\ttotal: 47.1s\tremaining: 5.43s\n",
      "269:\tlearn: 1376.6462990\ttotal: 47.3s\tremaining: 5.25s\n",
      "270:\tlearn: 1376.4690080\ttotal: 47.5s\tremaining: 5.08s\n",
      "271:\tlearn: 1376.2816189\ttotal: 47.7s\tremaining: 4.91s\n",
      "272:\tlearn: 1375.7736105\ttotal: 47.8s\tremaining: 4.73s\n",
      "273:\tlearn: 1375.7309238\ttotal: 48s\tremaining: 4.56s\n",
      "274:\tlearn: 1375.6881964\ttotal: 48.2s\tremaining: 4.38s\n",
      "275:\tlearn: 1375.2884277\ttotal: 48.4s\tremaining: 4.21s\n",
      "276:\tlearn: 1374.7144144\ttotal: 48.6s\tremaining: 4.04s\n",
      "277:\tlearn: 1374.2155896\ttotal: 48.8s\tremaining: 3.86s\n",
      "278:\tlearn: 1373.8512530\ttotal: 49s\tremaining: 3.69s\n",
      "279:\tlearn: 1373.1965651\ttotal: 49.2s\tremaining: 3.51s\n",
      "280:\tlearn: 1372.8102888\ttotal: 49.4s\tremaining: 3.34s\n",
      "281:\tlearn: 1372.5780072\ttotal: 49.6s\tremaining: 3.16s\n",
      "282:\tlearn: 1372.1858006\ttotal: 49.7s\tremaining: 2.98s\n",
      "283:\tlearn: 1371.2484088\ttotal: 49.9s\tremaining: 2.81s\n",
      "284:\tlearn: 1370.8532885\ttotal: 50.1s\tremaining: 2.63s\n",
      "285:\tlearn: 1369.2250860\ttotal: 50.2s\tremaining: 2.46s\n",
      "286:\tlearn: 1368.9084337\ttotal: 50.5s\tremaining: 2.29s\n",
      "287:\tlearn: 1368.2223171\ttotal: 50.6s\tremaining: 2.11s\n",
      "288:\tlearn: 1368.2094342\ttotal: 50.7s\tremaining: 1.93s\n",
      "289:\tlearn: 1368.0140835\ttotal: 50.9s\tremaining: 1.75s\n",
      "290:\tlearn: 1367.1109555\ttotal: 51.1s\tremaining: 1.58s\n",
      "291:\tlearn: 1366.7732705\ttotal: 51.2s\tremaining: 1.4s\n",
      "292:\tlearn: 1366.1521280\ttotal: 51.4s\tremaining: 1.23s\n",
      "293:\tlearn: 1365.5456542\ttotal: 51.6s\tremaining: 1.05s\n",
      "294:\tlearn: 1365.5128431\ttotal: 51.8s\tremaining: 877ms\n",
      "295:\tlearn: 1365.3205857\ttotal: 52s\tremaining: 702ms\n",
      "296:\tlearn: 1364.9402320\ttotal: 52.2s\tremaining: 527ms\n",
      "297:\tlearn: 1364.2694173\ttotal: 52.3s\tremaining: 351ms\n",
      "298:\tlearn: 1363.2350903\ttotal: 52.5s\tremaining: 176ms\n",
      "299:\tlearn: 1362.8160444\ttotal: 52.7s\tremaining: 0us\n",
      "[CV 3/3; 3/6] END ..................depth=10, iterations=300; total time=  54.1s\n",
      "[CV 1/3; 4/6] START depth=20, iterations=100....................................\n",
      "[CV 1/3; 4/6] END ..................depth=20, iterations=100; total time=   0.1s\n",
      "[CV 2/3; 4/6] START depth=20, iterations=100....................................\n",
      "[CV 2/3; 4/6] END ..................depth=20, iterations=100; total time=   0.1s\n",
      "[CV 3/3; 4/6] START depth=20, iterations=100....................................\n",
      "[CV 3/3; 4/6] END ..................depth=20, iterations=100; total time=   0.1s\n",
      "[CV 1/3; 5/6] START depth=20, iterations=200....................................\n",
      "[CV 1/3; 5/6] END ..................depth=20, iterations=200; total time=   0.0s\n",
      "[CV 2/3; 5/6] START depth=20, iterations=200....................................\n",
      "[CV 2/3; 5/6] END ..................depth=20, iterations=200; total time=   0.0s\n",
      "[CV 3/3; 5/6] START depth=20, iterations=200....................................\n",
      "[CV 3/3; 5/6] END ..................depth=20, iterations=200; total time=   0.1s\n",
      "[CV 1/3; 6/6] START depth=20, iterations=300....................................\n",
      "[CV 1/3; 6/6] END ..................depth=20, iterations=300; total time=   0.1s\n",
      "[CV 2/3; 6/6] START depth=20, iterations=300....................................\n",
      "[CV 2/3; 6/6] END ..................depth=20, iterations=300; total time=   0.1s\n",
      "[CV 3/3; 6/6] START depth=20, iterations=300....................................\n",
      "[CV 3/3; 6/6] END ..................depth=20, iterations=300; total time=   0.0s\n",
      "Learning rate set to 0.242592\n",
      "0:\tlearn: 3906.3860711\ttotal: 363ms\tremaining: 1m 48s\n",
      "1:\tlearn: 3296.9013630\ttotal: 669ms\tremaining: 1m 39s\n",
      "2:\tlearn: 2860.3971549\ttotal: 1s\tremaining: 1m 39s\n",
      "3:\tlearn: 2546.7084673\ttotal: 1.27s\tremaining: 1m 33s\n",
      "4:\tlearn: 2332.5755943\ttotal: 1.59s\tremaining: 1m 33s\n",
      "5:\tlearn: 2179.5506695\ttotal: 1.83s\tremaining: 1m 29s\n",
      "6:\tlearn: 2078.5715047\ttotal: 2.11s\tremaining: 1m 28s\n",
      "7:\tlearn: 1996.4145808\ttotal: 2.36s\tremaining: 1m 26s\n",
      "8:\tlearn: 1934.9199386\ttotal: 2.58s\tremaining: 1m 23s\n",
      "9:\tlearn: 1891.1166861\ttotal: 2.83s\tremaining: 1m 22s\n",
      "10:\tlearn: 1859.1542671\ttotal: 3.1s\tremaining: 1m 21s\n",
      "11:\tlearn: 1837.8263551\ttotal: 3.34s\tremaining: 1m 20s\n",
      "12:\tlearn: 1816.5379341\ttotal: 3.58s\tremaining: 1m 19s\n",
      "13:\tlearn: 1798.0077878\ttotal: 3.87s\tremaining: 1m 19s\n",
      "14:\tlearn: 1779.6133843\ttotal: 4.1s\tremaining: 1m 17s\n",
      "15:\tlearn: 1768.7359930\ttotal: 4.42s\tremaining: 1m 18s\n",
      "16:\tlearn: 1761.2630738\ttotal: 4.66s\tremaining: 1m 17s\n",
      "17:\tlearn: 1753.1812375\ttotal: 4.95s\tremaining: 1m 17s\n",
      "18:\tlearn: 1744.9014980\ttotal: 5.15s\tremaining: 1m 16s\n",
      "19:\tlearn: 1737.1268222\ttotal: 5.41s\tremaining: 1m 15s\n",
      "20:\tlearn: 1733.5048688\ttotal: 5.72s\tremaining: 1m 15s\n",
      "21:\tlearn: 1728.8233147\ttotal: 6s\tremaining: 1m 15s\n",
      "22:\tlearn: 1719.9527244\ttotal: 6.28s\tremaining: 1m 15s\n",
      "23:\tlearn: 1716.5751737\ttotal: 6.49s\tremaining: 1m 14s\n",
      "24:\tlearn: 1710.4050216\ttotal: 6.67s\tremaining: 1m 13s\n",
      "25:\tlearn: 1702.9489801\ttotal: 6.94s\tremaining: 1m 13s\n",
      "26:\tlearn: 1696.1297317\ttotal: 7.17s\tremaining: 1m 12s\n",
      "27:\tlearn: 1688.5753599\ttotal: 7.42s\tremaining: 1m 12s\n",
      "28:\tlearn: 1684.8812944\ttotal: 7.67s\tremaining: 1m 11s\n",
      "29:\tlearn: 1680.3653202\ttotal: 7.97s\tremaining: 1m 11s\n",
      "30:\tlearn: 1678.5549908\ttotal: 8.25s\tremaining: 1m 11s\n",
      "31:\tlearn: 1675.2199263\ttotal: 8.49s\tremaining: 1m 11s\n",
      "32:\tlearn: 1669.7224040\ttotal: 8.76s\tremaining: 1m 10s\n",
      "33:\tlearn: 1665.7674098\ttotal: 8.99s\tremaining: 1m 10s\n",
      "34:\tlearn: 1662.0085664\ttotal: 9.25s\tremaining: 1m 10s\n",
      "35:\tlearn: 1658.3999533\ttotal: 9.47s\tremaining: 1m 9s\n",
      "36:\tlearn: 1654.0535507\ttotal: 9.72s\tremaining: 1m 9s\n",
      "37:\tlearn: 1652.3400177\ttotal: 9.97s\tremaining: 1m 8s\n",
      "38:\tlearn: 1646.2253123\ttotal: 10.2s\tremaining: 1m 8s\n",
      "39:\tlearn: 1642.6570689\ttotal: 10.5s\tremaining: 1m 8s\n",
      "40:\tlearn: 1639.1344188\ttotal: 10.8s\tremaining: 1m 8s\n",
      "41:\tlearn: 1635.4441964\ttotal: 11s\tremaining: 1m 7s\n",
      "42:\tlearn: 1631.4593372\ttotal: 11.2s\tremaining: 1m 7s\n",
      "43:\tlearn: 1627.6172461\ttotal: 11.5s\tremaining: 1m 7s\n",
      "44:\tlearn: 1624.1930141\ttotal: 11.8s\tremaining: 1m 6s\n",
      "45:\tlearn: 1621.9866809\ttotal: 12s\tremaining: 1m 6s\n",
      "46:\tlearn: 1619.7250851\ttotal: 12.3s\tremaining: 1m 6s\n",
      "47:\tlearn: 1617.6654115\ttotal: 12.5s\tremaining: 1m 5s\n",
      "48:\tlearn: 1615.1186306\ttotal: 12.7s\tremaining: 1m 5s\n",
      "49:\tlearn: 1612.9392159\ttotal: 13s\tremaining: 1m 4s\n",
      "50:\tlearn: 1610.8084304\ttotal: 13.2s\tremaining: 1m 4s\n",
      "51:\tlearn: 1607.7678580\ttotal: 13.4s\tremaining: 1m 3s\n",
      "52:\tlearn: 1605.7588028\ttotal: 13.7s\tremaining: 1m 3s\n",
      "53:\tlearn: 1604.2011393\ttotal: 13.9s\tremaining: 1m 3s\n",
      "54:\tlearn: 1601.7393428\ttotal: 14.1s\tremaining: 1m 2s\n",
      "55:\tlearn: 1598.2013705\ttotal: 14.3s\tremaining: 1m 2s\n",
      "56:\tlearn: 1594.7318348\ttotal: 14.6s\tremaining: 1m 2s\n",
      "57:\tlearn: 1592.2039874\ttotal: 14.9s\tremaining: 1m 1s\n",
      "58:\tlearn: 1589.2447593\ttotal: 15.1s\tremaining: 1m 1s\n",
      "59:\tlearn: 1586.9563346\ttotal: 15.3s\tremaining: 1m 1s\n",
      "60:\tlearn: 1583.6908485\ttotal: 15.6s\tremaining: 1m 1s\n",
      "61:\tlearn: 1582.2441093\ttotal: 15.9s\tremaining: 1m 1s\n",
      "62:\tlearn: 1580.1444600\ttotal: 16.1s\tremaining: 1m\n",
      "63:\tlearn: 1579.1239499\ttotal: 16.4s\tremaining: 1m\n",
      "64:\tlearn: 1578.0467966\ttotal: 16.6s\tremaining: 1m\n",
      "65:\tlearn: 1576.8008221\ttotal: 16.8s\tremaining: 59.7s\n",
      "66:\tlearn: 1575.3271367\ttotal: 17.1s\tremaining: 59.3s\n",
      "67:\tlearn: 1573.4266937\ttotal: 17.3s\tremaining: 59.1s\n",
      "68:\tlearn: 1571.0498575\ttotal: 17.6s\tremaining: 58.8s\n",
      "69:\tlearn: 1569.5227817\ttotal: 17.8s\tremaining: 58.5s\n",
      "70:\tlearn: 1566.7200534\ttotal: 18s\tremaining: 58.2s\n",
      "71:\tlearn: 1564.8805048\ttotal: 18.3s\tremaining: 58s\n",
      "72:\tlearn: 1562.8245034\ttotal: 18.6s\tremaining: 57.7s\n",
      "73:\tlearn: 1561.3256279\ttotal: 18.8s\tremaining: 57.4s\n",
      "74:\tlearn: 1560.2402441\ttotal: 19s\tremaining: 57s\n",
      "75:\tlearn: 1557.8757761\ttotal: 19.2s\tremaining: 56.6s\n",
      "76:\tlearn: 1556.9445307\ttotal: 19.4s\tremaining: 56.2s\n",
      "77:\tlearn: 1555.3909079\ttotal: 19.7s\tremaining: 56s\n",
      "78:\tlearn: 1553.6802623\ttotal: 19.9s\tremaining: 55.8s\n",
      "79:\tlearn: 1551.0556181\ttotal: 20.1s\tremaining: 55.4s\n",
      "80:\tlearn: 1549.4693868\ttotal: 20.4s\tremaining: 55.1s\n",
      "81:\tlearn: 1547.2338572\ttotal: 20.6s\tremaining: 54.7s\n",
      "82:\tlearn: 1545.6113447\ttotal: 20.8s\tremaining: 54.4s\n",
      "83:\tlearn: 1544.7632370\ttotal: 21s\tremaining: 54.1s\n",
      "84:\tlearn: 1542.2098679\ttotal: 21.3s\tremaining: 53.9s\n",
      "85:\tlearn: 1540.6009604\ttotal: 21.6s\tremaining: 53.8s\n",
      "86:\tlearn: 1539.7605337\ttotal: 21.8s\tremaining: 53.4s\n",
      "87:\tlearn: 1537.9091777\ttotal: 22.1s\tremaining: 53.2s\n",
      "88:\tlearn: 1535.9277863\ttotal: 22.4s\tremaining: 53s\n",
      "89:\tlearn: 1535.1427271\ttotal: 22.7s\tremaining: 52.9s\n",
      "90:\tlearn: 1534.3621611\ttotal: 23s\tremaining: 52.7s\n",
      "91:\tlearn: 1532.0978189\ttotal: 23.2s\tremaining: 52.5s\n",
      "92:\tlearn: 1531.1162544\ttotal: 23.5s\tremaining: 52.3s\n",
      "93:\tlearn: 1529.3177982\ttotal: 23.7s\tremaining: 52s\n",
      "94:\tlearn: 1528.6356298\ttotal: 24s\tremaining: 51.9s\n",
      "95:\tlearn: 1527.9598742\ttotal: 24.3s\tremaining: 51.5s\n",
      "96:\tlearn: 1526.7662087\ttotal: 24.5s\tremaining: 51.2s\n",
      "97:\tlearn: 1525.8550938\ttotal: 24.8s\tremaining: 51.1s\n",
      "98:\tlearn: 1524.5707993\ttotal: 25s\tremaining: 50.7s\n",
      "99:\tlearn: 1523.4474386\ttotal: 25.3s\tremaining: 50.5s\n",
      "100:\tlearn: 1522.2930003\ttotal: 25.5s\tremaining: 50.2s\n",
      "101:\tlearn: 1521.9097909\ttotal: 25.8s\tremaining: 50.1s\n",
      "102:\tlearn: 1521.4739912\ttotal: 26.1s\tremaining: 49.9s\n",
      "103:\tlearn: 1519.6076202\ttotal: 26.4s\tremaining: 49.7s\n",
      "104:\tlearn: 1518.3181785\ttotal: 26.6s\tremaining: 49.5s\n",
      "105:\tlearn: 1517.5188687\ttotal: 26.8s\tremaining: 49.1s\n",
      "106:\tlearn: 1517.2184930\ttotal: 27s\tremaining: 48.7s\n",
      "107:\tlearn: 1516.3826142\ttotal: 27.3s\tremaining: 48.5s\n",
      "108:\tlearn: 1515.2303077\ttotal: 27.6s\tremaining: 48.3s\n",
      "109:\tlearn: 1514.7210513\ttotal: 27.8s\tremaining: 48s\n",
      "110:\tlearn: 1513.4636243\ttotal: 28.1s\tremaining: 47.8s\n",
      "111:\tlearn: 1512.8541285\ttotal: 28.3s\tremaining: 47.5s\n",
      "112:\tlearn: 1512.1025913\ttotal: 28.5s\tremaining: 47.1s\n",
      "113:\tlearn: 1510.7654141\ttotal: 28.7s\tremaining: 46.9s\n",
      "114:\tlearn: 1509.9996586\ttotal: 28.9s\tremaining: 46.5s\n",
      "115:\tlearn: 1509.2988828\ttotal: 29.1s\tremaining: 46.2s\n",
      "116:\tlearn: 1508.4075927\ttotal: 29.4s\tremaining: 45.9s\n",
      "117:\tlearn: 1507.6295202\ttotal: 29.6s\tremaining: 45.7s\n",
      "118:\tlearn: 1506.9545995\ttotal: 29.9s\tremaining: 45.5s\n",
      "119:\tlearn: 1506.1735228\ttotal: 30.1s\tremaining: 45.1s\n",
      "120:\tlearn: 1505.0982373\ttotal: 30.3s\tremaining: 44.9s\n",
      "121:\tlearn: 1504.4882916\ttotal: 30.6s\tremaining: 44.6s\n",
      "122:\tlearn: 1502.9007474\ttotal: 30.8s\tremaining: 44.3s\n",
      "123:\tlearn: 1502.4942839\ttotal: 31.1s\tremaining: 44.1s\n",
      "124:\tlearn: 1500.7108435\ttotal: 31.3s\tremaining: 43.9s\n",
      "125:\tlearn: 1500.1596668\ttotal: 31.6s\tremaining: 43.6s\n",
      "126:\tlearn: 1499.1128171\ttotal: 31.8s\tremaining: 43.3s\n",
      "127:\tlearn: 1498.5588350\ttotal: 32s\tremaining: 43s\n",
      "128:\tlearn: 1497.6965484\ttotal: 32.3s\tremaining: 42.8s\n",
      "129:\tlearn: 1496.6433669\ttotal: 32.5s\tremaining: 42.5s\n",
      "130:\tlearn: 1496.4806438\ttotal: 32.9s\tremaining: 42.4s\n",
      "131:\tlearn: 1495.1367274\ttotal: 33.1s\tremaining: 42.2s\n",
      "132:\tlearn: 1494.4613406\ttotal: 33.4s\tremaining: 42s\n",
      "133:\tlearn: 1493.9874906\ttotal: 33.7s\tremaining: 41.7s\n",
      "134:\tlearn: 1492.6051298\ttotal: 34s\tremaining: 41.5s\n",
      "135:\tlearn: 1491.6904235\ttotal: 34.2s\tremaining: 41.3s\n",
      "136:\tlearn: 1490.8246803\ttotal: 34.5s\tremaining: 41s\n",
      "137:\tlearn: 1489.8942885\ttotal: 34.8s\tremaining: 40.8s\n",
      "138:\tlearn: 1488.7696064\ttotal: 35s\tremaining: 40.6s\n",
      "139:\tlearn: 1487.8172786\ttotal: 35.3s\tremaining: 40.3s\n",
      "140:\tlearn: 1487.6244166\ttotal: 35.6s\tremaining: 40.1s\n",
      "141:\tlearn: 1486.7648748\ttotal: 35.8s\tremaining: 39.9s\n",
      "142:\tlearn: 1486.4832775\ttotal: 36.1s\tremaining: 39.7s\n",
      "143:\tlearn: 1485.5788039\ttotal: 36.4s\tremaining: 39.4s\n",
      "144:\tlearn: 1485.4109195\ttotal: 36.7s\tremaining: 39.2s\n",
      "145:\tlearn: 1485.0380579\ttotal: 36.9s\tremaining: 38.9s\n",
      "146:\tlearn: 1484.6415860\ttotal: 37.2s\tremaining: 38.7s\n",
      "147:\tlearn: 1483.4820688\ttotal: 37.5s\tremaining: 38.5s\n",
      "148:\tlearn: 1483.2492751\ttotal: 37.7s\tremaining: 38.2s\n",
      "149:\tlearn: 1481.8360844\ttotal: 38s\tremaining: 38s\n",
      "150:\tlearn: 1481.0474022\ttotal: 38.3s\tremaining: 37.8s\n",
      "151:\tlearn: 1479.4383670\ttotal: 38.6s\tremaining: 37.6s\n",
      "152:\tlearn: 1478.7613780\ttotal: 38.9s\tremaining: 37.3s\n",
      "153:\tlearn: 1478.7445887\ttotal: 39s\tremaining: 36.9s\n",
      "154:\tlearn: 1477.5917614\ttotal: 39.2s\tremaining: 36.7s\n",
      "155:\tlearn: 1476.3464438\ttotal: 39.4s\tremaining: 36.4s\n",
      "156:\tlearn: 1475.8783572\ttotal: 39.7s\tremaining: 36.2s\n",
      "157:\tlearn: 1475.3427888\ttotal: 40s\tremaining: 35.9s\n",
      "158:\tlearn: 1475.1277758\ttotal: 40.2s\tremaining: 35.7s\n",
      "159:\tlearn: 1474.7296838\ttotal: 40.5s\tremaining: 35.5s\n",
      "160:\tlearn: 1474.4473427\ttotal: 40.8s\tremaining: 35.2s\n",
      "161:\tlearn: 1474.4403416\ttotal: 40.9s\tremaining: 34.9s\n",
      "162:\tlearn: 1474.0981540\ttotal: 41.1s\tremaining: 34.6s\n",
      "163:\tlearn: 1473.7194335\ttotal: 41.4s\tremaining: 34.4s\n",
      "164:\tlearn: 1473.3730609\ttotal: 41.7s\tremaining: 34.2s\n",
      "165:\tlearn: 1472.5534378\ttotal: 42s\tremaining: 33.9s\n",
      "166:\tlearn: 1471.6666608\ttotal: 42.3s\tremaining: 33.7s\n",
      "167:\tlearn: 1471.2643174\ttotal: 42.5s\tremaining: 33.4s\n",
      "168:\tlearn: 1470.5940102\ttotal: 42.8s\tremaining: 33.2s\n",
      "169:\tlearn: 1469.2741007\ttotal: 43s\tremaining: 32.9s\n",
      "170:\tlearn: 1468.4193557\ttotal: 43.2s\tremaining: 32.6s\n",
      "171:\tlearn: 1467.8455821\ttotal: 43.4s\tremaining: 32.3s\n",
      "172:\tlearn: 1467.2306354\ttotal: 43.7s\tremaining: 32.1s\n",
      "173:\tlearn: 1466.6261859\ttotal: 44s\tremaining: 31.9s\n",
      "174:\tlearn: 1466.5995985\ttotal: 44.2s\tremaining: 31.5s\n",
      "175:\tlearn: 1466.2110230\ttotal: 44.4s\tremaining: 31.3s\n",
      "176:\tlearn: 1464.3850275\ttotal: 44.7s\tremaining: 31s\n",
      "177:\tlearn: 1463.6415838\ttotal: 44.9s\tremaining: 30.8s\n",
      "178:\tlearn: 1462.8183943\ttotal: 45.2s\tremaining: 30.5s\n",
      "179:\tlearn: 1462.0808201\ttotal: 45.5s\tremaining: 30.3s\n",
      "180:\tlearn: 1461.8051128\ttotal: 45.7s\tremaining: 30.1s\n",
      "181:\tlearn: 1461.4859147\ttotal: 46s\tremaining: 29.8s\n",
      "182:\tlearn: 1460.1678626\ttotal: 46.2s\tremaining: 29.5s\n",
      "183:\tlearn: 1459.7829770\ttotal: 46.4s\tremaining: 29.3s\n",
      "184:\tlearn: 1459.5031358\ttotal: 46.6s\tremaining: 29s\n",
      "185:\tlearn: 1458.1216820\ttotal: 46.9s\tremaining: 28.7s\n",
      "186:\tlearn: 1457.6413668\ttotal: 47.2s\tremaining: 28.5s\n",
      "187:\tlearn: 1457.1337487\ttotal: 47.4s\tremaining: 28.3s\n",
      "188:\tlearn: 1456.7641091\ttotal: 47.7s\tremaining: 28s\n",
      "189:\tlearn: 1456.0468459\ttotal: 47.9s\tremaining: 27.8s\n",
      "190:\tlearn: 1454.9860722\ttotal: 48.2s\tremaining: 27.5s\n",
      "191:\tlearn: 1454.2281039\ttotal: 48.4s\tremaining: 27.2s\n",
      "192:\tlearn: 1453.7459031\ttotal: 48.7s\tremaining: 27s\n",
      "193:\tlearn: 1453.1075442\ttotal: 48.9s\tremaining: 26.7s\n",
      "194:\tlearn: 1452.0682899\ttotal: 49.2s\tremaining: 26.5s\n",
      "195:\tlearn: 1451.5161730\ttotal: 49.4s\tremaining: 26.2s\n",
      "196:\tlearn: 1450.9006460\ttotal: 49.7s\tremaining: 26s\n",
      "197:\tlearn: 1450.5698719\ttotal: 49.9s\tremaining: 25.7s\n",
      "198:\tlearn: 1450.2553930\ttotal: 50.2s\tremaining: 25.5s\n",
      "199:\tlearn: 1448.4977079\ttotal: 50.4s\tremaining: 25.2s\n",
      "200:\tlearn: 1446.5813509\ttotal: 50.7s\tremaining: 25s\n",
      "201:\tlearn: 1446.2988891\ttotal: 50.9s\tremaining: 24.7s\n",
      "202:\tlearn: 1445.3482175\ttotal: 51.1s\tremaining: 24.4s\n",
      "203:\tlearn: 1443.4911820\ttotal: 51.4s\tremaining: 24.2s\n",
      "204:\tlearn: 1442.8673810\ttotal: 51.7s\tremaining: 23.9s\n",
      "205:\tlearn: 1441.8918368\ttotal: 51.8s\tremaining: 23.7s\n",
      "206:\tlearn: 1441.1843934\ttotal: 52.1s\tremaining: 23.4s\n",
      "207:\tlearn: 1440.6588834\ttotal: 52.4s\tremaining: 23.2s\n",
      "208:\tlearn: 1440.1263375\ttotal: 52.6s\tremaining: 22.9s\n",
      "209:\tlearn: 1439.3512828\ttotal: 52.8s\tremaining: 22.6s\n",
      "210:\tlearn: 1438.5539789\ttotal: 53s\tremaining: 22.4s\n",
      "211:\tlearn: 1437.4976618\ttotal: 53.2s\tremaining: 22.1s\n",
      "212:\tlearn: 1437.2796941\ttotal: 53.6s\tremaining: 21.9s\n",
      "213:\tlearn: 1436.6185630\ttotal: 53.8s\tremaining: 21.6s\n",
      "214:\tlearn: 1435.9773751\ttotal: 54s\tremaining: 21.4s\n",
      "215:\tlearn: 1434.9218944\ttotal: 54.2s\tremaining: 21.1s\n",
      "216:\tlearn: 1434.4053961\ttotal: 54.4s\tremaining: 20.8s\n",
      "217:\tlearn: 1433.5756444\ttotal: 54.7s\tremaining: 20.6s\n",
      "218:\tlearn: 1433.1042899\ttotal: 54.9s\tremaining: 20.3s\n",
      "219:\tlearn: 1432.5956886\ttotal: 55.2s\tremaining: 20.1s\n",
      "220:\tlearn: 1432.5230272\ttotal: 55.6s\tremaining: 19.9s\n",
      "221:\tlearn: 1432.0769920\ttotal: 55.8s\tremaining: 19.6s\n",
      "222:\tlearn: 1431.6808761\ttotal: 56.1s\tremaining: 19.4s\n",
      "223:\tlearn: 1431.1191662\ttotal: 56.3s\tremaining: 19.1s\n",
      "224:\tlearn: 1430.4119826\ttotal: 56.5s\tremaining: 18.8s\n",
      "225:\tlearn: 1429.9349040\ttotal: 56.7s\tremaining: 18.6s\n",
      "226:\tlearn: 1429.2916203\ttotal: 57s\tremaining: 18.3s\n",
      "227:\tlearn: 1428.8508325\ttotal: 57.2s\tremaining: 18.1s\n",
      "228:\tlearn: 1428.2531446\ttotal: 57.4s\tremaining: 17.8s\n",
      "229:\tlearn: 1427.6687823\ttotal: 57.7s\tremaining: 17.6s\n",
      "230:\tlearn: 1427.0430638\ttotal: 57.9s\tremaining: 17.3s\n",
      "231:\tlearn: 1426.4885056\ttotal: 58.2s\tremaining: 17.1s\n",
      "232:\tlearn: 1425.7220157\ttotal: 58.5s\tremaining: 16.8s\n",
      "233:\tlearn: 1424.3981548\ttotal: 58.7s\tremaining: 16.6s\n",
      "234:\tlearn: 1424.1811492\ttotal: 58.9s\tremaining: 16.3s\n",
      "235:\tlearn: 1423.7383244\ttotal: 59.2s\tremaining: 16.1s\n",
      "236:\tlearn: 1423.5338709\ttotal: 59.5s\tremaining: 15.8s\n",
      "237:\tlearn: 1423.2330931\ttotal: 59.7s\tremaining: 15.6s\n",
      "238:\tlearn: 1422.7378278\ttotal: 60s\tremaining: 15.3s\n",
      "239:\tlearn: 1421.9187274\ttotal: 1m\tremaining: 15.1s\n",
      "240:\tlearn: 1421.3138109\ttotal: 1m\tremaining: 14.8s\n",
      "241:\tlearn: 1420.5644246\ttotal: 1m\tremaining: 14.6s\n",
      "242:\tlearn: 1420.2642094\ttotal: 1m\tremaining: 14.3s\n",
      "243:\tlearn: 1419.8487835\ttotal: 1m 1s\tremaining: 14s\n",
      "244:\tlearn: 1418.6744409\ttotal: 1m 1s\tremaining: 13.8s\n",
      "245:\tlearn: 1417.4062846\ttotal: 1m 1s\tremaining: 13.6s\n",
      "246:\tlearn: 1417.1096166\ttotal: 1m 1s\tremaining: 13.3s\n",
      "247:\tlearn: 1416.4076487\ttotal: 1m 2s\tremaining: 13s\n",
      "248:\tlearn: 1416.2044542\ttotal: 1m 2s\tremaining: 12.8s\n",
      "249:\tlearn: 1415.9777996\ttotal: 1m 2s\tremaining: 12.5s\n",
      "250:\tlearn: 1415.7932291\ttotal: 1m 2s\tremaining: 12.3s\n",
      "251:\tlearn: 1415.4762571\ttotal: 1m 3s\tremaining: 12s\n",
      "252:\tlearn: 1415.2387930\ttotal: 1m 3s\tremaining: 11.8s\n",
      "253:\tlearn: 1414.6326609\ttotal: 1m 3s\tremaining: 11.6s\n",
      "254:\tlearn: 1414.2671289\ttotal: 1m 4s\tremaining: 11.3s\n",
      "255:\tlearn: 1413.7607145\ttotal: 1m 4s\tremaining: 11.1s\n",
      "256:\tlearn: 1412.8126064\ttotal: 1m 4s\tremaining: 10.8s\n",
      "257:\tlearn: 1412.1109056\ttotal: 1m 4s\tremaining: 10.6s\n",
      "258:\tlearn: 1411.7489546\ttotal: 1m 5s\tremaining: 10.3s\n",
      "259:\tlearn: 1411.2539113\ttotal: 1m 5s\tremaining: 10.1s\n",
      "260:\tlearn: 1410.9165086\ttotal: 1m 5s\tremaining: 9.8s\n",
      "261:\tlearn: 1410.5671804\ttotal: 1m 5s\tremaining: 9.55s\n",
      "262:\tlearn: 1410.4480333\ttotal: 1m 6s\tremaining: 9.31s\n",
      "263:\tlearn: 1410.2534623\ttotal: 1m 6s\tremaining: 9.06s\n",
      "264:\tlearn: 1409.7184912\ttotal: 1m 6s\tremaining: 8.81s\n",
      "265:\tlearn: 1409.6407642\ttotal: 1m 6s\tremaining: 8.56s\n",
      "266:\tlearn: 1409.4144577\ttotal: 1m 7s\tremaining: 8.31s\n",
      "267:\tlearn: 1409.2149951\ttotal: 1m 7s\tremaining: 8.06s\n",
      "268:\tlearn: 1408.7311125\ttotal: 1m 7s\tremaining: 7.81s\n",
      "269:\tlearn: 1408.2982496\ttotal: 1m 8s\tremaining: 7.57s\n",
      "270:\tlearn: 1408.1003854\ttotal: 1m 8s\tremaining: 7.32s\n",
      "271:\tlearn: 1407.3620536\ttotal: 1m 8s\tremaining: 7.07s\n",
      "272:\tlearn: 1407.1064327\ttotal: 1m 9s\tremaining: 6.83s\n",
      "273:\tlearn: 1406.1079245\ttotal: 1m 9s\tremaining: 6.57s\n",
      "274:\tlearn: 1405.8496797\ttotal: 1m 9s\tremaining: 6.32s\n",
      "275:\tlearn: 1405.4559939\ttotal: 1m 9s\tremaining: 6.07s\n",
      "276:\tlearn: 1404.6741160\ttotal: 1m 10s\tremaining: 5.82s\n",
      "277:\tlearn: 1404.2951721\ttotal: 1m 10s\tremaining: 5.57s\n",
      "278:\tlearn: 1403.8700225\ttotal: 1m 10s\tremaining: 5.32s\n",
      "279:\tlearn: 1402.8444849\ttotal: 1m 10s\tremaining: 5.06s\n",
      "280:\tlearn: 1402.3875974\ttotal: 1m 11s\tremaining: 4.81s\n",
      "281:\tlearn: 1402.0024335\ttotal: 1m 11s\tremaining: 4.56s\n",
      "282:\tlearn: 1401.6187447\ttotal: 1m 11s\tremaining: 4.31s\n",
      "283:\tlearn: 1401.3103190\ttotal: 1m 11s\tremaining: 4.05s\n",
      "284:\tlearn: 1401.1085891\ttotal: 1m 12s\tremaining: 3.8s\n",
      "285:\tlearn: 1400.9423407\ttotal: 1m 12s\tremaining: 3.54s\n",
      "286:\tlearn: 1400.5669076\ttotal: 1m 12s\tremaining: 3.29s\n",
      "287:\tlearn: 1400.4483315\ttotal: 1m 13s\tremaining: 3.04s\n",
      "288:\tlearn: 1400.1803814\ttotal: 1m 13s\tremaining: 2.79s\n",
      "289:\tlearn: 1399.8672208\ttotal: 1m 13s\tremaining: 2.54s\n",
      "290:\tlearn: 1398.8425160\ttotal: 1m 13s\tremaining: 2.29s\n",
      "291:\tlearn: 1398.6071601\ttotal: 1m 14s\tremaining: 2.03s\n",
      "292:\tlearn: 1398.1993705\ttotal: 1m 14s\tremaining: 1.78s\n",
      "293:\tlearn: 1397.9436611\ttotal: 1m 14s\tremaining: 1.52s\n",
      "294:\tlearn: 1397.3164463\ttotal: 1m 14s\tremaining: 1.27s\n",
      "295:\tlearn: 1396.3683171\ttotal: 1m 15s\tremaining: 1.01s\n",
      "296:\tlearn: 1396.2282400\ttotal: 1m 15s\tremaining: 761ms\n",
      "297:\tlearn: 1396.0571546\ttotal: 1m 15s\tremaining: 507ms\n",
      "298:\tlearn: 1395.5580246\ttotal: 1m 15s\tremaining: 254ms\n",
      "299:\tlearn: 1395.0195802\ttotal: 1m 16s\tremaining: 0us\n",
      "CPU times: user 5min 49s, sys: 2.65 s, total: 5min 51s\n",
      "Wall time: 5min 59s\n"
     ]
    }
   ],
   "source": [
    "%%time\n",
    "CBR = GridSearchCV(CatBoostRegressor(cat_features=cat_features, random_state=42), \\\n",
    "                   params, cv=3, verbose=10, n_jobs=-1, scoring='neg_root_mean_squared_error')\n",
    "CBR.fit(features_train, target_train)\n",
    "\n",
    "rmse.append(abs(CBR.best_score_))\n",
    "training_time.append(CBR.refit_time_)"
   ]
  },
  {
   "cell_type": "markdown",
   "metadata": {},
   "source": [
    "### LGBMRegressor"
   ]
  },
  {
   "cell_type": "code",
   "execution_count": 35,
   "metadata": {},
   "outputs": [],
   "source": [
    "params = {\n",
    "    'max_depth': [10, 20],\n",
    "    'n_estimators': [20, 40, 60],\n",
    "}"
   ]
  },
  {
   "cell_type": "code",
   "execution_count": 36,
   "metadata": {
    "scrolled": true
   },
   "outputs": [
    {
     "name": "stdout",
     "output_type": "stream",
     "text": [
      "Fitting 3 folds for each of 6 candidates, totalling 18 fits\n",
      "[CV 1/3; 1/6] START max_depth=10, n_estimators=20...............................\n",
      "[CV 1/3; 1/6] END .............max_depth=10, n_estimators=20; total time=   1.4s\n",
      "[CV 2/3; 1/6] START max_depth=10, n_estimators=20...............................\n",
      "[CV 2/3; 1/6] END .............max_depth=10, n_estimators=20; total time=   1.1s\n",
      "[CV 3/3; 1/6] START max_depth=10, n_estimators=20...............................\n",
      "[CV 3/3; 1/6] END .............max_depth=10, n_estimators=20; total time=   1.4s\n",
      "[CV 1/3; 2/6] START max_depth=10, n_estimators=40...............................\n",
      "[CV 1/3; 2/6] END .............max_depth=10, n_estimators=40; total time=   2.1s\n",
      "[CV 2/3; 2/6] START max_depth=10, n_estimators=40...............................\n",
      "[CV 2/3; 2/6] END .............max_depth=10, n_estimators=40; total time=   2.0s\n",
      "[CV 3/3; 2/6] START max_depth=10, n_estimators=40...............................\n",
      "[CV 3/3; 2/6] END .............max_depth=10, n_estimators=40; total time=   2.0s\n",
      "[CV 1/3; 3/6] START max_depth=10, n_estimators=60...............................\n",
      "[CV 1/3; 3/6] END .............max_depth=10, n_estimators=60; total time=   3.4s\n",
      "[CV 2/3; 3/6] START max_depth=10, n_estimators=60...............................\n",
      "[CV 2/3; 3/6] END .............max_depth=10, n_estimators=60; total time=   2.7s\n",
      "[CV 3/3; 3/6] START max_depth=10, n_estimators=60...............................\n",
      "[CV 3/3; 3/6] END .............max_depth=10, n_estimators=60; total time=   2.6s\n",
      "[CV 1/3; 4/6] START max_depth=20, n_estimators=20...............................\n",
      "[CV 1/3; 4/6] END .............max_depth=20, n_estimators=20; total time=   1.3s\n",
      "[CV 2/3; 4/6] START max_depth=20, n_estimators=20...............................\n",
      "[CV 2/3; 4/6] END .............max_depth=20, n_estimators=20; total time=   1.2s\n",
      "[CV 3/3; 4/6] START max_depth=20, n_estimators=20...............................\n",
      "[CV 3/3; 4/6] END .............max_depth=20, n_estimators=20; total time=   1.1s\n",
      "[CV 1/3; 5/6] START max_depth=20, n_estimators=40...............................\n",
      "[CV 1/3; 5/6] END .............max_depth=20, n_estimators=40; total time=   2.2s\n",
      "[CV 2/3; 5/6] START max_depth=20, n_estimators=40...............................\n",
      "[CV 2/3; 5/6] END .............max_depth=20, n_estimators=40; total time=   2.1s\n",
      "[CV 3/3; 5/6] START max_depth=20, n_estimators=40...............................\n",
      "[CV 3/3; 5/6] END .............max_depth=20, n_estimators=40; total time=   2.0s\n",
      "[CV 1/3; 6/6] START max_depth=20, n_estimators=60...............................\n",
      "[CV 1/3; 6/6] END .............max_depth=20, n_estimators=60; total time=  37.8s\n",
      "[CV 2/3; 6/6] START max_depth=20, n_estimators=60...............................\n",
      "[CV 2/3; 6/6] END .............max_depth=20, n_estimators=60; total time= 1.3min\n",
      "[CV 3/3; 6/6] START max_depth=20, n_estimators=60...............................\n",
      "[CV 3/3; 6/6] END .............max_depth=20, n_estimators=60; total time=  51.0s\n",
      "CPU times: user 3min 33s, sys: 670 ms, total: 3min 34s\n",
      "Wall time: 3min 34s\n"
     ]
    }
   ],
   "source": [
    "%%time\n",
    "LGBMR = GridSearchCV(LGBMRegressor(categorical_feature=cat_features, random_state=42), \\\n",
    "                     params, cv=3, verbose=10, n_jobs=-1, scoring='neg_root_mean_squared_error')\n",
    "LGBMR.fit(features_train, target_train)\n",
    "\n",
    "rmse.append(abs(LGBMR.best_score_))\n",
    "training_time.append(LGBMR.refit_time_)"
   ]
  },
  {
   "cell_type": "markdown",
   "metadata": {},
   "source": [
    "## Анализ моделей"
   ]
  },
  {
   "cell_type": "markdown",
   "metadata": {},
   "source": [
    "Произведём замер показателей на тестовых выборках в соответствии с требованиями заказчика и сравним результаты"
   ]
  },
  {
   "cell_type": "code",
   "execution_count": 37,
   "metadata": {},
   "outputs": [
    {
     "name": "stdout",
     "output_type": "stream",
     "text": [
      "Показатели кросс-валидации\n"
     ]
    },
    {
     "data": {
      "text/html": [
       "<div>\n",
       "<style scoped>\n",
       "    .dataframe tbody tr th:only-of-type {\n",
       "        vertical-align: middle;\n",
       "    }\n",
       "\n",
       "    .dataframe tbody tr th {\n",
       "        vertical-align: top;\n",
       "    }\n",
       "\n",
       "    .dataframe thead th {\n",
       "        text-align: right;\n",
       "    }\n",
       "</style>\n",
       "<table border=\"1\" class=\"dataframe\">\n",
       "  <thead>\n",
       "    <tr style=\"text-align: right;\">\n",
       "      <th></th>\n",
       "      <th>RMSE</th>\n",
       "      <th>Training Time</th>\n",
       "    </tr>\n",
       "  </thead>\n",
       "  <tbody>\n",
       "    <tr>\n",
       "      <th>RandomForestRegressor</th>\n",
       "      <td>1709.737477</td>\n",
       "      <td>11.704935</td>\n",
       "    </tr>\n",
       "    <tr>\n",
       "      <th>CatBoostRegressor</th>\n",
       "      <td>1626.186917</td>\n",
       "      <td>77.668309</td>\n",
       "    </tr>\n",
       "    <tr>\n",
       "      <th>LGBMRegressor</th>\n",
       "      <td>1681.799917</td>\n",
       "      <td>17.585678</td>\n",
       "    </tr>\n",
       "  </tbody>\n",
       "</table>\n",
       "</div>"
      ],
      "text/plain": [
       "                              RMSE  Training Time\n",
       "RandomForestRegressor  1709.737477      11.704935\n",
       "CatBoostRegressor      1626.186917      77.668309\n",
       "LGBMRegressor          1681.799917      17.585678"
      ]
     },
     "execution_count": 37,
     "metadata": {},
     "output_type": "execute_result"
    }
   ],
   "source": [
    "print('Показатели кросс-валидации')\n",
    "pd.DataFrame(data={'RMSE':rmse,\n",
    "                   'Training Time':training_time},\n",
    "                    index=models)"
   ]
  },
  {
   "cell_type": "markdown",
   "metadata": {},
   "source": [
    "А теперь проверим модели на тестовой выборке"
   ]
  },
  {
   "cell_type": "code",
   "execution_count": 38,
   "metadata": {},
   "outputs": [],
   "source": [
    "rmse = []\n",
    "training_time = []\n",
    "prediction_time = []\n",
    "\n",
    "def get_results(model, X_train=features_train, X_test=features_test, y_train=target_train, y_test=target_test):\n",
    "    start_time = time.time()\n",
    "    model.fit(X_train, y_train)\n",
    "    training_time.append(round(time.time() - start_time, 2))\n",
    "    \n",
    "    start_time = time.time()\n",
    "    predictions = model.predict(X_test)\n",
    "    prediction_time.append(round(time.time() - start_time, 2))\n",
    "    \n",
    "    rmse.append(mean_squared_error(y_test, predictions) ** 0.5)"
   ]
  },
  {
   "cell_type": "code",
   "execution_count": 39,
   "metadata": {
    "scrolled": true
   },
   "outputs": [
    {
     "name": "stdout",
     "output_type": "stream",
     "text": [
      "Learning rate set to 0.242592\n",
      "0:\tlearn: 3906.3860711\ttotal: 330ms\tremaining: 1m 38s\n",
      "1:\tlearn: 3296.9013630\ttotal: 614ms\tremaining: 1m 31s\n",
      "2:\tlearn: 2860.3971549\ttotal: 911ms\tremaining: 1m 30s\n",
      "3:\tlearn: 2546.7084673\ttotal: 1.16s\tremaining: 1m 25s\n",
      "4:\tlearn: 2332.5755943\ttotal: 1.45s\tremaining: 1m 25s\n",
      "5:\tlearn: 2179.5506695\ttotal: 1.67s\tremaining: 1m 22s\n",
      "6:\tlearn: 2078.5715047\ttotal: 1.91s\tremaining: 1m 20s\n",
      "7:\tlearn: 1996.4145808\ttotal: 2.15s\tremaining: 1m 18s\n",
      "8:\tlearn: 1934.9199386\ttotal: 2.35s\tremaining: 1m 15s\n",
      "9:\tlearn: 1891.1166861\ttotal: 2.56s\tremaining: 1m 14s\n",
      "10:\tlearn: 1859.1542671\ttotal: 2.78s\tremaining: 1m 12s\n",
      "11:\tlearn: 1837.8263551\ttotal: 2.99s\tremaining: 1m 11s\n",
      "12:\tlearn: 1816.5379341\ttotal: 3.21s\tremaining: 1m 10s\n",
      "13:\tlearn: 1798.0077878\ttotal: 3.45s\tremaining: 1m 10s\n",
      "14:\tlearn: 1779.6133843\ttotal: 3.66s\tremaining: 1m 9s\n",
      "15:\tlearn: 1768.7359930\ttotal: 3.97s\tremaining: 1m 10s\n",
      "16:\tlearn: 1761.2630738\ttotal: 4.18s\tremaining: 1m 9s\n",
      "17:\tlearn: 1753.1812375\ttotal: 4.45s\tremaining: 1m 9s\n",
      "18:\tlearn: 1744.9014980\ttotal: 4.63s\tremaining: 1m 8s\n",
      "19:\tlearn: 1737.1268222\ttotal: 4.85s\tremaining: 1m 7s\n",
      "20:\tlearn: 1733.5048688\ttotal: 5.09s\tremaining: 1m 7s\n",
      "21:\tlearn: 1728.8233147\ttotal: 5.33s\tremaining: 1m 7s\n",
      "22:\tlearn: 1719.9527244\ttotal: 5.56s\tremaining: 1m 6s\n",
      "23:\tlearn: 1716.5751737\ttotal: 5.74s\tremaining: 1m 6s\n",
      "24:\tlearn: 1710.4050216\ttotal: 5.92s\tremaining: 1m 5s\n",
      "25:\tlearn: 1702.9489801\ttotal: 6.14s\tremaining: 1m 4s\n",
      "26:\tlearn: 1696.1297317\ttotal: 6.36s\tremaining: 1m 4s\n",
      "27:\tlearn: 1688.5753599\ttotal: 6.6s\tremaining: 1m 4s\n",
      "28:\tlearn: 1684.8812944\ttotal: 6.83s\tremaining: 1m 3s\n",
      "29:\tlearn: 1680.3653202\ttotal: 7.09s\tremaining: 1m 3s\n",
      "30:\tlearn: 1678.5549908\ttotal: 7.33s\tremaining: 1m 3s\n",
      "31:\tlearn: 1675.2199263\ttotal: 7.53s\tremaining: 1m 3s\n",
      "32:\tlearn: 1669.7224040\ttotal: 7.73s\tremaining: 1m 2s\n",
      "33:\tlearn: 1665.7674098\ttotal: 7.93s\tremaining: 1m 2s\n",
      "34:\tlearn: 1662.0085664\ttotal: 8.14s\tremaining: 1m 1s\n",
      "35:\tlearn: 1658.3999533\ttotal: 8.34s\tremaining: 1m 1s\n",
      "36:\tlearn: 1654.0535507\ttotal: 8.57s\tremaining: 1m\n",
      "37:\tlearn: 1652.3400177\ttotal: 8.84s\tremaining: 1m\n",
      "38:\tlearn: 1646.2253123\ttotal: 9.09s\tremaining: 1m\n",
      "39:\tlearn: 1642.6570689\ttotal: 9.35s\tremaining: 1m\n",
      "40:\tlearn: 1639.1344188\ttotal: 9.62s\tremaining: 1m\n",
      "41:\tlearn: 1635.4441964\ttotal: 9.81s\tremaining: 1m\n",
      "42:\tlearn: 1631.4593372\ttotal: 10s\tremaining: 59.8s\n",
      "43:\tlearn: 1627.6172461\ttotal: 10.3s\tremaining: 59.7s\n",
      "44:\tlearn: 1624.1930141\ttotal: 10.5s\tremaining: 59.4s\n",
      "45:\tlearn: 1621.9866809\ttotal: 10.7s\tremaining: 59.1s\n",
      "46:\tlearn: 1619.7250851\ttotal: 10.9s\tremaining: 58.8s\n",
      "47:\tlearn: 1617.6654115\ttotal: 11.1s\tremaining: 58.5s\n",
      "48:\tlearn: 1615.1186306\ttotal: 11.3s\tremaining: 58.1s\n",
      "49:\tlearn: 1612.9392159\ttotal: 11.6s\tremaining: 57.9s\n",
      "50:\tlearn: 1610.8084304\ttotal: 11.8s\tremaining: 57.5s\n",
      "51:\tlearn: 1607.7678580\ttotal: 12s\tremaining: 57.2s\n",
      "52:\tlearn: 1605.7588028\ttotal: 12.2s\tremaining: 57s\n",
      "53:\tlearn: 1604.2011393\ttotal: 12.4s\tremaining: 56.6s\n",
      "54:\tlearn: 1601.7393428\ttotal: 12.6s\tremaining: 56.3s\n",
      "55:\tlearn: 1598.2013705\ttotal: 12.9s\tremaining: 56s\n",
      "56:\tlearn: 1594.7318348\ttotal: 13.1s\tremaining: 55.7s\n",
      "57:\tlearn: 1592.2039874\ttotal: 13.4s\tremaining: 55.7s\n",
      "58:\tlearn: 1589.2447593\ttotal: 13.6s\tremaining: 55.4s\n",
      "59:\tlearn: 1586.9563346\ttotal: 13.8s\tremaining: 55.3s\n",
      "60:\tlearn: 1583.6908485\ttotal: 14.1s\tremaining: 55.1s\n",
      "61:\tlearn: 1582.2441093\ttotal: 14.3s\tremaining: 55.1s\n",
      "62:\tlearn: 1580.1444600\ttotal: 14.5s\tremaining: 54.7s\n",
      "63:\tlearn: 1579.1239499\ttotal: 14.8s\tremaining: 54.5s\n",
      "64:\tlearn: 1578.0467966\ttotal: 15s\tremaining: 54.2s\n",
      "65:\tlearn: 1576.8008221\ttotal: 15.2s\tremaining: 53.9s\n",
      "66:\tlearn: 1575.3271367\ttotal: 15.4s\tremaining: 53.6s\n",
      "67:\tlearn: 1573.4266937\ttotal: 15.7s\tremaining: 53.5s\n",
      "68:\tlearn: 1571.0498575\ttotal: 15.9s\tremaining: 53.3s\n",
      "69:\tlearn: 1569.5227817\ttotal: 16.2s\tremaining: 53.1s\n",
      "70:\tlearn: 1566.7200534\ttotal: 16.4s\tremaining: 52.9s\n",
      "71:\tlearn: 1564.8805048\ttotal: 16.7s\tremaining: 52.8s\n",
      "72:\tlearn: 1562.8245034\ttotal: 16.9s\tremaining: 52.6s\n",
      "73:\tlearn: 1561.3256279\ttotal: 17.1s\tremaining: 52.3s\n",
      "74:\tlearn: 1560.2402441\ttotal: 17.3s\tremaining: 52s\n",
      "75:\tlearn: 1557.8757761\ttotal: 17.5s\tremaining: 51.7s\n",
      "76:\tlearn: 1556.9445307\ttotal: 17.7s\tremaining: 51.4s\n",
      "77:\tlearn: 1555.3909079\ttotal: 18s\tremaining: 51.2s\n",
      "78:\tlearn: 1553.6802623\ttotal: 18.2s\tremaining: 51s\n",
      "79:\tlearn: 1551.0556181\ttotal: 18.4s\tremaining: 50.7s\n",
      "80:\tlearn: 1549.4693868\ttotal: 18.7s\tremaining: 50.4s\n",
      "81:\tlearn: 1547.2338572\ttotal: 18.9s\tremaining: 50.2s\n",
      "82:\tlearn: 1545.6113447\ttotal: 19.1s\tremaining: 50s\n",
      "83:\tlearn: 1544.7632370\ttotal: 19.3s\tremaining: 49.7s\n",
      "84:\tlearn: 1542.2098679\ttotal: 19.6s\tremaining: 49.6s\n",
      "85:\tlearn: 1540.6009604\ttotal: 19.9s\tremaining: 49.4s\n",
      "86:\tlearn: 1539.7605337\ttotal: 20.1s\tremaining: 49.1s\n",
      "87:\tlearn: 1537.9091777\ttotal: 20.3s\tremaining: 48.9s\n",
      "88:\tlearn: 1535.9277863\ttotal: 20.6s\tremaining: 48.8s\n",
      "89:\tlearn: 1535.1427271\ttotal: 20.9s\tremaining: 48.7s\n",
      "90:\tlearn: 1534.3621611\ttotal: 21.1s\tremaining: 48.5s\n",
      "91:\tlearn: 1532.0978189\ttotal: 21.4s\tremaining: 48.3s\n",
      "92:\tlearn: 1531.1162544\ttotal: 21.6s\tremaining: 48.1s\n",
      "93:\tlearn: 1529.3177982\ttotal: 21.9s\tremaining: 47.9s\n",
      "94:\tlearn: 1528.6356298\ttotal: 22.1s\tremaining: 47.7s\n",
      "95:\tlearn: 1527.9598742\ttotal: 22.3s\tremaining: 47.4s\n",
      "96:\tlearn: 1526.7662087\ttotal: 22.5s\tremaining: 47.1s\n",
      "97:\tlearn: 1525.8550938\ttotal: 22.7s\tremaining: 46.9s\n",
      "98:\tlearn: 1524.5707993\ttotal: 22.9s\tremaining: 46.6s\n",
      "99:\tlearn: 1523.4474386\ttotal: 23.2s\tremaining: 46.4s\n",
      "100:\tlearn: 1522.2930003\ttotal: 23.4s\tremaining: 46.1s\n",
      "101:\tlearn: 1521.9097909\ttotal: 23.7s\tremaining: 46s\n",
      "102:\tlearn: 1521.4739912\ttotal: 24s\tremaining: 45.9s\n",
      "103:\tlearn: 1519.6076202\ttotal: 24.2s\tremaining: 45.6s\n",
      "104:\tlearn: 1518.3181785\ttotal: 24.5s\tremaining: 45.5s\n",
      "105:\tlearn: 1517.5188687\ttotal: 24.6s\tremaining: 45.1s\n",
      "106:\tlearn: 1517.2184930\ttotal: 24.8s\tremaining: 44.8s\n",
      "107:\tlearn: 1516.3826142\ttotal: 25.1s\tremaining: 44.6s\n",
      "108:\tlearn: 1515.2303077\ttotal: 25.3s\tremaining: 44.4s\n",
      "109:\tlearn: 1514.7210513\ttotal: 25.6s\tremaining: 44.2s\n",
      "110:\tlearn: 1513.4636243\ttotal: 25.8s\tremaining: 43.9s\n",
      "111:\tlearn: 1512.8541285\ttotal: 26s\tremaining: 43.7s\n",
      "112:\tlearn: 1512.1025913\ttotal: 26.2s\tremaining: 43.4s\n",
      "113:\tlearn: 1510.7654141\ttotal: 26.5s\tremaining: 43.2s\n",
      "114:\tlearn: 1509.9996586\ttotal: 26.7s\tremaining: 42.9s\n",
      "115:\tlearn: 1509.2988828\ttotal: 26.9s\tremaining: 42.6s\n",
      "116:\tlearn: 1508.4075927\ttotal: 27.1s\tremaining: 42.4s\n",
      "117:\tlearn: 1507.6295202\ttotal: 27.4s\tremaining: 42.2s\n",
      "118:\tlearn: 1506.9545995\ttotal: 27.6s\tremaining: 42.1s\n",
      "119:\tlearn: 1506.1735228\ttotal: 27.9s\tremaining: 41.8s\n",
      "120:\tlearn: 1505.0982373\ttotal: 28.1s\tremaining: 41.6s\n",
      "121:\tlearn: 1504.4882916\ttotal: 28.3s\tremaining: 41.3s\n",
      "122:\tlearn: 1502.9007474\ttotal: 28.6s\tremaining: 41.1s\n",
      "123:\tlearn: 1502.4942839\ttotal: 28.9s\tremaining: 41s\n",
      "124:\tlearn: 1500.7108435\ttotal: 29.1s\tremaining: 40.8s\n",
      "125:\tlearn: 1500.1596668\ttotal: 29.4s\tremaining: 40.6s\n",
      "126:\tlearn: 1499.1128171\ttotal: 29.6s\tremaining: 40.3s\n",
      "127:\tlearn: 1498.5588350\ttotal: 29.8s\tremaining: 40.1s\n",
      "128:\tlearn: 1497.6965484\ttotal: 30.1s\tremaining: 39.9s\n",
      "129:\tlearn: 1496.6433669\ttotal: 30.3s\tremaining: 39.6s\n",
      "130:\tlearn: 1496.4806438\ttotal: 30.6s\tremaining: 39.4s\n",
      "131:\tlearn: 1495.1367274\ttotal: 30.8s\tremaining: 39.2s\n",
      "132:\tlearn: 1494.4613406\ttotal: 31.1s\tremaining: 39s\n",
      "133:\tlearn: 1493.9874906\ttotal: 31.3s\tremaining: 38.8s\n",
      "134:\tlearn: 1492.6051298\ttotal: 31.5s\tremaining: 38.5s\n",
      "135:\tlearn: 1491.6904235\ttotal: 31.8s\tremaining: 38.3s\n",
      "136:\tlearn: 1490.8246803\ttotal: 32s\tremaining: 38.1s\n",
      "137:\tlearn: 1489.8942885\ttotal: 32.3s\tremaining: 37.9s\n",
      "138:\tlearn: 1488.7696064\ttotal: 32.5s\tremaining: 37.7s\n",
      "139:\tlearn: 1487.8172786\ttotal: 32.7s\tremaining: 37.4s\n",
      "140:\tlearn: 1487.6244166\ttotal: 33s\tremaining: 37.2s\n",
      "141:\tlearn: 1486.7648748\ttotal: 33.3s\tremaining: 37s\n",
      "142:\tlearn: 1486.4832775\ttotal: 33.5s\tremaining: 36.8s\n",
      "143:\tlearn: 1485.5788039\ttotal: 33.8s\tremaining: 36.6s\n",
      "144:\tlearn: 1485.4109195\ttotal: 34s\tremaining: 36.4s\n",
      "145:\tlearn: 1485.0380579\ttotal: 34.2s\tremaining: 36.1s\n",
      "146:\tlearn: 1484.6415860\ttotal: 34.5s\tremaining: 35.9s\n",
      "147:\tlearn: 1483.4820688\ttotal: 34.8s\tremaining: 35.7s\n",
      "148:\tlearn: 1483.2492751\ttotal: 35s\tremaining: 35.4s\n",
      "149:\tlearn: 1481.8360844\ttotal: 35.2s\tremaining: 35.2s\n",
      "150:\tlearn: 1481.0474022\ttotal: 35.5s\tremaining: 35.1s\n",
      "151:\tlearn: 1479.4383670\ttotal: 35.8s\tremaining: 34.8s\n",
      "152:\tlearn: 1478.7613780\ttotal: 36s\tremaining: 34.6s\n",
      "153:\tlearn: 1478.7445887\ttotal: 36.1s\tremaining: 34.2s\n",
      "154:\tlearn: 1477.5917614\ttotal: 36.3s\tremaining: 34s\n",
      "155:\tlearn: 1476.3464438\ttotal: 36.5s\tremaining: 33.7s\n",
      "156:\tlearn: 1475.8783572\ttotal: 36.8s\tremaining: 33.5s\n",
      "157:\tlearn: 1475.3427888\ttotal: 37s\tremaining: 33.3s\n",
      "158:\tlearn: 1475.1277758\ttotal: 37.3s\tremaining: 33.1s\n",
      "159:\tlearn: 1474.7296838\ttotal: 37.6s\tremaining: 32.9s\n",
      "160:\tlearn: 1474.4473427\ttotal: 37.9s\tremaining: 32.7s\n",
      "161:\tlearn: 1474.4403416\ttotal: 38s\tremaining: 32.3s\n",
      "162:\tlearn: 1474.0981540\ttotal: 38.2s\tremaining: 32.1s\n",
      "163:\tlearn: 1473.7194335\ttotal: 38.5s\tremaining: 31.9s\n",
      "164:\tlearn: 1473.3730609\ttotal: 38.8s\tremaining: 31.7s\n",
      "165:\tlearn: 1472.5534378\ttotal: 39s\tremaining: 31.5s\n",
      "166:\tlearn: 1471.6666608\ttotal: 39.3s\tremaining: 31.3s\n",
      "167:\tlearn: 1471.2643174\ttotal: 39.6s\tremaining: 31.1s\n",
      "168:\tlearn: 1470.5940102\ttotal: 39.8s\tremaining: 30.8s\n",
      "169:\tlearn: 1469.2741007\ttotal: 40s\tremaining: 30.6s\n",
      "170:\tlearn: 1468.4193557\ttotal: 40.2s\tremaining: 30.3s\n",
      "171:\tlearn: 1467.8455821\ttotal: 40.4s\tremaining: 30.1s\n",
      "172:\tlearn: 1467.2306354\ttotal: 40.7s\tremaining: 29.9s\n",
      "173:\tlearn: 1466.6261859\ttotal: 40.9s\tremaining: 29.6s\n",
      "174:\tlearn: 1466.5995985\ttotal: 41.1s\tremaining: 29.3s\n",
      "175:\tlearn: 1466.2110230\ttotal: 41.4s\tremaining: 29.1s\n",
      "176:\tlearn: 1464.3850275\ttotal: 41.6s\tremaining: 28.9s\n",
      "177:\tlearn: 1463.6415838\ttotal: 41.8s\tremaining: 28.6s\n",
      "178:\tlearn: 1462.8183943\ttotal: 42.1s\tremaining: 28.4s\n",
      "179:\tlearn: 1462.0808201\ttotal: 42.4s\tremaining: 28.2s\n",
      "180:\tlearn: 1461.8051128\ttotal: 42.6s\tremaining: 28s\n",
      "181:\tlearn: 1461.4859147\ttotal: 42.8s\tremaining: 27.8s\n",
      "182:\tlearn: 1460.1678626\ttotal: 43s\tremaining: 27.5s\n",
      "183:\tlearn: 1459.7829770\ttotal: 43.2s\tremaining: 27.3s\n",
      "184:\tlearn: 1459.5031358\ttotal: 43.5s\tremaining: 27s\n",
      "185:\tlearn: 1458.1216820\ttotal: 43.7s\tremaining: 26.8s\n",
      "186:\tlearn: 1457.6413668\ttotal: 44s\tremaining: 26.6s\n",
      "187:\tlearn: 1457.1337487\ttotal: 44.3s\tremaining: 26.4s\n",
      "188:\tlearn: 1456.7641091\ttotal: 44.5s\tremaining: 26.1s\n",
      "189:\tlearn: 1456.0468459\ttotal: 44.8s\tremaining: 25.9s\n",
      "190:\tlearn: 1454.9860722\ttotal: 45s\tremaining: 25.7s\n",
      "191:\tlearn: 1454.2281039\ttotal: 45.2s\tremaining: 25.5s\n",
      "192:\tlearn: 1453.7459031\ttotal: 45.5s\tremaining: 25.2s\n",
      "193:\tlearn: 1453.1075442\ttotal: 45.7s\tremaining: 25s\n",
      "194:\tlearn: 1452.0682899\ttotal: 46s\tremaining: 24.8s\n",
      "195:\tlearn: 1451.5161730\ttotal: 46.2s\tremaining: 24.5s\n",
      "196:\tlearn: 1450.9006460\ttotal: 46.5s\tremaining: 24.3s\n",
      "197:\tlearn: 1450.5698719\ttotal: 46.7s\tremaining: 24.1s\n",
      "198:\tlearn: 1450.2553930\ttotal: 47s\tremaining: 23.8s\n",
      "199:\tlearn: 1448.4977079\ttotal: 47.2s\tremaining: 23.6s\n",
      "200:\tlearn: 1446.5813509\ttotal: 47.4s\tremaining: 23.4s\n",
      "201:\tlearn: 1446.2988891\ttotal: 47.7s\tremaining: 23.1s\n",
      "202:\tlearn: 1445.3482175\ttotal: 47.9s\tremaining: 22.9s\n",
      "203:\tlearn: 1443.4911820\ttotal: 48.2s\tremaining: 22.7s\n",
      "204:\tlearn: 1442.8673810\ttotal: 48.4s\tremaining: 22.4s\n",
      "205:\tlearn: 1441.8918368\ttotal: 48.6s\tremaining: 22.2s\n",
      "206:\tlearn: 1441.1843934\ttotal: 48.9s\tremaining: 22s\n",
      "207:\tlearn: 1440.6588834\ttotal: 49.1s\tremaining: 21.7s\n",
      "208:\tlearn: 1440.1263375\ttotal: 49.4s\tremaining: 21.5s\n",
      "209:\tlearn: 1439.3512828\ttotal: 49.6s\tremaining: 21.3s\n",
      "210:\tlearn: 1438.5539789\ttotal: 49.8s\tremaining: 21s\n",
      "211:\tlearn: 1437.4976618\ttotal: 50s\tremaining: 20.8s\n",
      "212:\tlearn: 1437.2796941\ttotal: 50.3s\tremaining: 20.6s\n",
      "213:\tlearn: 1436.6185630\ttotal: 50.5s\tremaining: 20.3s\n",
      "214:\tlearn: 1435.9773751\ttotal: 50.8s\tremaining: 20.1s\n",
      "215:\tlearn: 1434.9218944\ttotal: 51s\tremaining: 19.8s\n",
      "216:\tlearn: 1434.4053961\ttotal: 51.2s\tremaining: 19.6s\n",
      "217:\tlearn: 1433.5756444\ttotal: 51.4s\tremaining: 19.3s\n",
      "218:\tlearn: 1433.1042899\ttotal: 51.6s\tremaining: 19.1s\n",
      "219:\tlearn: 1432.5956886\ttotal: 51.9s\tremaining: 18.9s\n",
      "220:\tlearn: 1432.5230272\ttotal: 52.2s\tremaining: 18.7s\n",
      "221:\tlearn: 1432.0769920\ttotal: 52.5s\tremaining: 18.4s\n",
      "222:\tlearn: 1431.6808761\ttotal: 52.7s\tremaining: 18.2s\n",
      "223:\tlearn: 1431.1191662\ttotal: 52.9s\tremaining: 18s\n",
      "224:\tlearn: 1430.4119826\ttotal: 53.1s\tremaining: 17.7s\n",
      "225:\tlearn: 1429.9349040\ttotal: 53.3s\tremaining: 17.5s\n",
      "226:\tlearn: 1429.2916203\ttotal: 53.6s\tremaining: 17.2s\n",
      "227:\tlearn: 1428.8508325\ttotal: 53.8s\tremaining: 17s\n",
      "228:\tlearn: 1428.2531446\ttotal: 54s\tremaining: 16.8s\n",
      "229:\tlearn: 1427.6687823\ttotal: 54.3s\tremaining: 16.5s\n",
      "230:\tlearn: 1427.0430638\ttotal: 54.5s\tremaining: 16.3s\n",
      "231:\tlearn: 1426.4885056\ttotal: 54.8s\tremaining: 16.1s\n",
      "232:\tlearn: 1425.7220157\ttotal: 55.1s\tremaining: 15.8s\n",
      "233:\tlearn: 1424.3981548\ttotal: 55.3s\tremaining: 15.6s\n",
      "234:\tlearn: 1424.1811492\ttotal: 55.5s\tremaining: 15.4s\n",
      "235:\tlearn: 1423.7383244\ttotal: 55.9s\tremaining: 15.1s\n",
      "236:\tlearn: 1423.5338709\ttotal: 56.1s\tremaining: 14.9s\n",
      "237:\tlearn: 1423.2330931\ttotal: 56.3s\tremaining: 14.7s\n",
      "238:\tlearn: 1422.7378278\ttotal: 56.6s\tremaining: 14.4s\n",
      "239:\tlearn: 1421.9187274\ttotal: 56.8s\tremaining: 14.2s\n",
      "240:\tlearn: 1421.3138109\ttotal: 57.1s\tremaining: 14s\n",
      "241:\tlearn: 1420.5644246\ttotal: 57.3s\tremaining: 13.7s\n",
      "242:\tlearn: 1420.2642094\ttotal: 57.5s\tremaining: 13.5s\n",
      "243:\tlearn: 1419.8487835\ttotal: 57.8s\tremaining: 13.3s\n",
      "244:\tlearn: 1418.6744409\ttotal: 58.1s\tremaining: 13s\n",
      "245:\tlearn: 1417.4062846\ttotal: 58.3s\tremaining: 12.8s\n",
      "246:\tlearn: 1417.1096166\ttotal: 58.5s\tremaining: 12.6s\n",
      "247:\tlearn: 1416.4076487\ttotal: 58.7s\tremaining: 12.3s\n",
      "248:\tlearn: 1416.2044542\ttotal: 59s\tremaining: 12.1s\n",
      "249:\tlearn: 1415.9777996\ttotal: 59.2s\tremaining: 11.8s\n",
      "250:\tlearn: 1415.7932291\ttotal: 59.4s\tremaining: 11.6s\n",
      "251:\tlearn: 1415.4762571\ttotal: 59.8s\tremaining: 11.4s\n",
      "252:\tlearn: 1415.2387930\ttotal: 1m\tremaining: 11.2s\n",
      "253:\tlearn: 1414.6326609\ttotal: 1m\tremaining: 10.9s\n",
      "254:\tlearn: 1414.2671289\ttotal: 1m\tremaining: 10.7s\n",
      "255:\tlearn: 1413.7607145\ttotal: 1m\tremaining: 10.5s\n",
      "256:\tlearn: 1412.8126064\ttotal: 1m 1s\tremaining: 10.2s\n",
      "257:\tlearn: 1412.1109056\ttotal: 1m 1s\tremaining: 10s\n",
      "258:\tlearn: 1411.7489546\ttotal: 1m 1s\tremaining: 9.78s\n",
      "259:\tlearn: 1411.2539113\ttotal: 1m 2s\tremaining: 9.54s\n",
      "260:\tlearn: 1410.9165086\ttotal: 1m 2s\tremaining: 9.3s\n",
      "261:\tlearn: 1410.5671804\ttotal: 1m 2s\tremaining: 9.07s\n",
      "262:\tlearn: 1410.4480333\ttotal: 1m 2s\tremaining: 8.84s\n",
      "263:\tlearn: 1410.2534623\ttotal: 1m 3s\tremaining: 8.61s\n",
      "264:\tlearn: 1409.7184912\ttotal: 1m 3s\tremaining: 8.37s\n",
      "265:\tlearn: 1409.6407642\ttotal: 1m 3s\tremaining: 8.14s\n",
      "266:\tlearn: 1409.4144577\ttotal: 1m 3s\tremaining: 7.9s\n",
      "267:\tlearn: 1409.2149951\ttotal: 1m 4s\tremaining: 7.66s\n",
      "268:\tlearn: 1408.7311125\ttotal: 1m 4s\tremaining: 7.42s\n",
      "269:\tlearn: 1408.2982496\ttotal: 1m 4s\tremaining: 7.19s\n",
      "270:\tlearn: 1408.1003854\ttotal: 1m 4s\tremaining: 6.95s\n",
      "271:\tlearn: 1407.3620536\ttotal: 1m 5s\tremaining: 6.71s\n",
      "272:\tlearn: 1407.1064327\ttotal: 1m 5s\tremaining: 6.48s\n",
      "273:\tlearn: 1406.1079245\ttotal: 1m 5s\tremaining: 6.24s\n",
      "274:\tlearn: 1405.8496797\ttotal: 1m 5s\tremaining: 6s\n",
      "275:\tlearn: 1405.4559939\ttotal: 1m 6s\tremaining: 5.76s\n",
      "276:\tlearn: 1404.6741160\ttotal: 1m 6s\tremaining: 5.52s\n",
      "277:\tlearn: 1404.2951721\ttotal: 1m 6s\tremaining: 5.28s\n",
      "278:\tlearn: 1403.8700225\ttotal: 1m 7s\tremaining: 5.05s\n",
      "279:\tlearn: 1402.8444849\ttotal: 1m 7s\tremaining: 4.81s\n",
      "280:\tlearn: 1402.3875974\ttotal: 1m 7s\tremaining: 4.57s\n",
      "281:\tlearn: 1402.0024335\ttotal: 1m 7s\tremaining: 4.33s\n",
      "282:\tlearn: 1401.6187447\ttotal: 1m 8s\tremaining: 4.09s\n",
      "283:\tlearn: 1401.3103190\ttotal: 1m 8s\tremaining: 3.85s\n",
      "284:\tlearn: 1401.1085891\ttotal: 1m 8s\tremaining: 3.61s\n",
      "285:\tlearn: 1400.9423407\ttotal: 1m 8s\tremaining: 3.37s\n",
      "286:\tlearn: 1400.5669076\ttotal: 1m 9s\tremaining: 3.13s\n",
      "287:\tlearn: 1400.4483315\ttotal: 1m 9s\tremaining: 2.89s\n",
      "288:\tlearn: 1400.1803814\ttotal: 1m 9s\tremaining: 2.65s\n",
      "289:\tlearn: 1399.8672208\ttotal: 1m 10s\tremaining: 2.42s\n",
      "290:\tlearn: 1398.8425160\ttotal: 1m 10s\tremaining: 2.17s\n",
      "291:\tlearn: 1398.6071601\ttotal: 1m 10s\tremaining: 1.93s\n",
      "292:\tlearn: 1398.1993705\ttotal: 1m 10s\tremaining: 1.69s\n",
      "293:\tlearn: 1397.9436611\ttotal: 1m 10s\tremaining: 1.45s\n",
      "294:\tlearn: 1397.3164463\ttotal: 1m 11s\tremaining: 1.21s\n",
      "295:\tlearn: 1396.3683171\ttotal: 1m 11s\tremaining: 965ms\n",
      "296:\tlearn: 1396.2282400\ttotal: 1m 11s\tremaining: 724ms\n",
      "297:\tlearn: 1396.0571546\ttotal: 1m 11s\tremaining: 483ms\n",
      "298:\tlearn: 1395.5580246\ttotal: 1m 12s\tremaining: 242ms\n",
      "299:\tlearn: 1395.0195802\ttotal: 1m 12s\tremaining: 0us\n"
     ]
    }
   ],
   "source": [
    "get_results(RFR.best_estimator_)\n",
    "get_results(CBR.best_estimator_)\n",
    "get_results(LGBMR.best_estimator_)"
   ]
  },
  {
   "cell_type": "code",
   "execution_count": 40,
   "metadata": {},
   "outputs": [
    {
     "name": "stdout",
     "output_type": "stream",
     "text": [
      "Показатели на тестовой выборке\n"
     ]
    },
    {
     "data": {
      "text/html": [
       "<div>\n",
       "<style scoped>\n",
       "    .dataframe tbody tr th:only-of-type {\n",
       "        vertical-align: middle;\n",
       "    }\n",
       "\n",
       "    .dataframe tbody tr th {\n",
       "        vertical-align: top;\n",
       "    }\n",
       "\n",
       "    .dataframe thead th {\n",
       "        text-align: right;\n",
       "    }\n",
       "</style>\n",
       "<table border=\"1\" class=\"dataframe\">\n",
       "  <thead>\n",
       "    <tr style=\"text-align: right;\">\n",
       "      <th></th>\n",
       "      <th>RMSE</th>\n",
       "      <th>Training Time</th>\n",
       "      <th>Prediction Time</th>\n",
       "    </tr>\n",
       "  </thead>\n",
       "  <tbody>\n",
       "    <tr>\n",
       "      <th>RandomForestRegressor</th>\n",
       "      <td>1656.381146</td>\n",
       "      <td>12.05</td>\n",
       "      <td>0.69</td>\n",
       "    </tr>\n",
       "    <tr>\n",
       "      <th>CatBoostRegressor</th>\n",
       "      <td>1586.971705</td>\n",
       "      <td>73.24</td>\n",
       "      <td>0.32</td>\n",
       "    </tr>\n",
       "    <tr>\n",
       "      <th>LGBMRegressor</th>\n",
       "      <td>1648.549300</td>\n",
       "      <td>3.08</td>\n",
       "      <td>0.50</td>\n",
       "    </tr>\n",
       "  </tbody>\n",
       "</table>\n",
       "</div>"
      ],
      "text/plain": [
       "                              RMSE  Training Time  Prediction Time\n",
       "RandomForestRegressor  1656.381146          12.05             0.69\n",
       "CatBoostRegressor      1586.971705          73.24             0.32\n",
       "LGBMRegressor          1648.549300           3.08             0.50"
      ]
     },
     "execution_count": 40,
     "metadata": {},
     "output_type": "execute_result"
    }
   ],
   "source": [
    "print('Показатели на тестовой выборке')\n",
    "pd.DataFrame(data={'RMSE':rmse,\n",
    "                   'Training Time':training_time,\n",
    "                   'Prediction Time':prediction_time,},\n",
    "                    index=models)"
   ]
  },
  {
   "cell_type": "markdown",
   "metadata": {},
   "source": [
    "Переобучения не выявлено.  \n",
    "Результаты кросс-валидации и на тестовой выборке получились практически идентичными, что позволяет нам сделать выводы."
   ]
  },
  {
   "cell_type": "markdown",
   "metadata": {},
   "source": [
    "## Вывод"
   ]
  },
  {
   "cell_type": "markdown",
   "metadata": {},
   "source": [
    "В результате работы мы построили несколько моделей для предсказания стоимости автомобилей.\n",
    "1. Загружены данные и проведена предобработка.\n",
    "2. Выполнено сравнение моделей с использованием различных наборов гиперпараметров.\n",
    "3. Выбрана лучшая модель по результатам метрики RMSE и времени обучения.\n",
    "\n",
    "\n",
    "Были использованы:\n",
    "+ пайплайн OrdinalEncoder + RandomForestRegressor\n",
    "+ CatBoostRegressor\n",
    "+ LightGBMRegressor\n",
    "\n",
    "\n",
    "Наивысшие показатели по качеству и скорости предсказаний продемонстрировал **CatBoostRegressor** с RMSE=1626, временем обучения в 77 секунд и временем предсказания в 0.36 секунды.  \n",
    "LGBMRegressor выигрывает лишь по скорости обучения."
   ]
  }
 ],
 "metadata": {
  "ExecuteTimeLog": [
   {
    "duration": 1639,
    "start_time": "2023-02-16T16:53:31.369Z"
   },
   {
    "duration": 1162,
    "start_time": "2023-02-16T16:53:33.586Z"
   },
   {
    "duration": 124,
    "start_time": "2023-02-16T16:53:36.593Z"
   },
   {
    "duration": 107,
    "start_time": "2023-02-16T16:54:28.879Z"
   },
   {
    "duration": 104,
    "start_time": "2023-02-16T16:54:36.548Z"
   },
   {
    "duration": 3,
    "start_time": "2023-02-16T17:01:33.605Z"
   },
   {
    "duration": 825,
    "start_time": "2023-02-16T17:01:34.528Z"
   },
   {
    "duration": 4,
    "start_time": "2023-02-16T17:01:36.457Z"
   },
   {
    "duration": 110,
    "start_time": "2023-02-16T17:01:37.825Z"
   },
   {
    "duration": 116,
    "start_time": "2023-02-16T17:01:39.560Z"
   },
   {
    "duration": 113,
    "start_time": "2023-02-16T17:07:19.445Z"
   },
   {
    "duration": 486,
    "start_time": "2023-02-16T17:07:24.753Z"
   },
   {
    "duration": 570,
    "start_time": "2023-02-16T17:07:41.368Z"
   },
   {
    "duration": 502,
    "start_time": "2023-02-16T17:07:49.627Z"
   },
   {
    "duration": 1679,
    "start_time": "2023-02-17T14:29:50.232Z"
   },
   {
    "duration": 2527,
    "start_time": "2023-02-17T14:29:51.913Z"
   },
   {
    "duration": 3,
    "start_time": "2023-02-17T14:29:57.562Z"
   },
   {
    "duration": 112,
    "start_time": "2023-02-17T14:30:01.335Z"
   },
   {
    "duration": 3,
    "start_time": "2023-02-17T14:30:31.581Z"
   },
   {
    "duration": 1180,
    "start_time": "2023-02-17T14:30:34.206Z"
   },
   {
    "duration": 3,
    "start_time": "2023-02-17T14:30:37.376Z"
   },
   {
    "duration": 5,
    "start_time": "2023-02-17T14:30:39.243Z"
   },
   {
    "duration": 74,
    "start_time": "2023-02-17T14:31:54.422Z"
   },
   {
    "duration": 77,
    "start_time": "2023-02-17T14:32:01.994Z"
   },
   {
    "duration": 93,
    "start_time": "2023-02-17T14:32:10.040Z"
   },
   {
    "duration": 9,
    "start_time": "2023-02-17T14:32:14.445Z"
   },
   {
    "duration": 5,
    "start_time": "2023-02-17T14:32:23.629Z"
   },
   {
    "duration": 8,
    "start_time": "2023-02-17T14:33:31.396Z"
   },
   {
    "duration": 242,
    "start_time": "2023-02-17T14:37:03.621Z"
   },
   {
    "duration": 569,
    "start_time": "2023-02-17T14:37:35.722Z"
   },
   {
    "duration": 43,
    "start_time": "2023-02-17T14:39:01.082Z"
   },
   {
    "duration": 99,
    "start_time": "2023-02-17T14:39:09.681Z"
   },
   {
    "duration": 181,
    "start_time": "2023-02-17T14:39:17.900Z"
   },
   {
    "duration": 1404,
    "start_time": "2023-02-17T14:39:31.405Z"
   },
   {
    "duration": 1210,
    "start_time": "2023-02-17T14:39:32.811Z"
   },
   {
    "duration": 3,
    "start_time": "2023-02-17T14:39:34.023Z"
   },
   {
    "duration": 31,
    "start_time": "2023-02-17T14:39:34.028Z"
   },
   {
    "duration": 124,
    "start_time": "2023-02-17T14:39:34.061Z"
   },
   {
    "duration": 233,
    "start_time": "2023-02-17T14:39:34.187Z"
   },
   {
    "duration": 239,
    "start_time": "2023-02-17T14:39:34.421Z"
   },
   {
    "duration": 385,
    "start_time": "2023-02-17T14:43:40.820Z"
   },
   {
    "duration": 444,
    "start_time": "2023-02-17T14:43:46.233Z"
   },
   {
    "duration": 525,
    "start_time": "2023-02-17T14:44:36.892Z"
   },
   {
    "duration": 10,
    "start_time": "2023-02-17T14:48:23.704Z"
   },
   {
    "duration": 119,
    "start_time": "2023-02-17T14:48:30.885Z"
   },
   {
    "duration": 9,
    "start_time": "2023-02-17T14:48:36.109Z"
   },
   {
    "duration": 9,
    "start_time": "2023-02-17T14:48:47.405Z"
   },
   {
    "duration": 56,
    "start_time": "2023-02-17T14:51:06.104Z"
   },
   {
    "duration": 13,
    "start_time": "2023-02-17T14:52:15.501Z"
   },
   {
    "duration": 71,
    "start_time": "2023-02-17T14:52:21.392Z"
   },
   {
    "duration": 5,
    "start_time": "2023-02-17T14:52:33.029Z"
   },
   {
    "duration": 31,
    "start_time": "2023-02-17T14:52:47.693Z"
   },
   {
    "duration": 30,
    "start_time": "2023-02-17T14:54:03.291Z"
   },
   {
    "duration": 65,
    "start_time": "2023-02-17T14:54:08.642Z"
   },
   {
    "duration": 1422,
    "start_time": "2023-02-17T14:55:02.654Z"
   },
   {
    "duration": 1305,
    "start_time": "2023-02-17T14:55:04.078Z"
   },
   {
    "duration": 4,
    "start_time": "2023-02-17T14:55:05.385Z"
   },
   {
    "duration": 36,
    "start_time": "2023-02-17T14:55:05.391Z"
   },
   {
    "duration": 88,
    "start_time": "2023-02-17T14:55:05.429Z"
   },
   {
    "duration": 60,
    "start_time": "2023-02-17T14:55:05.519Z"
   },
   {
    "duration": 79,
    "start_time": "2023-02-17T14:55:05.581Z"
   },
   {
    "duration": 62,
    "start_time": "2023-02-17T14:55:05.661Z"
   },
   {
    "duration": 495,
    "start_time": "2023-02-17T14:55:05.725Z"
   },
   {
    "duration": 12,
    "start_time": "2023-02-17T14:55:06.222Z"
   },
   {
    "duration": 193,
    "start_time": "2023-02-17T14:55:06.236Z"
   },
   {
    "duration": 227,
    "start_time": "2023-02-17T14:55:06.431Z"
   },
   {
    "duration": 105,
    "start_time": "2023-02-17T14:58:30.665Z"
   },
   {
    "duration": 22,
    "start_time": "2023-02-17T14:58:49.106Z"
   },
   {
    "duration": 162,
    "start_time": "2023-02-17T15:00:59.960Z"
   },
   {
    "duration": 317,
    "start_time": "2023-02-17T15:01:04.202Z"
   },
   {
    "duration": 286,
    "start_time": "2023-02-17T15:02:07.621Z"
   },
   {
    "duration": 1245,
    "start_time": "2023-02-17T15:02:17.715Z"
   },
   {
    "duration": 11,
    "start_time": "2023-02-17T15:02:24.909Z"
   },
   {
    "duration": 7,
    "start_time": "2023-02-17T15:02:41.765Z"
   },
   {
    "duration": 23,
    "start_time": "2023-02-17T15:04:21.008Z"
   },
   {
    "duration": 16,
    "start_time": "2023-02-17T15:07:08.988Z"
   },
   {
    "duration": 1410,
    "start_time": "2023-02-17T15:08:59.522Z"
   },
   {
    "duration": 9,
    "start_time": "2023-02-17T15:09:03.565Z"
   },
   {
    "duration": 62,
    "start_time": "2023-02-17T15:09:07.435Z"
   },
   {
    "duration": 48,
    "start_time": "2023-02-17T15:09:11.505Z"
   },
   {
    "duration": 39,
    "start_time": "2023-02-17T15:09:51.175Z"
   },
   {
    "duration": 1529,
    "start_time": "2023-02-17T15:10:06.143Z"
   },
   {
    "duration": 1745,
    "start_time": "2023-02-17T15:10:07.675Z"
   },
   {
    "duration": 3,
    "start_time": "2023-02-17T15:10:09.421Z"
   },
   {
    "duration": 37,
    "start_time": "2023-02-17T15:10:09.426Z"
   },
   {
    "duration": 99,
    "start_time": "2023-02-17T15:10:09.465Z"
   },
   {
    "duration": 46,
    "start_time": "2023-02-17T15:10:09.566Z"
   },
   {
    "duration": 89,
    "start_time": "2023-02-17T15:10:09.614Z"
   },
   {
    "duration": 51,
    "start_time": "2023-02-17T15:10:09.705Z"
   },
   {
    "duration": 509,
    "start_time": "2023-02-17T15:10:09.757Z"
   },
   {
    "duration": 10,
    "start_time": "2023-02-17T15:10:10.269Z"
   },
   {
    "duration": 373,
    "start_time": "2023-02-17T15:10:10.280Z"
   },
   {
    "duration": 8,
    "start_time": "2023-02-17T15:10:10.655Z"
   },
   {
    "duration": 40,
    "start_time": "2023-02-17T15:10:10.665Z"
   },
   {
    "duration": 11,
    "start_time": "2023-02-17T15:10:10.707Z"
   },
   {
    "duration": 31,
    "start_time": "2023-02-17T15:10:10.720Z"
   },
   {
    "duration": 196,
    "start_time": "2023-02-17T15:10:10.753Z"
   },
   {
    "duration": 204,
    "start_time": "2023-02-17T15:10:10.950Z"
   },
   {
    "duration": 70,
    "start_time": "2023-02-17T15:11:05.379Z"
   },
   {
    "duration": 11,
    "start_time": "2023-02-17T15:11:24.759Z"
   },
   {
    "duration": 250,
    "start_time": "2023-02-17T15:11:38.422Z"
   },
   {
    "duration": 255,
    "start_time": "2023-02-17T15:11:40.658Z"
   },
   {
    "duration": 178,
    "start_time": "2023-02-17T15:11:44.713Z"
   },
   {
    "duration": 142,
    "start_time": "2023-02-17T15:11:49.823Z"
   },
   {
    "duration": 8,
    "start_time": "2023-02-17T15:13:11.658Z"
   },
   {
    "duration": 6,
    "start_time": "2023-02-17T15:13:28.186Z"
   },
   {
    "duration": 9,
    "start_time": "2023-02-17T15:13:31.357Z"
   },
   {
    "duration": 9,
    "start_time": "2023-02-17T15:14:33.935Z"
   },
   {
    "duration": 10,
    "start_time": "2023-02-17T15:14:42.896Z"
   },
   {
    "duration": 8,
    "start_time": "2023-02-17T15:15:10.840Z"
   },
   {
    "duration": 35,
    "start_time": "2023-02-17T15:15:23.447Z"
   },
   {
    "duration": 10,
    "start_time": "2023-02-17T15:16:21.656Z"
   },
   {
    "duration": 141,
    "start_time": "2023-02-17T15:16:46.236Z"
   },
   {
    "duration": 150,
    "start_time": "2023-02-17T15:17:00.946Z"
   },
   {
    "duration": 144,
    "start_time": "2023-02-17T15:17:54.971Z"
   },
   {
    "duration": 244,
    "start_time": "2023-02-17T15:18:01.582Z"
   },
   {
    "duration": 350,
    "start_time": "2023-02-17T15:18:56.068Z"
   },
   {
    "duration": 372,
    "start_time": "2023-02-17T15:19:02.833Z"
   },
   {
    "duration": 482,
    "start_time": "2023-02-17T15:19:11.168Z"
   },
   {
    "duration": 196,
    "start_time": "2023-02-17T15:19:57.200Z"
   },
   {
    "duration": 186,
    "start_time": "2023-02-17T15:20:05.212Z"
   },
   {
    "duration": 185,
    "start_time": "2023-02-17T15:20:08.505Z"
   },
   {
    "duration": 85,
    "start_time": "2023-02-17T15:20:36.166Z"
   },
   {
    "duration": 28,
    "start_time": "2023-02-17T15:22:05.718Z"
   },
   {
    "duration": 46,
    "start_time": "2023-02-17T15:27:43.672Z"
   },
   {
    "duration": 189,
    "start_time": "2023-02-17T15:28:15.928Z"
   },
   {
    "duration": 37,
    "start_time": "2023-02-17T15:28:56.524Z"
   },
   {
    "duration": 13,
    "start_time": "2023-02-17T17:17:01.087Z"
   },
   {
    "duration": 50,
    "start_time": "2023-02-17T17:17:13.031Z"
   },
   {
    "duration": 315,
    "start_time": "2023-02-17T17:17:22.990Z"
   },
   {
    "duration": 83,
    "start_time": "2023-02-17T17:21:05.217Z"
   },
   {
    "duration": 71,
    "start_time": "2023-02-17T17:21:17.648Z"
   },
   {
    "duration": 69,
    "start_time": "2023-02-17T17:21:25.105Z"
   },
   {
    "duration": 95,
    "start_time": "2023-02-17T17:23:10.420Z"
   },
   {
    "duration": 142,
    "start_time": "2023-02-17T17:23:18.380Z"
   },
   {
    "duration": 137,
    "start_time": "2023-02-17T17:23:28.748Z"
   },
   {
    "duration": 135,
    "start_time": "2023-02-17T17:23:31.695Z"
   },
   {
    "duration": 162,
    "start_time": "2023-02-17T17:23:34.706Z"
   },
   {
    "duration": 12,
    "start_time": "2023-02-17T17:24:24.574Z"
   },
   {
    "duration": 3,
    "start_time": "2023-02-17T17:35:44.384Z"
   },
   {
    "duration": 53,
    "start_time": "2023-02-17T17:37:12.376Z"
   },
   {
    "duration": 53,
    "start_time": "2023-02-17T17:38:18.531Z"
   },
   {
    "duration": 37,
    "start_time": "2023-02-17T17:38:31.158Z"
   },
   {
    "duration": 1532,
    "start_time": "2023-02-17T17:38:40.295Z"
   },
   {
    "duration": 2020,
    "start_time": "2023-02-17T17:38:41.829Z"
   },
   {
    "duration": 4,
    "start_time": "2023-02-17T17:38:43.850Z"
   },
   {
    "duration": 30,
    "start_time": "2023-02-17T17:38:43.855Z"
   },
   {
    "duration": 85,
    "start_time": "2023-02-17T17:38:43.886Z"
   },
   {
    "duration": 49,
    "start_time": "2023-02-17T17:38:43.973Z"
   },
   {
    "duration": 82,
    "start_time": "2023-02-17T17:38:44.024Z"
   },
   {
    "duration": 72,
    "start_time": "2023-02-17T17:38:44.109Z"
   },
   {
    "duration": 566,
    "start_time": "2023-02-17T17:38:44.184Z"
   },
   {
    "duration": 10,
    "start_time": "2023-02-17T17:38:44.753Z"
   },
   {
    "duration": 361,
    "start_time": "2023-02-17T17:38:44.765Z"
   },
   {
    "duration": 10,
    "start_time": "2023-02-17T17:38:45.127Z"
   },
   {
    "duration": 31,
    "start_time": "2023-02-17T17:38:45.138Z"
   },
   {
    "duration": 33,
    "start_time": "2023-02-17T17:38:45.171Z"
   },
   {
    "duration": 33,
    "start_time": "2023-02-17T17:38:45.206Z"
   },
   {
    "duration": 10,
    "start_time": "2023-02-17T17:38:45.241Z"
   },
   {
    "duration": 54,
    "start_time": "2023-02-17T17:38:45.253Z"
   },
   {
    "duration": 162,
    "start_time": "2023-02-17T17:38:45.308Z"
   },
   {
    "duration": 542,
    "start_time": "2023-02-17T17:38:45.472Z"
   },
   {
    "duration": 66,
    "start_time": "2023-02-17T17:38:46.016Z"
   },
   {
    "duration": 49,
    "start_time": "2023-02-17T17:38:46.083Z"
   },
   {
    "duration": 76,
    "start_time": "2023-02-17T17:38:46.134Z"
   },
   {
    "duration": 151,
    "start_time": "2023-02-17T17:38:46.212Z"
   },
   {
    "duration": 129,
    "start_time": "2023-02-17T17:38:46.365Z"
   },
   {
    "duration": 137,
    "start_time": "2023-02-17T17:38:46.496Z"
   },
   {
    "duration": 12,
    "start_time": "2023-02-17T17:38:46.635Z"
   },
   {
    "duration": 178,
    "start_time": "2023-02-17T17:38:46.649Z"
   },
   {
    "duration": 0,
    "start_time": "2023-02-17T17:38:46.829Z"
   },
   {
    "duration": 58,
    "start_time": "2023-02-17T17:38:58.339Z"
   },
   {
    "duration": 2556,
    "start_time": "2023-02-17T17:39:35.549Z"
   },
   {
    "duration": 66245,
    "start_time": "2023-02-17T17:40:12.725Z"
   },
   {
    "duration": 111594,
    "start_time": "2023-02-17T17:41:32.538Z"
   },
   {
    "duration": 6,
    "start_time": "2023-02-17T17:43:41.203Z"
   },
   {
    "duration": 1657,
    "start_time": "2023-02-19T09:20:22.237Z"
   },
   {
    "duration": 1159,
    "start_time": "2023-02-19T09:20:23.896Z"
   },
   {
    "duration": 138,
    "start_time": "2023-02-19T09:20:25.057Z"
   },
   {
    "duration": 3,
    "start_time": "2023-02-19T09:20:25.197Z"
   },
   {
    "duration": 29,
    "start_time": "2023-02-19T09:20:25.203Z"
   },
   {
    "duration": 102,
    "start_time": "2023-02-19T09:20:25.234Z"
   },
   {
    "duration": 45,
    "start_time": "2023-02-19T09:20:25.338Z"
   },
   {
    "duration": 103,
    "start_time": "2023-02-19T09:20:25.385Z"
   },
   {
    "duration": 65,
    "start_time": "2023-02-19T09:20:25.490Z"
   },
   {
    "duration": 512,
    "start_time": "2023-02-19T09:20:25.557Z"
   },
   {
    "duration": 10,
    "start_time": "2023-02-19T09:20:26.071Z"
   },
   {
    "duration": 334,
    "start_time": "2023-02-19T09:20:26.082Z"
   },
   {
    "duration": 14,
    "start_time": "2023-02-19T09:20:26.418Z"
   },
   {
    "duration": 46,
    "start_time": "2023-02-19T09:20:26.433Z"
   },
   {
    "duration": 10,
    "start_time": "2023-02-19T09:20:26.482Z"
   },
   {
    "duration": 54,
    "start_time": "2023-02-19T09:20:26.494Z"
   },
   {
    "duration": 10,
    "start_time": "2023-02-19T09:20:26.551Z"
   },
   {
    "duration": 25,
    "start_time": "2023-02-19T09:20:26.564Z"
   },
   {
    "duration": 212,
    "start_time": "2023-02-19T09:20:26.592Z"
   },
   {
    "duration": 512,
    "start_time": "2023-02-19T09:20:26.805Z"
   },
   {
    "duration": 81,
    "start_time": "2023-02-19T09:20:27.319Z"
   },
   {
    "duration": 50,
    "start_time": "2023-02-19T09:20:27.402Z"
   },
   {
    "duration": 70,
    "start_time": "2023-02-19T09:20:27.454Z"
   },
   {
    "duration": 173,
    "start_time": "2023-02-19T09:20:27.526Z"
   },
   {
    "duration": 127,
    "start_time": "2023-02-19T09:20:27.701Z"
   },
   {
    "duration": 141,
    "start_time": "2023-02-19T09:20:27.829Z"
   },
   {
    "duration": 11,
    "start_time": "2023-02-19T09:20:27.972Z"
   },
   {
    "duration": 72,
    "start_time": "2023-02-19T09:20:27.987Z"
   },
   {
    "duration": 117,
    "start_time": "2023-02-19T09:20:28.061Z"
   },
   {
    "duration": 0,
    "start_time": "2023-02-19T09:20:28.181Z"
   },
   {
    "duration": 0,
    "start_time": "2023-02-19T09:20:28.182Z"
   },
   {
    "duration": 11,
    "start_time": "2023-02-19T09:20:59.558Z"
   },
   {
    "duration": 4,
    "start_time": "2023-02-19T09:21:07.732Z"
   },
   {
    "duration": 52,
    "start_time": "2023-02-19T09:21:11.379Z"
   },
   {
    "duration": 206367,
    "start_time": "2023-02-19T09:21:38.998Z"
   },
   {
    "duration": 5,
    "start_time": "2023-02-19T09:25:07.157Z"
   },
   {
    "duration": 2771482,
    "start_time": "2023-02-19T09:25:10.196Z"
   },
   {
    "duration": 9,
    "start_time": "2023-02-19T10:11:21.680Z"
   },
   {
    "duration": 4,
    "start_time": "2023-02-19T10:11:48.558Z"
   },
   {
    "duration": 43555,
    "start_time": "2023-02-19T10:11:50.085Z"
   },
   {
    "duration": 8,
    "start_time": "2023-02-19T10:12:33.642Z"
   },
   {
    "duration": 173387,
    "start_time": "2023-02-19T10:13:01.581Z"
   },
   {
    "duration": 5,
    "start_time": "2023-02-19T10:16:01.394Z"
   },
   {
    "duration": 80,
    "start_time": "2023-02-19T10:16:10.433Z"
   },
   {
    "duration": 3,
    "start_time": "2023-02-19T10:16:13.035Z"
   },
   {
    "duration": 4,
    "start_time": "2023-02-19T10:16:19.746Z"
   },
   {
    "duration": 69,
    "start_time": "2023-02-19T10:16:28.330Z"
   },
   {
    "duration": 4,
    "start_time": "2023-02-19T10:16:31.272Z"
   },
   {
    "duration": 188805,
    "start_time": "2023-02-19T10:16:35.176Z"
   },
   {
    "duration": 1412,
    "start_time": "2023-02-19T10:30:17.630Z"
   },
   {
    "duration": 1184,
    "start_time": "2023-02-19T10:30:19.044Z"
   },
   {
    "duration": 152,
    "start_time": "2023-02-19T10:30:20.230Z"
   },
   {
    "duration": 3,
    "start_time": "2023-02-19T10:30:20.384Z"
   },
   {
    "duration": 29,
    "start_time": "2023-02-19T10:30:20.389Z"
   },
   {
    "duration": 107,
    "start_time": "2023-02-19T10:30:20.420Z"
   },
   {
    "duration": 48,
    "start_time": "2023-02-19T10:30:20.529Z"
   },
   {
    "duration": 88,
    "start_time": "2023-02-19T10:30:20.578Z"
   },
   {
    "duration": 50,
    "start_time": "2023-02-19T10:30:20.669Z"
   },
   {
    "duration": 527,
    "start_time": "2023-02-19T10:30:20.720Z"
   },
   {
    "duration": 11,
    "start_time": "2023-02-19T10:30:21.248Z"
   },
   {
    "duration": 349,
    "start_time": "2023-02-19T10:30:21.260Z"
   },
   {
    "duration": 10,
    "start_time": "2023-02-19T10:30:21.610Z"
   },
   {
    "duration": 40,
    "start_time": "2023-02-19T10:30:21.623Z"
   },
   {
    "duration": 9,
    "start_time": "2023-02-19T10:30:21.665Z"
   },
   {
    "duration": 44,
    "start_time": "2023-02-19T10:30:21.675Z"
   },
   {
    "duration": 29,
    "start_time": "2023-02-19T10:30:21.721Z"
   },
   {
    "duration": 24,
    "start_time": "2023-02-19T10:30:21.752Z"
   },
   {
    "duration": 162,
    "start_time": "2023-02-19T10:30:21.778Z"
   },
   {
    "duration": 496,
    "start_time": "2023-02-19T10:30:21.941Z"
   },
   {
    "duration": 84,
    "start_time": "2023-02-19T10:30:22.439Z"
   },
   {
    "duration": 51,
    "start_time": "2023-02-19T10:30:22.524Z"
   },
   {
    "duration": 81,
    "start_time": "2023-02-19T10:30:22.576Z"
   },
   {
    "duration": 162,
    "start_time": "2023-02-19T10:30:22.659Z"
   },
   {
    "duration": 138,
    "start_time": "2023-02-19T10:30:22.822Z"
   },
   {
    "duration": 134,
    "start_time": "2023-02-19T10:30:22.962Z"
   },
   {
    "duration": 13,
    "start_time": "2023-02-19T10:30:23.098Z"
   },
   {
    "duration": 71,
    "start_time": "2023-02-19T10:30:23.113Z"
   },
   {
    "duration": 3,
    "start_time": "2023-02-19T10:30:23.186Z"
   },
   {
    "duration": 126493,
    "start_time": "2023-02-19T10:30:23.191Z"
   },
   {
    "duration": 10,
    "start_time": "2023-02-19T10:32:29.686Z"
   },
   {
    "duration": 5,
    "start_time": "2023-02-19T10:32:39.709Z"
   },
   {
    "duration": 210184,
    "start_time": "2023-02-19T10:32:43.354Z"
   },
   {
    "duration": 1466580,
    "start_time": "2023-02-19T10:36:22.226Z"
   },
   {
    "duration": 3,
    "start_time": "2023-02-19T11:07:05.473Z"
   },
   {
    "duration": 1414,
    "start_time": "2023-02-19T11:11:44.412Z"
   },
   {
    "duration": 1486,
    "start_time": "2023-02-19T11:11:45.828Z"
   },
   {
    "duration": 111,
    "start_time": "2023-02-19T11:11:47.317Z"
   },
   {
    "duration": 3,
    "start_time": "2023-02-19T11:11:47.431Z"
   },
   {
    "duration": 36,
    "start_time": "2023-02-19T11:11:47.436Z"
   },
   {
    "duration": 88,
    "start_time": "2023-02-19T11:11:47.473Z"
   },
   {
    "duration": 36,
    "start_time": "2023-02-19T11:11:47.562Z"
   },
   {
    "duration": 109,
    "start_time": "2023-02-19T11:11:47.600Z"
   },
   {
    "duration": 66,
    "start_time": "2023-02-19T11:11:47.711Z"
   },
   {
    "duration": 493,
    "start_time": "2023-02-19T11:11:47.781Z"
   },
   {
    "duration": 11,
    "start_time": "2023-02-19T11:11:48.276Z"
   },
   {
    "duration": 343,
    "start_time": "2023-02-19T11:11:48.289Z"
   },
   {
    "duration": 18,
    "start_time": "2023-02-19T11:11:48.634Z"
   },
   {
    "duration": 28,
    "start_time": "2023-02-19T11:11:48.654Z"
   },
   {
    "duration": 10,
    "start_time": "2023-02-19T11:11:48.683Z"
   },
   {
    "duration": 55,
    "start_time": "2023-02-19T11:11:48.694Z"
   },
   {
    "duration": 9,
    "start_time": "2023-02-19T11:11:48.750Z"
   },
   {
    "duration": 22,
    "start_time": "2023-02-19T11:11:48.761Z"
   },
   {
    "duration": 160,
    "start_time": "2023-02-19T11:11:48.785Z"
   },
   {
    "duration": 504,
    "start_time": "2023-02-19T11:11:48.949Z"
   },
   {
    "duration": 73,
    "start_time": "2023-02-19T11:11:49.455Z"
   },
   {
    "duration": 55,
    "start_time": "2023-02-19T11:11:49.530Z"
   },
   {
    "duration": 79,
    "start_time": "2023-02-19T11:11:49.587Z"
   },
   {
    "duration": 163,
    "start_time": "2023-02-19T11:11:49.667Z"
   },
   {
    "duration": 126,
    "start_time": "2023-02-19T11:11:49.832Z"
   },
   {
    "duration": 137,
    "start_time": "2023-02-19T11:11:49.960Z"
   },
   {
    "duration": 10,
    "start_time": "2023-02-19T11:11:50.098Z"
   },
   {
    "duration": 72,
    "start_time": "2023-02-19T11:11:50.111Z"
   },
   {
    "duration": 4,
    "start_time": "2023-02-19T11:11:50.185Z"
   },
   {
    "duration": 104695,
    "start_time": "2023-02-19T11:11:50.191Z"
   },
   {
    "duration": 3,
    "start_time": "2023-02-19T11:13:34.888Z"
   },
   {
    "duration": 42,
    "start_time": "2023-02-19T11:13:34.893Z"
   },
   {
    "duration": 0,
    "start_time": "2023-02-19T11:13:34.937Z"
   },
   {
    "duration": 0,
    "start_time": "2023-02-19T11:13:34.938Z"
   },
   {
    "duration": 1453,
    "start_time": "2023-02-19T11:14:15.903Z"
   },
   {
    "duration": 1547,
    "start_time": "2023-02-19T11:14:17.357Z"
   },
   {
    "duration": 146,
    "start_time": "2023-02-19T11:14:18.906Z"
   },
   {
    "duration": 4,
    "start_time": "2023-02-19T11:14:19.054Z"
   },
   {
    "duration": 28,
    "start_time": "2023-02-19T11:14:19.060Z"
   },
   {
    "duration": 105,
    "start_time": "2023-02-19T11:14:19.090Z"
   },
   {
    "duration": 53,
    "start_time": "2023-02-19T11:14:19.197Z"
   },
   {
    "duration": 105,
    "start_time": "2023-02-19T11:14:19.252Z"
   },
   {
    "duration": 55,
    "start_time": "2023-02-19T11:14:19.359Z"
   },
   {
    "duration": 563,
    "start_time": "2023-02-19T11:14:19.416Z"
   },
   {
    "duration": 10,
    "start_time": "2023-02-19T11:14:19.981Z"
   },
   {
    "duration": 353,
    "start_time": "2023-02-19T11:14:19.993Z"
   },
   {
    "duration": 9,
    "start_time": "2023-02-19T11:14:20.349Z"
   },
   {
    "duration": 32,
    "start_time": "2023-02-19T11:14:20.359Z"
   },
   {
    "duration": 10,
    "start_time": "2023-02-19T11:14:20.393Z"
   },
   {
    "duration": 60,
    "start_time": "2023-02-19T11:14:20.405Z"
   },
   {
    "duration": 11,
    "start_time": "2023-02-19T11:14:20.467Z"
   },
   {
    "duration": 39,
    "start_time": "2023-02-19T11:14:20.480Z"
   },
   {
    "duration": 170,
    "start_time": "2023-02-19T11:14:20.521Z"
   },
   {
    "duration": 486,
    "start_time": "2023-02-19T11:14:20.693Z"
   },
   {
    "duration": 79,
    "start_time": "2023-02-19T11:14:21.180Z"
   },
   {
    "duration": 40,
    "start_time": "2023-02-19T11:14:21.260Z"
   },
   {
    "duration": 83,
    "start_time": "2023-02-19T11:14:21.302Z"
   },
   {
    "duration": 174,
    "start_time": "2023-02-19T11:14:21.387Z"
   },
   {
    "duration": 126,
    "start_time": "2023-02-19T11:14:21.563Z"
   },
   {
    "duration": 143,
    "start_time": "2023-02-19T11:14:21.691Z"
   },
   {
    "duration": 12,
    "start_time": "2023-02-19T11:14:21.837Z"
   },
   {
    "duration": 90,
    "start_time": "2023-02-19T11:14:21.851Z"
   },
   {
    "duration": 6,
    "start_time": "2023-02-19T11:14:21.943Z"
   },
   {
    "duration": 1747973,
    "start_time": "2023-02-19T11:14:21.951Z"
   },
   {
    "duration": 4,
    "start_time": "2023-02-19T11:43:29.925Z"
   },
   {
    "duration": 43,
    "start_time": "2023-02-19T11:43:29.931Z"
   },
   {
    "duration": 1,
    "start_time": "2023-02-19T11:43:29.976Z"
   },
   {
    "duration": 0,
    "start_time": "2023-02-19T11:43:29.978Z"
   },
   {
    "duration": 182097,
    "start_time": "2023-02-19T11:46:01.804Z"
   },
   {
    "duration": 1591,
    "start_time": "2023-02-19T11:49:29.990Z"
   },
   {
    "duration": 280,
    "start_time": "2023-02-19T11:49:36.693Z"
   },
   {
    "duration": 3,
    "start_time": "2023-02-19T11:49:41.960Z"
   },
   {
    "duration": 371,
    "start_time": "2023-02-19T11:49:43.526Z"
   },
   {
    "duration": 249,
    "start_time": "2023-02-19T11:50:16.582Z"
   },
   {
    "duration": 4,
    "start_time": "2023-02-19T11:54:10.892Z"
   },
   {
    "duration": 106,
    "start_time": "2023-02-19T11:56:00.993Z"
   },
   {
    "duration": 25571,
    "start_time": "2023-02-19T11:56:02.741Z"
   },
   {
    "duration": 3,
    "start_time": "2023-02-19T11:58:04.131Z"
   },
   {
    "duration": 10,
    "start_time": "2023-02-19T11:58:05.133Z"
   },
   {
    "duration": 108886,
    "start_time": "2023-02-19T11:58:11.469Z"
   },
   {
    "duration": 493,
    "start_time": "2023-02-19T12:00:00.357Z"
   },
   {
    "duration": 3,
    "start_time": "2023-02-19T12:06:13.308Z"
   },
   {
    "duration": 4246,
    "start_time": "2023-02-19T12:09:35.461Z"
   },
   {
    "duration": 21,
    "start_time": "2023-02-19T12:09:47.384Z"
   },
   {
    "duration": 4,
    "start_time": "2023-02-19T12:11:23.376Z"
   },
   {
    "duration": 10022,
    "start_time": "2023-02-19T12:11:24.389Z"
   },
   {
    "duration": 5,
    "start_time": "2023-02-19T12:13:28.850Z"
   },
   {
    "duration": 1383,
    "start_time": "2023-02-19T12:23:20.501Z"
   },
   {
    "duration": 1253,
    "start_time": "2023-02-19T12:23:21.886Z"
   },
   {
    "duration": 156,
    "start_time": "2023-02-19T12:23:23.141Z"
   },
   {
    "duration": 3,
    "start_time": "2023-02-19T12:23:23.298Z"
   },
   {
    "duration": 29,
    "start_time": "2023-02-19T12:23:23.303Z"
   },
   {
    "duration": 153,
    "start_time": "2023-02-19T12:23:23.334Z"
   },
   {
    "duration": 36,
    "start_time": "2023-02-19T12:23:23.489Z"
   },
   {
    "duration": 106,
    "start_time": "2023-02-19T12:23:23.527Z"
   },
   {
    "duration": 65,
    "start_time": "2023-02-19T12:23:23.634Z"
   },
   {
    "duration": 548,
    "start_time": "2023-02-19T12:23:23.700Z"
   },
   {
    "duration": 16,
    "start_time": "2023-02-19T12:23:24.250Z"
   },
   {
    "duration": 356,
    "start_time": "2023-02-19T12:23:24.268Z"
   },
   {
    "duration": 11,
    "start_time": "2023-02-19T12:23:24.626Z"
   },
   {
    "duration": 31,
    "start_time": "2023-02-19T12:23:24.662Z"
   },
   {
    "duration": 9,
    "start_time": "2023-02-19T12:23:24.694Z"
   },
   {
    "duration": 33,
    "start_time": "2023-02-19T12:23:24.704Z"
   },
   {
    "duration": 11,
    "start_time": "2023-02-19T12:23:24.748Z"
   },
   {
    "duration": 34,
    "start_time": "2023-02-19T12:23:24.761Z"
   },
   {
    "duration": 171,
    "start_time": "2023-02-19T12:23:24.797Z"
   },
   {
    "duration": 553,
    "start_time": "2023-02-19T12:23:24.969Z"
   },
   {
    "duration": 84,
    "start_time": "2023-02-19T12:23:25.523Z"
   },
   {
    "duration": 66,
    "start_time": "2023-02-19T12:23:25.609Z"
   },
   {
    "duration": 76,
    "start_time": "2023-02-19T12:23:25.678Z"
   },
   {
    "duration": 169,
    "start_time": "2023-02-19T12:23:25.757Z"
   },
   {
    "duration": 145,
    "start_time": "2023-02-19T12:23:25.927Z"
   },
   {
    "duration": 138,
    "start_time": "2023-02-19T12:23:26.074Z"
   },
   {
    "duration": 11,
    "start_time": "2023-02-19T12:23:26.213Z"
   },
   {
    "duration": 76,
    "start_time": "2023-02-19T12:23:26.225Z"
   },
   {
    "duration": 134,
    "start_time": "2023-02-19T12:23:26.303Z"
   },
   {
    "duration": 14,
    "start_time": "2023-02-19T12:23:26.439Z"
   },
   {
    "duration": 969451,
    "start_time": "2023-02-19T12:23:26.455Z"
   },
   {
    "duration": 3,
    "start_time": "2023-02-19T12:39:35.908Z"
   },
   {
    "duration": 190424,
    "start_time": "2023-02-19T12:39:35.912Z"
   },
   {
    "duration": 4,
    "start_time": "2023-02-19T12:42:46.338Z"
   },
   {
    "duration": 675012,
    "start_time": "2023-02-19T12:42:46.344Z"
   },
   {
    "duration": 3,
    "start_time": "2023-02-19T12:54:01.358Z"
   },
   {
    "duration": 44,
    "start_time": "2023-02-19T12:54:01.363Z"
   },
   {
    "duration": 371664,
    "start_time": "2023-02-19T12:54:01.409Z"
   },
   {
    "duration": 207,
    "start_time": "2023-02-19T13:00:13.076Z"
   },
   {
    "duration": 4,
    "start_time": "2023-02-19T13:01:33.374Z"
   },
   {
    "duration": 4,
    "start_time": "2023-02-19T13:01:43.669Z"
   },
   {
    "duration": 4,
    "start_time": "2023-02-19T13:01:48.645Z"
   },
   {
    "duration": 4,
    "start_time": "2023-02-19T13:01:56.193Z"
   },
   {
    "duration": 3,
    "start_time": "2023-02-19T13:02:14.630Z"
   },
   {
    "duration": 4,
    "start_time": "2023-02-19T13:02:15.849Z"
   },
   {
    "duration": 134604,
    "start_time": "2023-02-19T13:02:18.540Z"
   },
   {
    "duration": 4,
    "start_time": "2023-02-19T13:04:35.431Z"
   },
   {
    "duration": 443208,
    "start_time": "2023-02-19T13:04:36.959Z"
   },
   {
    "duration": 4,
    "start_time": "2023-02-19T13:12:00.171Z"
   },
   {
    "duration": 22,
    "start_time": "2023-02-19T13:12:00.177Z"
   },
   {
    "duration": 1484,
    "start_time": "2023-02-19T13:19:14.860Z"
   },
   {
    "duration": 1717,
    "start_time": "2023-02-19T13:19:16.345Z"
   },
   {
    "duration": 92,
    "start_time": "2023-02-19T13:19:18.064Z"
   },
   {
    "duration": 3,
    "start_time": "2023-02-19T13:19:18.158Z"
   },
   {
    "duration": 26,
    "start_time": "2023-02-19T13:19:18.163Z"
   },
   {
    "duration": 124,
    "start_time": "2023-02-19T13:19:18.192Z"
   },
   {
    "duration": 47,
    "start_time": "2023-02-19T13:19:18.317Z"
   },
   {
    "duration": 95,
    "start_time": "2023-02-19T13:19:18.365Z"
   },
   {
    "duration": 54,
    "start_time": "2023-02-19T13:19:18.462Z"
   },
   {
    "duration": 547,
    "start_time": "2023-02-19T13:19:18.519Z"
   },
   {
    "duration": 11,
    "start_time": "2023-02-19T13:19:19.068Z"
   },
   {
    "duration": 359,
    "start_time": "2023-02-19T13:19:19.081Z"
   },
   {
    "duration": 13,
    "start_time": "2023-02-19T13:19:19.442Z"
   },
   {
    "duration": 28,
    "start_time": "2023-02-19T13:19:19.457Z"
   },
   {
    "duration": 10,
    "start_time": "2023-02-19T13:19:19.487Z"
   },
   {
    "duration": 59,
    "start_time": "2023-02-19T13:19:19.499Z"
   },
   {
    "duration": 9,
    "start_time": "2023-02-19T13:19:19.560Z"
   },
   {
    "duration": 23,
    "start_time": "2023-02-19T13:19:19.571Z"
   },
   {
    "duration": 177,
    "start_time": "2023-02-19T13:19:19.596Z"
   },
   {
    "duration": 546,
    "start_time": "2023-02-19T13:19:19.774Z"
   },
   {
    "duration": 83,
    "start_time": "2023-02-19T13:19:20.322Z"
   },
   {
    "duration": 54,
    "start_time": "2023-02-19T13:19:20.407Z"
   },
   {
    "duration": 70,
    "start_time": "2023-02-19T13:19:20.463Z"
   },
   {
    "duration": 169,
    "start_time": "2023-02-19T13:19:20.535Z"
   },
   {
    "duration": 143,
    "start_time": "2023-02-19T13:19:20.705Z"
   },
   {
    "duration": 142,
    "start_time": "2023-02-19T13:19:20.850Z"
   },
   {
    "duration": 20,
    "start_time": "2023-02-19T13:19:20.993Z"
   },
   {
    "duration": 74,
    "start_time": "2023-02-19T13:19:21.018Z"
   },
   {
    "duration": 122,
    "start_time": "2023-02-19T13:19:21.094Z"
   },
   {
    "duration": 5,
    "start_time": "2023-02-19T13:19:21.218Z"
   },
   {
    "duration": 937317,
    "start_time": "2023-02-19T13:19:21.225Z"
   },
   {
    "duration": 5,
    "start_time": "2023-02-19T13:34:58.544Z"
   },
   {
    "duration": 397890,
    "start_time": "2023-02-19T13:34:58.551Z"
   },
   {
    "duration": 3,
    "start_time": "2023-02-19T13:41:36.443Z"
   },
   {
    "duration": 2146502,
    "start_time": "2023-02-19T13:41:36.448Z"
   },
   {
    "duration": 3,
    "start_time": "2023-02-19T14:17:22.952Z"
   },
   {
    "duration": 10,
    "start_time": "2023-02-19T14:17:22.956Z"
   },
   {
    "duration": 385790,
    "start_time": "2023-02-19T14:17:22.967Z"
   },
   {
    "duration": 15,
    "start_time": "2023-02-19T14:23:48.759Z"
   },
   {
    "duration": 1615,
    "start_time": "2023-02-20T15:23:29.761Z"
   },
   {
    "duration": 1414,
    "start_time": "2023-02-20T15:23:31.378Z"
   },
   {
    "duration": 131,
    "start_time": "2023-02-20T15:23:32.793Z"
   },
   {
    "duration": 3,
    "start_time": "2023-02-20T15:23:32.926Z"
   },
   {
    "duration": 36,
    "start_time": "2023-02-20T15:23:32.931Z"
   },
   {
    "duration": 83,
    "start_time": "2023-02-20T15:23:32.969Z"
   },
   {
    "duration": 41,
    "start_time": "2023-02-20T15:23:33.053Z"
   },
   {
    "duration": 86,
    "start_time": "2023-02-20T15:23:33.096Z"
   },
   {
    "duration": 44,
    "start_time": "2023-02-20T15:23:33.184Z"
   },
   {
    "duration": 498,
    "start_time": "2023-02-20T15:23:33.231Z"
   },
   {
    "duration": 10,
    "start_time": "2023-02-20T15:23:33.731Z"
   },
   {
    "duration": 325,
    "start_time": "2023-02-20T15:23:33.742Z"
   },
   {
    "duration": 8,
    "start_time": "2023-02-20T15:23:34.068Z"
   },
   {
    "duration": 37,
    "start_time": "2023-02-20T15:23:34.077Z"
   },
   {
    "duration": 11,
    "start_time": "2023-02-20T15:23:34.115Z"
   },
   {
    "duration": 44,
    "start_time": "2023-02-20T15:23:34.127Z"
   },
   {
    "duration": 7,
    "start_time": "2023-02-20T15:23:34.173Z"
   },
   {
    "duration": 21,
    "start_time": "2023-02-20T15:23:34.182Z"
   },
   {
    "duration": 168,
    "start_time": "2023-02-20T15:23:34.205Z"
   },
   {
    "duration": 488,
    "start_time": "2023-02-20T15:23:34.374Z"
   },
   {
    "duration": 103,
    "start_time": "2023-02-20T15:23:34.864Z"
   },
   {
    "duration": 49,
    "start_time": "2023-02-20T15:23:34.970Z"
   },
   {
    "duration": 90,
    "start_time": "2023-02-20T15:23:35.022Z"
   },
   {
    "duration": 155,
    "start_time": "2023-02-20T15:23:35.114Z"
   },
   {
    "duration": 140,
    "start_time": "2023-02-20T15:23:35.271Z"
   },
   {
    "duration": 136,
    "start_time": "2023-02-20T15:23:35.413Z"
   },
   {
    "duration": 17,
    "start_time": "2023-02-20T15:23:35.551Z"
   },
   {
    "duration": 7,
    "start_time": "2023-02-20T15:23:35.571Z"
   },
   {
    "duration": 67,
    "start_time": "2023-02-20T15:23:35.580Z"
   },
   {
    "duration": 122,
    "start_time": "2023-02-20T15:23:35.649Z"
   },
   {
    "duration": 4,
    "start_time": "2023-02-20T15:23:35.772Z"
   },
   {
    "duration": 24642,
    "start_time": "2023-02-20T15:23:35.778Z"
   },
   {
    "duration": 3,
    "start_time": "2023-02-20T15:24:00.421Z"
   },
   {
    "duration": 1329,
    "start_time": "2023-02-20T15:24:21.376Z"
   },
   {
    "duration": 1185,
    "start_time": "2023-02-20T15:24:22.707Z"
   },
   {
    "duration": 135,
    "start_time": "2023-02-20T15:24:23.895Z"
   },
   {
    "duration": 3,
    "start_time": "2023-02-20T15:24:24.032Z"
   },
   {
    "duration": 36,
    "start_time": "2023-02-20T15:24:24.037Z"
   },
   {
    "duration": 100,
    "start_time": "2023-02-20T15:24:24.075Z"
   },
   {
    "duration": 34,
    "start_time": "2023-02-20T15:24:24.177Z"
   },
   {
    "duration": 102,
    "start_time": "2023-02-20T15:24:24.213Z"
   },
   {
    "duration": 66,
    "start_time": "2023-02-20T15:24:24.317Z"
   },
   {
    "duration": 503,
    "start_time": "2023-02-20T15:24:24.385Z"
   },
   {
    "duration": 15,
    "start_time": "2023-02-20T15:24:24.890Z"
   },
   {
    "duration": 382,
    "start_time": "2023-02-20T15:24:24.907Z"
   },
   {
    "duration": 8,
    "start_time": "2023-02-20T15:24:25.291Z"
   },
   {
    "duration": 27,
    "start_time": "2023-02-20T15:24:25.300Z"
   },
   {
    "duration": 9,
    "start_time": "2023-02-20T15:24:25.328Z"
   },
   {
    "duration": 50,
    "start_time": "2023-02-20T15:24:25.338Z"
   },
   {
    "duration": 8,
    "start_time": "2023-02-20T15:24:25.390Z"
   },
   {
    "duration": 27,
    "start_time": "2023-02-20T15:24:25.399Z"
   },
   {
    "duration": 156,
    "start_time": "2023-02-20T15:24:25.427Z"
   },
   {
    "duration": 460,
    "start_time": "2023-02-20T15:24:25.585Z"
   },
   {
    "duration": 75,
    "start_time": "2023-02-20T15:24:26.047Z"
   },
   {
    "duration": 78,
    "start_time": "2023-02-20T15:24:26.124Z"
   },
   {
    "duration": 83,
    "start_time": "2023-02-20T15:24:26.204Z"
   },
   {
    "duration": 149,
    "start_time": "2023-02-20T15:24:26.289Z"
   },
   {
    "duration": 120,
    "start_time": "2023-02-20T15:24:26.440Z"
   },
   {
    "duration": 123,
    "start_time": "2023-02-20T15:24:26.561Z"
   },
   {
    "duration": 10,
    "start_time": "2023-02-20T15:24:26.686Z"
   },
   {
    "duration": 2,
    "start_time": "2023-02-20T15:24:26.701Z"
   },
   {
    "duration": 78,
    "start_time": "2023-02-20T15:24:26.705Z"
   },
   {
    "duration": 126,
    "start_time": "2023-02-20T15:24:26.785Z"
   },
   {
    "duration": 5,
    "start_time": "2023-02-20T15:24:26.912Z"
   },
   {
    "duration": 24448,
    "start_time": "2023-02-20T15:24:26.919Z"
   },
   {
    "duration": 3,
    "start_time": "2023-02-20T15:24:51.368Z"
   },
   {
    "duration": 354602,
    "start_time": "2023-02-20T15:24:51.373Z"
   },
   {
    "duration": 2,
    "start_time": "2023-02-20T15:30:45.977Z"
   },
   {
    "duration": 1177089,
    "start_time": "2023-02-20T15:30:45.981Z"
   },
   {
    "duration": 4,
    "start_time": "2023-02-20T15:50:23.072Z"
   },
   {
    "duration": 25,
    "start_time": "2023-02-20T15:50:23.077Z"
   },
   {
    "duration": 27,
    "start_time": "2023-02-20T15:50:23.104Z"
   },
   {
    "duration": 5,
    "start_time": "2023-02-20T15:53:17.837Z"
   },
   {
    "duration": 4,
    "start_time": "2023-02-20T15:54:06.181Z"
   },
   {
    "duration": 3,
    "start_time": "2023-02-20T15:54:12.212Z"
   },
   {
    "duration": 5,
    "start_time": "2023-02-20T15:54:15.966Z"
   },
   {
    "duration": 1709,
    "start_time": "2023-02-20T18:04:14.990Z"
   },
   {
    "duration": 1259,
    "start_time": "2023-02-20T18:04:16.702Z"
   },
   {
    "duration": 148,
    "start_time": "2023-02-20T18:04:17.962Z"
   },
   {
    "duration": 3,
    "start_time": "2023-02-20T18:04:18.113Z"
   },
   {
    "duration": 26,
    "start_time": "2023-02-20T18:04:18.117Z"
   },
   {
    "duration": 99,
    "start_time": "2023-02-20T18:04:18.145Z"
   },
   {
    "duration": 36,
    "start_time": "2023-02-20T18:04:18.246Z"
   },
   {
    "duration": 83,
    "start_time": "2023-02-20T18:04:18.284Z"
   },
   {
    "duration": 65,
    "start_time": "2023-02-20T18:04:18.368Z"
   },
   {
    "duration": 527,
    "start_time": "2023-02-20T18:04:18.436Z"
   },
   {
    "duration": 10,
    "start_time": "2023-02-20T18:04:18.965Z"
   },
   {
    "duration": 370,
    "start_time": "2023-02-20T18:04:18.976Z"
   },
   {
    "duration": 9,
    "start_time": "2023-02-20T18:04:19.348Z"
   },
   {
    "duration": 27,
    "start_time": "2023-02-20T18:04:19.358Z"
   },
   {
    "duration": 23,
    "start_time": "2023-02-20T18:04:19.387Z"
   },
   {
    "duration": 39,
    "start_time": "2023-02-20T18:04:19.412Z"
   },
   {
    "duration": 8,
    "start_time": "2023-02-20T18:04:19.454Z"
   },
   {
    "duration": 22,
    "start_time": "2023-02-20T18:04:19.463Z"
   },
   {
    "duration": 173,
    "start_time": "2023-02-20T18:04:19.487Z"
   },
   {
    "duration": 509,
    "start_time": "2023-02-20T18:04:19.662Z"
   },
   {
    "duration": 72,
    "start_time": "2023-02-20T18:04:20.172Z"
   },
   {
    "duration": 35,
    "start_time": "2023-02-20T18:04:20.245Z"
   },
   {
    "duration": 73,
    "start_time": "2023-02-20T18:04:20.282Z"
   },
   {
    "duration": 147,
    "start_time": "2023-02-20T18:04:20.357Z"
   },
   {
    "duration": 129,
    "start_time": "2023-02-20T18:04:20.506Z"
   },
   {
    "duration": 127,
    "start_time": "2023-02-20T18:04:20.637Z"
   },
   {
    "duration": 10,
    "start_time": "2023-02-20T18:04:20.766Z"
   },
   {
    "duration": 4,
    "start_time": "2023-02-20T18:04:20.780Z"
   },
   {
    "duration": 74,
    "start_time": "2023-02-20T18:04:20.786Z"
   },
   {
    "duration": 119,
    "start_time": "2023-02-20T18:04:20.862Z"
   },
   {
    "duration": 4,
    "start_time": "2023-02-20T18:04:20.983Z"
   },
   {
    "duration": 25858,
    "start_time": "2023-02-20T18:04:20.989Z"
   },
   {
    "duration": 2,
    "start_time": "2023-02-20T18:04:46.849Z"
   },
   {
    "duration": 39575,
    "start_time": "2023-02-20T18:04:46.853Z"
   },
   {
    "duration": 3,
    "start_time": "2023-02-20T18:05:26.429Z"
   },
   {
    "duration": 18922,
    "start_time": "2023-02-20T18:05:26.434Z"
   },
   {
    "duration": 21,
    "start_time": "2023-02-20T18:05:45.358Z"
   },
   {
    "duration": 0,
    "start_time": "2023-02-20T18:05:45.381Z"
   },
   {
    "duration": 0,
    "start_time": "2023-02-20T18:05:45.383Z"
   },
   {
    "duration": 1,
    "start_time": "2023-02-20T18:05:45.387Z"
   },
   {
    "duration": 9,
    "start_time": "2023-02-20T18:05:52.322Z"
   },
   {
    "duration": 5,
    "start_time": "2023-02-20T18:06:34.179Z"
   },
   {
    "duration": 4,
    "start_time": "2023-02-20T18:07:23.423Z"
   },
   {
    "duration": 1418,
    "start_time": "2023-02-20T18:09:41.236Z"
   },
   {
    "duration": 1860,
    "start_time": "2023-02-20T18:09:42.656Z"
   },
   {
    "duration": 159,
    "start_time": "2023-02-20T18:09:44.518Z"
   },
   {
    "duration": 3,
    "start_time": "2023-02-20T18:09:44.679Z"
   },
   {
    "duration": 38,
    "start_time": "2023-02-20T18:09:44.684Z"
   },
   {
    "duration": 85,
    "start_time": "2023-02-20T18:09:44.724Z"
   },
   {
    "duration": 36,
    "start_time": "2023-02-20T18:09:44.811Z"
   },
   {
    "duration": 84,
    "start_time": "2023-02-20T18:09:44.848Z"
   },
   {
    "duration": 53,
    "start_time": "2023-02-20T18:09:44.934Z"
   },
   {
    "duration": 516,
    "start_time": "2023-02-20T18:09:45.006Z"
   },
   {
    "duration": 11,
    "start_time": "2023-02-20T18:09:45.524Z"
   },
   {
    "duration": 368,
    "start_time": "2023-02-20T18:09:45.537Z"
   },
   {
    "duration": 10,
    "start_time": "2023-02-20T18:09:45.907Z"
   },
   {
    "duration": 26,
    "start_time": "2023-02-20T18:09:45.919Z"
   },
   {
    "duration": 11,
    "start_time": "2023-02-20T18:09:45.947Z"
   },
   {
    "duration": 67,
    "start_time": "2023-02-20T18:09:45.960Z"
   },
   {
    "duration": 12,
    "start_time": "2023-02-20T18:09:46.028Z"
   },
   {
    "duration": 24,
    "start_time": "2023-02-20T18:09:46.043Z"
   },
   {
    "duration": 187,
    "start_time": "2023-02-20T18:09:46.069Z"
   },
   {
    "duration": 512,
    "start_time": "2023-02-20T18:09:46.258Z"
   },
   {
    "duration": 74,
    "start_time": "2023-02-20T18:09:46.772Z"
   },
   {
    "duration": 36,
    "start_time": "2023-02-20T18:09:46.847Z"
   },
   {
    "duration": 74,
    "start_time": "2023-02-20T18:09:46.885Z"
   },
   {
    "duration": 144,
    "start_time": "2023-02-20T18:09:46.961Z"
   },
   {
    "duration": 138,
    "start_time": "2023-02-20T18:09:47.107Z"
   },
   {
    "duration": 145,
    "start_time": "2023-02-20T18:09:47.247Z"
   },
   {
    "duration": 18,
    "start_time": "2023-02-20T18:09:47.394Z"
   },
   {
    "duration": 6,
    "start_time": "2023-02-20T18:09:47.415Z"
   },
   {
    "duration": 65,
    "start_time": "2023-02-20T18:09:47.423Z"
   },
   {
    "duration": 127,
    "start_time": "2023-02-20T18:09:47.489Z"
   },
   {
    "duration": 4,
    "start_time": "2023-02-20T18:09:47.617Z"
   },
   {
    "duration": 25642,
    "start_time": "2023-02-20T18:09:47.622Z"
   },
   {
    "duration": 3,
    "start_time": "2023-02-20T18:10:13.265Z"
   },
   {
    "duration": 1495,
    "start_time": "2023-02-20T18:10:45.029Z"
   },
   {
    "duration": 5020,
    "start_time": "2023-02-20T18:10:46.526Z"
   },
   {
    "duration": 157,
    "start_time": "2023-02-20T18:10:51.548Z"
   },
   {
    "duration": 3,
    "start_time": "2023-02-20T18:10:51.708Z"
   },
   {
    "duration": 39,
    "start_time": "2023-02-20T18:10:51.713Z"
   },
   {
    "duration": 97,
    "start_time": "2023-02-20T18:10:51.754Z"
   },
   {
    "duration": 50,
    "start_time": "2023-02-20T18:10:51.853Z"
   },
   {
    "duration": 78,
    "start_time": "2023-02-20T18:10:51.905Z"
   },
   {
    "duration": 81,
    "start_time": "2023-02-20T18:10:51.985Z"
   },
   {
    "duration": 596,
    "start_time": "2023-02-20T18:10:52.070Z"
   },
   {
    "duration": 10,
    "start_time": "2023-02-20T18:10:52.668Z"
   },
   {
    "duration": 383,
    "start_time": "2023-02-20T18:10:52.704Z"
   },
   {
    "duration": 16,
    "start_time": "2023-02-20T18:10:53.090Z"
   },
   {
    "duration": 27,
    "start_time": "2023-02-20T18:10:53.108Z"
   },
   {
    "duration": 9,
    "start_time": "2023-02-20T18:10:53.137Z"
   },
   {
    "duration": 56,
    "start_time": "2023-02-20T18:10:53.148Z"
   },
   {
    "duration": 12,
    "start_time": "2023-02-20T18:10:53.206Z"
   },
   {
    "duration": 31,
    "start_time": "2023-02-20T18:10:53.220Z"
   },
   {
    "duration": 182,
    "start_time": "2023-02-20T18:10:53.253Z"
   },
   {
    "duration": 552,
    "start_time": "2023-02-20T18:10:53.437Z"
   },
   {
    "duration": 92,
    "start_time": "2023-02-20T18:10:53.991Z"
   },
   {
    "duration": 54,
    "start_time": "2023-02-20T18:10:54.085Z"
   },
   {
    "duration": 108,
    "start_time": "2023-02-20T18:10:54.141Z"
   },
   {
    "duration": 165,
    "start_time": "2023-02-20T18:10:54.251Z"
   },
   {
    "duration": 137,
    "start_time": "2023-02-20T18:10:54.418Z"
   },
   {
    "duration": 138,
    "start_time": "2023-02-20T18:10:54.557Z"
   },
   {
    "duration": 15,
    "start_time": "2023-02-20T18:10:54.697Z"
   },
   {
    "duration": 29,
    "start_time": "2023-02-20T18:10:54.716Z"
   },
   {
    "duration": 70,
    "start_time": "2023-02-20T18:10:54.747Z"
   },
   {
    "duration": 111,
    "start_time": "2023-02-20T18:10:54.820Z"
   },
   {
    "duration": 3,
    "start_time": "2023-02-20T18:10:54.933Z"
   },
   {
    "duration": 25352,
    "start_time": "2023-02-20T18:10:54.938Z"
   },
   {
    "duration": 3,
    "start_time": "2023-02-20T18:11:20.292Z"
   },
   {
    "duration": 1454,
    "start_time": "2023-02-20T18:11:53.849Z"
   },
   {
    "duration": 2908,
    "start_time": "2023-02-20T18:11:55.307Z"
   },
   {
    "duration": 106,
    "start_time": "2023-02-20T18:11:58.218Z"
   },
   {
    "duration": 3,
    "start_time": "2023-02-20T18:11:58.326Z"
   },
   {
    "duration": 29,
    "start_time": "2023-02-20T18:11:58.331Z"
   },
   {
    "duration": 86,
    "start_time": "2023-02-20T18:11:58.362Z"
   },
   {
    "duration": 40,
    "start_time": "2023-02-20T18:11:58.450Z"
   },
   {
    "duration": 78,
    "start_time": "2023-02-20T18:11:58.491Z"
   },
   {
    "duration": 72,
    "start_time": "2023-02-20T18:11:58.572Z"
   },
   {
    "duration": 583,
    "start_time": "2023-02-20T18:11:58.646Z"
   },
   {
    "duration": 14,
    "start_time": "2023-02-20T18:11:59.231Z"
   },
   {
    "duration": 387,
    "start_time": "2023-02-20T18:11:59.247Z"
   },
   {
    "duration": 9,
    "start_time": "2023-02-20T18:11:59.636Z"
   },
   {
    "duration": 38,
    "start_time": "2023-02-20T18:11:59.646Z"
   },
   {
    "duration": 22,
    "start_time": "2023-02-20T18:11:59.687Z"
   },
   {
    "duration": 31,
    "start_time": "2023-02-20T18:11:59.711Z"
   },
   {
    "duration": 10,
    "start_time": "2023-02-20T18:11:59.744Z"
   },
   {
    "duration": 47,
    "start_time": "2023-02-20T18:11:59.756Z"
   },
   {
    "duration": 165,
    "start_time": "2023-02-20T18:11:59.805Z"
   },
   {
    "duration": 540,
    "start_time": "2023-02-20T18:11:59.972Z"
   },
   {
    "duration": 95,
    "start_time": "2023-02-20T18:12:00.515Z"
   },
   {
    "duration": 75,
    "start_time": "2023-02-20T18:12:00.612Z"
   },
   {
    "duration": 73,
    "start_time": "2023-02-20T18:12:00.689Z"
   },
   {
    "duration": 141,
    "start_time": "2023-02-20T18:12:00.764Z"
   },
   {
    "duration": 130,
    "start_time": "2023-02-20T18:12:00.907Z"
   },
   {
    "duration": 144,
    "start_time": "2023-02-20T18:12:01.038Z"
   },
   {
    "duration": 20,
    "start_time": "2023-02-20T18:12:01.186Z"
   },
   {
    "duration": 28,
    "start_time": "2023-02-20T18:12:01.208Z"
   },
   {
    "duration": 88,
    "start_time": "2023-02-20T18:12:01.238Z"
   },
   {
    "duration": 121,
    "start_time": "2023-02-20T18:12:01.328Z"
   },
   {
    "duration": 4,
    "start_time": "2023-02-20T18:12:01.451Z"
   },
   {
    "duration": 25839,
    "start_time": "2023-02-20T18:12:01.457Z"
   },
   {
    "duration": 3,
    "start_time": "2023-02-20T18:12:27.302Z"
   },
   {
    "duration": 1396,
    "start_time": "2023-02-20T18:13:40.445Z"
   },
   {
    "duration": 1151,
    "start_time": "2023-02-20T18:13:41.843Z"
   },
   {
    "duration": 150,
    "start_time": "2023-02-20T18:13:42.996Z"
   },
   {
    "duration": 3,
    "start_time": "2023-02-20T18:13:43.149Z"
   },
   {
    "duration": 28,
    "start_time": "2023-02-20T18:13:43.154Z"
   },
   {
    "duration": 109,
    "start_time": "2023-02-20T18:13:43.184Z"
   },
   {
    "duration": 41,
    "start_time": "2023-02-20T18:13:43.294Z"
   },
   {
    "duration": 87,
    "start_time": "2023-02-20T18:13:43.336Z"
   },
   {
    "duration": 51,
    "start_time": "2023-02-20T18:13:43.425Z"
   },
   {
    "duration": 528,
    "start_time": "2023-02-20T18:13:43.480Z"
   },
   {
    "duration": 10,
    "start_time": "2023-02-20T18:13:44.010Z"
   },
   {
    "duration": 431,
    "start_time": "2023-02-20T18:13:44.022Z"
   },
   {
    "duration": 8,
    "start_time": "2023-02-20T18:13:44.455Z"
   },
   {
    "duration": 43,
    "start_time": "2023-02-20T18:13:44.465Z"
   },
   {
    "duration": 10,
    "start_time": "2023-02-20T18:13:44.509Z"
   },
   {
    "duration": 35,
    "start_time": "2023-02-20T18:13:44.521Z"
   },
   {
    "duration": 9,
    "start_time": "2023-02-20T18:13:44.558Z"
   },
   {
    "duration": 48,
    "start_time": "2023-02-20T18:13:44.569Z"
   },
   {
    "duration": 169,
    "start_time": "2023-02-20T18:13:44.619Z"
   },
   {
    "duration": 511,
    "start_time": "2023-02-20T18:13:44.790Z"
   },
   {
    "duration": 67,
    "start_time": "2023-02-20T18:13:45.303Z"
   },
   {
    "duration": 50,
    "start_time": "2023-02-20T18:13:45.373Z"
   },
   {
    "duration": 80,
    "start_time": "2023-02-20T18:13:45.425Z"
   },
   {
    "duration": 141,
    "start_time": "2023-02-20T18:13:45.506Z"
   },
   {
    "duration": 124,
    "start_time": "2023-02-20T18:13:45.648Z"
   },
   {
    "duration": 130,
    "start_time": "2023-02-20T18:13:45.774Z"
   },
   {
    "duration": 11,
    "start_time": "2023-02-20T18:13:45.906Z"
   },
   {
    "duration": 16,
    "start_time": "2023-02-20T18:13:45.920Z"
   },
   {
    "duration": 70,
    "start_time": "2023-02-20T18:13:45.938Z"
   },
   {
    "duration": 115,
    "start_time": "2023-02-20T18:13:46.010Z"
   },
   {
    "duration": 4,
    "start_time": "2023-02-20T18:13:46.127Z"
   },
   {
    "duration": 25441,
    "start_time": "2023-02-20T18:13:46.133Z"
   },
   {
    "duration": 3,
    "start_time": "2023-02-20T18:14:11.576Z"
   },
   {
    "duration": 1567,
    "start_time": "2023-02-20T18:15:41.583Z"
   },
   {
    "duration": 1425,
    "start_time": "2023-02-20T18:15:43.152Z"
   },
   {
    "duration": 149,
    "start_time": "2023-02-20T18:15:44.579Z"
   },
   {
    "duration": 3,
    "start_time": "2023-02-20T18:15:44.731Z"
   },
   {
    "duration": 28,
    "start_time": "2023-02-20T18:15:44.736Z"
   },
   {
    "duration": 101,
    "start_time": "2023-02-20T18:15:44.766Z"
   },
   {
    "duration": 44,
    "start_time": "2023-02-20T18:15:44.869Z"
   },
   {
    "duration": 74,
    "start_time": "2023-02-20T18:15:44.915Z"
   },
   {
    "duration": 63,
    "start_time": "2023-02-20T18:15:44.991Z"
   },
   {
    "duration": 535,
    "start_time": "2023-02-20T18:15:45.057Z"
   },
   {
    "duration": 10,
    "start_time": "2023-02-20T18:15:45.594Z"
   },
   {
    "duration": 359,
    "start_time": "2023-02-20T18:15:45.606Z"
   },
   {
    "duration": 9,
    "start_time": "2023-02-20T18:15:45.967Z"
   },
   {
    "duration": 43,
    "start_time": "2023-02-20T18:15:45.978Z"
   },
   {
    "duration": 10,
    "start_time": "2023-02-20T18:15:46.023Z"
   },
   {
    "duration": 37,
    "start_time": "2023-02-20T18:15:46.034Z"
   },
   {
    "duration": 10,
    "start_time": "2023-02-20T18:15:46.072Z"
   },
   {
    "duration": 31,
    "start_time": "2023-02-20T18:15:46.103Z"
   },
   {
    "duration": 162,
    "start_time": "2023-02-20T18:15:46.137Z"
   },
   {
    "duration": 518,
    "start_time": "2023-02-20T18:15:46.303Z"
   },
   {
    "duration": 64,
    "start_time": "2023-02-20T18:15:46.823Z"
   },
   {
    "duration": 34,
    "start_time": "2023-02-20T18:15:46.903Z"
   },
   {
    "duration": 68,
    "start_time": "2023-02-20T18:15:46.938Z"
   },
   {
    "duration": 132,
    "start_time": "2023-02-20T18:15:47.008Z"
   },
   {
    "duration": 140,
    "start_time": "2023-02-20T18:15:47.142Z"
   },
   {
    "duration": 129,
    "start_time": "2023-02-20T18:15:47.284Z"
   },
   {
    "duration": 12,
    "start_time": "2023-02-20T18:15:47.415Z"
   },
   {
    "duration": 7,
    "start_time": "2023-02-20T18:15:47.431Z"
   },
   {
    "duration": 77,
    "start_time": "2023-02-20T18:15:47.440Z"
   },
   {
    "duration": 116,
    "start_time": "2023-02-20T18:15:47.520Z"
   },
   {
    "duration": 4,
    "start_time": "2023-02-20T18:15:47.638Z"
   },
   {
    "duration": 25311,
    "start_time": "2023-02-20T18:15:47.645Z"
   },
   {
    "duration": 4,
    "start_time": "2023-02-20T18:16:12.958Z"
   },
   {
    "duration": 1505,
    "start_time": "2023-02-20T18:20:46.170Z"
   },
   {
    "duration": 1290,
    "start_time": "2023-02-20T18:20:47.677Z"
   },
   {
    "duration": 106,
    "start_time": "2023-02-20T18:20:48.968Z"
   },
   {
    "duration": 4,
    "start_time": "2023-02-20T18:20:49.076Z"
   },
   {
    "duration": 40,
    "start_time": "2023-02-20T18:20:49.082Z"
   },
   {
    "duration": 91,
    "start_time": "2023-02-20T18:20:49.124Z"
   },
   {
    "duration": 42,
    "start_time": "2023-02-20T18:20:49.217Z"
   },
   {
    "duration": 88,
    "start_time": "2023-02-20T18:20:49.262Z"
   },
   {
    "duration": 68,
    "start_time": "2023-02-20T18:20:49.351Z"
   },
   {
    "duration": 549,
    "start_time": "2023-02-20T18:20:49.423Z"
   },
   {
    "duration": 9,
    "start_time": "2023-02-20T18:20:49.973Z"
   },
   {
    "duration": 372,
    "start_time": "2023-02-20T18:20:49.984Z"
   },
   {
    "duration": 9,
    "start_time": "2023-02-20T18:20:50.358Z"
   },
   {
    "duration": 50,
    "start_time": "2023-02-20T18:20:50.370Z"
   },
   {
    "duration": 18,
    "start_time": "2023-02-20T18:20:50.422Z"
   },
   {
    "duration": 40,
    "start_time": "2023-02-20T18:20:50.442Z"
   },
   {
    "duration": 10,
    "start_time": "2023-02-20T18:20:50.483Z"
   },
   {
    "duration": 28,
    "start_time": "2023-02-20T18:20:50.494Z"
   },
   {
    "duration": 171,
    "start_time": "2023-02-20T18:20:50.524Z"
   },
   {
    "duration": 548,
    "start_time": "2023-02-20T18:20:50.702Z"
   },
   {
    "duration": 78,
    "start_time": "2023-02-20T18:20:51.252Z"
   },
   {
    "duration": 35,
    "start_time": "2023-02-20T18:20:51.332Z"
   },
   {
    "duration": 81,
    "start_time": "2023-02-20T18:20:51.369Z"
   },
   {
    "duration": 150,
    "start_time": "2023-02-20T18:20:51.452Z"
   },
   {
    "duration": 128,
    "start_time": "2023-02-20T18:20:51.608Z"
   },
   {
    "duration": 138,
    "start_time": "2023-02-20T18:20:51.738Z"
   },
   {
    "duration": 11,
    "start_time": "2023-02-20T18:20:51.878Z"
   },
   {
    "duration": 17,
    "start_time": "2023-02-20T18:20:51.891Z"
   },
   {
    "duration": 77,
    "start_time": "2023-02-20T18:20:51.909Z"
   },
   {
    "duration": 110,
    "start_time": "2023-02-20T18:20:51.987Z"
   },
   {
    "duration": 8,
    "start_time": "2023-02-20T18:20:52.098Z"
   },
   {
    "duration": 27199,
    "start_time": "2023-02-20T18:20:52.111Z"
   },
   {
    "duration": 9,
    "start_time": "2023-02-20T18:21:19.312Z"
   },
   {
    "duration": 8,
    "start_time": "2023-02-20T18:21:19.323Z"
   },
   {
    "duration": 385682,
    "start_time": "2023-02-20T18:21:19.332Z"
   },
   {
    "duration": 3,
    "start_time": "2023-02-20T18:27:45.020Z"
   },
   {
    "duration": 505488,
    "start_time": "2023-02-20T18:27:45.025Z"
   },
   {
    "duration": 9,
    "start_time": "2023-02-20T18:36:10.514Z"
   },
   {
    "duration": 78,
    "start_time": "2023-02-20T18:36:10.525Z"
   },
   {
    "duration": 79616,
    "start_time": "2023-02-20T18:36:10.606Z"
   },
   {
    "duration": 10,
    "start_time": "2023-02-20T18:37:30.302Z"
   },
   {
    "duration": 1474,
    "start_time": "2023-02-20T18:49:54.814Z"
   },
   {
    "duration": 1180,
    "start_time": "2023-02-20T18:49:56.290Z"
   },
   {
    "duration": 138,
    "start_time": "2023-02-20T18:49:57.472Z"
   },
   {
    "duration": 3,
    "start_time": "2023-02-20T18:49:57.612Z"
   },
   {
    "duration": 27,
    "start_time": "2023-02-20T18:49:57.617Z"
   },
   {
    "duration": 83,
    "start_time": "2023-02-20T18:49:57.645Z"
   },
   {
    "duration": 39,
    "start_time": "2023-02-20T18:49:57.730Z"
   },
   {
    "duration": 89,
    "start_time": "2023-02-20T18:49:57.771Z"
   },
   {
    "duration": 61,
    "start_time": "2023-02-20T18:49:57.861Z"
   },
   {
    "duration": 486,
    "start_time": "2023-02-20T18:49:57.925Z"
   },
   {
    "duration": 10,
    "start_time": "2023-02-20T18:49:58.412Z"
   },
   {
    "duration": 345,
    "start_time": "2023-02-20T18:49:58.423Z"
   },
   {
    "duration": 9,
    "start_time": "2023-02-20T18:49:58.769Z"
   },
   {
    "duration": 41,
    "start_time": "2023-02-20T18:49:58.781Z"
   },
   {
    "duration": 9,
    "start_time": "2023-02-20T18:49:58.824Z"
   },
   {
    "duration": 30,
    "start_time": "2023-02-20T18:49:58.834Z"
   },
   {
    "duration": 9,
    "start_time": "2023-02-20T18:49:58.866Z"
   },
   {
    "duration": 41,
    "start_time": "2023-02-20T18:49:58.876Z"
   },
   {
    "duration": 152,
    "start_time": "2023-02-20T18:49:58.919Z"
   },
   {
    "duration": 514,
    "start_time": "2023-02-20T18:49:59.073Z"
   },
   {
    "duration": 64,
    "start_time": "2023-02-20T18:49:59.589Z"
   },
   {
    "duration": 48,
    "start_time": "2023-02-20T18:49:59.655Z"
   },
   {
    "duration": 58,
    "start_time": "2023-02-20T18:49:59.705Z"
   },
   {
    "duration": 138,
    "start_time": "2023-02-20T18:49:59.765Z"
   },
   {
    "duration": 131,
    "start_time": "2023-02-20T18:49:59.905Z"
   },
   {
    "duration": 127,
    "start_time": "2023-02-20T18:50:00.038Z"
   },
   {
    "duration": 10,
    "start_time": "2023-02-20T18:50:00.167Z"
   },
   {
    "duration": 14,
    "start_time": "2023-02-20T18:50:00.180Z"
   },
   {
    "duration": 103,
    "start_time": "2023-02-20T18:50:00.196Z"
   },
   {
    "duration": 109,
    "start_time": "2023-02-20T18:50:00.301Z"
   },
   {
    "duration": 114,
    "start_time": "2023-02-20T18:50:00.412Z"
   },
   {
    "duration": 0,
    "start_time": "2023-02-20T18:50:00.528Z"
   },
   {
    "duration": 0,
    "start_time": "2023-02-20T18:50:00.529Z"
   },
   {
    "duration": 0,
    "start_time": "2023-02-20T18:50:00.530Z"
   },
   {
    "duration": 0,
    "start_time": "2023-02-20T18:50:00.531Z"
   },
   {
    "duration": 0,
    "start_time": "2023-02-20T18:50:00.533Z"
   },
   {
    "duration": 0,
    "start_time": "2023-02-20T18:50:00.534Z"
   },
   {
    "duration": 0,
    "start_time": "2023-02-20T18:50:00.535Z"
   },
   {
    "duration": 0,
    "start_time": "2023-02-20T18:50:00.536Z"
   },
   {
    "duration": 0,
    "start_time": "2023-02-20T18:50:00.537Z"
   },
   {
    "duration": 0,
    "start_time": "2023-02-20T18:50:00.538Z"
   },
   {
    "duration": 1454,
    "start_time": "2023-02-20T18:50:15.003Z"
   },
   {
    "duration": 2062,
    "start_time": "2023-02-20T18:50:16.459Z"
   },
   {
    "duration": 133,
    "start_time": "2023-02-20T18:50:18.523Z"
   },
   {
    "duration": 3,
    "start_time": "2023-02-20T18:50:18.658Z"
   },
   {
    "duration": 30,
    "start_time": "2023-02-20T18:50:18.663Z"
   },
   {
    "duration": 86,
    "start_time": "2023-02-20T18:50:18.694Z"
   },
   {
    "duration": 49,
    "start_time": "2023-02-20T18:50:18.781Z"
   },
   {
    "duration": 79,
    "start_time": "2023-02-20T18:50:18.831Z"
   },
   {
    "duration": 50,
    "start_time": "2023-02-20T18:50:18.911Z"
   },
   {
    "duration": 524,
    "start_time": "2023-02-20T18:50:18.964Z"
   },
   {
    "duration": 17,
    "start_time": "2023-02-20T18:50:19.490Z"
   },
   {
    "duration": 354,
    "start_time": "2023-02-20T18:50:19.508Z"
   },
   {
    "duration": 8,
    "start_time": "2023-02-20T18:50:19.864Z"
   },
   {
    "duration": 43,
    "start_time": "2023-02-20T18:50:19.874Z"
   },
   {
    "duration": 10,
    "start_time": "2023-02-20T18:50:19.919Z"
   },
   {
    "duration": 34,
    "start_time": "2023-02-20T18:50:19.930Z"
   },
   {
    "duration": 8,
    "start_time": "2023-02-20T18:50:19.965Z"
   },
   {
    "duration": 46,
    "start_time": "2023-02-20T18:50:19.975Z"
   },
   {
    "duration": 155,
    "start_time": "2023-02-20T18:50:20.023Z"
   },
   {
    "duration": 511,
    "start_time": "2023-02-20T18:50:20.179Z"
   },
   {
    "duration": 67,
    "start_time": "2023-02-20T18:50:20.692Z"
   },
   {
    "duration": 48,
    "start_time": "2023-02-20T18:50:20.761Z"
   },
   {
    "duration": 60,
    "start_time": "2023-02-20T18:50:20.810Z"
   },
   {
    "duration": 149,
    "start_time": "2023-02-20T18:50:20.871Z"
   },
   {
    "duration": 131,
    "start_time": "2023-02-20T18:50:21.022Z"
   },
   {
    "duration": 126,
    "start_time": "2023-02-20T18:50:21.155Z"
   },
   {
    "duration": 10,
    "start_time": "2023-02-20T18:50:21.283Z"
   },
   {
    "duration": 4,
    "start_time": "2023-02-20T18:50:21.305Z"
   },
   {
    "duration": 69,
    "start_time": "2023-02-20T18:50:21.310Z"
   },
   {
    "duration": 118,
    "start_time": "2023-02-20T18:50:21.381Z"
   },
   {
    "duration": 3,
    "start_time": "2023-02-20T18:50:21.501Z"
   },
   {
    "duration": 24601,
    "start_time": "2023-02-20T18:50:21.506Z"
   },
   {
    "duration": 4,
    "start_time": "2023-02-20T18:50:46.108Z"
   },
   {
    "duration": 5,
    "start_time": "2023-02-20T18:50:46.113Z"
   },
   {
    "duration": 1517,
    "start_time": "2023-02-20T18:51:03.574Z"
   },
   {
    "duration": 2255,
    "start_time": "2023-02-20T18:51:05.093Z"
   },
   {
    "duration": 145,
    "start_time": "2023-02-20T18:51:07.350Z"
   },
   {
    "duration": 8,
    "start_time": "2023-02-20T18:51:07.496Z"
   },
   {
    "duration": 29,
    "start_time": "2023-02-20T18:51:07.506Z"
   },
   {
    "duration": 81,
    "start_time": "2023-02-20T18:51:07.537Z"
   },
   {
    "duration": 36,
    "start_time": "2023-02-20T18:51:07.619Z"
   },
   {
    "duration": 84,
    "start_time": "2023-02-20T18:51:07.657Z"
   },
   {
    "duration": 62,
    "start_time": "2023-02-20T18:51:07.743Z"
   },
   {
    "duration": 517,
    "start_time": "2023-02-20T18:51:07.806Z"
   },
   {
    "duration": 10,
    "start_time": "2023-02-20T18:51:08.324Z"
   },
   {
    "duration": 347,
    "start_time": "2023-02-20T18:51:08.335Z"
   },
   {
    "duration": 9,
    "start_time": "2023-02-20T18:51:08.683Z"
   },
   {
    "duration": 28,
    "start_time": "2023-02-20T18:51:08.704Z"
   },
   {
    "duration": 8,
    "start_time": "2023-02-20T18:51:08.734Z"
   },
   {
    "duration": 33,
    "start_time": "2023-02-20T18:51:08.744Z"
   },
   {
    "duration": 27,
    "start_time": "2023-02-20T18:51:08.779Z"
   },
   {
    "duration": 24,
    "start_time": "2023-02-20T18:51:08.808Z"
   },
   {
    "duration": 167,
    "start_time": "2023-02-20T18:51:08.834Z"
   },
   {
    "duration": 511,
    "start_time": "2023-02-20T18:51:09.002Z"
   },
   {
    "duration": 67,
    "start_time": "2023-02-20T18:51:09.514Z"
   },
   {
    "duration": 47,
    "start_time": "2023-02-20T18:51:09.582Z"
   },
   {
    "duration": 73,
    "start_time": "2023-02-20T18:51:09.631Z"
   },
   {
    "duration": 131,
    "start_time": "2023-02-20T18:51:09.705Z"
   },
   {
    "duration": 125,
    "start_time": "2023-02-20T18:51:09.838Z"
   },
   {
    "duration": 132,
    "start_time": "2023-02-20T18:51:09.964Z"
   },
   {
    "duration": 11,
    "start_time": "2023-02-20T18:51:10.098Z"
   },
   {
    "duration": 6,
    "start_time": "2023-02-20T18:51:10.110Z"
   },
   {
    "duration": 64,
    "start_time": "2023-02-20T18:51:10.117Z"
   },
   {
    "duration": 120,
    "start_time": "2023-02-20T18:51:10.183Z"
   },
   {
    "duration": 4,
    "start_time": "2023-02-20T18:51:10.304Z"
   },
   {
    "duration": 24938,
    "start_time": "2023-02-20T18:51:10.309Z"
   },
   {
    "duration": 4,
    "start_time": "2023-02-20T18:51:35.248Z"
   },
   {
    "duration": 8,
    "start_time": "2023-02-20T18:51:35.253Z"
   },
   {
    "duration": 29411,
    "start_time": "2023-02-20T18:51:35.262Z"
   },
   {
    "duration": 3,
    "start_time": "2023-02-20T18:52:04.675Z"
   },
   {
    "duration": 2532,
    "start_time": "2023-02-20T18:52:04.680Z"
   },
   {
    "duration": 10,
    "start_time": "2023-02-20T18:52:07.214Z"
   },
   {
    "duration": 16,
    "start_time": "2023-02-20T18:52:07.226Z"
   },
   {
    "duration": 1951,
    "start_time": "2023-02-20T18:52:07.245Z"
   },
   {
    "duration": 0,
    "start_time": "2023-02-20T18:52:09.203Z"
   },
   {
    "duration": 0,
    "start_time": "2023-02-20T18:52:09.204Z"
   },
   {
    "duration": 4,
    "start_time": "2023-02-20T18:52:10.918Z"
   },
   {
    "duration": 1452,
    "start_time": "2023-02-20T18:54:15.262Z"
   },
   {
    "duration": 1438,
    "start_time": "2023-02-20T18:54:16.717Z"
   },
   {
    "duration": 138,
    "start_time": "2023-02-20T18:54:18.156Z"
   },
   {
    "duration": 7,
    "start_time": "2023-02-20T18:54:18.296Z"
   },
   {
    "duration": 25,
    "start_time": "2023-02-20T18:54:18.305Z"
   },
   {
    "duration": 94,
    "start_time": "2023-02-20T18:54:18.332Z"
   },
   {
    "duration": 37,
    "start_time": "2023-02-20T18:54:18.427Z"
   },
   {
    "duration": 82,
    "start_time": "2023-02-20T18:54:18.466Z"
   },
   {
    "duration": 57,
    "start_time": "2023-02-20T18:54:18.550Z"
   },
   {
    "duration": 498,
    "start_time": "2023-02-20T18:54:18.609Z"
   },
   {
    "duration": 9,
    "start_time": "2023-02-20T18:54:19.109Z"
   },
   {
    "duration": 365,
    "start_time": "2023-02-20T18:54:19.120Z"
   },
   {
    "duration": 16,
    "start_time": "2023-02-20T18:54:19.487Z"
   },
   {
    "duration": 29,
    "start_time": "2023-02-20T18:54:19.505Z"
   },
   {
    "duration": 10,
    "start_time": "2023-02-20T18:54:19.536Z"
   },
   {
    "duration": 56,
    "start_time": "2023-02-20T18:54:19.548Z"
   },
   {
    "duration": 11,
    "start_time": "2023-02-20T18:54:19.606Z"
   },
   {
    "duration": 30,
    "start_time": "2023-02-20T18:54:19.618Z"
   },
   {
    "duration": 174,
    "start_time": "2023-02-20T18:54:19.650Z"
   },
   {
    "duration": 507,
    "start_time": "2023-02-20T18:54:19.826Z"
   },
   {
    "duration": 75,
    "start_time": "2023-02-20T18:54:20.336Z"
   },
   {
    "duration": 33,
    "start_time": "2023-02-20T18:54:20.413Z"
   },
   {
    "duration": 71,
    "start_time": "2023-02-20T18:54:20.448Z"
   },
   {
    "duration": 143,
    "start_time": "2023-02-20T18:54:20.520Z"
   },
   {
    "duration": 138,
    "start_time": "2023-02-20T18:54:20.665Z"
   },
   {
    "duration": 144,
    "start_time": "2023-02-20T18:54:20.805Z"
   },
   {
    "duration": 12,
    "start_time": "2023-02-20T18:54:20.951Z"
   },
   {
    "duration": 4,
    "start_time": "2023-02-20T18:54:20.966Z"
   },
   {
    "duration": 87,
    "start_time": "2023-02-20T18:54:20.971Z"
   },
   {
    "duration": 114,
    "start_time": "2023-02-20T18:54:21.060Z"
   },
   {
    "duration": 4,
    "start_time": "2023-02-20T18:54:21.176Z"
   },
   {
    "duration": 63399,
    "start_time": "2023-02-20T18:54:21.181Z"
   },
   {
    "duration": 3,
    "start_time": "2023-02-20T18:55:24.582Z"
   },
   {
    "duration": 5,
    "start_time": "2023-02-20T18:55:24.587Z"
   },
   {
    "duration": 1453,
    "start_time": "2023-02-20T18:56:11.980Z"
   },
   {
    "duration": 3700,
    "start_time": "2023-02-20T18:56:13.435Z"
   },
   {
    "duration": 158,
    "start_time": "2023-02-20T18:56:17.138Z"
   },
   {
    "duration": 3,
    "start_time": "2023-02-20T18:56:17.302Z"
   },
   {
    "duration": 32,
    "start_time": "2023-02-20T18:56:17.307Z"
   },
   {
    "duration": 85,
    "start_time": "2023-02-20T18:56:17.341Z"
   },
   {
    "duration": 39,
    "start_time": "2023-02-20T18:56:17.427Z"
   },
   {
    "duration": 82,
    "start_time": "2023-02-20T18:56:17.468Z"
   },
   {
    "duration": 69,
    "start_time": "2023-02-20T18:56:17.551Z"
   },
   {
    "duration": 507,
    "start_time": "2023-02-20T18:56:17.622Z"
   },
   {
    "duration": 10,
    "start_time": "2023-02-20T18:56:18.131Z"
   },
   {
    "duration": 352,
    "start_time": "2023-02-20T18:56:18.143Z"
   },
   {
    "duration": 13,
    "start_time": "2023-02-20T18:56:18.496Z"
   },
   {
    "duration": 26,
    "start_time": "2023-02-20T18:56:18.511Z"
   },
   {
    "duration": 9,
    "start_time": "2023-02-20T18:56:18.539Z"
   },
   {
    "duration": 57,
    "start_time": "2023-02-20T18:56:18.550Z"
   },
   {
    "duration": 9,
    "start_time": "2023-02-20T18:56:18.608Z"
   },
   {
    "duration": 26,
    "start_time": "2023-02-20T18:56:18.618Z"
   },
   {
    "duration": 159,
    "start_time": "2023-02-20T18:56:18.646Z"
   },
   {
    "duration": 535,
    "start_time": "2023-02-20T18:56:18.806Z"
   },
   {
    "duration": 74,
    "start_time": "2023-02-20T18:56:19.343Z"
   },
   {
    "duration": 36,
    "start_time": "2023-02-20T18:56:19.418Z"
   },
   {
    "duration": 73,
    "start_time": "2023-02-20T18:56:19.456Z"
   },
   {
    "duration": 148,
    "start_time": "2023-02-20T18:56:19.531Z"
   },
   {
    "duration": 132,
    "start_time": "2023-02-20T18:56:19.681Z"
   },
   {
    "duration": 134,
    "start_time": "2023-02-20T18:56:19.815Z"
   },
   {
    "duration": 11,
    "start_time": "2023-02-20T18:56:19.951Z"
   },
   {
    "duration": 5,
    "start_time": "2023-02-20T18:56:19.965Z"
   },
   {
    "duration": 84,
    "start_time": "2023-02-20T18:56:19.971Z"
   },
   {
    "duration": 110,
    "start_time": "2023-02-20T18:56:20.057Z"
   },
   {
    "duration": 3,
    "start_time": "2023-02-20T18:56:20.169Z"
   },
   {
    "duration": 63222,
    "start_time": "2023-02-20T18:56:20.174Z"
   },
   {
    "duration": 4,
    "start_time": "2023-02-20T18:57:23.403Z"
   },
   {
    "duration": 21,
    "start_time": "2023-02-20T18:57:23.408Z"
   },
   {
    "duration": 352618,
    "start_time": "2023-02-20T18:57:23.430Z"
   },
   {
    "duration": 2,
    "start_time": "2023-02-20T19:03:16.050Z"
   },
   {
    "duration": 36649,
    "start_time": "2023-02-20T19:03:16.054Z"
   },
   {
    "duration": 9,
    "start_time": "2023-02-20T19:03:52.705Z"
   },
   {
    "duration": 8,
    "start_time": "2023-02-20T19:03:52.716Z"
   },
   {
    "duration": 81288,
    "start_time": "2023-02-20T19:03:52.726Z"
   },
   {
    "duration": 10,
    "start_time": "2023-02-20T19:05:14.015Z"
   },
   {
    "duration": 12,
    "start_time": "2023-02-20T19:05:14.028Z"
   },
   {
    "duration": 2679,
    "start_time": "2023-02-21T13:56:57.386Z"
   },
   {
    "duration": 2133,
    "start_time": "2023-02-21T13:57:00.067Z"
   },
   {
    "duration": 118,
    "start_time": "2023-02-21T13:57:02.202Z"
   },
   {
    "duration": 3,
    "start_time": "2023-02-21T13:57:02.322Z"
   },
   {
    "duration": 49,
    "start_time": "2023-02-21T13:57:02.328Z"
   },
   {
    "duration": 126,
    "start_time": "2023-02-21T13:57:02.379Z"
   },
   {
    "duration": 55,
    "start_time": "2023-02-21T13:57:02.508Z"
   },
   {
    "duration": 88,
    "start_time": "2023-02-21T13:57:02.565Z"
   },
   {
    "duration": 53,
    "start_time": "2023-02-21T13:57:02.655Z"
   },
   {
    "duration": 538,
    "start_time": "2023-02-21T13:57:02.710Z"
   },
   {
    "duration": 11,
    "start_time": "2023-02-21T13:57:03.249Z"
   },
   {
    "duration": 380,
    "start_time": "2023-02-21T13:57:03.262Z"
   },
   {
    "duration": 9,
    "start_time": "2023-02-21T13:57:03.644Z"
   },
   {
    "duration": 27,
    "start_time": "2023-02-21T13:57:03.656Z"
   },
   {
    "duration": 9,
    "start_time": "2023-02-21T13:57:03.685Z"
   },
   {
    "duration": 62,
    "start_time": "2023-02-21T13:57:03.696Z"
   },
   {
    "duration": 9,
    "start_time": "2023-02-21T13:57:03.761Z"
   },
   {
    "duration": 27,
    "start_time": "2023-02-21T13:57:03.771Z"
   },
   {
    "duration": 184,
    "start_time": "2023-02-21T13:57:03.800Z"
   },
   {
    "duration": 544,
    "start_time": "2023-02-21T13:57:03.986Z"
   },
   {
    "duration": 79,
    "start_time": "2023-02-21T13:57:04.541Z"
   },
   {
    "duration": 56,
    "start_time": "2023-02-21T13:57:04.623Z"
   },
   {
    "duration": 85,
    "start_time": "2023-02-21T13:57:04.681Z"
   },
   {
    "duration": 157,
    "start_time": "2023-02-21T13:57:04.768Z"
   },
   {
    "duration": 135,
    "start_time": "2023-02-21T13:57:04.927Z"
   },
   {
    "duration": 148,
    "start_time": "2023-02-21T13:57:05.064Z"
   },
   {
    "duration": 13,
    "start_time": "2023-02-21T13:57:05.213Z"
   },
   {
    "duration": 12,
    "start_time": "2023-02-21T13:57:05.228Z"
   },
   {
    "duration": 87,
    "start_time": "2023-02-21T13:57:05.241Z"
   },
   {
    "duration": 148,
    "start_time": "2023-02-21T13:57:05.330Z"
   },
   {
    "duration": 4,
    "start_time": "2023-02-21T13:57:05.480Z"
   },
   {
    "duration": 71785,
    "start_time": "2023-02-21T13:57:05.486Z"
   },
   {
    "duration": 5,
    "start_time": "2023-02-21T13:58:20.017Z"
   },
   {
    "duration": 3056,
    "start_time": "2023-02-21T13:59:13.187Z"
   },
   {
    "duration": 1594,
    "start_time": "2023-02-21T14:17:51.425Z"
   },
   {
    "duration": 1396,
    "start_time": "2023-02-21T14:17:53.021Z"
   },
   {
    "duration": 142,
    "start_time": "2023-02-21T14:17:54.418Z"
   },
   {
    "duration": 4,
    "start_time": "2023-02-21T14:17:54.562Z"
   },
   {
    "duration": 39,
    "start_time": "2023-02-21T14:17:54.568Z"
   },
   {
    "duration": 97,
    "start_time": "2023-02-21T14:17:54.609Z"
   },
   {
    "duration": 35,
    "start_time": "2023-02-21T14:17:54.708Z"
   },
   {
    "duration": 98,
    "start_time": "2023-02-21T14:17:54.745Z"
   },
   {
    "duration": 65,
    "start_time": "2023-02-21T14:17:54.844Z"
   },
   {
    "duration": 512,
    "start_time": "2023-02-21T14:17:54.912Z"
   },
   {
    "duration": 10,
    "start_time": "2023-02-21T14:17:55.426Z"
   },
   {
    "duration": 351,
    "start_time": "2023-02-21T14:17:55.437Z"
   },
   {
    "duration": 10,
    "start_time": "2023-02-21T14:17:55.791Z"
   },
   {
    "duration": 38,
    "start_time": "2023-02-21T14:17:55.802Z"
   },
   {
    "duration": 13,
    "start_time": "2023-02-21T14:17:55.842Z"
   },
   {
    "duration": 49,
    "start_time": "2023-02-21T14:17:55.857Z"
   },
   {
    "duration": 9,
    "start_time": "2023-02-21T14:17:55.908Z"
   },
   {
    "duration": 20,
    "start_time": "2023-02-21T14:17:55.918Z"
   },
   {
    "duration": 167,
    "start_time": "2023-02-21T14:17:55.940Z"
   },
   {
    "duration": 510,
    "start_time": "2023-02-21T14:17:56.109Z"
   },
   {
    "duration": 123,
    "start_time": "2023-02-21T14:17:56.621Z"
   },
   {
    "duration": 66,
    "start_time": "2023-02-21T14:17:56.746Z"
   },
   {
    "duration": 101,
    "start_time": "2023-02-21T14:17:56.815Z"
   },
   {
    "duration": 187,
    "start_time": "2023-02-21T14:17:56.918Z"
   },
   {
    "duration": 130,
    "start_time": "2023-02-21T14:17:57.107Z"
   },
   {
    "duration": 133,
    "start_time": "2023-02-21T14:17:57.240Z"
   },
   {
    "duration": 11,
    "start_time": "2023-02-21T14:17:57.375Z"
   },
   {
    "duration": 16,
    "start_time": "2023-02-21T14:17:57.393Z"
   },
   {
    "duration": 58,
    "start_time": "2023-02-21T14:17:57.410Z"
   },
   {
    "duration": 111,
    "start_time": "2023-02-21T14:17:57.469Z"
   },
   {
    "duration": 4,
    "start_time": "2023-02-21T14:17:57.581Z"
   },
   {
    "duration": 12153,
    "start_time": "2023-02-21T14:17:57.595Z"
   },
   {
    "duration": 3,
    "start_time": "2023-02-21T14:18:09.749Z"
   },
   {
    "duration": 3116,
    "start_time": "2023-02-21T14:18:09.754Z"
   },
   {
    "duration": 3,
    "start_time": "2023-02-21T14:18:12.872Z"
   },
   {
    "duration": 4607,
    "start_time": "2023-02-21T14:18:12.876Z"
   },
   {
    "duration": 24,
    "start_time": "2023-02-21T14:18:17.486Z"
   },
   {
    "duration": 0,
    "start_time": "2023-02-21T14:18:17.512Z"
   },
   {
    "duration": 0,
    "start_time": "2023-02-21T14:18:17.514Z"
   },
   {
    "duration": 0,
    "start_time": "2023-02-21T14:18:17.515Z"
   },
   {
    "duration": 1502,
    "start_time": "2023-02-21T14:18:36.211Z"
   },
   {
    "duration": 1513,
    "start_time": "2023-02-21T14:18:37.717Z"
   },
   {
    "duration": 101,
    "start_time": "2023-02-21T14:18:39.232Z"
   },
   {
    "duration": 7,
    "start_time": "2023-02-21T14:18:39.336Z"
   },
   {
    "duration": 23,
    "start_time": "2023-02-21T14:18:39.344Z"
   },
   {
    "duration": 127,
    "start_time": "2023-02-21T14:18:39.369Z"
   },
   {
    "duration": 39,
    "start_time": "2023-02-21T14:18:39.501Z"
   },
   {
    "duration": 99,
    "start_time": "2023-02-21T14:18:39.541Z"
   },
   {
    "duration": 67,
    "start_time": "2023-02-21T14:18:39.642Z"
   },
   {
    "duration": 545,
    "start_time": "2023-02-21T14:18:39.713Z"
   },
   {
    "duration": 10,
    "start_time": "2023-02-21T14:18:40.259Z"
   },
   {
    "duration": 342,
    "start_time": "2023-02-21T14:18:40.271Z"
   },
   {
    "duration": 9,
    "start_time": "2023-02-21T14:18:40.615Z"
   },
   {
    "duration": 31,
    "start_time": "2023-02-21T14:18:40.627Z"
   },
   {
    "duration": 10,
    "start_time": "2023-02-21T14:18:40.660Z"
   },
   {
    "duration": 33,
    "start_time": "2023-02-21T14:18:40.692Z"
   },
   {
    "duration": 9,
    "start_time": "2023-02-21T14:18:40.727Z"
   },
   {
    "duration": 22,
    "start_time": "2023-02-21T14:18:40.737Z"
   },
   {
    "duration": 203,
    "start_time": "2023-02-21T14:18:40.761Z"
   },
   {
    "duration": 521,
    "start_time": "2023-02-21T14:18:40.965Z"
   },
   {
    "duration": 77,
    "start_time": "2023-02-21T14:18:41.488Z"
   },
   {
    "duration": 108,
    "start_time": "2023-02-21T14:18:41.566Z"
   },
   {
    "duration": 74,
    "start_time": "2023-02-21T14:18:41.676Z"
   },
   {
    "duration": 188,
    "start_time": "2023-02-21T14:18:41.752Z"
   },
   {
    "duration": 123,
    "start_time": "2023-02-21T14:18:41.942Z"
   },
   {
    "duration": 146,
    "start_time": "2023-02-21T14:18:42.066Z"
   },
   {
    "duration": 11,
    "start_time": "2023-02-21T14:18:42.216Z"
   },
   {
    "duration": 6,
    "start_time": "2023-02-21T14:18:42.230Z"
   },
   {
    "duration": 70,
    "start_time": "2023-02-21T14:18:42.238Z"
   },
   {
    "duration": 110,
    "start_time": "2023-02-21T14:18:42.309Z"
   },
   {
    "duration": 3,
    "start_time": "2023-02-21T14:18:42.421Z"
   },
   {
    "duration": 30030,
    "start_time": "2023-02-21T14:18:42.426Z"
   },
   {
    "duration": 4,
    "start_time": "2023-02-21T14:19:12.458Z"
   },
   {
    "duration": 4,
    "start_time": "2023-02-21T14:19:12.464Z"
   },
   {
    "duration": 1365,
    "start_time": "2023-02-21T14:19:47.753Z"
   },
   {
    "duration": 1421,
    "start_time": "2023-02-21T14:19:49.120Z"
   },
   {
    "duration": 158,
    "start_time": "2023-02-21T14:19:50.545Z"
   },
   {
    "duration": 4,
    "start_time": "2023-02-21T14:19:50.705Z"
   },
   {
    "duration": 36,
    "start_time": "2023-02-21T14:19:50.711Z"
   },
   {
    "duration": 121,
    "start_time": "2023-02-21T14:19:50.749Z"
   },
   {
    "duration": 47,
    "start_time": "2023-02-21T14:19:50.872Z"
   },
   {
    "duration": 104,
    "start_time": "2023-02-21T14:19:50.921Z"
   },
   {
    "duration": 72,
    "start_time": "2023-02-21T14:19:51.027Z"
   },
   {
    "duration": 508,
    "start_time": "2023-02-21T14:19:51.101Z"
   },
   {
    "duration": 10,
    "start_time": "2023-02-21T14:19:51.611Z"
   },
   {
    "duration": 340,
    "start_time": "2023-02-21T14:19:51.622Z"
   },
   {
    "duration": 28,
    "start_time": "2023-02-21T14:19:51.966Z"
   },
   {
    "duration": 36,
    "start_time": "2023-02-21T14:19:51.996Z"
   },
   {
    "duration": 9,
    "start_time": "2023-02-21T14:19:52.034Z"
   },
   {
    "duration": 30,
    "start_time": "2023-02-21T14:19:52.045Z"
   },
   {
    "duration": 17,
    "start_time": "2023-02-21T14:19:52.077Z"
   },
   {
    "duration": 39,
    "start_time": "2023-02-21T14:19:52.096Z"
   },
   {
    "duration": 139,
    "start_time": "2023-02-21T14:19:52.137Z"
   },
   {
    "duration": 495,
    "start_time": "2023-02-21T14:19:52.278Z"
   },
   {
    "duration": 85,
    "start_time": "2023-02-21T14:19:52.775Z"
   },
   {
    "duration": 55,
    "start_time": "2023-02-21T14:19:52.862Z"
   },
   {
    "duration": 64,
    "start_time": "2023-02-21T14:19:52.919Z"
   },
   {
    "duration": 161,
    "start_time": "2023-02-21T14:19:52.991Z"
   },
   {
    "duration": 130,
    "start_time": "2023-02-21T14:19:53.153Z"
   },
   {
    "duration": 132,
    "start_time": "2023-02-21T14:19:53.284Z"
   },
   {
    "duration": 11,
    "start_time": "2023-02-21T14:19:53.418Z"
   },
   {
    "duration": 7,
    "start_time": "2023-02-21T14:19:53.430Z"
   },
   {
    "duration": 69,
    "start_time": "2023-02-21T14:19:53.439Z"
   },
   {
    "duration": 107,
    "start_time": "2023-02-21T14:19:53.509Z"
   },
   {
    "duration": 4,
    "start_time": "2023-02-21T14:19:53.617Z"
   },
   {
    "duration": 79459,
    "start_time": "2023-02-21T14:19:53.622Z"
   },
   {
    "duration": 17,
    "start_time": "2023-02-21T14:21:13.083Z"
   },
   {
    "duration": 11,
    "start_time": "2023-02-21T14:21:13.103Z"
   },
   {
    "duration": 394350,
    "start_time": "2023-02-21T14:21:13.116Z"
   },
   {
    "duration": 4,
    "start_time": "2023-02-21T14:27:47.469Z"
   },
   {
    "duration": 1764735,
    "start_time": "2023-02-21T14:27:47.475Z"
   },
   {
    "duration": 86,
    "start_time": "2023-02-21T14:57:12.212Z"
   },
   {
    "duration": 5,
    "start_time": "2023-02-21T14:57:12.300Z"
   },
   {
    "duration": 236201,
    "start_time": "2023-02-21T14:57:12.308Z"
   },
   {
    "duration": 10,
    "start_time": "2023-02-21T15:01:08.511Z"
   },
   {
    "duration": 4,
    "start_time": "2023-02-21T15:01:44.953Z"
   },
   {
    "duration": 301665,
    "start_time": "2023-02-21T15:01:46.927Z"
   },
   {
    "duration": 12,
    "start_time": "2023-02-21T15:06:48.603Z"
   },
   {
    "duration": 1323,
    "start_time": "2023-02-21T15:10:47.450Z"
   },
   {
    "duration": 2463,
    "start_time": "2023-02-21T15:10:48.776Z"
   },
   {
    "duration": 134,
    "start_time": "2023-02-21T15:10:51.241Z"
   },
   {
    "duration": 4,
    "start_time": "2023-02-21T15:10:51.377Z"
   },
   {
    "duration": 35,
    "start_time": "2023-02-21T15:10:51.382Z"
   },
   {
    "duration": 89,
    "start_time": "2023-02-21T15:10:51.419Z"
   },
   {
    "duration": 38,
    "start_time": "2023-02-21T15:10:51.510Z"
   },
   {
    "duration": 103,
    "start_time": "2023-02-21T15:10:51.550Z"
   },
   {
    "duration": 62,
    "start_time": "2023-02-21T15:10:51.655Z"
   },
   {
    "duration": 489,
    "start_time": "2023-02-21T15:10:51.719Z"
   },
   {
    "duration": 9,
    "start_time": "2023-02-21T15:10:52.209Z"
   },
   {
    "duration": 328,
    "start_time": "2023-02-21T15:10:52.219Z"
   },
   {
    "duration": 8,
    "start_time": "2023-02-21T15:10:52.548Z"
   },
   {
    "duration": 46,
    "start_time": "2023-02-21T15:10:52.557Z"
   },
   {
    "duration": 9,
    "start_time": "2023-02-21T15:10:52.605Z"
   },
   {
    "duration": 29,
    "start_time": "2023-02-21T15:10:52.616Z"
   },
   {
    "duration": 10,
    "start_time": "2023-02-21T15:10:52.647Z"
   },
   {
    "duration": 49,
    "start_time": "2023-02-21T15:10:52.658Z"
   },
   {
    "duration": 140,
    "start_time": "2023-02-21T15:10:52.709Z"
   },
   {
    "duration": 498,
    "start_time": "2023-02-21T15:10:52.851Z"
   },
   {
    "duration": 75,
    "start_time": "2023-02-21T15:10:53.350Z"
   },
   {
    "duration": 36,
    "start_time": "2023-02-21T15:10:53.426Z"
   },
   {
    "duration": 87,
    "start_time": "2023-02-21T15:10:53.463Z"
   },
   {
    "duration": 170,
    "start_time": "2023-02-21T15:10:53.551Z"
   },
   {
    "duration": 139,
    "start_time": "2023-02-21T15:10:53.723Z"
   },
   {
    "duration": 153,
    "start_time": "2023-02-21T15:10:53.864Z"
   },
   {
    "duration": 10,
    "start_time": "2023-02-21T15:10:54.019Z"
   },
   {
    "duration": 4,
    "start_time": "2023-02-21T15:10:54.032Z"
   },
   {
    "duration": 84,
    "start_time": "2023-02-21T15:10:54.038Z"
   },
   {
    "duration": 119,
    "start_time": "2023-02-21T15:10:54.123Z"
   },
   {
    "duration": 4,
    "start_time": "2023-02-21T15:10:54.243Z"
   },
   {
    "duration": 76671,
    "start_time": "2023-02-21T15:10:54.249Z"
   },
   {
    "duration": 3,
    "start_time": "2023-02-21T15:12:10.921Z"
   },
   {
    "duration": 359577,
    "start_time": "2023-02-21T15:12:10.926Z"
   },
   {
    "duration": 3,
    "start_time": "2023-02-21T15:18:10.505Z"
   },
   {
    "duration": 324198,
    "start_time": "2023-02-21T15:18:10.510Z"
   },
   {
    "duration": 9,
    "start_time": "2023-02-21T15:23:34.711Z"
   },
   {
    "duration": 8,
    "start_time": "2023-02-21T15:23:34.722Z"
   },
   {
    "duration": 120525,
    "start_time": "2023-02-21T15:23:34.795Z"
   },
   {
    "duration": 9,
    "start_time": "2023-02-21T15:25:35.322Z"
   },
   {
    "duration": 1571,
    "start_time": "2023-03-12T12:17:23.364Z"
   },
   {
    "duration": 1254,
    "start_time": "2023-03-12T12:17:24.937Z"
   },
   {
    "duration": 150,
    "start_time": "2023-03-12T12:17:26.193Z"
   },
   {
    "duration": 4,
    "start_time": "2023-03-12T12:17:26.345Z"
   },
   {
    "duration": 36,
    "start_time": "2023-03-12T12:17:26.352Z"
   },
   {
    "duration": 73,
    "start_time": "2023-03-12T12:17:26.389Z"
   },
   {
    "duration": 43,
    "start_time": "2023-03-12T12:17:26.464Z"
   },
   {
    "duration": 90,
    "start_time": "2023-03-12T12:17:26.509Z"
   },
   {
    "duration": 49,
    "start_time": "2023-03-12T12:17:26.600Z"
   },
   {
    "duration": 458,
    "start_time": "2023-03-12T12:17:26.651Z"
   },
   {
    "duration": 12,
    "start_time": "2023-03-12T12:17:27.110Z"
   },
   {
    "duration": 312,
    "start_time": "2023-03-12T12:17:27.124Z"
   },
   {
    "duration": 9,
    "start_time": "2023-03-12T12:17:27.438Z"
   },
   {
    "duration": 45,
    "start_time": "2023-03-12T12:17:27.450Z"
   },
   {
    "duration": 9,
    "start_time": "2023-03-12T12:17:27.496Z"
   },
   {
    "duration": 31,
    "start_time": "2023-03-12T12:17:27.507Z"
   },
   {
    "duration": 12,
    "start_time": "2023-03-12T12:17:27.540Z"
   },
   {
    "duration": 50,
    "start_time": "2023-03-12T12:17:27.554Z"
   },
   {
    "duration": 153,
    "start_time": "2023-03-12T12:17:27.607Z"
   },
   {
    "duration": 471,
    "start_time": "2023-03-12T12:17:27.762Z"
   },
   {
    "duration": 69,
    "start_time": "2023-03-12T12:17:28.234Z"
   },
   {
    "duration": 38,
    "start_time": "2023-03-12T12:17:28.305Z"
   },
   {
    "duration": 71,
    "start_time": "2023-03-12T12:17:28.344Z"
   },
   {
    "duration": 151,
    "start_time": "2023-03-12T12:17:28.416Z"
   },
   {
    "duration": 148,
    "start_time": "2023-03-12T12:17:28.570Z"
   },
   {
    "duration": 137,
    "start_time": "2023-03-12T12:17:28.720Z"
   },
   {
    "duration": 10,
    "start_time": "2023-03-12T12:17:28.859Z"
   },
   {
    "duration": 11,
    "start_time": "2023-03-12T12:17:28.870Z"
   },
   {
    "duration": 60,
    "start_time": "2023-03-12T12:17:28.882Z"
   },
   {
    "duration": 129,
    "start_time": "2023-03-12T12:17:28.944Z"
   },
   {
    "duration": 5,
    "start_time": "2023-03-12T12:17:29.074Z"
   },
   {
    "duration": 23076,
    "start_time": "2023-03-12T12:17:29.081Z"
   },
   {
    "duration": 3,
    "start_time": "2023-03-12T12:17:52.159Z"
   },
   {
    "duration": 1352,
    "start_time": "2023-03-12T12:18:36.679Z"
   },
   {
    "duration": 1160,
    "start_time": "2023-03-12T12:18:38.033Z"
   },
   {
    "duration": 136,
    "start_time": "2023-03-12T12:18:39.195Z"
   },
   {
    "duration": 3,
    "start_time": "2023-03-12T12:18:39.332Z"
   },
   {
    "duration": 26,
    "start_time": "2023-03-12T12:18:39.336Z"
   },
   {
    "duration": 92,
    "start_time": "2023-03-12T12:18:39.363Z"
   },
   {
    "duration": 41,
    "start_time": "2023-03-12T12:18:39.457Z"
   },
   {
    "duration": 69,
    "start_time": "2023-03-12T12:18:39.500Z"
   },
   {
    "duration": 63,
    "start_time": "2023-03-12T12:18:39.570Z"
   },
   {
    "duration": 475,
    "start_time": "2023-03-12T12:18:39.635Z"
   },
   {
    "duration": 11,
    "start_time": "2023-03-12T12:18:40.111Z"
   },
   {
    "duration": 307,
    "start_time": "2023-03-12T12:18:40.124Z"
   },
   {
    "duration": 9,
    "start_time": "2023-03-12T12:18:40.433Z"
   },
   {
    "duration": 36,
    "start_time": "2023-03-12T12:18:40.443Z"
   },
   {
    "duration": 10,
    "start_time": "2023-03-12T12:18:40.481Z"
   },
   {
    "duration": 40,
    "start_time": "2023-03-12T12:18:40.493Z"
   },
   {
    "duration": 8,
    "start_time": "2023-03-12T12:18:40.534Z"
   },
   {
    "duration": 20,
    "start_time": "2023-03-12T12:18:40.543Z"
   },
   {
    "duration": 148,
    "start_time": "2023-03-12T12:18:40.565Z"
   },
   {
    "duration": 464,
    "start_time": "2023-03-12T12:18:40.714Z"
   },
   {
    "duration": 67,
    "start_time": "2023-03-12T12:18:41.180Z"
   },
   {
    "duration": 56,
    "start_time": "2023-03-12T12:18:41.249Z"
   },
   {
    "duration": 53,
    "start_time": "2023-03-12T12:18:41.306Z"
   },
   {
    "duration": 155,
    "start_time": "2023-03-12T12:18:41.360Z"
   },
   {
    "duration": 129,
    "start_time": "2023-03-12T12:18:41.516Z"
   },
   {
    "duration": 144,
    "start_time": "2023-03-12T12:18:41.647Z"
   },
   {
    "duration": 14,
    "start_time": "2023-03-12T12:18:41.792Z"
   },
   {
    "duration": 34,
    "start_time": "2023-03-12T12:18:41.808Z"
   },
   {
    "duration": 51,
    "start_time": "2023-03-12T12:18:41.843Z"
   },
   {
    "duration": 110,
    "start_time": "2023-03-12T12:18:41.897Z"
   },
   {
    "duration": 4,
    "start_time": "2023-03-12T12:18:42.009Z"
   },
   {
    "duration": 1416,
    "start_time": "2023-03-12T12:19:01.514Z"
   },
   {
    "duration": 1167,
    "start_time": "2023-03-12T12:19:02.932Z"
   },
   {
    "duration": 138,
    "start_time": "2023-03-12T12:19:04.100Z"
   },
   {
    "duration": 3,
    "start_time": "2023-03-12T12:19:04.241Z"
   },
   {
    "duration": 35,
    "start_time": "2023-03-12T12:19:04.245Z"
   },
   {
    "duration": 83,
    "start_time": "2023-03-12T12:19:04.282Z"
   },
   {
    "duration": 42,
    "start_time": "2023-03-12T12:19:04.366Z"
   },
   {
    "duration": 77,
    "start_time": "2023-03-12T12:19:04.410Z"
   },
   {
    "duration": 50,
    "start_time": "2023-03-12T12:19:04.488Z"
   },
   {
    "duration": 459,
    "start_time": "2023-03-12T12:19:04.540Z"
   },
   {
    "duration": 10,
    "start_time": "2023-03-12T12:19:05.001Z"
   },
   {
    "duration": 309,
    "start_time": "2023-03-12T12:19:05.012Z"
   },
   {
    "duration": 9,
    "start_time": "2023-03-12T12:19:05.323Z"
   },
   {
    "duration": 26,
    "start_time": "2023-03-12T12:19:05.333Z"
   },
   {
    "duration": 25,
    "start_time": "2023-03-12T12:19:05.360Z"
   },
   {
    "duration": 33,
    "start_time": "2023-03-12T12:19:05.386Z"
   },
   {
    "duration": 7,
    "start_time": "2023-03-12T12:19:05.421Z"
   },
   {
    "duration": 25,
    "start_time": "2023-03-12T12:19:05.430Z"
   },
   {
    "duration": 134,
    "start_time": "2023-03-12T12:19:05.479Z"
   },
   {
    "duration": 501,
    "start_time": "2023-03-12T12:19:05.614Z"
   },
   {
    "duration": 79,
    "start_time": "2023-03-12T12:19:06.116Z"
   },
   {
    "duration": 41,
    "start_time": "2023-03-12T12:19:06.197Z"
   },
   {
    "duration": 62,
    "start_time": "2023-03-12T12:19:06.239Z"
   },
   {
    "duration": 138,
    "start_time": "2023-03-12T12:19:06.303Z"
   },
   {
    "duration": 122,
    "start_time": "2023-03-12T12:19:06.442Z"
   },
   {
    "duration": 130,
    "start_time": "2023-03-12T12:19:06.565Z"
   },
   {
    "duration": 10,
    "start_time": "2023-03-12T12:19:06.697Z"
   },
   {
    "duration": 5,
    "start_time": "2023-03-12T12:19:06.710Z"
   },
   {
    "duration": 63,
    "start_time": "2023-03-12T12:19:06.716Z"
   },
   {
    "duration": 124,
    "start_time": "2023-03-12T12:19:06.781Z"
   },
   {
    "duration": 4,
    "start_time": "2023-03-12T12:19:06.907Z"
   },
   {
    "duration": 29998,
    "start_time": "2023-03-12T12:19:06.913Z"
   },
   {
    "duration": 3,
    "start_time": "2023-03-12T12:19:36.913Z"
   },
   {
    "duration": 1352,
    "start_time": "2023-03-12T12:21:41.055Z"
   },
   {
    "duration": 1238,
    "start_time": "2023-03-12T12:21:42.408Z"
   },
   {
    "duration": 140,
    "start_time": "2023-03-12T12:21:43.650Z"
   },
   {
    "duration": 3,
    "start_time": "2023-03-12T12:21:43.792Z"
   },
   {
    "duration": 24,
    "start_time": "2023-03-12T12:21:43.796Z"
   },
   {
    "duration": 82,
    "start_time": "2023-03-12T12:21:43.822Z"
   },
   {
    "duration": 27,
    "start_time": "2023-03-12T12:21:43.906Z"
   },
   {
    "duration": 74,
    "start_time": "2023-03-12T12:21:43.935Z"
   },
   {
    "duration": 46,
    "start_time": "2023-03-12T12:21:44.011Z"
   },
   {
    "duration": 444,
    "start_time": "2023-03-12T12:21:44.058Z"
   },
   {
    "duration": 10,
    "start_time": "2023-03-12T12:21:44.504Z"
   },
   {
    "duration": 284,
    "start_time": "2023-03-12T12:21:44.515Z"
   },
   {
    "duration": 8,
    "start_time": "2023-03-12T12:21:44.800Z"
   },
   {
    "duration": 24,
    "start_time": "2023-03-12T12:21:44.810Z"
   },
   {
    "duration": 8,
    "start_time": "2023-03-12T12:21:44.835Z"
   },
   {
    "duration": 51,
    "start_time": "2023-03-12T12:21:44.845Z"
   },
   {
    "duration": 7,
    "start_time": "2023-03-12T12:21:44.898Z"
   },
   {
    "duration": 20,
    "start_time": "2023-03-12T12:21:44.907Z"
   },
   {
    "duration": 137,
    "start_time": "2023-03-12T12:21:44.928Z"
   },
   {
    "duration": 438,
    "start_time": "2023-03-12T12:21:45.067Z"
   },
   {
    "duration": 58,
    "start_time": "2023-03-12T12:21:45.506Z"
   },
   {
    "duration": 43,
    "start_time": "2023-03-12T12:21:45.566Z"
   },
   {
    "duration": 61,
    "start_time": "2023-03-12T12:21:45.611Z"
   },
   {
    "duration": 130,
    "start_time": "2023-03-12T12:21:45.674Z"
   },
   {
    "duration": 120,
    "start_time": "2023-03-12T12:21:45.805Z"
   },
   {
    "duration": 160,
    "start_time": "2023-03-12T12:21:45.927Z"
   },
   {
    "duration": 12,
    "start_time": "2023-03-12T12:21:46.091Z"
   },
   {
    "duration": 9,
    "start_time": "2023-03-12T12:21:46.105Z"
   },
   {
    "duration": 67,
    "start_time": "2023-03-12T12:21:46.116Z"
   },
   {
    "duration": 106,
    "start_time": "2023-03-12T12:21:46.185Z"
   },
   {
    "duration": 52,
    "start_time": "2023-03-12T12:21:46.293Z"
   },
   {
    "duration": 0,
    "start_time": "2023-03-12T12:21:46.347Z"
   },
   {
    "duration": 0,
    "start_time": "2023-03-12T12:21:46.348Z"
   },
   {
    "duration": 0,
    "start_time": "2023-03-12T12:21:46.349Z"
   },
   {
    "duration": 0,
    "start_time": "2023-03-12T12:21:46.350Z"
   },
   {
    "duration": 0,
    "start_time": "2023-03-12T12:21:46.351Z"
   },
   {
    "duration": 0,
    "start_time": "2023-03-12T12:21:46.352Z"
   },
   {
    "duration": 0,
    "start_time": "2023-03-12T12:21:46.353Z"
   },
   {
    "duration": 0,
    "start_time": "2023-03-12T12:21:46.354Z"
   },
   {
    "duration": 0,
    "start_time": "2023-03-12T12:21:46.354Z"
   },
   {
    "duration": 0,
    "start_time": "2023-03-12T12:21:46.355Z"
   },
   {
    "duration": 1423,
    "start_time": "2023-03-12T12:21:58.152Z"
   },
   {
    "duration": 1202,
    "start_time": "2023-03-12T12:21:59.577Z"
   },
   {
    "duration": 145,
    "start_time": "2023-03-12T12:22:00.781Z"
   },
   {
    "duration": 4,
    "start_time": "2023-03-12T12:22:00.928Z"
   },
   {
    "duration": 61,
    "start_time": "2023-03-12T12:22:00.933Z"
   },
   {
    "duration": 117,
    "start_time": "2023-03-12T12:22:00.996Z"
   },
   {
    "duration": 37,
    "start_time": "2023-03-12T12:22:01.115Z"
   },
   {
    "duration": 87,
    "start_time": "2023-03-12T12:22:01.154Z"
   },
   {
    "duration": 79,
    "start_time": "2023-03-12T12:22:01.242Z"
   },
   {
    "duration": 489,
    "start_time": "2023-03-12T12:22:01.324Z"
   },
   {
    "duration": 10,
    "start_time": "2023-03-12T12:22:01.814Z"
   },
   {
    "duration": 335,
    "start_time": "2023-03-12T12:22:01.826Z"
   },
   {
    "duration": 9,
    "start_time": "2023-03-12T12:22:02.162Z"
   },
   {
    "duration": 29,
    "start_time": "2023-03-12T12:22:02.179Z"
   },
   {
    "duration": 9,
    "start_time": "2023-03-12T12:22:02.210Z"
   },
   {
    "duration": 43,
    "start_time": "2023-03-12T12:22:02.220Z"
   },
   {
    "duration": 19,
    "start_time": "2023-03-12T12:22:02.264Z"
   },
   {
    "duration": 36,
    "start_time": "2023-03-12T12:22:02.285Z"
   },
   {
    "duration": 148,
    "start_time": "2023-03-12T12:22:02.322Z"
   },
   {
    "duration": 486,
    "start_time": "2023-03-12T12:22:02.472Z"
   },
   {
    "duration": 75,
    "start_time": "2023-03-12T12:22:02.960Z"
   },
   {
    "duration": 45,
    "start_time": "2023-03-12T12:22:03.037Z"
   },
   {
    "duration": 62,
    "start_time": "2023-03-12T12:22:03.084Z"
   },
   {
    "duration": 155,
    "start_time": "2023-03-12T12:22:03.148Z"
   },
   {
    "duration": 132,
    "start_time": "2023-03-12T12:22:03.304Z"
   },
   {
    "duration": 145,
    "start_time": "2023-03-12T12:22:03.437Z"
   },
   {
    "duration": 13,
    "start_time": "2023-03-12T12:22:03.584Z"
   },
   {
    "duration": 8,
    "start_time": "2023-03-12T12:22:03.600Z"
   },
   {
    "duration": 57,
    "start_time": "2023-03-12T12:22:03.609Z"
   },
   {
    "duration": 120,
    "start_time": "2023-03-12T12:22:03.667Z"
   },
   {
    "duration": 4,
    "start_time": "2023-03-12T12:22:03.788Z"
   },
   {
    "duration": 1305,
    "start_time": "2023-03-12T12:22:43.934Z"
   },
   {
    "duration": 1196,
    "start_time": "2023-03-12T12:22:45.241Z"
   },
   {
    "duration": 92,
    "start_time": "2023-03-12T12:22:46.438Z"
   },
   {
    "duration": 3,
    "start_time": "2023-03-12T12:22:46.532Z"
   },
   {
    "duration": 28,
    "start_time": "2023-03-12T12:22:46.536Z"
   },
   {
    "duration": 84,
    "start_time": "2023-03-12T12:22:46.566Z"
   },
   {
    "duration": 39,
    "start_time": "2023-03-12T12:22:46.652Z"
   },
   {
    "duration": 71,
    "start_time": "2023-03-12T12:22:46.693Z"
   },
   {
    "duration": 57,
    "start_time": "2023-03-12T12:22:46.766Z"
   },
   {
    "duration": 454,
    "start_time": "2023-03-12T12:22:46.826Z"
   },
   {
    "duration": 10,
    "start_time": "2023-03-12T12:22:47.281Z"
   },
   {
    "duration": 285,
    "start_time": "2023-03-12T12:22:47.292Z"
   },
   {
    "duration": 9,
    "start_time": "2023-03-12T12:22:47.579Z"
   },
   {
    "duration": 25,
    "start_time": "2023-03-12T12:22:47.590Z"
   },
   {
    "duration": 10,
    "start_time": "2023-03-12T12:22:47.616Z"
   },
   {
    "duration": 56,
    "start_time": "2023-03-12T12:22:47.628Z"
   },
   {
    "duration": 7,
    "start_time": "2023-03-12T12:22:47.686Z"
   },
   {
    "duration": 21,
    "start_time": "2023-03-12T12:22:47.694Z"
   },
   {
    "duration": 143,
    "start_time": "2023-03-12T12:22:47.716Z"
   },
   {
    "duration": 431,
    "start_time": "2023-03-12T12:22:47.860Z"
   },
   {
    "duration": 58,
    "start_time": "2023-03-12T12:22:48.292Z"
   },
   {
    "duration": 41,
    "start_time": "2023-03-12T12:22:48.351Z"
   },
   {
    "duration": 50,
    "start_time": "2023-03-12T12:22:48.394Z"
   },
   {
    "duration": 137,
    "start_time": "2023-03-12T12:22:48.446Z"
   },
   {
    "duration": 132,
    "start_time": "2023-03-12T12:22:48.585Z"
   },
   {
    "duration": 125,
    "start_time": "2023-03-12T12:22:48.718Z"
   },
   {
    "duration": 10,
    "start_time": "2023-03-12T12:22:48.844Z"
   },
   {
    "duration": 2,
    "start_time": "2023-03-12T12:22:48.858Z"
   },
   {
    "duration": 69,
    "start_time": "2023-03-12T12:22:48.862Z"
   },
   {
    "duration": 110,
    "start_time": "2023-03-12T12:22:48.932Z"
   },
   {
    "duration": 3,
    "start_time": "2023-03-12T12:22:49.043Z"
   },
   {
    "duration": 145497,
    "start_time": "2023-03-12T12:22:49.048Z"
   },
   {
    "duration": 3,
    "start_time": "2023-03-12T12:25:14.547Z"
   },
   {
    "duration": 351896,
    "start_time": "2023-03-12T12:25:14.551Z"
   },
   {
    "duration": 2,
    "start_time": "2023-03-12T12:31:06.448Z"
   },
   {
    "duration": 75737,
    "start_time": "2023-03-12T12:31:06.452Z"
   },
   {
    "duration": 95,
    "start_time": "2023-03-12T12:32:22.191Z"
   },
   {
    "duration": 33,
    "start_time": "2023-03-12T12:32:22.288Z"
   },
   {
    "duration": 160775,
    "start_time": "2023-03-12T12:32:22.323Z"
   },
   {
    "duration": 82,
    "start_time": "2023-03-12T12:35:03.100Z"
   },
   {
    "duration": 1902,
    "start_time": "2023-03-12T12:35:03.183Z"
   },
   {
    "duration": 1296,
    "start_time": "2023-03-12T12:41:30.438Z"
   },
   {
    "duration": 1407,
    "start_time": "2023-03-12T12:41:31.736Z"
   },
   {
    "duration": 122,
    "start_time": "2023-03-12T12:41:33.144Z"
   },
   {
    "duration": 3,
    "start_time": "2023-03-12T12:41:33.268Z"
   },
   {
    "duration": 27,
    "start_time": "2023-03-12T12:41:33.272Z"
   },
   {
    "duration": 82,
    "start_time": "2023-03-12T12:41:33.300Z"
   },
   {
    "duration": 29,
    "start_time": "2023-03-12T12:41:33.383Z"
   },
   {
    "duration": 79,
    "start_time": "2023-03-12T12:41:33.413Z"
   },
   {
    "duration": 46,
    "start_time": "2023-03-12T12:41:33.494Z"
   },
   {
    "duration": 460,
    "start_time": "2023-03-12T12:41:33.542Z"
   },
   {
    "duration": 8,
    "start_time": "2023-03-12T12:41:34.004Z"
   },
   {
    "duration": 329,
    "start_time": "2023-03-12T12:41:34.014Z"
   },
   {
    "duration": 9,
    "start_time": "2023-03-12T12:41:34.345Z"
   },
   {
    "duration": 40,
    "start_time": "2023-03-12T12:41:34.355Z"
   },
   {
    "duration": 11,
    "start_time": "2023-03-12T12:41:34.397Z"
   },
   {
    "duration": 30,
    "start_time": "2023-03-12T12:41:34.410Z"
   },
   {
    "duration": 11,
    "start_time": "2023-03-12T12:41:34.442Z"
   },
   {
    "duration": 50,
    "start_time": "2023-03-12T12:41:34.454Z"
   },
   {
    "duration": 140,
    "start_time": "2023-03-12T12:41:34.506Z"
   },
   {
    "duration": 449,
    "start_time": "2023-03-12T12:41:34.648Z"
   },
   {
    "duration": 65,
    "start_time": "2023-03-12T12:41:35.099Z"
   },
   {
    "duration": 49,
    "start_time": "2023-03-12T12:41:35.165Z"
   },
   {
    "duration": 60,
    "start_time": "2023-03-12T12:41:35.215Z"
   },
   {
    "duration": 128,
    "start_time": "2023-03-12T12:41:35.279Z"
   },
   {
    "duration": 128,
    "start_time": "2023-03-12T12:41:35.408Z"
   },
   {
    "duration": 130,
    "start_time": "2023-03-12T12:41:35.538Z"
   },
   {
    "duration": 12,
    "start_time": "2023-03-12T12:41:35.670Z"
   },
   {
    "duration": 3,
    "start_time": "2023-03-12T12:41:35.685Z"
   },
   {
    "duration": 57,
    "start_time": "2023-03-12T12:41:35.689Z"
   },
   {
    "duration": 126,
    "start_time": "2023-03-12T12:41:35.748Z"
   },
   {
    "duration": 6,
    "start_time": "2023-03-12T12:41:35.875Z"
   },
   {
    "duration": 364369,
    "start_time": "2023-03-12T12:41:35.882Z"
   },
   {
    "duration": 3,
    "start_time": "2023-03-12T12:47:40.252Z"
   },
   {
    "duration": 359327,
    "start_time": "2023-03-12T12:47:40.256Z"
   },
   {
    "duration": 3,
    "start_time": "2023-03-12T12:53:39.584Z"
   },
   {
    "duration": 214493,
    "start_time": "2023-03-12T12:53:39.589Z"
   },
   {
    "duration": 9,
    "start_time": "2023-03-12T12:57:14.083Z"
   },
   {
    "duration": 5,
    "start_time": "2023-03-12T12:57:14.093Z"
   },
   {
    "duration": 89890,
    "start_time": "2023-03-12T12:57:14.099Z"
   },
   {
    "duration": 9,
    "start_time": "2023-03-12T12:58:44.080Z"
   },
   {
    "duration": 1702,
    "start_time": "2023-03-12T12:58:45.803Z"
   },
   {
    "duration": 1711,
    "start_time": "2023-03-12T13:02:19.194Z"
   },
   {
    "duration": 3706,
    "start_time": "2023-03-12T13:02:31.117Z"
   },
   {
    "duration": 3848,
    "start_time": "2023-03-12T13:03:01.940Z"
   }
  ],
  "kernelspec": {
   "display_name": "Python 3 (ipykernel)",
   "language": "python",
   "name": "python3"
  },
  "language_info": {
   "codemirror_mode": {
    "name": "ipython",
    "version": 3
   },
   "file_extension": ".py",
   "mimetype": "text/x-python",
   "name": "python",
   "nbconvert_exporter": "python",
   "pygments_lexer": "ipython3",
   "version": "3.9.5"
  },
  "toc": {
   "base_numbering": 1,
   "nav_menu": {},
   "number_sections": true,
   "sideBar": true,
   "skip_h1_title": true,
   "title_cell": "Table of Contents",
   "title_sidebar": "Contents",
   "toc_cell": false,
   "toc_position": {},
   "toc_section_display": true,
   "toc_window_display": false
  }
 },
 "nbformat": 4,
 "nbformat_minor": 2
}
