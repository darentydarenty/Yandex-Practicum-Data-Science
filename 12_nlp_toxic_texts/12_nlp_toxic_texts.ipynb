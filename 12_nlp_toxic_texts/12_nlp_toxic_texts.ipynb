{
 "cells": [
  {
   "cell_type": "markdown",
   "metadata": {},
   "source": [
    "# Проект для «Викишоп»"
   ]
  },
  {
   "attachments": {},
   "cell_type": "markdown",
   "metadata": {},
   "source": [
    "Интернет-магазин «Викишоп» запускает новый сервис. Теперь пользователи могут редактировать и дополнять описания товаров, как в вики-сообществах. То есть клиенты предлагают свои правки и комментируют изменения других. Магазину нужен инструмент, который будет искать токсичные комментарии и отправлять их на модерацию. \n",
    "\n",
    "Обучите модель классифицировать комментарии на позитивные и негативные. В вашем распоряжении набор данных с разметкой о токсичности правок.\n",
    "\n",
    "Постройте модель со значением метрики качества *F1* не меньше 0.75. \n",
    "\n",
    "**Инструкция по выполнению проекта**\n",
    "\n",
    "1. Загрузите и подготовьте данные.\n",
    "2. Обучите разные модели. \n",
    "3. Сделайте выводы.\n",
    "\n",
    "**Описание данных**\n",
    "\n",
    "Данные находятся в файле `toxic_comments.csv`. Столбец *text* в нём содержит текст комментария, а *toxic* — целевой признак."
   ]
  },
  {
   "cell_type": "markdown",
   "metadata": {},
   "source": [
    "## Подготовка\n",
    "### Импорт библиотек и загрузка данных"
   ]
  },
  {
   "cell_type": "code",
   "execution_count": 1,
   "metadata": {},
   "outputs": [
    {
     "name": "stderr",
     "output_type": "stream",
     "text": [
      "/tmp/ipykernel_77/1708786476.py:4: FutureWarning: Passing a negative integer is deprecated in version 1.0 and will not be supported in future version. Instead, use None to not limit the column width.\n",
      "  pd.set_option('display.max_colwidth', -1)\n",
      "[nltk_data] Downloading package stopwords to /home/jovyan/nltk_data...\n",
      "[nltk_data]   Package stopwords is already up-to-date!\n"
     ]
    }
   ],
   "source": [
    "import re\n",
    "import numpy as np\n",
    "import pandas as pd\n",
    "pd.set_option('display.max_colwidth', -1)\n",
    "\n",
    "import nltk\n",
    "from nltk.corpus import stopwords\n",
    "from nltk.stem import WordNetLemmatizer\n",
    "nltk.download('stopwords')\n",
    "stopwords = set(stopwords.words('english'))\n",
    "\n",
    "from sklearn.model_selection import train_test_split\n",
    "from sklearn.feature_extraction.text import TfidfVectorizer\n",
    "from sklearn.model_selection import GridSearchCV\n",
    "from sklearn.linear_model import LogisticRegression\n",
    "from sklearn.ensemble import RandomForestClassifier\n",
    "from sklearn.metrics import f1_score\n",
    "\n",
    "import warnings\n",
    "warnings.filterwarnings(\"ignore\")"
   ]
  },
  {
   "cell_type": "code",
   "execution_count": 2,
   "metadata": {},
   "outputs": [
    {
     "data": {
      "text/html": [
       "<div>\n",
       "<style scoped>\n",
       "    .dataframe tbody tr th:only-of-type {\n",
       "        vertical-align: middle;\n",
       "    }\n",
       "\n",
       "    .dataframe tbody tr th {\n",
       "        vertical-align: top;\n",
       "    }\n",
       "\n",
       "    .dataframe thead th {\n",
       "        text-align: right;\n",
       "    }\n",
       "</style>\n",
       "<table border=\"1\" class=\"dataframe\">\n",
       "  <thead>\n",
       "    <tr style=\"text-align: right;\">\n",
       "      <th></th>\n",
       "      <th>text</th>\n",
       "      <th>toxic</th>\n",
       "    </tr>\n",
       "  </thead>\n",
       "  <tbody>\n",
       "    <tr>\n",
       "      <th>0</th>\n",
       "      <td>Explanation\\nWhy the edits made under my username Hardcore Metallica Fan were reverted? They weren't vandalisms, just closure on some GAs after I voted at New York Dolls FAC. And please don't remove the template from the talk page since I'm retired now.89.205.38.27</td>\n",
       "      <td>0</td>\n",
       "    </tr>\n",
       "    <tr>\n",
       "      <th>1</th>\n",
       "      <td>D'aww! He matches this background colour I'm seemingly stuck with. Thanks.  (talk) 21:51, January 11, 2016 (UTC)</td>\n",
       "      <td>0</td>\n",
       "    </tr>\n",
       "    <tr>\n",
       "      <th>2</th>\n",
       "      <td>Hey man, I'm really not trying to edit war. It's just that this guy is constantly removing relevant information and talking to me through edits instead of my talk page. He seems to care more about the formatting than the actual info.</td>\n",
       "      <td>0</td>\n",
       "    </tr>\n",
       "    <tr>\n",
       "      <th>3</th>\n",
       "      <td>\"\\nMore\\nI can't make any real suggestions on improvement - I wondered if the section statistics should be later on, or a subsection of \"\"types of accidents\"\"  -I think the references may need tidying so that they are all in the exact same format ie date format etc. I can do that later on, if no-one else does first - if you have any preferences for formatting style on references or want to do it yourself please let me know.\\n\\nThere appears to be a backlog on articles for review so I guess there may be a delay until a reviewer turns up. It's listed in the relevant form eg Wikipedia:Good_article_nominations#Transport  \"</td>\n",
       "      <td>0</td>\n",
       "    </tr>\n",
       "    <tr>\n",
       "      <th>4</th>\n",
       "      <td>You, sir, are my hero. Any chance you remember what page that's on?</td>\n",
       "      <td>0</td>\n",
       "    </tr>\n",
       "  </tbody>\n",
       "</table>\n",
       "</div>"
      ],
      "text/plain": [
       "                                                                                                                                                                                                                                                                                                                                                                                                                                                                                                                                                                                                                                                 text  \\\n",
       "0  Explanation\\nWhy the edits made under my username Hardcore Metallica Fan were reverted? They weren't vandalisms, just closure on some GAs after I voted at New York Dolls FAC. And please don't remove the template from the talk page since I'm retired now.89.205.38.27                                                                                                                                                                                                                                                                                                                                                                            \n",
       "1  D'aww! He matches this background colour I'm seemingly stuck with. Thanks.  (talk) 21:51, January 11, 2016 (UTC)                                                                                                                                                                                                                                                                                                                                                                                                                                                                                                                                     \n",
       "2  Hey man, I'm really not trying to edit war. It's just that this guy is constantly removing relevant information and talking to me through edits instead of my talk page. He seems to care more about the formatting than the actual info.                                                                                                                                                                                                                                                                                                                                                                                                            \n",
       "3  \"\\nMore\\nI can't make any real suggestions on improvement - I wondered if the section statistics should be later on, or a subsection of \"\"types of accidents\"\"  -I think the references may need tidying so that they are all in the exact same format ie date format etc. I can do that later on, if no-one else does first - if you have any preferences for formatting style on references or want to do it yourself please let me know.\\n\\nThere appears to be a backlog on articles for review so I guess there may be a delay until a reviewer turns up. It's listed in the relevant form eg Wikipedia:Good_article_nominations#Transport  \"   \n",
       "4  You, sir, are my hero. Any chance you remember what page that's on?                                                                                                                                                                                                                                                                                                                                                                                                                                                                                                                                                                                  \n",
       "\n",
       "   toxic  \n",
       "0  0      \n",
       "1  0      \n",
       "2  0      \n",
       "3  0      \n",
       "4  0      "
      ]
     },
     "execution_count": 2,
     "metadata": {},
     "output_type": "execute_result"
    }
   ],
   "source": [
    "data = pd.read_csv('/datasets/toxic_comments.csv', index_col=0)\n",
    "data.head()"
   ]
  },
  {
   "cell_type": "markdown",
   "metadata": {},
   "source": [
    "### Анализ данных\n"
   ]
  },
  {
   "cell_type": "code",
   "execution_count": 3,
   "metadata": {},
   "outputs": [
    {
     "name": "stdout",
     "output_type": "stream",
     "text": [
      "<class 'pandas.core.frame.DataFrame'>\n",
      "Int64Index: 159292 entries, 0 to 159450\n",
      "Data columns (total 2 columns):\n",
      " #   Column  Non-Null Count   Dtype \n",
      "---  ------  --------------   ----- \n",
      " 0   text    159292 non-null  object\n",
      " 1   toxic   159292 non-null  int64 \n",
      "dtypes: int64(1), object(1)\n",
      "memory usage: 3.6+ MB\n"
     ]
    }
   ],
   "source": [
    "data.info()"
   ]
  },
  {
   "cell_type": "markdown",
   "metadata": {},
   "source": [
    "Пропусков нет, а типы данных определены верно.  \n",
    "Проверим наличие явных дубликатов."
   ]
  },
  {
   "cell_type": "code",
   "execution_count": 4,
   "metadata": {},
   "outputs": [
    {
     "data": {
      "text/plain": [
       "0"
      ]
     },
     "execution_count": 4,
     "metadata": {},
     "output_type": "execute_result"
    }
   ],
   "source": [
    "data.duplicated().sum()"
   ]
  },
  {
   "cell_type": "markdown",
   "metadata": {},
   "source": [
    "Теперь взглянем на баланс классов в датасете."
   ]
  },
  {
   "cell_type": "code",
   "execution_count": 5,
   "metadata": {},
   "outputs": [
    {
     "data": {
      "text/plain": [
       "0    143106\n",
       "1    16186 \n",
       "Name: toxic, dtype: int64"
      ]
     },
     "execution_count": 5,
     "metadata": {},
     "output_type": "execute_result"
    }
   ],
   "source": [
    "data['toxic'].value_counts()"
   ]
  },
  {
   "cell_type": "markdown",
   "metadata": {},
   "source": [
    "Видим, что баланс классов нарушен. Учтём это при построении моделей.  \n",
    "Можем приступать к предобработке данных."
   ]
  },
  {
   "cell_type": "markdown",
   "metadata": {},
   "source": [
    "### Препроцессинг данных"
   ]
  },
  {
   "cell_type": "markdown",
   "metadata": {},
   "source": [
    "Первым делом с помощью регулярных выражений избавимся от лишних символов, которые сразу бросаются в глаза даже в первых строках датасета."
   ]
  },
  {
   "cell_type": "code",
   "execution_count": 6,
   "metadata": {},
   "outputs": [],
   "source": [
    "data['edited_text'] = data['text'].apply(lambda x: re.sub(r'[^a-zA-Z ]', ' ', x.lower()))"
   ]
  },
  {
   "cell_type": "markdown",
   "metadata": {},
   "source": [
    "Далее - токенизация и лемматизация слов."
   ]
  },
  {
   "cell_type": "code",
   "execution_count": 7,
   "metadata": {},
   "outputs": [],
   "source": [
    "WNL = WordNetLemmatizer()\n",
    "\n",
    "def lemmatize(text):\n",
    "    return [WNL.lemmatize(i) for i in text]\n",
    "\n",
    "data['edited_text'] = data['edited_text'].apply(lambda x: lemmatize(x.split()))"
   ]
  },
  {
   "cell_type": "markdown",
   "metadata": {},
   "source": [
    "Теперь посмотрим, что получилось в результате преобразований."
   ]
  },
  {
   "cell_type": "code",
   "execution_count": 8,
   "metadata": {},
   "outputs": [
    {
     "data": {
      "text/html": [
       "<div>\n",
       "<style scoped>\n",
       "    .dataframe tbody tr th:only-of-type {\n",
       "        vertical-align: middle;\n",
       "    }\n",
       "\n",
       "    .dataframe tbody tr th {\n",
       "        vertical-align: top;\n",
       "    }\n",
       "\n",
       "    .dataframe thead th {\n",
       "        text-align: right;\n",
       "    }\n",
       "</style>\n",
       "<table border=\"1\" class=\"dataframe\">\n",
       "  <thead>\n",
       "    <tr style=\"text-align: right;\">\n",
       "      <th></th>\n",
       "      <th>text</th>\n",
       "      <th>toxic</th>\n",
       "      <th>edited_text</th>\n",
       "    </tr>\n",
       "  </thead>\n",
       "  <tbody>\n",
       "    <tr>\n",
       "      <th>0</th>\n",
       "      <td>Explanation\\nWhy the edits made under my username Hardcore Metallica Fan were reverted? They weren't vandalisms, just closure on some GAs after I voted at New York Dolls FAC. And please don't remove the template from the talk page since I'm retired now.89.205.38.27</td>\n",
       "      <td>0</td>\n",
       "      <td>[explanation, why, the, edits, made, under, my, username, hardcore, metallica, fan, were, reverted, they, weren, t, vandalism, just, closure, on, some, gas, after, i, voted, at, new, york, doll, fac, and, please, don, t, remove, the, template, from, the, talk, page, since, i, m, retired, now]</td>\n",
       "    </tr>\n",
       "    <tr>\n",
       "      <th>1</th>\n",
       "      <td>D'aww! He matches this background colour I'm seemingly stuck with. Thanks.  (talk) 21:51, January 11, 2016 (UTC)</td>\n",
       "      <td>0</td>\n",
       "      <td>[d, aww, he, match, this, background, colour, i, m, seemingly, stuck, with, thanks, talk, january, utc]</td>\n",
       "    </tr>\n",
       "    <tr>\n",
       "      <th>2</th>\n",
       "      <td>Hey man, I'm really not trying to edit war. It's just that this guy is constantly removing relevant information and talking to me through edits instead of my talk page. He seems to care more about the formatting than the actual info.</td>\n",
       "      <td>0</td>\n",
       "      <td>[hey, man, i, m, really, not, trying, to, edit, war, it, s, just, that, this, guy, is, constantly, removing, relevant, information, and, talking, to, me, through, edits, instead, of, my, talk, page, he, seems, to, care, more, about, the, formatting, than, the, actual, info]</td>\n",
       "    </tr>\n",
       "    <tr>\n",
       "      <th>3</th>\n",
       "      <td>\"\\nMore\\nI can't make any real suggestions on improvement - I wondered if the section statistics should be later on, or a subsection of \"\"types of accidents\"\"  -I think the references may need tidying so that they are all in the exact same format ie date format etc. I can do that later on, if no-one else does first - if you have any preferences for formatting style on references or want to do it yourself please let me know.\\n\\nThere appears to be a backlog on articles for review so I guess there may be a delay until a reviewer turns up. It's listed in the relevant form eg Wikipedia:Good_article_nominations#Transport  \"</td>\n",
       "      <td>0</td>\n",
       "      <td>[more, i, can, t, make, any, real, suggestion, on, improvement, i, wondered, if, the, section, statistic, should, be, later, on, or, a, subsection, of, type, of, accident, i, think, the, reference, may, need, tidying, so, that, they, are, all, in, the, exact, same, format, ie, date, format, etc, i, can, do, that, later, on, if, no, one, else, doe, first, if, you, have, any, preference, for, formatting, style, on, reference, or, want, to, do, it, yourself, please, let, me, know, there, appears, to, be, a, backlog, on, article, for, review, so, i, guess, there, may, be, a, delay, until, a, ...]</td>\n",
       "    </tr>\n",
       "    <tr>\n",
       "      <th>4</th>\n",
       "      <td>You, sir, are my hero. Any chance you remember what page that's on?</td>\n",
       "      <td>0</td>\n",
       "      <td>[you, sir, are, my, hero, any, chance, you, remember, what, page, that, s, on]</td>\n",
       "    </tr>\n",
       "  </tbody>\n",
       "</table>\n",
       "</div>"
      ],
      "text/plain": [
       "                                                                                                                                                                                                                                                                                                                                                                                                                                                                                                                                                                                                                                                 text  \\\n",
       "0  Explanation\\nWhy the edits made under my username Hardcore Metallica Fan were reverted? They weren't vandalisms, just closure on some GAs after I voted at New York Dolls FAC. And please don't remove the template from the talk page since I'm retired now.89.205.38.27                                                                                                                                                                                                                                                                                                                                                                            \n",
       "1  D'aww! He matches this background colour I'm seemingly stuck with. Thanks.  (talk) 21:51, January 11, 2016 (UTC)                                                                                                                                                                                                                                                                                                                                                                                                                                                                                                                                     \n",
       "2  Hey man, I'm really not trying to edit war. It's just that this guy is constantly removing relevant information and talking to me through edits instead of my talk page. He seems to care more about the formatting than the actual info.                                                                                                                                                                                                                                                                                                                                                                                                            \n",
       "3  \"\\nMore\\nI can't make any real suggestions on improvement - I wondered if the section statistics should be later on, or a subsection of \"\"types of accidents\"\"  -I think the references may need tidying so that they are all in the exact same format ie date format etc. I can do that later on, if no-one else does first - if you have any preferences for formatting style on references or want to do it yourself please let me know.\\n\\nThere appears to be a backlog on articles for review so I guess there may be a delay until a reviewer turns up. It's listed in the relevant form eg Wikipedia:Good_article_nominations#Transport  \"   \n",
       "4  You, sir, are my hero. Any chance you remember what page that's on?                                                                                                                                                                                                                                                                                                                                                                                                                                                                                                                                                                                  \n",
       "\n",
       "   toxic  \\\n",
       "0  0       \n",
       "1  0       \n",
       "2  0       \n",
       "3  0       \n",
       "4  0       \n",
       "\n",
       "                                                                                                                                                                                                                                                                                                                                                                                                                                                                                                                                                                                                               edited_text  \n",
       "0  [explanation, why, the, edits, made, under, my, username, hardcore, metallica, fan, were, reverted, they, weren, t, vandalism, just, closure, on, some, gas, after, i, voted, at, new, york, doll, fac, and, please, don, t, remove, the, template, from, the, talk, page, since, i, m, retired, now]                                                                                                                                                                                                                                                                                                                    \n",
       "1  [d, aww, he, match, this, background, colour, i, m, seemingly, stuck, with, thanks, talk, january, utc]                                                                                                                                                                                                                                                                                                                                                                                                                                                                                                                  \n",
       "2  [hey, man, i, m, really, not, trying, to, edit, war, it, s, just, that, this, guy, is, constantly, removing, relevant, information, and, talking, to, me, through, edits, instead, of, my, talk, page, he, seems, to, care, more, about, the, formatting, than, the, actual, info]                                                                                                                                                                                                                                                                                                                                       \n",
       "3  [more, i, can, t, make, any, real, suggestion, on, improvement, i, wondered, if, the, section, statistic, should, be, later, on, or, a, subsection, of, type, of, accident, i, think, the, reference, may, need, tidying, so, that, they, are, all, in, the, exact, same, format, ie, date, format, etc, i, can, do, that, later, on, if, no, one, else, doe, first, if, you, have, any, preference, for, formatting, style, on, reference, or, want, to, do, it, yourself, please, let, me, know, there, appears, to, be, a, backlog, on, article, for, review, so, i, guess, there, may, be, a, delay, until, a, ...]  \n",
       "4  [you, sir, are, my, hero, any, chance, you, remember, what, page, that, s, on]                                                                                                                                                                                                                                                                                                                                                                                                                                                                                                                                           "
      ]
     },
     "execution_count": 8,
     "metadata": {},
     "output_type": "execute_result"
    }
   ],
   "source": [
    "data.head()"
   ]
  },
  {
   "cell_type": "markdown",
   "metadata": {},
   "source": [
    "### Разбиение на выборки и TF-IDF"
   ]
  },
  {
   "cell_type": "code",
   "execution_count": 9,
   "metadata": {},
   "outputs": [],
   "source": [
    "features_train, features_test, target_train, target_test = \\\n",
    "    train_test_split(data['edited_text'], data['toxic'], test_size=0.25, random_state=42)"
   ]
  },
  {
   "cell_type": "code",
   "execution_count": 10,
   "metadata": {},
   "outputs": [
    {
     "data": {
      "text/plain": [
       "((119469, 132803), (39823, 132803))"
      ]
     },
     "execution_count": 10,
     "metadata": {},
     "output_type": "execute_result"
    }
   ],
   "source": [
    "tf_idf = TfidfVectorizer(stop_words=stopwords)\n",
    "features_train = tf_idf.fit_transform(features_train.astype('string'))\n",
    "features_test = tf_idf.transform(features_test.astype('string'))\n",
    "\n",
    "features_train.shape, features_test.shape"
   ]
  },
  {
   "cell_type": "markdown",
   "metadata": {},
   "source": [
    "**Вывод:** Данные были загружены, изучены и подготовлены к работе."
   ]
  },
  {
   "cell_type": "markdown",
   "metadata": {},
   "source": [
    "## Обучение"
   ]
  },
  {
   "cell_type": "code",
   "execution_count": 11,
   "metadata": {},
   "outputs": [],
   "source": [
    "models = ['LogisticRegression', 'RandomForestClassifier']\n",
    "scores = []\n",
    "params = []"
   ]
  },
  {
   "cell_type": "markdown",
   "metadata": {},
   "source": [
    "### LogisticRegression"
   ]
  },
  {
   "cell_type": "code",
   "execution_count": 12,
   "metadata": {},
   "outputs": [
    {
     "name": "stdout",
     "output_type": "stream",
     "text": [
      "Fitting 3 folds for each of 3 candidates, totalling 9 fits\n",
      "[CV 1/3; 1/3] START C=5.........................................................\n",
      "[CV 1/3; 1/3] END .......................................C=5; total time=  42.0s\n",
      "[CV 2/3; 1/3] START C=5.........................................................\n",
      "[CV 2/3; 1/3] END .......................................C=5; total time=  39.7s\n",
      "[CV 3/3; 1/3] START C=5.........................................................\n",
      "[CV 3/3; 1/3] END .......................................C=5; total time=  41.0s\n",
      "[CV 1/3; 2/3] START C=10........................................................\n",
      "[CV 1/3; 2/3] END ......................................C=10; total time=  38.8s\n",
      "[CV 2/3; 2/3] START C=10........................................................\n",
      "[CV 2/3; 2/3] END ......................................C=10; total time=  40.0s\n",
      "[CV 3/3; 2/3] START C=10........................................................\n",
      "[CV 3/3; 2/3] END ......................................C=10; total time=  40.0s\n",
      "[CV 1/3; 3/3] START C=15........................................................\n",
      "[CV 1/3; 3/3] END ......................................C=15; total time=  41.2s\n",
      "[CV 2/3; 3/3] START C=15........................................................\n",
      "[CV 2/3; 3/3] END ......................................C=15; total time=  42.3s\n",
      "[CV 3/3; 3/3] START C=15........................................................\n",
      "[CV 3/3; 3/3] END ......................................C=15; total time=  42.2s\n",
      "CPU times: user 2min 11s, sys: 4min 39s, total: 6min 51s\n",
      "Wall time: 6min 52s\n"
     ]
    }
   ],
   "source": [
    "%%time\n",
    "parameters = {\n",
    "    'C': [5, 10, 15]\n",
    "}\n",
    "\n",
    "logreg = GridSearchCV(LogisticRegression(random_state=42, class_weight='balanced'), parameters,\n",
    "                      cv=3, scoring='f1', error_score='raise', verbose=10)\n",
    "logreg.fit(features_train, target_train)\n",
    "\n",
    "scores.append(logreg.best_score_)\n",
    "params.append(logreg.best_params_)"
   ]
  },
  {
   "cell_type": "markdown",
   "metadata": {},
   "source": [
    "### RandomForestClassifier"
   ]
  },
  {
   "cell_type": "code",
   "execution_count": 13,
   "metadata": {
    "scrolled": false
   },
   "outputs": [
    {
     "name": "stdout",
     "output_type": "stream",
     "text": [
      "Fitting 3 folds for each of 6 candidates, totalling 18 fits\n",
      "[CV 1/3; 1/6] START max_depth=5, n_estimators=20................................\n",
      "[CV 1/3; 1/6] END ..............max_depth=5, n_estimators=20; total time=   1.6s\n",
      "[CV 2/3; 1/6] START max_depth=5, n_estimators=20................................\n",
      "[CV 2/3; 1/6] END ..............max_depth=5, n_estimators=20; total time=   1.5s\n",
      "[CV 3/3; 1/6] START max_depth=5, n_estimators=20................................\n",
      "[CV 3/3; 1/6] END ..............max_depth=5, n_estimators=20; total time=   1.6s\n",
      "[CV 1/3; 2/6] START max_depth=5, n_estimators=40................................\n",
      "[CV 1/3; 2/6] END ..............max_depth=5, n_estimators=40; total time=   3.0s\n",
      "[CV 2/3; 2/6] START max_depth=5, n_estimators=40................................\n",
      "[CV 2/3; 2/6] END ..............max_depth=5, n_estimators=40; total time=   2.9s\n",
      "[CV 3/3; 2/6] START max_depth=5, n_estimators=40................................\n",
      "[CV 3/3; 2/6] END ..............max_depth=5, n_estimators=40; total time=   3.0s\n",
      "[CV 1/3; 3/6] START max_depth=8, n_estimators=20................................\n",
      "[CV 1/3; 3/6] END ..............max_depth=8, n_estimators=20; total time=   2.4s\n",
      "[CV 2/3; 3/6] START max_depth=8, n_estimators=20................................\n",
      "[CV 2/3; 3/6] END ..............max_depth=8, n_estimators=20; total time=   2.4s\n",
      "[CV 3/3; 3/6] START max_depth=8, n_estimators=20................................\n",
      "[CV 3/3; 3/6] END ..............max_depth=8, n_estimators=20; total time=   2.3s\n",
      "[CV 1/3; 4/6] START max_depth=8, n_estimators=40................................\n",
      "[CV 1/3; 4/6] END ..............max_depth=8, n_estimators=40; total time=   4.4s\n",
      "[CV 2/3; 4/6] START max_depth=8, n_estimators=40................................\n",
      "[CV 2/3; 4/6] END ..............max_depth=8, n_estimators=40; total time=   4.5s\n",
      "[CV 3/3; 4/6] START max_depth=8, n_estimators=40................................\n",
      "[CV 3/3; 4/6] END ..............max_depth=8, n_estimators=40; total time=   4.4s\n",
      "[CV 1/3; 5/6] START max_depth=10, n_estimators=20...............................\n",
      "[CV 1/3; 5/6] END .............max_depth=10, n_estimators=20; total time=   2.9s\n",
      "[CV 2/3; 5/6] START max_depth=10, n_estimators=20...............................\n",
      "[CV 2/3; 5/6] END .............max_depth=10, n_estimators=20; total time=   3.0s\n",
      "[CV 3/3; 5/6] START max_depth=10, n_estimators=20...............................\n",
      "[CV 3/3; 5/6] END .............max_depth=10, n_estimators=20; total time=   3.0s\n",
      "[CV 1/3; 6/6] START max_depth=10, n_estimators=40...............................\n",
      "[CV 1/3; 6/6] END .............max_depth=10, n_estimators=40; total time=   5.7s\n",
      "[CV 2/3; 6/6] START max_depth=10, n_estimators=40...............................\n",
      "[CV 2/3; 6/6] END .............max_depth=10, n_estimators=40; total time=   5.6s\n",
      "[CV 3/3; 6/6] START max_depth=10, n_estimators=40...............................\n",
      "[CV 3/3; 6/6] END .............max_depth=10, n_estimators=40; total time=   5.7s\n",
      "CPU times: user 59.8 s, sys: 1.8 s, total: 1min 1s\n",
      "Wall time: 1min 1s\n"
     ]
    }
   ],
   "source": [
    "%%time\n",
    "parameters = {\n",
    "    'n_estimators': [20, 40],\n",
    "    'max_depth': [5, 8, 10]\n",
    "} \n",
    "\n",
    "RFC = GridSearchCV(RandomForestClassifier(random_state=42, class_weight='balanced'), parameters,\n",
    "                   cv=3, scoring='f1', error_score='raise', verbose=10)\n",
    "RFC.fit(features_train, target_train)\n",
    "\n",
    "scores.append(RFC.best_score_)\n",
    "params.append(RFC.best_params_)"
   ]
  },
  {
   "cell_type": "code",
   "execution_count": 14,
   "metadata": {},
   "outputs": [
    {
     "name": "stdout",
     "output_type": "stream",
     "text": [
      "Результаты кросс-валидации\n"
     ]
    },
    {
     "data": {
      "text/html": [
       "<div>\n",
       "<style scoped>\n",
       "    .dataframe tbody tr th:only-of-type {\n",
       "        vertical-align: middle;\n",
       "    }\n",
       "\n",
       "    .dataframe tbody tr th {\n",
       "        vertical-align: top;\n",
       "    }\n",
       "\n",
       "    .dataframe thead th {\n",
       "        text-align: right;\n",
       "    }\n",
       "</style>\n",
       "<table border=\"1\" class=\"dataframe\">\n",
       "  <thead>\n",
       "    <tr style=\"text-align: right;\">\n",
       "      <th></th>\n",
       "      <th>F1</th>\n",
       "      <th>Parameters</th>\n",
       "    </tr>\n",
       "  </thead>\n",
       "  <tbody>\n",
       "    <tr>\n",
       "      <th>LogisticRegression</th>\n",
       "      <td>0.758252</td>\n",
       "      <td>{'C': 10}</td>\n",
       "    </tr>\n",
       "    <tr>\n",
       "      <th>RandomForestClassifier</th>\n",
       "      <td>0.341406</td>\n",
       "      <td>{'max_depth': 10, 'n_estimators': 40}</td>\n",
       "    </tr>\n",
       "  </tbody>\n",
       "</table>\n",
       "</div>"
      ],
      "text/plain": [
       "                              F1                             Parameters\n",
       "LogisticRegression      0.758252  {'C': 10}                            \n",
       "RandomForestClassifier  0.341406  {'max_depth': 10, 'n_estimators': 40}"
      ]
     },
     "execution_count": 14,
     "metadata": {},
     "output_type": "execute_result"
    }
   ],
   "source": [
    "print('Результаты кросс-валидации')\n",
    "pd.DataFrame(data={'F1':scores,\n",
    "                   'Parameters':params},\n",
    "                    index=models)"
   ]
  },
  {
   "cell_type": "markdown",
   "metadata": {},
   "source": [
    "С лучшей стороны себя показала Логистическая Регрессия, проверим её работу на тестовой выборке"
   ]
  },
  {
   "cell_type": "code",
   "execution_count": 16,
   "metadata": {},
   "outputs": [
    {
     "data": {
      "text/plain": [
       "0.7668213457076566"
      ]
     },
     "execution_count": 16,
     "metadata": {},
     "output_type": "execute_result"
    }
   ],
   "source": [
    "predictions = logreg.best_estimator_.predict(features_test)\n",
    "f1_score(target_test, predictions)"
   ]
  },
  {
   "cell_type": "markdown",
   "metadata": {},
   "source": [
    "## Выводы"
   ]
  },
  {
   "cell_type": "markdown",
   "metadata": {},
   "source": [
    "В результате работы мы построили несколько моделей для классификации комментариев на позитивные и негативные.\n",
    "1. Загружены данные и проведена предобработка\n",
    "2. Выполнено сравнение моделей с использованием различных наборов гиперпараметров\n",
    "3. Выбрана лучшая модель по результатам метрики F1\n",
    "\n",
    "Были использованы:\n",
    "- LogisticRegression\n",
    "- RandomForestRegressor\n",
    "\n",
    "Наивысший показатель F1-меры на тестовой выборке продемонстрировала Логистическая Регрессия с результатом 0.767 и параметром C=10."
   ]
  }
 ],
 "metadata": {
  "ExecuteTimeLog": [
   {
    "duration": 1562,
    "start_time": "2023-03-06T21:57:51.017Z"
   },
   {
    "duration": 2485,
    "start_time": "2023-03-06T21:57:52.582Z"
   },
   {
    "duration": 855,
    "start_time": "2023-03-06T21:58:23.729Z"
   },
   {
    "duration": 33,
    "start_time": "2023-03-06T21:58:28.441Z"
   },
   {
    "duration": 228,
    "start_time": "2023-03-06T21:58:30.817Z"
   },
   {
    "duration": 8,
    "start_time": "2023-03-06T21:58:32.388Z"
   },
   {
    "duration": 5,
    "start_time": "2023-03-06T21:59:27.628Z"
   },
   {
    "duration": 825,
    "start_time": "2023-03-06T21:59:29.299Z"
   },
   {
    "duration": 35,
    "start_time": "2023-03-06T21:59:34.450Z"
   },
   {
    "duration": 239,
    "start_time": "2023-03-06T21:59:36.191Z"
   },
   {
    "duration": 6,
    "start_time": "2023-03-06T21:59:37.044Z"
   },
   {
    "duration": 1471,
    "start_time": "2023-03-06T22:07:22.322Z"
   },
   {
    "duration": 1416,
    "start_time": "2023-03-06T22:33:10.215Z"
   },
   {
    "duration": 876,
    "start_time": "2023-03-06T22:33:11.633Z"
   },
   {
    "duration": 28,
    "start_time": "2023-03-06T22:33:12.510Z"
   },
   {
    "duration": 243,
    "start_time": "2023-03-06T22:33:12.540Z"
   },
   {
    "duration": 6,
    "start_time": "2023-03-06T22:33:12.785Z"
   },
   {
    "duration": 1437,
    "start_time": "2023-03-06T22:33:12.793Z"
   },
   {
    "duration": 32543,
    "start_time": "2023-03-06T22:33:14.232Z"
   },
   {
    "duration": 461,
    "start_time": "2023-03-06T22:33:46.777Z"
   },
   {
    "duration": 44,
    "start_time": "2023-03-06T22:33:47.239Z"
   },
   {
    "duration": 8887,
    "start_time": "2023-03-06T22:33:47.291Z"
   },
   {
    "duration": 1637,
    "start_time": "2023-03-07T14:03:25.008Z"
   },
   {
    "duration": 2882,
    "start_time": "2023-03-07T14:03:26.647Z"
   },
   {
    "duration": 46,
    "start_time": "2023-03-07T14:03:29.531Z"
   },
   {
    "duration": 268,
    "start_time": "2023-03-07T14:03:29.580Z"
   },
   {
    "duration": 7,
    "start_time": "2023-03-07T14:03:29.852Z"
   },
   {
    "duration": 1774,
    "start_time": "2023-03-07T14:03:29.862Z"
   },
   {
    "duration": 38217,
    "start_time": "2023-03-07T14:03:31.643Z"
   },
   {
    "duration": 12,
    "start_time": "2023-03-07T14:04:09.862Z"
   },
   {
    "duration": 53,
    "start_time": "2023-03-07T14:04:09.878Z"
   },
   {
    "duration": 10275,
    "start_time": "2023-03-07T14:04:09.933Z"
   },
   {
    "duration": 4,
    "start_time": "2023-03-07T14:04:20.210Z"
   },
   {
    "duration": 49829,
    "start_time": "2023-03-07T14:04:20.216Z"
   },
   {
    "duration": 18820,
    "start_time": "2023-03-07T14:05:10.048Z"
   },
   {
    "duration": 99,
    "start_time": "2023-03-07T14:05:28.871Z"
   },
   {
    "duration": 9,
    "start_time": "2023-03-07T14:05:28.972Z"
   },
   {
    "duration": 2,
    "start_time": "2023-03-07T14:06:03.770Z"
   },
   {
    "duration": 53087,
    "start_time": "2023-03-07T14:06:05.070Z"
   },
   {
    "duration": 147542,
    "start_time": "2023-03-07T14:06:58.162Z"
   },
   {
    "duration": 74,
    "start_time": "2023-03-07T14:09:25.705Z"
   },
   {
    "duration": 19,
    "start_time": "2023-03-07T14:09:25.781Z"
   },
   {
    "duration": 0,
    "start_time": "2023-03-07T14:11:51.610Z"
   },
   {
    "duration": 0,
    "start_time": "2023-03-07T14:11:51.611Z"
   },
   {
    "duration": 47742,
    "start_time": "2023-03-07T14:11:56.357Z"
   },
   {
    "duration": 31,
    "start_time": "2023-03-07T14:12:44.101Z"
   },
   {
    "duration": 4,
    "start_time": "2023-03-07T14:12:57.204Z"
   },
   {
    "duration": 2,
    "start_time": "2023-03-07T14:14:39.587Z"
   },
   {
    "duration": 11739,
    "start_time": "2023-03-07T14:14:40.959Z"
   },
   {
    "duration": 4,
    "start_time": "2023-03-07T14:15:12.411Z"
   },
   {
    "duration": 51666,
    "start_time": "2023-03-07T14:15:40.408Z"
   },
   {
    "duration": 5,
    "start_time": "2023-03-07T14:16:32.076Z"
   },
   {
    "duration": 2,
    "start_time": "2023-03-07T14:18:21.928Z"
   },
   {
    "duration": 49163,
    "start_time": "2023-03-07T14:18:23.235Z"
   },
   {
    "duration": 4,
    "start_time": "2023-03-07T14:19:12.400Z"
   },
   {
    "duration": 481636,
    "start_time": "2023-03-07T14:19:15.917Z"
   },
   {
    "duration": 4,
    "start_time": "2023-03-07T14:27:17.555Z"
   },
   {
    "duration": 70674,
    "start_time": "2023-03-07T14:27:17.560Z"
   },
   {
    "duration": 13,
    "start_time": "2023-03-07T14:28:28.236Z"
   },
   {
    "duration": 1497,
    "start_time": "2023-03-08T18:08:01.140Z"
   },
   {
    "duration": 3242,
    "start_time": "2023-03-08T18:08:02.639Z"
   },
   {
    "duration": 29,
    "start_time": "2023-03-08T18:08:05.883Z"
   },
   {
    "duration": 219,
    "start_time": "2023-03-08T18:08:05.914Z"
   },
   {
    "duration": 6,
    "start_time": "2023-03-08T18:08:06.135Z"
   },
   {
    "duration": 1372,
    "start_time": "2023-03-08T18:08:06.143Z"
   },
   {
    "duration": 32591,
    "start_time": "2023-03-08T18:08:07.517Z"
   },
   {
    "duration": 10,
    "start_time": "2023-03-08T18:08:40.112Z"
   },
   {
    "duration": 38,
    "start_time": "2023-03-08T18:08:40.124Z"
   },
   {
    "duration": 141,
    "start_time": "2023-03-08T18:08:40.164Z"
   },
   {
    "duration": 0,
    "start_time": "2023-03-08T18:08:40.307Z"
   },
   {
    "duration": 0,
    "start_time": "2023-03-08T18:08:40.311Z"
   },
   {
    "duration": 0,
    "start_time": "2023-03-08T18:08:40.313Z"
   },
   {
    "duration": 0,
    "start_time": "2023-03-08T18:08:40.314Z"
   },
   {
    "duration": 0,
    "start_time": "2023-03-08T18:08:40.315Z"
   },
   {
    "duration": 3,
    "start_time": "2023-03-08T18:51:10.333Z"
   },
   {
    "duration": 11,
    "start_time": "2023-03-08T18:51:18.852Z"
   },
   {
    "duration": 13,
    "start_time": "2023-03-08T18:51:39.191Z"
   },
   {
    "duration": 14,
    "start_time": "2023-03-08T18:55:30.283Z"
   },
   {
    "duration": 13,
    "start_time": "2023-03-08T18:59:09.205Z"
   },
   {
    "duration": 8,
    "start_time": "2023-03-08T18:59:43.783Z"
   },
   {
    "duration": 8786,
    "start_time": "2023-03-08T19:03:08.893Z"
   },
   {
    "duration": 1506,
    "start_time": "2023-03-08T19:05:39.532Z"
   },
   {
    "duration": 826,
    "start_time": "2023-03-08T19:05:41.039Z"
   },
   {
    "duration": 34,
    "start_time": "2023-03-08T19:05:41.866Z"
   },
   {
    "duration": 226,
    "start_time": "2023-03-08T19:05:41.913Z"
   },
   {
    "duration": 6,
    "start_time": "2023-03-08T19:05:42.141Z"
   },
   {
    "duration": 1389,
    "start_time": "2023-03-08T19:05:42.148Z"
   },
   {
    "duration": 32483,
    "start_time": "2023-03-08T19:05:43.539Z"
   },
   {
    "duration": 10,
    "start_time": "2023-03-08T19:06:16.024Z"
   },
   {
    "duration": 38,
    "start_time": "2023-03-08T19:06:16.035Z"
   },
   {
    "duration": 8722,
    "start_time": "2023-03-08T19:06:16.075Z"
   },
   {
    "duration": 2,
    "start_time": "2023-03-08T19:06:24.799Z"
   },
   {
    "duration": 412418,
    "start_time": "2023-03-08T19:06:24.802Z"
   },
   {
    "duration": 61700,
    "start_time": "2023-03-08T19:13:17.226Z"
   },
   {
    "duration": 11,
    "start_time": "2023-03-08T19:14:18.928Z"
   },
   {
    "duration": 141,
    "start_time": "2023-03-08T19:14:18.940Z"
   },
   {
    "duration": 19,
    "start_time": "2023-03-08T19:15:46.984Z"
   }
  ],
  "kernelspec": {
   "display_name": "Python 3 (ipykernel)",
   "language": "python",
   "name": "python3"
  },
  "language_info": {
   "codemirror_mode": {
    "name": "ipython",
    "version": 3
   },
   "file_extension": ".py",
   "mimetype": "text/x-python",
   "name": "python",
   "nbconvert_exporter": "python",
   "pygments_lexer": "ipython3",
   "version": "3.9.5"
  },
  "toc": {
   "base_numbering": 1,
   "nav_menu": {},
   "number_sections": true,
   "sideBar": true,
   "skip_h1_title": true,
   "title_cell": "Содержание",
   "title_sidebar": "Contents",
   "toc_cell": true,
   "toc_position": {
    "height": "calc(100% - 180px)",
    "left": "10px",
    "top": "150px",
    "width": "302.391px"
   },
   "toc_section_display": true,
   "toc_window_display": false
  }
 },
 "nbformat": 4,
 "nbformat_minor": 2
}
