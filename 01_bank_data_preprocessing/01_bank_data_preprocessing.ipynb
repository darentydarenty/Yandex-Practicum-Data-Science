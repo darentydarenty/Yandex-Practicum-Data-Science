{
 "cells": [
  {
   "cell_type": "markdown",
   "id": "54a22483",
   "metadata": {
    "deletable": false,
    "editable": false,
    "id": "c81daeeb"
   },
   "source": [
    "# Исследование надежности заемщиков\n"
   ]
  },
  {
   "cell_type": "markdown",
   "id": "5b62ced3",
   "metadata": {
    "deletable": false,
    "editable": false,
    "id": "744d7639"
   },
   "source": [
    "## Откройте таблицу и изучите общую информацию о данных"
   ]
  },
  {
   "cell_type": "markdown",
   "id": "6aa6370f",
   "metadata": {
    "deletable": false,
    "editable": false,
    "id": "e7a14c31"
   },
   "source": [
    "**Задание 1. Импортируйте библиотеку pandas. Считайте данные из csv-файла в датафрейм и сохраните в переменную `data`. Путь к файлу:**\n",
    "\n",
    "`/datasets/data.csv`"
   ]
  },
  {
   "cell_type": "code",
   "execution_count": 144,
   "id": "2fe3d710",
   "metadata": {
    "deletable": false,
    "id": "7bcf75c9"
   },
   "outputs": [],
   "source": [
    "import pandas as pd\n",
    "\n",
    "try:\n",
    "    data = pd.read_csv('/datasets/data.csv')\n",
    "except:\n",
    "    data = pd.read_csv('https://code.s3.yandex.net/datasets/data.csv')"
   ]
  },
  {
   "cell_type": "markdown",
   "id": "b78334bc",
   "metadata": {
    "deletable": false,
    "editable": false,
    "id": "b8038fe3"
   },
   "source": [
    "**Задание 2. Выведите первые 20 строчек датафрейма `data` на экран.**"
   ]
  },
  {
   "cell_type": "code",
   "execution_count": 145,
   "id": "b3d81b29",
   "metadata": {
    "deletable": false,
    "id": "2a7cab99",
    "outputId": "1a8f3ef2-d323-4ec2-ddf7-89670b5944c4"
   },
   "outputs": [
    {
     "data": {
      "text/html": [
       "<div>\n",
       "<style scoped>\n",
       "    .dataframe tbody tr th:only-of-type {\n",
       "        vertical-align: middle;\n",
       "    }\n",
       "\n",
       "    .dataframe tbody tr th {\n",
       "        vertical-align: top;\n",
       "    }\n",
       "\n",
       "    .dataframe thead th {\n",
       "        text-align: right;\n",
       "    }\n",
       "</style>\n",
       "<table border=\"1\" class=\"dataframe\">\n",
       "  <thead>\n",
       "    <tr style=\"text-align: right;\">\n",
       "      <th></th>\n",
       "      <th>children</th>\n",
       "      <th>days_employed</th>\n",
       "      <th>dob_years</th>\n",
       "      <th>education</th>\n",
       "      <th>education_id</th>\n",
       "      <th>family_status</th>\n",
       "      <th>family_status_id</th>\n",
       "      <th>gender</th>\n",
       "      <th>income_type</th>\n",
       "      <th>debt</th>\n",
       "      <th>total_income</th>\n",
       "      <th>purpose</th>\n",
       "    </tr>\n",
       "  </thead>\n",
       "  <tbody>\n",
       "    <tr>\n",
       "      <th>0</th>\n",
       "      <td>1</td>\n",
       "      <td>-8437.673028</td>\n",
       "      <td>42</td>\n",
       "      <td>высшее</td>\n",
       "      <td>0</td>\n",
       "      <td>женат / замужем</td>\n",
       "      <td>0</td>\n",
       "      <td>F</td>\n",
       "      <td>сотрудник</td>\n",
       "      <td>0</td>\n",
       "      <td>253875.639453</td>\n",
       "      <td>покупка жилья</td>\n",
       "    </tr>\n",
       "    <tr>\n",
       "      <th>1</th>\n",
       "      <td>1</td>\n",
       "      <td>-4024.803754</td>\n",
       "      <td>36</td>\n",
       "      <td>среднее</td>\n",
       "      <td>1</td>\n",
       "      <td>женат / замужем</td>\n",
       "      <td>0</td>\n",
       "      <td>F</td>\n",
       "      <td>сотрудник</td>\n",
       "      <td>0</td>\n",
       "      <td>112080.014102</td>\n",
       "      <td>приобретение автомобиля</td>\n",
       "    </tr>\n",
       "    <tr>\n",
       "      <th>2</th>\n",
       "      <td>0</td>\n",
       "      <td>-5623.422610</td>\n",
       "      <td>33</td>\n",
       "      <td>Среднее</td>\n",
       "      <td>1</td>\n",
       "      <td>женат / замужем</td>\n",
       "      <td>0</td>\n",
       "      <td>M</td>\n",
       "      <td>сотрудник</td>\n",
       "      <td>0</td>\n",
       "      <td>145885.952297</td>\n",
       "      <td>покупка жилья</td>\n",
       "    </tr>\n",
       "    <tr>\n",
       "      <th>3</th>\n",
       "      <td>3</td>\n",
       "      <td>-4124.747207</td>\n",
       "      <td>32</td>\n",
       "      <td>среднее</td>\n",
       "      <td>1</td>\n",
       "      <td>женат / замужем</td>\n",
       "      <td>0</td>\n",
       "      <td>M</td>\n",
       "      <td>сотрудник</td>\n",
       "      <td>0</td>\n",
       "      <td>267628.550329</td>\n",
       "      <td>дополнительное образование</td>\n",
       "    </tr>\n",
       "    <tr>\n",
       "      <th>4</th>\n",
       "      <td>0</td>\n",
       "      <td>340266.072047</td>\n",
       "      <td>53</td>\n",
       "      <td>среднее</td>\n",
       "      <td>1</td>\n",
       "      <td>гражданский брак</td>\n",
       "      <td>1</td>\n",
       "      <td>F</td>\n",
       "      <td>пенсионер</td>\n",
       "      <td>0</td>\n",
       "      <td>158616.077870</td>\n",
       "      <td>сыграть свадьбу</td>\n",
       "    </tr>\n",
       "    <tr>\n",
       "      <th>5</th>\n",
       "      <td>0</td>\n",
       "      <td>-926.185831</td>\n",
       "      <td>27</td>\n",
       "      <td>высшее</td>\n",
       "      <td>0</td>\n",
       "      <td>гражданский брак</td>\n",
       "      <td>1</td>\n",
       "      <td>M</td>\n",
       "      <td>компаньон</td>\n",
       "      <td>0</td>\n",
       "      <td>255763.565419</td>\n",
       "      <td>покупка жилья</td>\n",
       "    </tr>\n",
       "    <tr>\n",
       "      <th>6</th>\n",
       "      <td>0</td>\n",
       "      <td>-2879.202052</td>\n",
       "      <td>43</td>\n",
       "      <td>высшее</td>\n",
       "      <td>0</td>\n",
       "      <td>женат / замужем</td>\n",
       "      <td>0</td>\n",
       "      <td>F</td>\n",
       "      <td>компаньон</td>\n",
       "      <td>0</td>\n",
       "      <td>240525.971920</td>\n",
       "      <td>операции с жильем</td>\n",
       "    </tr>\n",
       "    <tr>\n",
       "      <th>7</th>\n",
       "      <td>0</td>\n",
       "      <td>-152.779569</td>\n",
       "      <td>50</td>\n",
       "      <td>СРЕДНЕЕ</td>\n",
       "      <td>1</td>\n",
       "      <td>женат / замужем</td>\n",
       "      <td>0</td>\n",
       "      <td>M</td>\n",
       "      <td>сотрудник</td>\n",
       "      <td>0</td>\n",
       "      <td>135823.934197</td>\n",
       "      <td>образование</td>\n",
       "    </tr>\n",
       "    <tr>\n",
       "      <th>8</th>\n",
       "      <td>2</td>\n",
       "      <td>-6929.865299</td>\n",
       "      <td>35</td>\n",
       "      <td>ВЫСШЕЕ</td>\n",
       "      <td>0</td>\n",
       "      <td>гражданский брак</td>\n",
       "      <td>1</td>\n",
       "      <td>F</td>\n",
       "      <td>сотрудник</td>\n",
       "      <td>0</td>\n",
       "      <td>95856.832424</td>\n",
       "      <td>на проведение свадьбы</td>\n",
       "    </tr>\n",
       "    <tr>\n",
       "      <th>9</th>\n",
       "      <td>0</td>\n",
       "      <td>-2188.756445</td>\n",
       "      <td>41</td>\n",
       "      <td>среднее</td>\n",
       "      <td>1</td>\n",
       "      <td>женат / замужем</td>\n",
       "      <td>0</td>\n",
       "      <td>M</td>\n",
       "      <td>сотрудник</td>\n",
       "      <td>0</td>\n",
       "      <td>144425.938277</td>\n",
       "      <td>покупка жилья для семьи</td>\n",
       "    </tr>\n",
       "    <tr>\n",
       "      <th>10</th>\n",
       "      <td>2</td>\n",
       "      <td>-4171.483647</td>\n",
       "      <td>36</td>\n",
       "      <td>высшее</td>\n",
       "      <td>0</td>\n",
       "      <td>женат / замужем</td>\n",
       "      <td>0</td>\n",
       "      <td>M</td>\n",
       "      <td>компаньон</td>\n",
       "      <td>0</td>\n",
       "      <td>113943.491460</td>\n",
       "      <td>покупка недвижимости</td>\n",
       "    </tr>\n",
       "    <tr>\n",
       "      <th>11</th>\n",
       "      <td>0</td>\n",
       "      <td>-792.701887</td>\n",
       "      <td>40</td>\n",
       "      <td>среднее</td>\n",
       "      <td>1</td>\n",
       "      <td>женат / замужем</td>\n",
       "      <td>0</td>\n",
       "      <td>F</td>\n",
       "      <td>сотрудник</td>\n",
       "      <td>0</td>\n",
       "      <td>77069.234271</td>\n",
       "      <td>покупка коммерческой недвижимости</td>\n",
       "    </tr>\n",
       "    <tr>\n",
       "      <th>12</th>\n",
       "      <td>0</td>\n",
       "      <td>NaN</td>\n",
       "      <td>65</td>\n",
       "      <td>среднее</td>\n",
       "      <td>1</td>\n",
       "      <td>гражданский брак</td>\n",
       "      <td>1</td>\n",
       "      <td>M</td>\n",
       "      <td>пенсионер</td>\n",
       "      <td>0</td>\n",
       "      <td>NaN</td>\n",
       "      <td>сыграть свадьбу</td>\n",
       "    </tr>\n",
       "    <tr>\n",
       "      <th>13</th>\n",
       "      <td>0</td>\n",
       "      <td>-1846.641941</td>\n",
       "      <td>54</td>\n",
       "      <td>неоконченное высшее</td>\n",
       "      <td>2</td>\n",
       "      <td>женат / замужем</td>\n",
       "      <td>0</td>\n",
       "      <td>F</td>\n",
       "      <td>сотрудник</td>\n",
       "      <td>0</td>\n",
       "      <td>130458.228857</td>\n",
       "      <td>приобретение автомобиля</td>\n",
       "    </tr>\n",
       "    <tr>\n",
       "      <th>14</th>\n",
       "      <td>0</td>\n",
       "      <td>-1844.956182</td>\n",
       "      <td>56</td>\n",
       "      <td>высшее</td>\n",
       "      <td>0</td>\n",
       "      <td>гражданский брак</td>\n",
       "      <td>1</td>\n",
       "      <td>F</td>\n",
       "      <td>компаньон</td>\n",
       "      <td>1</td>\n",
       "      <td>165127.911772</td>\n",
       "      <td>покупка жилой недвижимости</td>\n",
       "    </tr>\n",
       "    <tr>\n",
       "      <th>15</th>\n",
       "      <td>1</td>\n",
       "      <td>-972.364419</td>\n",
       "      <td>26</td>\n",
       "      <td>среднее</td>\n",
       "      <td>1</td>\n",
       "      <td>женат / замужем</td>\n",
       "      <td>0</td>\n",
       "      <td>F</td>\n",
       "      <td>сотрудник</td>\n",
       "      <td>0</td>\n",
       "      <td>116820.904450</td>\n",
       "      <td>строительство собственной недвижимости</td>\n",
       "    </tr>\n",
       "    <tr>\n",
       "      <th>16</th>\n",
       "      <td>0</td>\n",
       "      <td>-1719.934226</td>\n",
       "      <td>35</td>\n",
       "      <td>среднее</td>\n",
       "      <td>1</td>\n",
       "      <td>женат / замужем</td>\n",
       "      <td>0</td>\n",
       "      <td>F</td>\n",
       "      <td>сотрудник</td>\n",
       "      <td>0</td>\n",
       "      <td>289202.704229</td>\n",
       "      <td>недвижимость</td>\n",
       "    </tr>\n",
       "    <tr>\n",
       "      <th>17</th>\n",
       "      <td>0</td>\n",
       "      <td>-2369.999720</td>\n",
       "      <td>33</td>\n",
       "      <td>высшее</td>\n",
       "      <td>0</td>\n",
       "      <td>гражданский брак</td>\n",
       "      <td>1</td>\n",
       "      <td>M</td>\n",
       "      <td>сотрудник</td>\n",
       "      <td>0</td>\n",
       "      <td>90410.586745</td>\n",
       "      <td>строительство недвижимости</td>\n",
       "    </tr>\n",
       "    <tr>\n",
       "      <th>18</th>\n",
       "      <td>0</td>\n",
       "      <td>400281.136913</td>\n",
       "      <td>53</td>\n",
       "      <td>среднее</td>\n",
       "      <td>1</td>\n",
       "      <td>вдовец / вдова</td>\n",
       "      <td>2</td>\n",
       "      <td>F</td>\n",
       "      <td>пенсионер</td>\n",
       "      <td>0</td>\n",
       "      <td>56823.777243</td>\n",
       "      <td>на покупку подержанного автомобиля</td>\n",
       "    </tr>\n",
       "    <tr>\n",
       "      <th>19</th>\n",
       "      <td>0</td>\n",
       "      <td>-10038.818549</td>\n",
       "      <td>48</td>\n",
       "      <td>СРЕДНЕЕ</td>\n",
       "      <td>1</td>\n",
       "      <td>в разводе</td>\n",
       "      <td>3</td>\n",
       "      <td>F</td>\n",
       "      <td>сотрудник</td>\n",
       "      <td>0</td>\n",
       "      <td>242831.107982</td>\n",
       "      <td>на покупку своего автомобиля</td>\n",
       "    </tr>\n",
       "  </tbody>\n",
       "</table>\n",
       "</div>"
      ],
      "text/plain": [
       "    children  days_employed  dob_years            education  education_id  \\\n",
       "0          1   -8437.673028         42               высшее             0   \n",
       "1          1   -4024.803754         36              среднее             1   \n",
       "2          0   -5623.422610         33              Среднее             1   \n",
       "3          3   -4124.747207         32              среднее             1   \n",
       "4          0  340266.072047         53              среднее             1   \n",
       "5          0    -926.185831         27               высшее             0   \n",
       "6          0   -2879.202052         43               высшее             0   \n",
       "7          0    -152.779569         50              СРЕДНЕЕ             1   \n",
       "8          2   -6929.865299         35               ВЫСШЕЕ             0   \n",
       "9          0   -2188.756445         41              среднее             1   \n",
       "10         2   -4171.483647         36               высшее             0   \n",
       "11         0    -792.701887         40              среднее             1   \n",
       "12         0            NaN         65              среднее             1   \n",
       "13         0   -1846.641941         54  неоконченное высшее             2   \n",
       "14         0   -1844.956182         56               высшее             0   \n",
       "15         1    -972.364419         26              среднее             1   \n",
       "16         0   -1719.934226         35              среднее             1   \n",
       "17         0   -2369.999720         33               высшее             0   \n",
       "18         0  400281.136913         53              среднее             1   \n",
       "19         0  -10038.818549         48              СРЕДНЕЕ             1   \n",
       "\n",
       "       family_status  family_status_id gender income_type  debt  \\\n",
       "0    женат / замужем                 0      F   сотрудник     0   \n",
       "1    женат / замужем                 0      F   сотрудник     0   \n",
       "2    женат / замужем                 0      M   сотрудник     0   \n",
       "3    женат / замужем                 0      M   сотрудник     0   \n",
       "4   гражданский брак                 1      F   пенсионер     0   \n",
       "5   гражданский брак                 1      M   компаньон     0   \n",
       "6    женат / замужем                 0      F   компаньон     0   \n",
       "7    женат / замужем                 0      M   сотрудник     0   \n",
       "8   гражданский брак                 1      F   сотрудник     0   \n",
       "9    женат / замужем                 0      M   сотрудник     0   \n",
       "10   женат / замужем                 0      M   компаньон     0   \n",
       "11   женат / замужем                 0      F   сотрудник     0   \n",
       "12  гражданский брак                 1      M   пенсионер     0   \n",
       "13   женат / замужем                 0      F   сотрудник     0   \n",
       "14  гражданский брак                 1      F   компаньон     1   \n",
       "15   женат / замужем                 0      F   сотрудник     0   \n",
       "16   женат / замужем                 0      F   сотрудник     0   \n",
       "17  гражданский брак                 1      M   сотрудник     0   \n",
       "18    вдовец / вдова                 2      F   пенсионер     0   \n",
       "19         в разводе                 3      F   сотрудник     0   \n",
       "\n",
       "     total_income                                 purpose  \n",
       "0   253875.639453                           покупка жилья  \n",
       "1   112080.014102                 приобретение автомобиля  \n",
       "2   145885.952297                           покупка жилья  \n",
       "3   267628.550329              дополнительное образование  \n",
       "4   158616.077870                         сыграть свадьбу  \n",
       "5   255763.565419                           покупка жилья  \n",
       "6   240525.971920                       операции с жильем  \n",
       "7   135823.934197                             образование  \n",
       "8    95856.832424                   на проведение свадьбы  \n",
       "9   144425.938277                 покупка жилья для семьи  \n",
       "10  113943.491460                    покупка недвижимости  \n",
       "11   77069.234271       покупка коммерческой недвижимости  \n",
       "12            NaN                         сыграть свадьбу  \n",
       "13  130458.228857                 приобретение автомобиля  \n",
       "14  165127.911772              покупка жилой недвижимости  \n",
       "15  116820.904450  строительство собственной недвижимости  \n",
       "16  289202.704229                            недвижимость  \n",
       "17   90410.586745              строительство недвижимости  \n",
       "18   56823.777243      на покупку подержанного автомобиля  \n",
       "19  242831.107982            на покупку своего автомобиля  "
      ]
     },
     "execution_count": 145,
     "metadata": {},
     "output_type": "execute_result"
    }
   ],
   "source": [
    "data.head(20)"
   ]
  },
  {
   "cell_type": "markdown",
   "id": "248930c2",
   "metadata": {
    "deletable": false,
    "editable": false,
    "id": "1c12e233"
   },
   "source": [
    "**Задание 3. Выведите основную информацию о датафрейме с помощью метода `info()`.**"
   ]
  },
  {
   "cell_type": "code",
   "execution_count": 146,
   "id": "490a2bb0",
   "metadata": {
    "deletable": false,
    "id": "2b757bca",
    "outputId": "15376089-8dad-46c9-b520-c05248d43158"
   },
   "outputs": [
    {
     "name": "stdout",
     "output_type": "stream",
     "text": [
      "<class 'pandas.core.frame.DataFrame'>\n",
      "RangeIndex: 21525 entries, 0 to 21524\n",
      "Data columns (total 12 columns):\n",
      " #   Column            Non-Null Count  Dtype  \n",
      "---  ------            --------------  -----  \n",
      " 0   children          21525 non-null  int64  \n",
      " 1   days_employed     19351 non-null  float64\n",
      " 2   dob_years         21525 non-null  int64  \n",
      " 3   education         21525 non-null  object \n",
      " 4   education_id      21525 non-null  int64  \n",
      " 5   family_status     21525 non-null  object \n",
      " 6   family_status_id  21525 non-null  int64  \n",
      " 7   gender            21525 non-null  object \n",
      " 8   income_type       21525 non-null  object \n",
      " 9   debt              21525 non-null  int64  \n",
      " 10  total_income      19351 non-null  float64\n",
      " 11  purpose           21525 non-null  object \n",
      "dtypes: float64(2), int64(5), object(5)\n",
      "memory usage: 2.0+ MB\n"
     ]
    }
   ],
   "source": [
    "data.info()"
   ]
  },
  {
   "cell_type": "markdown",
   "id": "a70382a8",
   "metadata": {
    "deletable": false,
    "editable": false,
    "id": "333ec665"
   },
   "source": [
    "## Предобработка данных"
   ]
  },
  {
   "cell_type": "markdown",
   "id": "daafa2ef",
   "metadata": {
    "deletable": false,
    "editable": false,
    "id": "02d92d53"
   },
   "source": [
    "### Удаление пропусков"
   ]
  },
  {
   "cell_type": "markdown",
   "id": "8d5542d9",
   "metadata": {
    "deletable": false,
    "editable": false,
    "id": "cd84967c"
   },
   "source": [
    "**Задание 4. Выведите количество пропущенных значений для каждого столбца. Используйте комбинацию двух методов.**"
   ]
  },
  {
   "cell_type": "code",
   "execution_count": 147,
   "id": "60df8e17",
   "metadata": {
    "deletable": false,
    "id": "7f9b2309",
    "outputId": "81f4d817-781c-465c-ed15-91ce4446810d"
   },
   "outputs": [
    {
     "data": {
      "text/plain": [
       "children               0\n",
       "days_employed       2174\n",
       "dob_years              0\n",
       "education              0\n",
       "education_id           0\n",
       "family_status          0\n",
       "family_status_id       0\n",
       "gender                 0\n",
       "income_type            0\n",
       "debt                   0\n",
       "total_income        2174\n",
       "purpose                0\n",
       "dtype: int64"
      ]
     },
     "execution_count": 147,
     "metadata": {},
     "output_type": "execute_result"
    }
   ],
   "source": [
    "data.isna().sum()"
   ]
  },
  {
   "cell_type": "markdown",
   "id": "30a79bb9",
   "metadata": {
    "deletable": false,
    "editable": false,
    "id": "db86e27b"
   },
   "source": [
    "**Задание 5. В двух столбцах есть пропущенные значения. Один из них — `days_employed`. Пропуски в этом столбце вы обработаете на следующем этапе. Другой столбец с пропущенными значениями — `total_income` — хранит данные о доходах. На сумму дохода сильнее всего влияет тип занятости, поэтому заполнить пропуски в этом столбце нужно медианным значением по каждому типу из столбца `income_type`. Например, у человека с типом занятости `сотрудник` пропуск в столбце `total_income` должен быть заполнен медианным доходом среди всех записей с тем же типом.**"
   ]
  },
  {
   "cell_type": "code",
   "execution_count": 148,
   "id": "102af037",
   "metadata": {
    "deletable": false,
    "id": "42006a93"
   },
   "outputs": [],
   "source": [
    "for t in data['income_type'].unique():\n",
    "    data.loc[(data['income_type'] == t) & (data['total_income'].isna()), 'total_income'] = \\\n",
    "    data.loc[(data['income_type'] == t), 'total_income'].median()"
   ]
  },
  {
   "cell_type": "markdown",
   "id": "02379fd0",
   "metadata": {
    "deletable": false,
    "editable": false,
    "id": "89da5ece"
   },
   "source": [
    "### Обработка аномальных значений"
   ]
  },
  {
   "cell_type": "markdown",
   "id": "b9bdf548",
   "metadata": {
    "deletable": false,
    "editable": false,
    "id": "57964554"
   },
   "source": [
    "**Задание 6. В данных могут встречаться артефакты (аномалии) — значения, которые не отражают действительность и появились по какой-то ошибке. таким артефактом будет отрицательное количество дней трудового стажа в столбце `days_employed`. Для реальных данных это нормально. Обработайте значения в этом столбце: замените все отрицательные значения положительными с помощью метода `abs()`.**"
   ]
  },
  {
   "cell_type": "code",
   "execution_count": 149,
   "id": "c6e8be6e",
   "metadata": {
    "deletable": false,
    "id": "f6f055bf"
   },
   "outputs": [],
   "source": [
    "data['days_employed'] = data['days_employed'].abs()"
   ]
  },
  {
   "cell_type": "markdown",
   "id": "0183c723",
   "metadata": {
    "deletable": false,
    "editable": false,
    "id": "6107dd2f"
   },
   "source": [
    "**Задание 7. Для каждого типа занятости выведите медианное значение трудового стажа `days_employed` в днях.**"
   ]
  },
  {
   "cell_type": "code",
   "execution_count": 150,
   "id": "5a0b99e3",
   "metadata": {
    "deletable": false,
    "id": "85a5faf6",
    "outputId": "801ef80e-522b-4668-f34e-565af7432bcf"
   },
   "outputs": [
    {
     "data": {
      "text/plain": [
       "income_type\n",
       "безработный        366413.652744\n",
       "в декрете            3296.759962\n",
       "госслужащий          2689.368353\n",
       "компаньон            1547.382223\n",
       "пенсионер          365213.306266\n",
       "предприниматель       520.848083\n",
       "сотрудник            1574.202821\n",
       "студент               578.751554\n",
       "Name: days_employed, dtype: float64"
      ]
     },
     "execution_count": 150,
     "metadata": {},
     "output_type": "execute_result"
    }
   ],
   "source": [
    "data.groupby('income_type')['days_employed'].agg('median')"
   ]
  },
  {
   "cell_type": "markdown",
   "id": "6d259a0c",
   "metadata": {
    "deletable": false,
    "editable": false,
    "id": "38d1a030"
   },
   "source": [
    "У двух типов (безработные и пенсионеры) получатся аномально большие значения. Исправить такие значения сложно, поэтому оставьте их как есть. Тем более этот столбец не понадобится вам для исследования."
   ]
  },
  {
   "cell_type": "markdown",
   "id": "b232ccad",
   "metadata": {
    "deletable": false,
    "editable": false,
    "id": "d8a9f147"
   },
   "source": [
    "**Задание 8. Выведите перечень уникальных значений столбца `children`.**"
   ]
  },
  {
   "cell_type": "code",
   "execution_count": 151,
   "id": "f7045bfc",
   "metadata": {
    "deletable": false,
    "id": "ef5056eb",
    "outputId": "6975b15c-7f95-4697-d16d-a0c79b657b03"
   },
   "outputs": [
    {
     "data": {
      "text/plain": [
       "array([ 1,  0,  3,  2, -1,  4, 20,  5])"
      ]
     },
     "execution_count": 151,
     "metadata": {},
     "output_type": "execute_result"
    }
   ],
   "source": [
    "data['children'].unique()"
   ]
  },
  {
   "cell_type": "markdown",
   "id": "ebcddedc",
   "metadata": {
    "deletable": false,
    "editable": false,
    "id": "40b9ebf2"
   },
   "source": [
    "**Задание 9. В столбце `children` есть два аномальных значения. Удалите строки, в которых встречаются такие аномальные значения из датафрейма `data`.**"
   ]
  },
  {
   "cell_type": "code",
   "execution_count": 152,
   "id": "e377079c",
   "metadata": {
    "deletable": false,
    "id": "3ff9801d"
   },
   "outputs": [],
   "source": [
    "data = data[(data['children'] != -1) & (data['children'] != 20)]"
   ]
  },
  {
   "cell_type": "markdown",
   "id": "1a0d2dca",
   "metadata": {
    "deletable": false,
    "editable": false,
    "id": "bbc4d0ce"
   },
   "source": [
    "**Задание 10. Ещё раз выведите перечень уникальных значений столбца `children`, чтобы убедиться, что артефакты удалены.**"
   ]
  },
  {
   "cell_type": "code",
   "execution_count": 153,
   "id": "b50349cd",
   "metadata": {
    "deletable": false,
    "id": "ad4fa8b7",
    "outputId": "b2097101-d49d-44d9-901b-32a65c9463d1"
   },
   "outputs": [
    {
     "data": {
      "text/plain": [
       "array([1, 0, 3, 2, 4, 5])"
      ]
     },
     "execution_count": 153,
     "metadata": {},
     "output_type": "execute_result"
    }
   ],
   "source": [
    "data['children'].unique()"
   ]
  },
  {
   "cell_type": "markdown",
   "id": "dbc7a34f",
   "metadata": {
    "deletable": false,
    "editable": false,
    "id": "75440b63"
   },
   "source": [
    "### Удаление пропусков (продолжение)"
   ]
  },
  {
   "cell_type": "markdown",
   "id": "97e799fc",
   "metadata": {
    "deletable": false,
    "editable": false,
    "id": "f4ea573f"
   },
   "source": [
    "**Задание 11. Заполните пропуски в столбце `days_employed` медианными значениями по каждого типа занятости `income_type`.**"
   ]
  },
  {
   "cell_type": "code",
   "execution_count": 154,
   "id": "6ba76f59",
   "metadata": {
    "deletable": false,
    "id": "af6b1a7e"
   },
   "outputs": [],
   "source": [
    "for t in data['income_type'].unique():\n",
    "    data.loc[(data['income_type'] == t) & (data['days_employed'].isna()), 'days_employed'] = \\\n",
    "    data.loc[(data['income_type'] == t), 'days_employed'].median()"
   ]
  },
  {
   "cell_type": "markdown",
   "id": "9cd58e3c",
   "metadata": {
    "deletable": false,
    "editable": false,
    "id": "2753f40d"
   },
   "source": [
    "**Задание 12. Убедитесь, что все пропуски заполнены. Проверьте себя и ещё раз выведите количество пропущенных значений для каждого столбца с помощью двух методов.**"
   ]
  },
  {
   "cell_type": "code",
   "execution_count": 155,
   "id": "c795b13c",
   "metadata": {
    "deletable": false,
    "id": "55f78bc2",
    "outputId": "8da1e4e1-358e-4e87-98c9-f261bce0a7b2"
   },
   "outputs": [
    {
     "data": {
      "text/plain": [
       "children            0\n",
       "days_employed       0\n",
       "dob_years           0\n",
       "education           0\n",
       "education_id        0\n",
       "family_status       0\n",
       "family_status_id    0\n",
       "gender              0\n",
       "income_type         0\n",
       "debt                0\n",
       "total_income        0\n",
       "purpose             0\n",
       "dtype: int64"
      ]
     },
     "execution_count": 155,
     "metadata": {},
     "output_type": "execute_result"
    }
   ],
   "source": [
    "data.isna().sum()"
   ]
  },
  {
   "cell_type": "markdown",
   "id": "ac905ce3",
   "metadata": {
    "deletable": false,
    "editable": false,
    "id": "ddc81e43"
   },
   "source": [
    "### Изменение типов данных"
   ]
  },
  {
   "cell_type": "markdown",
   "id": "6ffd2c09",
   "metadata": {
    "deletable": false,
    "editable": false,
    "id": "42d19d24"
   },
   "source": [
    "**Задание 13. Замените вещественный тип данных в столбце `total_income` на целочисленный с помощью метода `astype()`.**"
   ]
  },
  {
   "cell_type": "code",
   "execution_count": 156,
   "id": "889496d0",
   "metadata": {
    "deletable": false,
    "id": "920b65ad"
   },
   "outputs": [],
   "source": [
    "data['total_income'] = data['total_income'].astype(int)"
   ]
  },
  {
   "cell_type": "markdown",
   "id": "01c63658",
   "metadata": {
    "deletable": false,
    "editable": false,
    "id": "80c420ba"
   },
   "source": [
    "### Обработка дубликатов"
   ]
  },
  {
   "cell_type": "markdown",
   "id": "c6ee5ec6",
   "metadata": {
    "deletable": false,
    "editable": false
   },
   "source": [
    "**Задание 14. Обработайте неявные дубликаты в столбце `education`. В этом столбце есть одни и те же значения, но записанные по-разному: с использованием заглавных и строчных букв. Приведите их к нижнему регистру. Проверьте остальные столбцы.**"
   ]
  },
  {
   "cell_type": "code",
   "execution_count": 157,
   "id": "fa6c6369",
   "metadata": {
    "deletable": false
   },
   "outputs": [],
   "source": [
    "data['education'] = data['education'].str.lower()"
   ]
  },
  {
   "cell_type": "markdown",
   "id": "8e2f6ce7",
   "metadata": {
    "deletable": false,
    "editable": false,
    "id": "dc587695"
   },
   "source": [
    "**Задание 15. Выведите на экран количество строк-дубликатов в данных. Если такие строки присутствуют, удалите их.**"
   ]
  },
  {
   "cell_type": "code",
   "execution_count": 158,
   "id": "b22dd0eb",
   "metadata": {
    "deletable": false,
    "id": "3ee445e4",
    "outputId": "9684deba-1934-42d1-99e1-cda61740f822"
   },
   "outputs": [
    {
     "data": {
      "text/plain": [
       "71"
      ]
     },
     "execution_count": 158,
     "metadata": {},
     "output_type": "execute_result"
    }
   ],
   "source": [
    "data.duplicated().sum()"
   ]
  },
  {
   "cell_type": "code",
   "execution_count": 159,
   "id": "05fd5493",
   "metadata": {
    "deletable": false,
    "id": "8575fe05"
   },
   "outputs": [],
   "source": [
    "data = data.drop_duplicates()"
   ]
  },
  {
   "cell_type": "markdown",
   "id": "450a4205",
   "metadata": {
    "deletable": false,
    "editable": false,
    "id": "9904cf55"
   },
   "source": [
    "### Категоризация данных"
   ]
  },
  {
   "cell_type": "markdown",
   "id": "3e056ff8",
   "metadata": {
    "deletable": false,
    "editable": false,
    "id": "72fcc8a2"
   },
   "source": [
    "**Задание 16. На основании диапазонов, указанных ниже, создайте в датафрейме `data` столбец `total_income_category` с категориями:**\n",
    "\n",
    "- 0–30000 — `'E'`;\n",
    "- 30001–50000 — `'D'`;\n",
    "- 50001–200000 — `'C'`;\n",
    "- 200001–1000000 — `'B'`;\n",
    "- 1000001 и выше — `'A'`.\n",
    "\n",
    "\n",
    "**Например, кредитополучателю с доходом 25000 нужно назначить категорию `'E'`, а клиенту, получающему 235000, — `'B'`. Используйте собственную функцию с именем `categorize_income()` и метод `apply()`.**"
   ]
  },
  {
   "cell_type": "code",
   "execution_count": 160,
   "id": "7c37a3d1",
   "metadata": {
    "deletable": false,
    "id": "e1771346"
   },
   "outputs": [],
   "source": [
    "def categorize_income(income):\n",
    "    try:\n",
    "        if 0 <= income <= 30000:\n",
    "            return 'E'\n",
    "        elif 30001 <= income <= 50000:\n",
    "            return 'D'\n",
    "        elif 50001 <= income <= 200000:\n",
    "            return 'C'\n",
    "        elif 200001 <= income <= 1000000:\n",
    "            return 'B'\n",
    "        elif income >= 1000001:\n",
    "            return 'A'\n",
    "    except:\n",
    "        pass"
   ]
  },
  {
   "cell_type": "code",
   "execution_count": 161,
   "id": "71793836",
   "metadata": {
    "deletable": false,
    "id": "d5f3586d"
   },
   "outputs": [],
   "source": [
    "data['total_income_category'] = data['total_income'].apply(categorize_income)"
   ]
  },
  {
   "cell_type": "markdown",
   "id": "cb43daf7",
   "metadata": {
    "deletable": false,
    "editable": false,
    "id": "dde49b5c"
   },
   "source": [
    "**Задание 17. Выведите на экран перечень уникальных целей взятия кредита из столбца `purpose`.**"
   ]
  },
  {
   "cell_type": "code",
   "execution_count": 162,
   "id": "8ed96724",
   "metadata": {
    "deletable": false,
    "id": "f67ce9b3",
    "outputId": "673c12d9-7d7e-4ae0-9812-c622c89dd244"
   },
   "outputs": [
    {
     "data": {
      "text/plain": [
       "array(['покупка жилья', 'приобретение автомобиля',\n",
       "       'дополнительное образование', 'сыграть свадьбу',\n",
       "       'операции с жильем', 'образование', 'на проведение свадьбы',\n",
       "       'покупка жилья для семьи', 'покупка недвижимости',\n",
       "       'покупка коммерческой недвижимости', 'покупка жилой недвижимости',\n",
       "       'строительство собственной недвижимости', 'недвижимость',\n",
       "       'строительство недвижимости', 'на покупку подержанного автомобиля',\n",
       "       'на покупку своего автомобиля',\n",
       "       'операции с коммерческой недвижимостью',\n",
       "       'строительство жилой недвижимости', 'жилье',\n",
       "       'операции со своей недвижимостью', 'автомобили',\n",
       "       'заняться образованием', 'сделка с подержанным автомобилем',\n",
       "       'получение образования', 'автомобиль', 'свадьба',\n",
       "       'получение дополнительного образования', 'покупка своего жилья',\n",
       "       'операции с недвижимостью', 'получение высшего образования',\n",
       "       'свой автомобиль', 'сделка с автомобилем',\n",
       "       'профильное образование', 'высшее образование',\n",
       "       'покупка жилья для сдачи', 'на покупку автомобиля', 'ремонт жилью',\n",
       "       'заняться высшим образованием'], dtype=object)"
      ]
     },
     "execution_count": 162,
     "metadata": {},
     "output_type": "execute_result"
    }
   ],
   "source": [
    "data['purpose'].unique()"
   ]
  },
  {
   "cell_type": "markdown",
   "id": "16fc56ef",
   "metadata": {
    "deletable": false,
    "editable": false,
    "id": "85d0aef0"
   },
   "source": [
    "**Задание 18. Создайте функцию, которая на основании данных из столбца `purpose` сформирует новый столбец `purpose_category`, в который войдут следующие категории:**\n",
    "\n",
    "- `'операции с автомобилем'`,\n",
    "- `'операции с недвижимостью'`,\n",
    "- `'проведение свадьбы'`,\n",
    "- `'получение образования'`.\n",
    "\n",
    "**Например, если в столбце `purpose` находится подстрока `'на покупку автомобиля'`, то в столбце `purpose_category` должна появиться строка `'операции с автомобилем'`.**\n",
    "\n",
    "**Используйте собственную функцию с именем `categorize_purpose()` и метод `apply()`. Изучите данные в столбце `purpose` и определите, какие подстроки помогут вам правильно определить категорию.**"
   ]
  },
  {
   "cell_type": "code",
   "execution_count": 163,
   "id": "0b0edb27",
   "metadata": {
    "deletable": false,
    "id": "e149fab4"
   },
   "outputs": [],
   "source": [
    "def categorize_purpose(row):\n",
    "    try:\n",
    "        if 'автом' in row:\n",
    "            return 'операции с автомобилем'\n",
    "        elif 'жил' in row or 'недвиж' in row:\n",
    "            return 'операции с недвижимостью'\n",
    "        elif 'свад' in row:\n",
    "            return 'проведение свадьбы'\n",
    "        elif 'образов' in row:\n",
    "            return 'получение образования'\n",
    "    except:\n",
    "        return 'нет категории'"
   ]
  },
  {
   "cell_type": "code",
   "execution_count": 164,
   "id": "a59a490b",
   "metadata": {
    "deletable": false,
    "id": "bf36e69b"
   },
   "outputs": [],
   "source": [
    "data['purpose_category'] = data['purpose'].apply(categorize_purpose)"
   ]
  },
  {
   "cell_type": "markdown",
   "id": "33308fa2",
   "metadata": {
    "deletable": false,
    "editable": false,
    "id": "09b242bf"
   },
   "source": [
    "### Шаг 3. Исследуйте данные и ответьте на вопросы"
   ]
  },
  {
   "cell_type": "code",
   "execution_count": 165,
   "id": "13109cb7",
   "metadata": {
    "scrolled": false
   },
   "outputs": [
    {
     "data": {
      "text/html": [
       "<div>\n",
       "<style scoped>\n",
       "    .dataframe tbody tr th:only-of-type {\n",
       "        vertical-align: middle;\n",
       "    }\n",
       "\n",
       "    .dataframe tbody tr th {\n",
       "        vertical-align: top;\n",
       "    }\n",
       "\n",
       "    .dataframe thead th {\n",
       "        text-align: right;\n",
       "    }\n",
       "</style>\n",
       "<table border=\"1\" class=\"dataframe\">\n",
       "  <thead>\n",
       "    <tr style=\"text-align: right;\">\n",
       "      <th></th>\n",
       "      <th>children</th>\n",
       "      <th>days_employed</th>\n",
       "      <th>dob_years</th>\n",
       "      <th>education</th>\n",
       "      <th>education_id</th>\n",
       "      <th>family_status</th>\n",
       "      <th>family_status_id</th>\n",
       "      <th>gender</th>\n",
       "      <th>income_type</th>\n",
       "      <th>debt</th>\n",
       "      <th>total_income</th>\n",
       "      <th>purpose</th>\n",
       "      <th>total_income_category</th>\n",
       "      <th>purpose_category</th>\n",
       "    </tr>\n",
       "  </thead>\n",
       "  <tbody>\n",
       "    <tr>\n",
       "      <th>19486</th>\n",
       "      <td>0</td>\n",
       "      <td>376551.738696</td>\n",
       "      <td>59</td>\n",
       "      <td>среднее</td>\n",
       "      <td>1</td>\n",
       "      <td>гражданский брак</td>\n",
       "      <td>1</td>\n",
       "      <td>F</td>\n",
       "      <td>пенсионер</td>\n",
       "      <td>0</td>\n",
       "      <td>98581</td>\n",
       "      <td>жилье</td>\n",
       "      <td>C</td>\n",
       "      <td>операции с недвижимостью</td>\n",
       "    </tr>\n",
       "    <tr>\n",
       "      <th>5142</th>\n",
       "      <td>0</td>\n",
       "      <td>2571.569272</td>\n",
       "      <td>43</td>\n",
       "      <td>высшее</td>\n",
       "      <td>0</td>\n",
       "      <td>гражданский брак</td>\n",
       "      <td>1</td>\n",
       "      <td>M</td>\n",
       "      <td>компаньон</td>\n",
       "      <td>0</td>\n",
       "      <td>218263</td>\n",
       "      <td>на проведение свадьбы</td>\n",
       "      <td>B</td>\n",
       "      <td>проведение свадьбы</td>\n",
       "    </tr>\n",
       "    <tr>\n",
       "      <th>17510</th>\n",
       "      <td>0</td>\n",
       "      <td>2577.888775</td>\n",
       "      <td>26</td>\n",
       "      <td>высшее</td>\n",
       "      <td>0</td>\n",
       "      <td>женат / замужем</td>\n",
       "      <td>0</td>\n",
       "      <td>M</td>\n",
       "      <td>сотрудник</td>\n",
       "      <td>0</td>\n",
       "      <td>376668</td>\n",
       "      <td>на покупку подержанного автомобиля</td>\n",
       "      <td>B</td>\n",
       "      <td>операции с автомобилем</td>\n",
       "    </tr>\n",
       "    <tr>\n",
       "      <th>571</th>\n",
       "      <td>0</td>\n",
       "      <td>628.672620</td>\n",
       "      <td>27</td>\n",
       "      <td>среднее</td>\n",
       "      <td>1</td>\n",
       "      <td>женат / замужем</td>\n",
       "      <td>0</td>\n",
       "      <td>F</td>\n",
       "      <td>госслужащий</td>\n",
       "      <td>0</td>\n",
       "      <td>72020</td>\n",
       "      <td>операции с жильем</td>\n",
       "      <td>C</td>\n",
       "      <td>операции с недвижимостью</td>\n",
       "    </tr>\n",
       "    <tr>\n",
       "      <th>15201</th>\n",
       "      <td>2</td>\n",
       "      <td>1728.155853</td>\n",
       "      <td>27</td>\n",
       "      <td>среднее</td>\n",
       "      <td>1</td>\n",
       "      <td>женат / замужем</td>\n",
       "      <td>0</td>\n",
       "      <td>F</td>\n",
       "      <td>компаньон</td>\n",
       "      <td>0</td>\n",
       "      <td>217924</td>\n",
       "      <td>операции со своей недвижимостью</td>\n",
       "      <td>B</td>\n",
       "      <td>операции с недвижимостью</td>\n",
       "    </tr>\n",
       "  </tbody>\n",
       "</table>\n",
       "</div>"
      ],
      "text/plain": [
       "       children  days_employed  dob_years education  education_id  \\\n",
       "19486         0  376551.738696         59   среднее             1   \n",
       "5142          0    2571.569272         43    высшее             0   \n",
       "17510         0    2577.888775         26    высшее             0   \n",
       "571           0     628.672620         27   среднее             1   \n",
       "15201         2    1728.155853         27   среднее             1   \n",
       "\n",
       "          family_status  family_status_id gender  income_type  debt  \\\n",
       "19486  гражданский брак                 1      F    пенсионер     0   \n",
       "5142   гражданский брак                 1      M    компаньон     0   \n",
       "17510   женат / замужем                 0      M    сотрудник     0   \n",
       "571     женат / замужем                 0      F  госслужащий     0   \n",
       "15201   женат / замужем                 0      F    компаньон     0   \n",
       "\n",
       "       total_income                             purpose total_income_category  \\\n",
       "19486         98581                               жилье                     C   \n",
       "5142         218263               на проведение свадьбы                     B   \n",
       "17510        376668  на покупку подержанного автомобиля                     B   \n",
       "571           72020                   операции с жильем                     C   \n",
       "15201        217924     операции со своей недвижимостью                     B   \n",
       "\n",
       "               purpose_category  \n",
       "19486  операции с недвижимостью  \n",
       "5142         проведение свадьбы  \n",
       "17510    операции с автомобилем  \n",
       "571    операции с недвижимостью  \n",
       "15201  операции с недвижимостью  "
      ]
     },
     "execution_count": 165,
     "metadata": {},
     "output_type": "execute_result"
    }
   ],
   "source": [
    "data.sample(5)"
   ]
  },
  {
   "cell_type": "markdown",
   "id": "7333af8e",
   "metadata": {
    "deletable": false,
    "editable": false,
    "id": "c5d66278"
   },
   "source": [
    "#### 3.1 Есть ли зависимость между количеством детей и возвратом кредита в срок?"
   ]
  },
  {
   "cell_type": "code",
   "execution_count": 206,
   "id": "77d8ccb4",
   "metadata": {
    "deletable": false,
    "id": "2cacfc4a",
    "scrolled": false
   },
   "outputs": [
    {
     "data": {
      "text/html": [
       "<div>\n",
       "<style scoped>\n",
       "    .dataframe tbody tr th:only-of-type {\n",
       "        vertical-align: middle;\n",
       "    }\n",
       "\n",
       "    .dataframe tbody tr th {\n",
       "        vertical-align: top;\n",
       "    }\n",
       "\n",
       "    .dataframe thead th {\n",
       "        text-align: right;\n",
       "    }\n",
       "</style>\n",
       "<table border=\"1\" class=\"dataframe\">\n",
       "  <thead>\n",
       "    <tr style=\"text-align: right;\">\n",
       "      <th></th>\n",
       "      <th>category_members</th>\n",
       "      <th>mean_debt</th>\n",
       "    </tr>\n",
       "    <tr>\n",
       "      <th>childrens</th>\n",
       "      <th></th>\n",
       "      <th></th>\n",
       "    </tr>\n",
       "  </thead>\n",
       "  <tbody>\n",
       "    <tr>\n",
       "      <th>0</th>\n",
       "      <td>14091</td>\n",
       "      <td>0.075438</td>\n",
       "    </tr>\n",
       "    <tr>\n",
       "      <th>1</th>\n",
       "      <td>4808</td>\n",
       "      <td>0.092346</td>\n",
       "    </tr>\n",
       "    <tr>\n",
       "      <th>2</th>\n",
       "      <td>2052</td>\n",
       "      <td>0.094542</td>\n",
       "    </tr>\n",
       "    <tr>\n",
       "      <th>3</th>\n",
       "      <td>330</td>\n",
       "      <td>0.081818</td>\n",
       "    </tr>\n",
       "    <tr>\n",
       "      <th>4</th>\n",
       "      <td>41</td>\n",
       "      <td>0.097561</td>\n",
       "    </tr>\n",
       "    <tr>\n",
       "      <th>5</th>\n",
       "      <td>9</td>\n",
       "      <td>0.000000</td>\n",
       "    </tr>\n",
       "  </tbody>\n",
       "</table>\n",
       "</div>"
      ],
      "text/plain": [
       "           category_members  mean_debt\n",
       "childrens                             \n",
       "0                     14091   0.075438\n",
       "1                      4808   0.092346\n",
       "2                      2052   0.094542\n",
       "3                       330   0.081818\n",
       "4                        41   0.097561\n",
       "5                         9   0.000000"
      ]
     },
     "execution_count": 206,
     "metadata": {},
     "output_type": "execute_result"
    }
   ],
   "source": [
    "import numpy as np\n",
    "childrens = data['children'].unique()\n",
    "childrens = np.sort(childrens)\n",
    "ratio = []\n",
    "\n",
    "for count in childrens:\n",
    "    ratio.append((data[(data['children']==count)&(data['debt']==1)]['children'].count()) / \n",
    "                 (data[(data['children']==count)]['children'].count()))\n",
    "    \n",
    "temp_df = pd.DataFrame(childrens, columns={'childrens'})\n",
    "temp_df['category_members'] = data.groupby('children')['children'].count()\n",
    "temp_df['mean_debt'] = ratio\n",
    "pd.pivot_table(temp_df, index=['childrens'])"
   ]
  },
  {
   "cell_type": "markdown",
   "id": "26118a5b",
   "metadata": {
    "deletable": false,
    "id": "3a6b99ec"
   },
   "source": [
    "**Вывод:** &nbsp;Чем больше в семье детей, тем больше вероятность возникновения задолженностей.  \n",
    "&emsp;&emsp;&emsp;&emsp; Наиболее надёжными являются заёмщики без детей, а наименее надёжными - с 4 детьми.  \n",
    "&emsp;&emsp;&emsp;&emsp;  \n",
    "&emsp;&emsp;&emsp;&emsp; В данном датасете коэффицент при наличии 5 детей равен нулю, однако это вызвано недостатком данных. "
   ]
  },
  {
   "cell_type": "markdown",
   "id": "383d9182",
   "metadata": {
    "deletable": false,
    "editable": false,
    "id": "97be82ca"
   },
   "source": [
    "#### 3.2 Есть ли зависимость между семейным положением и возвратом кредита в срок?"
   ]
  },
  {
   "cell_type": "code",
   "execution_count": 205,
   "id": "08e510a3",
   "metadata": {
    "deletable": false,
    "id": "dc3f7ee8"
   },
   "outputs": [
    {
     "data": {
      "text/html": [
       "<div>\n",
       "<style scoped>\n",
       "    .dataframe tbody tr th:only-of-type {\n",
       "        vertical-align: middle;\n",
       "    }\n",
       "\n",
       "    .dataframe tbody tr th {\n",
       "        vertical-align: top;\n",
       "    }\n",
       "\n",
       "    .dataframe thead th {\n",
       "        text-align: right;\n",
       "    }\n",
       "</style>\n",
       "<table border=\"1\" class=\"dataframe\">\n",
       "  <thead>\n",
       "    <tr style=\"text-align: right;\">\n",
       "      <th></th>\n",
       "      <th>category_members</th>\n",
       "      <th>mean_debt</th>\n",
       "    </tr>\n",
       "    <tr>\n",
       "      <th>family_status</th>\n",
       "      <th></th>\n",
       "      <th></th>\n",
       "    </tr>\n",
       "  </thead>\n",
       "  <tbody>\n",
       "    <tr>\n",
       "      <th>Не женат / не замужем</th>\n",
       "      <td>2796</td>\n",
       "      <td>0.097639</td>\n",
       "    </tr>\n",
       "    <tr>\n",
       "      <th>в разводе</th>\n",
       "      <td>1189</td>\n",
       "      <td>0.070648</td>\n",
       "    </tr>\n",
       "    <tr>\n",
       "      <th>вдовец / вдова</th>\n",
       "      <td>951</td>\n",
       "      <td>0.066246</td>\n",
       "    </tr>\n",
       "    <tr>\n",
       "      <th>гражданский брак</th>\n",
       "      <td>4134</td>\n",
       "      <td>0.093130</td>\n",
       "    </tr>\n",
       "    <tr>\n",
       "      <th>женат / замужем</th>\n",
       "      <td>12261</td>\n",
       "      <td>0.075606</td>\n",
       "    </tr>\n",
       "  </tbody>\n",
       "</table>\n",
       "</div>"
      ],
      "text/plain": [
       "                       category_members  mean_debt\n",
       "family_status                                     \n",
       "Не женат / не замужем              2796   0.097639\n",
       "в разводе                          1189   0.070648\n",
       "вдовец / вдова                      951   0.066246\n",
       "гражданский брак                   4134   0.093130\n",
       "женат / замужем                   12261   0.075606"
      ]
     },
     "execution_count": 205,
     "metadata": {},
     "output_type": "execute_result"
    }
   ],
   "source": [
    "family = data['family_status'].unique()\n",
    "ratio = []\n",
    "\n",
    "for status in range(len(family)):\n",
    "    ratio.append((data[(data['family_status']==family[status])&(data['debt']==1)]['family_status'].count()) / \n",
    "                 (data[(data['family_status']==family[status])]['family_status'].count()))\n",
    "\n",
    "temp_df = pd.DataFrame(family, columns={'family_status'})\n",
    "temp_df['category_members'] = data.groupby('family_status_id')['family_status'].count()\n",
    "temp_df['mean_debt'] = ratio\n",
    "pd.pivot_table(temp_df, index=['family_status'])"
   ]
  },
  {
   "cell_type": "markdown",
   "id": "f9d07a1f",
   "metadata": {
    "deletable": false,
    "id": "1cef7837"
   },
   "source": [
    "**Вывод:** &nbsp;Наиболее надёжные заёмщики - вдовцы/вдовы с коэффицентом 0.066,  \n",
    "&emsp;&emsp;&emsp;&emsp; а наименее надёжными оказались одинокие люди, К=0.097."
   ]
  },
  {
   "cell_type": "markdown",
   "id": "a0851eba",
   "metadata": {
    "deletable": false,
    "editable": false,
    "id": "1e8b2fca"
   },
   "source": [
    "#### 3.3 Есть ли зависимость между уровнем дохода и возвратом кредита в срок?"
   ]
  },
  {
   "cell_type": "code",
   "execution_count": 204,
   "id": "ff6ee646",
   "metadata": {
    "deletable": false,
    "id": "cd7e3720"
   },
   "outputs": [
    {
     "data": {
      "text/html": [
       "<div>\n",
       "<style scoped>\n",
       "    .dataframe tbody tr th:only-of-type {\n",
       "        vertical-align: middle;\n",
       "    }\n",
       "\n",
       "    .dataframe tbody tr th {\n",
       "        vertical-align: top;\n",
       "    }\n",
       "\n",
       "    .dataframe thead th {\n",
       "        text-align: right;\n",
       "    }\n",
       "</style>\n",
       "<table border=\"1\" class=\"dataframe\">\n",
       "  <thead>\n",
       "    <tr style=\"text-align: right;\">\n",
       "      <th></th>\n",
       "      <th>category_members</th>\n",
       "      <th>mean_debt</th>\n",
       "    </tr>\n",
       "    <tr>\n",
       "      <th>income_category</th>\n",
       "      <th></th>\n",
       "      <th></th>\n",
       "    </tr>\n",
       "  </thead>\n",
       "  <tbody>\n",
       "    <tr>\n",
       "      <th>A</th>\n",
       "      <td>22</td>\n",
       "      <td>0.080000</td>\n",
       "    </tr>\n",
       "    <tr>\n",
       "      <th>B</th>\n",
       "      <td>25</td>\n",
       "      <td>0.070602</td>\n",
       "    </tr>\n",
       "    <tr>\n",
       "      <th>C</th>\n",
       "      <td>5014</td>\n",
       "      <td>0.084982</td>\n",
       "    </tr>\n",
       "    <tr>\n",
       "      <th>D</th>\n",
       "      <td>15921</td>\n",
       "      <td>0.060172</td>\n",
       "    </tr>\n",
       "    <tr>\n",
       "      <th>E</th>\n",
       "      <td>349</td>\n",
       "      <td>0.090909</td>\n",
       "    </tr>\n",
       "  </tbody>\n",
       "</table>\n",
       "</div>"
      ],
      "text/plain": [
       "                 category_members  mean_debt\n",
       "income_category                             \n",
       "A                              22   0.080000\n",
       "B                              25   0.070602\n",
       "C                            5014   0.084982\n",
       "D                           15921   0.060172\n",
       "E                             349   0.090909"
      ]
     },
     "execution_count": 204,
     "metadata": {},
     "output_type": "execute_result"
    }
   ],
   "source": [
    "income = data['total_income_category'].unique()\n",
    "ratio = []\n",
    "\n",
    "for value in range(len(income)):\n",
    "    ratio.append((data[(data['total_income_category']==income[value])&(data['debt']==1)]['total_income_category'].count()) / \n",
    "                 (data[(data['total_income_category']==income[value])]['total_income_category'].count()))\n",
    "\n",
    "data['total_income_category_id'] = data['total_income_category']\n",
    "data['total_income_category_id'] = data['total_income_category_id'].replace({'A':0, 'B':1, 'C':2, 'D':3, 'E':4})\n",
    "\n",
    "temp_df = pd.DataFrame(income, columns={'income_category'})\n",
    "temp_df['category_members'] = data.groupby('total_income_category_id')['total_income'].count()\n",
    "temp_df['mean_debt'] = ratio\n",
    "pd.pivot_table(temp_df, index=['income_category'])"
   ]
  },
  {
   "cell_type": "markdown",
   "id": "a7bba34b",
   "metadata": {
    "deletable": false,
    "id": "e8593def"
   },
   "source": [
    "**Вывод:** &nbsp;Наиболее надёжными заёмщиками являются люди с уровнем дохода 30-50 тыс. рублей!\n",
    "\n",
    "&emsp;&emsp;&emsp;&emsp; А самыми ненадёжными - люди с низким уровнем дохода, 0-30 тыс. рублей."
   ]
  },
  {
   "cell_type": "markdown",
   "id": "7469a175",
   "metadata": {
    "deletable": false,
    "editable": false,
    "id": "99ecbd1f"
   },
   "source": [
    "#### 3.4 Как разные цели кредита влияют на его возврат в срок?"
   ]
  },
  {
   "cell_type": "code",
   "execution_count": 203,
   "id": "7a7b445a",
   "metadata": {
    "deletable": false,
    "id": "2b687290"
   },
   "outputs": [
    {
     "data": {
      "text/html": [
       "<div>\n",
       "<style scoped>\n",
       "    .dataframe tbody tr th:only-of-type {\n",
       "        vertical-align: middle;\n",
       "    }\n",
       "\n",
       "    .dataframe tbody tr th {\n",
       "        vertical-align: top;\n",
       "    }\n",
       "\n",
       "    .dataframe thead th {\n",
       "        text-align: right;\n",
       "    }\n",
       "</style>\n",
       "<table border=\"1\" class=\"dataframe\">\n",
       "  <thead>\n",
       "    <tr style=\"text-align: right;\">\n",
       "      <th></th>\n",
       "      <th>category_members</th>\n",
       "      <th>mean_debt</th>\n",
       "    </tr>\n",
       "    <tr>\n",
       "      <th>purpose_category</th>\n",
       "      <th></th>\n",
       "      <th></th>\n",
       "    </tr>\n",
       "  </thead>\n",
       "  <tbody>\n",
       "    <tr>\n",
       "      <th>операции с автомобилем</th>\n",
       "      <td>4279</td>\n",
       "      <td>0.093480</td>\n",
       "    </tr>\n",
       "    <tr>\n",
       "      <th>операции с недвижимостью</th>\n",
       "      <td>10751</td>\n",
       "      <td>0.072551</td>\n",
       "    </tr>\n",
       "    <tr>\n",
       "      <th>получение образования</th>\n",
       "      <td>3988</td>\n",
       "      <td>0.092528</td>\n",
       "    </tr>\n",
       "    <tr>\n",
       "      <th>проведение свадьбы</th>\n",
       "      <td>2313</td>\n",
       "      <td>0.079118</td>\n",
       "    </tr>\n",
       "  </tbody>\n",
       "</table>\n",
       "</div>"
      ],
      "text/plain": [
       "                          category_members  mean_debt\n",
       "purpose_category                                     \n",
       "операции с автомобилем                4279   0.093480\n",
       "операции с недвижимостью             10751   0.072551\n",
       "получение образования                 3988   0.092528\n",
       "проведение свадьбы                    2313   0.079118"
      ]
     },
     "execution_count": 203,
     "metadata": {},
     "output_type": "execute_result"
    }
   ],
   "source": [
    "purpose = data['purpose_category'].unique()\n",
    "ratio = []\n",
    "\n",
    "for value in range(len(purpose)):\n",
    "    ratio.append((data[(data['purpose_category']==purpose[value])&(data['debt']==1)]['purpose_category'].count()) / \n",
    "                 (data[(data['purpose_category']==purpose[value])]['purpose_category'].count()))\n",
    "\n",
    "data['purpose_category_id'] = data['purpose_category']\n",
    "data['purpose_category_id'] = data['purpose_category_id'].replace({'операции с недвижимостью':0,\n",
    "                                                                   'операции с автомобилем':1,\n",
    "                                                                   'получение образования':2,\n",
    "                                                                   'проведение свадьбы':3})    \n",
    "\n",
    "temp_df = pd.DataFrame(purpose, columns={'purpose_category'})\n",
    "temp_df['category_members'] = data.groupby('purpose_category_id')['purpose'].count()\n",
    "temp_df['mean_debt'] = ratio\n",
    "pd.pivot_table(temp_df, index=['purpose_category'])"
   ]
  },
  {
   "cell_type": "markdown",
   "id": "9701453b",
   "metadata": {
    "deletable": false,
    "id": "b4bb2ce6"
   },
   "source": [
    "**Вывод:** &nbsp;Больше всего должников оказалось с целью операций с автомобилем,  \n",
    "&emsp;&emsp;&emsp;&emsp; следом за ними - желающие получить образование.  \n",
    "&emsp;&emsp;&emsp;&emsp; Самыми надёжными оказались люди с целью приобретения недвижимости."
   ]
  },
  {
   "cell_type": "markdown",
   "id": "19c59d2a",
   "metadata": {
    "deletable": false,
    "editable": false,
    "id": "09c3ac4c"
   },
   "source": [
    "#### 3.5 Приведите возможные причины появления пропусков в исходных данных."
   ]
  },
  {
   "cell_type": "markdown",
   "id": "958d890e",
   "metadata": {
    "deletable": false,
    "id": "9da2ceda"
   },
   "source": [
    "*Ответ: Пропуски в данном датасете были обнаружены лишь в колонках рабочих дней и уровня дохода. Причиной появления этих пропусков мог быть простой недостаток сведений о клиентах, который может быть вызван как человеческим фактором, так и техническими моментами.* "
   ]
  },
  {
   "cell_type": "markdown",
   "id": "f4b2db98",
   "metadata": {
    "deletable": false,
    "editable": false,
    "id": "7b0487d6"
   },
   "source": [
    "#### 3.6 Объясните, почему заполнить пропуски медианным значением — лучшее решение для количественных переменных."
   ]
  },
  {
   "cell_type": "markdown",
   "id": "77f17728",
   "metadata": {
    "deletable": false,
    "id": "7ecf2b8e"
   },
   "source": [
    "*Ответ: Заполнение пропусков медианой наименее пагубно влияет на дисперсию набора значений, что позволяет лишний раз не терять строки датасета, при этом сохраняя необходимую для анализа достоверность данных.* "
   ]
  },
  {
   "cell_type": "markdown",
   "id": "9172e739",
   "metadata": {
    "deletable": false,
    "editable": false,
    "id": "6db5255a"
   },
   "source": [
    "### Шаг 4: общий вывод."
   ]
  },
  {
   "cell_type": "markdown",
   "id": "adc91cb2",
   "metadata": {
    "deletable": false,
    "id": "bad65432"
   },
   "source": [
    "**На основе результатов исследования можно сделать вывод, что подходящими заёмщиками для банка являются:**  \n",
    "&nbsp;-Семьи без детей, предпочтительно вдовы/вдовцы  \n",
    "&nbsp;-Люди, желающие взять кредит на недвижимость  \n",
    "&nbsp;-Люди с уровнем дохода в диапазоне 30-50 тыс. рублей  \n",
    "\n",
    "Идеальным вариантом станет комбинация из перечисленных критериев."
   ]
  }
 ],
 "metadata": {
  "ExecuteTimeLog": [
   {
    "duration": 48,
    "start_time": "2022-10-07T10:56:31.823Z"
   },
   {
    "duration": 494,
    "start_time": "2022-10-07T10:56:40.234Z"
   },
   {
    "duration": 72,
    "start_time": "2022-10-07T10:56:41.717Z"
   },
   {
    "duration": 69,
    "start_time": "2022-10-07T10:56:43.506Z"
   },
   {
    "duration": 25,
    "start_time": "2022-10-07T10:56:44.332Z"
   },
   {
    "duration": 16,
    "start_time": "2022-10-07T10:56:45.007Z"
   },
   {
    "duration": 10,
    "start_time": "2022-10-07T10:56:46.032Z"
   },
   {
    "duration": 36,
    "start_time": "2022-10-07T10:56:46.578Z"
   },
   {
    "duration": 4,
    "start_time": "2022-10-07T10:56:47.106Z"
   },
   {
    "duration": 10,
    "start_time": "2022-10-07T10:56:47.474Z"
   },
   {
    "duration": 4,
    "start_time": "2022-10-07T10:56:48.039Z"
   },
   {
    "duration": 31,
    "start_time": "2022-10-07T10:56:48.435Z"
   },
   {
    "duration": 5,
    "start_time": "2022-10-07T10:56:48.832Z"
   },
   {
    "duration": 35,
    "start_time": "2022-10-07T10:56:49.352Z"
   },
   {
    "duration": 10,
    "start_time": "2022-10-07T10:56:49.732Z"
   },
   {
    "duration": 5,
    "start_time": "2022-10-07T10:56:50.288Z"
   },
   {
    "duration": 13,
    "start_time": "2022-10-07T10:56:50.891Z"
   },
   {
    "duration": 20,
    "start_time": "2022-10-07T10:56:51.297Z"
   },
   {
    "duration": 18,
    "start_time": "2022-10-07T10:56:51.532Z"
   },
   {
    "duration": 4,
    "start_time": "2022-10-07T10:56:52.166Z"
   },
   {
    "duration": 11,
    "start_time": "2022-10-07T10:56:52.358Z"
   },
   {
    "duration": 5,
    "start_time": "2022-10-07T10:56:52.857Z"
   },
   {
    "duration": 4,
    "start_time": "2022-10-07T10:56:53.692Z"
   },
   {
    "duration": 8,
    "start_time": "2022-10-07T10:56:54.191Z"
   },
   {
    "duration": 16,
    "start_time": "2022-10-07T10:57:05.042Z"
   },
   {
    "duration": 5,
    "start_time": "2022-10-07T10:57:35.894Z"
   },
   {
    "duration": 21,
    "start_time": "2022-10-07T10:57:41.505Z"
   },
   {
    "duration": 15,
    "start_time": "2022-10-07T11:09:12.643Z"
   },
   {
    "duration": 1347,
    "start_time": "2022-10-07T11:12:55.771Z"
   },
   {
    "duration": 368,
    "start_time": "2022-10-07T11:13:08.070Z"
   },
   {
    "duration": 359,
    "start_time": "2022-10-07T11:15:47.602Z"
   },
   {
    "duration": 337,
    "start_time": "2022-10-07T11:20:37.428Z"
   },
   {
    "duration": 267,
    "start_time": "2022-10-07T11:20:45.784Z"
   },
   {
    "duration": 341,
    "start_time": "2022-10-07T11:20:59.589Z"
   },
   {
    "duration": 66,
    "start_time": "2022-10-07T11:21:58.475Z"
   },
   {
    "duration": 9,
    "start_time": "2022-10-07T11:23:16.553Z"
   },
   {
    "duration": 8,
    "start_time": "2022-10-07T11:23:24.108Z"
   },
   {
    "duration": 8,
    "start_time": "2022-10-07T11:23:42.911Z"
   },
   {
    "duration": 8,
    "start_time": "2022-10-07T11:23:53.701Z"
   },
   {
    "duration": 354,
    "start_time": "2022-10-07T11:24:03.908Z"
   },
   {
    "duration": 14,
    "start_time": "2022-10-07T11:25:16.358Z"
   },
   {
    "duration": 344,
    "start_time": "2022-10-07T11:25:25.035Z"
   },
   {
    "duration": 421,
    "start_time": "2022-10-07T11:26:50.257Z"
   },
   {
    "duration": 341,
    "start_time": "2022-10-07T11:26:56.845Z"
   },
   {
    "duration": 324,
    "start_time": "2022-10-07T11:27:03.739Z"
   },
   {
    "duration": 451,
    "start_time": "2022-10-07T11:27:07.079Z"
   },
   {
    "duration": 330,
    "start_time": "2022-10-07T11:27:22.423Z"
   },
   {
    "duration": 342,
    "start_time": "2022-10-07T11:27:33.937Z"
   },
   {
    "duration": 334,
    "start_time": "2022-10-07T11:28:38.591Z"
   },
   {
    "duration": 360,
    "start_time": "2022-10-07T11:29:18.006Z"
   },
   {
    "duration": 14,
    "start_time": "2022-10-07T11:31:28.176Z"
   },
   {
    "duration": 352,
    "start_time": "2022-10-07T11:31:45.716Z"
   },
   {
    "duration": 350,
    "start_time": "2022-10-07T11:32:36.302Z"
   },
   {
    "duration": 383,
    "start_time": "2022-10-07T11:32:47.270Z"
   },
   {
    "duration": 340,
    "start_time": "2022-10-07T11:32:57.572Z"
   },
   {
    "duration": 373,
    "start_time": "2022-10-07T11:33:20.392Z"
   },
   {
    "duration": 432,
    "start_time": "2022-10-07T11:35:32.256Z"
   },
   {
    "duration": 15,
    "start_time": "2022-10-07T11:36:41.835Z"
   },
   {
    "duration": 293,
    "start_time": "2022-10-07T11:48:07.626Z"
   },
   {
    "duration": 12,
    "start_time": "2022-10-07T11:49:13.729Z"
   },
   {
    "duration": 10,
    "start_time": "2022-10-07T11:50:35.541Z"
   },
   {
    "duration": 5,
    "start_time": "2022-10-07T11:50:42.278Z"
   },
   {
    "duration": 8,
    "start_time": "2022-10-07T11:50:48.008Z"
   },
   {
    "duration": 7,
    "start_time": "2022-10-07T11:50:50.902Z"
   },
   {
    "duration": 20,
    "start_time": "2022-10-07T11:52:09.290Z"
   },
   {
    "duration": 9,
    "start_time": "2022-10-07T11:52:15.076Z"
   },
   {
    "duration": 15,
    "start_time": "2022-10-07T11:52:18.603Z"
   },
   {
    "duration": 9,
    "start_time": "2022-10-07T11:52:31.174Z"
   },
   {
    "duration": 8,
    "start_time": "2022-10-07T11:52:35.118Z"
   },
   {
    "duration": 9,
    "start_time": "2022-10-07T11:52:38.574Z"
   },
   {
    "duration": 44,
    "start_time": "2022-10-07T11:56:07.833Z"
   },
   {
    "duration": 39,
    "start_time": "2022-10-07T11:56:39.057Z"
   },
   {
    "duration": 24,
    "start_time": "2022-10-07T11:56:54.345Z"
   },
   {
    "duration": 10,
    "start_time": "2022-10-07T11:57:15.013Z"
   },
   {
    "duration": 11,
    "start_time": "2022-10-07T11:57:27.436Z"
   },
   {
    "duration": 17,
    "start_time": "2022-10-07T11:57:35.622Z"
   },
   {
    "duration": 18,
    "start_time": "2022-10-07T11:57:57.732Z"
   },
   {
    "duration": 18,
    "start_time": "2022-10-07T11:58:22.043Z"
   },
   {
    "duration": 55,
    "start_time": "2022-10-07T11:58:51.565Z"
   },
   {
    "duration": 49,
    "start_time": "2022-10-07T11:58:57.940Z"
   },
   {
    "duration": 21,
    "start_time": "2022-10-07T11:59:21.241Z"
   },
   {
    "duration": 14,
    "start_time": "2022-10-07T12:00:21.517Z"
   },
   {
    "duration": 19,
    "start_time": "2022-10-07T12:02:20.264Z"
   },
   {
    "duration": 14,
    "start_time": "2022-10-07T12:06:36.154Z"
   },
   {
    "duration": 19,
    "start_time": "2022-10-07T12:06:38.059Z"
   },
   {
    "duration": 13,
    "start_time": "2022-10-07T12:07:08.323Z"
   },
   {
    "duration": 12,
    "start_time": "2022-10-07T12:07:47.883Z"
   },
   {
    "duration": 11,
    "start_time": "2022-10-07T12:08:27.861Z"
   },
   {
    "duration": 20,
    "start_time": "2022-10-07T12:08:41.287Z"
   },
   {
    "duration": 20,
    "start_time": "2022-10-07T12:09:36.067Z"
   },
   {
    "duration": 8,
    "start_time": "2022-10-07T12:12:08.500Z"
   },
   {
    "duration": 11,
    "start_time": "2022-10-07T12:12:12.960Z"
   },
   {
    "duration": 7,
    "start_time": "2022-10-07T12:12:15.256Z"
   },
   {
    "duration": 6,
    "start_time": "2022-10-07T12:12:22.559Z"
   },
   {
    "duration": 20,
    "start_time": "2022-10-07T12:24:12.787Z"
   },
   {
    "duration": 18,
    "start_time": "2022-10-07T12:24:24.239Z"
   },
   {
    "duration": 5,
    "start_time": "2022-10-07T12:24:24.664Z"
   },
   {
    "duration": 14,
    "start_time": "2022-10-07T12:25:10.428Z"
   },
   {
    "duration": 4,
    "start_time": "2022-10-07T12:25:22.853Z"
   },
   {
    "duration": 5,
    "start_time": "2022-10-07T12:25:27.827Z"
   },
   {
    "duration": 13,
    "start_time": "2022-10-07T12:25:32.180Z"
   },
   {
    "duration": 20,
    "start_time": "2022-10-07T12:25:32.479Z"
   },
   {
    "duration": 5,
    "start_time": "2022-10-07T12:25:33.035Z"
   },
   {
    "duration": 5,
    "start_time": "2022-10-07T12:25:35.219Z"
   },
   {
    "duration": 5,
    "start_time": "2022-10-07T12:26:29.111Z"
   },
   {
    "duration": 11,
    "start_time": "2022-10-07T12:26:55.907Z"
   },
   {
    "duration": 5,
    "start_time": "2022-10-07T12:27:15.424Z"
   },
   {
    "duration": 5,
    "start_time": "2022-10-07T12:27:19.680Z"
   },
   {
    "duration": 5,
    "start_time": "2022-10-07T12:27:45.993Z"
   },
   {
    "duration": 30,
    "start_time": "2022-10-07T12:29:42.900Z"
   },
   {
    "duration": 46,
    "start_time": "2022-10-07T15:02:55.105Z"
   },
   {
    "duration": 554,
    "start_time": "2022-10-07T15:03:01.783Z"
   },
   {
    "duration": 23,
    "start_time": "2022-10-07T15:03:02.339Z"
   },
   {
    "duration": 14,
    "start_time": "2022-10-07T15:03:02.535Z"
   },
   {
    "duration": 10,
    "start_time": "2022-10-07T15:03:03.441Z"
   },
   {
    "duration": 35,
    "start_time": "2022-10-07T15:03:03.826Z"
   },
   {
    "duration": 4,
    "start_time": "2022-10-07T15:03:04.376Z"
   },
   {
    "duration": 9,
    "start_time": "2022-10-07T15:03:04.751Z"
   },
   {
    "duration": 4,
    "start_time": "2022-10-07T15:03:05.327Z"
   },
   {
    "duration": 8,
    "start_time": "2022-10-07T15:03:05.733Z"
   },
   {
    "duration": 5,
    "start_time": "2022-10-07T15:03:06.091Z"
   },
   {
    "duration": 41,
    "start_time": "2022-10-07T15:03:06.659Z"
   },
   {
    "duration": 20,
    "start_time": "2022-10-07T15:03:07.067Z"
   },
   {
    "duration": 5,
    "start_time": "2022-10-07T15:03:07.889Z"
   },
   {
    "duration": 11,
    "start_time": "2022-10-07T15:03:08.981Z"
   },
   {
    "duration": 25,
    "start_time": "2022-10-07T15:03:09.451Z"
   },
   {
    "duration": 16,
    "start_time": "2022-10-07T15:03:09.673Z"
   },
   {
    "duration": 3,
    "start_time": "2022-10-07T15:03:10.236Z"
   },
   {
    "duration": 9,
    "start_time": "2022-10-07T15:03:10.447Z"
   },
   {
    "duration": 7,
    "start_time": "2022-10-07T15:03:10.840Z"
   },
   {
    "duration": 4,
    "start_time": "2022-10-07T15:03:11.440Z"
   },
   {
    "duration": 15,
    "start_time": "2022-10-07T15:03:11.662Z"
   },
   {
    "duration": 19,
    "start_time": "2022-10-07T15:03:12.337Z"
   },
   {
    "duration": 20,
    "start_time": "2022-10-07T15:03:12.545Z"
   },
   {
    "duration": 7,
    "start_time": "2022-10-07T15:03:12.746Z"
   },
   {
    "duration": 29,
    "start_time": "2022-10-07T15:03:14.067Z"
   },
   {
    "duration": 8,
    "start_time": "2022-10-07T15:03:15.843Z"
   },
   {
    "duration": 30,
    "start_time": "2022-10-07T15:05:21.556Z"
   },
   {
    "duration": 30,
    "start_time": "2022-10-07T15:10:36.907Z"
   },
   {
    "duration": 168,
    "start_time": "2022-10-07T15:12:27.038Z"
   },
   {
    "duration": 35,
    "start_time": "2022-10-07T15:13:08.680Z"
   },
   {
    "duration": 30,
    "start_time": "2022-10-07T15:13:53.846Z"
   },
   {
    "duration": 24,
    "start_time": "2022-10-07T15:14:27.247Z"
   },
   {
    "duration": 87,
    "start_time": "2022-10-07T17:47:29.139Z"
   },
   {
    "duration": 295,
    "start_time": "2022-10-07T17:47:36.523Z"
   },
   {
    "duration": 310,
    "start_time": "2022-10-07T17:47:47.872Z"
   },
   {
    "duration": 22,
    "start_time": "2022-10-07T17:47:54.877Z"
   },
   {
    "duration": 22,
    "start_time": "2022-10-07T17:48:01.069Z"
   },
   {
    "duration": 42,
    "start_time": "2022-10-07T17:48:06.649Z"
   },
   {
    "duration": 67,
    "start_time": "2022-10-07T17:48:17.355Z"
   },
   {
    "duration": 15,
    "start_time": "2022-10-07T17:48:17.649Z"
   },
   {
    "duration": 19,
    "start_time": "2022-10-07T17:48:18.030Z"
   },
   {
    "duration": 9,
    "start_time": "2022-10-07T17:48:18.836Z"
   },
   {
    "duration": 39,
    "start_time": "2022-10-07T17:48:19.214Z"
   },
   {
    "duration": 4,
    "start_time": "2022-10-07T17:48:19.877Z"
   },
   {
    "duration": 8,
    "start_time": "2022-10-07T17:48:20.219Z"
   },
   {
    "duration": 5,
    "start_time": "2022-10-07T17:48:20.747Z"
   },
   {
    "duration": 5,
    "start_time": "2022-10-07T17:48:21.110Z"
   },
   {
    "duration": 5,
    "start_time": "2022-10-07T17:48:21.496Z"
   },
   {
    "duration": 48,
    "start_time": "2022-10-07T17:48:22.125Z"
   },
   {
    "duration": 9,
    "start_time": "2022-10-07T17:48:23.062Z"
   },
   {
    "duration": 4,
    "start_time": "2022-10-07T17:48:24.500Z"
   },
   {
    "duration": 11,
    "start_time": "2022-10-07T17:48:25.007Z"
   },
   {
    "duration": 19,
    "start_time": "2022-10-07T17:48:25.447Z"
   },
   {
    "duration": 18,
    "start_time": "2022-10-07T17:48:25.661Z"
   },
   {
    "duration": 5,
    "start_time": "2022-10-07T17:48:26.530Z"
   },
   {
    "duration": 12,
    "start_time": "2022-10-07T17:48:26.754Z"
   },
   {
    "duration": 7,
    "start_time": "2022-10-07T17:48:27.089Z"
   },
   {
    "duration": 4,
    "start_time": "2022-10-07T17:48:27.470Z"
   },
   {
    "duration": 13,
    "start_time": "2022-10-07T17:48:27.679Z"
   },
   {
    "duration": 18,
    "start_time": "2022-10-07T17:48:28.091Z"
   },
   {
    "duration": 24,
    "start_time": "2022-10-07T17:48:28.533Z"
   },
   {
    "duration": 8,
    "start_time": "2022-10-07T17:48:28.886Z"
   },
   {
    "duration": 16,
    "start_time": "2022-10-07T17:49:09.736Z"
   },
   {
    "duration": 9,
    "start_time": "2022-10-07T17:49:24.562Z"
   },
   {
    "duration": 22,
    "start_time": "2022-10-07T17:49:36.991Z"
   },
   {
    "duration": 14,
    "start_time": "2022-10-07T17:50:57.986Z"
   },
   {
    "duration": 14,
    "start_time": "2022-10-07T17:51:01.717Z"
   },
   {
    "duration": 20,
    "start_time": "2022-10-07T17:51:15.362Z"
   },
   {
    "duration": 24,
    "start_time": "2022-10-07T17:51:19.535Z"
   },
   {
    "duration": 38,
    "start_time": "2022-10-07T17:51:40.769Z"
   },
   {
    "duration": 27,
    "start_time": "2022-10-07T17:52:21.874Z"
   },
   {
    "duration": 15,
    "start_time": "2022-10-07T17:55:08.416Z"
   },
   {
    "duration": 11,
    "start_time": "2022-10-07T17:55:20.970Z"
   },
   {
    "duration": 15,
    "start_time": "2022-10-07T17:55:23.998Z"
   },
   {
    "duration": 15,
    "start_time": "2022-10-07T17:55:38.072Z"
   },
   {
    "duration": 18,
    "start_time": "2022-10-07T17:56:04.471Z"
   },
   {
    "duration": 16,
    "start_time": "2022-10-07T17:56:09.450Z"
   },
   {
    "duration": 19,
    "start_time": "2022-10-07T17:58:17.102Z"
   },
   {
    "duration": 1201,
    "start_time": "2022-10-07T17:58:40.693Z"
   },
   {
    "duration": 1859,
    "start_time": "2022-10-07T17:58:46.808Z"
   },
   {
    "duration": 19,
    "start_time": "2022-10-07T17:59:15.473Z"
   },
   {
    "duration": 26,
    "start_time": "2022-10-07T18:01:16.231Z"
   },
   {
    "duration": 34,
    "start_time": "2022-10-07T18:01:23.405Z"
   },
   {
    "duration": 29,
    "start_time": "2022-10-07T18:01:34.184Z"
   },
   {
    "duration": 25,
    "start_time": "2022-10-07T18:01:53.941Z"
   },
   {
    "duration": 23,
    "start_time": "2022-10-07T18:02:05.374Z"
   },
   {
    "duration": 30,
    "start_time": "2022-10-07T18:03:37.077Z"
   },
   {
    "duration": 37,
    "start_time": "2022-10-07T18:03:45.147Z"
   },
   {
    "duration": 32,
    "start_time": "2022-10-07T18:04:09.205Z"
   },
   {
    "duration": 21,
    "start_time": "2022-10-07T18:04:29.779Z"
   },
   {
    "duration": 26,
    "start_time": "2022-10-07T18:04:34.303Z"
   },
   {
    "duration": 28,
    "start_time": "2022-10-07T18:05:05.008Z"
   },
   {
    "duration": 27,
    "start_time": "2022-10-07T18:05:10.732Z"
   },
   {
    "duration": 33,
    "start_time": "2022-10-07T18:06:25.695Z"
   },
   {
    "duration": 75,
    "start_time": "2022-10-07T18:08:17.892Z"
   },
   {
    "duration": 74,
    "start_time": "2022-10-07T18:08:38.898Z"
   },
   {
    "duration": 32,
    "start_time": "2022-10-07T18:08:54.072Z"
   },
   {
    "duration": 34,
    "start_time": "2022-10-07T18:09:15.642Z"
   },
   {
    "duration": 39,
    "start_time": "2022-10-07T18:09:20.751Z"
   },
   {
    "duration": 22,
    "start_time": "2022-10-07T18:10:26.344Z"
   },
   {
    "duration": 21,
    "start_time": "2022-10-07T18:10:48.816Z"
   },
   {
    "duration": 35,
    "start_time": "2022-10-07T18:10:53.414Z"
   },
   {
    "duration": 32,
    "start_time": "2022-10-07T18:11:36.724Z"
   },
   {
    "duration": 32,
    "start_time": "2022-10-07T18:12:22.535Z"
   },
   {
    "duration": 31,
    "start_time": "2022-10-07T18:17:54.717Z"
   },
   {
    "duration": 30,
    "start_time": "2022-10-07T18:18:22.543Z"
   },
   {
    "duration": 26,
    "start_time": "2022-10-07T18:18:49.745Z"
   },
   {
    "duration": 31,
    "start_time": "2022-10-07T18:19:22.973Z"
   },
   {
    "duration": 34,
    "start_time": "2022-10-07T18:20:23.420Z"
   },
   {
    "duration": 31,
    "start_time": "2022-10-07T18:20:28.304Z"
   },
   {
    "duration": 41,
    "start_time": "2022-10-07T18:23:52.351Z"
   },
   {
    "duration": 39,
    "start_time": "2022-10-07T18:24:37.091Z"
   },
   {
    "duration": 41,
    "start_time": "2022-10-07T18:24:40.259Z"
   },
   {
    "duration": 45,
    "start_time": "2022-10-07T18:25:19.400Z"
   },
   {
    "duration": 31,
    "start_time": "2022-10-07T18:26:12.972Z"
   },
   {
    "duration": 37,
    "start_time": "2022-10-07T18:26:15.932Z"
   },
   {
    "duration": 45,
    "start_time": "2022-10-07T18:27:02.635Z"
   },
   {
    "duration": 39,
    "start_time": "2022-10-07T18:27:38.598Z"
   },
   {
    "duration": 48,
    "start_time": "2022-10-07T18:27:46.160Z"
   },
   {
    "duration": 32,
    "start_time": "2022-10-07T18:27:53.597Z"
   },
   {
    "duration": 38,
    "start_time": "2022-10-07T18:28:01.562Z"
   },
   {
    "duration": 40,
    "start_time": "2022-10-07T18:28:09.436Z"
   },
   {
    "duration": 40,
    "start_time": "2022-10-07T18:30:25.250Z"
   },
   {
    "duration": 41,
    "start_time": "2022-10-07T18:30:30.095Z"
   },
   {
    "duration": 30,
    "start_time": "2022-10-07T18:30:46.077Z"
   },
   {
    "duration": 45,
    "start_time": "2022-10-07T18:30:55.398Z"
   },
   {
    "duration": 42,
    "start_time": "2022-10-07T18:32:55.189Z"
   },
   {
    "duration": 45,
    "start_time": "2022-10-07T18:33:05.271Z"
   },
   {
    "duration": 41,
    "start_time": "2022-10-07T18:33:11.915Z"
   },
   {
    "duration": 47,
    "start_time": "2022-10-07T18:33:16.856Z"
   },
   {
    "duration": 38,
    "start_time": "2022-10-07T18:34:00.052Z"
   },
   {
    "duration": 37,
    "start_time": "2022-10-07T18:34:38.328Z"
   },
   {
    "duration": 47,
    "start_time": "2022-10-07T18:35:31.491Z"
   },
   {
    "duration": 30,
    "start_time": "2022-10-07T18:35:37.423Z"
   },
   {
    "duration": 33,
    "start_time": "2022-10-07T18:36:34.807Z"
   },
   {
    "duration": 41,
    "start_time": "2022-10-07T18:36:40.988Z"
   },
   {
    "duration": 35,
    "start_time": "2022-10-07T18:36:47.541Z"
   },
   {
    "duration": 35,
    "start_time": "2022-10-07T18:37:13.092Z"
   },
   {
    "duration": 44,
    "start_time": "2022-10-07T18:38:11.661Z"
   },
   {
    "duration": 35,
    "start_time": "2022-10-07T18:39:24.539Z"
   },
   {
    "duration": 35,
    "start_time": "2022-10-07T18:39:29.915Z"
   },
   {
    "duration": 52,
    "start_time": "2022-10-07T18:39:34.612Z"
   },
   {
    "duration": 45,
    "start_time": "2022-10-07T18:39:52.732Z"
   },
   {
    "duration": 34,
    "start_time": "2022-10-07T18:40:21.055Z"
   },
   {
    "duration": 34,
    "start_time": "2022-10-07T18:40:26.349Z"
   },
   {
    "duration": 68,
    "start_time": "2022-10-07T18:40:41.967Z"
   },
   {
    "duration": 37,
    "start_time": "2022-10-07T18:41:00.937Z"
   },
   {
    "duration": 33,
    "start_time": "2022-10-07T18:41:19.703Z"
   },
   {
    "duration": 32,
    "start_time": "2022-10-07T18:42:03.288Z"
   },
   {
    "duration": 35,
    "start_time": "2022-10-07T18:42:13.266Z"
   },
   {
    "duration": 38,
    "start_time": "2022-10-07T18:42:18.581Z"
   },
   {
    "duration": 38,
    "start_time": "2022-10-07T18:42:21.289Z"
   },
   {
    "duration": 35,
    "start_time": "2022-10-07T18:42:42.369Z"
   },
   {
    "duration": 38,
    "start_time": "2022-10-07T18:42:44.566Z"
   },
   {
    "duration": 38,
    "start_time": "2022-10-07T18:42:46.853Z"
   },
   {
    "duration": 37,
    "start_time": "2022-10-07T18:42:59.328Z"
   },
   {
    "duration": 38,
    "start_time": "2022-10-07T18:43:23.537Z"
   },
   {
    "duration": 34,
    "start_time": "2022-10-07T18:43:31.273Z"
   },
   {
    "duration": 1212,
    "start_time": "2022-10-07T18:44:10.820Z"
   },
   {
    "duration": 1228,
    "start_time": "2022-10-07T18:44:22.803Z"
   },
   {
    "duration": 35,
    "start_time": "2022-10-07T18:44:35.638Z"
   },
   {
    "duration": 35,
    "start_time": "2022-10-07T18:45:15.552Z"
   },
   {
    "duration": 36,
    "start_time": "2022-10-07T18:46:04.262Z"
   },
   {
    "duration": 37,
    "start_time": "2022-10-07T18:48:03.772Z"
   },
   {
    "duration": 33,
    "start_time": "2022-10-07T18:48:21.872Z"
   },
   {
    "duration": 36,
    "start_time": "2022-10-07T18:48:26.976Z"
   },
   {
    "duration": 35,
    "start_time": "2022-10-07T18:48:32.377Z"
   },
   {
    "duration": 33,
    "start_time": "2022-10-07T18:48:37.129Z"
   },
   {
    "duration": 34,
    "start_time": "2022-10-07T18:48:41.740Z"
   },
   {
    "duration": 34,
    "start_time": "2022-10-07T18:48:50.839Z"
   },
   {
    "duration": 35,
    "start_time": "2022-10-07T18:49:47.072Z"
   },
   {
    "duration": 41,
    "start_time": "2022-10-07T18:49:50.997Z"
   },
   {
    "duration": 34,
    "start_time": "2022-10-07T18:49:54.029Z"
   },
   {
    "duration": 68,
    "start_time": "2022-10-07T18:50:02.942Z"
   },
   {
    "duration": 1225,
    "start_time": "2022-10-07T18:50:10.078Z"
   },
   {
    "duration": 65,
    "start_time": "2022-10-07T18:50:21.899Z"
   },
   {
    "duration": 18,
    "start_time": "2022-10-07T18:50:22.292Z"
   },
   {
    "duration": 14,
    "start_time": "2022-10-07T18:50:22.651Z"
   },
   {
    "duration": 10,
    "start_time": "2022-10-07T18:50:23.336Z"
   },
   {
    "duration": 31,
    "start_time": "2022-10-07T18:50:23.632Z"
   },
   {
    "duration": 3,
    "start_time": "2022-10-07T18:50:24.110Z"
   },
   {
    "duration": 8,
    "start_time": "2022-10-07T18:50:24.440Z"
   },
   {
    "duration": 5,
    "start_time": "2022-10-07T18:50:24.964Z"
   },
   {
    "duration": 7,
    "start_time": "2022-10-07T18:50:25.284Z"
   },
   {
    "duration": 6,
    "start_time": "2022-10-07T18:50:25.641Z"
   },
   {
    "duration": 33,
    "start_time": "2022-10-07T18:50:26.158Z"
   },
   {
    "duration": 12,
    "start_time": "2022-10-07T18:50:26.491Z"
   },
   {
    "duration": 3,
    "start_time": "2022-10-07T18:50:27.034Z"
   },
   {
    "duration": 11,
    "start_time": "2022-10-07T18:50:27.563Z"
   },
   {
    "duration": 19,
    "start_time": "2022-10-07T18:50:27.916Z"
   },
   {
    "duration": 18,
    "start_time": "2022-10-07T18:50:28.093Z"
   },
   {
    "duration": 3,
    "start_time": "2022-10-07T18:50:28.644Z"
   },
   {
    "duration": 14,
    "start_time": "2022-10-07T18:50:28.824Z"
   },
   {
    "duration": 6,
    "start_time": "2022-10-07T18:50:29.188Z"
   },
   {
    "duration": 4,
    "start_time": "2022-10-07T18:50:29.516Z"
   },
   {
    "duration": 8,
    "start_time": "2022-10-07T18:50:29.716Z"
   },
   {
    "duration": 15,
    "start_time": "2022-10-07T18:50:30.087Z"
   },
   {
    "duration": 30,
    "start_time": "2022-10-07T18:50:30.931Z"
   },
   {
    "duration": 37,
    "start_time": "2022-10-07T18:50:32.088Z"
   },
   {
    "duration": 39,
    "start_time": "2022-10-07T18:50:35.380Z"
   },
   {
    "duration": 38,
    "start_time": "2022-10-07T18:50:58.598Z"
   },
   {
    "duration": 39,
    "start_time": "2022-10-07T18:51:02.474Z"
   },
   {
    "duration": 42,
    "start_time": "2022-10-07T18:51:19.645Z"
   },
   {
    "duration": 39,
    "start_time": "2022-10-07T18:51:48.974Z"
   },
   {
    "duration": 43,
    "start_time": "2022-10-07T18:52:29.857Z"
   },
   {
    "duration": 37,
    "start_time": "2022-10-07T18:52:34.760Z"
   },
   {
    "duration": 36,
    "start_time": "2022-10-07T18:54:04.521Z"
   },
   {
    "duration": 30,
    "start_time": "2022-10-07T18:54:37.277Z"
   },
   {
    "duration": 36,
    "start_time": "2022-10-07T18:54:40.657Z"
   },
   {
    "duration": 34,
    "start_time": "2022-10-07T18:54:45.788Z"
   },
   {
    "duration": 34,
    "start_time": "2022-10-07T18:54:59.224Z"
   },
   {
    "duration": 27,
    "start_time": "2022-10-07T18:55:02.285Z"
   },
   {
    "duration": 30,
    "start_time": "2022-10-07T18:55:09.476Z"
   },
   {
    "duration": 28,
    "start_time": "2022-10-07T18:55:34.675Z"
   },
   {
    "duration": 37,
    "start_time": "2022-10-07T18:55:37.249Z"
   },
   {
    "duration": 30,
    "start_time": "2022-10-07T18:55:52.258Z"
   },
   {
    "duration": 39,
    "start_time": "2022-10-07T18:55:59.152Z"
   },
   {
    "duration": 38,
    "start_time": "2022-10-07T18:56:09.446Z"
   },
   {
    "duration": 41,
    "start_time": "2022-10-07T18:56:14.262Z"
   },
   {
    "duration": 45,
    "start_time": "2022-10-07T18:56:18.813Z"
   },
   {
    "duration": 34,
    "start_time": "2022-10-07T18:56:26.866Z"
   },
   {
    "duration": 35,
    "start_time": "2022-10-07T18:56:36.138Z"
   },
   {
    "duration": 36,
    "start_time": "2022-10-07T18:56:40.516Z"
   },
   {
    "duration": 43,
    "start_time": "2022-10-07T18:56:49.517Z"
   },
   {
    "duration": 33,
    "start_time": "2022-10-07T18:57:28.771Z"
   },
   {
    "duration": 39,
    "start_time": "2022-10-07T18:58:06.804Z"
   },
   {
    "duration": 34,
    "start_time": "2022-10-07T18:58:09.834Z"
   },
   {
    "duration": 34,
    "start_time": "2022-10-07T18:58:18.286Z"
   },
   {
    "duration": 77,
    "start_time": "2022-10-07T19:01:24.806Z"
   },
   {
    "duration": 30,
    "start_time": "2022-10-07T19:01:28.667Z"
   },
   {
    "duration": 41,
    "start_time": "2022-10-07T19:06:22.217Z"
   },
   {
    "duration": 45,
    "start_time": "2022-10-07T19:06:35.374Z"
   },
   {
    "duration": 43,
    "start_time": "2022-10-07T19:09:28.437Z"
   },
   {
    "duration": 45,
    "start_time": "2022-10-07T19:09:35.555Z"
   },
   {
    "duration": 44,
    "start_time": "2022-10-07T19:10:14.077Z"
   },
   {
    "duration": 63,
    "start_time": "2022-10-07T19:10:32.843Z"
   },
   {
    "duration": 42,
    "start_time": "2022-10-07T19:10:52.138Z"
   },
   {
    "duration": 31,
    "start_time": "2022-10-07T19:11:10.628Z"
   }
  ],
  "colab": {
   "name": "dpp_template_part2.ipynb",
   "provenance": []
  },
  "kernelspec": {
   "display_name": "Python 3 (ipykernel)",
   "language": "python",
   "name": "python3"
  },
  "language_info": {
   "codemirror_mode": {
    "name": "ipython",
    "version": 3
   },
   "file_extension": ".py",
   "mimetype": "text/x-python",
   "name": "python",
   "nbconvert_exporter": "python",
   "pygments_lexer": "ipython3",
   "version": "3.9.5"
  },
  "toc": {
   "base_numbering": 1,
   "nav_menu": {},
   "number_sections": true,
   "sideBar": true,
   "skip_h1_title": true,
   "title_cell": "Table of Contents",
   "title_sidebar": "Contents",
   "toc_cell": false,
   "toc_position": {},
   "toc_section_display": true,
   "toc_window_display": false
  }
 },
 "nbformat": 4,
 "nbformat_minor": 5
}
