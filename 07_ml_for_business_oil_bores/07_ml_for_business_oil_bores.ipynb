{
 "cells": [
  {
   "cell_type": "markdown",
   "metadata": {},
   "source": [
    "# Выбор локации для скважины"
   ]
  },
  {
   "cell_type": "markdown",
   "metadata": {},
   "source": [
    "Допустим, вы работаете в добывающей компании «ГлавРосГосНефть». Нужно решить, где бурить новую скважину.\n",
    "\n",
    "Вам предоставлены пробы нефти в трёх регионах: в каждом 10 000 месторождений, где измерили качество нефти и объём её запасов. Постройте модель машинного обучения, которая поможет определить регион, где добыча принесёт наибольшую прибыль. Проанализируйте возможную прибыль и риски техникой *Bootstrap.*\n",
    "\n",
    "Шаги для выбора локации:\n",
    "\n",
    "- В избранном регионе ищут месторождения, для каждого определяют значения признаков;\n",
    "- Строят модель и оценивают объём запасов;\n",
    "- Выбирают месторождения с самым высокими оценками значений. Количество месторождений зависит от бюджета компании и стоимости разработки одной скважины;\n",
    "- Прибыль равна суммарной прибыли отобранных месторождений."
   ]
  },
  {
   "cell_type": "markdown",
   "metadata": {},
   "source": [
    "## Загрузка и подготовка данных"
   ]
  },
  {
   "cell_type": "code",
   "execution_count": 1,
   "metadata": {},
   "outputs": [],
   "source": [
    "import pandas as pd\n",
    "import numpy as np\n",
    "from scipy import stats as st\n",
    "from matplotlib import pyplot as plt\n",
    "from sklearn.model_selection import train_test_split\n",
    "from sklearn.preprocessing import StandardScaler\n",
    "from sklearn.linear_model import LinearRegression\n",
    "from sklearn.metrics import mean_squared_error\n",
    "import warnings\n",
    "warnings.filterwarnings('ignore')"
   ]
  },
  {
   "cell_type": "markdown",
   "metadata": {},
   "source": [
    "Первым делом изучим данные на наличие пропусков, дубликатов и аномалий"
   ]
  },
  {
   "cell_type": "markdown",
   "metadata": {},
   "source": [
    "### Geo Data 0"
   ]
  },
  {
   "cell_type": "code",
   "execution_count": 2,
   "metadata": {},
   "outputs": [
    {
     "data": {
      "text/html": [
       "<div>\n",
       "<style scoped>\n",
       "    .dataframe tbody tr th:only-of-type {\n",
       "        vertical-align: middle;\n",
       "    }\n",
       "\n",
       "    .dataframe tbody tr th {\n",
       "        vertical-align: top;\n",
       "    }\n",
       "\n",
       "    .dataframe thead th {\n",
       "        text-align: right;\n",
       "    }\n",
       "</style>\n",
       "<table border=\"1\" class=\"dataframe\">\n",
       "  <thead>\n",
       "    <tr style=\"text-align: right;\">\n",
       "      <th></th>\n",
       "      <th>id</th>\n",
       "      <th>f0</th>\n",
       "      <th>f1</th>\n",
       "      <th>f2</th>\n",
       "      <th>product</th>\n",
       "    </tr>\n",
       "  </thead>\n",
       "  <tbody>\n",
       "    <tr>\n",
       "      <th>0</th>\n",
       "      <td>txEyH</td>\n",
       "      <td>0.705745</td>\n",
       "      <td>-0.497823</td>\n",
       "      <td>1.221170</td>\n",
       "      <td>105.280062</td>\n",
       "    </tr>\n",
       "    <tr>\n",
       "      <th>1</th>\n",
       "      <td>2acmU</td>\n",
       "      <td>1.334711</td>\n",
       "      <td>-0.340164</td>\n",
       "      <td>4.365080</td>\n",
       "      <td>73.037750</td>\n",
       "    </tr>\n",
       "    <tr>\n",
       "      <th>2</th>\n",
       "      <td>409Wp</td>\n",
       "      <td>1.022732</td>\n",
       "      <td>0.151990</td>\n",
       "      <td>1.419926</td>\n",
       "      <td>85.265647</td>\n",
       "    </tr>\n",
       "    <tr>\n",
       "      <th>3</th>\n",
       "      <td>iJLyR</td>\n",
       "      <td>-0.032172</td>\n",
       "      <td>0.139033</td>\n",
       "      <td>2.978566</td>\n",
       "      <td>168.620776</td>\n",
       "    </tr>\n",
       "    <tr>\n",
       "      <th>4</th>\n",
       "      <td>Xdl7t</td>\n",
       "      <td>1.988431</td>\n",
       "      <td>0.155413</td>\n",
       "      <td>4.751769</td>\n",
       "      <td>154.036647</td>\n",
       "    </tr>\n",
       "  </tbody>\n",
       "</table>\n",
       "</div>"
      ],
      "text/plain": [
       "      id        f0        f1        f2     product\n",
       "0  txEyH  0.705745 -0.497823  1.221170  105.280062\n",
       "1  2acmU  1.334711 -0.340164  4.365080   73.037750\n",
       "2  409Wp  1.022732  0.151990  1.419926   85.265647\n",
       "3  iJLyR -0.032172  0.139033  2.978566  168.620776\n",
       "4  Xdl7t  1.988431  0.155413  4.751769  154.036647"
      ]
     },
     "execution_count": 2,
     "metadata": {},
     "output_type": "execute_result"
    }
   ],
   "source": [
    "data_0 = pd.read_csv('/datasets/geo_data_0.csv')\n",
    "data_0.head()"
   ]
  },
  {
   "cell_type": "code",
   "execution_count": 3,
   "metadata": {},
   "outputs": [
    {
     "name": "stdout",
     "output_type": "stream",
     "text": [
      "<class 'pandas.core.frame.DataFrame'>\n",
      "RangeIndex: 100000 entries, 0 to 99999\n",
      "Data columns (total 5 columns):\n",
      " #   Column   Non-Null Count   Dtype  \n",
      "---  ------   --------------   -----  \n",
      " 0   id       100000 non-null  object \n",
      " 1   f0       100000 non-null  float64\n",
      " 2   f1       100000 non-null  float64\n",
      " 3   f2       100000 non-null  float64\n",
      " 4   product  100000 non-null  float64\n",
      "dtypes: float64(4), object(1)\n",
      "memory usage: 3.8+ MB\n"
     ]
    }
   ],
   "source": [
    "data_0.info()"
   ]
  },
  {
   "cell_type": "code",
   "execution_count": 4,
   "metadata": {},
   "outputs": [
    {
     "data": {
      "text/html": [
       "<div>\n",
       "<style scoped>\n",
       "    .dataframe tbody tr th:only-of-type {\n",
       "        vertical-align: middle;\n",
       "    }\n",
       "\n",
       "    .dataframe tbody tr th {\n",
       "        vertical-align: top;\n",
       "    }\n",
       "\n",
       "    .dataframe thead th {\n",
       "        text-align: right;\n",
       "    }\n",
       "</style>\n",
       "<table border=\"1\" class=\"dataframe\">\n",
       "  <thead>\n",
       "    <tr style=\"text-align: right;\">\n",
       "      <th></th>\n",
       "      <th>f0</th>\n",
       "      <th>f1</th>\n",
       "      <th>f2</th>\n",
       "      <th>product</th>\n",
       "    </tr>\n",
       "  </thead>\n",
       "  <tbody>\n",
       "    <tr>\n",
       "      <th>count</th>\n",
       "      <td>100000.000000</td>\n",
       "      <td>100000.000000</td>\n",
       "      <td>100000.000000</td>\n",
       "      <td>100000.000000</td>\n",
       "    </tr>\n",
       "    <tr>\n",
       "      <th>mean</th>\n",
       "      <td>0.500419</td>\n",
       "      <td>0.250143</td>\n",
       "      <td>2.502647</td>\n",
       "      <td>92.500000</td>\n",
       "    </tr>\n",
       "    <tr>\n",
       "      <th>std</th>\n",
       "      <td>0.871832</td>\n",
       "      <td>0.504433</td>\n",
       "      <td>3.248248</td>\n",
       "      <td>44.288691</td>\n",
       "    </tr>\n",
       "    <tr>\n",
       "      <th>min</th>\n",
       "      <td>-1.408605</td>\n",
       "      <td>-0.848218</td>\n",
       "      <td>-12.088328</td>\n",
       "      <td>0.000000</td>\n",
       "    </tr>\n",
       "    <tr>\n",
       "      <th>25%</th>\n",
       "      <td>-0.072580</td>\n",
       "      <td>-0.200881</td>\n",
       "      <td>0.287748</td>\n",
       "      <td>56.497507</td>\n",
       "    </tr>\n",
       "    <tr>\n",
       "      <th>50%</th>\n",
       "      <td>0.502360</td>\n",
       "      <td>0.250252</td>\n",
       "      <td>2.515969</td>\n",
       "      <td>91.849972</td>\n",
       "    </tr>\n",
       "    <tr>\n",
       "      <th>75%</th>\n",
       "      <td>1.073581</td>\n",
       "      <td>0.700646</td>\n",
       "      <td>4.715088</td>\n",
       "      <td>128.564089</td>\n",
       "    </tr>\n",
       "    <tr>\n",
       "      <th>max</th>\n",
       "      <td>2.362331</td>\n",
       "      <td>1.343769</td>\n",
       "      <td>16.003790</td>\n",
       "      <td>185.364347</td>\n",
       "    </tr>\n",
       "  </tbody>\n",
       "</table>\n",
       "</div>"
      ],
      "text/plain": [
       "                  f0             f1             f2        product\n",
       "count  100000.000000  100000.000000  100000.000000  100000.000000\n",
       "mean        0.500419       0.250143       2.502647      92.500000\n",
       "std         0.871832       0.504433       3.248248      44.288691\n",
       "min        -1.408605      -0.848218     -12.088328       0.000000\n",
       "25%        -0.072580      -0.200881       0.287748      56.497507\n",
       "50%         0.502360       0.250252       2.515969      91.849972\n",
       "75%         1.073581       0.700646       4.715088     128.564089\n",
       "max         2.362331       1.343769      16.003790     185.364347"
      ]
     },
     "execution_count": 4,
     "metadata": {},
     "output_type": "execute_result"
    }
   ],
   "source": [
    "data_0.describe()"
   ]
  },
  {
   "cell_type": "code",
   "execution_count": 5,
   "metadata": {
    "scrolled": true
   },
   "outputs": [
    {
     "data": {
      "image/png": "[encoded data removed]",
      "text/plain": [
       "<Figure size 432x288 with 4 Axes>"
      ]
     },
     "metadata": {
      "needs_background": "light"
     },
     "output_type": "display_data"
    }
   ],
   "source": [
    "data_0.hist()\n",
    "plt.show()"
   ]
  },
  {
   "cell_type": "markdown",
   "metadata": {},
   "source": [
    "### Geo Data 1"
   ]
  },
  {
   "cell_type": "code",
   "execution_count": 6,
   "metadata": {
    "scrolled": true
   },
   "outputs": [
    {
     "data": {
      "text/html": [
       "<div>\n",
       "<style scoped>\n",
       "    .dataframe tbody tr th:only-of-type {\n",
       "        vertical-align: middle;\n",
       "    }\n",
       "\n",
       "    .dataframe tbody tr th {\n",
       "        vertical-align: top;\n",
       "    }\n",
       "\n",
       "    .dataframe thead th {\n",
       "        text-align: right;\n",
       "    }\n",
       "</style>\n",
       "<table border=\"1\" class=\"dataframe\">\n",
       "  <thead>\n",
       "    <tr style=\"text-align: right;\">\n",
       "      <th></th>\n",
       "      <th>id</th>\n",
       "      <th>f0</th>\n",
       "      <th>f1</th>\n",
       "      <th>f2</th>\n",
       "      <th>product</th>\n",
       "    </tr>\n",
       "  </thead>\n",
       "  <tbody>\n",
       "    <tr>\n",
       "      <th>0</th>\n",
       "      <td>kBEdx</td>\n",
       "      <td>-15.001348</td>\n",
       "      <td>-8.276000</td>\n",
       "      <td>-0.005876</td>\n",
       "      <td>3.179103</td>\n",
       "    </tr>\n",
       "    <tr>\n",
       "      <th>1</th>\n",
       "      <td>62mP7</td>\n",
       "      <td>14.272088</td>\n",
       "      <td>-3.475083</td>\n",
       "      <td>0.999183</td>\n",
       "      <td>26.953261</td>\n",
       "    </tr>\n",
       "    <tr>\n",
       "      <th>2</th>\n",
       "      <td>vyE1P</td>\n",
       "      <td>6.263187</td>\n",
       "      <td>-5.948386</td>\n",
       "      <td>5.001160</td>\n",
       "      <td>134.766305</td>\n",
       "    </tr>\n",
       "    <tr>\n",
       "      <th>3</th>\n",
       "      <td>KcrkZ</td>\n",
       "      <td>-13.081196</td>\n",
       "      <td>-11.506057</td>\n",
       "      <td>4.999415</td>\n",
       "      <td>137.945408</td>\n",
       "    </tr>\n",
       "    <tr>\n",
       "      <th>4</th>\n",
       "      <td>AHL4O</td>\n",
       "      <td>12.702195</td>\n",
       "      <td>-8.147433</td>\n",
       "      <td>5.004363</td>\n",
       "      <td>134.766305</td>\n",
       "    </tr>\n",
       "  </tbody>\n",
       "</table>\n",
       "</div>"
      ],
      "text/plain": [
       "      id         f0         f1        f2     product\n",
       "0  kBEdx -15.001348  -8.276000 -0.005876    3.179103\n",
       "1  62mP7  14.272088  -3.475083  0.999183   26.953261\n",
       "2  vyE1P   6.263187  -5.948386  5.001160  134.766305\n",
       "3  KcrkZ -13.081196 -11.506057  4.999415  137.945408\n",
       "4  AHL4O  12.702195  -8.147433  5.004363  134.766305"
      ]
     },
     "execution_count": 6,
     "metadata": {},
     "output_type": "execute_result"
    }
   ],
   "source": [
    "data_1 = pd.read_csv('/datasets/geo_data_1.csv')\n",
    "data_1.head()"
   ]
  },
  {
   "cell_type": "code",
   "execution_count": 7,
   "metadata": {},
   "outputs": [
    {
     "name": "stdout",
     "output_type": "stream",
     "text": [
      "<class 'pandas.core.frame.DataFrame'>\n",
      "RangeIndex: 100000 entries, 0 to 99999\n",
      "Data columns (total 5 columns):\n",
      " #   Column   Non-Null Count   Dtype  \n",
      "---  ------   --------------   -----  \n",
      " 0   id       100000 non-null  object \n",
      " 1   f0       100000 non-null  float64\n",
      " 2   f1       100000 non-null  float64\n",
      " 3   f2       100000 non-null  float64\n",
      " 4   product  100000 non-null  float64\n",
      "dtypes: float64(4), object(1)\n",
      "memory usage: 3.8+ MB\n"
     ]
    }
   ],
   "source": [
    "data_1.info()"
   ]
  },
  {
   "cell_type": "code",
   "execution_count": 8,
   "metadata": {
    "scrolled": true
   },
   "outputs": [
    {
     "data": {
      "text/html": [
       "<div>\n",
       "<style scoped>\n",
       "    .dataframe tbody tr th:only-of-type {\n",
       "        vertical-align: middle;\n",
       "    }\n",
       "\n",
       "    .dataframe tbody tr th {\n",
       "        vertical-align: top;\n",
       "    }\n",
       "\n",
       "    .dataframe thead th {\n",
       "        text-align: right;\n",
       "    }\n",
       "</style>\n",
       "<table border=\"1\" class=\"dataframe\">\n",
       "  <thead>\n",
       "    <tr style=\"text-align: right;\">\n",
       "      <th></th>\n",
       "      <th>f0</th>\n",
       "      <th>f1</th>\n",
       "      <th>f2</th>\n",
       "      <th>product</th>\n",
       "    </tr>\n",
       "  </thead>\n",
       "  <tbody>\n",
       "    <tr>\n",
       "      <th>count</th>\n",
       "      <td>100000.000000</td>\n",
       "      <td>100000.000000</td>\n",
       "      <td>100000.000000</td>\n",
       "      <td>100000.000000</td>\n",
       "    </tr>\n",
       "    <tr>\n",
       "      <th>mean</th>\n",
       "      <td>1.141296</td>\n",
       "      <td>-4.796579</td>\n",
       "      <td>2.494541</td>\n",
       "      <td>68.825000</td>\n",
       "    </tr>\n",
       "    <tr>\n",
       "      <th>std</th>\n",
       "      <td>8.965932</td>\n",
       "      <td>5.119872</td>\n",
       "      <td>1.703572</td>\n",
       "      <td>45.944423</td>\n",
       "    </tr>\n",
       "    <tr>\n",
       "      <th>min</th>\n",
       "      <td>-31.609576</td>\n",
       "      <td>-26.358598</td>\n",
       "      <td>-0.018144</td>\n",
       "      <td>0.000000</td>\n",
       "    </tr>\n",
       "    <tr>\n",
       "      <th>25%</th>\n",
       "      <td>-6.298551</td>\n",
       "      <td>-8.267985</td>\n",
       "      <td>1.000021</td>\n",
       "      <td>26.953261</td>\n",
       "    </tr>\n",
       "    <tr>\n",
       "      <th>50%</th>\n",
       "      <td>1.153055</td>\n",
       "      <td>-4.813172</td>\n",
       "      <td>2.011479</td>\n",
       "      <td>57.085625</td>\n",
       "    </tr>\n",
       "    <tr>\n",
       "      <th>75%</th>\n",
       "      <td>8.621015</td>\n",
       "      <td>-1.332816</td>\n",
       "      <td>3.999904</td>\n",
       "      <td>107.813044</td>\n",
       "    </tr>\n",
       "    <tr>\n",
       "      <th>max</th>\n",
       "      <td>29.421755</td>\n",
       "      <td>18.734063</td>\n",
       "      <td>5.019721</td>\n",
       "      <td>137.945408</td>\n",
       "    </tr>\n",
       "  </tbody>\n",
       "</table>\n",
       "</div>"
      ],
      "text/plain": [
       "                  f0             f1             f2        product\n",
       "count  100000.000000  100000.000000  100000.000000  100000.000000\n",
       "mean        1.141296      -4.796579       2.494541      68.825000\n",
       "std         8.965932       5.119872       1.703572      45.944423\n",
       "min       -31.609576     -26.358598      -0.018144       0.000000\n",
       "25%        -6.298551      -8.267985       1.000021      26.953261\n",
       "50%         1.153055      -4.813172       2.011479      57.085625\n",
       "75%         8.621015      -1.332816       3.999904     107.813044\n",
       "max        29.421755      18.734063       5.019721     137.945408"
      ]
     },
     "execution_count": 8,
     "metadata": {},
     "output_type": "execute_result"
    }
   ],
   "source": [
    "data_1.describe()"
   ]
  },
  {
   "cell_type": "code",
   "execution_count": 9,
   "metadata": {},
   "outputs": [
    {
     "data": {
      "image/png": "[encoded data removed]",
      "text/plain": [
       "<Figure size 432x288 with 4 Axes>"
      ]
     },
     "metadata": {
      "needs_background": "light"
     },
     "output_type": "display_data"
    }
   ],
   "source": [
    "data_1.hist()\n",
    "plt.show()"
   ]
  },
  {
   "cell_type": "markdown",
   "metadata": {},
   "source": [
    "### Geo Data 2"
   ]
  },
  {
   "cell_type": "code",
   "execution_count": 10,
   "metadata": {
    "scrolled": true
   },
   "outputs": [
    {
     "data": {
      "text/html": [
       "<div>\n",
       "<style scoped>\n",
       "    .dataframe tbody tr th:only-of-type {\n",
       "        vertical-align: middle;\n",
       "    }\n",
       "\n",
       "    .dataframe tbody tr th {\n",
       "        vertical-align: top;\n",
       "    }\n",
       "\n",
       "    .dataframe thead th {\n",
       "        text-align: right;\n",
       "    }\n",
       "</style>\n",
       "<table border=\"1\" class=\"dataframe\">\n",
       "  <thead>\n",
       "    <tr style=\"text-align: right;\">\n",
       "      <th></th>\n",
       "      <th>id</th>\n",
       "      <th>f0</th>\n",
       "      <th>f1</th>\n",
       "      <th>f2</th>\n",
       "      <th>product</th>\n",
       "    </tr>\n",
       "  </thead>\n",
       "  <tbody>\n",
       "    <tr>\n",
       "      <th>0</th>\n",
       "      <td>fwXo0</td>\n",
       "      <td>-1.146987</td>\n",
       "      <td>0.963328</td>\n",
       "      <td>-0.828965</td>\n",
       "      <td>27.758673</td>\n",
       "    </tr>\n",
       "    <tr>\n",
       "      <th>1</th>\n",
       "      <td>WJtFt</td>\n",
       "      <td>0.262778</td>\n",
       "      <td>0.269839</td>\n",
       "      <td>-2.530187</td>\n",
       "      <td>56.069697</td>\n",
       "    </tr>\n",
       "    <tr>\n",
       "      <th>2</th>\n",
       "      <td>ovLUW</td>\n",
       "      <td>0.194587</td>\n",
       "      <td>0.289035</td>\n",
       "      <td>-5.586433</td>\n",
       "      <td>62.871910</td>\n",
       "    </tr>\n",
       "    <tr>\n",
       "      <th>3</th>\n",
       "      <td>q6cA6</td>\n",
       "      <td>2.236060</td>\n",
       "      <td>-0.553760</td>\n",
       "      <td>0.930038</td>\n",
       "      <td>114.572842</td>\n",
       "    </tr>\n",
       "    <tr>\n",
       "      <th>4</th>\n",
       "      <td>WPMUX</td>\n",
       "      <td>-0.515993</td>\n",
       "      <td>1.716266</td>\n",
       "      <td>5.899011</td>\n",
       "      <td>149.600746</td>\n",
       "    </tr>\n",
       "  </tbody>\n",
       "</table>\n",
       "</div>"
      ],
      "text/plain": [
       "      id        f0        f1        f2     product\n",
       "0  fwXo0 -1.146987  0.963328 -0.828965   27.758673\n",
       "1  WJtFt  0.262778  0.269839 -2.530187   56.069697\n",
       "2  ovLUW  0.194587  0.289035 -5.586433   62.871910\n",
       "3  q6cA6  2.236060 -0.553760  0.930038  114.572842\n",
       "4  WPMUX -0.515993  1.716266  5.899011  149.600746"
      ]
     },
     "execution_count": 10,
     "metadata": {},
     "output_type": "execute_result"
    }
   ],
   "source": [
    "data_2 = pd.read_csv('/datasets/geo_data_2.csv')\n",
    "data_2.head()"
   ]
  },
  {
   "cell_type": "code",
   "execution_count": 11,
   "metadata": {},
   "outputs": [
    {
     "name": "stdout",
     "output_type": "stream",
     "text": [
      "<class 'pandas.core.frame.DataFrame'>\n",
      "RangeIndex: 100000 entries, 0 to 99999\n",
      "Data columns (total 5 columns):\n",
      " #   Column   Non-Null Count   Dtype  \n",
      "---  ------   --------------   -----  \n",
      " 0   id       100000 non-null  object \n",
      " 1   f0       100000 non-null  float64\n",
      " 2   f1       100000 non-null  float64\n",
      " 3   f2       100000 non-null  float64\n",
      " 4   product  100000 non-null  float64\n",
      "dtypes: float64(4), object(1)\n",
      "memory usage: 3.8+ MB\n"
     ]
    }
   ],
   "source": [
    "data_2.info()"
   ]
  },
  {
   "cell_type": "code",
   "execution_count": 12,
   "metadata": {},
   "outputs": [
    {
     "data": {
      "text/html": [
       "<div>\n",
       "<style scoped>\n",
       "    .dataframe tbody tr th:only-of-type {\n",
       "        vertical-align: middle;\n",
       "    }\n",
       "\n",
       "    .dataframe tbody tr th {\n",
       "        vertical-align: top;\n",
       "    }\n",
       "\n",
       "    .dataframe thead th {\n",
       "        text-align: right;\n",
       "    }\n",
       "</style>\n",
       "<table border=\"1\" class=\"dataframe\">\n",
       "  <thead>\n",
       "    <tr style=\"text-align: right;\">\n",
       "      <th></th>\n",
       "      <th>f0</th>\n",
       "      <th>f1</th>\n",
       "      <th>f2</th>\n",
       "      <th>product</th>\n",
       "    </tr>\n",
       "  </thead>\n",
       "  <tbody>\n",
       "    <tr>\n",
       "      <th>count</th>\n",
       "      <td>100000.000000</td>\n",
       "      <td>100000.000000</td>\n",
       "      <td>100000.000000</td>\n",
       "      <td>100000.000000</td>\n",
       "    </tr>\n",
       "    <tr>\n",
       "      <th>mean</th>\n",
       "      <td>0.002023</td>\n",
       "      <td>-0.002081</td>\n",
       "      <td>2.495128</td>\n",
       "      <td>95.000000</td>\n",
       "    </tr>\n",
       "    <tr>\n",
       "      <th>std</th>\n",
       "      <td>1.732045</td>\n",
       "      <td>1.730417</td>\n",
       "      <td>3.473445</td>\n",
       "      <td>44.749921</td>\n",
       "    </tr>\n",
       "    <tr>\n",
       "      <th>min</th>\n",
       "      <td>-8.760004</td>\n",
       "      <td>-7.084020</td>\n",
       "      <td>-11.970335</td>\n",
       "      <td>0.000000</td>\n",
       "    </tr>\n",
       "    <tr>\n",
       "      <th>25%</th>\n",
       "      <td>-1.162288</td>\n",
       "      <td>-1.174820</td>\n",
       "      <td>0.130359</td>\n",
       "      <td>59.450441</td>\n",
       "    </tr>\n",
       "    <tr>\n",
       "      <th>50%</th>\n",
       "      <td>0.009424</td>\n",
       "      <td>-0.009482</td>\n",
       "      <td>2.484236</td>\n",
       "      <td>94.925613</td>\n",
       "    </tr>\n",
       "    <tr>\n",
       "      <th>75%</th>\n",
       "      <td>1.158535</td>\n",
       "      <td>1.163678</td>\n",
       "      <td>4.858794</td>\n",
       "      <td>130.595027</td>\n",
       "    </tr>\n",
       "    <tr>\n",
       "      <th>max</th>\n",
       "      <td>7.238262</td>\n",
       "      <td>7.844801</td>\n",
       "      <td>16.739402</td>\n",
       "      <td>190.029838</td>\n",
       "    </tr>\n",
       "  </tbody>\n",
       "</table>\n",
       "</div>"
      ],
      "text/plain": [
       "                  f0             f1             f2        product\n",
       "count  100000.000000  100000.000000  100000.000000  100000.000000\n",
       "mean        0.002023      -0.002081       2.495128      95.000000\n",
       "std         1.732045       1.730417       3.473445      44.749921\n",
       "min        -8.760004      -7.084020     -11.970335       0.000000\n",
       "25%        -1.162288      -1.174820       0.130359      59.450441\n",
       "50%         0.009424      -0.009482       2.484236      94.925613\n",
       "75%         1.158535       1.163678       4.858794     130.595027\n",
       "max         7.238262       7.844801      16.739402     190.029838"
      ]
     },
     "execution_count": 12,
     "metadata": {},
     "output_type": "execute_result"
    }
   ],
   "source": [
    "data_2.describe()"
   ]
  },
  {
   "cell_type": "code",
   "execution_count": 13,
   "metadata": {
    "scrolled": true
   },
   "outputs": [
    {
     "data": {
      "image/png": "[encoded data removed]",
      "text/plain": [
       "<Figure size 432x288 with 4 Axes>"
      ]
     },
     "metadata": {
      "needs_background": "light"
     },
     "output_type": "display_data"
    }
   ],
   "source": [
    "data_2.hist()\n",
    "plt.show()"
   ]
  },
  {
   "cell_type": "markdown",
   "metadata": {},
   "source": [
    "Видим, что данные абсолютно корректны и готовы к работе."
   ]
  },
  {
   "cell_type": "markdown",
   "metadata": {},
   "source": [
    "## Обучение и проверка модели"
   ]
  },
  {
   "cell_type": "markdown",
   "metadata": {},
   "source": [
    "Напишем общую функцию по построению моделей для всех датасетов"
   ]
  },
  {
   "cell_type": "code",
   "execution_count": 14,
   "metadata": {},
   "outputs": [],
   "source": [
    "def build_model(data):\n",
    "    target = data['product']\n",
    "    features = data.drop(['id', 'product'], axis=1)\n",
    "    \n",
    "    features_train, features_valid, target_train, target_valid = \\\n",
    "    train_test_split(features, target, test_size=0.25, random_state=42)\n",
    "    \n",
    "    numeric = ['f0', 'f1', 'f2']\n",
    "    scaler = StandardScaler()\n",
    "    scaler.fit(features_train[numeric])\n",
    "    features_train[numeric] = scaler.transform(features_train[numeric])\n",
    "    features_valid[numeric] = scaler.transform(features_valid[numeric])\n",
    "    \n",
    "    model = LinearRegression()\n",
    "    model.fit(features_train, target_train)\n",
    "    predicted_valid = pd.Series(model.predict(features_valid))\n",
    "    \n",
    "    mean_predicted_valid = predicted_valid.mean()\n",
    "    rmse = mean_squared_error(target_valid, predicted_valid)**0.5\n",
    "    \n",
    "    return target_valid, predicted_valid, mean_predicted_valid, rmse"
   ]
  },
  {
   "cell_type": "code",
   "execution_count": 15,
   "metadata": {},
   "outputs": [],
   "source": [
    "target_valid_0, predicted_valid_0, mean_predicted_valid_0, rmse_0 = build_model(data_0)\n",
    "target_valid_1, predicted_valid_1, mean_predicted_valid_1, rmse_1 = build_model(data_1)\n",
    "target_valid_2, predicted_valid_2, mean_predicted_valid_2, rmse_2 = build_model(data_2)"
   ]
  },
  {
   "cell_type": "code",
   "execution_count": 16,
   "metadata": {},
   "outputs": [
    {
     "name": "stdout",
     "output_type": "stream",
     "text": [
      "В регионе №0 средний запас предсказанного сырья = 92.39879990657768, RMSE = 37.75660035026169.\n",
      "В регионе №1 средний запас предсказанного сырья = 68.7128780391376, RMSE = 0.8902801001028846.\n",
      "В регионе №2 средний запас предсказанного сырья = 94.77102387765939, RMSE = 40.145872311342174.\n"
     ]
    }
   ],
   "source": [
    "print(f'В регионе №0 средний запас предсказанного сырья = {mean_predicted_valid_0}, RMSE = {rmse_0}.')\n",
    "print(f'В регионе №1 средний запас предсказанного сырья = {mean_predicted_valid_1}, RMSE = {rmse_1}.')\n",
    "print(f'В регионе №2 средний запас предсказанного сырья = {mean_predicted_valid_2}, RMSE = {rmse_2}.')"
   ]
  },
  {
   "cell_type": "markdown",
   "metadata": {},
   "source": [
    "Наиболее высокий средний запас сырья, как и показатель среднеквадратичной ошибки, оказался в регионе №2.  \n",
    "В следствие чего сложно пытаться делать какие-то предварительные выводы.  \n",
    "Следует рассчитать прибыль и риски, изучить месторождения детальнее. "
   ]
  },
  {
   "cell_type": "markdown",
   "metadata": {},
   "source": [
    "## Подготовка к расчёту прибыли"
   ]
  },
  {
   "cell_type": "code",
   "execution_count": 17,
   "metadata": {},
   "outputs": [],
   "source": [
    "TOTAL_POINTS = 500\n",
    "SELECTED_POINTS = 200\n",
    "REGION_BUDGET = 10000 #млн. руб.\n",
    "INCOME_PER_BARREL = 0.45 #млн. руб. на 1 тыс. баррелей\n",
    "LOSS_PROBABILITY_THRESHOLD = 0.025"
   ]
  },
  {
   "cell_type": "code",
   "execution_count": 18,
   "metadata": {},
   "outputs": [
    {
     "name": "stdout",
     "output_type": "stream",
     "text": [
      "Объём сырья для безубыточной разработки новой скважины: 111.11 тысяч баррелей.\n"
     ]
    }
   ],
   "source": [
    "min_product_quantity = REGION_BUDGET / SELECTED_POINTS / INCOME_PER_BARREL\n",
    "print(f'Объём сырья для безубыточной разработки новой скважины: \\\n",
    "{round(min_product_quantity, 2)} тысяч баррелей.')"
   ]
  },
  {
   "cell_type": "markdown",
   "metadata": {},
   "source": [
    "## Расчёт рисков и прибыли"
   ]
  },
  {
   "cell_type": "code",
   "execution_count": 19,
   "metadata": {},
   "outputs": [],
   "source": [
    "def calculate_income(target_valid, predictions_valid):\n",
    "    pred_sorted = predictions_valid.sort_values(ascending=False).head(200)\n",
    "    target_selected = target_valid.reset_index(drop=True)[pred_sorted.index]\n",
    "    income = target_selected.sum() * INCOME_PER_BARREL\n",
    "    return income - REGION_BUDGET"
   ]
  },
  {
   "cell_type": "code",
   "execution_count": 20,
   "metadata": {},
   "outputs": [
    {
     "name": "stdout",
     "output_type": "stream",
     "text": [
      "Прибыль в 200 скважинах, выбранных по предсказаниям модели:\n",
      "Регион №0 = 3359.1411144621798 млн. руб.\n",
      "Регион №1 = 2415.086696681512 млн. руб.\n",
      "Регион №2 = 2598.571759374112 млн. руб.\n"
     ]
    }
   ],
   "source": [
    "print('Прибыль в 200 скважинах, выбранных по предсказаниям модели:')\n",
    "print(f'Регион №0 = {calculate_income(target_valid_0, predicted_valid_0)} млн. руб.')\n",
    "print(f'Регион №1 = {calculate_income(target_valid_1, predicted_valid_1)} млн. руб.')\n",
    "print(f'Регион №2 = {calculate_income(target_valid_2, predicted_valid_2)} млн. руб.')"
   ]
  },
  {
   "cell_type": "code",
   "execution_count": 21,
   "metadata": {},
   "outputs": [],
   "source": [
    "def bootstrap_calculate_income(target_valid, predictions_valid, count):\n",
    "    pred_sorted = predictions_valid.sort_values(ascending=False)\n",
    "    target_selected = target_valid[pred_sorted.index][:count]\n",
    "    check = target_selected.index == pred_sorted[:200].index\n",
    "    income = target_selected.sum() * INCOME_PER_BARREL\n",
    "    return income - REGION_BUDGET"
   ]
  },
  {
   "cell_type": "code",
   "execution_count": 25,
   "metadata": {},
   "outputs": [],
   "source": [
    "def bootstrap(target_valid, predictions_valid, count):\n",
    "    values = []\n",
    "    counter = 0\n",
    "    state = np.random.RandomState(42)\n",
    "    for i in range(1000):\n",
    "        target_subsample = target_valid.reset_index(drop=True) \\\n",
    "                                       .sample(count, replace=True, random_state=state)\n",
    "        preds_subsample = predictions_valid[target_subsample.index]\n",
    "        target_subsample = target_subsample.reset_index(drop=True)\n",
    "        preds_subsample = preds_subsample.reset_index(drop=True)\n",
    "        value = bootstrap_calculate_income(target_subsample, preds_subsample, 200)\n",
    "        values.append(value)\n",
    "        if value < 0:\n",
    "            counter += 1\n",
    "\n",
    "    values = pd.Series(values)\n",
    "    print(f'Средняя прибыль: {values.mean()} млн. руб.')\n",
    "    print(f'95% доверительный интервал: \\\n",
    "          {st.t.interval(0.95, len(values)-1, values.mean(), np.std(values, ddof=1))}.')\n",
    "    pvalue = counter / 1000\n",
    "    if pvalue < LOSS_PROBABILITY_THRESHOLD:\n",
    "        print(f'Вероятность убытков равна {round(pvalue,4)*100}%, регион подходит по критериям!')\n",
    "    else:\n",
    "        print(f'Вероятность убытков равна {round(pvalue,4)*100}%, регион НЕ подходит.')\n",
    "    print('')"
   ]
  },
  {
   "cell_type": "code",
   "execution_count": 27,
   "metadata": {
    "scrolled": true
   },
   "outputs": [
    {
     "name": "stdout",
     "output_type": "stream",
     "text": [
      "Для Региона №0:\n",
      "Средняя прибыль: 399.57547805422996 млн. руб.\n",
      "95% доверительный интервал:           (-109.85269895835654, 909.0036550668165).\n",
      "Вероятность убытков равна 6.0%, регион НЕ подходит.\n",
      "\n",
      "Для Региона №1:\n",
      "Средняя прибыль: 452.04889090645867 млн. руб.\n",
      "95% доверительный интервал:           (50.06111244366468, 854.0366693692526).\n",
      "Вероятность убытков равна 1.5%, регион подходит по критериям!\n",
      "\n",
      "Для Региона №2:\n",
      "Средняя прибыль: 375.00990291532935 млн. руб.\n",
      "95% доверительный интервал:           (-139.6578408911314, 889.6776467217901).\n",
      "Вероятность убытков равна 8.0%, регион НЕ подходит.\n",
      "\n"
     ]
    }
   ],
   "source": [
    "print('Для Региона №0:')\n",
    "bootstrap(target_valid_0, predicted_valid_0, 500)\n",
    "print('Для Региона №1:')\n",
    "bootstrap(target_valid_1, predicted_valid_1, 500)\n",
    "print('Для Региона №2:')\n",
    "bootstrap(target_valid_2, predicted_valid_2, 500)"
   ]
  },
  {
   "cell_type": "markdown",
   "metadata": {},
   "source": [
    "## Вывод:"
   ]
  },
  {
   "cell_type": "markdown",
   "metadata": {},
   "source": [
    "- Все три региона показали себя с хорошей стороны, но для дальнейшей разработки заказчику рекомендуется принять исключительно регион №1.  \n",
    "- Именно этот регион превосходит остальные по всем параметрам. Наибольшая средняя прибыль, доверительный интервал без отрицательных значений и минимальная вероятность убытков, подходящая под допустимое значение."
   ]
  }
 ],
 "metadata": {
  "ExecuteTimeLog": [
   {
    "duration": 1016,
    "start_time": "2022-12-28T02:56:53.859Z"
   },
   {
    "duration": 743,
    "start_time": "2022-12-28T02:57:21.302Z"
   },
   {
    "duration": 16,
    "start_time": "2022-12-28T02:57:28.260Z"
   },
   {
    "duration": 8,
    "start_time": "2022-12-28T02:57:41.306Z"
   },
   {
    "duration": 8,
    "start_time": "2022-12-28T02:57:49.616Z"
   },
   {
    "duration": 11,
    "start_time": "2022-12-28T02:58:18.992Z"
   },
   {
    "duration": 11,
    "start_time": "2022-12-28T02:58:24.662Z"
   },
   {
    "duration": 10,
    "start_time": "2022-12-28T02:58:29.747Z"
   },
   {
    "duration": 3,
    "start_time": "2022-12-28T03:00:19.522Z"
   },
   {
    "duration": 360,
    "start_time": "2022-12-28T03:00:20.805Z"
   },
   {
    "duration": 11,
    "start_time": "2022-12-28T03:00:22.794Z"
   },
   {
    "duration": 11,
    "start_time": "2022-12-28T03:00:23.502Z"
   },
   {
    "duration": 11,
    "start_time": "2022-12-28T03:00:24.308Z"
   },
   {
    "duration": 9,
    "start_time": "2022-12-28T03:01:02.424Z"
   },
   {
    "duration": 8,
    "start_time": "2022-12-28T03:01:05.657Z"
   },
   {
    "duration": 9,
    "start_time": "2022-12-28T03:01:08.772Z"
   },
   {
    "duration": 144,
    "start_time": "2022-12-28T03:03:33.096Z"
   },
   {
    "duration": 14,
    "start_time": "2022-12-28T03:03:40.590Z"
   },
   {
    "duration": 35,
    "start_time": "2022-12-28T03:03:50.729Z"
   },
   {
    "duration": 13,
    "start_time": "2022-12-28T03:04:24.590Z"
   },
   {
    "duration": 35,
    "start_time": "2022-12-28T03:04:30.292Z"
   },
   {
    "duration": 19,
    "start_time": "2022-12-28T03:04:37.114Z"
   },
   {
    "duration": 32,
    "start_time": "2022-12-28T03:04:42.725Z"
   },
   {
    "duration": 42,
    "start_time": "2022-12-28T03:06:14.414Z"
   },
   {
    "duration": 40,
    "start_time": "2022-12-28T03:08:21.701Z"
   },
   {
    "duration": 44,
    "start_time": "2022-12-28T03:08:33.048Z"
   },
   {
    "duration": 419,
    "start_time": "2022-12-28T03:09:19.231Z"
   },
   {
    "duration": 362,
    "start_time": "2022-12-28T03:09:30.924Z"
   },
   {
    "duration": 359,
    "start_time": "2022-12-28T03:09:41.427Z"
   },
   {
    "duration": 479,
    "start_time": "2022-12-28T03:09:55.810Z"
   },
   {
    "duration": 4,
    "start_time": "2022-12-28T03:17:33.251Z"
   },
   {
    "duration": 127,
    "start_time": "2022-12-28T03:23:01.449Z"
   },
   {
    "duration": 5,
    "start_time": "2022-12-28T03:23:51.417Z"
   },
   {
    "duration": 500,
    "start_time": "2022-12-28T03:23:52.916Z"
   },
   {
    "duration": 4,
    "start_time": "2022-12-28T03:23:56.476Z"
   },
   {
    "duration": 8,
    "start_time": "2022-12-28T06:24:21.688Z"
   },
   {
    "duration": 1493,
    "start_time": "2022-12-28T06:24:34.696Z"
   },
   {
    "duration": 387,
    "start_time": "2022-12-28T06:24:36.191Z"
   },
   {
    "duration": 15,
    "start_time": "2022-12-28T06:24:36.580Z"
   },
   {
    "duration": 38,
    "start_time": "2022-12-28T06:24:36.597Z"
   },
   {
    "duration": 45,
    "start_time": "2022-12-28T06:24:36.637Z"
   },
   {
    "duration": 359,
    "start_time": "2022-12-28T06:24:36.683Z"
   },
   {
    "duration": 198,
    "start_time": "2022-12-28T06:24:37.044Z"
   },
   {
    "duration": 15,
    "start_time": "2022-12-28T06:24:37.244Z"
   },
   {
    "duration": 34,
    "start_time": "2022-12-28T06:24:37.260Z"
   },
   {
    "duration": 43,
    "start_time": "2022-12-28T06:24:37.297Z"
   },
   {
    "duration": 351,
    "start_time": "2022-12-28T06:24:37.341Z"
   },
   {
    "duration": 209,
    "start_time": "2022-12-28T06:24:37.694Z"
   },
   {
    "duration": 13,
    "start_time": "2022-12-28T06:24:37.904Z"
   },
   {
    "duration": 33,
    "start_time": "2022-12-28T06:24:37.919Z"
   },
   {
    "duration": 40,
    "start_time": "2022-12-28T06:24:37.953Z"
   },
   {
    "duration": 329,
    "start_time": "2022-12-28T06:24:37.995Z"
   },
   {
    "duration": 4,
    "start_time": "2022-12-28T06:24:38.325Z"
   },
   {
    "duration": 498,
    "start_time": "2022-12-28T06:24:38.330Z"
   },
   {
    "duration": 87,
    "start_time": "2022-12-28T06:24:38.831Z"
   },
   {
    "duration": 103,
    "start_time": "2022-12-28T06:24:38.920Z"
   },
   {
    "duration": 2,
    "start_time": "2022-12-28T06:25:58.752Z"
   },
   {
    "duration": 4,
    "start_time": "2022-12-28T07:09:48.948Z"
   },
   {
    "duration": 2,
    "start_time": "2022-12-28T07:14:24.040Z"
   },
   {
    "duration": 3,
    "start_time": "2022-12-28T07:14:25.714Z"
   },
   {
    "duration": 2,
    "start_time": "2022-12-28T07:14:59.675Z"
   },
   {
    "duration": 3,
    "start_time": "2022-12-28T07:15:02.216Z"
   },
   {
    "duration": 3,
    "start_time": "2022-12-28T07:21:32.723Z"
   },
   {
    "duration": 3,
    "start_time": "2022-12-28T07:30:35.216Z"
   },
   {
    "duration": 4,
    "start_time": "2022-12-28T07:30:37.300Z"
   },
   {
    "duration": 58,
    "start_time": "2022-12-28T07:31:32.707Z"
   },
   {
    "duration": 3,
    "start_time": "2022-12-28T07:31:37.531Z"
   },
   {
    "duration": 1568,
    "start_time": "2022-12-28T16:35:18.650Z"
   },
   {
    "duration": 587,
    "start_time": "2022-12-28T16:35:20.221Z"
   },
   {
    "duration": 15,
    "start_time": "2022-12-28T16:35:20.810Z"
   },
   {
    "duration": 38,
    "start_time": "2022-12-28T16:35:20.828Z"
   },
   {
    "duration": 99,
    "start_time": "2022-12-28T16:35:20.868Z"
   },
   {
    "duration": 474,
    "start_time": "2022-12-28T16:35:20.970Z"
   },
   {
    "duration": 224,
    "start_time": "2022-12-28T16:35:21.446Z"
   },
   {
    "duration": 16,
    "start_time": "2022-12-28T16:35:21.672Z"
   },
   {
    "duration": 39,
    "start_time": "2022-12-28T16:35:21.690Z"
   },
   {
    "duration": 66,
    "start_time": "2022-12-28T16:35:21.732Z"
   },
   {
    "duration": 391,
    "start_time": "2022-12-28T16:35:21.799Z"
   },
   {
    "duration": 225,
    "start_time": "2022-12-28T16:35:22.192Z"
   },
   {
    "duration": 20,
    "start_time": "2022-12-28T16:35:22.420Z"
   },
   {
    "duration": 35,
    "start_time": "2022-12-28T16:35:22.441Z"
   },
   {
    "duration": 61,
    "start_time": "2022-12-28T16:35:22.479Z"
   },
   {
    "duration": 417,
    "start_time": "2022-12-28T16:35:22.542Z"
   },
   {
    "duration": 4,
    "start_time": "2022-12-28T16:35:22.961Z"
   },
   {
    "duration": 435,
    "start_time": "2022-12-28T16:35:22.967Z"
   },
   {
    "duration": 10,
    "start_time": "2022-12-28T16:35:23.404Z"
   },
   {
    "duration": 122,
    "start_time": "2022-12-28T16:35:23.416Z"
   },
   {
    "duration": 10,
    "start_time": "2022-12-28T16:35:23.541Z"
   },
   {
    "duration": 10,
    "start_time": "2022-12-28T16:35:23.554Z"
   },
   {
    "duration": 334,
    "start_time": "2022-12-28T16:35:23.566Z"
   },
   {
    "duration": 5,
    "start_time": "2022-12-28T16:35:59.035Z"
   },
   {
    "duration": 36,
    "start_time": "2022-12-28T16:36:17.149Z"
   },
   {
    "duration": 30,
    "start_time": "2022-12-28T16:40:21.174Z"
   },
   {
    "duration": 4,
    "start_time": "2022-12-28T16:44:55.266Z"
   },
   {
    "duration": 12,
    "start_time": "2022-12-28T16:45:04.738Z"
   },
   {
    "duration": 9,
    "start_time": "2022-12-28T16:46:33.973Z"
   },
   {
    "duration": 17,
    "start_time": "2022-12-28T16:46:37.794Z"
   },
   {
    "duration": 4,
    "start_time": "2022-12-28T16:46:45.317Z"
   },
   {
    "duration": 5,
    "start_time": "2022-12-28T16:47:17.526Z"
   },
   {
    "duration": 15,
    "start_time": "2022-12-28T16:47:29.913Z"
   },
   {
    "duration": 9,
    "start_time": "2022-12-28T16:47:59.414Z"
   },
   {
    "duration": 4,
    "start_time": "2022-12-28T16:49:02.639Z"
   },
   {
    "duration": 11,
    "start_time": "2022-12-28T16:49:03.446Z"
   },
   {
    "duration": 5,
    "start_time": "2022-12-28T16:49:43.149Z"
   },
   {
    "duration": 11,
    "start_time": "2022-12-28T16:49:44.483Z"
   },
   {
    "duration": 12,
    "start_time": "2022-12-28T16:50:11.689Z"
   },
   {
    "duration": 3,
    "start_time": "2022-12-28T16:50:22.374Z"
   },
   {
    "duration": 10,
    "start_time": "2022-12-28T16:50:22.817Z"
   },
   {
    "duration": 3,
    "start_time": "2022-12-28T16:51:31.655Z"
   },
   {
    "duration": 9,
    "start_time": "2022-12-28T16:51:32.651Z"
   },
   {
    "duration": 4,
    "start_time": "2022-12-28T16:53:33.330Z"
   },
   {
    "duration": 10,
    "start_time": "2022-12-28T16:53:34.776Z"
   },
   {
    "duration": 13,
    "start_time": "2022-12-28T16:53:44.339Z"
   },
   {
    "duration": 22,
    "start_time": "2022-12-28T16:54:01.709Z"
   },
   {
    "duration": 1738,
    "start_time": "2022-12-29T05:55:58.166Z"
   },
   {
    "duration": 598,
    "start_time": "2022-12-29T05:55:59.906Z"
   },
   {
    "duration": 18,
    "start_time": "2022-12-29T05:56:00.506Z"
   },
   {
    "duration": 43,
    "start_time": "2022-12-29T05:56:00.526Z"
   },
   {
    "duration": 74,
    "start_time": "2022-12-29T05:56:00.571Z"
   },
   {
    "duration": 417,
    "start_time": "2022-12-29T05:56:00.651Z"
   },
   {
    "duration": 633,
    "start_time": "2022-12-29T05:56:01.070Z"
   },
   {
    "duration": 16,
    "start_time": "2022-12-29T05:56:01.705Z"
   },
   {
    "duration": 62,
    "start_time": "2022-12-29T05:56:01.723Z"
   },
   {
    "duration": 82,
    "start_time": "2022-12-29T05:56:01.787Z"
   },
   {
    "duration": 416,
    "start_time": "2022-12-29T05:56:01.876Z"
   },
   {
    "duration": 598,
    "start_time": "2022-12-29T05:56:02.295Z"
   },
   {
    "duration": 16,
    "start_time": "2022-12-29T05:56:02.895Z"
   },
   {
    "duration": 62,
    "start_time": "2022-12-29T05:56:02.912Z"
   },
   {
    "duration": 51,
    "start_time": "2022-12-29T05:56:02.977Z"
   },
   {
    "duration": 387,
    "start_time": "2022-12-29T05:56:03.029Z"
   },
   {
    "duration": 4,
    "start_time": "2022-12-29T05:56:03.418Z"
   },
   {
    "duration": 438,
    "start_time": "2022-12-29T05:56:03.424Z"
   },
   {
    "duration": 6,
    "start_time": "2022-12-29T05:56:03.864Z"
   },
   {
    "duration": 201,
    "start_time": "2022-12-29T05:56:03.872Z"
   },
   {
    "duration": 9,
    "start_time": "2022-12-29T05:56:04.075Z"
   },
   {
    "duration": 10,
    "start_time": "2022-12-29T05:56:04.086Z"
   },
   {
    "duration": 113,
    "start_time": "2022-12-29T05:56:04.097Z"
   },
   {
    "duration": 5,
    "start_time": "2022-12-29T05:56:04.212Z"
   },
   {
    "duration": 150,
    "start_time": "2022-12-29T05:56:04.219Z"
   },
   {
    "duration": 4,
    "start_time": "2022-12-29T06:03:04.410Z"
   },
   {
    "duration": 20,
    "start_time": "2022-12-29T06:03:06.020Z"
   },
   {
    "duration": 6,
    "start_time": "2022-12-29T06:08:07.981Z"
   },
   {
    "duration": 35,
    "start_time": "2022-12-29T06:08:09.119Z"
   },
   {
    "duration": 9,
    "start_time": "2022-12-29T06:12:00.163Z"
   },
   {
    "duration": 35,
    "start_time": "2022-12-29T06:12:02.977Z"
   },
   {
    "duration": 1452,
    "start_time": "2022-12-29T06:13:51.206Z"
   },
   {
    "duration": 163,
    "start_time": "2022-12-29T06:13:52.661Z"
   },
   {
    "duration": 31,
    "start_time": "2022-12-29T06:13:52.826Z"
   },
   {
    "duration": 42,
    "start_time": "2022-12-29T06:13:52.860Z"
   },
   {
    "duration": 96,
    "start_time": "2022-12-29T06:13:52.904Z"
   },
   {
    "duration": 379,
    "start_time": "2022-12-29T06:13:53.002Z"
   },
   {
    "duration": 190,
    "start_time": "2022-12-29T06:13:53.383Z"
   },
   {
    "duration": 22,
    "start_time": "2022-12-29T06:13:53.576Z"
   },
   {
    "duration": 68,
    "start_time": "2022-12-29T06:13:53.600Z"
   },
   {
    "duration": 64,
    "start_time": "2022-12-29T06:13:53.672Z"
   },
   {
    "duration": 388,
    "start_time": "2022-12-29T06:13:53.751Z"
   },
   {
    "duration": 158,
    "start_time": "2022-12-29T06:13:54.141Z"
   },
   {
    "duration": 22,
    "start_time": "2022-12-29T06:13:54.301Z"
   },
   {
    "duration": 65,
    "start_time": "2022-12-29T06:13:54.326Z"
   },
   {
    "duration": 62,
    "start_time": "2022-12-29T06:13:54.393Z"
   },
   {
    "duration": 421,
    "start_time": "2022-12-29T06:13:54.458Z"
   },
   {
    "duration": 6,
    "start_time": "2022-12-29T06:13:54.881Z"
   },
   {
    "duration": 391,
    "start_time": "2022-12-29T06:13:54.889Z"
   },
   {
    "duration": 71,
    "start_time": "2022-12-29T06:13:55.283Z"
   },
   {
    "duration": 103,
    "start_time": "2022-12-29T06:13:55.357Z"
   },
   {
    "duration": 18,
    "start_time": "2022-12-29T06:13:55.463Z"
   },
   {
    "duration": 9,
    "start_time": "2022-12-29T06:13:55.484Z"
   },
   {
    "duration": 154,
    "start_time": "2022-12-29T06:13:55.498Z"
   },
   {
    "duration": 8,
    "start_time": "2022-12-29T06:13:55.655Z"
   },
   {
    "duration": 202,
    "start_time": "2022-12-29T06:13:55.667Z"
   },
   {
    "duration": 5,
    "start_time": "2022-12-29T06:17:17.579Z"
   },
   {
    "duration": 24,
    "start_time": "2022-12-29T06:17:18.865Z"
   },
   {
    "duration": 29,
    "start_time": "2022-12-29T06:17:42.152Z"
   },
   {
    "duration": 1408,
    "start_time": "2022-12-29T19:29:32.109Z"
   },
   {
    "duration": 518,
    "start_time": "2022-12-29T19:29:33.520Z"
   },
   {
    "duration": 14,
    "start_time": "2022-12-29T19:29:34.040Z"
   },
   {
    "duration": 34,
    "start_time": "2022-12-29T19:29:34.055Z"
   },
   {
    "duration": 39,
    "start_time": "2022-12-29T19:29:34.096Z"
   },
   {
    "duration": 319,
    "start_time": "2022-12-29T19:29:34.136Z"
   },
   {
    "duration": 177,
    "start_time": "2022-12-29T19:29:34.457Z"
   },
   {
    "duration": 13,
    "start_time": "2022-12-29T19:29:34.636Z"
   },
   {
    "duration": 41,
    "start_time": "2022-12-29T19:29:34.651Z"
   },
   {
    "duration": 36,
    "start_time": "2022-12-29T19:29:34.694Z"
   },
   {
    "duration": 324,
    "start_time": "2022-12-29T19:29:34.732Z"
   },
   {
    "duration": 200,
    "start_time": "2022-12-29T19:29:35.057Z"
   },
   {
    "duration": 14,
    "start_time": "2022-12-29T19:29:35.258Z"
   },
   {
    "duration": 61,
    "start_time": "2022-12-29T19:29:35.275Z"
   },
   {
    "duration": 42,
    "start_time": "2022-12-29T19:29:35.338Z"
   },
   {
    "duration": 316,
    "start_time": "2022-12-29T19:29:35.382Z"
   },
   {
    "duration": 4,
    "start_time": "2022-12-29T19:29:35.700Z"
   },
   {
    "duration": 495,
    "start_time": "2022-12-29T19:29:35.706Z"
   },
   {
    "duration": 94,
    "start_time": "2022-12-29T19:29:36.203Z"
   },
   {
    "duration": 99,
    "start_time": "2022-12-29T19:29:36.299Z"
   },
   {
    "duration": 7,
    "start_time": "2022-12-29T19:29:36.399Z"
   },
   {
    "duration": 6,
    "start_time": "2022-12-29T19:29:36.408Z"
   },
   {
    "duration": 96,
    "start_time": "2022-12-29T19:29:36.415Z"
   },
   {
    "duration": 4,
    "start_time": "2022-12-29T19:29:36.513Z"
   },
   {
    "duration": 121,
    "start_time": "2022-12-29T19:29:36.519Z"
   },
   {
    "duration": 6,
    "start_time": "2022-12-29T19:32:02.880Z"
   },
   {
    "duration": 8,
    "start_time": "2022-12-29T19:32:20.073Z"
   },
   {
    "duration": 8,
    "start_time": "2022-12-29T19:32:28.796Z"
   },
   {
    "duration": 3,
    "start_time": "2022-12-29T19:36:31.709Z"
   },
   {
    "duration": 1414,
    "start_time": "2022-12-29T21:15:44.255Z"
   },
   {
    "duration": 527,
    "start_time": "2022-12-29T21:15:45.671Z"
   },
   {
    "duration": 14,
    "start_time": "2022-12-29T21:15:46.199Z"
   },
   {
    "duration": 37,
    "start_time": "2022-12-29T21:15:46.214Z"
   },
   {
    "duration": 62,
    "start_time": "2022-12-29T21:15:46.253Z"
   },
   {
    "duration": 323,
    "start_time": "2022-12-29T21:15:46.317Z"
   },
   {
    "duration": 188,
    "start_time": "2022-12-29T21:15:46.642Z"
   },
   {
    "duration": 14,
    "start_time": "2022-12-29T21:15:46.831Z"
   },
   {
    "duration": 33,
    "start_time": "2022-12-29T21:15:46.847Z"
   },
   {
    "duration": 48,
    "start_time": "2022-12-29T21:15:46.882Z"
   },
   {
    "duration": 333,
    "start_time": "2022-12-29T21:15:46.932Z"
   },
   {
    "duration": 197,
    "start_time": "2022-12-29T21:15:47.266Z"
   },
   {
    "duration": 12,
    "start_time": "2022-12-29T21:15:47.465Z"
   },
   {
    "duration": 49,
    "start_time": "2022-12-29T21:15:47.480Z"
   },
   {
    "duration": 45,
    "start_time": "2022-12-29T21:15:47.531Z"
   },
   {
    "duration": 324,
    "start_time": "2022-12-29T21:15:47.577Z"
   },
   {
    "duration": 4,
    "start_time": "2022-12-29T21:15:47.903Z"
   },
   {
    "duration": 393,
    "start_time": "2022-12-29T21:15:47.909Z"
   },
   {
    "duration": 93,
    "start_time": "2022-12-29T21:15:48.304Z"
   },
   {
    "duration": 95,
    "start_time": "2022-12-29T21:15:48.402Z"
   },
   {
    "duration": 10,
    "start_time": "2022-12-29T21:15:48.498Z"
   },
   {
    "duration": 5,
    "start_time": "2022-12-29T21:15:48.509Z"
   },
   {
    "duration": 98,
    "start_time": "2022-12-29T21:15:48.516Z"
   },
   {
    "duration": 5,
    "start_time": "2022-12-29T21:15:48.615Z"
   },
   {
    "duration": 121,
    "start_time": "2022-12-29T21:15:48.622Z"
   },
   {
    "duration": 0,
    "start_time": "2022-12-29T21:15:48.745Z"
   },
   {
    "duration": 0,
    "start_time": "2022-12-29T21:15:48.747Z"
   },
   {
    "duration": 9,
    "start_time": "2022-12-29T21:15:58.660Z"
   },
   {
    "duration": 9,
    "start_time": "2022-12-29T21:15:59.927Z"
   },
   {
    "duration": 958,
    "start_time": "2022-12-29T21:17:23.738Z"
   },
   {
    "duration": 7,
    "start_time": "2022-12-29T21:17:42.804Z"
   },
   {
    "duration": 5,
    "start_time": "2022-12-29T21:19:07.483Z"
   },
   {
    "duration": 13,
    "start_time": "2022-12-29T21:19:37.214Z"
   },
   {
    "duration": 6,
    "start_time": "2022-12-29T21:19:54.741Z"
   },
   {
    "duration": 22,
    "start_time": "2022-12-29T21:20:14.277Z"
   },
   {
    "duration": 9,
    "start_time": "2022-12-29T21:20:42.514Z"
   },
   {
    "duration": 13,
    "start_time": "2022-12-29T21:21:51.109Z"
   },
   {
    "duration": 12,
    "start_time": "2022-12-29T21:22:03.814Z"
   },
   {
    "duration": 6,
    "start_time": "2022-12-29T21:22:08.310Z"
   },
   {
    "duration": 7,
    "start_time": "2022-12-29T21:22:26.493Z"
   },
   {
    "duration": 549,
    "start_time": "2022-12-29T21:22:58.144Z"
   },
   {
    "duration": 6,
    "start_time": "2022-12-29T21:23:06.776Z"
   },
   {
    "duration": 11,
    "start_time": "2022-12-29T21:23:11.152Z"
   },
   {
    "duration": 7,
    "start_time": "2022-12-29T21:23:13.757Z"
   },
   {
    "duration": 26,
    "start_time": "2022-12-29T21:23:31.433Z"
   },
   {
    "duration": 22,
    "start_time": "2022-12-29T21:23:44.051Z"
   },
   {
    "duration": 16,
    "start_time": "2022-12-29T21:26:16.366Z"
   },
   {
    "duration": 15,
    "start_time": "2022-12-29T21:26:42.572Z"
   },
   {
    "duration": 11,
    "start_time": "2022-12-29T21:27:35.423Z"
   },
   {
    "duration": 9,
    "start_time": "2022-12-29T21:28:43.429Z"
   },
   {
    "duration": 10,
    "start_time": "2022-12-29T21:28:53.425Z"
   },
   {
    "duration": 1260,
    "start_time": "2022-12-29T21:29:22.750Z"
   },
   {
    "duration": 138,
    "start_time": "2022-12-29T21:29:24.012Z"
   },
   {
    "duration": 12,
    "start_time": "2022-12-29T21:29:24.152Z"
   },
   {
    "duration": 44,
    "start_time": "2022-12-29T21:29:24.166Z"
   },
   {
    "duration": 41,
    "start_time": "2022-12-29T21:29:24.212Z"
   },
   {
    "duration": 339,
    "start_time": "2022-12-29T21:29:24.254Z"
   },
   {
    "duration": 115,
    "start_time": "2022-12-29T21:29:24.597Z"
   },
   {
    "duration": 13,
    "start_time": "2022-12-29T21:29:24.713Z"
   },
   {
    "duration": 32,
    "start_time": "2022-12-29T21:29:24.728Z"
   },
   {
    "duration": 55,
    "start_time": "2022-12-29T21:29:24.761Z"
   },
   {
    "duration": 332,
    "start_time": "2022-12-29T21:29:24.818Z"
   },
   {
    "duration": 136,
    "start_time": "2022-12-29T21:29:25.152Z"
   },
   {
    "duration": 13,
    "start_time": "2022-12-29T21:29:25.290Z"
   },
   {
    "duration": 33,
    "start_time": "2022-12-29T21:29:25.306Z"
   },
   {
    "duration": 58,
    "start_time": "2022-12-29T21:29:25.341Z"
   },
   {
    "duration": 321,
    "start_time": "2022-12-29T21:29:25.401Z"
   },
   {
    "duration": 4,
    "start_time": "2022-12-29T21:29:25.724Z"
   },
   {
    "duration": 372,
    "start_time": "2022-12-29T21:29:25.730Z"
   },
   {
    "duration": 93,
    "start_time": "2022-12-29T21:29:26.106Z"
   },
   {
    "duration": 14,
    "start_time": "2022-12-29T21:29:26.201Z"
   },
   {
    "duration": 13,
    "start_time": "2022-12-29T21:29:26.218Z"
   },
   {
    "duration": 66,
    "start_time": "2022-12-29T21:29:26.232Z"
   },
   {
    "duration": 109,
    "start_time": "2022-12-29T21:29:26.300Z"
   },
   {
    "duration": 5,
    "start_time": "2022-12-29T21:29:26.410Z"
   },
   {
    "duration": 122,
    "start_time": "2022-12-29T21:29:26.416Z"
   },
   {
    "duration": 0,
    "start_time": "2022-12-29T21:29:26.540Z"
   },
   {
    "duration": 8,
    "start_time": "2022-12-29T21:29:45.688Z"
   },
   {
    "duration": 14,
    "start_time": "2022-12-29T21:30:54.312Z"
   },
   {
    "duration": 9,
    "start_time": "2022-12-29T21:32:03.351Z"
   },
   {
    "duration": 23,
    "start_time": "2022-12-29T21:33:52.466Z"
   },
   {
    "duration": 5,
    "start_time": "2022-12-29T21:36:21.200Z"
   },
   {
    "duration": 25,
    "start_time": "2022-12-29T21:36:24.401Z"
   },
   {
    "duration": 6,
    "start_time": "2022-12-29T21:36:29.753Z"
   },
   {
    "duration": 23,
    "start_time": "2022-12-29T21:36:32.473Z"
   },
   {
    "duration": 11,
    "start_time": "2022-12-29T21:37:11.561Z"
   },
   {
    "duration": 10,
    "start_time": "2022-12-29T21:37:18.024Z"
   },
   {
    "duration": 50,
    "start_time": "2022-12-30T05:12:47.163Z"
   },
   {
    "duration": 1472,
    "start_time": "2022-12-30T05:12:56.620Z"
   },
   {
    "duration": 482,
    "start_time": "2022-12-30T05:12:58.094Z"
   },
   {
    "duration": 15,
    "start_time": "2022-12-30T05:12:58.578Z"
   },
   {
    "duration": 43,
    "start_time": "2022-12-30T05:12:58.595Z"
   },
   {
    "duration": 42,
    "start_time": "2022-12-30T05:12:58.640Z"
   },
   {
    "duration": 359,
    "start_time": "2022-12-30T05:12:58.684Z"
   },
   {
    "duration": 541,
    "start_time": "2022-12-30T05:12:59.045Z"
   },
   {
    "duration": 15,
    "start_time": "2022-12-30T05:12:59.588Z"
   },
   {
    "duration": 44,
    "start_time": "2022-12-30T05:12:59.605Z"
   },
   {
    "duration": 43,
    "start_time": "2022-12-30T05:12:59.652Z"
   },
   {
    "duration": 372,
    "start_time": "2022-12-30T05:12:59.696Z"
   },
   {
    "duration": 523,
    "start_time": "2022-12-30T05:13:00.070Z"
   },
   {
    "duration": 14,
    "start_time": "2022-12-30T05:13:00.595Z"
   },
   {
    "duration": 52,
    "start_time": "2022-12-30T05:13:00.611Z"
   },
   {
    "duration": 50,
    "start_time": "2022-12-30T05:13:00.664Z"
   },
   {
    "duration": 349,
    "start_time": "2022-12-30T05:13:00.716Z"
   },
   {
    "duration": 4,
    "start_time": "2022-12-30T05:13:01.067Z"
   },
   {
    "duration": 454,
    "start_time": "2022-12-30T05:13:01.073Z"
   },
   {
    "duration": 94,
    "start_time": "2022-12-30T05:13:01.529Z"
   },
   {
    "duration": 113,
    "start_time": "2022-12-30T05:13:01.625Z"
   },
   {
    "duration": 12,
    "start_time": "2022-12-30T05:13:01.740Z"
   },
   {
    "duration": 8,
    "start_time": "2022-12-30T05:13:01.753Z"
   },
   {
    "duration": 107,
    "start_time": "2022-12-30T05:13:01.763Z"
   },
   {
    "duration": 6,
    "start_time": "2022-12-30T05:13:01.872Z"
   },
   {
    "duration": 113,
    "start_time": "2022-12-30T05:13:01.879Z"
   },
   {
    "duration": 0,
    "start_time": "2022-12-30T05:13:01.993Z"
   },
   {
    "duration": 24,
    "start_time": "2022-12-30T05:13:21.469Z"
   },
   {
    "duration": 23,
    "start_time": "2022-12-30T05:13:51.713Z"
   },
   {
    "duration": 22,
    "start_time": "2022-12-30T05:15:05.564Z"
   },
   {
    "duration": 39,
    "start_time": "2022-12-30T05:17:03.019Z"
   },
   {
    "duration": 20,
    "start_time": "2022-12-30T05:17:18.425Z"
   },
   {
    "duration": 19,
    "start_time": "2022-12-30T05:17:36.221Z"
   },
   {
    "duration": 8,
    "start_time": "2022-12-30T05:17:58.954Z"
   },
   {
    "duration": 7,
    "start_time": "2022-12-30T05:18:20.460Z"
   },
   {
    "duration": 5,
    "start_time": "2022-12-30T05:18:39.800Z"
   },
   {
    "duration": 6,
    "start_time": "2022-12-30T05:18:56.507Z"
   },
   {
    "duration": 6,
    "start_time": "2022-12-30T05:19:00.352Z"
   },
   {
    "duration": 6,
    "start_time": "2022-12-30T05:19:07.961Z"
   },
   {
    "duration": 1112,
    "start_time": "2022-12-30T05:19:27.002Z"
   },
   {
    "duration": 945,
    "start_time": "2022-12-30T05:19:31.102Z"
   },
   {
    "duration": 9,
    "start_time": "2022-12-30T05:19:42.272Z"
   },
   {
    "duration": 7,
    "start_time": "2022-12-30T05:19:47.296Z"
   },
   {
    "duration": 6,
    "start_time": "2022-12-30T05:20:03.650Z"
   },
   {
    "duration": 18,
    "start_time": "2022-12-30T05:20:19.064Z"
   },
   {
    "duration": 10,
    "start_time": "2022-12-30T05:20:37.584Z"
   },
   {
    "duration": 11,
    "start_time": "2022-12-30T05:20:59.670Z"
   },
   {
    "duration": 7,
    "start_time": "2022-12-30T05:21:04.481Z"
   },
   {
    "duration": 9,
    "start_time": "2022-12-30T05:21:09.675Z"
   },
   {
    "duration": 8,
    "start_time": "2022-12-30T05:21:30.672Z"
   },
   {
    "duration": 21,
    "start_time": "2022-12-30T05:21:44.216Z"
   },
   {
    "duration": 33,
    "start_time": "2022-12-30T05:24:12.728Z"
   },
   {
    "duration": 11,
    "start_time": "2022-12-30T05:24:27.870Z"
   },
   {
    "duration": 9,
    "start_time": "2022-12-30T05:24:32.936Z"
   },
   {
    "duration": 44,
    "start_time": "2022-12-30T22:19:41.677Z"
   },
   {
    "duration": 1425,
    "start_time": "2022-12-30T22:19:46.799Z"
   },
   {
    "duration": 509,
    "start_time": "2022-12-30T22:19:48.226Z"
   },
   {
    "duration": 14,
    "start_time": "2022-12-30T22:19:48.736Z"
   },
   {
    "duration": 34,
    "start_time": "2022-12-30T22:19:48.751Z"
   },
   {
    "duration": 42,
    "start_time": "2022-12-30T22:19:48.787Z"
   },
   {
    "duration": 332,
    "start_time": "2022-12-30T22:19:48.831Z"
   },
   {
    "duration": 578,
    "start_time": "2022-12-30T22:19:49.164Z"
   },
   {
    "duration": 14,
    "start_time": "2022-12-30T22:19:49.744Z"
   },
   {
    "duration": 32,
    "start_time": "2022-12-30T22:19:49.759Z"
   },
   {
    "duration": 43,
    "start_time": "2022-12-30T22:19:49.793Z"
   },
   {
    "duration": 341,
    "start_time": "2022-12-30T22:19:49.837Z"
   },
   {
    "duration": 554,
    "start_time": "2022-12-30T22:19:50.180Z"
   },
   {
    "duration": 12,
    "start_time": "2022-12-30T22:19:50.736Z"
   },
   {
    "duration": 34,
    "start_time": "2022-12-30T22:19:50.750Z"
   },
   {
    "duration": 43,
    "start_time": "2022-12-30T22:19:50.786Z"
   },
   {
    "duration": 327,
    "start_time": "2022-12-30T22:19:50.831Z"
   },
   {
    "duration": 4,
    "start_time": "2022-12-30T22:19:51.160Z"
   },
   {
    "duration": 423,
    "start_time": "2022-12-30T22:19:51.165Z"
   },
   {
    "duration": 88,
    "start_time": "2022-12-30T22:19:51.590Z"
   },
   {
    "duration": 99,
    "start_time": "2022-12-30T22:19:51.680Z"
   },
   {
    "duration": 22,
    "start_time": "2022-12-30T22:19:51.781Z"
   },
   {
    "duration": 36,
    "start_time": "2022-12-30T22:19:51.805Z"
   },
   {
    "duration": 105,
    "start_time": "2022-12-30T22:19:51.843Z"
   },
   {
    "duration": 6,
    "start_time": "2022-12-30T22:19:51.950Z"
   },
   {
    "duration": 155,
    "start_time": "2022-12-30T22:19:51.958Z"
   },
   {
    "duration": 0,
    "start_time": "2022-12-30T22:19:52.115Z"
   },
   {
    "duration": 0,
    "start_time": "2022-12-30T22:19:52.116Z"
   },
   {
    "duration": 9,
    "start_time": "2022-12-30T22:20:04.219Z"
   },
   {
    "duration": 7,
    "start_time": "2022-12-30T22:20:10.615Z"
   },
   {
    "duration": 6,
    "start_time": "2022-12-30T22:21:04.219Z"
   },
   {
    "duration": 7,
    "start_time": "2022-12-30T22:21:12.578Z"
   },
   {
    "duration": 9,
    "start_time": "2022-12-30T22:21:56.167Z"
   },
   {
    "duration": 11,
    "start_time": "2022-12-30T22:22:10.718Z"
   },
   {
    "duration": 5,
    "start_time": "2022-12-30T22:23:04.678Z"
   },
   {
    "duration": 24,
    "start_time": "2022-12-30T22:23:09.219Z"
   },
   {
    "duration": 6,
    "start_time": "2022-12-30T22:23:33.698Z"
   },
   {
    "duration": 17,
    "start_time": "2022-12-30T22:23:38.630Z"
   },
   {
    "duration": 16,
    "start_time": "2022-12-30T22:23:53.458Z"
   },
   {
    "duration": 13,
    "start_time": "2022-12-30T22:24:52.418Z"
   },
   {
    "duration": 7,
    "start_time": "2022-12-30T22:25:00.146Z"
   },
   {
    "duration": 5,
    "start_time": "2022-12-30T22:32:17.498Z"
   },
   {
    "duration": 15,
    "start_time": "2022-12-30T22:32:19.078Z"
   },
   {
    "duration": 7,
    "start_time": "2022-12-30T22:32:33.878Z"
   },
   {
    "duration": 27,
    "start_time": "2022-12-30T22:32:36.922Z"
   },
   {
    "duration": 7,
    "start_time": "2022-12-30T22:33:33.326Z"
   },
   {
    "duration": 24,
    "start_time": "2022-12-30T22:33:36.306Z"
   },
   {
    "duration": 5,
    "start_time": "2022-12-30T22:34:11.481Z"
   },
   {
    "duration": 24,
    "start_time": "2022-12-30T22:34:12.424Z"
   },
   {
    "duration": 6,
    "start_time": "2022-12-30T22:34:20.581Z"
   },
   {
    "duration": 24,
    "start_time": "2022-12-30T22:34:22.554Z"
   },
   {
    "duration": 6,
    "start_time": "2022-12-30T22:34:31.177Z"
   },
   {
    "duration": 25,
    "start_time": "2022-12-30T22:34:32.660Z"
   },
   {
    "duration": 5,
    "start_time": "2022-12-30T22:34:37.589Z"
   },
   {
    "duration": 24,
    "start_time": "2022-12-30T22:34:38.560Z"
   },
   {
    "duration": 6,
    "start_time": "2022-12-30T22:34:44.508Z"
   },
   {
    "duration": 25,
    "start_time": "2022-12-30T22:34:47.440Z"
   },
   {
    "duration": 5,
    "start_time": "2022-12-30T22:40:03.199Z"
   },
   {
    "duration": 6,
    "start_time": "2022-12-30T22:40:05.991Z"
   },
   {
    "duration": 28,
    "start_time": "2022-12-30T22:40:09.150Z"
   },
   {
    "duration": 4,
    "start_time": "2022-12-30T22:41:20.998Z"
   },
   {
    "duration": 78,
    "start_time": "2022-12-30T22:41:21.742Z"
   },
   {
    "duration": 6,
    "start_time": "2022-12-30T22:41:22.541Z"
   },
   {
    "duration": 26,
    "start_time": "2022-12-30T22:41:25.118Z"
   },
   {
    "duration": 6,
    "start_time": "2022-12-30T22:44:14.991Z"
   },
   {
    "duration": 4,
    "start_time": "2022-12-30T22:44:23.302Z"
   },
   {
    "duration": 25,
    "start_time": "2022-12-30T22:44:26.410Z"
   },
   {
    "duration": 6,
    "start_time": "2022-12-30T22:45:47.191Z"
   },
   {
    "duration": 24,
    "start_time": "2022-12-30T22:45:48.508Z"
   },
   {
    "duration": 4,
    "start_time": "2022-12-30T22:48:06.614Z"
   },
   {
    "duration": 6,
    "start_time": "2022-12-30T22:48:09.047Z"
   },
   {
    "duration": 24,
    "start_time": "2022-12-30T22:48:11.890Z"
   },
   {
    "duration": 23,
    "start_time": "2022-12-30T22:48:52.327Z"
   },
   {
    "duration": 1422,
    "start_time": "2022-12-31T05:55:10.143Z"
   },
   {
    "duration": 371,
    "start_time": "2022-12-31T05:55:11.567Z"
   },
   {
    "duration": 13,
    "start_time": "2022-12-31T05:55:11.940Z"
   },
   {
    "duration": 35,
    "start_time": "2022-12-31T05:55:11.955Z"
   },
   {
    "duration": 57,
    "start_time": "2022-12-31T05:55:11.992Z"
   },
   {
    "duration": 313,
    "start_time": "2022-12-31T05:55:12.050Z"
   },
   {
    "duration": 196,
    "start_time": "2022-12-31T05:55:12.364Z"
   },
   {
    "duration": 17,
    "start_time": "2022-12-31T05:55:12.561Z"
   },
   {
    "duration": 47,
    "start_time": "2022-12-31T05:55:12.579Z"
   },
   {
    "duration": 42,
    "start_time": "2022-12-31T05:55:12.629Z"
   },
   {
    "duration": 336,
    "start_time": "2022-12-31T05:55:12.672Z"
   },
   {
    "duration": 205,
    "start_time": "2022-12-31T05:55:13.009Z"
   },
   {
    "duration": 13,
    "start_time": "2022-12-31T05:55:13.215Z"
   },
   {
    "duration": 33,
    "start_time": "2022-12-31T05:55:13.229Z"
   },
   {
    "duration": 42,
    "start_time": "2022-12-31T05:55:13.264Z"
   },
   {
    "duration": 313,
    "start_time": "2022-12-31T05:55:13.308Z"
   },
   {
    "duration": 4,
    "start_time": "2022-12-31T05:55:13.622Z"
   },
   {
    "duration": 504,
    "start_time": "2022-12-31T05:55:13.627Z"
   },
   {
    "duration": 92,
    "start_time": "2022-12-31T05:55:14.133Z"
   },
   {
    "duration": 104,
    "start_time": "2022-12-31T05:55:14.227Z"
   },
   {
    "duration": 6,
    "start_time": "2022-12-31T05:55:14.332Z"
   },
   {
    "duration": 78,
    "start_time": "2022-12-31T05:55:14.339Z"
   },
   {
    "duration": 34,
    "start_time": "2022-12-31T05:55:14.421Z"
   },
   {
    "duration": 6,
    "start_time": "2022-12-31T05:55:14.457Z"
   },
   {
    "duration": 13,
    "start_time": "2022-12-31T05:55:14.464Z"
   },
   {
    "duration": 139,
    "start_time": "2022-12-31T05:55:14.479Z"
   },
   {
    "duration": 52,
    "start_time": "2022-12-31T05:59:48.763Z"
   },
   {
    "duration": 3,
    "start_time": "2022-12-31T06:00:17.396Z"
   },
   {
    "duration": 5,
    "start_time": "2022-12-31T06:00:41.111Z"
   },
   {
    "duration": 1201,
    "start_time": "2022-12-31T06:00:53.067Z"
   },
   {
    "duration": 140,
    "start_time": "2022-12-31T06:00:54.270Z"
   },
   {
    "duration": 18,
    "start_time": "2022-12-31T06:00:54.412Z"
   },
   {
    "duration": 36,
    "start_time": "2022-12-31T06:00:54.432Z"
   },
   {
    "duration": 62,
    "start_time": "2022-12-31T06:00:54.470Z"
   },
   {
    "duration": 339,
    "start_time": "2022-12-31T06:00:54.534Z"
   },
   {
    "duration": 121,
    "start_time": "2022-12-31T06:00:54.875Z"
   },
   {
    "duration": 23,
    "start_time": "2022-12-31T06:00:54.998Z"
   },
   {
    "duration": 34,
    "start_time": "2022-12-31T06:00:55.022Z"
   },
   {
    "duration": 41,
    "start_time": "2022-12-31T06:00:55.059Z"
   },
   {
    "duration": 373,
    "start_time": "2022-12-31T06:00:55.102Z"
   },
   {
    "duration": 144,
    "start_time": "2022-12-31T06:00:55.477Z"
   },
   {
    "duration": 14,
    "start_time": "2022-12-31T06:00:55.623Z"
   },
   {
    "duration": 35,
    "start_time": "2022-12-31T06:00:55.639Z"
   },
   {
    "duration": 66,
    "start_time": "2022-12-31T06:00:55.675Z"
   },
   {
    "duration": 302,
    "start_time": "2022-12-31T06:00:55.743Z"
   },
   {
    "duration": 4,
    "start_time": "2022-12-31T06:00:56.047Z"
   },
   {
    "duration": 375,
    "start_time": "2022-12-31T06:00:56.053Z"
   },
   {
    "duration": 92,
    "start_time": "2022-12-31T06:00:56.431Z"
   },
   {
    "duration": 108,
    "start_time": "2022-12-31T06:00:56.525Z"
   },
   {
    "duration": 9,
    "start_time": "2022-12-31T06:00:56.634Z"
   },
   {
    "duration": 74,
    "start_time": "2022-12-31T06:00:56.644Z"
   },
   {
    "duration": 30,
    "start_time": "2022-12-31T06:00:56.720Z"
   },
   {
    "duration": 6,
    "start_time": "2022-12-31T06:00:56.752Z"
   },
   {
    "duration": 22,
    "start_time": "2022-12-31T06:00:56.760Z"
   },
   {
    "duration": 119,
    "start_time": "2022-12-31T06:00:56.784Z"
   },
   {
    "duration": 4,
    "start_time": "2022-12-31T06:05:25.580Z"
   },
   {
    "duration": 1230,
    "start_time": "2022-12-31T06:05:36.431Z"
   },
   {
    "duration": 137,
    "start_time": "2022-12-31T06:05:37.663Z"
   },
   {
    "duration": 15,
    "start_time": "2022-12-31T06:05:37.802Z"
   },
   {
    "duration": 35,
    "start_time": "2022-12-31T06:05:37.820Z"
   },
   {
    "duration": 40,
    "start_time": "2022-12-31T06:05:37.856Z"
   },
   {
    "duration": 324,
    "start_time": "2022-12-31T06:05:37.897Z"
   },
   {
    "duration": 120,
    "start_time": "2022-12-31T06:05:38.222Z"
   },
   {
    "duration": 13,
    "start_time": "2022-12-31T06:05:38.343Z"
   },
   {
    "duration": 38,
    "start_time": "2022-12-31T06:05:38.358Z"
   },
   {
    "duration": 49,
    "start_time": "2022-12-31T06:05:38.398Z"
   },
   {
    "duration": 312,
    "start_time": "2022-12-31T06:05:38.449Z"
   },
   {
    "duration": 131,
    "start_time": "2022-12-31T06:05:38.763Z"
   },
   {
    "duration": 13,
    "start_time": "2022-12-31T06:05:38.895Z"
   },
   {
    "duration": 42,
    "start_time": "2022-12-31T06:05:38.910Z"
   },
   {
    "duration": 40,
    "start_time": "2022-12-31T06:05:38.953Z"
   },
   {
    "duration": 320,
    "start_time": "2022-12-31T06:05:38.995Z"
   },
   {
    "duration": 6,
    "start_time": "2022-12-31T06:05:39.316Z"
   },
   {
    "duration": 408,
    "start_time": "2022-12-31T06:05:39.323Z"
   },
   {
    "duration": 92,
    "start_time": "2022-12-31T06:05:39.733Z"
   },
   {
    "duration": 101,
    "start_time": "2022-12-31T06:05:39.827Z"
   },
   {
    "duration": 7,
    "start_time": "2022-12-31T06:05:39.930Z"
   },
   {
    "duration": 88,
    "start_time": "2022-12-31T06:05:39.938Z"
   },
   {
    "duration": 136,
    "start_time": "2022-12-31T06:05:40.028Z"
   },
   {
    "duration": 0,
    "start_time": "2022-12-31T06:05:40.166Z"
   },
   {
    "duration": 0,
    "start_time": "2022-12-31T06:05:40.167Z"
   },
   {
    "duration": 0,
    "start_time": "2022-12-31T06:05:40.167Z"
   },
   {
    "duration": 4,
    "start_time": "2022-12-31T06:06:47.182Z"
   },
   {
    "duration": 1252,
    "start_time": "2022-12-31T06:07:53.122Z"
   },
   {
    "duration": 138,
    "start_time": "2022-12-31T06:07:54.376Z"
   },
   {
    "duration": 16,
    "start_time": "2022-12-31T06:07:54.515Z"
   },
   {
    "duration": 35,
    "start_time": "2022-12-31T06:07:54.533Z"
   },
   {
    "duration": 59,
    "start_time": "2022-12-31T06:07:54.569Z"
   },
   {
    "duration": 311,
    "start_time": "2022-12-31T06:07:54.630Z"
   },
   {
    "duration": 122,
    "start_time": "2022-12-31T06:07:54.943Z"
   },
   {
    "duration": 16,
    "start_time": "2022-12-31T06:07:55.067Z"
   },
   {
    "duration": 51,
    "start_time": "2022-12-31T06:07:55.085Z"
   },
   {
    "duration": 48,
    "start_time": "2022-12-31T06:07:55.138Z"
   },
   {
    "duration": 348,
    "start_time": "2022-12-31T06:07:55.188Z"
   },
   {
    "duration": 131,
    "start_time": "2022-12-31T06:07:55.538Z"
   },
   {
    "duration": 15,
    "start_time": "2022-12-31T06:07:55.671Z"
   },
   {
    "duration": 48,
    "start_time": "2022-12-31T06:07:55.688Z"
   },
   {
    "duration": 42,
    "start_time": "2022-12-31T06:07:55.738Z"
   },
   {
    "duration": 312,
    "start_time": "2022-12-31T06:07:55.782Z"
   },
   {
    "duration": 4,
    "start_time": "2022-12-31T06:07:56.096Z"
   },
   {
    "duration": 429,
    "start_time": "2022-12-31T06:07:56.102Z"
   },
   {
    "duration": 89,
    "start_time": "2022-12-31T06:07:56.533Z"
   },
   {
    "duration": 107,
    "start_time": "2022-12-31T06:07:56.624Z"
   },
   {
    "duration": 8,
    "start_time": "2022-12-31T06:07:56.732Z"
   },
   {
    "duration": 75,
    "start_time": "2022-12-31T06:07:56.741Z"
   },
   {
    "duration": 27,
    "start_time": "2022-12-31T06:07:56.818Z"
   },
   {
    "duration": 6,
    "start_time": "2022-12-31T06:07:56.846Z"
   },
   {
    "duration": 15,
    "start_time": "2022-12-31T06:07:56.853Z"
   },
   {
    "duration": 119,
    "start_time": "2022-12-31T06:07:56.870Z"
   },
   {
    "duration": 4,
    "start_time": "2022-12-31T06:08:32.073Z"
   },
   {
    "duration": 5,
    "start_time": "2022-12-31T06:19:24.574Z"
   },
   {
    "duration": 1241,
    "start_time": "2022-12-31T06:20:24.665Z"
   },
   {
    "duration": 141,
    "start_time": "2022-12-31T06:20:25.908Z"
   },
   {
    "duration": 14,
    "start_time": "2022-12-31T06:20:26.050Z"
   },
   {
    "duration": 35,
    "start_time": "2022-12-31T06:20:26.066Z"
   },
   {
    "duration": 59,
    "start_time": "2022-12-31T06:20:26.103Z"
   },
   {
    "duration": 315,
    "start_time": "2022-12-31T06:20:26.164Z"
   },
   {
    "duration": 121,
    "start_time": "2022-12-31T06:20:26.481Z"
   },
   {
    "duration": 17,
    "start_time": "2022-12-31T06:20:26.604Z"
   },
   {
    "duration": 33,
    "start_time": "2022-12-31T06:20:26.623Z"
   },
   {
    "duration": 38,
    "start_time": "2022-12-31T06:20:26.659Z"
   },
   {
    "duration": 332,
    "start_time": "2022-12-31T06:20:26.699Z"
   },
   {
    "duration": 133,
    "start_time": "2022-12-31T06:20:27.033Z"
   },
   {
    "duration": 13,
    "start_time": "2022-12-31T06:20:27.168Z"
   },
   {
    "duration": 43,
    "start_time": "2022-12-31T06:20:27.183Z"
   },
   {
    "duration": 41,
    "start_time": "2022-12-31T06:20:27.228Z"
   },
   {
    "duration": 316,
    "start_time": "2022-12-31T06:20:27.271Z"
   },
   {
    "duration": 4,
    "start_time": "2022-12-31T06:20:27.588Z"
   },
   {
    "duration": 442,
    "start_time": "2022-12-31T06:20:27.594Z"
   },
   {
    "duration": 89,
    "start_time": "2022-12-31T06:20:28.039Z"
   },
   {
    "duration": 94,
    "start_time": "2022-12-31T06:20:28.131Z"
   },
   {
    "duration": 8,
    "start_time": "2022-12-31T06:20:28.227Z"
   },
   {
    "duration": 7,
    "start_time": "2022-12-31T06:20:28.236Z"
   },
   {
    "duration": 204,
    "start_time": "2022-12-31T06:20:28.244Z"
   },
   {
    "duration": 0,
    "start_time": "2022-12-31T06:20:28.449Z"
   },
   {
    "duration": 0,
    "start_time": "2022-12-31T06:20:28.450Z"
   },
   {
    "duration": 0,
    "start_time": "2022-12-31T06:20:28.451Z"
   },
   {
    "duration": 1234,
    "start_time": "2022-12-31T06:21:19.152Z"
   },
   {
    "duration": 144,
    "start_time": "2022-12-31T06:21:20.388Z"
   },
   {
    "duration": 15,
    "start_time": "2022-12-31T06:21:20.533Z"
   },
   {
    "duration": 48,
    "start_time": "2022-12-31T06:21:20.550Z"
   },
   {
    "duration": 53,
    "start_time": "2022-12-31T06:21:20.600Z"
   },
   {
    "duration": 306,
    "start_time": "2022-12-31T06:21:20.655Z"
   },
   {
    "duration": 117,
    "start_time": "2022-12-31T06:21:20.963Z"
   },
   {
    "duration": 13,
    "start_time": "2022-12-31T06:21:21.082Z"
   },
   {
    "duration": 46,
    "start_time": "2022-12-31T06:21:21.096Z"
   },
   {
    "duration": 39,
    "start_time": "2022-12-31T06:21:21.144Z"
   },
   {
    "duration": 327,
    "start_time": "2022-12-31T06:21:21.184Z"
   },
   {
    "duration": 129,
    "start_time": "2022-12-31T06:21:21.513Z"
   },
   {
    "duration": 13,
    "start_time": "2022-12-31T06:21:21.643Z"
   },
   {
    "duration": 33,
    "start_time": "2022-12-31T06:21:21.658Z"
   },
   {
    "duration": 56,
    "start_time": "2022-12-31T06:21:21.692Z"
   },
   {
    "duration": 306,
    "start_time": "2022-12-31T06:21:21.750Z"
   },
   {
    "duration": 4,
    "start_time": "2022-12-31T06:21:22.057Z"
   },
   {
    "duration": 359,
    "start_time": "2022-12-31T06:21:22.062Z"
   },
   {
    "duration": 6,
    "start_time": "2022-12-31T06:21:22.424Z"
   },
   {
    "duration": 96,
    "start_time": "2022-12-31T06:21:22.432Z"
   },
   {
    "duration": 6,
    "start_time": "2022-12-31T06:21:22.530Z"
   },
   {
    "duration": 11,
    "start_time": "2022-12-31T06:21:22.537Z"
   },
   {
    "duration": 201,
    "start_time": "2022-12-31T06:21:22.550Z"
   },
   {
    "duration": 0,
    "start_time": "2022-12-31T06:21:22.753Z"
   },
   {
    "duration": 0,
    "start_time": "2022-12-31T06:21:22.754Z"
   },
   {
    "duration": 0,
    "start_time": "2022-12-31T06:21:22.755Z"
   },
   {
    "duration": 1344,
    "start_time": "2022-12-31T06:21:59.791Z"
   },
   {
    "duration": 155,
    "start_time": "2022-12-31T06:22:01.137Z"
   },
   {
    "duration": 14,
    "start_time": "2022-12-31T06:22:01.293Z"
   },
   {
    "duration": 63,
    "start_time": "2022-12-31T06:22:01.309Z"
   },
   {
    "duration": 57,
    "start_time": "2022-12-31T06:22:01.374Z"
   },
   {
    "duration": 338,
    "start_time": "2022-12-31T06:22:01.433Z"
   },
   {
    "duration": 127,
    "start_time": "2022-12-31T06:22:01.773Z"
   },
   {
    "duration": 20,
    "start_time": "2022-12-31T06:22:01.901Z"
   },
   {
    "duration": 68,
    "start_time": "2022-12-31T06:22:01.923Z"
   },
   {
    "duration": 44,
    "start_time": "2022-12-31T06:22:01.993Z"
   },
   {
    "duration": 320,
    "start_time": "2022-12-31T06:22:02.039Z"
   },
   {
    "duration": 134,
    "start_time": "2022-12-31T06:22:02.361Z"
   },
   {
    "duration": 12,
    "start_time": "2022-12-31T06:22:02.497Z"
   },
   {
    "duration": 40,
    "start_time": "2022-12-31T06:22:02.511Z"
   },
   {
    "duration": 50,
    "start_time": "2022-12-31T06:22:02.552Z"
   },
   {
    "duration": 341,
    "start_time": "2022-12-31T06:22:02.604Z"
   },
   {
    "duration": 5,
    "start_time": "2022-12-31T06:22:02.947Z"
   },
   {
    "duration": 383,
    "start_time": "2022-12-31T06:22:02.954Z"
   },
   {
    "duration": 6,
    "start_time": "2022-12-31T06:22:03.420Z"
   },
   {
    "duration": 112,
    "start_time": "2022-12-31T06:22:03.428Z"
   },
   {
    "duration": 7,
    "start_time": "2022-12-31T06:22:03.542Z"
   },
   {
    "duration": 17,
    "start_time": "2022-12-31T06:22:03.551Z"
   },
   {
    "duration": 238,
    "start_time": "2022-12-31T06:22:03.570Z"
   },
   {
    "duration": 0,
    "start_time": "2022-12-31T06:22:03.809Z"
   },
   {
    "duration": 0,
    "start_time": "2022-12-31T06:22:03.810Z"
   },
   {
    "duration": 0,
    "start_time": "2022-12-31T06:22:03.812Z"
   },
   {
    "duration": 1273,
    "start_time": "2022-12-31T06:23:44.226Z"
   },
   {
    "duration": 148,
    "start_time": "2022-12-31T06:23:45.500Z"
   },
   {
    "duration": 14,
    "start_time": "2022-12-31T06:23:45.650Z"
   },
   {
    "duration": 34,
    "start_time": "2022-12-31T06:23:45.667Z"
   },
   {
    "duration": 54,
    "start_time": "2022-12-31T06:23:45.703Z"
   },
   {
    "duration": 316,
    "start_time": "2022-12-31T06:23:45.758Z"
   },
   {
    "duration": 129,
    "start_time": "2022-12-31T06:23:46.075Z"
   },
   {
    "duration": 16,
    "start_time": "2022-12-31T06:23:46.205Z"
   },
   {
    "duration": 32,
    "start_time": "2022-12-31T06:23:46.222Z"
   },
   {
    "duration": 38,
    "start_time": "2022-12-31T06:23:46.256Z"
   },
   {
    "duration": 319,
    "start_time": "2022-12-31T06:23:46.295Z"
   },
   {
    "duration": 142,
    "start_time": "2022-12-31T06:23:46.620Z"
   },
   {
    "duration": 15,
    "start_time": "2022-12-31T06:23:46.764Z"
   },
   {
    "duration": 51,
    "start_time": "2022-12-31T06:23:46.780Z"
   },
   {
    "duration": 43,
    "start_time": "2022-12-31T06:23:46.833Z"
   },
   {
    "duration": 318,
    "start_time": "2022-12-31T06:23:46.877Z"
   },
   {
    "duration": 5,
    "start_time": "2022-12-31T06:23:47.196Z"
   },
   {
    "duration": 433,
    "start_time": "2022-12-31T06:23:47.202Z"
   },
   {
    "duration": 85,
    "start_time": "2022-12-31T06:23:47.638Z"
   },
   {
    "duration": 102,
    "start_time": "2022-12-31T06:23:47.725Z"
   },
   {
    "duration": 10,
    "start_time": "2022-12-31T06:23:47.828Z"
   },
   {
    "duration": 85,
    "start_time": "2022-12-31T06:23:47.839Z"
   },
   {
    "duration": 25,
    "start_time": "2022-12-31T06:23:47.925Z"
   },
   {
    "duration": 6,
    "start_time": "2022-12-31T06:23:47.952Z"
   },
   {
    "duration": 14,
    "start_time": "2022-12-31T06:23:47.959Z"
   },
   {
    "duration": 138,
    "start_time": "2022-12-31T06:23:47.974Z"
   },
   {
    "duration": 1221,
    "start_time": "2022-12-31T06:26:34.841Z"
   },
   {
    "duration": 148,
    "start_time": "2022-12-31T06:26:36.064Z"
   },
   {
    "duration": 16,
    "start_time": "2022-12-31T06:26:36.214Z"
   },
   {
    "duration": 34,
    "start_time": "2022-12-31T06:26:36.232Z"
   },
   {
    "duration": 60,
    "start_time": "2022-12-31T06:26:36.268Z"
   },
   {
    "duration": 319,
    "start_time": "2022-12-31T06:26:36.330Z"
   },
   {
    "duration": 119,
    "start_time": "2022-12-31T06:26:36.651Z"
   },
   {
    "duration": 13,
    "start_time": "2022-12-31T06:26:36.771Z"
   },
   {
    "duration": 45,
    "start_time": "2022-12-31T06:26:36.786Z"
   },
   {
    "duration": 38,
    "start_time": "2022-12-31T06:26:36.832Z"
   },
   {
    "duration": 306,
    "start_time": "2022-12-31T06:26:36.872Z"
   },
   {
    "duration": 132,
    "start_time": "2022-12-31T06:26:37.180Z"
   },
   {
    "duration": 13,
    "start_time": "2022-12-31T06:26:37.314Z"
   },
   {
    "duration": 32,
    "start_time": "2022-12-31T06:26:37.330Z"
   },
   {
    "duration": 59,
    "start_time": "2022-12-31T06:26:37.363Z"
   },
   {
    "duration": 305,
    "start_time": "2022-12-31T06:26:37.423Z"
   },
   {
    "duration": 3,
    "start_time": "2022-12-31T06:26:37.731Z"
   },
   {
    "duration": 394,
    "start_time": "2022-12-31T06:26:37.736Z"
   },
   {
    "duration": 90,
    "start_time": "2022-12-31T06:26:38.133Z"
   },
   {
    "duration": 106,
    "start_time": "2022-12-31T06:26:38.225Z"
   },
   {
    "duration": 9,
    "start_time": "2022-12-31T06:26:38.332Z"
   },
   {
    "duration": 6,
    "start_time": "2022-12-31T06:26:38.343Z"
   },
   {
    "duration": 104,
    "start_time": "2022-12-31T06:26:38.350Z"
   },
   {
    "duration": 6,
    "start_time": "2022-12-31T06:26:38.456Z"
   },
   {
    "duration": 18,
    "start_time": "2022-12-31T06:26:38.464Z"
   },
   {
    "duration": 133,
    "start_time": "2022-12-31T06:26:38.483Z"
   },
   {
    "duration": 1234,
    "start_time": "2022-12-31T06:28:30.745Z"
   },
   {
    "duration": 145,
    "start_time": "2022-12-31T06:28:31.981Z"
   },
   {
    "duration": 14,
    "start_time": "2022-12-31T06:28:32.128Z"
   },
   {
    "duration": 35,
    "start_time": "2022-12-31T06:28:32.144Z"
   },
   {
    "duration": 59,
    "start_time": "2022-12-31T06:28:32.181Z"
   },
   {
    "duration": 312,
    "start_time": "2022-12-31T06:28:32.241Z"
   },
   {
    "duration": 128,
    "start_time": "2022-12-31T06:28:32.554Z"
   },
   {
    "duration": 13,
    "start_time": "2022-12-31T06:28:32.684Z"
   },
   {
    "duration": 40,
    "start_time": "2022-12-31T06:28:32.698Z"
   },
   {
    "duration": 36,
    "start_time": "2022-12-31T06:28:32.740Z"
   },
   {
    "duration": 334,
    "start_time": "2022-12-31T06:28:32.778Z"
   },
   {
    "duration": 126,
    "start_time": "2022-12-31T06:28:33.114Z"
   },
   {
    "duration": 12,
    "start_time": "2022-12-31T06:28:33.242Z"
   },
   {
    "duration": 32,
    "start_time": "2022-12-31T06:28:33.256Z"
   },
   {
    "duration": 55,
    "start_time": "2022-12-31T06:28:33.289Z"
   },
   {
    "duration": 310,
    "start_time": "2022-12-31T06:28:33.345Z"
   },
   {
    "duration": 3,
    "start_time": "2022-12-31T06:28:33.657Z"
   },
   {
    "duration": 461,
    "start_time": "2022-12-31T06:28:33.662Z"
   },
   {
    "duration": 4,
    "start_time": "2022-12-31T06:28:34.125Z"
   },
   {
    "duration": 91,
    "start_time": "2022-12-31T06:28:34.131Z"
   },
   {
    "duration": 7,
    "start_time": "2022-12-31T06:28:34.224Z"
   },
   {
    "duration": 91,
    "start_time": "2022-12-31T06:28:34.233Z"
   },
   {
    "duration": 24,
    "start_time": "2022-12-31T06:28:34.326Z"
   },
   {
    "duration": 6,
    "start_time": "2022-12-31T06:28:34.351Z"
   },
   {
    "duration": 12,
    "start_time": "2022-12-31T06:28:34.359Z"
   },
   {
    "duration": 7029,
    "start_time": "2022-12-31T06:28:34.373Z"
   },
   {
    "duration": 0,
    "start_time": "2022-12-31T06:29:35.658Z"
   },
   {
    "duration": 0,
    "start_time": "2022-12-31T06:29:35.659Z"
   },
   {
    "duration": 0,
    "start_time": "2022-12-31T06:29:35.660Z"
   },
   {
    "duration": 0,
    "start_time": "2022-12-31T06:29:35.661Z"
   },
   {
    "duration": 0,
    "start_time": "2022-12-31T06:29:35.662Z"
   },
   {
    "duration": 0,
    "start_time": "2022-12-31T06:29:35.663Z"
   },
   {
    "duration": 0,
    "start_time": "2022-12-31T06:29:35.664Z"
   },
   {
    "duration": 0,
    "start_time": "2022-12-31T06:29:35.665Z"
   },
   {
    "duration": 0,
    "start_time": "2022-12-31T06:29:35.666Z"
   },
   {
    "duration": 0,
    "start_time": "2022-12-31T06:29:35.667Z"
   },
   {
    "duration": 0,
    "start_time": "2022-12-31T06:29:35.668Z"
   },
   {
    "duration": 0,
    "start_time": "2022-12-31T06:29:35.669Z"
   },
   {
    "duration": 0,
    "start_time": "2022-12-31T06:29:35.670Z"
   },
   {
    "duration": 0,
    "start_time": "2022-12-31T06:29:35.671Z"
   },
   {
    "duration": 0,
    "start_time": "2022-12-31T06:29:35.672Z"
   },
   {
    "duration": 0,
    "start_time": "2022-12-31T06:29:35.674Z"
   },
   {
    "duration": 0,
    "start_time": "2022-12-31T06:29:35.675Z"
   },
   {
    "duration": 0,
    "start_time": "2022-12-31T06:29:35.676Z"
   },
   {
    "duration": 0,
    "start_time": "2022-12-31T06:29:35.677Z"
   },
   {
    "duration": 0,
    "start_time": "2022-12-31T06:29:35.678Z"
   },
   {
    "duration": 0,
    "start_time": "2022-12-31T06:29:35.679Z"
   },
   {
    "duration": 0,
    "start_time": "2022-12-31T06:29:35.679Z"
   },
   {
    "duration": 0,
    "start_time": "2022-12-31T06:29:35.680Z"
   },
   {
    "duration": 0,
    "start_time": "2022-12-31T06:29:35.722Z"
   },
   {
    "duration": 0,
    "start_time": "2022-12-31T06:29:35.723Z"
   },
   {
    "duration": 0,
    "start_time": "2022-12-31T06:29:35.724Z"
   },
   {
    "duration": 1246,
    "start_time": "2022-12-31T06:29:55.123Z"
   },
   {
    "duration": 138,
    "start_time": "2022-12-31T06:29:56.371Z"
   },
   {
    "duration": 17,
    "start_time": "2022-12-31T06:29:56.511Z"
   },
   {
    "duration": 47,
    "start_time": "2022-12-31T06:29:56.529Z"
   },
   {
    "duration": 45,
    "start_time": "2022-12-31T06:29:56.578Z"
   },
   {
    "duration": 304,
    "start_time": "2022-12-31T06:29:56.624Z"
   },
   {
    "duration": 124,
    "start_time": "2022-12-31T06:29:56.930Z"
   },
   {
    "duration": 16,
    "start_time": "2022-12-31T06:29:57.056Z"
   },
   {
    "duration": 48,
    "start_time": "2022-12-31T06:29:57.074Z"
   },
   {
    "duration": 41,
    "start_time": "2022-12-31T06:29:57.125Z"
   },
   {
    "duration": 322,
    "start_time": "2022-12-31T06:29:57.168Z"
   },
   {
    "duration": 131,
    "start_time": "2022-12-31T06:29:57.492Z"
   },
   {
    "duration": 13,
    "start_time": "2022-12-31T06:29:57.624Z"
   },
   {
    "duration": 32,
    "start_time": "2022-12-31T06:29:57.638Z"
   },
   {
    "duration": 55,
    "start_time": "2022-12-31T06:29:57.672Z"
   },
   {
    "duration": 295,
    "start_time": "2022-12-31T06:29:57.729Z"
   },
   {
    "duration": 4,
    "start_time": "2022-12-31T06:29:58.026Z"
   },
   {
    "duration": 397,
    "start_time": "2022-12-31T06:29:58.031Z"
   },
   {
    "duration": 92,
    "start_time": "2022-12-31T06:29:58.431Z"
   },
   {
    "duration": 108,
    "start_time": "2022-12-31T06:29:58.525Z"
   },
   {
    "duration": 6,
    "start_time": "2022-12-31T06:29:58.634Z"
   },
   {
    "duration": 80,
    "start_time": "2022-12-31T06:29:58.641Z"
   },
   {
    "duration": 25,
    "start_time": "2022-12-31T06:29:58.723Z"
   },
   {
    "duration": 6,
    "start_time": "2022-12-31T06:29:58.749Z"
   },
   {
    "duration": 16,
    "start_time": "2022-12-31T06:29:58.756Z"
   },
   {
    "duration": 3421,
    "start_time": "2022-12-31T06:29:58.774Z"
   },
   {
    "duration": 1189,
    "start_time": "2022-12-31T06:30:38.762Z"
   },
   {
    "duration": 142,
    "start_time": "2022-12-31T06:30:39.953Z"
   },
   {
    "duration": 14,
    "start_time": "2022-12-31T06:30:40.096Z"
   },
   {
    "duration": 44,
    "start_time": "2022-12-31T06:30:40.112Z"
   },
   {
    "duration": 42,
    "start_time": "2022-12-31T06:30:40.158Z"
   },
   {
    "duration": 325,
    "start_time": "2022-12-31T06:30:40.202Z"
   },
   {
    "duration": 120,
    "start_time": "2022-12-31T06:30:40.529Z"
   },
   {
    "duration": 13,
    "start_time": "2022-12-31T06:30:40.651Z"
   },
   {
    "duration": 39,
    "start_time": "2022-12-31T06:30:40.666Z"
   },
   {
    "duration": 49,
    "start_time": "2022-12-31T06:30:40.707Z"
   },
   {
    "duration": 314,
    "start_time": "2022-12-31T06:30:40.758Z"
   },
   {
    "duration": 136,
    "start_time": "2022-12-31T06:30:41.074Z"
   },
   {
    "duration": 15,
    "start_time": "2022-12-31T06:30:41.212Z"
   },
   {
    "duration": 38,
    "start_time": "2022-12-31T06:30:41.229Z"
   },
   {
    "duration": 63,
    "start_time": "2022-12-31T06:30:41.269Z"
   },
   {
    "duration": 319,
    "start_time": "2022-12-31T06:30:41.333Z"
   },
   {
    "duration": 4,
    "start_time": "2022-12-31T06:30:41.654Z"
   },
   {
    "duration": 380,
    "start_time": "2022-12-31T06:30:41.659Z"
   },
   {
    "duration": 82,
    "start_time": "2022-12-31T06:30:42.042Z"
   },
   {
    "duration": 93,
    "start_time": "2022-12-31T06:30:42.127Z"
   },
   {
    "duration": 21,
    "start_time": "2022-12-31T06:30:42.222Z"
   },
   {
    "duration": 80,
    "start_time": "2022-12-31T06:30:42.245Z"
   },
   {
    "duration": 47,
    "start_time": "2022-12-31T06:30:42.327Z"
   },
   {
    "duration": 6,
    "start_time": "2022-12-31T06:30:42.376Z"
   },
   {
    "duration": 41,
    "start_time": "2022-12-31T06:30:42.384Z"
   },
   {
    "duration": 3270,
    "start_time": "2022-12-31T06:30:42.427Z"
   },
   {
    "duration": 1234,
    "start_time": "2022-12-31T06:31:41.115Z"
   },
   {
    "duration": 151,
    "start_time": "2022-12-31T06:31:42.351Z"
   },
   {
    "duration": 18,
    "start_time": "2022-12-31T06:31:42.503Z"
   },
   {
    "duration": 36,
    "start_time": "2022-12-31T06:31:42.523Z"
   },
   {
    "duration": 44,
    "start_time": "2022-12-31T06:31:42.560Z"
   },
   {
    "duration": 351,
    "start_time": "2022-12-31T06:31:42.605Z"
   },
   {
    "duration": 120,
    "start_time": "2022-12-31T06:31:42.958Z"
   },
   {
    "duration": 13,
    "start_time": "2022-12-31T06:31:43.080Z"
   },
   {
    "duration": 45,
    "start_time": "2022-12-31T06:31:43.094Z"
   },
   {
    "duration": 41,
    "start_time": "2022-12-31T06:31:43.142Z"
   },
   {
    "duration": 338,
    "start_time": "2022-12-31T06:31:43.185Z"
   },
   {
    "duration": 133,
    "start_time": "2022-12-31T06:31:43.524Z"
   },
   {
    "duration": 14,
    "start_time": "2022-12-31T06:31:43.659Z"
   },
   {
    "duration": 33,
    "start_time": "2022-12-31T06:31:43.674Z"
   },
   {
    "duration": 42,
    "start_time": "2022-12-31T06:31:43.722Z"
   },
   {
    "duration": 317,
    "start_time": "2022-12-31T06:31:43.766Z"
   },
   {
    "duration": 4,
    "start_time": "2022-12-31T06:31:44.084Z"
   },
   {
    "duration": 440,
    "start_time": "2022-12-31T06:31:44.090Z"
   },
   {
    "duration": 90,
    "start_time": "2022-12-31T06:31:44.533Z"
   },
   {
    "duration": 104,
    "start_time": "2022-12-31T06:31:44.625Z"
   },
   {
    "duration": 13,
    "start_time": "2022-12-31T06:31:44.731Z"
   },
   {
    "duration": 6,
    "start_time": "2022-12-31T06:31:44.746Z"
   },
   {
    "duration": 92,
    "start_time": "2022-12-31T06:31:44.753Z"
   },
   {
    "duration": 5,
    "start_time": "2022-12-31T06:31:44.847Z"
   },
   {
    "duration": 14,
    "start_time": "2022-12-31T06:31:44.854Z"
   },
   {
    "duration": 1536,
    "start_time": "2022-12-31T06:31:44.870Z"
   },
   {
    "duration": 1294,
    "start_time": "2022-12-31T06:33:43.799Z"
   },
   {
    "duration": 161,
    "start_time": "2022-12-31T06:33:45.095Z"
   },
   {
    "duration": 18,
    "start_time": "2022-12-31T06:33:45.258Z"
   },
   {
    "duration": 58,
    "start_time": "2022-12-31T06:33:45.278Z"
   },
   {
    "duration": 44,
    "start_time": "2022-12-31T06:33:45.338Z"
   },
   {
    "duration": 318,
    "start_time": "2022-12-31T06:33:45.384Z"
   },
   {
    "duration": 125,
    "start_time": "2022-12-31T06:33:45.704Z"
   },
   {
    "duration": 14,
    "start_time": "2022-12-31T06:33:45.830Z"
   },
   {
    "duration": 57,
    "start_time": "2022-12-31T06:33:45.845Z"
   },
   {
    "duration": 45,
    "start_time": "2022-12-31T06:33:45.905Z"
   },
   {
    "duration": 306,
    "start_time": "2022-12-31T06:33:45.952Z"
   },
   {
    "duration": 131,
    "start_time": "2022-12-31T06:33:46.260Z"
   },
   {
    "duration": 13,
    "start_time": "2022-12-31T06:33:46.393Z"
   },
   {
    "duration": 40,
    "start_time": "2022-12-31T06:33:46.407Z"
   },
   {
    "duration": 42,
    "start_time": "2022-12-31T06:33:46.449Z"
   },
   {
    "duration": 322,
    "start_time": "2022-12-31T06:33:46.493Z"
   },
   {
    "duration": 4,
    "start_time": "2022-12-31T06:33:46.820Z"
   },
   {
    "duration": 401,
    "start_time": "2022-12-31T06:33:46.826Z"
   },
   {
    "duration": 93,
    "start_time": "2022-12-31T06:33:47.230Z"
   },
   {
    "duration": 122,
    "start_time": "2022-12-31T06:33:47.325Z"
   },
   {
    "duration": 35,
    "start_time": "2022-12-31T06:33:47.449Z"
   },
   {
    "duration": 31,
    "start_time": "2022-12-31T06:33:47.485Z"
   },
   {
    "duration": 111,
    "start_time": "2022-12-31T06:33:47.518Z"
   },
   {
    "duration": 5,
    "start_time": "2022-12-31T06:33:47.630Z"
   },
   {
    "duration": 26,
    "start_time": "2022-12-31T06:33:47.637Z"
   },
   {
    "duration": 1493,
    "start_time": "2022-12-31T06:33:47.665Z"
   },
   {
    "duration": 2799,
    "start_time": "2022-12-31T06:35:27.785Z"
   },
   {
    "duration": 6,
    "start_time": "2022-12-31T06:37:42.799Z"
   },
   {
    "duration": 111,
    "start_time": "2022-12-31T06:37:48.607Z"
   },
   {
    "duration": 3,
    "start_time": "2022-12-31T06:43:20.260Z"
   },
   {
    "duration": 1312,
    "start_time": "2022-12-31T06:55:29.411Z"
   },
   {
    "duration": 148,
    "start_time": "2022-12-31T06:55:30.725Z"
   },
   {
    "duration": 16,
    "start_time": "2022-12-31T06:55:30.875Z"
   },
   {
    "duration": 51,
    "start_time": "2022-12-31T06:55:30.893Z"
   },
   {
    "duration": 43,
    "start_time": "2022-12-31T06:55:30.946Z"
   },
   {
    "duration": 334,
    "start_time": "2022-12-31T06:55:30.991Z"
   },
   {
    "duration": 127,
    "start_time": "2022-12-31T06:55:31.327Z"
   },
   {
    "duration": 13,
    "start_time": "2022-12-31T06:55:31.456Z"
   },
   {
    "duration": 53,
    "start_time": "2022-12-31T06:55:31.471Z"
   },
   {
    "duration": 47,
    "start_time": "2022-12-31T06:55:31.527Z"
   },
   {
    "duration": 340,
    "start_time": "2022-12-31T06:55:31.576Z"
   },
   {
    "duration": 135,
    "start_time": "2022-12-31T06:55:31.917Z"
   },
   {
    "duration": 13,
    "start_time": "2022-12-31T06:55:32.053Z"
   },
   {
    "duration": 34,
    "start_time": "2022-12-31T06:55:32.067Z"
   },
   {
    "duration": 58,
    "start_time": "2022-12-31T06:55:32.103Z"
   },
   {
    "duration": 319,
    "start_time": "2022-12-31T06:55:32.163Z"
   },
   {
    "duration": 4,
    "start_time": "2022-12-31T06:55:32.483Z"
   },
   {
    "duration": 441,
    "start_time": "2022-12-31T06:55:32.488Z"
   },
   {
    "duration": 89,
    "start_time": "2022-12-31T06:55:32.932Z"
   },
   {
    "duration": 104,
    "start_time": "2022-12-31T06:55:33.023Z"
   },
   {
    "duration": 10,
    "start_time": "2022-12-31T06:55:33.129Z"
   },
   {
    "duration": 8,
    "start_time": "2022-12-31T06:55:33.140Z"
   },
   {
    "duration": 188,
    "start_time": "2022-12-31T06:55:33.149Z"
   },
   {
    "duration": 0,
    "start_time": "2022-12-31T06:55:33.339Z"
   },
   {
    "duration": 0,
    "start_time": "2022-12-31T06:55:33.340Z"
   },
   {
    "duration": 0,
    "start_time": "2022-12-31T06:55:33.341Z"
   },
   {
    "duration": 0,
    "start_time": "2022-12-31T06:55:33.342Z"
   },
   {
    "duration": 0,
    "start_time": "2022-12-31T06:55:33.343Z"
   },
   {
    "duration": 0,
    "start_time": "2022-12-31T06:55:33.345Z"
   },
   {
    "duration": 0,
    "start_time": "2022-12-31T06:55:33.345Z"
   },
   {
    "duration": 0,
    "start_time": "2022-12-31T06:55:33.346Z"
   },
   {
    "duration": 1267,
    "start_time": "2022-12-31T06:57:00.952Z"
   },
   {
    "duration": 155,
    "start_time": "2022-12-31T06:57:02.221Z"
   },
   {
    "duration": 15,
    "start_time": "2022-12-31T06:57:02.378Z"
   },
   {
    "duration": 47,
    "start_time": "2022-12-31T06:57:02.395Z"
   },
   {
    "duration": 41,
    "start_time": "2022-12-31T06:57:02.443Z"
   },
   {
    "duration": 404,
    "start_time": "2022-12-31T06:57:02.486Z"
   },
   {
    "duration": 144,
    "start_time": "2022-12-31T06:57:02.892Z"
   },
   {
    "duration": 14,
    "start_time": "2022-12-31T06:57:03.037Z"
   },
   {
    "duration": 31,
    "start_time": "2022-12-31T06:57:03.053Z"
   },
   {
    "duration": 56,
    "start_time": "2022-12-31T06:57:03.087Z"
   },
   {
    "duration": 329,
    "start_time": "2022-12-31T06:57:03.145Z"
   },
   {
    "duration": 139,
    "start_time": "2022-12-31T06:57:03.475Z"
   },
   {
    "duration": 13,
    "start_time": "2022-12-31T06:57:03.615Z"
   },
   {
    "duration": 38,
    "start_time": "2022-12-31T06:57:03.630Z"
   },
   {
    "duration": 58,
    "start_time": "2022-12-31T06:57:03.670Z"
   },
   {
    "duration": 324,
    "start_time": "2022-12-31T06:57:03.730Z"
   },
   {
    "duration": 5,
    "start_time": "2022-12-31T06:57:04.056Z"
   },
   {
    "duration": 380,
    "start_time": "2022-12-31T06:57:04.062Z"
   },
   {
    "duration": 5,
    "start_time": "2022-12-31T06:57:04.522Z"
   },
   {
    "duration": 100,
    "start_time": "2022-12-31T06:57:04.529Z"
   },
   {
    "duration": 7,
    "start_time": "2022-12-31T06:57:04.631Z"
   },
   {
    "duration": 7,
    "start_time": "2022-12-31T06:57:04.639Z"
   },
   {
    "duration": 97,
    "start_time": "2022-12-31T06:57:04.648Z"
   },
   {
    "duration": 4,
    "start_time": "2022-12-31T06:57:04.747Z"
   },
   {
    "duration": 7,
    "start_time": "2022-12-31T06:57:04.753Z"
   },
   {
    "duration": 127,
    "start_time": "2022-12-31T06:57:04.762Z"
   },
   {
    "duration": 0,
    "start_time": "2022-12-31T06:57:04.890Z"
   },
   {
    "duration": 0,
    "start_time": "2022-12-31T06:57:04.892Z"
   },
   {
    "duration": 0,
    "start_time": "2022-12-31T06:57:04.893Z"
   },
   {
    "duration": 0,
    "start_time": "2022-12-31T06:57:04.895Z"
   },
   {
    "duration": 0,
    "start_time": "2022-12-31T06:57:04.895Z"
   },
   {
    "duration": 1571,
    "start_time": "2022-12-31T06:57:29.422Z"
   },
   {
    "duration": 5,
    "start_time": "2022-12-31T06:59:00.448Z"
   },
   {
    "duration": 1595,
    "start_time": "2022-12-31T06:59:01.678Z"
   },
   {
    "duration": 1242,
    "start_time": "2022-12-31T07:00:59.837Z"
   },
   {
    "duration": 157,
    "start_time": "2022-12-31T07:01:01.081Z"
   },
   {
    "duration": 14,
    "start_time": "2022-12-31T07:01:01.240Z"
   },
   {
    "duration": 52,
    "start_time": "2022-12-31T07:01:01.256Z"
   },
   {
    "duration": 49,
    "start_time": "2022-12-31T07:01:01.310Z"
   },
   {
    "duration": 344,
    "start_time": "2022-12-31T07:01:01.360Z"
   },
   {
    "duration": 128,
    "start_time": "2022-12-31T07:01:01.706Z"
   },
   {
    "duration": 13,
    "start_time": "2022-12-31T07:01:01.836Z"
   },
   {
    "duration": 43,
    "start_time": "2022-12-31T07:01:01.851Z"
   },
   {
    "duration": 54,
    "start_time": "2022-12-31T07:01:01.896Z"
   },
   {
    "duration": 338,
    "start_time": "2022-12-31T07:01:01.952Z"
   },
   {
    "duration": 138,
    "start_time": "2022-12-31T07:01:02.292Z"
   },
   {
    "duration": 13,
    "start_time": "2022-12-31T07:01:02.431Z"
   },
   {
    "duration": 40,
    "start_time": "2022-12-31T07:01:02.446Z"
   },
   {
    "duration": 52,
    "start_time": "2022-12-31T07:01:02.488Z"
   },
   {
    "duration": 334,
    "start_time": "2022-12-31T07:01:02.542Z"
   },
   {
    "duration": 4,
    "start_time": "2022-12-31T07:01:02.877Z"
   },
   {
    "duration": 451,
    "start_time": "2022-12-31T07:01:02.882Z"
   },
   {
    "duration": 6,
    "start_time": "2022-12-31T07:01:03.422Z"
   },
   {
    "duration": 116,
    "start_time": "2022-12-31T07:01:03.430Z"
   },
   {
    "duration": 15,
    "start_time": "2022-12-31T07:01:03.548Z"
   },
   {
    "duration": 34,
    "start_time": "2022-12-31T07:01:03.564Z"
   },
   {
    "duration": 146,
    "start_time": "2022-12-31T07:01:03.600Z"
   },
   {
    "duration": 4,
    "start_time": "2022-12-31T07:01:03.747Z"
   },
   {
    "duration": 16,
    "start_time": "2022-12-31T07:01:03.752Z"
   },
   {
    "duration": 1663,
    "start_time": "2022-12-31T07:01:03.770Z"
   },
   {
    "duration": 5,
    "start_time": "2022-12-31T07:01:05.434Z"
   },
   {
    "duration": 82,
    "start_time": "2022-12-31T07:01:05.441Z"
   },
   {
    "duration": 5,
    "start_time": "2022-12-31T07:01:05.525Z"
   },
   {
    "duration": 22,
    "start_time": "2022-12-31T07:01:05.532Z"
   },
   {
    "duration": 119,
    "start_time": "2022-12-31T07:01:05.556Z"
   },
   {
    "duration": 3,
    "start_time": "2022-12-31T07:02:55.378Z"
   },
   {
    "duration": 3,
    "start_time": "2022-12-31T07:02:56.581Z"
   },
   {
    "duration": 4,
    "start_time": "2022-12-31T07:02:57.442Z"
   },
   {
    "duration": 3,
    "start_time": "2022-12-31T07:03:22.166Z"
   },
   {
    "duration": 4,
    "start_time": "2022-12-31T07:03:32.843Z"
   },
   {
    "duration": 14,
    "start_time": "2022-12-31T07:03:33.396Z"
   },
   {
    "duration": 3,
    "start_time": "2022-12-31T07:03:36.249Z"
   },
   {
    "duration": 5,
    "start_time": "2022-12-31T07:03:36.702Z"
   },
   {
    "duration": 1592,
    "start_time": "2022-12-31T07:03:38.963Z"
   },
   {
    "duration": 6,
    "start_time": "2022-12-31T07:03:50.992Z"
   },
   {
    "duration": 1585,
    "start_time": "2022-12-31T07:03:51.816Z"
   },
   {
    "duration": 1296,
    "start_time": "2022-12-31T07:08:41.593Z"
   },
   {
    "duration": 160,
    "start_time": "2022-12-31T07:08:42.890Z"
   },
   {
    "duration": 15,
    "start_time": "2022-12-31T07:08:43.052Z"
   },
   {
    "duration": 53,
    "start_time": "2022-12-31T07:08:43.069Z"
   },
   {
    "duration": 41,
    "start_time": "2022-12-31T07:08:43.123Z"
   },
   {
    "duration": 312,
    "start_time": "2022-12-31T07:08:43.165Z"
   },
   {
    "duration": 122,
    "start_time": "2022-12-31T07:08:43.478Z"
   },
   {
    "duration": 14,
    "start_time": "2022-12-31T07:08:43.602Z"
   },
   {
    "duration": 41,
    "start_time": "2022-12-31T07:08:43.621Z"
   },
   {
    "duration": 41,
    "start_time": "2022-12-31T07:08:43.665Z"
   },
   {
    "duration": 323,
    "start_time": "2022-12-31T07:08:43.708Z"
   },
   {
    "duration": 133,
    "start_time": "2022-12-31T07:08:44.033Z"
   },
   {
    "duration": 13,
    "start_time": "2022-12-31T07:08:44.167Z"
   },
   {
    "duration": 46,
    "start_time": "2022-12-31T07:08:44.182Z"
   },
   {
    "duration": 39,
    "start_time": "2022-12-31T07:08:44.230Z"
   },
   {
    "duration": 307,
    "start_time": "2022-12-31T07:08:44.271Z"
   },
   {
    "duration": 4,
    "start_time": "2022-12-31T07:08:44.580Z"
   },
   {
    "duration": 557,
    "start_time": "2022-12-31T07:08:44.586Z"
   },
   {
    "duration": 77,
    "start_time": "2022-12-31T07:08:45.147Z"
   },
   {
    "duration": 103,
    "start_time": "2022-12-31T07:08:45.226Z"
   },
   {
    "duration": 10,
    "start_time": "2022-12-31T07:08:45.331Z"
   },
   {
    "duration": 16,
    "start_time": "2022-12-31T07:08:45.343Z"
   },
   {
    "duration": 36,
    "start_time": "2022-12-31T07:08:45.361Z"
   },
   {
    "duration": 4,
    "start_time": "2022-12-31T07:08:45.399Z"
   },
   {
    "duration": 12,
    "start_time": "2022-12-31T07:08:45.404Z"
   },
   {
    "duration": 1569,
    "start_time": "2022-12-31T07:08:45.417Z"
   },
   {
    "duration": 4,
    "start_time": "2022-12-31T07:08:46.988Z"
   },
   {
    "duration": 115,
    "start_time": "2022-12-31T07:08:46.995Z"
   },
   {
    "duration": 0,
    "start_time": "2022-12-31T07:08:47.112Z"
   },
   {
    "duration": 0,
    "start_time": "2022-12-31T07:08:47.113Z"
   },
   {
    "duration": 0,
    "start_time": "2022-12-31T07:08:47.120Z"
   },
   {
    "duration": 3,
    "start_time": "2022-12-31T07:12:20.478Z"
   },
   {
    "duration": 5,
    "start_time": "2022-12-31T07:12:21.605Z"
   },
   {
    "duration": 1565,
    "start_time": "2022-12-31T07:12:23.290Z"
   },
   {
    "duration": 3,
    "start_time": "2022-12-31T07:12:34.867Z"
   },
   {
    "duration": 9,
    "start_time": "2022-12-31T07:12:35.851Z"
   },
   {
    "duration": 1254,
    "start_time": "2022-12-31T07:12:46.738Z"
   },
   {
    "duration": 144,
    "start_time": "2022-12-31T07:12:47.994Z"
   },
   {
    "duration": 15,
    "start_time": "2022-12-31T07:12:48.139Z"
   },
   {
    "duration": 35,
    "start_time": "2022-12-31T07:12:48.156Z"
   },
   {
    "duration": 61,
    "start_time": "2022-12-31T07:12:48.193Z"
   },
   {
    "duration": 326,
    "start_time": "2022-12-31T07:12:48.255Z"
   },
   {
    "duration": 119,
    "start_time": "2022-12-31T07:12:48.583Z"
   },
   {
    "duration": 20,
    "start_time": "2022-12-31T07:12:48.704Z"
   },
   {
    "duration": 32,
    "start_time": "2022-12-31T07:12:48.726Z"
   },
   {
    "duration": 38,
    "start_time": "2022-12-31T07:12:48.760Z"
   },
   {
    "duration": 343,
    "start_time": "2022-12-31T07:12:48.800Z"
   },
   {
    "duration": 132,
    "start_time": "2022-12-31T07:12:49.145Z"
   },
   {
    "duration": 12,
    "start_time": "2022-12-31T07:12:49.279Z"
   },
   {
    "duration": 39,
    "start_time": "2022-12-31T07:12:49.292Z"
   },
   {
    "duration": 39,
    "start_time": "2022-12-31T07:12:49.332Z"
   },
   {
    "duration": 303,
    "start_time": "2022-12-31T07:12:49.373Z"
   },
   {
    "duration": 5,
    "start_time": "2022-12-31T07:12:49.677Z"
   },
   {
    "duration": 465,
    "start_time": "2022-12-31T07:12:49.684Z"
   },
   {
    "duration": 95,
    "start_time": "2022-12-31T07:12:50.227Z"
   },
   {
    "duration": 7,
    "start_time": "2022-12-31T07:12:50.324Z"
   },
   {
    "duration": 6,
    "start_time": "2022-12-31T07:12:50.332Z"
   },
   {
    "duration": 6,
    "start_time": "2022-12-31T07:12:50.340Z"
   },
   {
    "duration": 16,
    "start_time": "2022-12-31T07:12:50.348Z"
   },
   {
    "duration": 3,
    "start_time": "2022-12-31T07:12:50.365Z"
   },
   {
    "duration": 8,
    "start_time": "2022-12-31T07:12:50.370Z"
   },
   {
    "duration": 1579,
    "start_time": "2022-12-31T07:12:50.380Z"
   },
   {
    "duration": 4,
    "start_time": "2022-12-31T07:12:51.961Z"
   },
   {
    "duration": 116,
    "start_time": "2022-12-31T07:12:51.968Z"
   },
   {
    "duration": 0,
    "start_time": "2022-12-31T07:12:52.086Z"
   },
   {
    "duration": 0,
    "start_time": "2022-12-31T07:12:52.087Z"
   },
   {
    "duration": 0,
    "start_time": "2022-12-31T07:12:52.088Z"
   },
   {
    "duration": 24,
    "start_time": "2022-12-31T07:13:04.886Z"
   },
   {
    "duration": 1256,
    "start_time": "2022-12-31T07:13:20.205Z"
   },
   {
    "duration": 152,
    "start_time": "2022-12-31T07:13:21.463Z"
   },
   {
    "duration": 16,
    "start_time": "2022-12-31T07:13:21.617Z"
   },
   {
    "duration": 34,
    "start_time": "2022-12-31T07:13:21.636Z"
   },
   {
    "duration": 64,
    "start_time": "2022-12-31T07:13:21.671Z"
   },
   {
    "duration": 304,
    "start_time": "2022-12-31T07:13:21.737Z"
   },
   {
    "duration": 123,
    "start_time": "2022-12-31T07:13:22.043Z"
   },
   {
    "duration": 15,
    "start_time": "2022-12-31T07:13:22.168Z"
   },
   {
    "duration": 46,
    "start_time": "2022-12-31T07:13:22.185Z"
   },
   {
    "duration": 39,
    "start_time": "2022-12-31T07:13:22.234Z"
   },
   {
    "duration": 325,
    "start_time": "2022-12-31T07:13:22.275Z"
   },
   {
    "duration": 134,
    "start_time": "2022-12-31T07:13:22.602Z"
   },
   {
    "duration": 13,
    "start_time": "2022-12-31T07:13:22.737Z"
   },
   {
    "duration": 37,
    "start_time": "2022-12-31T07:13:22.751Z"
   },
   {
    "duration": 67,
    "start_time": "2022-12-31T07:13:22.790Z"
   },
   {
    "duration": 303,
    "start_time": "2022-12-31T07:13:22.859Z"
   },
   {
    "duration": 4,
    "start_time": "2022-12-31T07:13:23.164Z"
   },
   {
    "duration": 571,
    "start_time": "2022-12-31T07:13:23.170Z"
   },
   {
    "duration": 80,
    "start_time": "2022-12-31T07:13:23.743Z"
   },
   {
    "duration": 110,
    "start_time": "2022-12-31T07:13:23.826Z"
   },
   {
    "duration": 7,
    "start_time": "2022-12-31T07:13:23.938Z"
   },
   {
    "duration": 6,
    "start_time": "2022-12-31T07:13:23.947Z"
   },
   {
    "duration": 17,
    "start_time": "2022-12-31T07:13:23.954Z"
   },
   {
    "duration": 4,
    "start_time": "2022-12-31T07:13:23.972Z"
   },
   {
    "duration": 12,
    "start_time": "2022-12-31T07:13:23.977Z"
   },
   {
    "duration": 4626,
    "start_time": "2022-12-31T07:13:23.990Z"
   },
   {
    "duration": 5,
    "start_time": "2022-12-31T07:13:28.620Z"
   },
   {
    "duration": 118,
    "start_time": "2022-12-31T07:13:28.628Z"
   },
   {
    "duration": 0,
    "start_time": "2022-12-31T07:13:28.748Z"
   },
   {
    "duration": 0,
    "start_time": "2022-12-31T07:13:28.749Z"
   },
   {
    "duration": 0,
    "start_time": "2022-12-31T07:13:28.751Z"
   },
   {
    "duration": 1222,
    "start_time": "2022-12-31T07:14:55.757Z"
   },
   {
    "duration": 157,
    "start_time": "2022-12-31T07:14:56.981Z"
   },
   {
    "duration": 15,
    "start_time": "2022-12-31T07:14:57.140Z"
   },
   {
    "duration": 49,
    "start_time": "2022-12-31T07:14:57.157Z"
   },
   {
    "duration": 56,
    "start_time": "2022-12-31T07:14:57.208Z"
   },
   {
    "duration": 383,
    "start_time": "2022-12-31T07:14:57.266Z"
   },
   {
    "duration": 128,
    "start_time": "2022-12-31T07:14:57.650Z"
   },
   {
    "duration": 12,
    "start_time": "2022-12-31T07:14:57.780Z"
   },
   {
    "duration": 42,
    "start_time": "2022-12-31T07:14:57.794Z"
   },
   {
    "duration": 38,
    "start_time": "2022-12-31T07:14:57.839Z"
   },
   {
    "duration": 324,
    "start_time": "2022-12-31T07:14:57.879Z"
   },
   {
    "duration": 145,
    "start_time": "2022-12-31T07:14:58.204Z"
   },
   {
    "duration": 16,
    "start_time": "2022-12-31T07:14:58.351Z"
   },
   {
    "duration": 41,
    "start_time": "2022-12-31T07:14:58.369Z"
   },
   {
    "duration": 47,
    "start_time": "2022-12-31T07:14:58.421Z"
   },
   {
    "duration": 364,
    "start_time": "2022-12-31T07:14:58.470Z"
   },
   {
    "duration": 5,
    "start_time": "2022-12-31T07:14:58.836Z"
   },
   {
    "duration": 504,
    "start_time": "2022-12-31T07:14:58.842Z"
   },
   {
    "duration": 75,
    "start_time": "2022-12-31T07:14:59.348Z"
   },
   {
    "duration": 97,
    "start_time": "2022-12-31T07:14:59.426Z"
   },
   {
    "duration": 22,
    "start_time": "2022-12-31T07:14:59.526Z"
   },
   {
    "duration": 17,
    "start_time": "2022-12-31T07:14:59.550Z"
   },
   {
    "duration": 23,
    "start_time": "2022-12-31T07:14:59.569Z"
   },
   {
    "duration": 3,
    "start_time": "2022-12-31T07:14:59.594Z"
   },
   {
    "duration": 5,
    "start_time": "2022-12-31T07:14:59.599Z"
   },
   {
    "duration": 4758,
    "start_time": "2022-12-31T07:14:59.605Z"
   },
   {
    "duration": 4,
    "start_time": "2022-12-31T07:15:04.365Z"
   },
   {
    "duration": 142,
    "start_time": "2022-12-31T07:15:04.373Z"
   },
   {
    "duration": 0,
    "start_time": "2022-12-31T07:15:04.517Z"
   },
   {
    "duration": 0,
    "start_time": "2022-12-31T07:15:04.518Z"
   },
   {
    "duration": 0,
    "start_time": "2022-12-31T07:15:04.519Z"
   },
   {
    "duration": 5,
    "start_time": "2022-12-31T07:17:37.591Z"
   },
   {
    "duration": 24,
    "start_time": "2022-12-31T07:17:40.540Z"
   },
   {
    "duration": 1211,
    "start_time": "2022-12-31T07:18:53.754Z"
   },
   {
    "duration": 139,
    "start_time": "2022-12-31T07:18:54.966Z"
   },
   {
    "duration": 16,
    "start_time": "2022-12-31T07:18:55.106Z"
   },
   {
    "duration": 38,
    "start_time": "2022-12-31T07:18:55.123Z"
   },
   {
    "duration": 68,
    "start_time": "2022-12-31T07:18:55.165Z"
   },
   {
    "duration": 346,
    "start_time": "2022-12-31T07:18:55.235Z"
   },
   {
    "duration": 125,
    "start_time": "2022-12-31T07:18:55.582Z"
   },
   {
    "duration": 16,
    "start_time": "2022-12-31T07:18:55.708Z"
   },
   {
    "duration": 32,
    "start_time": "2022-12-31T07:18:55.726Z"
   },
   {
    "duration": 40,
    "start_time": "2022-12-31T07:18:55.760Z"
   },
   {
    "duration": 331,
    "start_time": "2022-12-31T07:18:55.801Z"
   },
   {
    "duration": 132,
    "start_time": "2022-12-31T07:18:56.133Z"
   },
   {
    "duration": 12,
    "start_time": "2022-12-31T07:18:56.266Z"
   },
   {
    "duration": 46,
    "start_time": "2022-12-31T07:18:56.280Z"
   },
   {
    "duration": 40,
    "start_time": "2022-12-31T07:18:56.327Z"
   },
   {
    "duration": 316,
    "start_time": "2022-12-31T07:18:56.368Z"
   },
   {
    "duration": 4,
    "start_time": "2022-12-31T07:18:56.686Z"
   },
   {
    "duration": 547,
    "start_time": "2022-12-31T07:18:56.691Z"
   },
   {
    "duration": 82,
    "start_time": "2022-12-31T07:18:57.240Z"
   },
   {
    "duration": 104,
    "start_time": "2022-12-31T07:18:57.324Z"
   },
   {
    "duration": 8,
    "start_time": "2022-12-31T07:18:57.430Z"
   },
   {
    "duration": 11,
    "start_time": "2022-12-31T07:18:57.440Z"
   },
   {
    "duration": 15,
    "start_time": "2022-12-31T07:18:57.453Z"
   },
   {
    "duration": 4,
    "start_time": "2022-12-31T07:18:57.469Z"
   },
   {
    "duration": 15,
    "start_time": "2022-12-31T07:18:57.474Z"
   },
   {
    "duration": 4730,
    "start_time": "2022-12-31T07:18:57.490Z"
   },
   {
    "duration": 4,
    "start_time": "2022-12-31T07:20:33.421Z"
   },
   {
    "duration": 4699,
    "start_time": "2022-12-31T07:20:34.326Z"
   },
   {
    "duration": 46,
    "start_time": "2022-12-31T07:22:54.071Z"
   },
   {
    "duration": 5,
    "start_time": "2022-12-31T07:24:06.472Z"
   },
   {
    "duration": 4662,
    "start_time": "2022-12-31T07:24:07.616Z"
   },
   {
    "duration": 5,
    "start_time": "2022-12-31T07:25:35.917Z"
   },
   {
    "duration": 4542,
    "start_time": "2022-12-31T07:25:36.838Z"
   },
   {
    "duration": 5,
    "start_time": "2022-12-31T07:27:36.353Z"
   },
   {
    "duration": 1618,
    "start_time": "2022-12-31T07:27:38.288Z"
   },
   {
    "duration": 5,
    "start_time": "2022-12-31T07:27:58.562Z"
   },
   {
    "duration": 4659,
    "start_time": "2022-12-31T07:28:00.954Z"
   },
   {
    "duration": 5,
    "start_time": "2022-12-31T07:28:30.833Z"
   },
   {
    "duration": 4693,
    "start_time": "2022-12-31T07:28:31.742Z"
   },
   {
    "duration": 1515,
    "start_time": "2022-12-31T10:41:34.067Z"
   },
   {
    "duration": 815,
    "start_time": "2022-12-31T10:41:35.584Z"
   },
   {
    "duration": 17,
    "start_time": "2022-12-31T10:41:36.400Z"
   },
   {
    "duration": 45,
    "start_time": "2022-12-31T10:41:36.420Z"
   },
   {
    "duration": 49,
    "start_time": "2022-12-31T10:41:36.466Z"
   },
   {
    "duration": 385,
    "start_time": "2022-12-31T10:41:36.517Z"
   },
   {
    "duration": 939,
    "start_time": "2022-12-31T10:41:36.904Z"
   },
   {
    "duration": 16,
    "start_time": "2022-12-31T10:41:37.845Z"
   },
   {
    "duration": 39,
    "start_time": "2022-12-31T10:41:37.863Z"
   },
   {
    "duration": 64,
    "start_time": "2022-12-31T10:41:37.906Z"
   },
   {
    "duration": 365,
    "start_time": "2022-12-31T10:41:37.971Z"
   },
   {
    "duration": 558,
    "start_time": "2022-12-31T10:41:38.338Z"
   },
   {
    "duration": 15,
    "start_time": "2022-12-31T10:41:38.897Z"
   },
   {
    "duration": 40,
    "start_time": "2022-12-31T10:41:38.913Z"
   },
   {
    "duration": 49,
    "start_time": "2022-12-31T10:41:38.955Z"
   },
   {
    "duration": 388,
    "start_time": "2022-12-31T10:41:39.007Z"
   },
   {
    "duration": 6,
    "start_time": "2022-12-31T10:41:39.396Z"
   },
   {
    "duration": 563,
    "start_time": "2022-12-31T10:41:39.404Z"
   },
   {
    "duration": 86,
    "start_time": "2022-12-31T10:41:39.969Z"
   },
   {
    "duration": 36,
    "start_time": "2022-12-31T10:41:40.150Z"
   },
   {
    "duration": 8,
    "start_time": "2022-12-31T10:41:40.188Z"
   },
   {
    "duration": 5,
    "start_time": "2022-12-31T10:41:40.198Z"
   },
   {
    "duration": 20,
    "start_time": "2022-12-31T10:41:40.204Z"
   },
   {
    "duration": 4,
    "start_time": "2022-12-31T10:41:40.225Z"
   },
   {
    "duration": 12,
    "start_time": "2022-12-31T10:41:40.230Z"
   },
   {
    "duration": 5272,
    "start_time": "2022-12-31T10:41:40.244Z"
   },
   {
    "duration": 5,
    "start_time": "2022-12-31T10:42:41.235Z"
   },
   {
    "duration": 1864,
    "start_time": "2022-12-31T10:42:42.616Z"
   },
   {
    "duration": 6,
    "start_time": "2022-12-31T10:42:58.324Z"
   },
   {
    "duration": 5625,
    "start_time": "2022-12-31T10:42:59.572Z"
   },
   {
    "duration": 5,
    "start_time": "2022-12-31T10:43:15.605Z"
   },
   {
    "duration": 5284,
    "start_time": "2022-12-31T10:43:21.587Z"
   },
   {
    "duration": 5,
    "start_time": "2022-12-31T10:45:07.977Z"
   },
   {
    "duration": 5676,
    "start_time": "2022-12-31T10:45:09.053Z"
   },
   {
    "duration": 7,
    "start_time": "2022-12-31T10:45:17.354Z"
   },
   {
    "duration": 5432,
    "start_time": "2022-12-31T10:45:18.555Z"
   },
   {
    "duration": 9,
    "start_time": "2022-12-31T10:45:53.590Z"
   },
   {
    "duration": 10,
    "start_time": "2022-12-31T10:48:52.279Z"
   },
   {
    "duration": 6,
    "start_time": "2022-12-31T10:49:16.806Z"
   },
   {
    "duration": 5587,
    "start_time": "2022-12-31T10:49:17.551Z"
   },
   {
    "duration": 6,
    "start_time": "2022-12-31T10:49:33.988Z"
   },
   {
    "duration": 5389,
    "start_time": "2022-12-31T10:49:35.361Z"
   },
   {
    "duration": 6,
    "start_time": "2022-12-31T10:53:11.364Z"
   },
   {
    "duration": 5496,
    "start_time": "2022-12-31T10:53:13.862Z"
   },
   {
    "duration": 6,
    "start_time": "2022-12-31T10:55:05.606Z"
   },
   {
    "duration": 5489,
    "start_time": "2022-12-31T10:55:06.612Z"
   },
   {
    "duration": 1472,
    "start_time": "2022-12-31T10:57:29.140Z"
   },
   {
    "duration": 172,
    "start_time": "2022-12-31T10:57:30.614Z"
   },
   {
    "duration": 17,
    "start_time": "2022-12-31T10:57:30.788Z"
   },
   {
    "duration": 58,
    "start_time": "2022-12-31T10:57:30.807Z"
   },
   {
    "duration": 51,
    "start_time": "2022-12-31T10:57:30.868Z"
   },
   {
    "duration": 366,
    "start_time": "2022-12-31T10:57:30.921Z"
   },
   {
    "duration": 138,
    "start_time": "2022-12-31T10:57:31.289Z"
   },
   {
    "duration": 23,
    "start_time": "2022-12-31T10:57:31.428Z"
   },
   {
    "duration": 38,
    "start_time": "2022-12-31T10:57:31.452Z"
   },
   {
    "duration": 70,
    "start_time": "2022-12-31T10:57:31.492Z"
   },
   {
    "duration": 372,
    "start_time": "2022-12-31T10:57:31.563Z"
   },
   {
    "duration": 163,
    "start_time": "2022-12-31T10:57:31.936Z"
   },
   {
    "duration": 16,
    "start_time": "2022-12-31T10:57:32.101Z"
   },
   {
    "duration": 56,
    "start_time": "2022-12-31T10:57:32.121Z"
   },
   {
    "duration": 48,
    "start_time": "2022-12-31T10:57:32.179Z"
   },
   {
    "duration": 369,
    "start_time": "2022-12-31T10:57:32.229Z"
   },
   {
    "duration": 5,
    "start_time": "2022-12-31T10:57:32.599Z"
   },
   {
    "duration": 566,
    "start_time": "2022-12-31T10:57:32.606Z"
   },
   {
    "duration": 78,
    "start_time": "2022-12-31T10:57:33.175Z"
   },
   {
    "duration": 105,
    "start_time": "2022-12-31T10:57:33.256Z"
   },
   {
    "duration": 39,
    "start_time": "2022-12-31T10:57:33.363Z"
   },
   {
    "duration": 32,
    "start_time": "2022-12-31T10:57:33.404Z"
   },
   {
    "duration": 32,
    "start_time": "2022-12-31T10:57:33.438Z"
   },
   {
    "duration": 4,
    "start_time": "2022-12-31T10:57:33.471Z"
   },
   {
    "duration": 17,
    "start_time": "2022-12-31T10:57:33.476Z"
   },
   {
    "duration": 5357,
    "start_time": "2022-12-31T10:57:33.494Z"
   },
   {
    "duration": 6,
    "start_time": "2022-12-31T11:03:00.758Z"
   },
   {
    "duration": 5314,
    "start_time": "2022-12-31T11:03:01.578Z"
   },
   {
    "duration": 7,
    "start_time": "2022-12-31T11:03:29.134Z"
   },
   {
    "duration": 5494,
    "start_time": "2022-12-31T11:03:29.746Z"
   },
   {
    "duration": 6,
    "start_time": "2022-12-31T11:05:22.610Z"
   },
   {
    "duration": 4711,
    "start_time": "2022-12-31T11:05:24.641Z"
   },
   {
    "duration": 7,
    "start_time": "2022-12-31T11:05:47.354Z"
   },
   {
    "duration": 4789,
    "start_time": "2022-12-31T11:05:48.356Z"
   },
   {
    "duration": 6,
    "start_time": "2022-12-31T11:06:14.371Z"
   },
   {
    "duration": 4642,
    "start_time": "2022-12-31T11:06:20.666Z"
   },
   {
    "duration": 79,
    "start_time": "2022-12-31T11:06:32.206Z"
   },
   {
    "duration": 6,
    "start_time": "2022-12-31T11:06:37.311Z"
   },
   {
    "duration": 4900,
    "start_time": "2022-12-31T11:06:38.365Z"
   },
   {
    "duration": 6,
    "start_time": "2022-12-31T11:06:51.816Z"
   },
   {
    "duration": 4653,
    "start_time": "2022-12-31T11:06:52.924Z"
   },
   {
    "duration": 5,
    "start_time": "2022-12-31T11:08:41.844Z"
   },
   {
    "duration": 4710,
    "start_time": "2022-12-31T11:08:42.851Z"
   },
   {
    "duration": 6,
    "start_time": "2022-12-31T11:10:33.207Z"
   },
   {
    "duration": 4641,
    "start_time": "2022-12-31T11:10:34.293Z"
   },
   {
    "duration": 6,
    "start_time": "2022-12-31T11:11:01.814Z"
   },
   {
    "duration": 4699,
    "start_time": "2022-12-31T11:11:02.666Z"
   },
   {
    "duration": 7,
    "start_time": "2022-12-31T11:11:11.829Z"
   },
   {
    "duration": 4906,
    "start_time": "2022-12-31T11:11:15.101Z"
   },
   {
    "duration": 1485,
    "start_time": "2023-01-02T08:31:39.110Z"
   },
   {
    "duration": 403,
    "start_time": "2023-01-02T08:31:40.599Z"
   },
   {
    "duration": 16,
    "start_time": "2023-01-02T08:31:41.004Z"
   },
   {
    "duration": 37,
    "start_time": "2023-01-02T08:31:41.022Z"
   },
   {
    "duration": 59,
    "start_time": "2023-01-02T08:31:41.061Z"
   },
   {
    "duration": 342,
    "start_time": "2023-01-02T08:31:41.122Z"
   },
   {
    "duration": 193,
    "start_time": "2023-01-02T08:31:41.465Z"
   },
   {
    "duration": 12,
    "start_time": "2023-01-02T08:31:41.660Z"
   },
   {
    "duration": 38,
    "start_time": "2023-01-02T08:31:41.674Z"
   },
   {
    "duration": 39,
    "start_time": "2023-01-02T08:31:41.714Z"
   },
   {
    "duration": 365,
    "start_time": "2023-01-02T08:31:41.755Z"
   },
   {
    "duration": 220,
    "start_time": "2023-01-02T08:31:42.121Z"
   },
   {
    "duration": 15,
    "start_time": "2023-01-02T08:31:42.342Z"
   },
   {
    "duration": 32,
    "start_time": "2023-01-02T08:31:42.359Z"
   },
   {
    "duration": 44,
    "start_time": "2023-01-02T08:31:42.400Z"
   },
   {
    "duration": 342,
    "start_time": "2023-01-02T08:31:42.445Z"
   },
   {
    "duration": 18,
    "start_time": "2023-01-02T08:31:42.789Z"
   },
   {
    "duration": 589,
    "start_time": "2023-01-02T08:31:42.808Z"
   },
   {
    "duration": 5,
    "start_time": "2023-01-02T08:31:43.399Z"
   },
   {
    "duration": 122,
    "start_time": "2023-01-02T08:31:43.405Z"
   },
   {
    "duration": 9,
    "start_time": "2023-01-02T08:31:43.529Z"
   },
   {
    "duration": 8,
    "start_time": "2023-01-02T08:31:43.539Z"
   },
   {
    "duration": 17,
    "start_time": "2023-01-02T08:31:43.549Z"
   },
   {
    "duration": 3,
    "start_time": "2023-01-02T08:31:43.568Z"
   },
   {
    "duration": 10,
    "start_time": "2023-01-02T08:31:43.573Z"
   },
   {
    "duration": 4487,
    "start_time": "2023-01-02T08:31:43.585Z"
   },
   {
    "duration": 14,
    "start_time": "2023-01-02T08:33:17.793Z"
   },
   {
    "duration": 4416,
    "start_time": "2023-01-02T08:33:18.935Z"
   },
   {
    "duration": 6,
    "start_time": "2023-01-02T08:34:17.847Z"
   },
   {
    "duration": 4497,
    "start_time": "2023-01-02T08:34:18.617Z"
   },
   {
    "duration": 4280,
    "start_time": "2023-01-02T08:44:20.546Z"
   },
   {
    "duration": 4110,
    "start_time": "2023-01-02T08:44:29.423Z"
   },
   {
    "duration": 1359,
    "start_time": "2023-01-03T16:10:37.874Z"
   },
   {
    "duration": 360,
    "start_time": "2023-01-03T16:10:39.235Z"
   },
   {
    "duration": 13,
    "start_time": "2023-01-03T16:10:39.597Z"
   },
   {
    "duration": 35,
    "start_time": "2023-01-03T16:10:39.611Z"
   },
   {
    "duration": 39,
    "start_time": "2023-01-03T16:10:39.648Z"
   },
   {
    "duration": 310,
    "start_time": "2023-01-03T16:10:39.689Z"
   },
   {
    "duration": 183,
    "start_time": "2023-01-03T16:10:40.000Z"
   },
   {
    "duration": 15,
    "start_time": "2023-01-03T16:10:40.184Z"
   },
   {
    "duration": 33,
    "start_time": "2023-01-03T16:10:40.201Z"
   },
   {
    "duration": 38,
    "start_time": "2023-01-03T16:10:40.236Z"
   },
   {
    "duration": 341,
    "start_time": "2023-01-03T16:10:40.276Z"
   },
   {
    "duration": 191,
    "start_time": "2023-01-03T16:10:40.618Z"
   },
   {
    "duration": 12,
    "start_time": "2023-01-03T16:10:40.811Z"
   },
   {
    "duration": 31,
    "start_time": "2023-01-03T16:10:40.826Z"
   },
   {
    "duration": 39,
    "start_time": "2023-01-03T16:10:40.859Z"
   },
   {
    "duration": 301,
    "start_time": "2023-01-03T16:10:40.900Z"
   },
   {
    "duration": 4,
    "start_time": "2023-01-03T16:10:41.202Z"
   },
   {
    "duration": 525,
    "start_time": "2023-01-03T16:10:41.208Z"
   },
   {
    "duration": 89,
    "start_time": "2023-01-03T16:10:41.735Z"
   },
   {
    "duration": 96,
    "start_time": "2023-01-03T16:10:41.832Z"
   },
   {
    "duration": 7,
    "start_time": "2023-01-03T16:10:41.929Z"
   },
   {
    "duration": 8,
    "start_time": "2023-01-03T16:10:41.937Z"
   },
   {
    "duration": 16,
    "start_time": "2023-01-03T16:10:41.946Z"
   },
   {
    "duration": 3,
    "start_time": "2023-01-03T16:10:41.963Z"
   },
   {
    "duration": 9,
    "start_time": "2023-01-03T16:10:41.968Z"
   },
   {
    "duration": 3987,
    "start_time": "2023-01-03T16:10:41.978Z"
   },
   {
    "duration": 3913,
    "start_time": "2023-01-03T16:11:26.696Z"
   },
   {
    "duration": 3,
    "start_time": "2023-01-03T16:11:39.498Z"
   },
   {
    "duration": 5,
    "start_time": "2023-01-03T16:11:40.352Z"
   },
   {
    "duration": 3,
    "start_time": "2023-01-03T16:14:48.512Z"
   },
   {
    "duration": 3,
    "start_time": "2023-01-03T16:14:51.993Z"
   },
   {
    "duration": 17,
    "start_time": "2023-01-03T16:14:51.998Z"
   },
   {
    "duration": 3,
    "start_time": "2023-01-03T16:14:53.368Z"
   },
   {
    "duration": 4,
    "start_time": "2023-01-03T16:14:54.042Z"
   },
   {
    "duration": 5059,
    "start_time": "2023-01-03T16:14:56.502Z"
   },
   {
    "duration": 3,
    "start_time": "2023-01-03T16:15:26.743Z"
   },
   {
    "duration": 4,
    "start_time": "2023-01-03T16:15:27.398Z"
   },
   {
    "duration": 6741,
    "start_time": "2023-01-03T16:15:28.129Z"
   },
   {
    "duration": 3,
    "start_time": "2023-01-03T16:15:56.050Z"
   },
   {
    "duration": 6,
    "start_time": "2023-01-03T16:15:58.033Z"
   },
   {
    "duration": 10604,
    "start_time": "2023-01-03T16:15:59.286Z"
   },
   {
    "duration": 3,
    "start_time": "2023-01-03T16:16:12.769Z"
   },
   {
    "duration": 5,
    "start_time": "2023-01-03T16:16:13.596Z"
   },
   {
    "duration": 109,
    "start_time": "2023-01-03T16:16:14.766Z"
   },
   {
    "duration": 3,
    "start_time": "2023-01-03T16:16:36.608Z"
   },
   {
    "duration": 5,
    "start_time": "2023-01-03T16:16:37.533Z"
   },
   {
    "duration": 23,
    "start_time": "2023-01-03T16:16:38.591Z"
   },
   {
    "duration": 4,
    "start_time": "2023-01-03T16:17:01.078Z"
   },
   {
    "duration": 5,
    "start_time": "2023-01-03T16:17:02.305Z"
   },
   {
    "duration": 6458,
    "start_time": "2023-01-03T16:17:03.097Z"
   },
   {
    "duration": 4,
    "start_time": "2023-01-03T16:18:12.601Z"
   },
   {
    "duration": 9,
    "start_time": "2023-01-03T16:18:51.125Z"
   },
   {
    "duration": 7,
    "start_time": "2023-01-03T16:18:54.526Z"
   },
   {
    "duration": 10,
    "start_time": "2023-01-03T16:19:13.963Z"
   },
   {
    "duration": 4,
    "start_time": "2023-01-03T16:19:20.143Z"
   },
   {
    "duration": 5,
    "start_time": "2023-01-03T16:19:24.856Z"
   },
   {
    "duration": 11,
    "start_time": "2023-01-03T16:19:52.589Z"
   },
   {
    "duration": 14,
    "start_time": "2023-01-03T16:19:58.202Z"
   },
   {
    "duration": 6,
    "start_time": "2023-01-03T16:20:18.158Z"
   },
   {
    "duration": 6,
    "start_time": "2023-01-03T16:20:19.362Z"
   },
   {
    "duration": 14,
    "start_time": "2023-01-03T16:20:21.222Z"
   },
   {
    "duration": 7,
    "start_time": "2023-01-03T16:20:26.586Z"
   },
   {
    "duration": 6,
    "start_time": "2023-01-03T16:20:27.382Z"
   },
   {
    "duration": 5,
    "start_time": "2023-01-03T16:20:29.982Z"
   },
   {
    "duration": 5,
    "start_time": "2023-01-03T16:20:35.090Z"
   },
   {
    "duration": 6,
    "start_time": "2023-01-03T16:20:46.083Z"
   },
   {
    "duration": 5,
    "start_time": "2023-01-03T16:20:53.833Z"
   },
   {
    "duration": 4,
    "start_time": "2023-01-03T16:22:58.987Z"
   },
   {
    "duration": 10,
    "start_time": "2023-01-03T16:24:14.542Z"
   },
   {
    "duration": 5,
    "start_time": "2023-01-03T16:24:18.495Z"
   },
   {
    "duration": 8,
    "start_time": "2023-01-03T16:24:53.293Z"
   },
   {
    "duration": 8,
    "start_time": "2023-01-03T16:25:07.308Z"
   },
   {
    "duration": 10,
    "start_time": "2023-01-03T16:26:19.353Z"
   },
   {
    "duration": 8,
    "start_time": "2023-01-03T16:27:32.407Z"
   },
   {
    "duration": 1461,
    "start_time": "2023-01-03T16:32:00.981Z"
   },
   {
    "duration": 154,
    "start_time": "2023-01-03T16:32:02.444Z"
   },
   {
    "duration": 14,
    "start_time": "2023-01-03T16:32:02.600Z"
   },
   {
    "duration": 53,
    "start_time": "2023-01-03T16:32:02.616Z"
   },
   {
    "duration": 65,
    "start_time": "2023-01-03T16:32:02.670Z"
   },
   {
    "duration": 360,
    "start_time": "2023-01-03T16:32:02.737Z"
   },
   {
    "duration": 131,
    "start_time": "2023-01-03T16:32:03.098Z"
   },
   {
    "duration": 14,
    "start_time": "2023-01-03T16:32:03.230Z"
   },
   {
    "duration": 40,
    "start_time": "2023-01-03T16:32:03.246Z"
   },
   {
    "duration": 41,
    "start_time": "2023-01-03T16:32:03.288Z"
   },
   {
    "duration": 335,
    "start_time": "2023-01-03T16:32:03.331Z"
   },
   {
    "duration": 136,
    "start_time": "2023-01-03T16:32:03.668Z"
   },
   {
    "duration": 16,
    "start_time": "2023-01-03T16:32:03.805Z"
   },
   {
    "duration": 33,
    "start_time": "2023-01-03T16:32:03.822Z"
   },
   {
    "duration": 41,
    "start_time": "2023-01-03T16:32:03.857Z"
   },
   {
    "duration": 335,
    "start_time": "2023-01-03T16:32:03.900Z"
   },
   {
    "duration": 5,
    "start_time": "2023-01-03T16:32:04.237Z"
   },
   {
    "duration": 493,
    "start_time": "2023-01-03T16:32:04.243Z"
   },
   {
    "duration": 83,
    "start_time": "2023-01-03T16:32:04.739Z"
   },
   {
    "duration": 100,
    "start_time": "2023-01-03T16:32:04.825Z"
   },
   {
    "duration": 9,
    "start_time": "2023-01-03T16:32:04.926Z"
   },
   {
    "duration": 12,
    "start_time": "2023-01-03T16:32:04.936Z"
   },
   {
    "duration": 30,
    "start_time": "2023-01-03T16:32:04.950Z"
   },
   {
    "duration": 3,
    "start_time": "2023-01-03T16:32:04.982Z"
   },
   {
    "duration": 9,
    "start_time": "2023-01-03T16:32:04.986Z"
   },
   {
    "duration": 10,
    "start_time": "2023-01-03T16:32:04.997Z"
   },
   {
    "duration": 8,
    "start_time": "2023-01-03T16:32:05.009Z"
   },
   {
    "duration": 8,
    "start_time": "2023-01-03T16:32:05.022Z"
   },
   {
    "duration": 4468,
    "start_time": "2023-01-03T16:32:05.032Z"
   },
   {
    "duration": 1412,
    "start_time": "2023-01-03T17:41:52.110Z"
   },
   {
    "duration": 354,
    "start_time": "2023-01-03T17:41:53.524Z"
   },
   {
    "duration": 15,
    "start_time": "2023-01-03T17:41:53.880Z"
   },
   {
    "duration": 35,
    "start_time": "2023-01-03T17:41:53.897Z"
   },
   {
    "duration": 42,
    "start_time": "2023-01-03T17:41:53.934Z"
   },
   {
    "duration": 326,
    "start_time": "2023-01-03T17:41:53.977Z"
   },
   {
    "duration": 184,
    "start_time": "2023-01-03T17:41:54.304Z"
   },
   {
    "duration": 13,
    "start_time": "2023-01-03T17:41:54.490Z"
   },
   {
    "duration": 31,
    "start_time": "2023-01-03T17:41:54.505Z"
   },
   {
    "duration": 43,
    "start_time": "2023-01-03T17:41:55.198Z"
   },
   {
    "duration": 299,
    "start_time": "2023-01-03T17:41:55.404Z"
   },
   {
    "duration": 194,
    "start_time": "2023-01-03T17:41:55.748Z"
   },
   {
    "duration": 13,
    "start_time": "2023-01-03T17:41:55.944Z"
   },
   {
    "duration": 34,
    "start_time": "2023-01-03T17:41:56.119Z"
   },
   {
    "duration": 51,
    "start_time": "2023-01-03T17:41:56.284Z"
   },
   {
    "duration": 342,
    "start_time": "2023-01-03T17:41:56.470Z"
   },
   {
    "duration": 7,
    "start_time": "2023-01-03T17:41:57.440Z"
   },
   {
    "duration": 613,
    "start_time": "2023-01-03T17:41:58.315Z"
   },
   {
    "duration": 82,
    "start_time": "2023-01-03T17:41:58.931Z"
   },
   {
    "duration": 3,
    "start_time": "2023-01-03T17:42:00.709Z"
   },
   {
    "duration": 4,
    "start_time": "2023-01-03T17:42:01.223Z"
   },
   {
    "duration": 3,
    "start_time": "2023-01-03T17:42:02.571Z"
   },
   {
    "duration": 13,
    "start_time": "2023-01-03T17:42:03.539Z"
   },
   {
    "duration": 3,
    "start_time": "2023-01-03T17:42:04.251Z"
   },
   {
    "duration": 5,
    "start_time": "2023-01-03T17:42:07.350Z"
   },
   {
    "duration": 11,
    "start_time": "2023-01-03T17:42:09.907Z"
   },
   {
    "duration": 9,
    "start_time": "2023-01-03T17:42:16.931Z"
   },
   {
    "duration": 6,
    "start_time": "2023-01-03T17:42:25.566Z"
   },
   {
    "duration": 4588,
    "start_time": "2023-01-03T17:42:29.034Z"
   },
   {
    "duration": 5,
    "start_time": "2023-01-03T17:43:40.820Z"
   },
   {
    "duration": 4953,
    "start_time": "2023-01-03T17:43:42.219Z"
   },
   {
    "duration": 1309,
    "start_time": "2023-01-03T17:49:18.475Z"
   },
   {
    "duration": 138,
    "start_time": "2023-01-03T17:49:19.786Z"
   },
   {
    "duration": 15,
    "start_time": "2023-01-03T17:49:19.926Z"
   },
   {
    "duration": 34,
    "start_time": "2023-01-03T17:49:19.943Z"
   },
   {
    "duration": 67,
    "start_time": "2023-01-03T17:49:19.980Z"
   },
   {
    "duration": 328,
    "start_time": "2023-01-03T17:49:20.050Z"
   },
   {
    "duration": 125,
    "start_time": "2023-01-03T17:49:20.380Z"
   },
   {
    "duration": 15,
    "start_time": "2023-01-03T17:49:20.506Z"
   },
   {
    "duration": 43,
    "start_time": "2023-01-03T17:49:20.523Z"
   },
   {
    "duration": 48,
    "start_time": "2023-01-03T17:49:20.568Z"
   },
   {
    "duration": 331,
    "start_time": "2023-01-03T17:49:20.618Z"
   },
   {
    "duration": 127,
    "start_time": "2023-01-03T17:49:20.950Z"
   },
   {
    "duration": 13,
    "start_time": "2023-01-03T17:49:21.079Z"
   },
   {
    "duration": 38,
    "start_time": "2023-01-03T17:49:21.093Z"
   },
   {
    "duration": 45,
    "start_time": "2023-01-03T17:49:21.132Z"
   },
   {
    "duration": 351,
    "start_time": "2023-01-03T17:49:21.178Z"
   },
   {
    "duration": 5,
    "start_time": "2023-01-03T17:49:21.530Z"
   },
   {
    "duration": 496,
    "start_time": "2023-01-03T17:49:21.536Z"
   },
   {
    "duration": 80,
    "start_time": "2023-01-03T17:49:22.034Z"
   },
   {
    "duration": 97,
    "start_time": "2023-01-03T17:49:22.116Z"
   },
   {
    "duration": 10,
    "start_time": "2023-01-03T17:49:22.215Z"
   },
   {
    "duration": 12,
    "start_time": "2023-01-03T17:49:22.227Z"
   },
   {
    "duration": 21,
    "start_time": "2023-01-03T17:49:22.241Z"
   },
   {
    "duration": 3,
    "start_time": "2023-01-03T17:49:22.264Z"
   },
   {
    "duration": 9,
    "start_time": "2023-01-03T17:49:22.268Z"
   },
   {
    "duration": 11,
    "start_time": "2023-01-03T17:49:22.279Z"
   },
   {
    "duration": 8,
    "start_time": "2023-01-03T17:49:22.291Z"
   },
   {
    "duration": 5,
    "start_time": "2023-01-03T17:49:22.314Z"
   },
   {
    "duration": 5096,
    "start_time": "2023-01-03T17:49:22.320Z"
   },
   {
    "duration": 1505,
    "start_time": "2023-01-04T18:34:30.778Z"
   },
   {
    "duration": 529,
    "start_time": "2023-01-04T18:34:32.285Z"
   },
   {
    "duration": 20,
    "start_time": "2023-01-04T18:34:32.816Z"
   },
   {
    "duration": 47,
    "start_time": "2023-01-04T18:34:32.838Z"
   },
   {
    "duration": 78,
    "start_time": "2023-01-04T18:34:32.887Z"
   },
   {
    "duration": 361,
    "start_time": "2023-01-04T18:34:32.966Z"
   },
   {
    "duration": 615,
    "start_time": "2023-01-04T18:34:34.836Z"
   },
   {
    "duration": 19,
    "start_time": "2023-01-04T18:34:35.454Z"
   },
   {
    "duration": 48,
    "start_time": "2023-01-04T18:34:35.475Z"
   },
   {
    "duration": 42,
    "start_time": "2023-01-04T18:34:35.766Z"
   },
   {
    "duration": 335,
    "start_time": "2023-01-04T18:34:36.440Z"
   },
   {
    "duration": 602,
    "start_time": "2023-01-04T18:34:37.788Z"
   },
   {
    "duration": 13,
    "start_time": "2023-01-04T18:34:38.392Z"
   },
   {
    "duration": 46,
    "start_time": "2023-01-04T18:34:39.506Z"
   },
   {
    "duration": 38,
    "start_time": "2023-01-04T18:34:40.548Z"
   },
   {
    "duration": 50,
    "start_time": "2023-01-04T18:35:00.302Z"
   },
   {
    "duration": 23,
    "start_time": "2023-01-04T18:35:13.627Z"
   },
   {
    "duration": 18,
    "start_time": "2023-01-04T18:35:58.748Z"
   },
   {
    "duration": 23,
    "start_time": "2023-01-04T18:36:09.253Z"
   },
   {
    "duration": 1284,
    "start_time": "2023-01-04T18:36:31.038Z"
   },
   {
    "duration": 138,
    "start_time": "2023-01-04T18:36:32.324Z"
   },
   {
    "duration": 13,
    "start_time": "2023-01-04T18:36:32.464Z"
   },
   {
    "duration": 57,
    "start_time": "2023-01-04T18:36:32.479Z"
   },
   {
    "duration": 18,
    "start_time": "2023-01-04T18:36:32.537Z"
   },
   {
    "duration": 34,
    "start_time": "2023-01-04T18:36:32.557Z"
   },
   {
    "duration": 330,
    "start_time": "2023-01-04T18:36:32.593Z"
   },
   {
    "duration": 122,
    "start_time": "2023-01-04T18:36:32.925Z"
   },
   {
    "duration": 17,
    "start_time": "2023-01-04T18:36:33.048Z"
   },
   {
    "duration": 35,
    "start_time": "2023-01-04T18:36:33.068Z"
   },
   {
    "duration": 33,
    "start_time": "2023-01-04T18:36:33.104Z"
   },
   {
    "duration": 367,
    "start_time": "2023-01-04T18:36:33.139Z"
   },
   {
    "duration": 129,
    "start_time": "2023-01-04T18:36:33.507Z"
   },
   {
    "duration": 14,
    "start_time": "2023-01-04T18:36:33.638Z"
   },
   {
    "duration": 33,
    "start_time": "2023-01-04T18:36:33.654Z"
   },
   {
    "duration": 36,
    "start_time": "2023-01-04T18:36:33.688Z"
   },
   {
    "duration": 26,
    "start_time": "2023-01-04T18:36:33.726Z"
   },
   {
    "duration": 398,
    "start_time": "2023-01-04T18:36:33.753Z"
   },
   {
    "duration": 5,
    "start_time": "2023-01-04T18:36:34.154Z"
   },
   {
    "duration": 471,
    "start_time": "2023-01-04T18:36:34.161Z"
   },
   {
    "duration": 4,
    "start_time": "2023-01-04T18:36:34.635Z"
   },
   {
    "duration": 83,
    "start_time": "2023-01-04T18:36:34.641Z"
   },
   {
    "duration": 96,
    "start_time": "2023-01-04T18:36:34.726Z"
   },
   {
    "duration": 4,
    "start_time": "2023-01-04T18:36:34.824Z"
   },
   {
    "duration": 17,
    "start_time": "2023-01-04T18:36:34.830Z"
   },
   {
    "duration": 3,
    "start_time": "2023-01-04T18:36:34.849Z"
   },
   {
    "duration": 9,
    "start_time": "2023-01-04T18:36:34.854Z"
   },
   {
    "duration": 11,
    "start_time": "2023-01-04T18:36:34.866Z"
   },
   {
    "duration": 9,
    "start_time": "2023-01-04T18:36:34.879Z"
   },
   {
    "duration": 5,
    "start_time": "2023-01-04T18:36:34.922Z"
   },
   {
    "duration": 4557,
    "start_time": "2023-01-04T18:36:34.929Z"
   },
   {
    "duration": 7,
    "start_time": "2023-01-04T18:38:44.081Z"
   },
   {
    "duration": 4787,
    "start_time": "2023-01-04T18:38:45.830Z"
   },
   {
    "duration": 5,
    "start_time": "2023-01-04T18:39:03.947Z"
   },
   {
    "duration": 4627,
    "start_time": "2023-01-04T18:39:05.040Z"
   },
   {
    "duration": 13,
    "start_time": "2023-01-04T18:48:46.821Z"
   },
   {
    "duration": 1359,
    "start_time": "2023-01-04T18:49:20.196Z"
   },
   {
    "duration": 147,
    "start_time": "2023-01-04T18:49:21.557Z"
   },
   {
    "duration": 21,
    "start_time": "2023-01-04T18:49:21.705Z"
   },
   {
    "duration": 35,
    "start_time": "2023-01-04T18:49:21.728Z"
   },
   {
    "duration": 16,
    "start_time": "2023-01-04T18:49:21.765Z"
   },
   {
    "duration": 46,
    "start_time": "2023-01-04T18:49:21.782Z"
   },
   {
    "duration": 322,
    "start_time": "2023-01-04T18:49:21.830Z"
   },
   {
    "duration": 114,
    "start_time": "2023-01-04T18:49:22.154Z"
   },
   {
    "duration": 14,
    "start_time": "2023-01-04T18:49:22.270Z"
   },
   {
    "duration": 49,
    "start_time": "2023-01-04T18:49:22.286Z"
   },
   {
    "duration": 18,
    "start_time": "2023-01-04T18:49:22.337Z"
   },
   {
    "duration": 24,
    "start_time": "2023-01-04T18:49:22.357Z"
   },
   {
    "duration": 340,
    "start_time": "2023-01-04T18:49:22.383Z"
   },
   {
    "duration": 125,
    "start_time": "2023-01-04T18:49:22.725Z"
   },
   {
    "duration": 12,
    "start_time": "2023-01-04T18:49:22.851Z"
   },
   {
    "duration": 33,
    "start_time": "2023-01-04T18:49:22.865Z"
   },
   {
    "duration": 35,
    "start_time": "2023-01-04T18:49:22.899Z"
   },
   {
    "duration": 24,
    "start_time": "2023-01-04T18:49:22.936Z"
   },
   {
    "duration": 356,
    "start_time": "2023-01-04T18:49:22.961Z"
   },
   {
    "duration": 5,
    "start_time": "2023-01-04T18:49:23.321Z"
   },
   {
    "duration": 502,
    "start_time": "2023-01-04T18:49:23.328Z"
   },
   {
    "duration": 5,
    "start_time": "2023-01-04T18:49:23.832Z"
   },
   {
    "duration": 92,
    "start_time": "2023-01-04T18:49:23.839Z"
   },
   {
    "duration": 98,
    "start_time": "2023-01-04T18:49:23.932Z"
   },
   {
    "duration": 8,
    "start_time": "2023-01-04T18:49:24.032Z"
   },
   {
    "duration": 28,
    "start_time": "2023-01-04T18:49:24.042Z"
   },
   {
    "duration": 18,
    "start_time": "2023-01-04T18:49:24.072Z"
   },
   {
    "duration": 15,
    "start_time": "2023-01-04T18:49:24.094Z"
   },
   {
    "duration": 34,
    "start_time": "2023-01-04T18:49:24.111Z"
   },
   {
    "duration": 11,
    "start_time": "2023-01-04T18:49:24.146Z"
   },
   {
    "duration": 12,
    "start_time": "2023-01-04T18:49:24.159Z"
   },
   {
    "duration": 4573,
    "start_time": "2023-01-04T18:49:24.174Z"
   },
   {
    "duration": 5,
    "start_time": "2023-01-04T18:57:10.476Z"
   },
   {
    "duration": 1591,
    "start_time": "2023-01-06T07:17:13.859Z"
   },
   {
    "duration": 546,
    "start_time": "2023-01-06T07:17:15.452Z"
   },
   {
    "duration": 21,
    "start_time": "2023-01-06T07:17:16.000Z"
   },
   {
    "duration": 43,
    "start_time": "2023-01-06T07:17:16.026Z"
   },
   {
    "duration": 365,
    "start_time": "2023-01-06T07:17:16.071Z"
   },
   {
    "duration": 574,
    "start_time": "2023-01-06T07:17:16.438Z"
   },
   {
    "duration": 24,
    "start_time": "2023-01-06T07:17:17.014Z"
   },
   {
    "duration": 40,
    "start_time": "2023-01-06T07:17:17.043Z"
   },
   {
    "duration": 358,
    "start_time": "2023-01-06T07:17:17.085Z"
   },
   {
    "duration": 567,
    "start_time": "2023-01-06T07:17:17.446Z"
   },
   {
    "duration": 23,
    "start_time": "2023-01-06T07:17:18.014Z"
   },
   {
    "duration": 41,
    "start_time": "2023-01-06T07:17:18.038Z"
   },
   {
    "duration": 348,
    "start_time": "2023-01-06T07:17:18.081Z"
   },
   {
    "duration": 7,
    "start_time": "2023-01-06T07:17:18.434Z"
   },
   {
    "duration": 508,
    "start_time": "2023-01-06T07:17:18.443Z"
   },
   {
    "duration": 9,
    "start_time": "2023-01-06T07:17:19.022Z"
   },
   {
    "duration": 119,
    "start_time": "2023-01-06T07:17:19.037Z"
   },
   {
    "duration": 21,
    "start_time": "2023-01-06T07:17:19.159Z"
   },
   {
    "duration": 15,
    "start_time": "2023-01-06T07:17:19.181Z"
   },
   {
    "duration": 26,
    "start_time": "2023-01-06T07:17:19.199Z"
   },
   {
    "duration": 8,
    "start_time": "2023-01-06T07:17:19.228Z"
   },
   {
    "duration": 23,
    "start_time": "2023-01-06T07:17:19.238Z"
   },
   {
    "duration": 26,
    "start_time": "2023-01-06T07:17:19.263Z"
   },
   {
    "duration": 15,
    "start_time": "2023-01-06T07:17:19.291Z"
   },
   {
    "duration": 30,
    "start_time": "2023-01-06T07:17:19.308Z"
   },
   {
    "duration": 4914,
    "start_time": "2023-01-06T07:17:19.342Z"
   },
   {
    "duration": 7,
    "start_time": "2023-01-06T07:18:55.875Z"
   },
   {
    "duration": 4428,
    "start_time": "2023-01-06T07:18:58.640Z"
   },
   {
    "duration": 1594,
    "start_time": "2023-01-06T16:18:27.579Z"
   },
   {
    "duration": 182,
    "start_time": "2023-01-06T16:18:29.176Z"
   },
   {
    "duration": 19,
    "start_time": "2023-01-06T16:18:29.360Z"
   },
   {
    "duration": 40,
    "start_time": "2023-01-06T16:18:29.381Z"
   },
   {
    "duration": 450,
    "start_time": "2023-01-06T16:18:29.423Z"
   },
   {
    "duration": 148,
    "start_time": "2023-01-06T16:18:29.874Z"
   },
   {
    "duration": 16,
    "start_time": "2023-01-06T16:18:30.024Z"
   },
   {
    "duration": 47,
    "start_time": "2023-01-06T16:18:30.051Z"
   },
   {
    "duration": 385,
    "start_time": "2023-01-06T16:18:30.100Z"
   },
   {
    "duration": 165,
    "start_time": "2023-01-06T16:18:30.488Z"
   },
   {
    "duration": 19,
    "start_time": "2023-01-06T16:18:30.655Z"
   },
   {
    "duration": 73,
    "start_time": "2023-01-06T16:18:30.677Z"
   },
   {
    "duration": 436,
    "start_time": "2023-01-06T16:18:30.752Z"
   },
   {
    "duration": 7,
    "start_time": "2023-01-06T16:18:31.189Z"
   },
   {
    "duration": 576,
    "start_time": "2023-01-06T16:18:31.198Z"
   },
   {
    "duration": 80,
    "start_time": "2023-01-06T16:18:31.777Z"
   },
   {
    "duration": 103,
    "start_time": "2023-01-06T16:18:31.859Z"
   },
   {
    "duration": 7,
    "start_time": "2023-01-06T16:18:31.965Z"
   },
   {
    "duration": 10,
    "start_time": "2023-01-06T16:18:31.974Z"
   },
   {
    "duration": 22,
    "start_time": "2023-01-06T16:18:31.986Z"
   },
   {
    "duration": 5,
    "start_time": "2023-01-06T16:18:32.010Z"
   },
   {
    "duration": 13,
    "start_time": "2023-01-06T16:18:32.017Z"
   },
   {
    "duration": 21,
    "start_time": "2023-01-06T16:18:32.032Z"
   },
   {
    "duration": 9,
    "start_time": "2023-01-06T16:18:32.055Z"
   },
   {
    "duration": 6,
    "start_time": "2023-01-06T16:18:32.066Z"
   },
   {
    "duration": 39190,
    "start_time": "2023-01-06T16:18:32.074Z"
   },
   {
    "duration": 1551,
    "start_time": "2023-01-06T16:20:59.139Z"
   },
   {
    "duration": 165,
    "start_time": "2023-01-06T16:21:00.692Z"
   },
   {
    "duration": 18,
    "start_time": "2023-01-06T16:21:00.858Z"
   },
   {
    "duration": 73,
    "start_time": "2023-01-06T16:21:00.879Z"
   },
   {
    "duration": 368,
    "start_time": "2023-01-06T16:21:00.954Z"
   },
   {
    "duration": 144,
    "start_time": "2023-01-06T16:21:01.325Z"
   },
   {
    "duration": 19,
    "start_time": "2023-01-06T16:21:01.470Z"
   },
   {
    "duration": 48,
    "start_time": "2023-01-06T16:21:01.491Z"
   },
   {
    "duration": 377,
    "start_time": "2023-01-06T16:21:01.550Z"
   },
   {
    "duration": 154,
    "start_time": "2023-01-06T16:21:01.929Z"
   },
   {
    "duration": 16,
    "start_time": "2023-01-06T16:21:02.084Z"
   },
   {
    "duration": 56,
    "start_time": "2023-01-06T16:21:02.102Z"
   },
   {
    "duration": 362,
    "start_time": "2023-01-06T16:21:02.160Z"
   },
   {
    "duration": 5,
    "start_time": "2023-01-06T16:21:02.524Z"
   },
   {
    "duration": 542,
    "start_time": "2023-01-06T16:21:02.531Z"
   },
   {
    "duration": 4,
    "start_time": "2023-01-06T16:21:03.076Z"
   },
   {
    "duration": 110,
    "start_time": "2023-01-06T16:21:03.155Z"
   },
   {
    "duration": 29,
    "start_time": "2023-01-06T16:21:03.267Z"
   },
   {
    "duration": 18,
    "start_time": "2023-01-06T16:21:03.297Z"
   },
   {
    "duration": 42,
    "start_time": "2023-01-06T16:21:03.316Z"
   },
   {
    "duration": 9,
    "start_time": "2023-01-06T16:21:03.360Z"
   },
   {
    "duration": 24,
    "start_time": "2023-01-06T16:21:03.371Z"
   },
   {
    "duration": 21,
    "start_time": "2023-01-06T16:21:03.397Z"
   },
   {
    "duration": 38,
    "start_time": "2023-01-06T16:21:03.420Z"
   },
   {
    "duration": 10,
    "start_time": "2023-01-06T16:21:03.461Z"
   },
   {
    "duration": 380,
    "start_time": "2023-01-06T16:21:03.472Z"
   },
   {
    "duration": 1444,
    "start_time": "2023-01-06T16:22:05.183Z"
   },
   {
    "duration": 165,
    "start_time": "2023-01-06T16:22:06.629Z"
   },
   {
    "duration": 18,
    "start_time": "2023-01-06T16:22:06.796Z"
   },
   {
    "duration": 54,
    "start_time": "2023-01-06T16:22:06.817Z"
   },
   {
    "duration": 370,
    "start_time": "2023-01-06T16:22:06.872Z"
   },
   {
    "duration": 138,
    "start_time": "2023-01-06T16:22:07.244Z"
   },
   {
    "duration": 16,
    "start_time": "2023-01-06T16:22:07.384Z"
   },
   {
    "duration": 50,
    "start_time": "2023-01-06T16:22:07.402Z"
   },
   {
    "duration": 358,
    "start_time": "2023-01-06T16:22:07.454Z"
   },
   {
    "duration": 146,
    "start_time": "2023-01-06T16:22:07.814Z"
   },
   {
    "duration": 16,
    "start_time": "2023-01-06T16:22:07.962Z"
   },
   {
    "duration": 38,
    "start_time": "2023-01-06T16:22:07.979Z"
   },
   {
    "duration": 381,
    "start_time": "2023-01-06T16:22:08.019Z"
   },
   {
    "duration": 5,
    "start_time": "2023-01-06T16:22:08.401Z"
   },
   {
    "duration": 562,
    "start_time": "2023-01-06T16:22:08.408Z"
   },
   {
    "duration": 83,
    "start_time": "2023-01-06T16:22:08.973Z"
   },
   {
    "duration": 109,
    "start_time": "2023-01-06T16:22:09.058Z"
   },
   {
    "duration": 9,
    "start_time": "2023-01-06T16:22:09.170Z"
   },
   {
    "duration": 14,
    "start_time": "2023-01-06T16:22:09.180Z"
   },
   {
    "duration": 39,
    "start_time": "2023-01-06T16:22:09.196Z"
   },
   {
    "duration": 5,
    "start_time": "2023-01-06T16:22:09.237Z"
   },
   {
    "duration": 10,
    "start_time": "2023-01-06T16:22:09.244Z"
   },
   {
    "duration": 12,
    "start_time": "2023-01-06T16:22:09.257Z"
   },
   {
    "duration": 11,
    "start_time": "2023-01-06T16:22:09.271Z"
   },
   {
    "duration": 7,
    "start_time": "2023-01-06T16:22:09.284Z"
   },
   {
    "duration": 149,
    "start_time": "2023-01-06T16:22:09.292Z"
   },
   {
    "duration": 1364,
    "start_time": "2023-01-06T16:22:42.677Z"
   },
   {
    "duration": 168,
    "start_time": "2023-01-06T16:22:44.043Z"
   },
   {
    "duration": 16,
    "start_time": "2023-01-06T16:22:44.213Z"
   },
   {
    "duration": 52,
    "start_time": "2023-01-06T16:22:44.232Z"
   },
   {
    "duration": 380,
    "start_time": "2023-01-06T16:22:44.285Z"
   },
   {
    "duration": 137,
    "start_time": "2023-01-06T16:22:44.667Z"
   },
   {
    "duration": 16,
    "start_time": "2023-01-06T16:22:44.806Z"
   },
   {
    "duration": 49,
    "start_time": "2023-01-06T16:22:44.824Z"
   },
   {
    "duration": 384,
    "start_time": "2023-01-06T16:22:44.875Z"
   },
   {
    "duration": 151,
    "start_time": "2023-01-06T16:22:45.261Z"
   },
   {
    "duration": 16,
    "start_time": "2023-01-06T16:22:45.414Z"
   },
   {
    "duration": 55,
    "start_time": "2023-01-06T16:22:45.432Z"
   },
   {
    "duration": 379,
    "start_time": "2023-01-06T16:22:45.489Z"
   },
   {
    "duration": 4,
    "start_time": "2023-01-06T16:22:45.870Z"
   },
   {
    "duration": 492,
    "start_time": "2023-01-06T16:22:45.876Z"
   },
   {
    "duration": 82,
    "start_time": "2023-01-06T16:22:46.371Z"
   },
   {
    "duration": 105,
    "start_time": "2023-01-06T16:22:46.455Z"
   },
   {
    "duration": 9,
    "start_time": "2023-01-06T16:22:46.562Z"
   },
   {
    "duration": 8,
    "start_time": "2023-01-06T16:22:46.572Z"
   },
   {
    "duration": 20,
    "start_time": "2023-01-06T16:22:46.582Z"
   },
   {
    "duration": 4,
    "start_time": "2023-01-06T16:22:46.604Z"
   },
   {
    "duration": 27,
    "start_time": "2023-01-06T16:22:46.610Z"
   },
   {
    "duration": 15,
    "start_time": "2023-01-06T16:22:46.639Z"
   },
   {
    "duration": 9,
    "start_time": "2023-01-06T16:22:46.656Z"
   },
   {
    "duration": 6,
    "start_time": "2023-01-06T16:22:46.667Z"
   },
   {
    "duration": 4881,
    "start_time": "2023-01-06T16:22:46.675Z"
   },
   {
    "duration": 1456,
    "start_time": "2023-01-06T16:23:20.679Z"
   },
   {
    "duration": 170,
    "start_time": "2023-01-06T16:23:22.137Z"
   },
   {
    "duration": 16,
    "start_time": "2023-01-06T16:23:22.308Z"
   },
   {
    "duration": 55,
    "start_time": "2023-01-06T16:23:22.326Z"
   },
   {
    "duration": 365,
    "start_time": "2023-01-06T16:23:22.384Z"
   },
   {
    "duration": 134,
    "start_time": "2023-01-06T16:23:22.751Z"
   },
   {
    "duration": 14,
    "start_time": "2023-01-06T16:23:22.887Z"
   },
   {
    "duration": 50,
    "start_time": "2023-01-06T16:23:22.903Z"
   },
   {
    "duration": 360,
    "start_time": "2023-01-06T16:23:22.955Z"
   },
   {
    "duration": 144,
    "start_time": "2023-01-06T16:23:23.317Z"
   },
   {
    "duration": 15,
    "start_time": "2023-01-06T16:23:23.463Z"
   },
   {
    "duration": 47,
    "start_time": "2023-01-06T16:23:23.479Z"
   },
   {
    "duration": 351,
    "start_time": "2023-01-06T16:23:23.527Z"
   },
   {
    "duration": 5,
    "start_time": "2023-01-06T16:23:23.880Z"
   },
   {
    "duration": 583,
    "start_time": "2023-01-06T16:23:23.887Z"
   },
   {
    "duration": 6,
    "start_time": "2023-01-06T16:23:24.550Z"
   },
   {
    "duration": 93,
    "start_time": "2023-01-06T16:23:24.559Z"
   },
   {
    "duration": 39,
    "start_time": "2023-01-06T16:23:24.654Z"
   },
   {
    "duration": 30,
    "start_time": "2023-01-06T16:23:24.695Z"
   },
   {
    "duration": 27,
    "start_time": "2023-01-06T16:23:24.727Z"
   },
   {
    "duration": 4,
    "start_time": "2023-01-06T16:23:24.756Z"
   },
   {
    "duration": 40,
    "start_time": "2023-01-06T16:23:24.761Z"
   },
   {
    "duration": 28,
    "start_time": "2023-01-06T16:23:24.803Z"
   },
   {
    "duration": 53,
    "start_time": "2023-01-06T16:23:24.833Z"
   },
   {
    "duration": 24,
    "start_time": "2023-01-06T16:23:24.889Z"
   },
   {
    "duration": 4511,
    "start_time": "2023-01-06T16:23:24.915Z"
   },
   {
    "duration": 1408,
    "start_time": "2023-01-06T16:24:41.169Z"
   },
   {
    "duration": 163,
    "start_time": "2023-01-06T16:24:42.579Z"
   },
   {
    "duration": 19,
    "start_time": "2023-01-06T16:24:42.743Z"
   },
   {
    "duration": 50,
    "start_time": "2023-01-06T16:24:42.766Z"
   },
   {
    "duration": 374,
    "start_time": "2023-01-06T16:24:42.818Z"
   },
   {
    "duration": 137,
    "start_time": "2023-01-06T16:24:43.193Z"
   },
   {
    "duration": 19,
    "start_time": "2023-01-06T16:24:43.332Z"
   },
   {
    "duration": 41,
    "start_time": "2023-01-06T16:24:43.353Z"
   },
   {
    "duration": 401,
    "start_time": "2023-01-06T16:24:43.396Z"
   },
   {
    "duration": 162,
    "start_time": "2023-01-06T16:24:43.800Z"
   },
   {
    "duration": 16,
    "start_time": "2023-01-06T16:24:43.964Z"
   },
   {
    "duration": 38,
    "start_time": "2023-01-06T16:24:43.982Z"
   },
   {
    "duration": 383,
    "start_time": "2023-01-06T16:24:44.022Z"
   },
   {
    "duration": 5,
    "start_time": "2023-01-06T16:24:44.407Z"
   },
   {
    "duration": 565,
    "start_time": "2023-01-06T16:24:44.414Z"
   },
   {
    "duration": 69,
    "start_time": "2023-01-06T16:24:44.981Z"
   },
   {
    "duration": 107,
    "start_time": "2023-01-06T16:24:45.054Z"
   },
   {
    "duration": 33,
    "start_time": "2023-01-06T16:24:45.163Z"
   },
   {
    "duration": 12,
    "start_time": "2023-01-06T16:24:45.199Z"
   },
   {
    "duration": 46,
    "start_time": "2023-01-06T16:24:45.213Z"
   },
   {
    "duration": 14,
    "start_time": "2023-01-06T16:24:45.261Z"
   },
   {
    "duration": 25,
    "start_time": "2023-01-06T16:24:45.277Z"
   },
   {
    "duration": 32,
    "start_time": "2023-01-06T16:24:45.304Z"
   },
   {
    "duration": 23,
    "start_time": "2023-01-06T16:24:45.338Z"
   },
   {
    "duration": 20,
    "start_time": "2023-01-06T16:24:45.362Z"
   },
   {
    "duration": 4866,
    "start_time": "2023-01-06T16:24:45.383Z"
   },
   {
    "duration": 1471,
    "start_time": "2023-01-06T16:25:09.305Z"
   },
   {
    "duration": 185,
    "start_time": "2023-01-06T16:25:10.779Z"
   },
   {
    "duration": 19,
    "start_time": "2023-01-06T16:25:10.967Z"
   },
   {
    "duration": 63,
    "start_time": "2023-01-06T16:25:10.989Z"
   },
   {
    "duration": 422,
    "start_time": "2023-01-06T16:25:11.054Z"
   },
   {
    "duration": 139,
    "start_time": "2023-01-06T16:25:11.478Z"
   },
   {
    "duration": 16,
    "start_time": "2023-01-06T16:25:11.619Z"
   },
   {
    "duration": 59,
    "start_time": "2023-01-06T16:25:11.637Z"
   },
   {
    "duration": 405,
    "start_time": "2023-01-06T16:25:11.698Z"
   },
   {
    "duration": 164,
    "start_time": "2023-01-06T16:25:12.106Z"
   },
   {
    "duration": 16,
    "start_time": "2023-01-06T16:25:12.272Z"
   },
   {
    "duration": 51,
    "start_time": "2023-01-06T16:25:12.290Z"
   },
   {
    "duration": 405,
    "start_time": "2023-01-06T16:25:12.352Z"
   },
   {
    "duration": 6,
    "start_time": "2023-01-06T16:25:12.759Z"
   },
   {
    "duration": 501,
    "start_time": "2023-01-06T16:25:12.767Z"
   },
   {
    "duration": 6,
    "start_time": "2023-01-06T16:25:13.351Z"
   },
   {
    "duration": 85,
    "start_time": "2023-01-06T16:25:13.367Z"
   },
   {
    "duration": 45,
    "start_time": "2023-01-06T16:25:13.454Z"
   },
   {
    "duration": 43,
    "start_time": "2023-01-06T16:25:13.500Z"
   },
   {
    "duration": 28,
    "start_time": "2023-01-06T16:25:13.545Z"
   },
   {
    "duration": 14,
    "start_time": "2023-01-06T16:25:13.575Z"
   },
   {
    "duration": 29,
    "start_time": "2023-01-06T16:25:13.591Z"
   },
   {
    "duration": 47,
    "start_time": "2023-01-06T16:25:13.621Z"
   },
   {
    "duration": 57,
    "start_time": "2023-01-06T16:25:13.670Z"
   },
   {
    "duration": 16,
    "start_time": "2023-01-06T16:25:13.729Z"
   },
   {
    "duration": 4620,
    "start_time": "2023-01-06T16:25:13.747Z"
   },
   {
    "duration": 4,
    "start_time": "2023-01-06T16:29:17.957Z"
   },
   {
    "duration": 4,
    "start_time": "2023-01-06T16:32:32.487Z"
   },
   {
    "duration": 111,
    "start_time": "2023-01-06T16:33:27.674Z"
   },
   {
    "duration": 5,
    "start_time": "2023-01-06T16:33:32.769Z"
   },
   {
    "duration": 5,
    "start_time": "2023-01-06T16:33:38.996Z"
   },
   {
    "duration": 4,
    "start_time": "2023-01-06T16:33:49.876Z"
   },
   {
    "duration": 1384,
    "start_time": "2023-01-06T16:34:05.375Z"
   },
   {
    "duration": 165,
    "start_time": "2023-01-06T16:34:06.761Z"
   },
   {
    "duration": 24,
    "start_time": "2023-01-06T16:34:06.927Z"
   },
   {
    "duration": 44,
    "start_time": "2023-01-06T16:34:06.953Z"
   },
   {
    "duration": 366,
    "start_time": "2023-01-06T16:34:06.998Z"
   },
   {
    "duration": 138,
    "start_time": "2023-01-06T16:34:07.366Z"
   },
   {
    "duration": 15,
    "start_time": "2023-01-06T16:34:07.506Z"
   },
   {
    "duration": 49,
    "start_time": "2023-01-06T16:34:07.523Z"
   },
   {
    "duration": 370,
    "start_time": "2023-01-06T16:34:07.574Z"
   },
   {
    "duration": 149,
    "start_time": "2023-01-06T16:34:07.946Z"
   },
   {
    "duration": 15,
    "start_time": "2023-01-06T16:34:08.096Z"
   },
   {
    "duration": 53,
    "start_time": "2023-01-06T16:34:08.112Z"
   },
   {
    "duration": 366,
    "start_time": "2023-01-06T16:34:08.167Z"
   },
   {
    "duration": 5,
    "start_time": "2023-01-06T16:34:08.535Z"
   },
   {
    "duration": 530,
    "start_time": "2023-01-06T16:34:08.542Z"
   },
   {
    "duration": 77,
    "start_time": "2023-01-06T16:34:09.075Z"
   },
   {
    "duration": 111,
    "start_time": "2023-01-06T16:34:09.154Z"
   },
   {
    "duration": 9,
    "start_time": "2023-01-06T16:34:09.268Z"
   },
   {
    "duration": 7,
    "start_time": "2023-01-06T16:34:09.279Z"
   },
   {
    "duration": 23,
    "start_time": "2023-01-06T16:34:09.288Z"
   },
   {
    "duration": 3,
    "start_time": "2023-01-06T16:34:09.313Z"
   },
   {
    "duration": 9,
    "start_time": "2023-01-06T16:34:09.318Z"
   },
   {
    "duration": 23,
    "start_time": "2023-01-06T16:34:09.329Z"
   },
   {
    "duration": 10,
    "start_time": "2023-01-06T16:34:09.354Z"
   },
   {
    "duration": 7,
    "start_time": "2023-01-06T16:34:09.366Z"
   },
   {
    "duration": 10,
    "start_time": "2023-01-06T16:34:09.375Z"
   },
   {
    "duration": 8,
    "start_time": "2023-01-06T16:34:09.387Z"
   },
   {
    "duration": 4557,
    "start_time": "2023-01-06T16:34:09.398Z"
   },
   {
    "duration": 4,
    "start_time": "2023-01-06T16:34:21.021Z"
   },
   {
    "duration": 1391,
    "start_time": "2023-01-06T16:34:41.938Z"
   },
   {
    "duration": 161,
    "start_time": "2023-01-06T16:34:43.331Z"
   },
   {
    "duration": 17,
    "start_time": "2023-01-06T16:34:43.494Z"
   },
   {
    "duration": 55,
    "start_time": "2023-01-06T16:34:43.514Z"
   },
   {
    "duration": 354,
    "start_time": "2023-01-06T16:34:43.571Z"
   },
   {
    "duration": 137,
    "start_time": "2023-01-06T16:34:43.928Z"
   },
   {
    "duration": 14,
    "start_time": "2023-01-06T16:34:44.067Z"
   },
   {
    "duration": 36,
    "start_time": "2023-01-06T16:34:44.083Z"
   },
   {
    "duration": 368,
    "start_time": "2023-01-06T16:34:44.121Z"
   },
   {
    "duration": 149,
    "start_time": "2023-01-06T16:34:44.491Z"
   },
   {
    "duration": 22,
    "start_time": "2023-01-06T16:34:44.642Z"
   },
   {
    "duration": 39,
    "start_time": "2023-01-06T16:34:44.665Z"
   },
   {
    "duration": 376,
    "start_time": "2023-01-06T16:34:44.706Z"
   },
   {
    "duration": 5,
    "start_time": "2023-01-06T16:34:45.084Z"
   },
   {
    "duration": 488,
    "start_time": "2023-01-06T16:34:45.091Z"
   },
   {
    "duration": 73,
    "start_time": "2023-01-06T16:34:45.581Z"
   },
   {
    "duration": 108,
    "start_time": "2023-01-06T16:34:45.656Z"
   },
   {
    "duration": 16,
    "start_time": "2023-01-06T16:34:45.766Z"
   },
   {
    "duration": 24,
    "start_time": "2023-01-06T16:34:45.784Z"
   },
   {
    "duration": 30,
    "start_time": "2023-01-06T16:34:45.810Z"
   },
   {
    "duration": 7,
    "start_time": "2023-01-06T16:34:45.842Z"
   },
   {
    "duration": 20,
    "start_time": "2023-01-06T16:34:45.851Z"
   },
   {
    "duration": 35,
    "start_time": "2023-01-06T16:34:45.873Z"
   },
   {
    "duration": 10,
    "start_time": "2023-01-06T16:34:45.910Z"
   },
   {
    "duration": 11,
    "start_time": "2023-01-06T16:34:45.922Z"
   },
   {
    "duration": 27,
    "start_time": "2023-01-06T16:34:45.935Z"
   },
   {
    "duration": 4522,
    "start_time": "2023-01-06T16:34:45.964Z"
   }
  ],
  "kernelspec": {
   "display_name": "Python 3 (ipykernel)",
   "language": "python",
   "name": "python3"
  },
  "language_info": {
   "codemirror_mode": {
    "name": "ipython",
    "version": 3
   },
   "file_extension": ".py",
   "mimetype": "text/x-python",
   "name": "python",
   "nbconvert_exporter": "python",
   "pygments_lexer": "ipython3",
   "version": "3.9.5"
  },
  "toc": {
   "base_numbering": 1,
   "nav_menu": {},
   "number_sections": true,
   "sideBar": true,
   "skip_h1_title": true,
   "title_cell": "Table of Contents",
   "title_sidebar": "Contents",
   "toc_cell": false,
   "toc_position": {},
   "toc_section_display": true,
   "toc_window_display": false
  }
 },
 "nbformat": 4,
 "nbformat_minor": 2
}
