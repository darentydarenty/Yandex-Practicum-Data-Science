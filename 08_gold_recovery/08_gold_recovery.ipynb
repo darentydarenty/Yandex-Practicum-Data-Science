{
 "cells": [
  {
   "cell_type": "markdown",
   "metadata": {},
   "source": [
    "# Восстановление золота из руды"
   ]
  },
  {
   "cell_type": "markdown",
   "metadata": {},
   "source": [
    "Подготовьте прототип модели машинного обучения для «Цифры». Компания разрабатывает решения для эффективной работы промышленных предприятий.\n",
    "\n",
    "Модель должна предсказать коэффициент восстановления золота из золотосодержащей руды. Используйте данные с параметрами добычи и очистки. \n",
    "\n",
    "Модель поможет оптимизировать производство, чтобы не запускать предприятие с убыточными характеристиками.\n",
    "\n",
    "Вам нужно:\n",
    "\n",
    "1. Подготовить данные;\n",
    "2. Провести исследовательский анализ данных;\n",
    "3. Построить и обучить модель.\n",
    "\n",
    "Чтобы выполнить проект, обращайтесь к библиотекам *pandas*, *matplotlib* и *sklearn.* Вам поможет их документация."
   ]
  },
  {
   "cell_type": "markdown",
   "metadata": {},
   "source": [
    "## Подготовка данных"
   ]
  },
  {
   "cell_type": "markdown",
   "metadata": {},
   "source": [
    "### Описание данных\n",
    "**Технологический процесс**\n",
    "- Rougher feed — исходное сырье\n",
    "- Rougher additions (или reagent additions) — флотационные реагенты: Xanthate, Sulphate, Depressant\n",
    "- Xanthate **— ксантогенат (промотер, или активатор флотации);\n",
    "- Sulphate — сульфат (на данном производстве сульфид натрия);\n",
    "- Depressant — депрессант (силикат натрия).\n",
    "- Rougher process (англ. «грубый процесс») — флотация\n",
    "- Rougher tails — отвальные хвосты\n",
    "- Float banks — флотационная установка\n",
    "- Cleaner process — очистка\n",
    "- Rougher Au — черновой концентрат золота\n",
    "- Final Au — финальный концентрат золота   \n",
    "\n",
    "**Параметры этапов**\n",
    "- air amount — объём воздуха\n",
    "- fluid levels — уровень жидкости\n",
    "- feed size — размер гранул сырья\n",
    "- feed rate — скорость подачи\n",
    "\n",
    "### Наименование признаков\n",
    "**Наименование признаков должно быть такое:**  \n",
    "[этап].[тип_параметра].[название_параметра]  \n",
    "Пример: rougher.input.feed_ag\n",
    "\n",
    "**Возможные значения для блока [этап]:**\n",
    "- rougher — флотация\n",
    "- primary_cleaner — первичная очистка\n",
    "- secondary_cleaner — вторичная очистка\n",
    "- final — финальные характеристики\n",
    "\n",
    "**Возможные значения для блока [тип_параметра]:**\n",
    "- input — параметры сырья\n",
    "- output — параметры продукта\n",
    "- state — параметры, характеризующие текущее состояние этапа\n",
    "- calculation — расчётные характеристики\n",
    "\n",
    "### Импорт библиотек и файлов"
   ]
  },
  {
   "cell_type": "code",
   "execution_count": 1,
   "metadata": {},
   "outputs": [],
   "source": [
    "import numpy as np\n",
    "import pandas as pd\n",
    "import seaborn as sns\n",
    "import matplotlib.pyplot as plt\n",
    "from sklearn.model_selection import train_test_split, cross_val_score\n",
    "from sklearn.metrics import make_scorer, mean_absolute_error\n",
    "from sklearn.linear_model import LinearRegression\n",
    "from sklearn.tree import DecisionTreeRegressor\n",
    "from sklearn.ensemble import RandomForestRegressor\n",
    "from sklearn.dummy import DummyRegressor\n",
    "import warnings\n",
    "warnings.filterwarnings(\"ignore\")"
   ]
  },
  {
   "cell_type": "code",
   "execution_count": 2,
   "metadata": {},
   "outputs": [],
   "source": [
    "train_data = pd.read_csv('/datasets/gold_recovery_train_new.csv')\n",
    "test_data = pd.read_csv('/datasets/gold_recovery_test_new.csv')\n",
    "full_data = pd.read_csv('/datasets/gold_recovery_full_new.csv')"
   ]
  },
  {
   "cell_type": "code",
   "execution_count": 3,
   "metadata": {
    "scrolled": true
   },
   "outputs": [
    {
     "data": {
      "text/html": [
       "<div>\n",
       "<style scoped>\n",
       "    .dataframe tbody tr th:only-of-type {\n",
       "        vertical-align: middle;\n",
       "    }\n",
       "\n",
       "    .dataframe tbody tr th {\n",
       "        vertical-align: top;\n",
       "    }\n",
       "\n",
       "    .dataframe thead th {\n",
       "        text-align: right;\n",
       "    }\n",
       "</style>\n",
       "<table border=\"1\" class=\"dataframe\">\n",
       "  <thead>\n",
       "    <tr style=\"text-align: right;\">\n",
       "      <th></th>\n",
       "      <th>date</th>\n",
       "      <th>final.output.concentrate_ag</th>\n",
       "      <th>final.output.concentrate_pb</th>\n",
       "      <th>final.output.concentrate_sol</th>\n",
       "      <th>final.output.concentrate_au</th>\n",
       "      <th>final.output.recovery</th>\n",
       "      <th>final.output.tail_ag</th>\n",
       "      <th>final.output.tail_pb</th>\n",
       "      <th>final.output.tail_sol</th>\n",
       "      <th>final.output.tail_au</th>\n",
       "      <th>...</th>\n",
       "      <th>secondary_cleaner.state.floatbank4_a_air</th>\n",
       "      <th>secondary_cleaner.state.floatbank4_a_level</th>\n",
       "      <th>secondary_cleaner.state.floatbank4_b_air</th>\n",
       "      <th>secondary_cleaner.state.floatbank4_b_level</th>\n",
       "      <th>secondary_cleaner.state.floatbank5_a_air</th>\n",
       "      <th>secondary_cleaner.state.floatbank5_a_level</th>\n",
       "      <th>secondary_cleaner.state.floatbank5_b_air</th>\n",
       "      <th>secondary_cleaner.state.floatbank5_b_level</th>\n",
       "      <th>secondary_cleaner.state.floatbank6_a_air</th>\n",
       "      <th>secondary_cleaner.state.floatbank6_a_level</th>\n",
       "    </tr>\n",
       "  </thead>\n",
       "  <tbody>\n",
       "    <tr>\n",
       "      <th>0</th>\n",
       "      <td>2016-01-15 00:00:00</td>\n",
       "      <td>6.055403</td>\n",
       "      <td>9.889648</td>\n",
       "      <td>5.507324</td>\n",
       "      <td>42.192020</td>\n",
       "      <td>70.541216</td>\n",
       "      <td>10.411962</td>\n",
       "      <td>0.895447</td>\n",
       "      <td>16.904297</td>\n",
       "      <td>2.143149</td>\n",
       "      <td>...</td>\n",
       "      <td>14.016835</td>\n",
       "      <td>-502.488007</td>\n",
       "      <td>12.099931</td>\n",
       "      <td>-504.715942</td>\n",
       "      <td>9.925633</td>\n",
       "      <td>-498.310211</td>\n",
       "      <td>8.079666</td>\n",
       "      <td>-500.470978</td>\n",
       "      <td>14.151341</td>\n",
       "      <td>-605.841980</td>\n",
       "    </tr>\n",
       "    <tr>\n",
       "      <th>1</th>\n",
       "      <td>2016-01-15 01:00:00</td>\n",
       "      <td>6.029369</td>\n",
       "      <td>9.968944</td>\n",
       "      <td>5.257781</td>\n",
       "      <td>42.701629</td>\n",
       "      <td>69.266198</td>\n",
       "      <td>10.462676</td>\n",
       "      <td>0.927452</td>\n",
       "      <td>16.634514</td>\n",
       "      <td>2.224930</td>\n",
       "      <td>...</td>\n",
       "      <td>13.992281</td>\n",
       "      <td>-505.503262</td>\n",
       "      <td>11.950531</td>\n",
       "      <td>-501.331529</td>\n",
       "      <td>10.039245</td>\n",
       "      <td>-500.169983</td>\n",
       "      <td>7.984757</td>\n",
       "      <td>-500.582168</td>\n",
       "      <td>13.998353</td>\n",
       "      <td>-599.787184</td>\n",
       "    </tr>\n",
       "    <tr>\n",
       "      <th>2</th>\n",
       "      <td>2016-01-15 02:00:00</td>\n",
       "      <td>6.055926</td>\n",
       "      <td>10.213995</td>\n",
       "      <td>5.383759</td>\n",
       "      <td>42.657501</td>\n",
       "      <td>68.116445</td>\n",
       "      <td>10.507046</td>\n",
       "      <td>0.953716</td>\n",
       "      <td>16.208849</td>\n",
       "      <td>2.257889</td>\n",
       "      <td>...</td>\n",
       "      <td>14.015015</td>\n",
       "      <td>-502.520901</td>\n",
       "      <td>11.912783</td>\n",
       "      <td>-501.133383</td>\n",
       "      <td>10.070913</td>\n",
       "      <td>-500.129135</td>\n",
       "      <td>8.013877</td>\n",
       "      <td>-500.517572</td>\n",
       "      <td>14.028663</td>\n",
       "      <td>-601.427363</td>\n",
       "    </tr>\n",
       "    <tr>\n",
       "      <th>3</th>\n",
       "      <td>2016-01-15 03:00:00</td>\n",
       "      <td>6.047977</td>\n",
       "      <td>9.977019</td>\n",
       "      <td>4.858634</td>\n",
       "      <td>42.689819</td>\n",
       "      <td>68.347543</td>\n",
       "      <td>10.422762</td>\n",
       "      <td>0.883763</td>\n",
       "      <td>16.532835</td>\n",
       "      <td>2.146849</td>\n",
       "      <td>...</td>\n",
       "      <td>14.036510</td>\n",
       "      <td>-500.857308</td>\n",
       "      <td>11.999550</td>\n",
       "      <td>-501.193686</td>\n",
       "      <td>9.970366</td>\n",
       "      <td>-499.201640</td>\n",
       "      <td>7.977324</td>\n",
       "      <td>-500.255908</td>\n",
       "      <td>14.005551</td>\n",
       "      <td>-599.996129</td>\n",
       "    </tr>\n",
       "    <tr>\n",
       "      <th>4</th>\n",
       "      <td>2016-01-15 04:00:00</td>\n",
       "      <td>6.148599</td>\n",
       "      <td>10.142511</td>\n",
       "      <td>4.939416</td>\n",
       "      <td>42.774141</td>\n",
       "      <td>66.927016</td>\n",
       "      <td>10.360302</td>\n",
       "      <td>0.792826</td>\n",
       "      <td>16.525686</td>\n",
       "      <td>2.055292</td>\n",
       "      <td>...</td>\n",
       "      <td>14.027298</td>\n",
       "      <td>-499.838632</td>\n",
       "      <td>11.953070</td>\n",
       "      <td>-501.053894</td>\n",
       "      <td>9.925709</td>\n",
       "      <td>-501.686727</td>\n",
       "      <td>7.894242</td>\n",
       "      <td>-500.356035</td>\n",
       "      <td>13.996647</td>\n",
       "      <td>-601.496691</td>\n",
       "    </tr>\n",
       "  </tbody>\n",
       "</table>\n",
       "<p>5 rows × 87 columns</p>\n",
       "</div>"
      ],
      "text/plain": [
       "                  date  final.output.concentrate_ag  \\\n",
       "0  2016-01-15 00:00:00                     6.055403   \n",
       "1  2016-01-15 01:00:00                     6.029369   \n",
       "2  2016-01-15 02:00:00                     6.055926   \n",
       "3  2016-01-15 03:00:00                     6.047977   \n",
       "4  2016-01-15 04:00:00                     6.148599   \n",
       "\n",
       "   final.output.concentrate_pb  final.output.concentrate_sol  \\\n",
       "0                     9.889648                      5.507324   \n",
       "1                     9.968944                      5.257781   \n",
       "2                    10.213995                      5.383759   \n",
       "3                     9.977019                      4.858634   \n",
       "4                    10.142511                      4.939416   \n",
       "\n",
       "   final.output.concentrate_au  final.output.recovery  final.output.tail_ag  \\\n",
       "0                    42.192020              70.541216             10.411962   \n",
       "1                    42.701629              69.266198             10.462676   \n",
       "2                    42.657501              68.116445             10.507046   \n",
       "3                    42.689819              68.347543             10.422762   \n",
       "4                    42.774141              66.927016             10.360302   \n",
       "\n",
       "   final.output.tail_pb  final.output.tail_sol  final.output.tail_au  ...  \\\n",
       "0              0.895447              16.904297              2.143149  ...   \n",
       "1              0.927452              16.634514              2.224930  ...   \n",
       "2              0.953716              16.208849              2.257889  ...   \n",
       "3              0.883763              16.532835              2.146849  ...   \n",
       "4              0.792826              16.525686              2.055292  ...   \n",
       "\n",
       "   secondary_cleaner.state.floatbank4_a_air  \\\n",
       "0                                 14.016835   \n",
       "1                                 13.992281   \n",
       "2                                 14.015015   \n",
       "3                                 14.036510   \n",
       "4                                 14.027298   \n",
       "\n",
       "   secondary_cleaner.state.floatbank4_a_level  \\\n",
       "0                                 -502.488007   \n",
       "1                                 -505.503262   \n",
       "2                                 -502.520901   \n",
       "3                                 -500.857308   \n",
       "4                                 -499.838632   \n",
       "\n",
       "   secondary_cleaner.state.floatbank4_b_air  \\\n",
       "0                                 12.099931   \n",
       "1                                 11.950531   \n",
       "2                                 11.912783   \n",
       "3                                 11.999550   \n",
       "4                                 11.953070   \n",
       "\n",
       "   secondary_cleaner.state.floatbank4_b_level  \\\n",
       "0                                 -504.715942   \n",
       "1                                 -501.331529   \n",
       "2                                 -501.133383   \n",
       "3                                 -501.193686   \n",
       "4                                 -501.053894   \n",
       "\n",
       "   secondary_cleaner.state.floatbank5_a_air  \\\n",
       "0                                  9.925633   \n",
       "1                                 10.039245   \n",
       "2                                 10.070913   \n",
       "3                                  9.970366   \n",
       "4                                  9.925709   \n",
       "\n",
       "   secondary_cleaner.state.floatbank5_a_level  \\\n",
       "0                                 -498.310211   \n",
       "1                                 -500.169983   \n",
       "2                                 -500.129135   \n",
       "3                                 -499.201640   \n",
       "4                                 -501.686727   \n",
       "\n",
       "   secondary_cleaner.state.floatbank5_b_air  \\\n",
       "0                                  8.079666   \n",
       "1                                  7.984757   \n",
       "2                                  8.013877   \n",
       "3                                  7.977324   \n",
       "4                                  7.894242   \n",
       "\n",
       "   secondary_cleaner.state.floatbank5_b_level  \\\n",
       "0                                 -500.470978   \n",
       "1                                 -500.582168   \n",
       "2                                 -500.517572   \n",
       "3                                 -500.255908   \n",
       "4                                 -500.356035   \n",
       "\n",
       "   secondary_cleaner.state.floatbank6_a_air  \\\n",
       "0                                 14.151341   \n",
       "1                                 13.998353   \n",
       "2                                 14.028663   \n",
       "3                                 14.005551   \n",
       "4                                 13.996647   \n",
       "\n",
       "   secondary_cleaner.state.floatbank6_a_level  \n",
       "0                                 -605.841980  \n",
       "1                                 -599.787184  \n",
       "2                                 -601.427363  \n",
       "3                                 -599.996129  \n",
       "4                                 -601.496691  \n",
       "\n",
       "[5 rows x 87 columns]"
      ]
     },
     "execution_count": 3,
     "metadata": {},
     "output_type": "execute_result"
    }
   ],
   "source": [
    "train_data.head()"
   ]
  },
  {
   "cell_type": "code",
   "execution_count": 4,
   "metadata": {
    "scrolled": true
   },
   "outputs": [
    {
     "name": "stdout",
     "output_type": "stream",
     "text": [
      "<class 'pandas.core.frame.DataFrame'>\n",
      "RangeIndex: 14149 entries, 0 to 14148\n",
      "Data columns (total 87 columns):\n",
      " #   Column                                              Non-Null Count  Dtype  \n",
      "---  ------                                              --------------  -----  \n",
      " 0   date                                                14149 non-null  object \n",
      " 1   final.output.concentrate_ag                         14148 non-null  float64\n",
      " 2   final.output.concentrate_pb                         14148 non-null  float64\n",
      " 3   final.output.concentrate_sol                        13938 non-null  float64\n",
      " 4   final.output.concentrate_au                         14149 non-null  float64\n",
      " 5   final.output.recovery                               14149 non-null  float64\n",
      " 6   final.output.tail_ag                                14149 non-null  float64\n",
      " 7   final.output.tail_pb                                14049 non-null  float64\n",
      " 8   final.output.tail_sol                               14144 non-null  float64\n",
      " 9   final.output.tail_au                                14149 non-null  float64\n",
      " 10  primary_cleaner.input.sulfate                       14129 non-null  float64\n",
      " 11  primary_cleaner.input.depressant                    14117 non-null  float64\n",
      " 12  primary_cleaner.input.feed_size                     14149 non-null  float64\n",
      " 13  primary_cleaner.input.xanthate                      14049 non-null  float64\n",
      " 14  primary_cleaner.output.concentrate_ag               14149 non-null  float64\n",
      " 15  primary_cleaner.output.concentrate_pb               14063 non-null  float64\n",
      " 16  primary_cleaner.output.concentrate_sol              13863 non-null  float64\n",
      " 17  primary_cleaner.output.concentrate_au               14149 non-null  float64\n",
      " 18  primary_cleaner.output.tail_ag                      14148 non-null  float64\n",
      " 19  primary_cleaner.output.tail_pb                      14134 non-null  float64\n",
      " 20  primary_cleaner.output.tail_sol                     14103 non-null  float64\n",
      " 21  primary_cleaner.output.tail_au                      14149 non-null  float64\n",
      " 22  primary_cleaner.state.floatbank8_a_air              14145 non-null  float64\n",
      " 23  primary_cleaner.state.floatbank8_a_level            14148 non-null  float64\n",
      " 24  primary_cleaner.state.floatbank8_b_air              14145 non-null  float64\n",
      " 25  primary_cleaner.state.floatbank8_b_level            14148 non-null  float64\n",
      " 26  primary_cleaner.state.floatbank8_c_air              14147 non-null  float64\n",
      " 27  primary_cleaner.state.floatbank8_c_level            14148 non-null  float64\n",
      " 28  primary_cleaner.state.floatbank8_d_air              14146 non-null  float64\n",
      " 29  primary_cleaner.state.floatbank8_d_level            14148 non-null  float64\n",
      " 30  rougher.calculation.sulfate_to_au_concentrate       14148 non-null  float64\n",
      " 31  rougher.calculation.floatbank10_sulfate_to_au_feed  14148 non-null  float64\n",
      " 32  rougher.calculation.floatbank11_sulfate_to_au_feed  14148 non-null  float64\n",
      " 33  rougher.calculation.au_pb_ratio                     14149 non-null  float64\n",
      " 34  rougher.input.feed_ag                               14149 non-null  float64\n",
      " 35  rougher.input.feed_pb                               14049 non-null  float64\n",
      " 36  rougher.input.feed_rate                             14141 non-null  float64\n",
      " 37  rougher.input.feed_size                             14005 non-null  float64\n",
      " 38  rougher.input.feed_sol                              14071 non-null  float64\n",
      " 39  rougher.input.feed_au                               14149 non-null  float64\n",
      " 40  rougher.input.floatbank10_sulfate                   14120 non-null  float64\n",
      " 41  rougher.input.floatbank10_xanthate                  14141 non-null  float64\n",
      " 42  rougher.input.floatbank11_sulfate                   14113 non-null  float64\n",
      " 43  rougher.input.floatbank11_xanthate                  13721 non-null  float64\n",
      " 44  rougher.output.concentrate_ag                       14149 non-null  float64\n",
      " 45  rougher.output.concentrate_pb                       14149 non-null  float64\n",
      " 46  rougher.output.concentrate_sol                      14127 non-null  float64\n",
      " 47  rougher.output.concentrate_au                       14149 non-null  float64\n",
      " 48  rougher.output.recovery                             14149 non-null  float64\n",
      " 49  rougher.output.tail_ag                              14148 non-null  float64\n",
      " 50  rougher.output.tail_pb                              14149 non-null  float64\n",
      " 51  rougher.output.tail_sol                             14149 non-null  float64\n",
      " 52  rougher.output.tail_au                              14149 non-null  float64\n",
      " 53  rougher.state.floatbank10_a_air                     14148 non-null  float64\n",
      " 54  rougher.state.floatbank10_a_level                   14148 non-null  float64\n",
      " 55  rougher.state.floatbank10_b_air                     14148 non-null  float64\n",
      " 56  rougher.state.floatbank10_b_level                   14148 non-null  float64\n",
      " 57  rougher.state.floatbank10_c_air                     14148 non-null  float64\n",
      " 58  rougher.state.floatbank10_c_level                   14148 non-null  float64\n",
      " 59  rougher.state.floatbank10_d_air                     14149 non-null  float64\n",
      " 60  rougher.state.floatbank10_d_level                   14149 non-null  float64\n",
      " 61  rougher.state.floatbank10_e_air                     13713 non-null  float64\n",
      " 62  rougher.state.floatbank10_e_level                   14149 non-null  float64\n",
      " 63  rougher.state.floatbank10_f_air                     14149 non-null  float64\n",
      " 64  rougher.state.floatbank10_f_level                   14149 non-null  float64\n",
      " 65  secondary_cleaner.output.tail_ag                    14147 non-null  float64\n",
      " 66  secondary_cleaner.output.tail_pb                    14139 non-null  float64\n",
      " 67  secondary_cleaner.output.tail_sol                   12544 non-null  float64\n",
      " 68  secondary_cleaner.output.tail_au                    14149 non-null  float64\n",
      " 69  secondary_cleaner.state.floatbank2_a_air            13932 non-null  float64\n",
      " 70  secondary_cleaner.state.floatbank2_a_level          14148 non-null  float64\n",
      " 71  secondary_cleaner.state.floatbank2_b_air            14128 non-null  float64\n",
      " 72  secondary_cleaner.state.floatbank2_b_level          14148 non-null  float64\n",
      " 73  secondary_cleaner.state.floatbank3_a_air            14145 non-null  float64\n",
      " 74  secondary_cleaner.state.floatbank3_a_level          14148 non-null  float64\n",
      " 75  secondary_cleaner.state.floatbank3_b_air            14148 non-null  float64\n",
      " 76  secondary_cleaner.state.floatbank3_b_level          14148 non-null  float64\n",
      " 77  secondary_cleaner.state.floatbank4_a_air            14143 non-null  float64\n",
      " 78  secondary_cleaner.state.floatbank4_a_level          14148 non-null  float64\n",
      " 79  secondary_cleaner.state.floatbank4_b_air            14148 non-null  float64\n",
      " 80  secondary_cleaner.state.floatbank4_b_level          14148 non-null  float64\n",
      " 81  secondary_cleaner.state.floatbank5_a_air            14148 non-null  float64\n",
      " 82  secondary_cleaner.state.floatbank5_a_level          14148 non-null  float64\n",
      " 83  secondary_cleaner.state.floatbank5_b_air            14148 non-null  float64\n",
      " 84  secondary_cleaner.state.floatbank5_b_level          14148 non-null  float64\n",
      " 85  secondary_cleaner.state.floatbank6_a_air            14147 non-null  float64\n",
      " 86  secondary_cleaner.state.floatbank6_a_level          14148 non-null  float64\n",
      "dtypes: float64(86), object(1)\n",
      "memory usage: 9.4+ MB\n"
     ]
    }
   ],
   "source": [
    "train_data.info()"
   ]
  },
  {
   "cell_type": "code",
   "execution_count": 5,
   "metadata": {
    "scrolled": true
   },
   "outputs": [
    {
     "data": {
      "text/html": [
       "<div>\n",
       "<style scoped>\n",
       "    .dataframe tbody tr th:only-of-type {\n",
       "        vertical-align: middle;\n",
       "    }\n",
       "\n",
       "    .dataframe tbody tr th {\n",
       "        vertical-align: top;\n",
       "    }\n",
       "\n",
       "    .dataframe thead th {\n",
       "        text-align: right;\n",
       "    }\n",
       "</style>\n",
       "<table border=\"1\" class=\"dataframe\">\n",
       "  <thead>\n",
       "    <tr style=\"text-align: right;\">\n",
       "      <th></th>\n",
       "      <th>date</th>\n",
       "      <th>primary_cleaner.input.sulfate</th>\n",
       "      <th>primary_cleaner.input.depressant</th>\n",
       "      <th>primary_cleaner.input.feed_size</th>\n",
       "      <th>primary_cleaner.input.xanthate</th>\n",
       "      <th>primary_cleaner.state.floatbank8_a_air</th>\n",
       "      <th>primary_cleaner.state.floatbank8_a_level</th>\n",
       "      <th>primary_cleaner.state.floatbank8_b_air</th>\n",
       "      <th>primary_cleaner.state.floatbank8_b_level</th>\n",
       "      <th>primary_cleaner.state.floatbank8_c_air</th>\n",
       "      <th>...</th>\n",
       "      <th>secondary_cleaner.state.floatbank4_a_air</th>\n",
       "      <th>secondary_cleaner.state.floatbank4_a_level</th>\n",
       "      <th>secondary_cleaner.state.floatbank4_b_air</th>\n",
       "      <th>secondary_cleaner.state.floatbank4_b_level</th>\n",
       "      <th>secondary_cleaner.state.floatbank5_a_air</th>\n",
       "      <th>secondary_cleaner.state.floatbank5_a_level</th>\n",
       "      <th>secondary_cleaner.state.floatbank5_b_air</th>\n",
       "      <th>secondary_cleaner.state.floatbank5_b_level</th>\n",
       "      <th>secondary_cleaner.state.floatbank6_a_air</th>\n",
       "      <th>secondary_cleaner.state.floatbank6_a_level</th>\n",
       "    </tr>\n",
       "  </thead>\n",
       "  <tbody>\n",
       "    <tr>\n",
       "      <th>0</th>\n",
       "      <td>2016-09-01 00:59:59</td>\n",
       "      <td>210.800909</td>\n",
       "      <td>14.993118</td>\n",
       "      <td>8.080000</td>\n",
       "      <td>1.005021</td>\n",
       "      <td>1398.981301</td>\n",
       "      <td>-500.225577</td>\n",
       "      <td>1399.144926</td>\n",
       "      <td>-499.919735</td>\n",
       "      <td>1400.102998</td>\n",
       "      <td>...</td>\n",
       "      <td>12.023554</td>\n",
       "      <td>-497.795834</td>\n",
       "      <td>8.016656</td>\n",
       "      <td>-501.289139</td>\n",
       "      <td>7.946562</td>\n",
       "      <td>-432.317850</td>\n",
       "      <td>4.872511</td>\n",
       "      <td>-500.037437</td>\n",
       "      <td>26.705889</td>\n",
       "      <td>-499.709414</td>\n",
       "    </tr>\n",
       "    <tr>\n",
       "      <th>1</th>\n",
       "      <td>2016-09-01 01:59:59</td>\n",
       "      <td>215.392455</td>\n",
       "      <td>14.987471</td>\n",
       "      <td>8.080000</td>\n",
       "      <td>0.990469</td>\n",
       "      <td>1398.777912</td>\n",
       "      <td>-500.057435</td>\n",
       "      <td>1398.055362</td>\n",
       "      <td>-499.778182</td>\n",
       "      <td>1396.151033</td>\n",
       "      <td>...</td>\n",
       "      <td>12.058140</td>\n",
       "      <td>-498.695773</td>\n",
       "      <td>8.130979</td>\n",
       "      <td>-499.634209</td>\n",
       "      <td>7.958270</td>\n",
       "      <td>-525.839648</td>\n",
       "      <td>4.878850</td>\n",
       "      <td>-500.162375</td>\n",
       "      <td>25.019940</td>\n",
       "      <td>-499.819438</td>\n",
       "    </tr>\n",
       "    <tr>\n",
       "      <th>2</th>\n",
       "      <td>2016-09-01 02:59:59</td>\n",
       "      <td>215.259946</td>\n",
       "      <td>12.884934</td>\n",
       "      <td>7.786667</td>\n",
       "      <td>0.996043</td>\n",
       "      <td>1398.493666</td>\n",
       "      <td>-500.868360</td>\n",
       "      <td>1398.860436</td>\n",
       "      <td>-499.764529</td>\n",
       "      <td>1398.075709</td>\n",
       "      <td>...</td>\n",
       "      <td>11.962366</td>\n",
       "      <td>-498.767484</td>\n",
       "      <td>8.096893</td>\n",
       "      <td>-500.827423</td>\n",
       "      <td>8.071056</td>\n",
       "      <td>-500.801673</td>\n",
       "      <td>4.905125</td>\n",
       "      <td>-499.828510</td>\n",
       "      <td>24.994862</td>\n",
       "      <td>-500.622559</td>\n",
       "    </tr>\n",
       "    <tr>\n",
       "      <th>3</th>\n",
       "      <td>2016-09-01 03:59:59</td>\n",
       "      <td>215.336236</td>\n",
       "      <td>12.006805</td>\n",
       "      <td>7.640000</td>\n",
       "      <td>0.863514</td>\n",
       "      <td>1399.618111</td>\n",
       "      <td>-498.863574</td>\n",
       "      <td>1397.440120</td>\n",
       "      <td>-499.211024</td>\n",
       "      <td>1400.129303</td>\n",
       "      <td>...</td>\n",
       "      <td>12.033091</td>\n",
       "      <td>-498.350935</td>\n",
       "      <td>8.074946</td>\n",
       "      <td>-499.474407</td>\n",
       "      <td>7.897085</td>\n",
       "      <td>-500.868509</td>\n",
       "      <td>4.931400</td>\n",
       "      <td>-499.963623</td>\n",
       "      <td>24.948919</td>\n",
       "      <td>-498.709987</td>\n",
       "    </tr>\n",
       "    <tr>\n",
       "      <th>4</th>\n",
       "      <td>2016-09-01 04:59:59</td>\n",
       "      <td>199.099327</td>\n",
       "      <td>10.682530</td>\n",
       "      <td>7.530000</td>\n",
       "      <td>0.805575</td>\n",
       "      <td>1401.268123</td>\n",
       "      <td>-500.808305</td>\n",
       "      <td>1398.128818</td>\n",
       "      <td>-499.504543</td>\n",
       "      <td>1402.172226</td>\n",
       "      <td>...</td>\n",
       "      <td>12.025367</td>\n",
       "      <td>-500.786497</td>\n",
       "      <td>8.054678</td>\n",
       "      <td>-500.397500</td>\n",
       "      <td>8.107890</td>\n",
       "      <td>-509.526725</td>\n",
       "      <td>4.957674</td>\n",
       "      <td>-500.360026</td>\n",
       "      <td>25.003331</td>\n",
       "      <td>-500.856333</td>\n",
       "    </tr>\n",
       "  </tbody>\n",
       "</table>\n",
       "<p>5 rows × 53 columns</p>\n",
       "</div>"
      ],
      "text/plain": [
       "                  date  primary_cleaner.input.sulfate  \\\n",
       "0  2016-09-01 00:59:59                     210.800909   \n",
       "1  2016-09-01 01:59:59                     215.392455   \n",
       "2  2016-09-01 02:59:59                     215.259946   \n",
       "3  2016-09-01 03:59:59                     215.336236   \n",
       "4  2016-09-01 04:59:59                     199.099327   \n",
       "\n",
       "   primary_cleaner.input.depressant  primary_cleaner.input.feed_size  \\\n",
       "0                         14.993118                         8.080000   \n",
       "1                         14.987471                         8.080000   \n",
       "2                         12.884934                         7.786667   \n",
       "3                         12.006805                         7.640000   \n",
       "4                         10.682530                         7.530000   \n",
       "\n",
       "   primary_cleaner.input.xanthate  primary_cleaner.state.floatbank8_a_air  \\\n",
       "0                        1.005021                             1398.981301   \n",
       "1                        0.990469                             1398.777912   \n",
       "2                        0.996043                             1398.493666   \n",
       "3                        0.863514                             1399.618111   \n",
       "4                        0.805575                             1401.268123   \n",
       "\n",
       "   primary_cleaner.state.floatbank8_a_level  \\\n",
       "0                               -500.225577   \n",
       "1                               -500.057435   \n",
       "2                               -500.868360   \n",
       "3                               -498.863574   \n",
       "4                               -500.808305   \n",
       "\n",
       "   primary_cleaner.state.floatbank8_b_air  \\\n",
       "0                             1399.144926   \n",
       "1                             1398.055362   \n",
       "2                             1398.860436   \n",
       "3                             1397.440120   \n",
       "4                             1398.128818   \n",
       "\n",
       "   primary_cleaner.state.floatbank8_b_level  \\\n",
       "0                               -499.919735   \n",
       "1                               -499.778182   \n",
       "2                               -499.764529   \n",
       "3                               -499.211024   \n",
       "4                               -499.504543   \n",
       "\n",
       "   primary_cleaner.state.floatbank8_c_air  ...  \\\n",
       "0                             1400.102998  ...   \n",
       "1                             1396.151033  ...   \n",
       "2                             1398.075709  ...   \n",
       "3                             1400.129303  ...   \n",
       "4                             1402.172226  ...   \n",
       "\n",
       "   secondary_cleaner.state.floatbank4_a_air  \\\n",
       "0                                 12.023554   \n",
       "1                                 12.058140   \n",
       "2                                 11.962366   \n",
       "3                                 12.033091   \n",
       "4                                 12.025367   \n",
       "\n",
       "   secondary_cleaner.state.floatbank4_a_level  \\\n",
       "0                                 -497.795834   \n",
       "1                                 -498.695773   \n",
       "2                                 -498.767484   \n",
       "3                                 -498.350935   \n",
       "4                                 -500.786497   \n",
       "\n",
       "   secondary_cleaner.state.floatbank4_b_air  \\\n",
       "0                                  8.016656   \n",
       "1                                  8.130979   \n",
       "2                                  8.096893   \n",
       "3                                  8.074946   \n",
       "4                                  8.054678   \n",
       "\n",
       "   secondary_cleaner.state.floatbank4_b_level  \\\n",
       "0                                 -501.289139   \n",
       "1                                 -499.634209   \n",
       "2                                 -500.827423   \n",
       "3                                 -499.474407   \n",
       "4                                 -500.397500   \n",
       "\n",
       "   secondary_cleaner.state.floatbank5_a_air  \\\n",
       "0                                  7.946562   \n",
       "1                                  7.958270   \n",
       "2                                  8.071056   \n",
       "3                                  7.897085   \n",
       "4                                  8.107890   \n",
       "\n",
       "   secondary_cleaner.state.floatbank5_a_level  \\\n",
       "0                                 -432.317850   \n",
       "1                                 -525.839648   \n",
       "2                                 -500.801673   \n",
       "3                                 -500.868509   \n",
       "4                                 -509.526725   \n",
       "\n",
       "   secondary_cleaner.state.floatbank5_b_air  \\\n",
       "0                                  4.872511   \n",
       "1                                  4.878850   \n",
       "2                                  4.905125   \n",
       "3                                  4.931400   \n",
       "4                                  4.957674   \n",
       "\n",
       "   secondary_cleaner.state.floatbank5_b_level  \\\n",
       "0                                 -500.037437   \n",
       "1                                 -500.162375   \n",
       "2                                 -499.828510   \n",
       "3                                 -499.963623   \n",
       "4                                 -500.360026   \n",
       "\n",
       "   secondary_cleaner.state.floatbank6_a_air  \\\n",
       "0                                 26.705889   \n",
       "1                                 25.019940   \n",
       "2                                 24.994862   \n",
       "3                                 24.948919   \n",
       "4                                 25.003331   \n",
       "\n",
       "   secondary_cleaner.state.floatbank6_a_level  \n",
       "0                                 -499.709414  \n",
       "1                                 -499.819438  \n",
       "2                                 -500.622559  \n",
       "3                                 -498.709987  \n",
       "4                                 -500.856333  \n",
       "\n",
       "[5 rows x 53 columns]"
      ]
     },
     "execution_count": 5,
     "metadata": {},
     "output_type": "execute_result"
    }
   ],
   "source": [
    "test_data.head()"
   ]
  },
  {
   "cell_type": "code",
   "execution_count": 6,
   "metadata": {
    "scrolled": true
   },
   "outputs": [
    {
     "name": "stdout",
     "output_type": "stream",
     "text": [
      "<class 'pandas.core.frame.DataFrame'>\n",
      "RangeIndex: 5290 entries, 0 to 5289\n",
      "Data columns (total 53 columns):\n",
      " #   Column                                      Non-Null Count  Dtype  \n",
      "---  ------                                      --------------  -----  \n",
      " 0   date                                        5290 non-null   object \n",
      " 1   primary_cleaner.input.sulfate               5286 non-null   float64\n",
      " 2   primary_cleaner.input.depressant            5285 non-null   float64\n",
      " 3   primary_cleaner.input.feed_size             5290 non-null   float64\n",
      " 4   primary_cleaner.input.xanthate              5286 non-null   float64\n",
      " 5   primary_cleaner.state.floatbank8_a_air      5290 non-null   float64\n",
      " 6   primary_cleaner.state.floatbank8_a_level    5290 non-null   float64\n",
      " 7   primary_cleaner.state.floatbank8_b_air      5290 non-null   float64\n",
      " 8   primary_cleaner.state.floatbank8_b_level    5290 non-null   float64\n",
      " 9   primary_cleaner.state.floatbank8_c_air      5290 non-null   float64\n",
      " 10  primary_cleaner.state.floatbank8_c_level    5290 non-null   float64\n",
      " 11  primary_cleaner.state.floatbank8_d_air      5290 non-null   float64\n",
      " 12  primary_cleaner.state.floatbank8_d_level    5290 non-null   float64\n",
      " 13  rougher.input.feed_ag                       5290 non-null   float64\n",
      " 14  rougher.input.feed_pb                       5290 non-null   float64\n",
      " 15  rougher.input.feed_rate                     5287 non-null   float64\n",
      " 16  rougher.input.feed_size                     5289 non-null   float64\n",
      " 17  rougher.input.feed_sol                      5269 non-null   float64\n",
      " 18  rougher.input.feed_au                       5290 non-null   float64\n",
      " 19  rougher.input.floatbank10_sulfate           5285 non-null   float64\n",
      " 20  rougher.input.floatbank10_xanthate          5290 non-null   float64\n",
      " 21  rougher.input.floatbank11_sulfate           5282 non-null   float64\n",
      " 22  rougher.input.floatbank11_xanthate          5265 non-null   float64\n",
      " 23  rougher.state.floatbank10_a_air             5290 non-null   float64\n",
      " 24  rougher.state.floatbank10_a_level           5290 non-null   float64\n",
      " 25  rougher.state.floatbank10_b_air             5290 non-null   float64\n",
      " 26  rougher.state.floatbank10_b_level           5290 non-null   float64\n",
      " 27  rougher.state.floatbank10_c_air             5290 non-null   float64\n",
      " 28  rougher.state.floatbank10_c_level           5290 non-null   float64\n",
      " 29  rougher.state.floatbank10_d_air             5290 non-null   float64\n",
      " 30  rougher.state.floatbank10_d_level           5290 non-null   float64\n",
      " 31  rougher.state.floatbank10_e_air             5290 non-null   float64\n",
      " 32  rougher.state.floatbank10_e_level           5290 non-null   float64\n",
      " 33  rougher.state.floatbank10_f_air             5290 non-null   float64\n",
      " 34  rougher.state.floatbank10_f_level           5290 non-null   float64\n",
      " 35  secondary_cleaner.state.floatbank2_a_air    5287 non-null   float64\n",
      " 36  secondary_cleaner.state.floatbank2_a_level  5290 non-null   float64\n",
      " 37  secondary_cleaner.state.floatbank2_b_air    5288 non-null   float64\n",
      " 38  secondary_cleaner.state.floatbank2_b_level  5290 non-null   float64\n",
      " 39  secondary_cleaner.state.floatbank3_a_air    5281 non-null   float64\n",
      " 40  secondary_cleaner.state.floatbank3_a_level  5290 non-null   float64\n",
      " 41  secondary_cleaner.state.floatbank3_b_air    5290 non-null   float64\n",
      " 42  secondary_cleaner.state.floatbank3_b_level  5290 non-null   float64\n",
      " 43  secondary_cleaner.state.floatbank4_a_air    5290 non-null   float64\n",
      " 44  secondary_cleaner.state.floatbank4_a_level  5290 non-null   float64\n",
      " 45  secondary_cleaner.state.floatbank4_b_air    5290 non-null   float64\n",
      " 46  secondary_cleaner.state.floatbank4_b_level  5290 non-null   float64\n",
      " 47  secondary_cleaner.state.floatbank5_a_air    5290 non-null   float64\n",
      " 48  secondary_cleaner.state.floatbank5_a_level  5290 non-null   float64\n",
      " 49  secondary_cleaner.state.floatbank5_b_air    5290 non-null   float64\n",
      " 50  secondary_cleaner.state.floatbank5_b_level  5290 non-null   float64\n",
      " 51  secondary_cleaner.state.floatbank6_a_air    5290 non-null   float64\n",
      " 52  secondary_cleaner.state.floatbank6_a_level  5290 non-null   float64\n",
      "dtypes: float64(52), object(1)\n",
      "memory usage: 2.1+ MB\n"
     ]
    }
   ],
   "source": [
    "test_data.info()"
   ]
  },
  {
   "cell_type": "code",
   "execution_count": 7,
   "metadata": {
    "scrolled": true
   },
   "outputs": [
    {
     "data": {
      "text/html": [
       "<div>\n",
       "<style scoped>\n",
       "    .dataframe tbody tr th:only-of-type {\n",
       "        vertical-align: middle;\n",
       "    }\n",
       "\n",
       "    .dataframe tbody tr th {\n",
       "        vertical-align: top;\n",
       "    }\n",
       "\n",
       "    .dataframe thead th {\n",
       "        text-align: right;\n",
       "    }\n",
       "</style>\n",
       "<table border=\"1\" class=\"dataframe\">\n",
       "  <thead>\n",
       "    <tr style=\"text-align: right;\">\n",
       "      <th></th>\n",
       "      <th>date</th>\n",
       "      <th>final.output.concentrate_ag</th>\n",
       "      <th>final.output.concentrate_pb</th>\n",
       "      <th>final.output.concentrate_sol</th>\n",
       "      <th>final.output.concentrate_au</th>\n",
       "      <th>final.output.recovery</th>\n",
       "      <th>final.output.tail_ag</th>\n",
       "      <th>final.output.tail_pb</th>\n",
       "      <th>final.output.tail_sol</th>\n",
       "      <th>final.output.tail_au</th>\n",
       "      <th>...</th>\n",
       "      <th>secondary_cleaner.state.floatbank4_a_air</th>\n",
       "      <th>secondary_cleaner.state.floatbank4_a_level</th>\n",
       "      <th>secondary_cleaner.state.floatbank4_b_air</th>\n",
       "      <th>secondary_cleaner.state.floatbank4_b_level</th>\n",
       "      <th>secondary_cleaner.state.floatbank5_a_air</th>\n",
       "      <th>secondary_cleaner.state.floatbank5_a_level</th>\n",
       "      <th>secondary_cleaner.state.floatbank5_b_air</th>\n",
       "      <th>secondary_cleaner.state.floatbank5_b_level</th>\n",
       "      <th>secondary_cleaner.state.floatbank6_a_air</th>\n",
       "      <th>secondary_cleaner.state.floatbank6_a_level</th>\n",
       "    </tr>\n",
       "  </thead>\n",
       "  <tbody>\n",
       "    <tr>\n",
       "      <th>0</th>\n",
       "      <td>2016-01-15 00:00:00</td>\n",
       "      <td>6.055403</td>\n",
       "      <td>9.889648</td>\n",
       "      <td>5.507324</td>\n",
       "      <td>42.192020</td>\n",
       "      <td>70.541216</td>\n",
       "      <td>10.411962</td>\n",
       "      <td>0.895447</td>\n",
       "      <td>16.904297</td>\n",
       "      <td>2.143149</td>\n",
       "      <td>...</td>\n",
       "      <td>14.016835</td>\n",
       "      <td>-502.488007</td>\n",
       "      <td>12.099931</td>\n",
       "      <td>-504.715942</td>\n",
       "      <td>9.925633</td>\n",
       "      <td>-498.310211</td>\n",
       "      <td>8.079666</td>\n",
       "      <td>-500.470978</td>\n",
       "      <td>14.151341</td>\n",
       "      <td>-605.841980</td>\n",
       "    </tr>\n",
       "    <tr>\n",
       "      <th>1</th>\n",
       "      <td>2016-01-15 01:00:00</td>\n",
       "      <td>6.029369</td>\n",
       "      <td>9.968944</td>\n",
       "      <td>5.257781</td>\n",
       "      <td>42.701629</td>\n",
       "      <td>69.266198</td>\n",
       "      <td>10.462676</td>\n",
       "      <td>0.927452</td>\n",
       "      <td>16.634514</td>\n",
       "      <td>2.224930</td>\n",
       "      <td>...</td>\n",
       "      <td>13.992281</td>\n",
       "      <td>-505.503262</td>\n",
       "      <td>11.950531</td>\n",
       "      <td>-501.331529</td>\n",
       "      <td>10.039245</td>\n",
       "      <td>-500.169983</td>\n",
       "      <td>7.984757</td>\n",
       "      <td>-500.582168</td>\n",
       "      <td>13.998353</td>\n",
       "      <td>-599.787184</td>\n",
       "    </tr>\n",
       "    <tr>\n",
       "      <th>2</th>\n",
       "      <td>2016-01-15 02:00:00</td>\n",
       "      <td>6.055926</td>\n",
       "      <td>10.213995</td>\n",
       "      <td>5.383759</td>\n",
       "      <td>42.657501</td>\n",
       "      <td>68.116445</td>\n",
       "      <td>10.507046</td>\n",
       "      <td>0.953716</td>\n",
       "      <td>16.208849</td>\n",
       "      <td>2.257889</td>\n",
       "      <td>...</td>\n",
       "      <td>14.015015</td>\n",
       "      <td>-502.520901</td>\n",
       "      <td>11.912783</td>\n",
       "      <td>-501.133383</td>\n",
       "      <td>10.070913</td>\n",
       "      <td>-500.129135</td>\n",
       "      <td>8.013877</td>\n",
       "      <td>-500.517572</td>\n",
       "      <td>14.028663</td>\n",
       "      <td>-601.427363</td>\n",
       "    </tr>\n",
       "    <tr>\n",
       "      <th>3</th>\n",
       "      <td>2016-01-15 03:00:00</td>\n",
       "      <td>6.047977</td>\n",
       "      <td>9.977019</td>\n",
       "      <td>4.858634</td>\n",
       "      <td>42.689819</td>\n",
       "      <td>68.347543</td>\n",
       "      <td>10.422762</td>\n",
       "      <td>0.883763</td>\n",
       "      <td>16.532835</td>\n",
       "      <td>2.146849</td>\n",
       "      <td>...</td>\n",
       "      <td>14.036510</td>\n",
       "      <td>-500.857308</td>\n",
       "      <td>11.999550</td>\n",
       "      <td>-501.193686</td>\n",
       "      <td>9.970366</td>\n",
       "      <td>-499.201640</td>\n",
       "      <td>7.977324</td>\n",
       "      <td>-500.255908</td>\n",
       "      <td>14.005551</td>\n",
       "      <td>-599.996129</td>\n",
       "    </tr>\n",
       "    <tr>\n",
       "      <th>4</th>\n",
       "      <td>2016-01-15 04:00:00</td>\n",
       "      <td>6.148599</td>\n",
       "      <td>10.142511</td>\n",
       "      <td>4.939416</td>\n",
       "      <td>42.774141</td>\n",
       "      <td>66.927016</td>\n",
       "      <td>10.360302</td>\n",
       "      <td>0.792826</td>\n",
       "      <td>16.525686</td>\n",
       "      <td>2.055292</td>\n",
       "      <td>...</td>\n",
       "      <td>14.027298</td>\n",
       "      <td>-499.838632</td>\n",
       "      <td>11.953070</td>\n",
       "      <td>-501.053894</td>\n",
       "      <td>9.925709</td>\n",
       "      <td>-501.686727</td>\n",
       "      <td>7.894242</td>\n",
       "      <td>-500.356035</td>\n",
       "      <td>13.996647</td>\n",
       "      <td>-601.496691</td>\n",
       "    </tr>\n",
       "  </tbody>\n",
       "</table>\n",
       "<p>5 rows × 87 columns</p>\n",
       "</div>"
      ],
      "text/plain": [
       "                  date  final.output.concentrate_ag  \\\n",
       "0  2016-01-15 00:00:00                     6.055403   \n",
       "1  2016-01-15 01:00:00                     6.029369   \n",
       "2  2016-01-15 02:00:00                     6.055926   \n",
       "3  2016-01-15 03:00:00                     6.047977   \n",
       "4  2016-01-15 04:00:00                     6.148599   \n",
       "\n",
       "   final.output.concentrate_pb  final.output.concentrate_sol  \\\n",
       "0                     9.889648                      5.507324   \n",
       "1                     9.968944                      5.257781   \n",
       "2                    10.213995                      5.383759   \n",
       "3                     9.977019                      4.858634   \n",
       "4                    10.142511                      4.939416   \n",
       "\n",
       "   final.output.concentrate_au  final.output.recovery  final.output.tail_ag  \\\n",
       "0                    42.192020              70.541216             10.411962   \n",
       "1                    42.701629              69.266198             10.462676   \n",
       "2                    42.657501              68.116445             10.507046   \n",
       "3                    42.689819              68.347543             10.422762   \n",
       "4                    42.774141              66.927016             10.360302   \n",
       "\n",
       "   final.output.tail_pb  final.output.tail_sol  final.output.tail_au  ...  \\\n",
       "0              0.895447              16.904297              2.143149  ...   \n",
       "1              0.927452              16.634514              2.224930  ...   \n",
       "2              0.953716              16.208849              2.257889  ...   \n",
       "3              0.883763              16.532835              2.146849  ...   \n",
       "4              0.792826              16.525686              2.055292  ...   \n",
       "\n",
       "   secondary_cleaner.state.floatbank4_a_air  \\\n",
       "0                                 14.016835   \n",
       "1                                 13.992281   \n",
       "2                                 14.015015   \n",
       "3                                 14.036510   \n",
       "4                                 14.027298   \n",
       "\n",
       "   secondary_cleaner.state.floatbank4_a_level  \\\n",
       "0                                 -502.488007   \n",
       "1                                 -505.503262   \n",
       "2                                 -502.520901   \n",
       "3                                 -500.857308   \n",
       "4                                 -499.838632   \n",
       "\n",
       "   secondary_cleaner.state.floatbank4_b_air  \\\n",
       "0                                 12.099931   \n",
       "1                                 11.950531   \n",
       "2                                 11.912783   \n",
       "3                                 11.999550   \n",
       "4                                 11.953070   \n",
       "\n",
       "   secondary_cleaner.state.floatbank4_b_level  \\\n",
       "0                                 -504.715942   \n",
       "1                                 -501.331529   \n",
       "2                                 -501.133383   \n",
       "3                                 -501.193686   \n",
       "4                                 -501.053894   \n",
       "\n",
       "   secondary_cleaner.state.floatbank5_a_air  \\\n",
       "0                                  9.925633   \n",
       "1                                 10.039245   \n",
       "2                                 10.070913   \n",
       "3                                  9.970366   \n",
       "4                                  9.925709   \n",
       "\n",
       "   secondary_cleaner.state.floatbank5_a_level  \\\n",
       "0                                 -498.310211   \n",
       "1                                 -500.169983   \n",
       "2                                 -500.129135   \n",
       "3                                 -499.201640   \n",
       "4                                 -501.686727   \n",
       "\n",
       "   secondary_cleaner.state.floatbank5_b_air  \\\n",
       "0                                  8.079666   \n",
       "1                                  7.984757   \n",
       "2                                  8.013877   \n",
       "3                                  7.977324   \n",
       "4                                  7.894242   \n",
       "\n",
       "   secondary_cleaner.state.floatbank5_b_level  \\\n",
       "0                                 -500.470978   \n",
       "1                                 -500.582168   \n",
       "2                                 -500.517572   \n",
       "3                                 -500.255908   \n",
       "4                                 -500.356035   \n",
       "\n",
       "   secondary_cleaner.state.floatbank6_a_air  \\\n",
       "0                                 14.151341   \n",
       "1                                 13.998353   \n",
       "2                                 14.028663   \n",
       "3                                 14.005551   \n",
       "4                                 13.996647   \n",
       "\n",
       "   secondary_cleaner.state.floatbank6_a_level  \n",
       "0                                 -605.841980  \n",
       "1                                 -599.787184  \n",
       "2                                 -601.427363  \n",
       "3                                 -599.996129  \n",
       "4                                 -601.496691  \n",
       "\n",
       "[5 rows x 87 columns]"
      ]
     },
     "execution_count": 7,
     "metadata": {},
     "output_type": "execute_result"
    }
   ],
   "source": [
    "full_data.head()"
   ]
  },
  {
   "cell_type": "code",
   "execution_count": 8,
   "metadata": {
    "scrolled": true
   },
   "outputs": [
    {
     "data": {
      "text/html": [
       "<div>\n",
       "<style scoped>\n",
       "    .dataframe tbody tr th:only-of-type {\n",
       "        vertical-align: middle;\n",
       "    }\n",
       "\n",
       "    .dataframe tbody tr th {\n",
       "        vertical-align: top;\n",
       "    }\n",
       "\n",
       "    .dataframe thead th {\n",
       "        text-align: right;\n",
       "    }\n",
       "</style>\n",
       "<table border=\"1\" class=\"dataframe\">\n",
       "  <thead>\n",
       "    <tr style=\"text-align: right;\">\n",
       "      <th></th>\n",
       "      <th>date</th>\n",
       "      <th>final.output.concentrate_ag</th>\n",
       "      <th>final.output.concentrate_pb</th>\n",
       "      <th>final.output.concentrate_sol</th>\n",
       "      <th>final.output.concentrate_au</th>\n",
       "      <th>final.output.recovery</th>\n",
       "      <th>final.output.tail_ag</th>\n",
       "      <th>final.output.tail_pb</th>\n",
       "      <th>final.output.tail_sol</th>\n",
       "      <th>final.output.tail_au</th>\n",
       "      <th>...</th>\n",
       "      <th>secondary_cleaner.state.floatbank4_a_air</th>\n",
       "      <th>secondary_cleaner.state.floatbank4_a_level</th>\n",
       "      <th>secondary_cleaner.state.floatbank4_b_air</th>\n",
       "      <th>secondary_cleaner.state.floatbank4_b_level</th>\n",
       "      <th>secondary_cleaner.state.floatbank5_a_air</th>\n",
       "      <th>secondary_cleaner.state.floatbank5_a_level</th>\n",
       "      <th>secondary_cleaner.state.floatbank5_b_air</th>\n",
       "      <th>secondary_cleaner.state.floatbank5_b_level</th>\n",
       "      <th>secondary_cleaner.state.floatbank6_a_air</th>\n",
       "      <th>secondary_cleaner.state.floatbank6_a_level</th>\n",
       "    </tr>\n",
       "  </thead>\n",
       "  <tbody>\n",
       "    <tr>\n",
       "      <th>0</th>\n",
       "      <td>2016-01-15 00:00:00</td>\n",
       "      <td>6.055403</td>\n",
       "      <td>9.889648</td>\n",
       "      <td>5.507324</td>\n",
       "      <td>42.192020</td>\n",
       "      <td>70.541216</td>\n",
       "      <td>10.411962</td>\n",
       "      <td>0.895447</td>\n",
       "      <td>16.904297</td>\n",
       "      <td>2.143149</td>\n",
       "      <td>...</td>\n",
       "      <td>14.016835</td>\n",
       "      <td>-502.488007</td>\n",
       "      <td>12.099931</td>\n",
       "      <td>-504.715942</td>\n",
       "      <td>9.925633</td>\n",
       "      <td>-498.310211</td>\n",
       "      <td>8.079666</td>\n",
       "      <td>-500.470978</td>\n",
       "      <td>14.151341</td>\n",
       "      <td>-605.841980</td>\n",
       "    </tr>\n",
       "    <tr>\n",
       "      <th>1</th>\n",
       "      <td>2016-01-15 01:00:00</td>\n",
       "      <td>6.029369</td>\n",
       "      <td>9.968944</td>\n",
       "      <td>5.257781</td>\n",
       "      <td>42.701629</td>\n",
       "      <td>69.266198</td>\n",
       "      <td>10.462676</td>\n",
       "      <td>0.927452</td>\n",
       "      <td>16.634514</td>\n",
       "      <td>2.224930</td>\n",
       "      <td>...</td>\n",
       "      <td>13.992281</td>\n",
       "      <td>-505.503262</td>\n",
       "      <td>11.950531</td>\n",
       "      <td>-501.331529</td>\n",
       "      <td>10.039245</td>\n",
       "      <td>-500.169983</td>\n",
       "      <td>7.984757</td>\n",
       "      <td>-500.582168</td>\n",
       "      <td>13.998353</td>\n",
       "      <td>-599.787184</td>\n",
       "    </tr>\n",
       "    <tr>\n",
       "      <th>2</th>\n",
       "      <td>2016-01-15 02:00:00</td>\n",
       "      <td>6.055926</td>\n",
       "      <td>10.213995</td>\n",
       "      <td>5.383759</td>\n",
       "      <td>42.657501</td>\n",
       "      <td>68.116445</td>\n",
       "      <td>10.507046</td>\n",
       "      <td>0.953716</td>\n",
       "      <td>16.208849</td>\n",
       "      <td>2.257889</td>\n",
       "      <td>...</td>\n",
       "      <td>14.015015</td>\n",
       "      <td>-502.520901</td>\n",
       "      <td>11.912783</td>\n",
       "      <td>-501.133383</td>\n",
       "      <td>10.070913</td>\n",
       "      <td>-500.129135</td>\n",
       "      <td>8.013877</td>\n",
       "      <td>-500.517572</td>\n",
       "      <td>14.028663</td>\n",
       "      <td>-601.427363</td>\n",
       "    </tr>\n",
       "    <tr>\n",
       "      <th>3</th>\n",
       "      <td>2016-01-15 03:00:00</td>\n",
       "      <td>6.047977</td>\n",
       "      <td>9.977019</td>\n",
       "      <td>4.858634</td>\n",
       "      <td>42.689819</td>\n",
       "      <td>68.347543</td>\n",
       "      <td>10.422762</td>\n",
       "      <td>0.883763</td>\n",
       "      <td>16.532835</td>\n",
       "      <td>2.146849</td>\n",
       "      <td>...</td>\n",
       "      <td>14.036510</td>\n",
       "      <td>-500.857308</td>\n",
       "      <td>11.999550</td>\n",
       "      <td>-501.193686</td>\n",
       "      <td>9.970366</td>\n",
       "      <td>-499.201640</td>\n",
       "      <td>7.977324</td>\n",
       "      <td>-500.255908</td>\n",
       "      <td>14.005551</td>\n",
       "      <td>-599.996129</td>\n",
       "    </tr>\n",
       "    <tr>\n",
       "      <th>4</th>\n",
       "      <td>2016-01-15 04:00:00</td>\n",
       "      <td>6.148599</td>\n",
       "      <td>10.142511</td>\n",
       "      <td>4.939416</td>\n",
       "      <td>42.774141</td>\n",
       "      <td>66.927016</td>\n",
       "      <td>10.360302</td>\n",
       "      <td>0.792826</td>\n",
       "      <td>16.525686</td>\n",
       "      <td>2.055292</td>\n",
       "      <td>...</td>\n",
       "      <td>14.027298</td>\n",
       "      <td>-499.838632</td>\n",
       "      <td>11.953070</td>\n",
       "      <td>-501.053894</td>\n",
       "      <td>9.925709</td>\n",
       "      <td>-501.686727</td>\n",
       "      <td>7.894242</td>\n",
       "      <td>-500.356035</td>\n",
       "      <td>13.996647</td>\n",
       "      <td>-601.496691</td>\n",
       "    </tr>\n",
       "  </tbody>\n",
       "</table>\n",
       "<p>5 rows × 87 columns</p>\n",
       "</div>"
      ],
      "text/plain": [
       "                  date  final.output.concentrate_ag  \\\n",
       "0  2016-01-15 00:00:00                     6.055403   \n",
       "1  2016-01-15 01:00:00                     6.029369   \n",
       "2  2016-01-15 02:00:00                     6.055926   \n",
       "3  2016-01-15 03:00:00                     6.047977   \n",
       "4  2016-01-15 04:00:00                     6.148599   \n",
       "\n",
       "   final.output.concentrate_pb  final.output.concentrate_sol  \\\n",
       "0                     9.889648                      5.507324   \n",
       "1                     9.968944                      5.257781   \n",
       "2                    10.213995                      5.383759   \n",
       "3                     9.977019                      4.858634   \n",
       "4                    10.142511                      4.939416   \n",
       "\n",
       "   final.output.concentrate_au  final.output.recovery  final.output.tail_ag  \\\n",
       "0                    42.192020              70.541216             10.411962   \n",
       "1                    42.701629              69.266198             10.462676   \n",
       "2                    42.657501              68.116445             10.507046   \n",
       "3                    42.689819              68.347543             10.422762   \n",
       "4                    42.774141              66.927016             10.360302   \n",
       "\n",
       "   final.output.tail_pb  final.output.tail_sol  final.output.tail_au  ...  \\\n",
       "0              0.895447              16.904297              2.143149  ...   \n",
       "1              0.927452              16.634514              2.224930  ...   \n",
       "2              0.953716              16.208849              2.257889  ...   \n",
       "3              0.883763              16.532835              2.146849  ...   \n",
       "4              0.792826              16.525686              2.055292  ...   \n",
       "\n",
       "   secondary_cleaner.state.floatbank4_a_air  \\\n",
       "0                                 14.016835   \n",
       "1                                 13.992281   \n",
       "2                                 14.015015   \n",
       "3                                 14.036510   \n",
       "4                                 14.027298   \n",
       "\n",
       "   secondary_cleaner.state.floatbank4_a_level  \\\n",
       "0                                 -502.488007   \n",
       "1                                 -505.503262   \n",
       "2                                 -502.520901   \n",
       "3                                 -500.857308   \n",
       "4                                 -499.838632   \n",
       "\n",
       "   secondary_cleaner.state.floatbank4_b_air  \\\n",
       "0                                 12.099931   \n",
       "1                                 11.950531   \n",
       "2                                 11.912783   \n",
       "3                                 11.999550   \n",
       "4                                 11.953070   \n",
       "\n",
       "   secondary_cleaner.state.floatbank4_b_level  \\\n",
       "0                                 -504.715942   \n",
       "1                                 -501.331529   \n",
       "2                                 -501.133383   \n",
       "3                                 -501.193686   \n",
       "4                                 -501.053894   \n",
       "\n",
       "   secondary_cleaner.state.floatbank5_a_air  \\\n",
       "0                                  9.925633   \n",
       "1                                 10.039245   \n",
       "2                                 10.070913   \n",
       "3                                  9.970366   \n",
       "4                                  9.925709   \n",
       "\n",
       "   secondary_cleaner.state.floatbank5_a_level  \\\n",
       "0                                 -498.310211   \n",
       "1                                 -500.169983   \n",
       "2                                 -500.129135   \n",
       "3                                 -499.201640   \n",
       "4                                 -501.686727   \n",
       "\n",
       "   secondary_cleaner.state.floatbank5_b_air  \\\n",
       "0                                  8.079666   \n",
       "1                                  7.984757   \n",
       "2                                  8.013877   \n",
       "3                                  7.977324   \n",
       "4                                  7.894242   \n",
       "\n",
       "   secondary_cleaner.state.floatbank5_b_level  \\\n",
       "0                                 -500.470978   \n",
       "1                                 -500.582168   \n",
       "2                                 -500.517572   \n",
       "3                                 -500.255908   \n",
       "4                                 -500.356035   \n",
       "\n",
       "   secondary_cleaner.state.floatbank6_a_air  \\\n",
       "0                                 14.151341   \n",
       "1                                 13.998353   \n",
       "2                                 14.028663   \n",
       "3                                 14.005551   \n",
       "4                                 13.996647   \n",
       "\n",
       "   secondary_cleaner.state.floatbank6_a_level  \n",
       "0                                 -605.841980  \n",
       "1                                 -599.787184  \n",
       "2                                 -601.427363  \n",
       "3                                 -599.996129  \n",
       "4                                 -601.496691  \n",
       "\n",
       "[5 rows x 87 columns]"
      ]
     },
     "execution_count": 8,
     "metadata": {},
     "output_type": "execute_result"
    }
   ],
   "source": [
    "full_data.head()"
   ]
  },
  {
   "cell_type": "markdown",
   "metadata": {},
   "source": [
    "**Промежуточный вывод:**\n",
    "- В данных необходимо заполнить пропуски\n",
    "- В колонках date целесообразно будет изменить тип данных на datetime"
   ]
  },
  {
   "cell_type": "markdown",
   "metadata": {},
   "source": [
    "### Проверка правильности рассчёта эффективности обогащения\n",
    "Для этого вычислим recovery вручную и сравним с rougher.output.recovery  \n",
    "Формула: ((C*(F-T))/(F*(C-T)))*100, где:\n",
    "- С - доля золота концентрате после фильтрации/очитски\n",
    "- F - доля золота в сырье/концентрате до флотации/очистки\n",
    "- T - доля золота в отвальных хвостах после фильтрации/очистки"
   ]
  },
  {
   "cell_type": "code",
   "execution_count": 9,
   "metadata": {},
   "outputs": [],
   "source": [
    "C = train_data['rougher.output.concentrate_au']\n",
    "F = train_data['rougher.input.feed_au']\n",
    "T = train_data['rougher.output.tail_au']\n",
    "\n",
    "recovery = ((C*(F-T))/(F*(C-T)))*100"
   ]
  },
  {
   "cell_type": "code",
   "execution_count": 10,
   "metadata": {},
   "outputs": [
    {
     "data": {
      "text/plain": [
       "9.73512347450521e-15"
      ]
     },
     "execution_count": 10,
     "metadata": {},
     "output_type": "execute_result"
    }
   ],
   "source": [
    "mean_absolute_error(train_data['rougher.output.recovery'], recovery)"
   ]
  },
  {
   "cell_type": "markdown",
   "metadata": {},
   "source": [
    "Полученное значение MAE мало, из чего следует, что расчёты верны."
   ]
  },
  {
   "cell_type": "markdown",
   "metadata": {},
   "source": [
    "### Признаки, недоступные в тестовой выборке"
   ]
  },
  {
   "cell_type": "code",
   "execution_count": 11,
   "metadata": {
    "scrolled": true
   },
   "outputs": [
    {
     "data": {
      "text/plain": [
       "{'final.output.concentrate_ag',\n",
       " 'final.output.concentrate_au',\n",
       " 'final.output.concentrate_pb',\n",
       " 'final.output.concentrate_sol',\n",
       " 'final.output.recovery',\n",
       " 'final.output.tail_ag',\n",
       " 'final.output.tail_au',\n",
       " 'final.output.tail_pb',\n",
       " 'final.output.tail_sol',\n",
       " 'primary_cleaner.output.concentrate_ag',\n",
       " 'primary_cleaner.output.concentrate_au',\n",
       " 'primary_cleaner.output.concentrate_pb',\n",
       " 'primary_cleaner.output.concentrate_sol',\n",
       " 'primary_cleaner.output.tail_ag',\n",
       " 'primary_cleaner.output.tail_au',\n",
       " 'primary_cleaner.output.tail_pb',\n",
       " 'primary_cleaner.output.tail_sol',\n",
       " 'rougher.calculation.au_pb_ratio',\n",
       " 'rougher.calculation.floatbank10_sulfate_to_au_feed',\n",
       " 'rougher.calculation.floatbank11_sulfate_to_au_feed',\n",
       " 'rougher.calculation.sulfate_to_au_concentrate',\n",
       " 'rougher.output.concentrate_ag',\n",
       " 'rougher.output.concentrate_au',\n",
       " 'rougher.output.concentrate_pb',\n",
       " 'rougher.output.concentrate_sol',\n",
       " 'rougher.output.recovery',\n",
       " 'rougher.output.tail_ag',\n",
       " 'rougher.output.tail_au',\n",
       " 'rougher.output.tail_pb',\n",
       " 'rougher.output.tail_sol',\n",
       " 'secondary_cleaner.output.tail_ag',\n",
       " 'secondary_cleaner.output.tail_au',\n",
       " 'secondary_cleaner.output.tail_pb',\n",
       " 'secondary_cleaner.output.tail_sol'}"
      ]
     },
     "execution_count": 11,
     "metadata": {},
     "output_type": "execute_result"
    }
   ],
   "source": [
    "missed_features = set(full_data.columns ^ test_data.columns)\n",
    "missed_features"
   ]
  },
  {
   "cell_type": "markdown",
   "metadata": {},
   "source": [
    "В тестовой выборке в основном отсутствуют данные о параметрах продукта и расчётных характеристиках.  \n",
    "Вероятно, эти данные получают на более поздних этапах."
   ]
  },
  {
   "cell_type": "markdown",
   "metadata": {},
   "source": [
    "### Предобработка данных\n",
    "Сначала изменим тип данных в колонках даты"
   ]
  },
  {
   "cell_type": "code",
   "execution_count": 12,
   "metadata": {},
   "outputs": [],
   "source": [
    "full_data['date'] = pd.to_datetime(full_data['date'], format='%Y-%m-%d %H:%M:%S')\n",
    "train_data['date'] = pd.to_datetime(train_data['date'], format='%Y-%m-%d %H:%M:%S')\n",
    "test_data['date'] = pd.to_datetime(test_data['date'], format='%Y-%m-%d %H:%M:%S')"
   ]
  },
  {
   "cell_type": "markdown",
   "metadata": {},
   "source": [
    "А затем заполним отсутствующие значения близлежащими"
   ]
  },
  {
   "cell_type": "code",
   "execution_count": 13,
   "metadata": {},
   "outputs": [],
   "source": [
    "full_data = full_data.fillna(method='ffill')\n",
    "train_data = train_data.fillna(method='ffill')\n",
    "test_data = test_data.fillna(method='ffill')"
   ]
  },
  {
   "cell_type": "markdown",
   "metadata": {},
   "source": [
    "Теперь взглянем на результат манипуляций на примере info полных данных"
   ]
  },
  {
   "cell_type": "code",
   "execution_count": 14,
   "metadata": {
    "scrolled": true
   },
   "outputs": [
    {
     "name": "stdout",
     "output_type": "stream",
     "text": [
      "<class 'pandas.core.frame.DataFrame'>\n",
      "RangeIndex: 19439 entries, 0 to 19438\n",
      "Data columns (total 87 columns):\n",
      " #   Column                                              Non-Null Count  Dtype         \n",
      "---  ------                                              --------------  -----         \n",
      " 0   date                                                19439 non-null  datetime64[ns]\n",
      " 1   final.output.concentrate_ag                         19439 non-null  float64       \n",
      " 2   final.output.concentrate_pb                         19439 non-null  float64       \n",
      " 3   final.output.concentrate_sol                        19439 non-null  float64       \n",
      " 4   final.output.concentrate_au                         19439 non-null  float64       \n",
      " 5   final.output.recovery                               19439 non-null  float64       \n",
      " 6   final.output.tail_ag                                19439 non-null  float64       \n",
      " 7   final.output.tail_pb                                19439 non-null  float64       \n",
      " 8   final.output.tail_sol                               19439 non-null  float64       \n",
      " 9   final.output.tail_au                                19439 non-null  float64       \n",
      " 10  primary_cleaner.input.sulfate                       19439 non-null  float64       \n",
      " 11  primary_cleaner.input.depressant                    19439 non-null  float64       \n",
      " 12  primary_cleaner.input.feed_size                     19439 non-null  float64       \n",
      " 13  primary_cleaner.input.xanthate                      19439 non-null  float64       \n",
      " 14  primary_cleaner.output.concentrate_ag               19439 non-null  float64       \n",
      " 15  primary_cleaner.output.concentrate_pb               19439 non-null  float64       \n",
      " 16  primary_cleaner.output.concentrate_sol              19439 non-null  float64       \n",
      " 17  primary_cleaner.output.concentrate_au               19439 non-null  float64       \n",
      " 18  primary_cleaner.output.tail_ag                      19439 non-null  float64       \n",
      " 19  primary_cleaner.output.tail_pb                      19439 non-null  float64       \n",
      " 20  primary_cleaner.output.tail_sol                     19439 non-null  float64       \n",
      " 21  primary_cleaner.output.tail_au                      19439 non-null  float64       \n",
      " 22  primary_cleaner.state.floatbank8_a_air              19439 non-null  float64       \n",
      " 23  primary_cleaner.state.floatbank8_a_level            19439 non-null  float64       \n",
      " 24  primary_cleaner.state.floatbank8_b_air              19439 non-null  float64       \n",
      " 25  primary_cleaner.state.floatbank8_b_level            19439 non-null  float64       \n",
      " 26  primary_cleaner.state.floatbank8_c_air              19439 non-null  float64       \n",
      " 27  primary_cleaner.state.floatbank8_c_level            19439 non-null  float64       \n",
      " 28  primary_cleaner.state.floatbank8_d_air              19439 non-null  float64       \n",
      " 29  primary_cleaner.state.floatbank8_d_level            19439 non-null  float64       \n",
      " 30  rougher.calculation.sulfate_to_au_concentrate       19439 non-null  float64       \n",
      " 31  rougher.calculation.floatbank10_sulfate_to_au_feed  19439 non-null  float64       \n",
      " 32  rougher.calculation.floatbank11_sulfate_to_au_feed  19439 non-null  float64       \n",
      " 33  rougher.calculation.au_pb_ratio                     19439 non-null  float64       \n",
      " 34  rougher.input.feed_ag                               19439 non-null  float64       \n",
      " 35  rougher.input.feed_pb                               19439 non-null  float64       \n",
      " 36  rougher.input.feed_rate                             19439 non-null  float64       \n",
      " 37  rougher.input.feed_size                             19439 non-null  float64       \n",
      " 38  rougher.input.feed_sol                              19439 non-null  float64       \n",
      " 39  rougher.input.feed_au                               19439 non-null  float64       \n",
      " 40  rougher.input.floatbank10_sulfate                   19439 non-null  float64       \n",
      " 41  rougher.input.floatbank10_xanthate                  19439 non-null  float64       \n",
      " 42  rougher.input.floatbank11_sulfate                   19439 non-null  float64       \n",
      " 43  rougher.input.floatbank11_xanthate                  19439 non-null  float64       \n",
      " 44  rougher.output.concentrate_ag                       19439 non-null  float64       \n",
      " 45  rougher.output.concentrate_pb                       19439 non-null  float64       \n",
      " 46  rougher.output.concentrate_sol                      19439 non-null  float64       \n",
      " 47  rougher.output.concentrate_au                       19439 non-null  float64       \n",
      " 48  rougher.output.recovery                             19439 non-null  float64       \n",
      " 49  rougher.output.tail_ag                              19439 non-null  float64       \n",
      " 50  rougher.output.tail_pb                              19439 non-null  float64       \n",
      " 51  rougher.output.tail_sol                             19439 non-null  float64       \n",
      " 52  rougher.output.tail_au                              19439 non-null  float64       \n",
      " 53  rougher.state.floatbank10_a_air                     19439 non-null  float64       \n",
      " 54  rougher.state.floatbank10_a_level                   19439 non-null  float64       \n",
      " 55  rougher.state.floatbank10_b_air                     19439 non-null  float64       \n",
      " 56  rougher.state.floatbank10_b_level                   19439 non-null  float64       \n",
      " 57  rougher.state.floatbank10_c_air                     19439 non-null  float64       \n",
      " 58  rougher.state.floatbank10_c_level                   19439 non-null  float64       \n",
      " 59  rougher.state.floatbank10_d_air                     19439 non-null  float64       \n",
      " 60  rougher.state.floatbank10_d_level                   19439 non-null  float64       \n",
      " 61  rougher.state.floatbank10_e_air                     19439 non-null  float64       \n",
      " 62  rougher.state.floatbank10_e_level                   19439 non-null  float64       \n",
      " 63  rougher.state.floatbank10_f_air                     19439 non-null  float64       \n",
      " 64  rougher.state.floatbank10_f_level                   19439 non-null  float64       \n",
      " 65  secondary_cleaner.output.tail_ag                    19439 non-null  float64       \n",
      " 66  secondary_cleaner.output.tail_pb                    19439 non-null  float64       \n",
      " 67  secondary_cleaner.output.tail_sol                   19439 non-null  float64       \n",
      " 68  secondary_cleaner.output.tail_au                    19439 non-null  float64       \n",
      " 69  secondary_cleaner.state.floatbank2_a_air            19439 non-null  float64       \n",
      " 70  secondary_cleaner.state.floatbank2_a_level          19439 non-null  float64       \n",
      " 71  secondary_cleaner.state.floatbank2_b_air            19439 non-null  float64       \n",
      " 72  secondary_cleaner.state.floatbank2_b_level          19439 non-null  float64       \n",
      " 73  secondary_cleaner.state.floatbank3_a_air            19439 non-null  float64       \n",
      " 74  secondary_cleaner.state.floatbank3_a_level          19439 non-null  float64       \n",
      " 75  secondary_cleaner.state.floatbank3_b_air            19439 non-null  float64       \n",
      " 76  secondary_cleaner.state.floatbank3_b_level          19439 non-null  float64       \n",
      " 77  secondary_cleaner.state.floatbank4_a_air            19439 non-null  float64       \n",
      " 78  secondary_cleaner.state.floatbank4_a_level          19439 non-null  float64       \n",
      " 79  secondary_cleaner.state.floatbank4_b_air            19439 non-null  float64       \n",
      " 80  secondary_cleaner.state.floatbank4_b_level          19439 non-null  float64       \n",
      " 81  secondary_cleaner.state.floatbank5_a_air            19439 non-null  float64       \n",
      " 82  secondary_cleaner.state.floatbank5_a_level          19439 non-null  float64       \n",
      " 83  secondary_cleaner.state.floatbank5_b_air            19439 non-null  float64       \n",
      " 84  secondary_cleaner.state.floatbank5_b_level          19439 non-null  float64       \n",
      " 85  secondary_cleaner.state.floatbank6_a_air            19439 non-null  float64       \n",
      " 86  secondary_cleaner.state.floatbank6_a_level          19439 non-null  float64       \n",
      "dtypes: datetime64[ns](1), float64(86)\n",
      "memory usage: 12.9 MB\n"
     ]
    }
   ],
   "source": [
    "full_data.info()"
   ]
  },
  {
   "cell_type": "markdown",
   "metadata": {},
   "source": [
    "Теперь данные предобработаны и готовы к работе"
   ]
  },
  {
   "cell_type": "markdown",
   "metadata": {},
   "source": [
    "## Анализ данных"
   ]
  },
  {
   "cell_type": "markdown",
   "metadata": {},
   "source": [
    "### Изменение концентрации металлов (Au, Ag, Pb) на различных этапах очистки"
   ]
  },
  {
   "cell_type": "code",
   "execution_count": 15,
   "metadata": {},
   "outputs": [
    {
     "data": {
      "image/png": "[encoded data removed]",
      "text/plain": [
       "<Figure size 1080x1440 with 3 Axes>"
      ]
     },
     "metadata": {
      "needs_background": "light"
     },
     "output_type": "display_data"
    }
   ],
   "source": [
    "pos = 1\n",
    "plt.figure(figsize=[15, 20])\n",
    "plt.subplots_adjust(wspace=0.3, hspace=0.3)\n",
    "for metal in ['au', 'ag', 'pb']:\n",
    "    plt.subplot(3, 1, pos)\n",
    "    sns.set_style('whitegrid')\n",
    "    plt.grid(True)\n",
    "    plt.title(f'Изменение концентрации {metal.upper()} на различных этапах очистки')\n",
    "    sns.histplot(train_data[f'rougher.input.feed_{metal}'], \\\n",
    "                 color='pink', label='Сырьё', kde=False)\n",
    "    sns.histplot(train_data[f'rougher.output.concentrate_{metal}'], \\\n",
    "                 color='yellow', label='Концентрация после флотации', kde=False)\n",
    "    sns.histplot(train_data[f'primary_cleaner.output.concentrate_{metal}'], \\\n",
    "                 color='orange', label='Концентрация после первичной очистки', kde=False)\n",
    "    sns.histplot(train_data[f'final.output.concentrate_{metal}'], \\\n",
    "                 color='red', label='Финальная концентрация металла', kde=False)\n",
    "    plt.xlabel('Концентрация металла')\n",
    "    plt.ylabel('Кол-во наблюдений')\n",
    "    plt.legend()\n",
    "    pos += 1\n",
    "plt.show()"
   ]
  },
  {
   "cell_type": "markdown",
   "metadata": {},
   "source": [
    "- Доля золота после каждого этапа очистки планомерно увеличивается\n",
    "- Доля серебра увеличивается на этапе флотации, после чего постепенно уменьшается\n",
    "- Доля свинца увеличивается на этапе флотации и после первичной очистки, затем остается неизменной"
   ]
  },
  {
   "cell_type": "markdown",
   "metadata": {},
   "source": [
    "### Сравнение распределения размеров гранул сырья на обучающей и тестовой выборках"
   ]
  },
  {
   "cell_type": "code",
   "execution_count": 16,
   "metadata": {},
   "outputs": [
    {
     "data": {
      "image/png": "[encoded data removed]",
      "text/plain": [
       "<Figure size 1080x1440 with 2 Axes>"
      ]
     },
     "metadata": {},
     "output_type": "display_data"
    }
   ],
   "source": [
    "pos = 1\n",
    "plt.figure(figsize=[15, 20])\n",
    "plt.subplots_adjust(wspace=0.3, hspace=0.3)\n",
    "for stage in ['rougher', 'primary_cleaner']:\n",
    "    plt.subplot(2, 1, pos)\n",
    "    sns.set_style('whitegrid')\n",
    "    plt.grid(True)\n",
    "    plt.title(f'Распределение размеров гранул этапа {stage.upper()} на train и test выборках')\n",
    "    plt.hist(train_data[f'{stage}.input.feed_size'], \\\n",
    "             color='blue', label='Обучающая выборка', density=True)\n",
    "    plt.hist(test_data[f'{stage}.input.feed_size'], \\\n",
    "             color='green', label='Тестовая выборка', density=True)\n",
    "    plt.xlabel('Размер гранул')\n",
    "    plt.ylabel('Кол-во наблюдений')\n",
    "    plt.legend()\n",
    "    pos += 1\n",
    "plt.show()"
   ]
  },
  {
   "cell_type": "markdown",
   "metadata": {},
   "source": [
    "- На этапах флотации и первичной очистки распределение размеров гранул сырья для обеих выборок находится приблизительно в одном диапазоне"
   ]
  },
  {
   "cell_type": "markdown",
   "metadata": {},
   "source": [
    "### Исследование суммарной концентрации всех веществ на разных стадиях: в сырье, в черновом и финальном концентратах"
   ]
  },
  {
   "cell_type": "code",
   "execution_count": 17,
   "metadata": {},
   "outputs": [],
   "source": [
    "full_data = full_data[(full_data['rougher.output.concentrate_au'] != 0) &\n",
    "                      (full_data['rougher.output.concentrate_ag'] != 0) &\n",
    "                      (full_data['rougher.output.concentrate_pb'] != 0) &\n",
    "                      (full_data['rougher.output.concentrate_sol'] != 0)]\n",
    "\n",
    "full_data = full_data[(full_data['final.output.concentrate_au'] != 0) &\n",
    "                      (full_data['final.output.concentrate_ag'] != 0) &\n",
    "                      (full_data['final.output.concentrate_pb'] != 0) &\n",
    "                      (full_data['final.output.concentrate_sol'] != 0)]\n",
    "\n",
    "train_data = train_data.set_index('date')\n",
    "full_data = full_data.set_index('date')\n",
    "train_data = train_data.loc[train_data.index.isin(full_data.index)]"
   ]
  },
  {
   "cell_type": "code",
   "execution_count": 18,
   "metadata": {
    "scrolled": false
   },
   "outputs": [],
   "source": [
    "total_feed_data = train_data['rougher.input.feed_au'] + train_data['rougher.input.feed_ag'] + \\\n",
    "                  train_data['rougher.input.feed_pb'] + train_data['rougher.input.feed_sol']\n",
    "\n",
    "total_concentrate_rougher = train_data['rougher.output.concentrate_au'] + \\\n",
    "                            train_data['rougher.output.concentrate_ag'] + \\\n",
    "                            train_data['rougher.output.concentrate_pb'] + \\\n",
    "                            train_data['rougher.output.concentrate_sol']\n",
    "\n",
    "total_concentrate_final = train_data['final.output.concentrate_au'] + \\\n",
    "                          train_data['final.output.concentrate_ag'] + \\\n",
    "                          train_data['final.output.concentrate_pb'] + \\\n",
    "                          train_data['final.output.concentrate_sol']"
   ]
  },
  {
   "cell_type": "code",
   "execution_count": 22,
   "metadata": {
    "scrolled": false
   },
   "outputs": [
    {
     "data": {
      "image/png": "[encoded data removed]",
      "text/plain": [
       "<Figure size 1080x720 with 1 Axes>"
      ]
     },
     "metadata": {},
     "output_type": "display_data"
    }
   ],
   "source": [
    "plt.figure(figsize=[15, 10])\n",
    "plt.suptitle('Суммарная концентрация веществ на разных стадиях')\n",
    "sns.set_style('whitegrid')\n",
    "sns.histplot(total_feed_data, color='yellow', label='Сырьё', kde=False)\n",
    "sns.histplot(total_concentrate_rougher, color='orange',label='Концентрация после флотации',kde=False)\n",
    "sns.histplot(total_concentrate_final, color='red', label='Финальная концетрация', kde=False)\n",
    "plt.xlabel('Концентрация веществ')\n",
    "plt.ylabel('Кол-во наблюдений')\n",
    "plt.legend()\n",
    "plt.show()"
   ]
  },
  {
   "cell_type": "markdown",
   "metadata": {},
   "source": [
    "- Суммарная концентрация веществ увеличивается к финалу, разброс распределения уменьшается"
   ]
  },
  {
   "cell_type": "markdown",
   "metadata": {},
   "source": [
    "## Модель"
   ]
  },
  {
   "cell_type": "markdown",
   "metadata": {},
   "source": [
    "### Функция для вычисления итоговой sMAPE"
   ]
  },
  {
   "cell_type": "code",
   "execution_count": 23,
   "metadata": {},
   "outputs": [],
   "source": [
    "def smape(target, predictions):\n",
    "    return sum(abs(predictions-target)/((abs(target)+abs(predictions))/2)) *(1/len(target))*100\n",
    "\n",
    "smape_metric = make_scorer(smape, greater_is_better=False)"
   ]
  },
  {
   "cell_type": "code",
   "execution_count": 24,
   "metadata": {},
   "outputs": [],
   "source": [
    "def final_smape(rougher, final):\n",
    "    return (0.25 * rougher + 0.75 * final)"
   ]
  },
  {
   "cell_type": "markdown",
   "metadata": {},
   "source": [
    "### Построение моделей"
   ]
  },
  {
   "cell_type": "markdown",
   "metadata": {},
   "source": [
    "Предварительно исключим из тренировочной выборки признаки, отсутствующие в тестовой.  \n",
    "Затем выделим целевой признак."
   ]
  },
  {
   "cell_type": "code",
   "execution_count": 25,
   "metadata": {},
   "outputs": [],
   "source": [
    "missed_features = missed_features - set(['rougher.output.recovery','final.output.recovery'])\n",
    "train_data = train_data.drop(columns=missed_features, axis=1)"
   ]
  },
  {
   "cell_type": "code",
   "execution_count": 27,
   "metadata": {},
   "outputs": [],
   "source": [
    "features_train = train_data.drop(['rougher.output.recovery','final.output.recovery'], axis=1)\n",
    "target_train_rougher = train_data['rougher.output.recovery']\n",
    "target_train_final = train_data['final.output.recovery']\n",
    "models = {}"
   ]
  },
  {
   "cell_type": "markdown",
   "metadata": {},
   "source": [
    "А теперь обучим разные модели и оценим их качество кросс-валидацией\n",
    "\n",
    "#### Линейная регрессия"
   ]
  },
  {
   "cell_type": "code",
   "execution_count": 28,
   "metadata": {
    "scrolled": true
   },
   "outputs": [
    {
     "name": "stdout",
     "output_type": "stream",
     "text": [
      "CPU times: user 1.13 s, sys: 1.5 s, total: 2.63 s\n",
      "Wall time: 2.54 s\n"
     ]
    }
   ],
   "source": [
    "%%time\n",
    "logreg_rougher = LinearRegression()\n",
    "smape_rougher = cross_val_score(logreg_rougher, features_train, target_train_rougher,\n",
    "                                scoring=smape_metric, cv=5).mean()\n",
    "\n",
    "logreg_final = LinearRegression()\n",
    "smape_final = cross_val_score(logreg_final, features_train, target_train_final,\n",
    "                              scoring=smape_metric, cv=5).mean()\n",
    "\n",
    "models['LogisticRegression'] = [final_smape(smape_rougher, smape_final)*(-1), 0]"
   ]
  },
  {
   "cell_type": "markdown",
   "metadata": {},
   "source": [
    "#### Решающее дерево"
   ]
  },
  {
   "cell_type": "code",
   "execution_count": 29,
   "metadata": {},
   "outputs": [
    {
     "name": "stdout",
     "output_type": "stream",
     "text": [
      "CPU times: user 14 s, sys: 22.8 ms, total: 14.1 s\n",
      "Wall time: 14.2 s\n"
     ]
    }
   ],
   "source": [
    "%%time\n",
    "good_score = 999\n",
    "good_depth = -999\n",
    "\n",
    "for depth in range(2,8):\n",
    "    tree = DecisionTreeRegressor(max_depth=depth, random_state=42)\n",
    "    smape_rougher = cross_val_score(tree, features_train, target_train_rougher,\n",
    "                                    scoring=smape_metric, cv=5).mean()\n",
    "    smape_final = cross_val_score(tree, features_train, target_train_final,\n",
    "                                  scoring=smape_metric, cv=5).mean()\n",
    "    final_score = final_smape(smape_rougher, smape_final)*(-1)\n",
    "    if final_score < good_score:\n",
    "        good_score = final_score\n",
    "        good_depth = depth\n",
    "\n",
    "models['DecisionTreeRegressor'] = [good_score, {'max_depth':good_depth}]"
   ]
  },
  {
   "cell_type": "markdown",
   "metadata": {},
   "source": [
    "#### Случайный лес"
   ]
  },
  {
   "cell_type": "code",
   "execution_count": 30,
   "metadata": {},
   "outputs": [
    {
     "name": "stdout",
     "output_type": "stream",
     "text": [
      "CPU times: user 12min 12s, sys: 2.35 s, total: 12min 14s\n",
      "Wall time: 12min 14s\n"
     ]
    }
   ],
   "source": [
    "%%time\n",
    "good_score = 999\n",
    "good_depth = -999\n",
    "good_est = -999\n",
    "\n",
    "for depth in range(2,6):\n",
    "    for n_est in range(10,90,20):\n",
    "        forest = RandomForestRegressor(n_estimators=n_est, max_depth=depth, random_state=42)\n",
    "        smape_rougher = cross_val_score(forest, features_train, target_train_rougher,\n",
    "                                        scoring=smape_metric, cv=5).mean()\n",
    "        smape_final = cross_val_score(forest, features_train, target_train_final,\n",
    "                                        scoring=smape_metric, cv=5).mean()\n",
    "        final_score = final_smape(smape_rougher, smape_final)*(-1)\n",
    "        if final_score < good_score:\n",
    "            good_score = final_score\n",
    "            good_depth = depth\n",
    "            good_est = n_est\n",
    "\n",
    "models['RandomForestRegressor'] = [good_score, {'n_est':good_est, 'max_depth':good_depth}]"
   ]
  },
  {
   "cell_type": "code",
   "execution_count": 31,
   "metadata": {
    "scrolled": false
   },
   "outputs": [
    {
     "data": {
      "text/html": [
       "<div>\n",
       "<style scoped>\n",
       "    .dataframe tbody tr th:only-of-type {\n",
       "        vertical-align: middle;\n",
       "    }\n",
       "\n",
       "    .dataframe tbody tr th {\n",
       "        vertical-align: top;\n",
       "    }\n",
       "\n",
       "    .dataframe thead th {\n",
       "        text-align: right;\n",
       "    }\n",
       "</style>\n",
       "<table border=\"1\" class=\"dataframe\">\n",
       "  <thead>\n",
       "    <tr style=\"text-align: right;\">\n",
       "      <th></th>\n",
       "      <th>LogisticRegression</th>\n",
       "      <th>DecisionTreeRegressor</th>\n",
       "      <th>RandomForestRegressor</th>\n",
       "    </tr>\n",
       "  </thead>\n",
       "  <tbody>\n",
       "    <tr>\n",
       "      <th>sMAPE</th>\n",
       "      <td>10.059261</td>\n",
       "      <td>8.925785</td>\n",
       "      <td>8.426047</td>\n",
       "    </tr>\n",
       "    <tr>\n",
       "      <th>Parameters</th>\n",
       "      <td>0.000000</td>\n",
       "      <td>{'max_depth': 3}</td>\n",
       "      <td>{'n_est': 70, 'max_depth': 4}</td>\n",
       "    </tr>\n",
       "  </tbody>\n",
       "</table>\n",
       "</div>"
      ],
      "text/plain": [
       "            LogisticRegression DecisionTreeRegressor  \\\n",
       "sMAPE                10.059261              8.925785   \n",
       "Parameters            0.000000      {'max_depth': 3}   \n",
       "\n",
       "                    RandomForestRegressor  \n",
       "sMAPE                            8.426047  \n",
       "Parameters  {'n_est': 70, 'max_depth': 4}  "
      ]
     },
     "execution_count": 31,
     "metadata": {},
     "output_type": "execute_result"
    }
   ],
   "source": [
    "pd.DataFrame(data=models, index=['sMAPE', 'Parameters'])"
   ]
  },
  {
   "cell_type": "markdown",
   "metadata": {},
   "source": [
    "На этих данных лучше всего показал себя RandomForestRegressor с параметрами n_estimators=70 и max_depth=4.  Применим эту модель на тестовой выборке.  \n",
    "\n",
    "#### Тестовая выборка"
   ]
  },
  {
   "cell_type": "markdown",
   "metadata": {},
   "source": [
    "Достанем целевой признак для тестовой выборки из полных данных"
   ]
  },
  {
   "cell_type": "code",
   "execution_count": 33,
   "metadata": {},
   "outputs": [],
   "source": [
    "test_data = test_data.merge(full_data[['rougher.output.recovery', 'final.output.recovery']],\n",
    "                            how = 'inner', on='date')\n",
    "\n",
    "features_test = test_data.drop(['rougher.output.recovery', 'final.output.recovery', 'date'], axis=1)\n",
    "target_test_rougher = test_data['rougher.output.recovery']\n",
    "target_test_final = test_data['final.output.recovery']"
   ]
  },
  {
   "cell_type": "code",
   "execution_count": 35,
   "metadata": {},
   "outputs": [],
   "source": [
    "forest_rougher = RandomForestRegressor(n_estimators=70, max_depth=4, random_state=42)\n",
    "forest_rougher.fit(features_train, target_train_rougher)\n",
    "predicted_rougher = forest_rougher.predict(features_test)\n",
    "\n",
    "forest_final = RandomForestRegressor(n_estimators=70, max_depth=4, random_state=42)\n",
    "forest_final.fit(features_train, target_train_final)\n",
    "predicted_final = forest_final.predict(features_test)\n",
    "\n",
    "final_smape_test = final_smape(\n",
    "    smape(target_test_rougher, predicted_rougher),\n",
    "    smape(target_test_final, predicted_final)\n",
    ")"
   ]
  },
  {
   "cell_type": "code",
   "execution_count": 36,
   "metadata": {},
   "outputs": [
    {
     "name": "stdout",
     "output_type": "stream",
     "text": [
      "Итоговое sMAPE для тестовой выборки = 7.34703835368718\n"
     ]
    }
   ],
   "source": [
    "print(f'Итоговое sMAPE для тестовой выборки = {final_smape_test}')"
   ]
  },
  {
   "cell_type": "code",
   "execution_count": 37,
   "metadata": {},
   "outputs": [],
   "source": [
    "dummy_rougher = DummyRegressor()\n",
    "dummy_rougher.fit(features_train, target_train_rougher)\n",
    "predicted_rougher = dummy_rougher.predict(features_test)\n",
    "\n",
    "dummy_final = DummyRegressor()\n",
    "dummy_final.fit(features_train, target_train_final)\n",
    "predicted_final = dummy_final.predict(features_test)\n",
    "\n",
    "final_smape_test = final_smape(\n",
    "    smape(target_test_rougher, predicted_rougher),\n",
    "    smape(target_test_final, predicted_final)\n",
    ")"
   ]
  },
  {
   "cell_type": "code",
   "execution_count": 38,
   "metadata": {
    "scrolled": true
   },
   "outputs": [
    {
     "name": "stdout",
     "output_type": "stream",
     "text": [
      "Итоговое sMAPE для тестовой выборки = 7.765208540854134\n"
     ]
    }
   ],
   "source": [
    "print(f'Итоговое sMAPE для тестовой выборки = {final_smape_test}')"
   ]
  },
  {
   "cell_type": "markdown",
   "metadata": {},
   "source": [
    "**Промежуточный вывод:**\n",
    "- Показатель sMAPE у модели случайного леса меньше, что говорит об адекватности построенной модели"
   ]
  },
  {
   "cell_type": "markdown",
   "metadata": {},
   "source": [
    "## Вывод"
   ]
  },
  {
   "cell_type": "markdown",
   "metadata": {},
   "source": [
    "В процессе работы мы подготовили данные, провели анализ содержания веществ на разных стадиях обработки руды, построили оптимальную модель машинного обучения и проверили её на адекватность.  \n",
    "  \n",
    "Были установлены закономерности, что в течение всего техпроцесса доля золота и свинца увеличивается, а серебра уменьшается. На этапах флотации и первичной очистки распределение размеров гранул сырья для обеих выборок находится приблизительно в одном диапазоне. Общее суммарное количество веществ уменьшается по мере прохождения этапов обработки.  \n",
    "  \n",
    "Наиболее подходящей моделью машинного обучения оказался RandomForestRegressor со sMAPE = 7.35, максимальной глубиной 4 и 70 деревьями."
   ]
  }
 ],
 "metadata": {
  "ExecuteTimeLog": [
   {
    "duration": 1620,
    "start_time": "2023-01-17T11:20:15.217Z"
   },
   {
    "duration": 1798,
    "start_time": "2023-01-17T11:20:16.840Z"
   },
   {
    "duration": 28,
    "start_time": "2023-01-17T11:20:18.640Z"
   },
   {
    "duration": 19,
    "start_time": "2023-01-17T11:20:18.671Z"
   },
   {
    "duration": 32,
    "start_time": "2023-01-17T11:20:18.691Z"
   },
   {
    "duration": 43,
    "start_time": "2023-01-17T11:20:18.725Z"
   },
   {
    "duration": 31,
    "start_time": "2023-01-17T11:20:18.769Z"
   },
   {
    "duration": 26,
    "start_time": "2023-01-17T11:20:18.801Z"
   },
   {
    "duration": 60,
    "start_time": "2023-01-17T11:20:18.828Z"
   },
   {
    "duration": 71,
    "start_time": "2023-01-17T11:20:18.891Z"
   },
   {
    "duration": 0,
    "start_time": "2023-01-17T11:20:18.964Z"
   },
   {
    "duration": 72,
    "start_time": "2023-01-17T11:21:32.037Z"
   },
   {
    "duration": 73,
    "start_time": "2023-01-17T11:21:43.876Z"
   },
   {
    "duration": 6,
    "start_time": "2023-01-17T11:22:01.106Z"
   },
   {
    "duration": 119,
    "start_time": "2023-01-17T11:22:14.797Z"
   },
   {
    "duration": 6,
    "start_time": "2023-01-17T11:22:48.573Z"
   },
   {
    "duration": 12,
    "start_time": "2023-01-17T11:23:12.093Z"
   },
   {
    "duration": 14,
    "start_time": "2023-01-17T11:23:26.713Z"
   },
   {
    "duration": 12,
    "start_time": "2023-01-17T11:23:38.580Z"
   },
   {
    "duration": 5,
    "start_time": "2023-01-17T11:23:42.696Z"
   },
   {
    "duration": 1509,
    "start_time": "2023-01-17T11:30:11.693Z"
   },
   {
    "duration": 646,
    "start_time": "2023-01-17T11:30:13.204Z"
   },
   {
    "duration": 29,
    "start_time": "2023-01-17T11:30:13.852Z"
   },
   {
    "duration": 40,
    "start_time": "2023-01-17T11:30:13.884Z"
   },
   {
    "duration": 20,
    "start_time": "2023-01-17T11:30:13.926Z"
   },
   {
    "duration": 15,
    "start_time": "2023-01-17T11:30:13.948Z"
   },
   {
    "duration": 22,
    "start_time": "2023-01-17T11:30:13.964Z"
   },
   {
    "duration": 49,
    "start_time": "2023-01-17T11:30:13.988Z"
   },
   {
    "duration": 18,
    "start_time": "2023-01-17T11:30:14.039Z"
   },
   {
    "duration": 9,
    "start_time": "2023-01-17T11:30:14.059Z"
   },
   {
    "duration": 8,
    "start_time": "2023-01-17T11:30:14.070Z"
   },
   {
    "duration": 1529,
    "start_time": "2023-01-18T09:57:34.503Z"
   },
   {
    "duration": 1818,
    "start_time": "2023-01-18T09:57:36.034Z"
   },
   {
    "duration": 24,
    "start_time": "2023-01-18T09:57:37.854Z"
   },
   {
    "duration": 41,
    "start_time": "2023-01-18T09:57:37.880Z"
   },
   {
    "duration": 29,
    "start_time": "2023-01-18T09:57:37.922Z"
   },
   {
    "duration": 52,
    "start_time": "2023-01-18T09:57:37.952Z"
   },
   {
    "duration": 28,
    "start_time": "2023-01-18T09:57:38.005Z"
   },
   {
    "duration": 35,
    "start_time": "2023-01-18T09:57:38.034Z"
   },
   {
    "duration": 17,
    "start_time": "2023-01-18T09:57:38.070Z"
   },
   {
    "duration": 16,
    "start_time": "2023-01-18T09:57:38.089Z"
   },
   {
    "duration": 12,
    "start_time": "2023-01-18T09:57:38.106Z"
   },
   {
    "duration": 22,
    "start_time": "2023-01-18T09:57:38.119Z"
   },
   {
    "duration": 34,
    "start_time": "2023-01-18T09:57:38.142Z"
   },
   {
    "duration": 18,
    "start_time": "2023-01-18T09:57:38.177Z"
   },
   {
    "duration": 3,
    "start_time": "2023-01-18T09:57:38.197Z"
   },
   {
    "duration": 2961,
    "start_time": "2023-01-18T10:07:47.680Z"
   },
   {
    "duration": 2761,
    "start_time": "2023-01-18T10:08:40.311Z"
   },
   {
    "duration": 2804,
    "start_time": "2023-01-18T10:08:59.768Z"
   },
   {
    "duration": 2895,
    "start_time": "2023-01-18T10:10:42.174Z"
   },
   {
    "duration": 1579,
    "start_time": "2023-01-18T17:05:52.621Z"
   },
   {
    "duration": 3148,
    "start_time": "2023-01-18T17:05:54.202Z"
   },
   {
    "duration": 26,
    "start_time": "2023-01-18T17:05:57.352Z"
   },
   {
    "duration": 19,
    "start_time": "2023-01-18T17:05:57.380Z"
   },
   {
    "duration": 21,
    "start_time": "2023-01-18T17:05:57.401Z"
   },
   {
    "duration": 14,
    "start_time": "2023-01-18T17:05:57.425Z"
   },
   {
    "duration": 49,
    "start_time": "2023-01-18T17:05:57.441Z"
   },
   {
    "duration": 22,
    "start_time": "2023-01-18T17:05:57.492Z"
   },
   {
    "duration": 10,
    "start_time": "2023-01-18T17:05:57.515Z"
   },
   {
    "duration": 8,
    "start_time": "2023-01-18T17:05:57.527Z"
   },
   {
    "duration": 7,
    "start_time": "2023-01-18T17:05:57.536Z"
   },
   {
    "duration": 50,
    "start_time": "2023-01-18T17:05:57.545Z"
   },
   {
    "duration": 22,
    "start_time": "2023-01-18T17:05:57.597Z"
   },
   {
    "duration": 18,
    "start_time": "2023-01-18T17:05:57.621Z"
   },
   {
    "duration": 3068,
    "start_time": "2023-01-18T17:05:57.641Z"
   },
   {
    "duration": 5,
    "start_time": "2023-01-18T17:06:00.711Z"
   },
   {
    "duration": 2838,
    "start_time": "2023-01-18T17:11:41.964Z"
   },
   {
    "duration": 637,
    "start_time": "2023-01-18T17:12:03.763Z"
   },
   {
    "duration": 447,
    "start_time": "2023-01-18T17:34:37.872Z"
   },
   {
    "duration": 455,
    "start_time": "2023-01-18T17:34:53.585Z"
   },
   {
    "duration": 493,
    "start_time": "2023-01-18T17:35:32.663Z"
   },
   {
    "duration": 526,
    "start_time": "2023-01-18T17:36:01.923Z"
   },
   {
    "duration": 3042,
    "start_time": "2023-01-18T17:36:29.806Z"
   },
   {
    "duration": 846,
    "start_time": "2023-01-18T17:42:30.293Z"
   },
   {
    "duration": 7,
    "start_time": "2023-01-18T17:44:22.887Z"
   },
   {
    "duration": 1137,
    "start_time": "2023-01-18T17:46:48.226Z"
   },
   {
    "duration": 1188,
    "start_time": "2023-01-18T17:46:54.060Z"
   },
   {
    "duration": 1758,
    "start_time": "2023-01-20T13:45:41.922Z"
   },
   {
    "duration": 2456,
    "start_time": "2023-01-20T13:45:43.682Z"
   },
   {
    "duration": 26,
    "start_time": "2023-01-20T13:45:46.140Z"
   },
   {
    "duration": 21,
    "start_time": "2023-01-20T13:45:46.169Z"
   },
   {
    "duration": 27,
    "start_time": "2023-01-20T13:45:46.193Z"
   },
   {
    "duration": 30,
    "start_time": "2023-01-20T13:45:46.223Z"
   },
   {
    "duration": 24,
    "start_time": "2023-01-20T13:45:46.255Z"
   },
   {
    "duration": 36,
    "start_time": "2023-01-20T13:45:46.281Z"
   },
   {
    "duration": 18,
    "start_time": "2023-01-20T13:45:46.319Z"
   },
   {
    "duration": 12,
    "start_time": "2023-01-20T13:45:46.340Z"
   },
   {
    "duration": 22,
    "start_time": "2023-01-20T13:45:46.353Z"
   },
   {
    "duration": 71,
    "start_time": "2023-01-20T13:45:46.377Z"
   },
   {
    "duration": 35,
    "start_time": "2023-01-20T13:45:46.450Z"
   },
   {
    "duration": 22,
    "start_time": "2023-01-20T13:45:46.487Z"
   },
   {
    "duration": 3041,
    "start_time": "2023-01-20T13:45:46.512Z"
   },
   {
    "duration": 467,
    "start_time": "2023-01-20T13:45:49.555Z"
   },
   {
    "duration": 1362,
    "start_time": "2023-01-20T13:45:50.024Z"
   },
   {
    "duration": 10,
    "start_time": "2023-01-20T13:45:51.388Z"
   },
   {
    "duration": 6,
    "start_time": "2023-01-20T13:45:51.400Z"
   },
   {
    "duration": 6,
    "start_time": "2023-01-20T13:45:54.076Z"
   },
   {
    "duration": 6,
    "start_time": "2023-01-20T13:46:19.133Z"
   },
   {
    "duration": 68,
    "start_time": "2023-01-20T13:50:40.063Z"
   },
   {
    "duration": 5,
    "start_time": "2023-01-20T13:51:29.933Z"
   },
   {
    "duration": 7,
    "start_time": "2023-01-20T13:51:46.176Z"
   },
   {
    "duration": 7,
    "start_time": "2023-01-20T13:52:39.351Z"
   },
   {
    "duration": 8,
    "start_time": "2023-01-20T14:03:34.202Z"
   },
   {
    "duration": 112,
    "start_time": "2023-01-20T14:03:48.877Z"
   },
   {
    "duration": 44,
    "start_time": "2023-01-20T14:08:19.225Z"
   },
   {
    "duration": 4,
    "start_time": "2023-01-20T14:08:24.395Z"
   },
   {
    "duration": 4,
    "start_time": "2023-01-20T14:08:37.509Z"
   },
   {
    "duration": 3,
    "start_time": "2023-01-20T14:08:42.800Z"
   },
   {
    "duration": 43,
    "start_time": "2023-01-20T14:09:03.773Z"
   },
   {
    "duration": 47,
    "start_time": "2023-01-20T14:09:13.354Z"
   },
   {
    "duration": 3,
    "start_time": "2023-01-20T14:10:50.036Z"
   },
   {
    "duration": 3,
    "start_time": "2023-01-20T14:10:50.903Z"
   },
   {
    "duration": 16,
    "start_time": "2023-01-20T14:10:52.222Z"
   },
   {
    "duration": 6,
    "start_time": "2023-01-20T14:10:58.161Z"
   },
   {
    "duration": 48,
    "start_time": "2023-01-20T14:10:59.780Z"
   },
   {
    "duration": 1362,
    "start_time": "2023-01-20T14:11:07.006Z"
   },
   {
    "duration": 661,
    "start_time": "2023-01-20T14:11:08.370Z"
   },
   {
    "duration": 23,
    "start_time": "2023-01-20T14:11:09.032Z"
   },
   {
    "duration": 20,
    "start_time": "2023-01-20T14:11:09.058Z"
   },
   {
    "duration": 37,
    "start_time": "2023-01-20T14:11:09.080Z"
   },
   {
    "duration": 18,
    "start_time": "2023-01-20T14:11:09.119Z"
   },
   {
    "duration": 19,
    "start_time": "2023-01-20T14:11:09.139Z"
   },
   {
    "duration": 40,
    "start_time": "2023-01-20T14:11:09.160Z"
   },
   {
    "duration": 7,
    "start_time": "2023-01-20T14:11:09.201Z"
   },
   {
    "duration": 43,
    "start_time": "2023-01-20T14:11:09.210Z"
   },
   {
    "duration": 30,
    "start_time": "2023-01-20T14:11:09.255Z"
   },
   {
    "duration": 27,
    "start_time": "2023-01-20T14:11:09.286Z"
   },
   {
    "duration": 51,
    "start_time": "2023-01-20T14:11:09.315Z"
   },
   {
    "duration": 16,
    "start_time": "2023-01-20T14:11:09.368Z"
   },
   {
    "duration": 3332,
    "start_time": "2023-01-20T14:11:09.385Z"
   },
   {
    "duration": 471,
    "start_time": "2023-01-20T14:11:12.718Z"
   },
   {
    "duration": 1429,
    "start_time": "2023-01-20T14:11:13.191Z"
   },
   {
    "duration": 4,
    "start_time": "2023-01-20T14:11:14.622Z"
   },
   {
    "duration": 23,
    "start_time": "2023-01-20T14:11:14.628Z"
   },
   {
    "duration": 13,
    "start_time": "2023-01-20T14:11:14.652Z"
   },
   {
    "duration": 13,
    "start_time": "2023-01-20T14:11:14.666Z"
   },
   {
    "duration": 60,
    "start_time": "2023-01-20T14:11:14.680Z"
   },
   {
    "duration": 46,
    "start_time": "2023-01-20T14:12:00.400Z"
   },
   {
    "duration": 46,
    "start_time": "2023-01-20T14:12:21.089Z"
   },
   {
    "duration": 45,
    "start_time": "2023-01-20T14:12:28.996Z"
   },
   {
    "duration": 4,
    "start_time": "2023-01-20T14:15:40.770Z"
   },
   {
    "duration": 32,
    "start_time": "2023-01-20T14:15:45.139Z"
   },
   {
    "duration": 5,
    "start_time": "2023-01-20T14:16:02.151Z"
   },
   {
    "duration": 4,
    "start_time": "2023-01-20T14:16:11.042Z"
   },
   {
    "duration": 134,
    "start_time": "2023-01-20T14:19:10.701Z"
   },
   {
    "duration": 43,
    "start_time": "2023-01-20T14:19:22.595Z"
   },
   {
    "duration": 45,
    "start_time": "2023-01-20T14:20:41.395Z"
   },
   {
    "duration": 4,
    "start_time": "2023-01-20T14:21:21.703Z"
   },
   {
    "duration": 3,
    "start_time": "2023-01-20T14:21:22.526Z"
   },
   {
    "duration": 18,
    "start_time": "2023-01-20T14:21:24.910Z"
   },
   {
    "duration": 1518,
    "start_time": "2023-01-20T14:21:35.992Z"
   },
   {
    "duration": 662,
    "start_time": "2023-01-20T14:21:37.512Z"
   },
   {
    "duration": 32,
    "start_time": "2023-01-20T14:21:38.175Z"
   },
   {
    "duration": 18,
    "start_time": "2023-01-20T14:21:38.210Z"
   },
   {
    "duration": 20,
    "start_time": "2023-01-20T14:21:38.230Z"
   },
   {
    "duration": 19,
    "start_time": "2023-01-20T14:21:38.252Z"
   },
   {
    "duration": 42,
    "start_time": "2023-01-20T14:21:38.273Z"
   },
   {
    "duration": 21,
    "start_time": "2023-01-20T14:21:38.317Z"
   },
   {
    "duration": 12,
    "start_time": "2023-01-20T14:21:38.339Z"
   },
   {
    "duration": 7,
    "start_time": "2023-01-20T14:21:38.354Z"
   },
   {
    "duration": 13,
    "start_time": "2023-01-20T14:21:38.363Z"
   },
   {
    "duration": 26,
    "start_time": "2023-01-20T14:21:38.378Z"
   },
   {
    "duration": 22,
    "start_time": "2023-01-20T14:21:38.406Z"
   },
   {
    "duration": 17,
    "start_time": "2023-01-20T14:21:38.429Z"
   },
   {
    "duration": 3106,
    "start_time": "2023-01-20T14:21:38.447Z"
   },
   {
    "duration": 487,
    "start_time": "2023-01-20T14:21:41.555Z"
   },
   {
    "duration": 1563,
    "start_time": "2023-01-20T14:21:42.044Z"
   },
   {
    "duration": 4,
    "start_time": "2023-01-20T14:21:43.609Z"
   },
   {
    "duration": 26,
    "start_time": "2023-01-20T14:21:43.615Z"
   },
   {
    "duration": 24,
    "start_time": "2023-01-20T14:21:43.643Z"
   },
   {
    "duration": 31,
    "start_time": "2023-01-20T14:21:43.669Z"
   },
   {
    "duration": 75,
    "start_time": "2023-01-20T14:21:43.702Z"
   },
   {
    "duration": 111,
    "start_time": "2023-01-20T14:25:07.459Z"
   },
   {
    "duration": 3,
    "start_time": "2023-01-20T14:26:58.973Z"
   },
   {
    "duration": 38,
    "start_time": "2023-01-20T14:27:05.821Z"
   },
   {
    "duration": 3,
    "start_time": "2023-01-20T14:27:19.883Z"
   },
   {
    "duration": 47,
    "start_time": "2023-01-20T14:27:40.179Z"
   },
   {
    "duration": 117,
    "start_time": "2023-01-20T14:28:02.655Z"
   },
   {
    "duration": 17,
    "start_time": "2023-01-20T14:29:26.734Z"
   },
   {
    "duration": 1389,
    "start_time": "2023-01-20T14:29:39.196Z"
   },
   {
    "duration": 658,
    "start_time": "2023-01-20T14:29:40.587Z"
   },
   {
    "duration": 27,
    "start_time": "2023-01-20T14:29:41.246Z"
   },
   {
    "duration": 34,
    "start_time": "2023-01-20T14:29:41.275Z"
   },
   {
    "duration": 22,
    "start_time": "2023-01-20T14:29:41.311Z"
   },
   {
    "duration": 23,
    "start_time": "2023-01-20T14:29:41.334Z"
   },
   {
    "duration": 40,
    "start_time": "2023-01-20T14:29:41.359Z"
   },
   {
    "duration": 20,
    "start_time": "2023-01-20T14:29:41.401Z"
   },
   {
    "duration": 9,
    "start_time": "2023-01-20T14:29:41.423Z"
   },
   {
    "duration": 6,
    "start_time": "2023-01-20T14:29:41.434Z"
   },
   {
    "duration": 7,
    "start_time": "2023-01-20T14:29:41.442Z"
   },
   {
    "duration": 14,
    "start_time": "2023-01-20T14:29:41.451Z"
   },
   {
    "duration": 45,
    "start_time": "2023-01-20T14:29:41.466Z"
   },
   {
    "duration": 16,
    "start_time": "2023-01-20T14:29:41.513Z"
   },
   {
    "duration": 3474,
    "start_time": "2023-01-20T14:29:41.531Z"
   },
   {
    "duration": 559,
    "start_time": "2023-01-20T14:29:45.007Z"
   },
   {
    "duration": 1419,
    "start_time": "2023-01-20T14:29:45.567Z"
   },
   {
    "duration": 3,
    "start_time": "2023-01-20T14:29:46.988Z"
   },
   {
    "duration": 3,
    "start_time": "2023-01-20T14:29:46.998Z"
   },
   {
    "duration": 14,
    "start_time": "2023-01-20T14:29:47.003Z"
   },
   {
    "duration": 12,
    "start_time": "2023-01-20T14:29:47.019Z"
   },
   {
    "duration": 218,
    "start_time": "2023-01-20T14:29:47.033Z"
   },
   {
    "duration": 16,
    "start_time": "2023-01-20T14:29:55.562Z"
   },
   {
    "duration": 1375,
    "start_time": "2023-01-20T14:30:02.018Z"
   },
   {
    "duration": 690,
    "start_time": "2023-01-20T14:30:03.395Z"
   },
   {
    "duration": 34,
    "start_time": "2023-01-20T14:30:04.087Z"
   },
   {
    "duration": 20,
    "start_time": "2023-01-20T14:30:04.123Z"
   },
   {
    "duration": 22,
    "start_time": "2023-01-20T14:30:04.145Z"
   },
   {
    "duration": 35,
    "start_time": "2023-01-20T14:30:04.169Z"
   },
   {
    "duration": 26,
    "start_time": "2023-01-20T14:30:04.206Z"
   },
   {
    "duration": 34,
    "start_time": "2023-01-20T14:30:04.233Z"
   },
   {
    "duration": 12,
    "start_time": "2023-01-20T14:30:04.269Z"
   },
   {
    "duration": 7,
    "start_time": "2023-01-20T14:30:04.283Z"
   },
   {
    "duration": 11,
    "start_time": "2023-01-20T14:30:04.292Z"
   },
   {
    "duration": 14,
    "start_time": "2023-01-20T14:30:04.305Z"
   },
   {
    "duration": 21,
    "start_time": "2023-01-20T14:30:04.321Z"
   },
   {
    "duration": 16,
    "start_time": "2023-01-20T14:30:04.345Z"
   },
   {
    "duration": 3114,
    "start_time": "2023-01-20T14:30:04.363Z"
   },
   {
    "duration": 486,
    "start_time": "2023-01-20T14:30:07.479Z"
   },
   {
    "duration": 1241,
    "start_time": "2023-01-20T14:30:07.967Z"
   },
   {
    "duration": 4,
    "start_time": "2023-01-20T14:30:09.209Z"
   },
   {
    "duration": 17,
    "start_time": "2023-01-20T14:30:09.214Z"
   },
   {
    "duration": 12,
    "start_time": "2023-01-20T14:30:09.233Z"
   },
   {
    "duration": 10,
    "start_time": "2023-01-20T14:30:09.246Z"
   },
   {
    "duration": 2642,
    "start_time": "2023-01-20T14:30:09.258Z"
   },
   {
    "duration": 3,
    "start_time": "2023-01-20T14:33:49.701Z"
   },
   {
    "duration": 2362,
    "start_time": "2023-01-20T14:33:59.642Z"
   },
   {
    "duration": 2786,
    "start_time": "2023-01-20T14:34:10.521Z"
   },
   {
    "duration": 5,
    "start_time": "2023-01-20T14:34:14.355Z"
   },
   {
    "duration": 4,
    "start_time": "2023-01-20T14:34:38.577Z"
   },
   {
    "duration": 3856,
    "start_time": "2023-01-20T14:36:26.146Z"
   },
   {
    "duration": 3711,
    "start_time": "2023-01-20T14:37:02.995Z"
   },
   {
    "duration": 9197,
    "start_time": "2023-01-20T14:38:46.460Z"
   },
   {
    "duration": 5,
    "start_time": "2023-01-20T14:39:13.781Z"
   },
   {
    "duration": 5,
    "start_time": "2023-01-20T14:39:26.265Z"
   },
   {
    "duration": 1170,
    "start_time": "2023-01-20T14:39:55.496Z"
   },
   {
    "duration": 2777,
    "start_time": "2023-01-20T14:41:20.823Z"
   },
   {
    "duration": 9070,
    "start_time": "2023-01-20T14:41:25.988Z"
   },
   {
    "duration": 130,
    "start_time": "2023-01-20T14:41:40.995Z"
   },
   {
    "duration": 4,
    "start_time": "2023-01-20T14:42:04.163Z"
   },
   {
    "duration": 4,
    "start_time": "2023-01-20T14:47:19.081Z"
   },
   {
    "duration": 15680,
    "start_time": "2023-01-20T14:48:02.571Z"
   },
   {
    "duration": 3,
    "start_time": "2023-01-20T14:48:28.742Z"
   },
   {
    "duration": 295233,
    "start_time": "2023-01-20T14:48:40.821Z"
   },
   {
    "duration": 51077,
    "start_time": "2023-01-20T14:53:51.787Z"
   },
   {
    "duration": 4,
    "start_time": "2023-01-20T14:55:22.589Z"
   },
   {
    "duration": 12983,
    "start_time": "2023-01-20T14:56:02.783Z"
   },
   {
    "duration": 4,
    "start_time": "2023-01-20T14:56:55.839Z"
   },
   {
    "duration": 2174,
    "start_time": "2023-01-20T15:13:27.527Z"
   },
   {
    "duration": 4,
    "start_time": "2023-01-20T15:13:32.713Z"
   },
   {
    "duration": 1843,
    "start_time": "2023-01-20T15:26:48.586Z"
   },
   {
    "duration": 650,
    "start_time": "2023-01-20T15:27:09.035Z"
   },
   {
    "duration": 780,
    "start_time": "2023-01-20T15:28:45.251Z"
   },
   {
    "duration": 651,
    "start_time": "2023-01-20T15:28:52.297Z"
   },
   {
    "duration": 708,
    "start_time": "2023-01-20T15:29:30.735Z"
   },
   {
    "duration": 693,
    "start_time": "2023-01-20T15:30:35.175Z"
   },
   {
    "duration": 702,
    "start_time": "2023-01-20T15:32:02.211Z"
   },
   {
    "duration": 2246,
    "start_time": "2023-01-20T15:32:19.942Z"
   },
   {
    "duration": 2089,
    "start_time": "2023-01-20T15:32:29.813Z"
   },
   {
    "duration": 2203,
    "start_time": "2023-01-20T15:32:47.585Z"
   },
   {
    "duration": 2182,
    "start_time": "2023-01-20T15:32:53.819Z"
   },
   {
    "duration": 2303,
    "start_time": "2023-01-20T15:33:11.350Z"
   },
   {
    "duration": 2235,
    "start_time": "2023-01-20T15:33:18.005Z"
   },
   {
    "duration": 1358,
    "start_time": "2023-01-20T15:33:32.960Z"
   },
   {
    "duration": 707,
    "start_time": "2023-01-20T15:33:34.320Z"
   },
   {
    "duration": 27,
    "start_time": "2023-01-20T15:33:35.028Z"
   },
   {
    "duration": 47,
    "start_time": "2023-01-20T15:33:35.057Z"
   },
   {
    "duration": 27,
    "start_time": "2023-01-20T15:33:35.107Z"
   },
   {
    "duration": 35,
    "start_time": "2023-01-20T15:33:35.136Z"
   },
   {
    "duration": 36,
    "start_time": "2023-01-20T15:33:35.173Z"
   },
   {
    "duration": 23,
    "start_time": "2023-01-20T15:33:35.211Z"
   },
   {
    "duration": 29,
    "start_time": "2023-01-20T15:33:35.236Z"
   },
   {
    "duration": 30,
    "start_time": "2023-01-20T15:33:35.267Z"
   },
   {
    "duration": 26,
    "start_time": "2023-01-20T15:33:35.299Z"
   },
   {
    "duration": 32,
    "start_time": "2023-01-20T15:33:35.327Z"
   },
   {
    "duration": 33,
    "start_time": "2023-01-20T15:33:35.361Z"
   },
   {
    "duration": 18,
    "start_time": "2023-01-20T15:33:35.397Z"
   },
   {
    "duration": 3120,
    "start_time": "2023-01-20T15:33:35.417Z"
   },
   {
    "duration": 490,
    "start_time": "2023-01-20T15:33:38.539Z"
   },
   {
    "duration": 1273,
    "start_time": "2023-01-20T15:33:39.030Z"
   },
   {
    "duration": 3,
    "start_time": "2023-01-20T15:33:40.305Z"
   },
   {
    "duration": 17,
    "start_time": "2023-01-20T15:33:40.310Z"
   },
   {
    "duration": 17,
    "start_time": "2023-01-20T15:33:40.328Z"
   },
   {
    "duration": 21,
    "start_time": "2023-01-20T15:33:40.346Z"
   },
   {
    "duration": 3030,
    "start_time": "2023-01-20T15:33:40.369Z"
   },
   {
    "duration": 2438,
    "start_time": "2023-01-20T15:33:43.401Z"
   },
   {
    "duration": 12658,
    "start_time": "2023-01-20T15:33:45.841Z"
   },
   {
    "duration": 4,
    "start_time": "2023-01-20T15:33:58.500Z"
   },
   {
    "duration": 1971,
    "start_time": "2023-01-20T15:36:27.053Z"
   },
   {
    "duration": 1398,
    "start_time": "2023-01-20T15:36:39.403Z"
   },
   {
    "duration": 667,
    "start_time": "2023-01-20T15:36:40.803Z"
   },
   {
    "duration": 32,
    "start_time": "2023-01-20T15:36:41.472Z"
   },
   {
    "duration": 18,
    "start_time": "2023-01-20T15:36:41.506Z"
   },
   {
    "duration": 19,
    "start_time": "2023-01-20T15:36:41.526Z"
   },
   {
    "duration": 14,
    "start_time": "2023-01-20T15:36:41.547Z"
   },
   {
    "duration": 43,
    "start_time": "2023-01-20T15:36:41.563Z"
   },
   {
    "duration": 22,
    "start_time": "2023-01-20T15:36:41.607Z"
   },
   {
    "duration": 12,
    "start_time": "2023-01-20T15:36:41.631Z"
   },
   {
    "duration": 15,
    "start_time": "2023-01-20T15:36:41.645Z"
   },
   {
    "duration": 7,
    "start_time": "2023-01-20T15:36:41.662Z"
   },
   {
    "duration": 19,
    "start_time": "2023-01-20T15:36:41.671Z"
   },
   {
    "duration": 28,
    "start_time": "2023-01-20T15:36:41.691Z"
   },
   {
    "duration": 17,
    "start_time": "2023-01-20T15:36:41.721Z"
   },
   {
    "duration": 3546,
    "start_time": "2023-01-20T15:36:41.739Z"
   },
   {
    "duration": 602,
    "start_time": "2023-01-20T15:36:45.287Z"
   },
   {
    "duration": 1550,
    "start_time": "2023-01-20T15:36:45.891Z"
   },
   {
    "duration": 3,
    "start_time": "2023-01-20T15:36:47.442Z"
   },
   {
    "duration": 51,
    "start_time": "2023-01-20T15:36:47.447Z"
   },
   {
    "duration": 43,
    "start_time": "2023-01-20T15:36:47.500Z"
   },
   {
    "duration": 43,
    "start_time": "2023-01-20T15:36:47.545Z"
   },
   {
    "duration": 2512,
    "start_time": "2023-01-20T15:36:47.590Z"
   },
   {
    "duration": 2166,
    "start_time": "2023-01-20T15:36:50.104Z"
   },
   {
    "duration": 12862,
    "start_time": "2023-01-20T15:36:52.271Z"
   },
   {
    "duration": 4,
    "start_time": "2023-01-20T15:37:05.135Z"
   },
   {
    "duration": 641,
    "start_time": "2023-01-20T15:37:06.419Z"
   },
   {
    "duration": 3420,
    "start_time": "2023-01-20T15:37:12.280Z"
   },
   {
    "duration": 1385,
    "start_time": "2023-01-20T15:37:24.993Z"
   },
   {
    "duration": 667,
    "start_time": "2023-01-20T15:37:26.380Z"
   },
   {
    "duration": 27,
    "start_time": "2023-01-20T15:37:27.049Z"
   },
   {
    "duration": 49,
    "start_time": "2023-01-20T15:37:27.078Z"
   },
   {
    "duration": 59,
    "start_time": "2023-01-20T15:37:27.130Z"
   },
   {
    "duration": 20,
    "start_time": "2023-01-20T15:37:27.191Z"
   },
   {
    "duration": 37,
    "start_time": "2023-01-20T15:37:27.213Z"
   },
   {
    "duration": 41,
    "start_time": "2023-01-20T15:37:27.252Z"
   },
   {
    "duration": 48,
    "start_time": "2023-01-20T15:37:27.295Z"
   },
   {
    "duration": 25,
    "start_time": "2023-01-20T15:37:27.344Z"
   },
   {
    "duration": 24,
    "start_time": "2023-01-20T15:37:27.370Z"
   },
   {
    "duration": 32,
    "start_time": "2023-01-20T15:37:27.395Z"
   },
   {
    "duration": 38,
    "start_time": "2023-01-20T15:37:27.429Z"
   },
   {
    "duration": 21,
    "start_time": "2023-01-20T15:37:27.470Z"
   },
   {
    "duration": 2968,
    "start_time": "2023-01-20T15:37:27.493Z"
   },
   {
    "duration": 492,
    "start_time": "2023-01-20T15:37:30.463Z"
   },
   {
    "duration": 1290,
    "start_time": "2023-01-20T15:37:30.957Z"
   },
   {
    "duration": 4,
    "start_time": "2023-01-20T15:37:32.248Z"
   },
   {
    "duration": 43,
    "start_time": "2023-01-20T15:37:32.254Z"
   },
   {
    "duration": 28,
    "start_time": "2023-01-20T15:37:32.299Z"
   },
   {
    "duration": 49,
    "start_time": "2023-01-20T15:37:32.329Z"
   },
   {
    "duration": 2526,
    "start_time": "2023-01-20T15:37:32.380Z"
   },
   {
    "duration": 2022,
    "start_time": "2023-01-20T15:37:34.908Z"
   },
   {
    "duration": 0,
    "start_time": "2023-01-20T15:37:36.932Z"
   },
   {
    "duration": 0,
    "start_time": "2023-01-20T15:37:36.934Z"
   },
   {
    "duration": 633,
    "start_time": "2023-01-20T15:39:47.746Z"
   },
   {
    "duration": 12782,
    "start_time": "2023-01-20T15:39:56.851Z"
   },
   {
    "duration": 1107,
    "start_time": "2023-01-20T15:41:29.671Z"
   },
   {
    "duration": 1307,
    "start_time": "2023-01-20T15:41:43.825Z"
   },
   {
    "duration": 1133,
    "start_time": "2023-01-20T15:41:51.808Z"
   },
   {
    "duration": 1132,
    "start_time": "2023-01-20T15:42:01.690Z"
   },
   {
    "duration": 1119,
    "start_time": "2023-01-20T15:42:35.110Z"
   },
   {
    "duration": 1356,
    "start_time": "2023-01-20T15:42:52.231Z"
   },
   {
    "duration": 721,
    "start_time": "2023-01-20T15:42:53.588Z"
   },
   {
    "duration": 27,
    "start_time": "2023-01-20T15:42:54.310Z"
   },
   {
    "duration": 19,
    "start_time": "2023-01-20T15:42:54.340Z"
   },
   {
    "duration": 41,
    "start_time": "2023-01-20T15:42:54.361Z"
   },
   {
    "duration": 22,
    "start_time": "2023-01-20T15:42:54.403Z"
   },
   {
    "duration": 20,
    "start_time": "2023-01-20T15:42:54.426Z"
   },
   {
    "duration": 18,
    "start_time": "2023-01-20T15:42:54.448Z"
   },
   {
    "duration": 10,
    "start_time": "2023-01-20T15:42:54.468Z"
   },
   {
    "duration": 21,
    "start_time": "2023-01-20T15:42:54.480Z"
   },
   {
    "duration": 5,
    "start_time": "2023-01-20T15:42:54.502Z"
   },
   {
    "duration": 22,
    "start_time": "2023-01-20T15:42:54.509Z"
   },
   {
    "duration": 28,
    "start_time": "2023-01-20T15:42:54.533Z"
   },
   {
    "duration": 16,
    "start_time": "2023-01-20T15:42:54.563Z"
   },
   {
    "duration": 3004,
    "start_time": "2023-01-20T15:42:54.581Z"
   },
   {
    "duration": 477,
    "start_time": "2023-01-20T15:42:57.587Z"
   },
   {
    "duration": 1327,
    "start_time": "2023-01-20T15:42:58.067Z"
   },
   {
    "duration": 4,
    "start_time": "2023-01-20T15:42:59.398Z"
   },
   {
    "duration": 19,
    "start_time": "2023-01-20T15:42:59.403Z"
   },
   {
    "duration": 11,
    "start_time": "2023-01-20T15:42:59.423Z"
   },
   {
    "duration": 28,
    "start_time": "2023-01-20T15:42:59.435Z"
   },
   {
    "duration": 1935,
    "start_time": "2023-01-20T15:42:59.465Z"
   },
   {
    "duration": 2937,
    "start_time": "2023-01-20T15:43:01.403Z"
   },
   {
    "duration": 0,
    "start_time": "2023-01-20T15:43:04.342Z"
   },
   {
    "duration": 0,
    "start_time": "2023-01-20T15:43:04.344Z"
   },
   {
    "duration": 3,
    "start_time": "2023-01-20T15:43:38.885Z"
   },
   {
    "duration": 1370,
    "start_time": "2023-01-20T15:43:49.097Z"
   },
   {
    "duration": 698,
    "start_time": "2023-01-20T15:43:50.469Z"
   },
   {
    "duration": 30,
    "start_time": "2023-01-20T15:43:51.169Z"
   },
   {
    "duration": 18,
    "start_time": "2023-01-20T15:43:51.201Z"
   },
   {
    "duration": 19,
    "start_time": "2023-01-20T15:43:51.220Z"
   },
   {
    "duration": 18,
    "start_time": "2023-01-20T15:43:51.241Z"
   },
   {
    "duration": 40,
    "start_time": "2023-01-20T15:43:51.260Z"
   },
   {
    "duration": 18,
    "start_time": "2023-01-20T15:43:51.302Z"
   },
   {
    "duration": 13,
    "start_time": "2023-01-20T15:43:51.322Z"
   },
   {
    "duration": 8,
    "start_time": "2023-01-20T15:43:51.338Z"
   },
   {
    "duration": 15,
    "start_time": "2023-01-20T15:43:51.347Z"
   },
   {
    "duration": 17,
    "start_time": "2023-01-20T15:43:51.364Z"
   },
   {
    "duration": 32,
    "start_time": "2023-01-20T15:43:51.382Z"
   },
   {
    "duration": 18,
    "start_time": "2023-01-20T15:43:51.415Z"
   },
   {
    "duration": 3034,
    "start_time": "2023-01-20T15:43:51.435Z"
   },
   {
    "duration": 477,
    "start_time": "2023-01-20T15:43:54.471Z"
   },
   {
    "duration": 1315,
    "start_time": "2023-01-20T15:43:54.950Z"
   },
   {
    "duration": 3,
    "start_time": "2023-01-20T15:43:56.268Z"
   },
   {
    "duration": 9,
    "start_time": "2023-01-20T15:43:56.272Z"
   },
   {
    "duration": 24,
    "start_time": "2023-01-20T15:43:56.283Z"
   },
   {
    "duration": 10,
    "start_time": "2023-01-20T15:43:56.309Z"
   },
   {
    "duration": 2284,
    "start_time": "2023-01-20T15:43:56.321Z"
   },
   {
    "duration": 3053,
    "start_time": "2023-01-20T15:43:58.607Z"
   },
   {
    "duration": 0,
    "start_time": "2023-01-20T15:44:01.661Z"
   },
   {
    "duration": 0,
    "start_time": "2023-01-20T15:44:01.662Z"
   },
   {
    "duration": 3,
    "start_time": "2023-01-20T15:44:13.226Z"
   },
   {
    "duration": 1500,
    "start_time": "2023-01-21T10:30:07.232Z"
   },
   {
    "duration": 1799,
    "start_time": "2023-01-21T10:30:08.733Z"
   },
   {
    "duration": 25,
    "start_time": "2023-01-21T10:30:10.533Z"
   },
   {
    "duration": 17,
    "start_time": "2023-01-21T10:30:10.560Z"
   },
   {
    "duration": 19,
    "start_time": "2023-01-21T10:30:10.579Z"
   },
   {
    "duration": 15,
    "start_time": "2023-01-21T10:30:10.599Z"
   },
   {
    "duration": 33,
    "start_time": "2023-01-21T10:30:10.615Z"
   },
   {
    "duration": 18,
    "start_time": "2023-01-21T10:30:10.649Z"
   },
   {
    "duration": 5,
    "start_time": "2023-01-21T10:30:10.669Z"
   },
   {
    "duration": 4,
    "start_time": "2023-01-21T10:30:10.676Z"
   },
   {
    "duration": 7,
    "start_time": "2023-01-21T10:30:10.682Z"
   },
   {
    "duration": 30,
    "start_time": "2023-01-21T10:30:10.690Z"
   },
   {
    "duration": 33,
    "start_time": "2023-01-21T10:30:10.722Z"
   },
   {
    "duration": 14,
    "start_time": "2023-01-21T10:30:10.757Z"
   },
   {
    "duration": 2819,
    "start_time": "2023-01-21T10:30:10.773Z"
   },
   {
    "duration": 458,
    "start_time": "2023-01-21T10:30:13.593Z"
   },
   {
    "duration": 1203,
    "start_time": "2023-01-21T10:30:14.052Z"
   },
   {
    "duration": 3,
    "start_time": "2023-01-21T10:30:15.256Z"
   },
   {
    "duration": 37,
    "start_time": "2023-01-21T10:30:15.260Z"
   },
   {
    "duration": 40,
    "start_time": "2023-01-21T10:30:15.298Z"
   },
   {
    "duration": 10,
    "start_time": "2023-01-21T10:30:15.339Z"
   },
   {
    "duration": 2687,
    "start_time": "2023-01-21T10:30:15.351Z"
   },
   {
    "duration": 2845,
    "start_time": "2023-01-21T10:30:18.039Z"
   },
   {
    "duration": 0,
    "start_time": "2023-01-21T10:30:20.886Z"
   },
   {
    "duration": 0,
    "start_time": "2023-01-21T10:30:20.888Z"
   },
   {
    "duration": 2667,
    "start_time": "2023-01-21T10:34:55.185Z"
   },
   {
    "duration": 3,
    "start_time": "2023-01-21T10:38:06.421Z"
   },
   {
    "duration": 1314,
    "start_time": "2023-01-21T10:38:14.473Z"
   },
   {
    "duration": 617,
    "start_time": "2023-01-21T10:38:15.788Z"
   },
   {
    "duration": 23,
    "start_time": "2023-01-21T10:38:16.407Z"
   },
   {
    "duration": 16,
    "start_time": "2023-01-21T10:38:16.437Z"
   },
   {
    "duration": 20,
    "start_time": "2023-01-21T10:38:16.454Z"
   },
   {
    "duration": 14,
    "start_time": "2023-01-21T10:38:16.475Z"
   },
   {
    "duration": 19,
    "start_time": "2023-01-21T10:38:16.491Z"
   },
   {
    "duration": 20,
    "start_time": "2023-01-21T10:38:16.538Z"
   },
   {
    "duration": 5,
    "start_time": "2023-01-21T10:38:16.559Z"
   },
   {
    "duration": 10,
    "start_time": "2023-01-21T10:38:16.566Z"
   },
   {
    "duration": 5,
    "start_time": "2023-01-21T10:38:16.577Z"
   },
   {
    "duration": 12,
    "start_time": "2023-01-21T10:38:16.584Z"
   },
   {
    "duration": 40,
    "start_time": "2023-01-21T10:38:16.597Z"
   },
   {
    "duration": 15,
    "start_time": "2023-01-21T10:38:16.639Z"
   },
   {
    "duration": 2943,
    "start_time": "2023-01-21T10:38:16.656Z"
   },
   {
    "duration": 449,
    "start_time": "2023-01-21T10:38:19.601Z"
   },
   {
    "duration": 1181,
    "start_time": "2023-01-21T10:38:20.051Z"
   },
   {
    "duration": 3,
    "start_time": "2023-01-21T10:38:21.234Z"
   },
   {
    "duration": 10,
    "start_time": "2023-01-21T10:38:21.239Z"
   },
   {
    "duration": 13,
    "start_time": "2023-01-21T10:38:21.251Z"
   },
   {
    "duration": 9,
    "start_time": "2023-01-21T10:38:21.265Z"
   },
   {
    "duration": 2269,
    "start_time": "2023-01-21T10:38:21.275Z"
   },
   {
    "duration": 3042,
    "start_time": "2023-01-21T10:38:23.546Z"
   },
   {
    "duration": 0,
    "start_time": "2023-01-21T10:38:26.590Z"
   },
   {
    "duration": 0,
    "start_time": "2023-01-21T10:38:26.591Z"
   },
   {
    "duration": 1367,
    "start_time": "2023-01-21T10:39:26.237Z"
   },
   {
    "duration": 576,
    "start_time": "2023-01-21T10:39:27.606Z"
   },
   {
    "duration": 22,
    "start_time": "2023-01-21T10:39:28.184Z"
   },
   {
    "duration": 15,
    "start_time": "2023-01-21T10:39:28.207Z"
   },
   {
    "duration": 36,
    "start_time": "2023-01-21T10:39:28.223Z"
   },
   {
    "duration": 24,
    "start_time": "2023-01-21T10:39:28.261Z"
   },
   {
    "duration": 19,
    "start_time": "2023-01-21T10:39:28.287Z"
   },
   {
    "duration": 31,
    "start_time": "2023-01-21T10:39:28.308Z"
   },
   {
    "duration": 7,
    "start_time": "2023-01-21T10:39:28.340Z"
   },
   {
    "duration": 12,
    "start_time": "2023-01-21T10:39:28.349Z"
   },
   {
    "duration": 11,
    "start_time": "2023-01-21T10:39:28.363Z"
   },
   {
    "duration": 13,
    "start_time": "2023-01-21T10:39:28.375Z"
   },
   {
    "duration": 20,
    "start_time": "2023-01-21T10:39:28.389Z"
   },
   {
    "duration": 14,
    "start_time": "2023-01-21T10:39:28.411Z"
   },
   {
    "duration": 2770,
    "start_time": "2023-01-21T10:39:28.437Z"
   },
   {
    "duration": 474,
    "start_time": "2023-01-21T10:39:31.209Z"
   },
   {
    "duration": 1270,
    "start_time": "2023-01-21T10:39:31.685Z"
   },
   {
    "duration": 3,
    "start_time": "2023-01-21T10:39:32.957Z"
   },
   {
    "duration": 14,
    "start_time": "2023-01-21T10:39:32.961Z"
   },
   {
    "duration": 12,
    "start_time": "2023-01-21T10:39:32.977Z"
   },
   {
    "duration": 10,
    "start_time": "2023-01-21T10:39:32.990Z"
   },
   {
    "duration": 2640,
    "start_time": "2023-01-21T10:39:33.001Z"
   },
   {
    "duration": 2877,
    "start_time": "2023-01-21T10:39:35.643Z"
   },
   {
    "duration": 0,
    "start_time": "2023-01-21T10:39:38.521Z"
   },
   {
    "duration": 0,
    "start_time": "2023-01-21T10:39:38.522Z"
   },
   {
    "duration": 2,
    "start_time": "2023-01-21T10:39:57.290Z"
   },
   {
    "duration": 12111,
    "start_time": "2023-01-21T10:41:00.168Z"
   },
   {
    "duration": 3,
    "start_time": "2023-01-21T10:41:14.070Z"
   },
   {
    "duration": 2129,
    "start_time": "2023-01-21T10:43:27.513Z"
   },
   {
    "duration": 12141,
    "start_time": "2023-01-21T10:43:40.617Z"
   },
   {
    "duration": 4,
    "start_time": "2023-01-21T10:43:53.619Z"
   },
   {
    "duration": 7,
    "start_time": "2023-01-21T10:44:02.796Z"
   },
   {
    "duration": 10,
    "start_time": "2023-01-21T10:44:40.556Z"
   },
   {
    "duration": 10,
    "start_time": "2023-01-21T10:44:46.970Z"
   },
   {
    "duration": 8,
    "start_time": "2023-01-21T10:45:00.036Z"
   },
   {
    "duration": 2343,
    "start_time": "2023-01-21T10:45:16.797Z"
   },
   {
    "duration": 8,
    "start_time": "2023-01-21T10:45:22.007Z"
   },
   {
    "duration": 2245,
    "start_time": "2023-01-21T10:45:33.400Z"
   },
   {
    "duration": 7,
    "start_time": "2023-01-21T10:45:38.280Z"
   },
   {
    "duration": 2137,
    "start_time": "2023-01-21T10:46:03.908Z"
   },
   {
    "duration": 8,
    "start_time": "2023-01-21T10:46:09.304Z"
   },
   {
    "duration": 2666,
    "start_time": "2023-01-21T10:46:32.171Z"
   },
   {
    "duration": 8,
    "start_time": "2023-01-21T10:46:38.387Z"
   },
   {
    "duration": 2293,
    "start_time": "2023-01-21T10:46:56.451Z"
   },
   {
    "duration": 7,
    "start_time": "2023-01-21T10:46:59.778Z"
   },
   {
    "duration": 2694,
    "start_time": "2023-01-21T11:06:48.041Z"
   },
   {
    "duration": 3,
    "start_time": "2023-01-21T11:07:42.925Z"
   },
   {
    "duration": 2644,
    "start_time": "2023-01-21T11:07:46.663Z"
   },
   {
    "duration": 2,
    "start_time": "2023-01-21T11:07:57.951Z"
   },
   {
    "duration": 2668,
    "start_time": "2023-01-21T11:10:28.489Z"
   },
   {
    "duration": 1473,
    "start_time": "2023-01-21T11:10:40.010Z"
   },
   {
    "duration": 581,
    "start_time": "2023-01-21T11:10:41.485Z"
   },
   {
    "duration": 24,
    "start_time": "2023-01-21T11:10:42.067Z"
   },
   {
    "duration": 36,
    "start_time": "2023-01-21T11:10:42.092Z"
   },
   {
    "duration": 30,
    "start_time": "2023-01-21T11:10:42.130Z"
   },
   {
    "duration": 29,
    "start_time": "2023-01-21T11:10:42.162Z"
   },
   {
    "duration": 60,
    "start_time": "2023-01-21T11:10:42.193Z"
   },
   {
    "duration": 51,
    "start_time": "2023-01-21T11:10:42.255Z"
   },
   {
    "duration": 46,
    "start_time": "2023-01-21T11:10:42.308Z"
   },
   {
    "duration": 25,
    "start_time": "2023-01-21T11:10:42.356Z"
   },
   {
    "duration": 45,
    "start_time": "2023-01-21T11:10:42.382Z"
   },
   {
    "duration": 67,
    "start_time": "2023-01-21T11:10:42.429Z"
   },
   {
    "duration": 45,
    "start_time": "2023-01-21T11:10:42.498Z"
   },
   {
    "duration": 41,
    "start_time": "2023-01-21T11:10:42.547Z"
   },
   {
    "duration": 2810,
    "start_time": "2023-01-21T11:10:42.590Z"
   },
   {
    "duration": 493,
    "start_time": "2023-01-21T11:10:45.401Z"
   },
   {
    "duration": 1237,
    "start_time": "2023-01-21T11:10:45.896Z"
   },
   {
    "duration": 3,
    "start_time": "2023-01-21T11:10:47.135Z"
   },
   {
    "duration": 33,
    "start_time": "2023-01-21T11:10:47.139Z"
   },
   {
    "duration": 21,
    "start_time": "2023-01-21T11:10:47.173Z"
   },
   {
    "duration": 33,
    "start_time": "2023-01-21T11:10:47.195Z"
   },
   {
    "duration": 2511,
    "start_time": "2023-01-21T11:10:47.229Z"
   },
   {
    "duration": 2959,
    "start_time": "2023-01-21T11:10:49.742Z"
   },
   {
    "duration": 0,
    "start_time": "2023-01-21T11:10:52.703Z"
   },
   {
    "duration": 0,
    "start_time": "2023-01-21T11:10:52.704Z"
   },
   {
    "duration": 2096,
    "start_time": "2023-01-21T11:10:57.542Z"
   },
   {
    "duration": 2210,
    "start_time": "2023-01-21T11:11:14.834Z"
   },
   {
    "duration": 1502,
    "start_time": "2023-01-22T08:03:44.552Z"
   },
   {
    "duration": 2986,
    "start_time": "2023-01-22T08:03:46.057Z"
   },
   {
    "duration": 23,
    "start_time": "2023-01-22T08:03:49.045Z"
   },
   {
    "duration": 16,
    "start_time": "2023-01-22T08:03:49.069Z"
   },
   {
    "duration": 20,
    "start_time": "2023-01-22T08:03:49.088Z"
   },
   {
    "duration": 30,
    "start_time": "2023-01-22T08:03:49.110Z"
   },
   {
    "duration": 20,
    "start_time": "2023-01-22T08:03:49.142Z"
   },
   {
    "duration": 29,
    "start_time": "2023-01-22T08:03:49.164Z"
   },
   {
    "duration": 62,
    "start_time": "2023-01-22T08:03:49.194Z"
   },
   {
    "duration": 7,
    "start_time": "2023-01-22T08:03:49.259Z"
   },
   {
    "duration": 22,
    "start_time": "2023-01-22T08:03:49.268Z"
   },
   {
    "duration": 22,
    "start_time": "2023-01-22T08:03:49.291Z"
   },
   {
    "duration": 31,
    "start_time": "2023-01-22T08:03:49.314Z"
   },
   {
    "duration": 15,
    "start_time": "2023-01-22T08:03:49.347Z"
   },
   {
    "duration": 3013,
    "start_time": "2023-01-22T08:03:49.364Z"
   },
   {
    "duration": 471,
    "start_time": "2023-01-22T08:03:52.379Z"
   },
   {
    "duration": 1243,
    "start_time": "2023-01-22T08:03:52.852Z"
   },
   {
    "duration": 3,
    "start_time": "2023-01-22T08:03:54.097Z"
   },
   {
    "duration": 7,
    "start_time": "2023-01-22T08:03:54.102Z"
   },
   {
    "duration": 12,
    "start_time": "2023-01-22T08:03:54.110Z"
   },
   {
    "duration": 15,
    "start_time": "2023-01-22T08:03:54.124Z"
   },
   {
    "duration": 2655,
    "start_time": "2023-01-22T08:03:54.141Z"
   },
   {
    "duration": 1504,
    "start_time": "2023-01-22T08:03:56.797Z"
   },
   {
    "duration": 0,
    "start_time": "2023-01-22T08:03:58.302Z"
   },
   {
    "duration": 0,
    "start_time": "2023-01-22T08:03:58.304Z"
   },
   {
    "duration": 2908,
    "start_time": "2023-01-22T08:04:07.593Z"
   },
   {
    "duration": 4,
    "start_time": "2023-01-22T08:04:28.836Z"
   },
   {
    "duration": 9,
    "start_time": "2023-01-22T08:04:35.568Z"
   },
   {
    "duration": 2970,
    "start_time": "2023-01-22T08:04:54.305Z"
   },
   {
    "duration": 10,
    "start_time": "2023-01-22T08:05:10.290Z"
   },
   {
    "duration": 1204,
    "start_time": "2023-01-22T08:06:24.929Z"
   },
   {
    "duration": 14612,
    "start_time": "2023-01-22T08:06:40.520Z"
   },
   {
    "duration": 4,
    "start_time": "2023-01-22T08:09:35.046Z"
   },
   {
    "duration": 2901,
    "start_time": "2023-01-22T08:09:40.225Z"
   },
   {
    "duration": 14798,
    "start_time": "2023-01-22T08:10:13.704Z"
   },
   {
    "duration": 4,
    "start_time": "2023-01-22T08:10:32.609Z"
   },
   {
    "duration": 14408,
    "start_time": "2023-01-22T08:11:09.215Z"
   },
   {
    "duration": 3,
    "start_time": "2023-01-22T08:11:25.138Z"
   },
   {
    "duration": 37,
    "start_time": "2023-01-22T08:14:59.251Z"
   },
   {
    "duration": 1452397,
    "start_time": "2023-01-22T08:15:05.814Z"
   },
   {
    "duration": 9,
    "start_time": "2023-01-22T08:45:52.508Z"
   },
   {
    "duration": 15358,
    "start_time": "2023-01-22T08:46:37.758Z"
   },
   {
    "duration": 9,
    "start_time": "2023-01-22T08:47:11.804Z"
   },
   {
    "duration": 18,
    "start_time": "2023-01-22T08:51:45.004Z"
   },
   {
    "duration": 16,
    "start_time": "2023-01-22T08:52:59.284Z"
   },
   {
    "duration": 7,
    "start_time": "2023-01-22T08:56:02.116Z"
   },
   {
    "duration": 7,
    "start_time": "2023-01-22T08:56:07.309Z"
   },
   {
    "duration": 6,
    "start_time": "2023-01-22T08:56:14.663Z"
   },
   {
    "duration": 44,
    "start_time": "2023-01-22T09:01:06.942Z"
   },
   {
    "duration": 22148,
    "start_time": "2023-01-22T09:01:19.427Z"
   },
   {
    "duration": 4,
    "start_time": "2023-01-22T09:01:46.284Z"
   },
   {
    "duration": 3,
    "start_time": "2023-01-22T09:02:25.839Z"
   },
   {
    "duration": 3,
    "start_time": "2023-01-22T09:02:55.092Z"
   },
   {
    "duration": 23621,
    "start_time": "2023-01-22T09:03:32.582Z"
   },
   {
    "duration": 4,
    "start_time": "2023-01-22T09:04:13.132Z"
   },
   {
    "duration": 1472,
    "start_time": "2023-01-22T09:06:34.286Z"
   },
   {
    "duration": 769,
    "start_time": "2023-01-22T09:06:35.760Z"
   },
   {
    "duration": 40,
    "start_time": "2023-01-22T09:06:36.531Z"
   },
   {
    "duration": 38,
    "start_time": "2023-01-22T09:06:36.574Z"
   },
   {
    "duration": 22,
    "start_time": "2023-01-22T09:06:36.617Z"
   },
   {
    "duration": 18,
    "start_time": "2023-01-22T09:06:36.641Z"
   },
   {
    "duration": 46,
    "start_time": "2023-01-22T09:06:36.660Z"
   },
   {
    "duration": 29,
    "start_time": "2023-01-22T09:06:36.707Z"
   },
   {
    "duration": 7,
    "start_time": "2023-01-22T09:06:36.738Z"
   },
   {
    "duration": 11,
    "start_time": "2023-01-22T09:06:36.747Z"
   },
   {
    "duration": 15,
    "start_time": "2023-01-22T09:06:36.760Z"
   },
   {
    "duration": 34,
    "start_time": "2023-01-22T09:06:36.777Z"
   },
   {
    "duration": 24,
    "start_time": "2023-01-22T09:06:36.813Z"
   },
   {
    "duration": 18,
    "start_time": "2023-01-22T09:06:36.841Z"
   },
   {
    "duration": 3505,
    "start_time": "2023-01-22T09:06:36.860Z"
   },
   {
    "duration": 525,
    "start_time": "2023-01-22T09:06:40.367Z"
   },
   {
    "duration": 1442,
    "start_time": "2023-01-22T09:06:40.893Z"
   },
   {
    "duration": 4,
    "start_time": "2023-01-22T09:06:42.336Z"
   },
   {
    "duration": 8,
    "start_time": "2023-01-22T09:06:42.342Z"
   },
   {
    "duration": 17,
    "start_time": "2023-01-22T09:06:42.352Z"
   },
   {
    "duration": 16,
    "start_time": "2023-01-22T09:06:42.370Z"
   },
   {
    "duration": 3213,
    "start_time": "2023-01-22T09:06:42.387Z"
   },
   {
    "duration": 16358,
    "start_time": "2023-01-22T09:06:45.603Z"
   },
   {
    "duration": 951459,
    "start_time": "2023-01-22T09:07:01.963Z"
   },
   {
    "duration": 12,
    "start_time": "2023-01-22T09:22:53.424Z"
   },
   {
    "duration": 11,
    "start_time": "2023-01-22T09:22:53.437Z"
   },
   {
    "duration": 22217,
    "start_time": "2023-01-22T09:22:53.450Z"
   },
   {
    "duration": 3,
    "start_time": "2023-01-22T09:23:15.669Z"
   },
   {
    "duration": 1355,
    "start_time": "2023-01-22T09:23:43.611Z"
   },
   {
    "duration": 750,
    "start_time": "2023-01-22T09:23:44.968Z"
   },
   {
    "duration": 27,
    "start_time": "2023-01-22T09:23:45.720Z"
   },
   {
    "duration": 17,
    "start_time": "2023-01-22T09:23:45.751Z"
   },
   {
    "duration": 40,
    "start_time": "2023-01-22T09:23:45.770Z"
   },
   {
    "duration": 13,
    "start_time": "2023-01-22T09:23:45.812Z"
   },
   {
    "duration": 31,
    "start_time": "2023-01-22T09:23:45.826Z"
   },
   {
    "duration": 46,
    "start_time": "2023-01-22T09:23:45.858Z"
   },
   {
    "duration": 9,
    "start_time": "2023-01-22T09:23:45.906Z"
   },
   {
    "duration": 5,
    "start_time": "2023-01-22T09:23:45.919Z"
   },
   {
    "duration": 19,
    "start_time": "2023-01-22T09:23:45.926Z"
   },
   {
    "duration": 38,
    "start_time": "2023-01-22T09:23:45.947Z"
   },
   {
    "duration": 43,
    "start_time": "2023-01-22T09:23:45.987Z"
   },
   {
    "duration": 18,
    "start_time": "2023-01-22T09:23:46.033Z"
   },
   {
    "duration": 3188,
    "start_time": "2023-01-22T09:23:46.053Z"
   },
   {
    "duration": 518,
    "start_time": "2023-01-22T09:23:49.243Z"
   },
   {
    "duration": 1501,
    "start_time": "2023-01-22T09:23:49.763Z"
   },
   {
    "duration": 4,
    "start_time": "2023-01-22T09:23:51.267Z"
   },
   {
    "duration": 55,
    "start_time": "2023-01-22T09:23:51.273Z"
   },
   {
    "duration": 12,
    "start_time": "2023-01-22T09:23:51.331Z"
   },
   {
    "duration": 11,
    "start_time": "2023-01-22T09:23:51.345Z"
   },
   {
    "duration": 3857,
    "start_time": "2023-01-22T09:23:51.358Z"
   },
   {
    "duration": 16362,
    "start_time": "2023-01-22T09:23:55.218Z"
   },
   {
    "duration": 37803,
    "start_time": "2023-01-22T09:24:11.582Z"
   },
   {
    "duration": 8,
    "start_time": "2023-01-22T09:24:49.387Z"
   },
   {
    "duration": 25,
    "start_time": "2023-01-22T09:24:49.397Z"
   },
   {
    "duration": 1410,
    "start_time": "2023-01-22T09:24:59.521Z"
   },
   {
    "duration": 688,
    "start_time": "2023-01-22T09:25:00.933Z"
   },
   {
    "duration": 31,
    "start_time": "2023-01-22T09:25:01.623Z"
   },
   {
    "duration": 119,
    "start_time": "2023-01-22T09:25:01.656Z"
   },
   {
    "duration": 21,
    "start_time": "2023-01-22T09:25:01.777Z"
   },
   {
    "duration": 50,
    "start_time": "2023-01-22T09:25:01.800Z"
   },
   {
    "duration": 61,
    "start_time": "2023-01-22T09:25:01.852Z"
   },
   {
    "duration": 62,
    "start_time": "2023-01-22T09:25:01.914Z"
   },
   {
    "duration": 39,
    "start_time": "2023-01-22T09:25:01.978Z"
   },
   {
    "duration": 47,
    "start_time": "2023-01-22T09:25:02.021Z"
   },
   {
    "duration": 53,
    "start_time": "2023-01-22T09:25:02.070Z"
   },
   {
    "duration": 34,
    "start_time": "2023-01-22T09:25:02.125Z"
   },
   {
    "duration": 67,
    "start_time": "2023-01-22T09:25:02.161Z"
   },
   {
    "duration": 18,
    "start_time": "2023-01-22T09:25:02.230Z"
   },
   {
    "duration": 3284,
    "start_time": "2023-01-22T09:25:02.249Z"
   },
   {
    "duration": 568,
    "start_time": "2023-01-22T09:25:05.535Z"
   },
   {
    "duration": 1379,
    "start_time": "2023-01-22T09:25:06.106Z"
   },
   {
    "duration": 5,
    "start_time": "2023-01-22T09:25:07.487Z"
   },
   {
    "duration": 7,
    "start_time": "2023-01-22T09:25:07.494Z"
   },
   {
    "duration": 12,
    "start_time": "2023-01-22T09:25:07.503Z"
   },
   {
    "duration": 12,
    "start_time": "2023-01-22T09:25:07.517Z"
   },
   {
    "duration": 3066,
    "start_time": "2023-01-22T09:25:07.530Z"
   },
   {
    "duration": 15348,
    "start_time": "2023-01-22T09:25:10.599Z"
   },
   {
    "duration": 782728,
    "start_time": "2023-01-22T09:25:25.949Z"
   },
   {
    "duration": 14,
    "start_time": "2023-01-22T09:38:28.679Z"
   },
   {
    "duration": 11,
    "start_time": "2023-01-22T09:38:28.695Z"
   },
   {
    "duration": 20196,
    "start_time": "2023-01-22T09:38:28.707Z"
   },
   {
    "duration": 4,
    "start_time": "2023-01-22T09:38:48.906Z"
   },
   {
    "duration": 0,
    "start_time": "2023-01-22T10:06:48.272Z"
   },
   {
    "duration": 35,
    "start_time": "2023-01-22T10:06:52.643Z"
   },
   {
    "duration": 4,
    "start_time": "2023-01-22T10:08:06.756Z"
   },
   {
    "duration": 28,
    "start_time": "2023-01-22T10:08:12.308Z"
   },
   {
    "duration": 1802,
    "start_time": "2023-01-22T13:58:21.088Z"
   },
   {
    "duration": 3187,
    "start_time": "2023-01-22T13:58:22.892Z"
   },
   {
    "duration": 26,
    "start_time": "2023-01-22T13:58:26.081Z"
   },
   {
    "duration": 19,
    "start_time": "2023-01-22T13:58:26.110Z"
   },
   {
    "duration": 26,
    "start_time": "2023-01-22T13:58:26.131Z"
   },
   {
    "duration": 31,
    "start_time": "2023-01-22T13:58:26.161Z"
   },
   {
    "duration": 24,
    "start_time": "2023-01-22T13:58:26.193Z"
   },
   {
    "duration": 37,
    "start_time": "2023-01-22T13:58:26.219Z"
   },
   {
    "duration": 20,
    "start_time": "2023-01-22T13:58:26.258Z"
   },
   {
    "duration": 5,
    "start_time": "2023-01-22T13:58:26.281Z"
   },
   {
    "duration": 9,
    "start_time": "2023-01-22T13:58:26.288Z"
   },
   {
    "duration": 14,
    "start_time": "2023-01-22T13:58:26.299Z"
   },
   {
    "duration": 42,
    "start_time": "2023-01-22T13:58:26.315Z"
   },
   {
    "duration": 22,
    "start_time": "2023-01-22T13:58:26.359Z"
   },
   {
    "duration": 3229,
    "start_time": "2023-01-22T13:58:26.383Z"
   },
   {
    "duration": 620,
    "start_time": "2023-01-22T13:58:29.614Z"
   },
   {
    "duration": 11,
    "start_time": "2023-01-22T13:58:30.237Z"
   },
   {
    "duration": 1367,
    "start_time": "2023-01-22T13:58:30.250Z"
   },
   {
    "duration": 3,
    "start_time": "2023-01-22T13:58:31.619Z"
   },
   {
    "duration": 51,
    "start_time": "2023-01-22T13:58:31.624Z"
   },
   {
    "duration": 19,
    "start_time": "2023-01-22T13:58:31.678Z"
   },
   {
    "duration": 18,
    "start_time": "2023-01-22T13:58:31.700Z"
   },
   {
    "duration": 996,
    "start_time": "2023-01-22T13:58:31.721Z"
   },
   {
    "duration": 7357,
    "start_time": "2023-01-22T13:58:32.719Z"
   },
   {
    "duration": 165389,
    "start_time": "2023-01-22T13:58:40.078Z"
   },
   {
    "duration": 7,
    "start_time": "2023-01-22T14:01:25.470Z"
   },
   {
    "duration": 14,
    "start_time": "2023-01-22T14:01:25.479Z"
   },
   {
    "duration": 7415,
    "start_time": "2023-01-22T14:01:25.497Z"
   },
   {
    "duration": 0,
    "start_time": "2023-01-22T14:01:32.914Z"
   },
   {
    "duration": 0,
    "start_time": "2023-01-22T14:01:32.920Z"
   },
   {
    "duration": 1433,
    "start_time": "2023-01-22T14:01:48.445Z"
   },
   {
    "duration": 1423,
    "start_time": "2023-01-22T14:02:08.199Z"
   },
   {
    "duration": 3,
    "start_time": "2023-01-22T14:02:40.973Z"
   },
   {
    "duration": 681,
    "start_time": "2023-01-22T14:02:41.433Z"
   },
   {
    "duration": 24,
    "start_time": "2023-01-22T14:02:42.116Z"
   },
   {
    "duration": 48,
    "start_time": "2023-01-22T14:02:42.142Z"
   },
   {
    "duration": 29,
    "start_time": "2023-01-22T14:02:42.368Z"
   },
   {
    "duration": 15,
    "start_time": "2023-01-22T14:02:42.483Z"
   },
   {
    "duration": 27,
    "start_time": "2023-01-22T14:02:42.629Z"
   },
   {
    "duration": 31,
    "start_time": "2023-01-22T14:02:42.772Z"
   },
   {
    "duration": 5,
    "start_time": "2023-01-22T14:02:43.405Z"
   },
   {
    "duration": 6,
    "start_time": "2023-01-22T14:02:43.567Z"
   },
   {
    "duration": 5,
    "start_time": "2023-01-22T14:02:44.479Z"
   },
   {
    "duration": 19,
    "start_time": "2023-01-22T14:02:45.028Z"
   },
   {
    "duration": 21,
    "start_time": "2023-01-22T14:02:45.313Z"
   },
   {
    "duration": 20,
    "start_time": "2023-01-22T14:02:45.593Z"
   },
   {
    "duration": 3003,
    "start_time": "2023-01-22T14:02:46.972Z"
   },
   {
    "duration": 738,
    "start_time": "2023-01-22T14:02:49.976Z"
   },
   {
    "duration": 12,
    "start_time": "2023-01-22T14:02:51.173Z"
   },
   {
    "duration": 9,
    "start_time": "2023-01-22T14:03:10.308Z"
   },
   {
    "duration": 11,
    "start_time": "2023-01-22T14:03:12.060Z"
   },
   {
    "duration": 5,
    "start_time": "2023-01-22T14:03:49.011Z"
   },
   {
    "duration": 6,
    "start_time": "2023-01-22T14:03:56.969Z"
   },
   {
    "duration": 6,
    "start_time": "2023-01-22T14:04:19.694Z"
   },
   {
    "duration": 7,
    "start_time": "2023-01-22T14:04:24.414Z"
   },
   {
    "duration": 10,
    "start_time": "2023-01-22T14:05:20.948Z"
   },
   {
    "duration": 5,
    "start_time": "2023-01-22T14:05:23.667Z"
   },
   {
    "duration": 1391,
    "start_time": "2023-01-22T14:05:25.521Z"
   },
   {
    "duration": 17,
    "start_time": "2023-01-22T14:09:42.490Z"
   },
   {
    "duration": 10586,
    "start_time": "2023-01-22T14:09:47.411Z"
   },
   {
    "duration": 21,
    "start_time": "2023-01-22T14:10:33.971Z"
   },
   {
    "duration": 1418,
    "start_time": "2023-01-22T14:11:42.778Z"
   },
   {
    "duration": 707,
    "start_time": "2023-01-22T14:11:44.197Z"
   },
   {
    "duration": 23,
    "start_time": "2023-01-22T14:11:44.906Z"
   },
   {
    "duration": 27,
    "start_time": "2023-01-22T14:11:44.938Z"
   },
   {
    "duration": 25,
    "start_time": "2023-01-22T14:11:44.970Z"
   },
   {
    "duration": 33,
    "start_time": "2023-01-22T14:11:44.997Z"
   },
   {
    "duration": 28,
    "start_time": "2023-01-22T14:11:45.032Z"
   },
   {
    "duration": 31,
    "start_time": "2023-01-22T14:11:45.061Z"
   },
   {
    "duration": 8,
    "start_time": "2023-01-22T14:11:45.093Z"
   },
   {
    "duration": 5,
    "start_time": "2023-01-22T14:11:45.103Z"
   },
   {
    "duration": 6,
    "start_time": "2023-01-22T14:11:45.110Z"
   },
   {
    "duration": 23,
    "start_time": "2023-01-22T14:11:45.117Z"
   },
   {
    "duration": 48,
    "start_time": "2023-01-22T14:11:45.144Z"
   },
   {
    "duration": 15,
    "start_time": "2023-01-22T14:11:45.193Z"
   },
   {
    "duration": 3186,
    "start_time": "2023-01-22T14:11:45.210Z"
   },
   {
    "duration": 495,
    "start_time": "2023-01-22T14:11:48.397Z"
   },
   {
    "duration": 7,
    "start_time": "2023-01-22T14:11:48.894Z"
   },
   {
    "duration": 6,
    "start_time": "2023-01-22T14:11:48.903Z"
   },
   {
    "duration": 1337,
    "start_time": "2023-01-22T14:11:48.911Z"
   },
   {
    "duration": 3,
    "start_time": "2023-01-22T14:11:50.250Z"
   },
   {
    "duration": 19,
    "start_time": "2023-01-22T14:11:50.255Z"
   },
   {
    "duration": 12,
    "start_time": "2023-01-22T14:11:50.277Z"
   },
   {
    "duration": 13,
    "start_time": "2023-01-22T14:11:50.292Z"
   },
   {
    "duration": 5164,
    "start_time": "2023-01-22T14:11:50.307Z"
   },
   {
    "duration": 14751,
    "start_time": "2023-01-22T14:11:55.473Z"
   },
   {
    "duration": 6570,
    "start_time": "2023-01-22T14:12:10.226Z"
   },
   {
    "duration": 9,
    "start_time": "2023-01-22T14:12:16.797Z"
   },
   {
    "duration": 17,
    "start_time": "2023-01-22T14:12:16.810Z"
   },
   {
    "duration": 21240,
    "start_time": "2023-01-22T14:12:16.829Z"
   },
   {
    "duration": 6,
    "start_time": "2023-01-22T14:12:38.075Z"
   },
   {
    "duration": 4,
    "start_time": "2023-01-22T14:13:51.079Z"
   },
   {
    "duration": 12,
    "start_time": "2023-01-22T14:15:26.387Z"
   },
   {
    "duration": 14,
    "start_time": "2023-01-22T14:15:53.616Z"
   },
   {
    "duration": 6,
    "start_time": "2023-01-22T14:15:54.862Z"
   },
   {
    "duration": 1532,
    "start_time": "2023-01-22T14:18:12.827Z"
   },
   {
    "duration": 715,
    "start_time": "2023-01-22T14:18:14.361Z"
   },
   {
    "duration": 29,
    "start_time": "2023-01-22T14:18:15.078Z"
   },
   {
    "duration": 46,
    "start_time": "2023-01-22T14:18:15.111Z"
   },
   {
    "duration": 31,
    "start_time": "2023-01-22T14:18:15.159Z"
   },
   {
    "duration": 13,
    "start_time": "2023-01-22T14:18:15.192Z"
   },
   {
    "duration": 57,
    "start_time": "2023-01-22T14:18:15.207Z"
   },
   {
    "duration": 37,
    "start_time": "2023-01-22T14:18:15.267Z"
   },
   {
    "duration": 7,
    "start_time": "2023-01-22T14:18:15.307Z"
   },
   {
    "duration": 27,
    "start_time": "2023-01-22T14:18:15.317Z"
   },
   {
    "duration": 19,
    "start_time": "2023-01-22T14:18:15.346Z"
   },
   {
    "duration": 14,
    "start_time": "2023-01-22T14:18:15.367Z"
   },
   {
    "duration": 26,
    "start_time": "2023-01-22T14:18:15.383Z"
   },
   {
    "duration": 17,
    "start_time": "2023-01-22T14:18:15.411Z"
   },
   {
    "duration": 3187,
    "start_time": "2023-01-22T14:18:15.429Z"
   },
   {
    "duration": 533,
    "start_time": "2023-01-22T14:18:18.617Z"
   },
   {
    "duration": 9,
    "start_time": "2023-01-22T14:18:19.151Z"
   },
   {
    "duration": 10,
    "start_time": "2023-01-22T14:18:19.162Z"
   },
   {
    "duration": 1307,
    "start_time": "2023-01-22T14:18:19.173Z"
   },
   {
    "duration": 4,
    "start_time": "2023-01-22T14:18:20.483Z"
   },
   {
    "duration": 16,
    "start_time": "2023-01-22T14:18:20.490Z"
   },
   {
    "duration": 25,
    "start_time": "2023-01-22T14:18:20.509Z"
   },
   {
    "duration": 42,
    "start_time": "2023-01-22T14:18:20.538Z"
   },
   {
    "duration": 5871,
    "start_time": "2023-01-22T14:18:20.583Z"
   },
   {
    "duration": 14295,
    "start_time": "2023-01-22T14:18:26.456Z"
   },
   {
    "duration": 756113,
    "start_time": "2023-01-22T14:18:40.752Z"
   },
   {
    "duration": 14,
    "start_time": "2023-01-22T14:31:16.866Z"
   },
   {
    "duration": 21,
    "start_time": "2023-01-22T14:31:16.884Z"
   },
   {
    "duration": 21806,
    "start_time": "2023-01-22T14:31:16.907Z"
   },
   {
    "duration": 3,
    "start_time": "2023-01-22T14:31:38.717Z"
   },
   {
    "duration": 63,
    "start_time": "2023-01-22T14:31:38.723Z"
   },
   {
    "duration": 42,
    "start_time": "2023-01-22T14:31:38.789Z"
   },
   {
    "duration": 48,
    "start_time": "2023-01-23T07:54:52.603Z"
   },
   {
    "duration": 1560,
    "start_time": "2023-01-23T09:31:16.377Z"
   },
   {
    "duration": 2918,
    "start_time": "2023-01-23T09:31:17.939Z"
   },
   {
    "duration": 26,
    "start_time": "2023-01-23T09:31:20.859Z"
   },
   {
    "duration": 108,
    "start_time": "2023-01-23T09:31:20.887Z"
   },
   {
    "duration": 21,
    "start_time": "2023-01-23T09:31:20.996Z"
   },
   {
    "duration": 15,
    "start_time": "2023-01-23T09:31:21.018Z"
   },
   {
    "duration": 23,
    "start_time": "2023-01-23T09:31:21.035Z"
   },
   {
    "duration": 42,
    "start_time": "2023-01-23T09:31:21.059Z"
   },
   {
    "duration": 16,
    "start_time": "2023-01-23T09:31:21.103Z"
   },
   {
    "duration": 45,
    "start_time": "2023-01-23T09:31:21.122Z"
   },
   {
    "duration": 9,
    "start_time": "2023-01-23T09:31:21.168Z"
   },
   {
    "duration": 18,
    "start_time": "2023-01-23T09:31:21.179Z"
   },
   {
    "duration": 24,
    "start_time": "2023-01-23T09:31:21.198Z"
   },
   {
    "duration": 18,
    "start_time": "2023-01-23T09:31:21.223Z"
   },
   {
    "duration": 2935,
    "start_time": "2023-01-23T09:31:21.242Z"
   },
   {
    "duration": 466,
    "start_time": "2023-01-23T09:31:24.179Z"
   },
   {
    "duration": 31,
    "start_time": "2023-01-23T09:31:24.647Z"
   },
   {
    "duration": 10,
    "start_time": "2023-01-23T09:31:24.680Z"
   },
   {
    "duration": 9,
    "start_time": "2023-01-23T09:31:24.691Z"
   },
   {
    "duration": 17,
    "start_time": "2023-01-23T09:31:24.702Z"
   },
   {
    "duration": 21,
    "start_time": "2023-01-23T09:31:24.720Z"
   },
   {
    "duration": 1273,
    "start_time": "2023-01-23T09:31:24.743Z"
   },
   {
    "duration": 3,
    "start_time": "2023-01-23T09:31:26.017Z"
   },
   {
    "duration": 23,
    "start_time": "2023-01-23T09:31:26.022Z"
   },
   {
    "duration": 29,
    "start_time": "2023-01-23T09:31:26.046Z"
   },
   {
    "duration": 154,
    "start_time": "2023-01-23T09:31:26.077Z"
   },
   {
    "duration": 0,
    "start_time": "2023-01-23T09:31:26.235Z"
   },
   {
    "duration": 0,
    "start_time": "2023-01-23T09:31:26.236Z"
   },
   {
    "duration": 0,
    "start_time": "2023-01-23T09:31:26.238Z"
   },
   {
    "duration": 0,
    "start_time": "2023-01-23T09:31:26.239Z"
   },
   {
    "duration": 0,
    "start_time": "2023-01-23T09:31:26.248Z"
   },
   {
    "duration": 0,
    "start_time": "2023-01-23T09:31:26.249Z"
   },
   {
    "duration": 0,
    "start_time": "2023-01-23T09:31:26.251Z"
   },
   {
    "duration": 0,
    "start_time": "2023-01-23T09:31:26.252Z"
   },
   {
    "duration": 0,
    "start_time": "2023-01-23T09:31:26.253Z"
   },
   {
    "duration": 6,
    "start_time": "2023-01-23T09:32:03.024Z"
   },
   {
    "duration": 2547,
    "start_time": "2023-01-23T09:32:08.709Z"
   },
   {
    "duration": 14156,
    "start_time": "2023-01-23T09:32:16.030Z"
   },
   {
    "duration": 734700,
    "start_time": "2023-01-23T09:32:59.652Z"
   },
   {
    "duration": 14,
    "start_time": "2023-01-23T09:45:39.486Z"
   },
   {
    "duration": 19,
    "start_time": "2023-01-23T09:45:47.791Z"
   },
   {
    "duration": 13,
    "start_time": "2023-01-23T09:46:07.578Z"
   },
   {
    "duration": 21206,
    "start_time": "2023-01-23T09:46:15.264Z"
   },
   {
    "duration": 23515,
    "start_time": "2023-01-23T09:46:56.587Z"
   },
   {
    "duration": 4,
    "start_time": "2023-01-23T09:47:22.863Z"
   },
   {
    "duration": 11,
    "start_time": "2023-01-23T09:47:26.540Z"
   },
   {
    "duration": 4,
    "start_time": "2023-01-23T09:47:26.995Z"
   }
  ],
  "kernelspec": {
   "display_name": "Python 3 (ipykernel)",
   "language": "python",
   "name": "python3"
  },
  "language_info": {
   "codemirror_mode": {
    "name": "ipython",
    "version": 3
   },
   "file_extension": ".py",
   "mimetype": "text/x-python",
   "name": "python",
   "nbconvert_exporter": "python",
   "pygments_lexer": "ipython3",
   "version": "3.9.5"
  },
  "toc": {
   "base_numbering": 1,
   "nav_menu": {},
   "number_sections": true,
   "sideBar": true,
   "skip_h1_title": true,
   "title_cell": "Содержание",
   "title_sidebar": "Содержание",
   "toc_cell": true,
   "toc_position": {
    "height": "calc(100% - 180px)",
    "left": "10px",
    "top": "150px",
    "width": "165px"
   },
   "toc_section_display": true,
   "toc_window_display": true
  }
 },
 "nbformat": 4,
 "nbformat_minor": 2
}
