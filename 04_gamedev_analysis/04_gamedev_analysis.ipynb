{
 "cells": [
  {
   "cell_type": "markdown",
   "metadata": {},
   "source": [
    "# Сборный проект\n",
    "# Исследование рынка видеоигр\n",
    "В нашем распоряжении данные из открытых источников о продажах игр, оценках пользователей и критиков, жанрах и платформах (например, Xbox или PlayStation) до 2016 года. Нам нужно провести исследование для международного магазина видеоигр: на исторических данных выявить определяющие успешность игры закономерности."
   ]
  },
  {
   "cell_type": "markdown",
   "metadata": {},
   "source": [
    "## Анализ данных об играх\n",
    "### 1) Данные"
   ]
  },
  {
   "cell_type": "markdown",
   "metadata": {},
   "source": [
    "- Name — название игры\n",
    "- Platform — платформа\n",
    "- Year_of_Release — год выпуска\n",
    "- Genre — жанр игры\n",
    "- NA_sales — продажи в Северной Америке (миллионы проданных копий)\n",
    "- EU_sales — продажи в Европе (миллионы проданных копий)\n",
    "- JP_sales — продажи в Японии (миллионы проданных копий)\n",
    "- Other_sales — продажи в других странах (миллионы проданных копий)\n",
    "- Critic_Score — оценка критиков (максимум 100)\n",
    "- User_Score — оценка пользователей (максимум 10)\n",
    "- Rating — рейтинг от организации ESRB (англ. Entertainment Software Rating Board)."
   ]
  },
  {
   "cell_type": "code",
   "execution_count": 1,
   "metadata": {},
   "outputs": [],
   "source": [
    "import pandas as pd\n",
    "import numpy as np\n",
    "import seaborn as sns\n",
    "import matplotlib.pyplot as plt\n",
    "from scipy import stats as st\n",
    "import warnings\n",
    "warnings.simplefilter('ignore')"
   ]
  },
  {
   "cell_type": "code",
   "execution_count": 2,
   "metadata": {
    "scrolled": false
   },
   "outputs": [
    {
     "data": {
      "text/html": [
       "<div>\n",
       "<style scoped>\n",
       "    .dataframe tbody tr th:only-of-type {\n",
       "        vertical-align: middle;\n",
       "    }\n",
       "\n",
       "    .dataframe tbody tr th {\n",
       "        vertical-align: top;\n",
       "    }\n",
       "\n",
       "    .dataframe thead th {\n",
       "        text-align: right;\n",
       "    }\n",
       "</style>\n",
       "<table border=\"1\" class=\"dataframe\">\n",
       "  <thead>\n",
       "    <tr style=\"text-align: right;\">\n",
       "      <th></th>\n",
       "      <th>Name</th>\n",
       "      <th>Platform</th>\n",
       "      <th>Year_of_Release</th>\n",
       "      <th>Genre</th>\n",
       "      <th>NA_sales</th>\n",
       "      <th>EU_sales</th>\n",
       "      <th>JP_sales</th>\n",
       "      <th>Other_sales</th>\n",
       "      <th>Critic_Score</th>\n",
       "      <th>User_Score</th>\n",
       "      <th>Rating</th>\n",
       "    </tr>\n",
       "  </thead>\n",
       "  <tbody>\n",
       "    <tr>\n",
       "      <th>0</th>\n",
       "      <td>Wii Sports</td>\n",
       "      <td>Wii</td>\n",
       "      <td>2006.0</td>\n",
       "      <td>Sports</td>\n",
       "      <td>41.36</td>\n",
       "      <td>28.96</td>\n",
       "      <td>3.77</td>\n",
       "      <td>8.45</td>\n",
       "      <td>76.0</td>\n",
       "      <td>8</td>\n",
       "      <td>E</td>\n",
       "    </tr>\n",
       "    <tr>\n",
       "      <th>1</th>\n",
       "      <td>Super Mario Bros.</td>\n",
       "      <td>NES</td>\n",
       "      <td>1985.0</td>\n",
       "      <td>Platform</td>\n",
       "      <td>29.08</td>\n",
       "      <td>3.58</td>\n",
       "      <td>6.81</td>\n",
       "      <td>0.77</td>\n",
       "      <td>NaN</td>\n",
       "      <td>NaN</td>\n",
       "      <td>NaN</td>\n",
       "    </tr>\n",
       "    <tr>\n",
       "      <th>2</th>\n",
       "      <td>Mario Kart Wii</td>\n",
       "      <td>Wii</td>\n",
       "      <td>2008.0</td>\n",
       "      <td>Racing</td>\n",
       "      <td>15.68</td>\n",
       "      <td>12.76</td>\n",
       "      <td>3.79</td>\n",
       "      <td>3.29</td>\n",
       "      <td>82.0</td>\n",
       "      <td>8.3</td>\n",
       "      <td>E</td>\n",
       "    </tr>\n",
       "    <tr>\n",
       "      <th>3</th>\n",
       "      <td>Wii Sports Resort</td>\n",
       "      <td>Wii</td>\n",
       "      <td>2009.0</td>\n",
       "      <td>Sports</td>\n",
       "      <td>15.61</td>\n",
       "      <td>10.93</td>\n",
       "      <td>3.28</td>\n",
       "      <td>2.95</td>\n",
       "      <td>80.0</td>\n",
       "      <td>8</td>\n",
       "      <td>E</td>\n",
       "    </tr>\n",
       "    <tr>\n",
       "      <th>4</th>\n",
       "      <td>Pokemon Red/Pokemon Blue</td>\n",
       "      <td>GB</td>\n",
       "      <td>1996.0</td>\n",
       "      <td>Role-Playing</td>\n",
       "      <td>11.27</td>\n",
       "      <td>8.89</td>\n",
       "      <td>10.22</td>\n",
       "      <td>1.00</td>\n",
       "      <td>NaN</td>\n",
       "      <td>NaN</td>\n",
       "      <td>NaN</td>\n",
       "    </tr>\n",
       "    <tr>\n",
       "      <th>5</th>\n",
       "      <td>Tetris</td>\n",
       "      <td>GB</td>\n",
       "      <td>1989.0</td>\n",
       "      <td>Puzzle</td>\n",
       "      <td>23.20</td>\n",
       "      <td>2.26</td>\n",
       "      <td>4.22</td>\n",
       "      <td>0.58</td>\n",
       "      <td>NaN</td>\n",
       "      <td>NaN</td>\n",
       "      <td>NaN</td>\n",
       "    </tr>\n",
       "    <tr>\n",
       "      <th>6</th>\n",
       "      <td>New Super Mario Bros.</td>\n",
       "      <td>DS</td>\n",
       "      <td>2006.0</td>\n",
       "      <td>Platform</td>\n",
       "      <td>11.28</td>\n",
       "      <td>9.14</td>\n",
       "      <td>6.50</td>\n",
       "      <td>2.88</td>\n",
       "      <td>89.0</td>\n",
       "      <td>8.5</td>\n",
       "      <td>E</td>\n",
       "    </tr>\n",
       "    <tr>\n",
       "      <th>7</th>\n",
       "      <td>Wii Play</td>\n",
       "      <td>Wii</td>\n",
       "      <td>2006.0</td>\n",
       "      <td>Misc</td>\n",
       "      <td>13.96</td>\n",
       "      <td>9.18</td>\n",
       "      <td>2.93</td>\n",
       "      <td>2.84</td>\n",
       "      <td>58.0</td>\n",
       "      <td>6.6</td>\n",
       "      <td>E</td>\n",
       "    </tr>\n",
       "    <tr>\n",
       "      <th>8</th>\n",
       "      <td>New Super Mario Bros. Wii</td>\n",
       "      <td>Wii</td>\n",
       "      <td>2009.0</td>\n",
       "      <td>Platform</td>\n",
       "      <td>14.44</td>\n",
       "      <td>6.94</td>\n",
       "      <td>4.70</td>\n",
       "      <td>2.24</td>\n",
       "      <td>87.0</td>\n",
       "      <td>8.4</td>\n",
       "      <td>E</td>\n",
       "    </tr>\n",
       "    <tr>\n",
       "      <th>9</th>\n",
       "      <td>Duck Hunt</td>\n",
       "      <td>NES</td>\n",
       "      <td>1984.0</td>\n",
       "      <td>Shooter</td>\n",
       "      <td>26.93</td>\n",
       "      <td>0.63</td>\n",
       "      <td>0.28</td>\n",
       "      <td>0.47</td>\n",
       "      <td>NaN</td>\n",
       "      <td>NaN</td>\n",
       "      <td>NaN</td>\n",
       "    </tr>\n",
       "  </tbody>\n",
       "</table>\n",
       "</div>"
      ],
      "text/plain": [
       "                        Name Platform  Year_of_Release         Genre  \\\n",
       "0                 Wii Sports      Wii           2006.0        Sports   \n",
       "1          Super Mario Bros.      NES           1985.0      Platform   \n",
       "2             Mario Kart Wii      Wii           2008.0        Racing   \n",
       "3          Wii Sports Resort      Wii           2009.0        Sports   \n",
       "4   Pokemon Red/Pokemon Blue       GB           1996.0  Role-Playing   \n",
       "5                     Tetris       GB           1989.0        Puzzle   \n",
       "6      New Super Mario Bros.       DS           2006.0      Platform   \n",
       "7                   Wii Play      Wii           2006.0          Misc   \n",
       "8  New Super Mario Bros. Wii      Wii           2009.0      Platform   \n",
       "9                  Duck Hunt      NES           1984.0       Shooter   \n",
       "\n",
       "   NA_sales  EU_sales  JP_sales  Other_sales  Critic_Score User_Score Rating  \n",
       "0     41.36     28.96      3.77         8.45          76.0          8      E  \n",
       "1     29.08      3.58      6.81         0.77           NaN        NaN    NaN  \n",
       "2     15.68     12.76      3.79         3.29          82.0        8.3      E  \n",
       "3     15.61     10.93      3.28         2.95          80.0          8      E  \n",
       "4     11.27      8.89     10.22         1.00           NaN        NaN    NaN  \n",
       "5     23.20      2.26      4.22         0.58           NaN        NaN    NaN  \n",
       "6     11.28      9.14      6.50         2.88          89.0        8.5      E  \n",
       "7     13.96      9.18      2.93         2.84          58.0        6.6      E  \n",
       "8     14.44      6.94      4.70         2.24          87.0        8.4      E  \n",
       "9     26.93      0.63      0.28         0.47           NaN        NaN    NaN  "
      ]
     },
     "execution_count": 2,
     "metadata": {},
     "output_type": "execute_result"
    }
   ],
   "source": [
    "data = pd.read_csv('/datasets/games.csv')\n",
    "data.head(10)"
   ]
  },
  {
   "cell_type": "code",
   "execution_count": 3,
   "metadata": {},
   "outputs": [],
   "source": [
    "data.columns = data.columns.str.lower()"
   ]
  },
  {
   "cell_type": "code",
   "execution_count": 4,
   "metadata": {},
   "outputs": [
    {
     "data": {
      "text/plain": [
       "(16715, 11)"
      ]
     },
     "execution_count": 4,
     "metadata": {},
     "output_type": "execute_result"
    }
   ],
   "source": [
    "data.shape"
   ]
  },
  {
   "cell_type": "code",
   "execution_count": 5,
   "metadata": {},
   "outputs": [
    {
     "name": "stdout",
     "output_type": "stream",
     "text": [
      "<class 'pandas.core.frame.DataFrame'>\n",
      "RangeIndex: 16715 entries, 0 to 16714\n",
      "Data columns (total 11 columns):\n",
      " #   Column           Non-Null Count  Dtype  \n",
      "---  ------           --------------  -----  \n",
      " 0   name             16713 non-null  object \n",
      " 1   platform         16715 non-null  object \n",
      " 2   year_of_release  16446 non-null  float64\n",
      " 3   genre            16713 non-null  object \n",
      " 4   na_sales         16715 non-null  float64\n",
      " 5   eu_sales         16715 non-null  float64\n",
      " 6   jp_sales         16715 non-null  float64\n",
      " 7   other_sales      16715 non-null  float64\n",
      " 8   critic_score     8137 non-null   float64\n",
      " 9   user_score       10014 non-null  object \n",
      " 10  rating           9949 non-null   object \n",
      "dtypes: float64(6), object(5)\n",
      "memory usage: 1.4+ MB\n"
     ]
    }
   ],
   "source": [
    "data.info()"
   ]
  },
  {
   "cell_type": "code",
   "execution_count": 6,
   "metadata": {},
   "outputs": [
    {
     "data": {
      "text/plain": [
       "name                  2\n",
       "platform              0\n",
       "year_of_release     269\n",
       "genre                 2\n",
       "na_sales              0\n",
       "eu_sales              0\n",
       "jp_sales              0\n",
       "other_sales           0\n",
       "critic_score       8578\n",
       "user_score         6701\n",
       "rating             6766\n",
       "dtype: int64"
      ]
     },
     "execution_count": 6,
     "metadata": {},
     "output_type": "execute_result"
    }
   ],
   "source": [
    "data.isna().sum()"
   ]
  },
  {
   "cell_type": "markdown",
   "metadata": {},
   "source": [
    "Как видим, в 6 колонках датасета из 11 присутствуют пустые значения, а некоторые признаки приведены к неправильному типу данных.  \n",
    "Давайте это исправим! "
   ]
  },
  {
   "cell_type": "markdown",
   "metadata": {},
   "source": [
    "### 2) Препроцессинг данных"
   ]
  },
  {
   "cell_type": "code",
   "execution_count": 7,
   "metadata": {},
   "outputs": [
    {
     "data": {
      "text/html": [
       "<div>\n",
       "<style scoped>\n",
       "    .dataframe tbody tr th:only-of-type {\n",
       "        vertical-align: middle;\n",
       "    }\n",
       "\n",
       "    .dataframe tbody tr th {\n",
       "        vertical-align: top;\n",
       "    }\n",
       "\n",
       "    .dataframe thead th {\n",
       "        text-align: right;\n",
       "    }\n",
       "</style>\n",
       "<table border=\"1\" class=\"dataframe\">\n",
       "  <thead>\n",
       "    <tr style=\"text-align: right;\">\n",
       "      <th></th>\n",
       "      <th>name</th>\n",
       "      <th>platform</th>\n",
       "      <th>year_of_release</th>\n",
       "      <th>genre</th>\n",
       "      <th>na_sales</th>\n",
       "      <th>eu_sales</th>\n",
       "      <th>jp_sales</th>\n",
       "      <th>other_sales</th>\n",
       "      <th>critic_score</th>\n",
       "      <th>user_score</th>\n",
       "      <th>rating</th>\n",
       "    </tr>\n",
       "  </thead>\n",
       "  <tbody>\n",
       "    <tr>\n",
       "      <th>659</th>\n",
       "      <td>NaN</td>\n",
       "      <td>GEN</td>\n",
       "      <td>1993.0</td>\n",
       "      <td>NaN</td>\n",
       "      <td>1.78</td>\n",
       "      <td>0.53</td>\n",
       "      <td>0.00</td>\n",
       "      <td>0.08</td>\n",
       "      <td>NaN</td>\n",
       "      <td>NaN</td>\n",
       "      <td>NaN</td>\n",
       "    </tr>\n",
       "    <tr>\n",
       "      <th>14244</th>\n",
       "      <td>NaN</td>\n",
       "      <td>GEN</td>\n",
       "      <td>1993.0</td>\n",
       "      <td>NaN</td>\n",
       "      <td>0.00</td>\n",
       "      <td>0.00</td>\n",
       "      <td>0.03</td>\n",
       "      <td>0.00</td>\n",
       "      <td>NaN</td>\n",
       "      <td>NaN</td>\n",
       "      <td>NaN</td>\n",
       "    </tr>\n",
       "  </tbody>\n",
       "</table>\n",
       "</div>"
      ],
      "text/plain": [
       "      name platform  year_of_release genre  na_sales  eu_sales  jp_sales  \\\n",
       "659    NaN      GEN           1993.0   NaN      1.78      0.53      0.00   \n",
       "14244  NaN      GEN           1993.0   NaN      0.00      0.00      0.03   \n",
       "\n",
       "       other_sales  critic_score user_score rating  \n",
       "659           0.08           NaN        NaN    NaN  \n",
       "14244         0.00           NaN        NaN    NaN  "
      ]
     },
     "execution_count": 7,
     "metadata": {},
     "output_type": "execute_result"
    }
   ],
   "source": [
    "data[data['name'].isna() | data['genre'].isna()]"
   ]
  },
  {
   "cell_type": "markdown",
   "metadata": {},
   "source": [
    "- **name, genre**  \n",
    "  В колонках названия и жанра игры есть по 2 пропущенных значения. Вероятно, они были утеряны по техническим причинам.    \n",
    "  После детального рассмотрения стало понятно, что речь идёт об одних и тех же строках.  \n",
    "  Пытаться восстановить данные такого характера практически невозможно, поэтому следует исключить их из рассмотрения.\n",
    "\n",
    "-  **year_of_release**  \n",
    "  В случае неуказанного года релиза игры стоит обратить внимание на годы выпуска этой же игры на других платформах.  \n",
    "  Велика вероятность, что даты окажутся близкими или совсем идентичными, поэтому сгруппируем данные по названиям игр.    \n",
    "  Случаи, когда этот метод не сработал, следует удалить из набора. Можно предположить, что отсутствие значений напрямую связано с мультиплатформенными релизами.  \n",
    "  После всех манипуляций переведём столбец к формату даты.  \n",
    "\n",
    "- **critic_score**  \n",
    "  Оценки критиков больше являются категориальной переменной, нежели количественной,  \n",
    "  поэтому для отсутствующих значений лучше будет создать отдельную категорию, заполнив её значением, которое не может считаться оценкой (-999).  \n",
    "  Появление этих пропусков может быть следствием невысокой популярности игры, либо же отсутствия соответствующих платформ и изданий на момент выхода игры.  \n",
    "  Приведём эту колонку к целочисленному формату, так как использование вещественного типа не оправдано.   \n",
    "\n",
    "- **user_score**  \n",
    "  Оценки пользователей тоже указаны не везде. Аббревиатура \"TBD\" расшифровывается как \"To Be Determined\" - это свидетельствует о том, что пользовательская оценка ещё попросту не сформировалась.  \n",
    "  Замением \"TBD\" на пустое значение и оформим отсутствующие значения отдельной категорией (-999), как поступили и с оценками критиков.  \n",
    "\n",
    "- **rating**  \n",
    "  Пустые значения в колонке возрастного рейтинга отметим буквально неоценёнными (Not Rated).  \n",
    "\n",
    "Такой набор несложных манипуляций позволил нам избавиться от пропущенных значений в датасете.  \n",
    "Последним шагом будет удаление явных дубликатов, которые могли быть в данных изначально или сформировались после заполения пропусков.  "
   ]
  },
  {
   "cell_type": "code",
   "execution_count": 8,
   "metadata": {},
   "outputs": [],
   "source": [
    "data = data.dropna(subset=['name'])\n",
    "\n",
    "data['year_of_release'] = data['year_of_release'].fillna(data.groupby(by='name')['year_of_release'].transform('median'))\n",
    "data = data.dropna(subset=['year_of_release'])\n",
    "data['year_of_release'] = pd.to_datetime(data['year_of_release'], format='%Y').dt.year\n",
    "\n",
    "data['critic_score'] = data['critic_score'].fillna(-999).astype('int')\n",
    "\n",
    "data['user_score'] = data['user_score'].replace('tbd', np.nan)\n",
    "data['user_score'] = data['user_score'].fillna(-999).astype('float64')\n",
    "\n",
    "data['rating'] = data['rating'].fillna('Not Rated')\n",
    "\n",
    "data = data.drop_duplicates()"
   ]
  },
  {
   "cell_type": "code",
   "execution_count": 9,
   "metadata": {},
   "outputs": [],
   "source": [
    "data['total_sales'] = data[['na_sales','eu_sales','jp_sales','other_sales']].sum(axis='columns')"
   ]
  },
  {
   "cell_type": "code",
   "execution_count": 10,
   "metadata": {},
   "outputs": [
    {
     "data": {
      "text/html": [
       "<div>\n",
       "<style scoped>\n",
       "    .dataframe tbody tr th:only-of-type {\n",
       "        vertical-align: middle;\n",
       "    }\n",
       "\n",
       "    .dataframe tbody tr th {\n",
       "        vertical-align: top;\n",
       "    }\n",
       "\n",
       "    .dataframe thead th {\n",
       "        text-align: right;\n",
       "    }\n",
       "</style>\n",
       "<table border=\"1\" class=\"dataframe\">\n",
       "  <thead>\n",
       "    <tr style=\"text-align: right;\">\n",
       "      <th></th>\n",
       "      <th>name</th>\n",
       "      <th>platform</th>\n",
       "      <th>year_of_release</th>\n",
       "      <th>genre</th>\n",
       "      <th>na_sales</th>\n",
       "      <th>eu_sales</th>\n",
       "      <th>jp_sales</th>\n",
       "      <th>other_sales</th>\n",
       "      <th>critic_score</th>\n",
       "      <th>user_score</th>\n",
       "      <th>rating</th>\n",
       "      <th>total_sales</th>\n",
       "    </tr>\n",
       "  </thead>\n",
       "  <tbody>\n",
       "    <tr>\n",
       "      <th>0</th>\n",
       "      <td>Wii Sports</td>\n",
       "      <td>Wii</td>\n",
       "      <td>2006</td>\n",
       "      <td>Sports</td>\n",
       "      <td>41.36</td>\n",
       "      <td>28.96</td>\n",
       "      <td>3.77</td>\n",
       "      <td>8.45</td>\n",
       "      <td>76</td>\n",
       "      <td>8.0</td>\n",
       "      <td>E</td>\n",
       "      <td>82.54</td>\n",
       "    </tr>\n",
       "    <tr>\n",
       "      <th>1</th>\n",
       "      <td>Super Mario Bros.</td>\n",
       "      <td>NES</td>\n",
       "      <td>1985</td>\n",
       "      <td>Platform</td>\n",
       "      <td>29.08</td>\n",
       "      <td>3.58</td>\n",
       "      <td>6.81</td>\n",
       "      <td>0.77</td>\n",
       "      <td>-999</td>\n",
       "      <td>-999.0</td>\n",
       "      <td>Not Rated</td>\n",
       "      <td>40.24</td>\n",
       "    </tr>\n",
       "    <tr>\n",
       "      <th>2</th>\n",
       "      <td>Mario Kart Wii</td>\n",
       "      <td>Wii</td>\n",
       "      <td>2008</td>\n",
       "      <td>Racing</td>\n",
       "      <td>15.68</td>\n",
       "      <td>12.76</td>\n",
       "      <td>3.79</td>\n",
       "      <td>3.29</td>\n",
       "      <td>82</td>\n",
       "      <td>8.3</td>\n",
       "      <td>E</td>\n",
       "      <td>35.52</td>\n",
       "    </tr>\n",
       "    <tr>\n",
       "      <th>3</th>\n",
       "      <td>Wii Sports Resort</td>\n",
       "      <td>Wii</td>\n",
       "      <td>2009</td>\n",
       "      <td>Sports</td>\n",
       "      <td>15.61</td>\n",
       "      <td>10.93</td>\n",
       "      <td>3.28</td>\n",
       "      <td>2.95</td>\n",
       "      <td>80</td>\n",
       "      <td>8.0</td>\n",
       "      <td>E</td>\n",
       "      <td>32.77</td>\n",
       "    </tr>\n",
       "    <tr>\n",
       "      <th>4</th>\n",
       "      <td>Pokemon Red/Pokemon Blue</td>\n",
       "      <td>GB</td>\n",
       "      <td>1996</td>\n",
       "      <td>Role-Playing</td>\n",
       "      <td>11.27</td>\n",
       "      <td>8.89</td>\n",
       "      <td>10.22</td>\n",
       "      <td>1.00</td>\n",
       "      <td>-999</td>\n",
       "      <td>-999.0</td>\n",
       "      <td>Not Rated</td>\n",
       "      <td>31.38</td>\n",
       "    </tr>\n",
       "  </tbody>\n",
       "</table>\n",
       "</div>"
      ],
      "text/plain": [
       "                       name platform  year_of_release         genre  na_sales  \\\n",
       "0                Wii Sports      Wii             2006        Sports     41.36   \n",
       "1         Super Mario Bros.      NES             1985      Platform     29.08   \n",
       "2            Mario Kart Wii      Wii             2008        Racing     15.68   \n",
       "3         Wii Sports Resort      Wii             2009        Sports     15.61   \n",
       "4  Pokemon Red/Pokemon Blue       GB             1996  Role-Playing     11.27   \n",
       "\n",
       "   eu_sales  jp_sales  other_sales  critic_score  user_score     rating  \\\n",
       "0     28.96      3.77         8.45            76         8.0          E   \n",
       "1      3.58      6.81         0.77          -999      -999.0  Not Rated   \n",
       "2     12.76      3.79         3.29            82         8.3          E   \n",
       "3     10.93      3.28         2.95            80         8.0          E   \n",
       "4      8.89     10.22         1.00          -999      -999.0  Not Rated   \n",
       "\n",
       "   total_sales  \n",
       "0        82.54  \n",
       "1        40.24  \n",
       "2        35.52  \n",
       "3        32.77  \n",
       "4        31.38  "
      ]
     },
     "execution_count": 10,
     "metadata": {},
     "output_type": "execute_result"
    }
   ],
   "source": [
    "data.head(5)"
   ]
  },
  {
   "cell_type": "code",
   "execution_count": 11,
   "metadata": {},
   "outputs": [
    {
     "name": "stdout",
     "output_type": "stream",
     "text": [
      "Наличие явных дубликатов в датасете:  False    16567\n",
      "dtype: int64\n",
      "Пропущенных значений в датасете: 0\n"
     ]
    }
   ],
   "source": [
    "print('Наличие явных дубликатов в датасете: ', data.duplicated().value_counts())\n",
    "print('Пропущенных значений в датасете:', data.isna().sum().sum())"
   ]
  },
  {
   "cell_type": "code",
   "execution_count": 12,
   "metadata": {},
   "outputs": [
    {
     "name": "stdout",
     "output_type": "stream",
     "text": [
      "<class 'pandas.core.frame.DataFrame'>\n",
      "Int64Index: 16567 entries, 0 to 16714\n",
      "Data columns (total 12 columns):\n",
      " #   Column           Non-Null Count  Dtype  \n",
      "---  ------           --------------  -----  \n",
      " 0   name             16567 non-null  object \n",
      " 1   platform         16567 non-null  object \n",
      " 2   year_of_release  16567 non-null  int64  \n",
      " 3   genre            16567 non-null  object \n",
      " 4   na_sales         16567 non-null  float64\n",
      " 5   eu_sales         16567 non-null  float64\n",
      " 6   jp_sales         16567 non-null  float64\n",
      " 7   other_sales      16567 non-null  float64\n",
      " 8   critic_score     16567 non-null  int64  \n",
      " 9   user_score       16567 non-null  float64\n",
      " 10  rating           16567 non-null  object \n",
      " 11  total_sales      16567 non-null  float64\n",
      "dtypes: float64(6), int64(2), object(4)\n",
      "memory usage: 1.6+ MB\n"
     ]
    }
   ],
   "source": [
    "data.info()"
   ]
  },
  {
   "cell_type": "markdown",
   "metadata": {},
   "source": [
    "Данные успешно зачищены от пустных ячеек и явных дубликатов.  \n",
    "Сформирован новый признак суммарных продаж."
   ]
  },
  {
   "cell_type": "markdown",
   "metadata": {},
   "source": [
    "### 3) Анализ данных  \n",
    "#### Посмотрим, сколько игр выпускалось в разные годы."
   ]
  },
  {
   "cell_type": "code",
   "execution_count": 13,
   "metadata": {},
   "outputs": [
    {
     "data": {
      "image/png": "[encoded data removed]",
      "text/plain": [
       "<Figure size 1440x360 with 1 Axes>"
      ]
     },
     "metadata": {
      "needs_background": "light"
     },
     "output_type": "display_data"
    }
   ],
   "source": [
    "plt.figure(figsize=(20, 5))\n",
    "plt.title('Динамика релизов игр по годам')\n",
    "plt.ylabel('Количество игр')\n",
    "plt.xlabel('Год релиза')\n",
    "plt.axvspan(1990, 2008, color='orange', alpha=0.5)\n",
    "plt.grid(True)\n",
    "sns.lineplot(data=data.groupby('year_of_release')['name'].count(), marker='o')\n",
    "plt.show()"
   ]
  },
  {
   "cell_type": "markdown",
   "metadata": {},
   "source": [
    "По графику видно, что игровая индустрия начала стремительно набирать обороты после 1990 года.  \n",
    "Пик был достигнут в 2008 году, а далее количество выпускаемых игр пошло на спад.   \n",
    "Вероятно, показатели пошли на снижение из-за мирового кризиса 2008 года, который повлиял и на игровую индустрию."
   ]
  },
  {
   "cell_type": "markdown",
   "metadata": {},
   "source": [
    "#### Теперь изучим, как менялись продажи по платформам и характерные сроки появления/исчезновения платформ."
   ]
  },
  {
   "cell_type": "code",
   "execution_count": 14,
   "metadata": {},
   "outputs": [
    {
     "data": {
      "image/png": "[encoded data removed]",
      "text/plain": [
       "<Figure size 1440x360 with 1 Axes>"
      ]
     },
     "metadata": {
      "needs_background": "light"
     },
     "output_type": "display_data"
    }
   ],
   "source": [
    "sales_by_platform = data.pivot_table(index='platform', values='total_sales', aggfunc='sum')\\\n",
    "                        .sort_values(by='total_sales', ascending=False)\n",
    "\n",
    "plt.figure(figsize=(20, 5))\n",
    "plt.title('Платформы и суммарные продажи')\n",
    "plt.ylabel('Продажи')\n",
    "plt.xlabel('Платформа')\n",
    "plt.grid(True)\n",
    "sns.barplot(x=sales_by_platform.index, y=sales_by_platform['total_sales'])\n",
    "plt.show()"
   ]
  },
  {
   "cell_type": "markdown",
   "metadata": {},
   "source": [
    "Лидирующие позиции заняли 6 платформ - PS2, X360, PS3, Wii, DS и PS.  \n",
    "На текущий момент времени эти данные вряд ли можно считать актуальными, но на момент их выгрузки всё верно -  \n",
    "платформы PS4 и XOne тогда ещё не были настолько популярными, а PS5 вовсе не существовало."
   ]
  },
  {
   "cell_type": "markdown",
   "metadata": {},
   "source": [
    "#### Рассмотрим 6 лидирующих платформ детальнее."
   ]
  },
  {
   "cell_type": "code",
   "execution_count": 15,
   "metadata": {},
   "outputs": [
    {
     "data": {
      "image/png": "[encoded data removed]",
      "text/plain": [
       "<Figure size 1440x1080 with 6 Axes>"
      ]
     },
     "metadata": {
      "needs_background": "light"
     },
     "output_type": "display_data"
    }
   ],
   "source": [
    "best_platforms = sales_by_platform.reset_index()['platform'].head(6)\n",
    "plt.figure(figsize=(20, 15))\n",
    "plt.subplots_adjust(wspace=0.3, hspace=0.3)\n",
    "cell = 1\n",
    "\n",
    "for platforms in best_platforms:\n",
    "    plt.subplot(3, 3, cell)\n",
    "    plt.title(f'{platforms}')\n",
    "    plt.ylabel('Количество игр')\n",
    "    plt.xlabel('Год релиза')\n",
    "    plt.grid(True)\n",
    "    sns.lineplot(data=data.query('platform == @platforms').pivot_table(index='year_of_release', values='total_sales', aggfunc='sum'), marker='o')\n",
    "    cell += 1\n",
    "plt.show()"
   ]
  },
  {
   "cell_type": "markdown",
   "metadata": {},
   "source": [
    "Среди представленных выше платформ наблюдается спад популярности к 2016 году, либо же раньше."
   ]
  },
  {
   "cell_type": "code",
   "execution_count": 16,
   "metadata": {},
   "outputs": [
    {
     "data": {
      "text/plain": [
       "11"
      ]
     },
     "execution_count": 16,
     "metadata": {},
     "output_type": "execute_result"
    }
   ],
   "source": [
    "lifelines = []\n",
    "for platform in best_platforms:\n",
    "    lifelines.append(data.query('(platform == @platform)').pivot_table(index='year_of_release', values='total_sales', aggfunc='sum').count())\n",
    "int(np.median(lifelines))"
   ]
  },
  {
   "cell_type": "markdown",
   "metadata": {},
   "source": [
    "Средний жизненный цикл платформы составил ~11 лет.\n",
    "\n",
    "Учитывая заключения, к которым мы пришли выше и даты выхода актуальных на тот момент консолей, таких как PS4, можно сделать вывод, что для прогноза на 2017 год целесообразно будет использовать данные после 2013 года."
   ]
  },
  {
   "cell_type": "code",
   "execution_count": 17,
   "metadata": {},
   "outputs": [
    {
     "data": {
      "text/plain": [
       "array(['PS4', '3DS', 'XOne', 'WiiU', 'PS3', 'X360', 'PC', 'Wii', 'PSV',\n",
       "       'PSP'], dtype=object)"
      ]
     },
     "execution_count": 17,
     "metadata": {},
     "output_type": "execute_result"
    }
   ],
   "source": [
    "data_for_forecast = data.query('year_of_release > 2013')\n",
    "data_for_forecast['platform'].unique()"
   ]
  },
  {
   "cell_type": "code",
   "execution_count": 18,
   "metadata": {},
   "outputs": [
    {
     "data": {
      "image/png": "[encoded data removed]",
      "text/plain": [
       "<Figure size 1080x360 with 2 Axes>"
      ]
     },
     "metadata": {
      "needs_background": "light"
     },
     "output_type": "display_data"
    }
   ],
   "source": [
    "plt.figure(figsize=(15, 5))\n",
    "plt.title('Платформы и их продажи с 2005 по 2016')\n",
    "sns.heatmap(data_for_forecast.pivot_table(index='platform', columns='year_of_release', values='total_sales', aggfunc='sum'), annot=True, cmap=\"Reds\")\n",
    "plt.ylabel('Платформы')\n",
    "plt.xlabel('Годы')\n",
    "plt.show()"
   ]
  },
  {
   "cell_type": "markdown",
   "metadata": {},
   "source": [
    "По тепловой карте видно, что наиболее перспективными на 2017 год являлись платфомы PS4, XOne, 3DS, PC и WiiU.\n",
    "\n",
    "#### Построим «ящики с усами» по глобальным продажам игр в разбивке по платформам"
   ]
  },
  {
   "cell_type": "code",
   "execution_count": 19,
   "metadata": {
    "scrolled": false
   },
   "outputs": [
    {
     "data": {
      "image/png": "[encoded data removed]",
      "text/plain": [
       "<Figure size 1440x360 with 1 Axes>"
      ]
     },
     "metadata": {
      "needs_background": "light"
     },
     "output_type": "display_data"
    }
   ],
   "source": [
    "plt.figure(figsize=(20, 5))\n",
    "plt.xlim(-0.1, 2)\n",
    "plt.title('Продажи по платформам', fontsize=20)\n",
    "sns.boxplot(x='total_sales', y='platform',\n",
    "            data=data_for_forecast[data_for_forecast['platform'].isin(['PS4', 'XOne', '3DS', 'PC', 'WiiU'])],\n",
    "            orient='h')\n",
    "plt.ylabel('Платформа')\n",
    "plt.xlabel('Продажи')\n",
    "plt.grid(True)"
   ]
  },
  {
   "cell_type": "markdown",
   "metadata": {},
   "source": [
    "**PS4**"
   ]
  },
  {
   "cell_type": "code",
   "execution_count": 20,
   "metadata": {},
   "outputs": [
    {
     "data": {
      "text/plain": [
       "count    234.000000\n",
       "mean       0.936752\n",
       "std        1.659319\n",
       "min        0.010000\n",
       "25%        0.070000\n",
       "50%        0.260000\n",
       "75%        0.930000\n",
       "max       12.620000\n",
       "Name: total_sales, dtype: float64"
      ]
     },
     "execution_count": 20,
     "metadata": {},
     "output_type": "execute_result"
    }
   ],
   "source": [
    "data_for_forecast[(data_for_forecast['platform'].isin(['PS4'])) &\n",
    "                  (data_for_forecast['critic_score'] != -999) &\n",
    "                  (data_for_forecast['user_score'] != -999)]['total_sales'].describe()"
   ]
  },
  {
   "cell_type": "markdown",
   "metadata": {},
   "source": [
    "**XOne**"
   ]
  },
  {
   "cell_type": "code",
   "execution_count": 21,
   "metadata": {},
   "outputs": [
    {
     "data": {
      "text/plain": [
       "count    151.000000\n",
       "mean       0.763510\n",
       "std        1.054732\n",
       "min        0.010000\n",
       "25%        0.110000\n",
       "50%        0.320000\n",
       "75%        1.070000\n",
       "max        5.470000\n",
       "Name: total_sales, dtype: float64"
      ]
     },
     "execution_count": 21,
     "metadata": {},
     "output_type": "execute_result"
    }
   ],
   "source": [
    "data_for_forecast[(data_for_forecast['platform'].isin(['XOne'])) &\n",
    "                  (data_for_forecast['critic_score'] != -999) &\n",
    "                  (data_for_forecast['user_score'] != -999)]['total_sales'].describe()"
   ]
  },
  {
   "cell_type": "markdown",
   "metadata": {},
   "source": [
    "**3DS**"
   ]
  },
  {
   "cell_type": "code",
   "execution_count": 22,
   "metadata": {},
   "outputs": [
    {
     "data": {
      "text/plain": [
       "count    47.000000\n",
       "mean      0.515106\n",
       "std       0.797899\n",
       "min       0.010000\n",
       "25%       0.085000\n",
       "50%       0.240000\n",
       "75%       0.480000\n",
       "max       3.890000\n",
       "Name: total_sales, dtype: float64"
      ]
     },
     "execution_count": 22,
     "metadata": {},
     "output_type": "execute_result"
    }
   ],
   "source": [
    "data_for_forecast[(data_for_forecast['platform'].isin(['3DS'])) &\n",
    "                  (data_for_forecast['critic_score'] != -999) &\n",
    "                  (data_for_forecast['user_score'] != -999)]['total_sales'].describe()"
   ]
  },
  {
   "cell_type": "markdown",
   "metadata": {},
   "source": [
    "**WiiU**"
   ]
  },
  {
   "cell_type": "code",
   "execution_count": 23,
   "metadata": {},
   "outputs": [
    {
     "data": {
      "text/plain": [
       "count    42.000000\n",
       "mean      0.805476\n",
       "std       1.305153\n",
       "min       0.010000\n",
       "25%       0.122500\n",
       "50%       0.430000\n",
       "75%       0.820000\n",
       "max       7.090000\n",
       "Name: total_sales, dtype: float64"
      ]
     },
     "execution_count": 23,
     "metadata": {},
     "output_type": "execute_result"
    }
   ],
   "source": [
    "data_for_forecast[(data_for_forecast['platform'].isin(['WiiU'])) &\n",
    "                  (data_for_forecast['critic_score'] != -999) &\n",
    "                  (data_for_forecast['user_score'] != -999)]['total_sales'].describe()"
   ]
  },
  {
   "cell_type": "markdown",
   "metadata": {},
   "source": [
    "**PC**"
   ]
  },
  {
   "cell_type": "code",
   "execution_count": 24,
   "metadata": {},
   "outputs": [
    {
     "data": {
      "text/plain": [
       "count    115.000000\n",
       "mean       0.207043\n",
       "std        0.354141\n",
       "min        0.010000\n",
       "25%        0.030000\n",
       "50%        0.100000\n",
       "75%        0.235000\n",
       "max        3.050000\n",
       "Name: total_sales, dtype: float64"
      ]
     },
     "execution_count": 24,
     "metadata": {},
     "output_type": "execute_result"
    }
   ],
   "source": [
    "data_for_forecast[(data_for_forecast['platform'].isin(['PC'])) &\n",
    "                  (data_for_forecast['critic_score'] != -999) &\n",
    "                  (data_for_forecast['user_score'] != -999)]['total_sales'].describe()"
   ]
  },
  {
   "cell_type": "markdown",
   "metadata": {},
   "source": [
    "- Медианы у платформ-лидеров находятся дальше остальных. Разброс больше, так как больше и продаж.\n",
    "- Размах усов для ящиков ограничен минимумом и максимумом, и он выделяется у PS4, XOne и WiiU\n",
    "\n",
    "**Можно сделать вывод, что лучше всего игры продаются на PS4, XOne и WiiU**\n",
    "\n",
    "#### Посмотрим, как влияют на продажи внутри одной популярной платформы отзывы пользователей и критиков.  "
   ]
  },
  {
   "cell_type": "code",
   "execution_count": 25,
   "metadata": {},
   "outputs": [
    {
     "data": {
      "image/png": "[encoded data removed]",
      "text/plain": [
       "<Figure size 1440x1440 with 10 Axes>"
      ]
     },
     "metadata": {
      "needs_background": "light"
     },
     "output_type": "display_data"
    }
   ],
   "source": [
    "cell = 0\n",
    "best_platforms_data = data_for_forecast[data_for_forecast['platform'].isin(['PS4', 'XOne', '3DS', 'PC', 'WiiU'])]\n",
    "\n",
    "plt.figure(figsize=(20,20))\n",
    "plt.subplots_adjust(wspace=0.4, hspace=1.2)\n",
    "\n",
    "for platform in ['PS4', 'XOne', '3DS', 'PC', 'WiiU']:\n",
    "    cell += 1\n",
    "    data_for_diagram = best_platforms_data[(best_platforms_data['platform'] == platform) & (best_platforms_data['user_score'] != -999)]\n",
    "    \n",
    "    plt.subplot(5, 2, cell)\n",
    "    corr_value = data_for_diagram['total_sales'].corr(data_for_diagram['user_score'])\n",
    "    plt.title(f'Для оценок пользователей и продажах на {platform},\\n к. Пирсона: {corr_value:.2f}.', fontsize=12)\n",
    "    sns.scatterplot(x='user_score', y='total_sales', data=data_for_diagram)\n",
    "    plt.xlabel('Оценка пользователей')\n",
    "    plt.ylabel('Продажи')\n",
    "    plt.grid(True)\n",
    "    \n",
    "    cell += 1\n",
    "    plt.subplot(5, 2, cell)\n",
    "    data_for_diagram = best_platforms_data[(best_platforms_data['platform'] == platform) & (best_platforms_data['critic_score'] != -999)]\n",
    "    corr_value = data_for_diagram['total_sales'].corr(data_for_diagram['critic_score'].astype('float32'))\n",
    "    plt.title(f'Для оценок критиков и продажах на {platform},\\n к. Пирсона: {corr_value:.2f}.', fontsize=12)\n",
    "    sns.scatterplot(x='critic_score', y='total_sales', data=data_for_diagram)\n",
    "    plt.xlabel('Оценка критиков')\n",
    "    plt.ylabel('Продажи')\n",
    "    plt.grid(True)"
   ]
  },
  {
   "cell_type": "markdown",
   "metadata": {},
   "source": [
    "Возьмём в качестве конкретного примера платформу PS4:\n",
    "- Коэффицент корреляции для оценки критиков положительный\n",
    "- Мнение критиков имеет корреляцию выше, чем пользовательское\n",
    "\n",
    "Взглянем на общую картину:\n",
    "- Самое сильная корреляция отзывов критиков и пользователей у консоли WiiU и 3DS, а самая слабая у PC\n",
    "- Мнение критиков в большинстве случаев превосходит пользовательское в показателях корреляции с продажами\n",
    "\n",
    "#### Общее распределение игр по жанрам"
   ]
  },
  {
   "cell_type": "code",
   "execution_count": 38,
   "metadata": {
    "scrolled": true
   },
   "outputs": [
    {
     "data": {
      "text/plain": [
       "Text(0.5, 0, 'Жанр')"
      ]
     },
     "execution_count": 38,
     "metadata": {},
     "output_type": "execute_result"
    },
    {
     "data": {
      "image/png": "[encoded data removed]",
      "text/plain": [
       "<Figure size 1440x360 with 1 Axes>"
      ]
     },
     "metadata": {
      "needs_background": "light"
     },
     "output_type": "display_data"
    }
   ],
   "source": [
    "plt.figure(figsize=(20, 5))\n",
    "sns.barplot(x='genre', y='total_sales',\n",
    "            data=best_platforms_data.pivot_table(index='genre', values='total_sales', aggfunc='median').sort_values(by='total_sales', ascending=False).reset_index())\n",
    "plt.ylabel('Продажи')\n",
    "plt.xlabel('Жанр')"
   ]
  },
  {
   "cell_type": "markdown",
   "metadata": {},
   "source": [
    "Самыми прибыльными оказались шутеры, а их полной противоположностью - жанр стратегий.  \n",
    "Шутеры, спорт, ролевые игры, платформеры и файтинги - самые популярные жанры."
   ]
  },
  {
   "cell_type": "markdown",
   "metadata": {},
   "source": [
    "**Вывод:**  \n",
    "- Итого, мы пришли к выводам, что средняя продолжительность жизни платформы - 11 лет.  \n",
    "- Наиболее перспективными платформами на 2017 год являлись PS4, XOne, WiiU, 3DS и PC.  \n",
    "- Оценки и отзывы критиков чаще играют роль, нежели пользовательские. Самым популярным и прибыльным оказался жанр шутеров."
   ]
  },
  {
   "cell_type": "markdown",
   "metadata": {},
   "source": [
    "### 4) Портрет пользователя"
   ]
  },
  {
   "cell_type": "markdown",
   "metadata": {},
   "source": [
    "#### Северная Америка\n",
    "\n",
    "##### Платформы"
   ]
  },
  {
   "cell_type": "code",
   "execution_count": 27,
   "metadata": {},
   "outputs": [
    {
     "data": {
      "image/png": "[encoded data removed]",
      "text/plain": [
       "<Figure size 720x432 with 1 Axes>"
      ]
     },
     "metadata": {
      "needs_background": "light"
     },
     "output_type": "display_data"
    }
   ],
   "source": [
    "na_data = data_for_forecast.pivot_table(index='platform', values='na_sales', aggfunc='sum')\\\n",
    "                           .sort_values(by='na_sales', ascending=False).reset_index()\n",
    "sum_sales = na_data['na_sales'].sum()\n",
    "plt.figure(figsize=(10, 6))\n",
    "sales = sns.barplot(x='platform', y='na_sales', data=na_data)\n",
    "plt.title('Продажи в Северной Америке')\n",
    "plt.ylabel('Продажи')\n",
    "plt.xlabel('Платформы')\n",
    "plt.grid(True)\n",
    "\n",
    "for patch in sales.patches:\n",
    "    sales.annotate(format(patch.get_height() / sum_sales * 100, '.1f'), \n",
    "                        (patch.get_x() + patch.get_width() / 2., patch.get_height()), \n",
    "                        ha='center', va='center', xytext=(0, 9), textcoords='offset points')"
   ]
  },
  {
   "cell_type": "markdown",
   "metadata": {},
   "source": [
    "- В Северной Америке самыми популярными платформами являются:\n",
    "    1. PS4 - 34.7% рынка\n",
    "    2. XOne - 28.6% рынка\n",
    "    3. X360 - 10% рынка\n",
    "    4. 3DS - 8% рынка\n",
    "    5. PS3 - 7.8% рынка\n",
    "\n",
    "##### Жанры"
   ]
  },
  {
   "cell_type": "code",
   "execution_count": 28,
   "metadata": {},
   "outputs": [
    {
     "data": {
      "text/plain": [
       "Text(0.5, 0, 'Жанры')"
      ]
     },
     "execution_count": 28,
     "metadata": {},
     "output_type": "execute_result"
    },
    {
     "data": {
      "image/png": "[encoded data removed]",
      "text/plain": [
       "<Figure size 720x432 with 1 Axes>"
      ]
     },
     "metadata": {
      "needs_background": "light"
     },
     "output_type": "display_data"
    }
   ],
   "source": [
    "na_data = data_for_forecast.pivot_table(index='genre', values='na_sales', aggfunc='sum')\\\n",
    "                           .sort_values(by='na_sales', ascending=False).reset_index()\n",
    "sum_sales = na_data['na_sales'].sum()\n",
    "plt.figure(figsize=(10, 6))\n",
    "sales = sns.barplot(x='genre', y='na_sales', data=na_data)\n",
    "plt.title('Жанры в Северной Америке')\n",
    "plt.ylabel('Продажи')\n",
    "plt.xlabel('Жанры')"
   ]
  },
  {
   "cell_type": "markdown",
   "metadata": {},
   "source": [
    "- В Северной Америке самыми популярными жанрами являются:\n",
    "    1. Shooter\n",
    "    2. Action\n",
    "    3. Sports\n",
    "    4. Role-Playing\n",
    "    5. Misc\n",
    "\n",
    "##### Рейтинг ESRB"
   ]
  },
  {
   "cell_type": "code",
   "execution_count": 29,
   "metadata": {},
   "outputs": [
    {
     "data": {
      "text/plain": [
       "Text(0.5, 0, 'Рейтинг')"
      ]
     },
     "execution_count": 29,
     "metadata": {},
     "output_type": "execute_result"
    },
    {
     "data": {
      "image/png": "[encoded data removed]",
      "text/plain": [
       "<Figure size 720x432 with 1 Axes>"
      ]
     },
     "metadata": {
      "needs_background": "light"
     },
     "output_type": "display_data"
    }
   ],
   "source": [
    "na_data = data_for_forecast.pivot_table(index='rating', values='na_sales', aggfunc='sum')\\\n",
    "                           .sort_values(by='na_sales', ascending=False).reset_index()\n",
    "sum_sales = na_data['na_sales'].sum()\n",
    "plt.figure(figsize=(10, 6))\n",
    "sales = sns.barplot(x='rating', y='na_sales', data=na_data)\n",
    "plt.title('Рейтинг в Северной Америке')\n",
    "plt.ylabel('Продажи')\n",
    "plt.xlabel('Рейтинг')"
   ]
  },
  {
   "cell_type": "markdown",
   "metadata": {},
   "source": [
    "- В Северной Америке самыми популярными рейтингами являются:\n",
    "    1. M\n",
    "    2. Not Rated\n",
    "    3. E\n",
    "    4. T\n",
    "    5. E10+"
   ]
  },
  {
   "cell_type": "markdown",
   "metadata": {},
   "source": [
    "#### Европа\n",
    "\n",
    "##### Платформы"
   ]
  },
  {
   "cell_type": "code",
   "execution_count": 30,
   "metadata": {},
   "outputs": [
    {
     "data": {
      "image/png": "[encoded data removed]",
      "text/plain": [
       "<Figure size 720x432 with 1 Axes>"
      ]
     },
     "metadata": {
      "needs_background": "light"
     },
     "output_type": "display_data"
    }
   ],
   "source": [
    "eu_data = data_for_forecast.pivot_table(index='platform', values='eu_sales', aggfunc='sum')\\\n",
    "                           .sort_values(by='eu_sales', ascending=False).reset_index()\n",
    "sum_sales = eu_data['eu_sales'].sum()\n",
    "plt.figure(figsize=(10, 6))\n",
    "sales = sns.barplot(x='platform', y='eu_sales', data=eu_data)\n",
    "plt.title('Продажи в Европе')\n",
    "plt.ylabel('Продажи')\n",
    "plt.xlabel('Платформы')\n",
    "plt.grid(True)\n",
    "\n",
    "for patch in sales.patches:\n",
    "    sales.annotate(format(patch.get_height() / sum_sales * 100, '.1f'), \n",
    "                        (patch.get_x() + patch.get_width() / 2., patch.get_height()), \n",
    "                        ha='center', va='center', xytext=(0, 9), textcoords='offset points')"
   ]
  },
  {
   "cell_type": "markdown",
   "metadata": {},
   "source": [
    "- В Европе самыми популярными платформами являются:\n",
    "    1. PS4 - 48% рынка\n",
    "    2. XOne - 17.1% рынка\n",
    "    3. PS3 - 9.4% рынка\n",
    "    4. PC - 6.6% рынка\n",
    "    5. 3DS - 6% рынка\n",
    "\n",
    "##### Жанры"
   ]
  },
  {
   "cell_type": "code",
   "execution_count": 31,
   "metadata": {},
   "outputs": [
    {
     "data": {
      "text/plain": [
       "Text(0.5, 0, 'Жанры')"
      ]
     },
     "execution_count": 31,
     "metadata": {},
     "output_type": "execute_result"
    },
    {
     "data": {
      "image/png": "[encoded data removed]",
      "text/plain": [
       "<Figure size 720x432 with 1 Axes>"
      ]
     },
     "metadata": {
      "needs_background": "light"
     },
     "output_type": "display_data"
    }
   ],
   "source": [
    "eu_data = data_for_forecast.pivot_table(index='genre', values='eu_sales', aggfunc='sum')\\\n",
    "                           .sort_values(by='eu_sales', ascending=False).reset_index()\n",
    "sum_sales = eu_data['eu_sales'].sum()\n",
    "plt.figure(figsize=(10, 6))\n",
    "sales = sns.barplot(x='genre', y='eu_sales', data=eu_data)\n",
    "plt.title('Жанры в Европе')\n",
    "plt.ylabel('Продажи')\n",
    "plt.xlabel('Жанры')"
   ]
  },
  {
   "cell_type": "markdown",
   "metadata": {},
   "source": [
    "- В Европе самыми популярными жанрами являются:\n",
    "    1. Action\n",
    "    2. Shooter\n",
    "    3. Sports\n",
    "    4. Role-Playing\n",
    "    5. Racing\n",
    "\n",
    "##### Рейтинг ESRB"
   ]
  },
  {
   "cell_type": "code",
   "execution_count": 32,
   "metadata": {},
   "outputs": [
    {
     "data": {
      "text/plain": [
       "Text(0.5, 0, 'Рейтинг')"
      ]
     },
     "execution_count": 32,
     "metadata": {},
     "output_type": "execute_result"
    },
    {
     "data": {
      "image/png": "[encoded data removed]",
      "text/plain": [
       "<Figure size 720x432 with 1 Axes>"
      ]
     },
     "metadata": {
      "needs_background": "light"
     },
     "output_type": "display_data"
    }
   ],
   "source": [
    "eu_data = data_for_forecast.pivot_table(index='rating', values='eu_sales', aggfunc='sum')\\\n",
    "                           .sort_values(by='eu_sales', ascending=False).reset_index()\n",
    "sum_sales = eu_data['eu_sales'].sum()\n",
    "plt.figure(figsize=(10, 6))\n",
    "sales = sns.barplot(x='rating', y='eu_sales', data=eu_data)\n",
    "plt.title('Рейтинг в Европе')\n",
    "plt.ylabel('Продажи')\n",
    "plt.xlabel('Рейтинг')"
   ]
  },
  {
   "cell_type": "markdown",
   "metadata": {},
   "source": [
    "- В Европе самыми популярными рейтингами являются:\n",
    "    1. M\n",
    "    2. Not Rated\n",
    "    3. E\n",
    "    4. T\n",
    "    5. E10+"
   ]
  },
  {
   "cell_type": "markdown",
   "metadata": {},
   "source": [
    "#### Япония\n",
    "##### Платформы"
   ]
  },
  {
   "cell_type": "code",
   "execution_count": 33,
   "metadata": {},
   "outputs": [
    {
     "data": {
      "image/png": "[encoded data removed]",
      "text/plain": [
       "<Figure size 720x432 with 1 Axes>"
      ]
     },
     "metadata": {
      "needs_background": "light"
     },
     "output_type": "display_data"
    }
   ],
   "source": [
    "jp_data = data_for_forecast.pivot_table(index='platform', values='jp_sales', aggfunc='sum')\\\n",
    "                           .sort_values(by='jp_sales', ascending=False).reset_index()\n",
    "sum_sales = jp_data['jp_sales'].sum()\n",
    "plt.figure(figsize=(10, 6))\n",
    "sales = sns.barplot(x='platform', y='jp_sales', data=jp_data)\n",
    "plt.title('Продажи в Японии')\n",
    "plt.ylabel('Продажи')\n",
    "plt.xlabel('Платформы')\n",
    "plt.grid(True)\n",
    "\n",
    "for patch in sales.patches:\n",
    "    sales.annotate(format(patch.get_height() / sum_sales * 100, '.1f'), \n",
    "                        (patch.get_x() + patch.get_width() / 2., patch.get_height()), \n",
    "                        ha='center', va='center', xytext=(0, 9), textcoords='offset points')"
   ]
  },
  {
   "cell_type": "markdown",
   "metadata": {},
   "source": [
    "- В Японии самыми популярными платформами являются:\n",
    "    1. 3DS - 47.5% рынка\n",
    "    2. PS4 - 16.1% рынка\n",
    "    3. PSV - 15.6% рынка\n",
    "    4. PS3 - 12.1% рынка\n",
    "    5. WiiU - 7.9% рынка\n",
    "\n",
    "##### Жанры"
   ]
  },
  {
   "cell_type": "code",
   "execution_count": 39,
   "metadata": {},
   "outputs": [
    {
     "data": {
      "text/plain": [
       "Text(0.5, 0, 'Жанры')"
      ]
     },
     "execution_count": 39,
     "metadata": {},
     "output_type": "execute_result"
    },
    {
     "data": {
      "image/png": "[encoded data removed]",
      "text/plain": [
       "<Figure size 720x432 with 1 Axes>"
      ]
     },
     "metadata": {
      "needs_background": "light"
     },
     "output_type": "display_data"
    }
   ],
   "source": [
    "jp_data = data_for_forecast.pivot_table(index='genre', values='jp_sales', aggfunc='sum')\\\n",
    "                           .sort_values(by='jp_sales', ascending=False).reset_index()\n",
    "sum_sales = jp_data['jp_sales'].sum()\n",
    "plt.figure(figsize=(10, 6))\n",
    "sales = sns.barplot(x='genre', y='jp_sales', data=jp_data)\n",
    "plt.title('Жанры в Японии')\n",
    "plt.ylabel('Продажи')\n",
    "plt.xlabel('Жанры')"
   ]
  },
  {
   "cell_type": "markdown",
   "metadata": {},
   "source": [
    "- В Японии самыми популярными жанрами являются:\n",
    "    1. Role-Playing\n",
    "    2. Action\n",
    "    3. Fighting\n",
    "    4. Misc\n",
    "    5. Shooter\n",
    "\n",
    "##### Рейтинг ESRB"
   ]
  },
  {
   "cell_type": "code",
   "execution_count": 35,
   "metadata": {},
   "outputs": [
    {
     "data": {
      "text/plain": [
       "Text(0.5, 0, 'Рейтинг')"
      ]
     },
     "execution_count": 35,
     "metadata": {},
     "output_type": "execute_result"
    },
    {
     "data": {
      "image/png": "[encoded data removed]",
      "text/plain": [
       "<Figure size 720x432 with 1 Axes>"
      ]
     },
     "metadata": {
      "needs_background": "light"
     },
     "output_type": "display_data"
    }
   ],
   "source": [
    "jp_data = data_for_forecast.pivot_table(index='rating', values='jp_sales', aggfunc='sum')\\\n",
    "                           .sort_values(by='jp_sales', ascending=False).reset_index()\n",
    "sum_sales = jp_data['jp_sales'].sum()\n",
    "plt.figure(figsize=(10, 6))\n",
    "sales = sns.barplot(x='rating', y='jp_sales', data=jp_data)\n",
    "plt.title('Рейтинг в Японии')\n",
    "plt.ylabel('Продажи')\n",
    "plt.xlabel('Рейтинг')"
   ]
  },
  {
   "cell_type": "markdown",
   "metadata": {},
   "source": [
    "- В Японии самыми популярными рейтингами являются:\n",
    "    1. Not Rated\n",
    "    2. T\n",
    "    3. E\n",
    "    4. M\n",
    "    5. E10+"
   ]
  },
  {
   "cell_type": "markdown",
   "metadata": {},
   "source": [
    "**Вывод:** Предпочтения по жанрам и платформам сильно варьируются в зависимости от регионов продаж.  \n",
    "Возрастные рейтинги тоже не стоит оставлять без внимания."
   ]
  },
  {
   "cell_type": "markdown",
   "metadata": {},
   "source": [
    "### 5) Проверка гипотез\n",
    "\n",
    "**Гипотеза №1** Средние пользовательские рейтинги платформ Xbox One и PC одинаковые."
   ]
  },
  {
   "cell_type": "code",
   "execution_count": 36,
   "metadata": {},
   "outputs": [
    {
     "name": "stdout",
     "output_type": "stream",
     "text": [
      "p-значение: 0.10450507919348415\n",
      "Средние пользовательские рейтинги платформ Xbox One и PC одинаковые\n"
     ]
    }
   ],
   "source": [
    "alpha = .05\n",
    "\n",
    "XOne_data = data_for_forecast.query('(platform == \"XOne\") and (user_score != -999)')['user_score']\n",
    "PC_data = data_for_forecast.query('(platform == \"PC\") and (user_score != -999)')['user_score']\n",
    "\n",
    "results = st.ttest_ind(XOne_data, PC_data)\n",
    "\n",
    "print('p-значение:', results.pvalue)\n",
    "\n",
    "if (results.pvalue < alpha):\n",
    "    print(\"Средние пользовательские рейтинги платформ Xbox One и PC разные\")\n",
    "else:\n",
    "    print(\"Средние пользовательские рейтинги платформ Xbox One и PC одинаковые\")"
   ]
  },
  {
   "cell_type": "markdown",
   "metadata": {},
   "source": [
    "**Гипотеза №2** Средние пользовательские рейтинги жанров Action и Sports разные."
   ]
  },
  {
   "cell_type": "code",
   "execution_count": 37,
   "metadata": {},
   "outputs": [
    {
     "name": "stdout",
     "output_type": "stream",
     "text": [
      "p-значение: 2.8711147985105864e-19\n",
      "Средние пользовательские рейтинги жанров Action и Sports разные\n"
     ]
    }
   ],
   "source": [
    "alpha = .05\n",
    "\n",
    "action_data = data_for_forecast.query('(genre==\"Action\") and (user_score != -999)')['user_score']\n",
    "sports_data = data_for_forecast.query('(genre==\"Sports\") and (user_score != -999)')['user_score']\n",
    "\n",
    "results = st.ttest_ind(\n",
    "    action_data, \n",
    "    sports_data)\n",
    "\n",
    "print('p-значение:', results.pvalue)\n",
    "\n",
    "if (results.pvalue < alpha):\n",
    "    print(\"Средние пользовательские рейтинги жанров Action и Sports разные\")\n",
    "else:\n",
    "    print(\"Средние пользовательские рейтинги жанров Action и Sports одинаковые\")"
   ]
  },
  {
   "cell_type": "markdown",
   "metadata": {},
   "source": [
    "### 6) Вывод"
   ]
  },
  {
   "cell_type": "markdown",
   "metadata": {},
   "source": [
    "- Проведя большое исследование, мы смогли прийти к некоторым заключениям об учёте параметров перспективных продуктов игровой индустрии:\n",
    "    - Учёт популярности платформ позволяет тщательнее подбирать продукты для определенных рынков\n",
    "    - Учёт популярности жанров позволяет регулировать охват аудитории\n",
    "    - Учёт возрастного рейтинга позволяет более точечно работать на целевую аудиторию  \n",
    "&nbsp;\n",
    "- **Перспективы регионов**:\n",
    "    1. Северная Америка\n",
    "        - Платформа: PS4, XOne\n",
    "        - Жанр: Action, Shooter\n",
    "        - Рейтинг: M, Not Rated\n",
    "    2. Европа\n",
    "        - Платформа: PS4, XOne\n",
    "        - Жанр: Action, Shooter\n",
    "        - Рейтинг: M, Not Rated\n",
    "    3. Япония\n",
    "        - Платформа: 3DS, PS4\n",
    "        - Жанр: Role-Playing, Action\n",
    "        - Рейтинг: Not Rated, T  \n",
    "&nbsp; \n",
    "- На основании этих показателей можно сделать вывод, что за годы развития игровой индустрии предпочтения европейских и американских игроков стали схожими и только в Японии прослеживается наличие особой аудитории, что вызвано разностью менталитетов.    \n",
    "\n",
    "\n",
    "- Объективно, для массовой аудитории наиболее коммерчески успешным продуктом станут игры в жанрах Action-Shooter с рейтингом 18+, поддерживаемые на платформах PlayStation4 и Xbox One.\n",
    "- Необходимо учитывать и актуальность поддерживаемых консолей, больше обращая внимание на игры, поддерживаемые на соревенных консолях и консолях грядущих поколений."
   ]
  }
 ],
 "metadata": {
  "ExecuteTimeLog": [
   {
    "duration": 1350,
    "start_time": "2022-11-19T09:42:32.318Z"
   },
   {
    "duration": 156,
    "start_time": "2022-11-19T09:42:33.670Z"
   },
   {
    "duration": 0,
    "start_time": "2022-11-19T09:42:33.829Z"
   },
   {
    "duration": 0,
    "start_time": "2022-11-19T09:42:33.830Z"
   },
   {
    "duration": 0,
    "start_time": "2022-11-19T09:42:33.832Z"
   },
   {
    "duration": 0,
    "start_time": "2022-11-19T09:42:33.834Z"
   },
   {
    "duration": 0,
    "start_time": "2022-11-19T09:42:33.835Z"
   },
   {
    "duration": 0,
    "start_time": "2022-11-19T09:42:33.837Z"
   },
   {
    "duration": 0,
    "start_time": "2022-11-19T09:42:33.839Z"
   },
   {
    "duration": 0,
    "start_time": "2022-11-19T09:42:33.840Z"
   },
   {
    "duration": 0,
    "start_time": "2022-11-19T09:42:33.855Z"
   },
   {
    "duration": 0,
    "start_time": "2022-11-19T09:42:33.856Z"
   },
   {
    "duration": 0,
    "start_time": "2022-11-19T09:42:33.858Z"
   },
   {
    "duration": 0,
    "start_time": "2022-11-19T09:42:33.859Z"
   },
   {
    "duration": 0,
    "start_time": "2022-11-19T09:42:33.861Z"
   },
   {
    "duration": 0,
    "start_time": "2022-11-19T09:42:33.862Z"
   },
   {
    "duration": 0,
    "start_time": "2022-11-19T09:42:33.864Z"
   },
   {
    "duration": 0,
    "start_time": "2022-11-19T09:42:33.865Z"
   },
   {
    "duration": 0,
    "start_time": "2022-11-19T09:42:33.867Z"
   },
   {
    "duration": 0,
    "start_time": "2022-11-19T09:42:33.869Z"
   },
   {
    "duration": 0,
    "start_time": "2022-11-19T09:42:33.870Z"
   },
   {
    "duration": 0,
    "start_time": "2022-11-19T09:42:33.871Z"
   },
   {
    "duration": 0,
    "start_time": "2022-11-19T09:42:33.873Z"
   },
   {
    "duration": 0,
    "start_time": "2022-11-19T09:42:33.874Z"
   },
   {
    "duration": 0,
    "start_time": "2022-11-19T09:42:33.876Z"
   },
   {
    "duration": 0,
    "start_time": "2022-11-19T09:42:33.877Z"
   },
   {
    "duration": 0,
    "start_time": "2022-11-19T09:42:33.878Z"
   },
   {
    "duration": 0,
    "start_time": "2022-11-19T09:42:33.879Z"
   },
   {
    "duration": 0,
    "start_time": "2022-11-19T09:42:33.880Z"
   },
   {
    "duration": 0,
    "start_time": "2022-11-19T09:42:33.881Z"
   },
   {
    "duration": 0,
    "start_time": "2022-11-19T09:42:33.883Z"
   },
   {
    "duration": 123,
    "start_time": "2022-11-19T09:44:52.223Z"
   },
   {
    "duration": 1199,
    "start_time": "2022-11-19T09:44:59.133Z"
   },
   {
    "duration": 80,
    "start_time": "2022-11-19T09:45:00.334Z"
   },
   {
    "duration": 4,
    "start_time": "2022-11-19T09:45:00.416Z"
   },
   {
    "duration": 52,
    "start_time": "2022-11-19T09:45:00.421Z"
   },
   {
    "duration": 12,
    "start_time": "2022-11-19T09:45:00.476Z"
   },
   {
    "duration": 47,
    "start_time": "2022-11-19T09:45:00.490Z"
   },
   {
    "duration": 87,
    "start_time": "2022-11-19T09:45:00.539Z"
   },
   {
    "duration": 7,
    "start_time": "2022-11-19T09:45:00.627Z"
   },
   {
    "duration": 58,
    "start_time": "2022-11-19T09:45:00.635Z"
   },
   {
    "duration": 54,
    "start_time": "2022-11-19T09:45:00.695Z"
   },
   {
    "duration": 22,
    "start_time": "2022-11-19T09:45:00.751Z"
   },
   {
    "duration": 396,
    "start_time": "2022-11-19T09:45:00.775Z"
   },
   {
    "duration": 362,
    "start_time": "2022-11-19T09:45:01.173Z"
   },
   {
    "duration": 280,
    "start_time": "2022-11-19T09:45:01.539Z"
   },
   {
    "duration": 0,
    "start_time": "2022-11-19T09:45:01.820Z"
   },
   {
    "duration": 0,
    "start_time": "2022-11-19T09:45:01.822Z"
   },
   {
    "duration": 0,
    "start_time": "2022-11-19T09:45:01.823Z"
   },
   {
    "duration": 0,
    "start_time": "2022-11-19T09:45:01.824Z"
   },
   {
    "duration": 0,
    "start_time": "2022-11-19T09:45:01.825Z"
   },
   {
    "duration": 0,
    "start_time": "2022-11-19T09:45:01.826Z"
   },
   {
    "duration": 0,
    "start_time": "2022-11-19T09:45:01.827Z"
   },
   {
    "duration": 0,
    "start_time": "2022-11-19T09:45:01.828Z"
   },
   {
    "duration": 0,
    "start_time": "2022-11-19T09:45:01.829Z"
   },
   {
    "duration": 0,
    "start_time": "2022-11-19T09:45:01.830Z"
   },
   {
    "duration": 0,
    "start_time": "2022-11-19T09:45:01.831Z"
   },
   {
    "duration": 0,
    "start_time": "2022-11-19T09:45:01.832Z"
   },
   {
    "duration": 0,
    "start_time": "2022-11-19T09:45:01.833Z"
   },
   {
    "duration": 0,
    "start_time": "2022-11-19T09:45:01.858Z"
   },
   {
    "duration": 0,
    "start_time": "2022-11-19T09:45:01.860Z"
   },
   {
    "duration": 0,
    "start_time": "2022-11-19T09:45:01.862Z"
   },
   {
    "duration": 0,
    "start_time": "2022-11-19T09:45:01.863Z"
   },
   {
    "duration": 16,
    "start_time": "2022-11-19T09:48:13.229Z"
   },
   {
    "duration": 37,
    "start_time": "2022-11-19T09:49:29.574Z"
   },
   {
    "duration": 45,
    "start_time": "2022-11-19T12:14:49.694Z"
   },
   {
    "duration": 1206,
    "start_time": "2022-11-19T12:14:52.494Z"
   },
   {
    "duration": 3,
    "start_time": "2022-11-19T12:14:54.682Z"
   },
   {
    "duration": 111,
    "start_time": "2022-11-19T12:14:58.790Z"
   },
   {
    "duration": 3,
    "start_time": "2022-11-19T12:15:17.498Z"
   },
   {
    "duration": 9,
    "start_time": "2022-11-19T12:15:18.306Z"
   },
   {
    "duration": 15,
    "start_time": "2022-11-19T12:15:19.791Z"
   },
   {
    "duration": 3,
    "start_time": "2022-11-19T12:15:24.082Z"
   },
   {
    "duration": 13,
    "start_time": "2022-11-19T12:15:24.517Z"
   },
   {
    "duration": 9,
    "start_time": "2022-11-19T12:15:24.955Z"
   },
   {
    "duration": 15,
    "start_time": "2022-11-19T12:15:25.961Z"
   },
   {
    "duration": 43,
    "start_time": "2022-11-19T12:15:26.590Z"
   },
   {
    "duration": 5,
    "start_time": "2022-11-19T12:15:26.831Z"
   },
   {
    "duration": 13,
    "start_time": "2022-11-19T12:15:27.126Z"
   },
   {
    "duration": 18,
    "start_time": "2022-11-19T12:15:27.405Z"
   },
   {
    "duration": 13,
    "start_time": "2022-11-19T12:15:27.697Z"
   },
   {
    "duration": 376,
    "start_time": "2022-11-19T12:15:30.450Z"
   },
   {
    "duration": 339,
    "start_time": "2022-11-19T12:15:32.786Z"
   },
   {
    "duration": 195,
    "start_time": "2022-11-19T12:15:34.090Z"
   },
   {
    "duration": 282,
    "start_time": "2022-11-19T12:17:47.494Z"
   },
   {
    "duration": 389,
    "start_time": "2022-11-19T12:19:32.426Z"
   },
   {
    "duration": 391,
    "start_time": "2022-11-19T12:19:36.214Z"
   },
   {
    "duration": 4,
    "start_time": "2022-11-19T12:20:01.451Z"
   },
   {
    "duration": 64,
    "start_time": "2022-11-19T12:20:02.182Z"
   },
   {
    "duration": 4,
    "start_time": "2022-11-19T12:20:02.941Z"
   },
   {
    "duration": 15,
    "start_time": "2022-11-19T12:20:03.320Z"
   },
   {
    "duration": 10,
    "start_time": "2022-11-19T12:20:03.826Z"
   },
   {
    "duration": 15,
    "start_time": "2022-11-19T12:20:07.244Z"
   },
   {
    "duration": 50,
    "start_time": "2022-11-19T12:20:08.210Z"
   },
   {
    "duration": 6,
    "start_time": "2022-11-19T12:20:08.598Z"
   },
   {
    "duration": 13,
    "start_time": "2022-11-19T12:20:08.931Z"
   },
   {
    "duration": 17,
    "start_time": "2022-11-19T12:20:09.311Z"
   },
   {
    "duration": 12,
    "start_time": "2022-11-19T12:20:09.794Z"
   },
   {
    "duration": 346,
    "start_time": "2022-11-19T12:20:11.026Z"
   },
   {
    "duration": 358,
    "start_time": "2022-11-19T12:21:15.586Z"
   },
   {
    "duration": 297,
    "start_time": "2022-11-19T12:21:21.085Z"
   },
   {
    "duration": 133,
    "start_time": "2022-11-19T12:22:09.048Z"
   },
   {
    "duration": 682,
    "start_time": "2022-11-19T12:23:58.884Z"
   },
   {
    "duration": 139,
    "start_time": "2022-11-19T12:24:03.900Z"
   },
   {
    "duration": 136,
    "start_time": "2022-11-19T12:24:32.017Z"
   },
   {
    "duration": 121,
    "start_time": "2022-11-19T12:25:18.082Z"
   },
   {
    "duration": 316,
    "start_time": "2022-11-19T12:39:26.994Z"
   },
   {
    "duration": 3,
    "start_time": "2022-11-19T12:41:41.177Z"
   },
   {
    "duration": 62,
    "start_time": "2022-11-19T12:41:41.317Z"
   },
   {
    "duration": 3,
    "start_time": "2022-11-19T12:41:41.480Z"
   },
   {
    "duration": 14,
    "start_time": "2022-11-19T12:41:41.650Z"
   },
   {
    "duration": 9,
    "start_time": "2022-11-19T12:41:41.791Z"
   },
   {
    "duration": 15,
    "start_time": "2022-11-19T12:41:42.303Z"
   },
   {
    "duration": 42,
    "start_time": "2022-11-19T12:41:42.952Z"
   },
   {
    "duration": 7,
    "start_time": "2022-11-19T12:41:43.177Z"
   },
   {
    "duration": 13,
    "start_time": "2022-11-19T12:41:43.517Z"
   },
   {
    "duration": 18,
    "start_time": "2022-11-19T12:41:43.969Z"
   },
   {
    "duration": 13,
    "start_time": "2022-11-19T12:41:44.370Z"
   },
   {
    "duration": 326,
    "start_time": "2022-11-19T12:41:46.111Z"
   },
   {
    "duration": 341,
    "start_time": "2022-11-19T12:41:47.577Z"
   },
   {
    "duration": 133,
    "start_time": "2022-11-19T12:41:48.303Z"
   },
   {
    "duration": 47,
    "start_time": "2022-11-19T12:41:51.118Z"
   },
   {
    "duration": 9,
    "start_time": "2022-11-19T12:41:51.869Z"
   },
   {
    "duration": 995,
    "start_time": "2022-11-19T12:41:52.334Z"
   },
   {
    "duration": 204,
    "start_time": "2022-11-19T12:41:53.331Z"
   },
   {
    "duration": 1187,
    "start_time": "2022-11-19T12:41:53.742Z"
   },
   {
    "duration": 183,
    "start_time": "2022-11-19T12:41:55.096Z"
   },
   {
    "duration": 271,
    "start_time": "2022-11-19T12:41:57.305Z"
   },
   {
    "duration": 205,
    "start_time": "2022-11-19T12:41:58.194Z"
   },
   {
    "duration": 236,
    "start_time": "2022-11-19T12:41:59.033Z"
   },
   {
    "duration": 255,
    "start_time": "2022-11-19T12:42:00.354Z"
   },
   {
    "duration": 192,
    "start_time": "2022-11-19T12:42:01.437Z"
   },
   {
    "duration": 164,
    "start_time": "2022-11-19T12:42:02.681Z"
   },
   {
    "duration": 258,
    "start_time": "2022-11-19T12:42:05.516Z"
   },
   {
    "duration": 203,
    "start_time": "2022-11-19T12:42:06.889Z"
   },
   {
    "duration": 143,
    "start_time": "2022-11-19T12:42:08.043Z"
   },
   {
    "duration": 11,
    "start_time": "2022-11-19T12:42:09.800Z"
   },
   {
    "duration": 11,
    "start_time": "2022-11-19T12:42:11.753Z"
   },
   {
    "duration": 1324,
    "start_time": "2022-11-20T11:46:37.132Z"
   },
   {
    "duration": 122,
    "start_time": "2022-11-20T11:46:38.460Z"
   },
   {
    "duration": 5,
    "start_time": "2022-11-20T11:46:39.757Z"
   },
   {
    "duration": 16,
    "start_time": "2022-11-20T11:46:40.387Z"
   },
   {
    "duration": 9,
    "start_time": "2022-11-20T11:46:40.792Z"
   },
   {
    "duration": 16,
    "start_time": "2022-11-20T11:46:42.078Z"
   },
   {
    "duration": 47,
    "start_time": "2022-11-20T11:46:42.652Z"
   },
   {
    "duration": 5,
    "start_time": "2022-11-20T11:46:43.068Z"
   },
   {
    "duration": 13,
    "start_time": "2022-11-20T11:46:43.672Z"
   },
   {
    "duration": 18,
    "start_time": "2022-11-20T11:46:44.103Z"
   },
   {
    "duration": 12,
    "start_time": "2022-11-20T11:46:44.632Z"
   },
   {
    "duration": 426,
    "start_time": "2022-11-20T11:46:45.807Z"
   },
   {
    "duration": 324,
    "start_time": "2022-11-20T11:46:57.504Z"
   },
   {
    "duration": 221,
    "start_time": "2022-11-20T11:47:00.844Z"
   },
   {
    "duration": 1138,
    "start_time": "2022-11-20T12:48:26.882Z"
   },
   {
    "duration": 71,
    "start_time": "2022-11-20T12:48:28.022Z"
   },
   {
    "duration": 6,
    "start_time": "2022-11-20T12:48:28.095Z"
   },
   {
    "duration": 17,
    "start_time": "2022-11-20T12:48:28.102Z"
   },
   {
    "duration": 12,
    "start_time": "2022-11-20T12:48:28.122Z"
   },
   {
    "duration": 22,
    "start_time": "2022-11-20T12:48:28.155Z"
   },
   {
    "duration": 82,
    "start_time": "2022-11-20T12:48:28.178Z"
   },
   {
    "duration": 6,
    "start_time": "2022-11-20T12:48:28.263Z"
   },
   {
    "duration": 28,
    "start_time": "2022-11-20T12:48:28.271Z"
   },
   {
    "duration": 33,
    "start_time": "2022-11-20T12:48:28.301Z"
   },
   {
    "duration": 35,
    "start_time": "2022-11-20T12:48:28.336Z"
   },
   {
    "duration": 405,
    "start_time": "2022-11-20T12:48:28.373Z"
   },
   {
    "duration": 434,
    "start_time": "2022-11-20T12:48:28.781Z"
   },
   {
    "duration": 283,
    "start_time": "2022-11-20T12:48:29.218Z"
   },
   {
    "duration": 0,
    "start_time": "2022-11-20T12:48:29.503Z"
   },
   {
    "duration": 0,
    "start_time": "2022-11-20T12:48:29.505Z"
   },
   {
    "duration": 0,
    "start_time": "2022-11-20T12:48:29.506Z"
   },
   {
    "duration": 0,
    "start_time": "2022-11-20T12:48:29.507Z"
   },
   {
    "duration": 0,
    "start_time": "2022-11-20T12:48:29.508Z"
   },
   {
    "duration": 0,
    "start_time": "2022-11-20T12:48:29.510Z"
   },
   {
    "duration": 0,
    "start_time": "2022-11-20T12:48:29.511Z"
   },
   {
    "duration": 0,
    "start_time": "2022-11-20T12:48:29.513Z"
   },
   {
    "duration": 0,
    "start_time": "2022-11-20T12:48:29.514Z"
   },
   {
    "duration": 1,
    "start_time": "2022-11-20T12:48:29.515Z"
   },
   {
    "duration": 0,
    "start_time": "2022-11-20T12:48:29.517Z"
   },
   {
    "duration": 0,
    "start_time": "2022-11-20T12:48:29.518Z"
   },
   {
    "duration": 0,
    "start_time": "2022-11-20T12:48:29.520Z"
   },
   {
    "duration": 0,
    "start_time": "2022-11-20T12:48:29.521Z"
   },
   {
    "duration": 0,
    "start_time": "2022-11-20T12:48:29.522Z"
   },
   {
    "duration": 0,
    "start_time": "2022-11-20T12:48:29.524Z"
   },
   {
    "duration": 0,
    "start_time": "2022-11-20T12:48:29.555Z"
   },
   {
    "duration": 1458,
    "start_time": "2022-11-20T20:37:20.259Z"
   },
   {
    "duration": 200,
    "start_time": "2022-11-20T20:37:21.719Z"
   },
   {
    "duration": 5,
    "start_time": "2022-11-20T20:37:21.921Z"
   },
   {
    "duration": 23,
    "start_time": "2022-11-20T20:37:21.928Z"
   },
   {
    "duration": 13,
    "start_time": "2022-11-20T20:37:21.953Z"
   },
   {
    "duration": 16,
    "start_time": "2022-11-20T20:37:21.968Z"
   },
   {
    "duration": 71,
    "start_time": "2022-11-20T20:37:21.985Z"
   },
   {
    "duration": 5,
    "start_time": "2022-11-20T20:37:22.058Z"
   },
   {
    "duration": 30,
    "start_time": "2022-11-20T20:37:22.065Z"
   },
   {
    "duration": 51,
    "start_time": "2022-11-20T20:37:22.098Z"
   },
   {
    "duration": 16,
    "start_time": "2022-11-20T20:37:22.151Z"
   },
   {
    "duration": 452,
    "start_time": "2022-11-20T20:37:22.169Z"
   },
   {
    "duration": 352,
    "start_time": "2022-11-20T20:37:22.622Z"
   },
   {
    "duration": 253,
    "start_time": "2022-11-20T20:37:22.975Z"
   },
   {
    "duration": 0,
    "start_time": "2022-11-20T20:37:23.230Z"
   },
   {
    "duration": 0,
    "start_time": "2022-11-20T20:37:23.232Z"
   },
   {
    "duration": 0,
    "start_time": "2022-11-20T20:37:23.233Z"
   },
   {
    "duration": 0,
    "start_time": "2022-11-20T20:37:23.234Z"
   },
   {
    "duration": 0,
    "start_time": "2022-11-20T20:37:23.236Z"
   },
   {
    "duration": 0,
    "start_time": "2022-11-20T20:37:23.238Z"
   },
   {
    "duration": 0,
    "start_time": "2022-11-20T20:37:23.251Z"
   },
   {
    "duration": 0,
    "start_time": "2022-11-20T20:37:23.253Z"
   },
   {
    "duration": 0,
    "start_time": "2022-11-20T20:37:23.254Z"
   },
   {
    "duration": 0,
    "start_time": "2022-11-20T20:37:23.256Z"
   },
   {
    "duration": 0,
    "start_time": "2022-11-20T20:37:23.257Z"
   },
   {
    "duration": 0,
    "start_time": "2022-11-20T20:37:23.259Z"
   },
   {
    "duration": 0,
    "start_time": "2022-11-20T20:37:23.260Z"
   },
   {
    "duration": 0,
    "start_time": "2022-11-20T20:37:23.261Z"
   },
   {
    "duration": 0,
    "start_time": "2022-11-20T20:37:23.263Z"
   },
   {
    "duration": 0,
    "start_time": "2022-11-20T20:37:23.265Z"
   },
   {
    "duration": 0,
    "start_time": "2022-11-20T20:37:23.266Z"
   },
   {
    "duration": 393,
    "start_time": "2022-11-20T20:38:19.169Z"
   },
   {
    "duration": 344,
    "start_time": "2022-11-20T20:38:23.489Z"
   },
   {
    "duration": 218,
    "start_time": "2022-11-20T20:38:29.008Z"
   },
   {
    "duration": 345,
    "start_time": "2022-11-20T20:38:32.715Z"
   },
   {
    "duration": 158,
    "start_time": "2022-11-20T20:40:12.483Z"
   },
   {
    "duration": 5,
    "start_time": "2022-11-20T20:40:40.841Z"
   },
   {
    "duration": 7,
    "start_time": "2022-11-20T20:40:48.591Z"
   },
   {
    "duration": 213,
    "start_time": "2022-11-20T20:41:00.459Z"
   },
   {
    "duration": 161,
    "start_time": "2022-11-20T20:41:03.649Z"
   },
   {
    "duration": 147,
    "start_time": "2022-11-20T20:41:10.921Z"
   },
   {
    "duration": 333,
    "start_time": "2022-11-20T20:41:20.642Z"
   },
   {
    "duration": 937,
    "start_time": "2022-11-20T20:41:35.675Z"
   },
   {
    "duration": 1080,
    "start_time": "2022-11-21T13:20:40.868Z"
   },
   {
    "duration": 104,
    "start_time": "2022-11-21T13:20:41.950Z"
   },
   {
    "duration": 4,
    "start_time": "2022-11-21T13:20:42.055Z"
   },
   {
    "duration": 45,
    "start_time": "2022-11-21T13:20:42.060Z"
   },
   {
    "duration": 25,
    "start_time": "2022-11-21T13:20:42.107Z"
   },
   {
    "duration": 28,
    "start_time": "2022-11-21T13:20:42.134Z"
   },
   {
    "duration": 70,
    "start_time": "2022-11-21T13:20:42.163Z"
   },
   {
    "duration": 4,
    "start_time": "2022-11-21T13:20:42.234Z"
   },
   {
    "duration": 37,
    "start_time": "2022-11-21T13:20:42.239Z"
   },
   {
    "duration": 44,
    "start_time": "2022-11-21T13:20:42.277Z"
   },
   {
    "duration": 40,
    "start_time": "2022-11-21T13:20:42.322Z"
   },
   {
    "duration": 320,
    "start_time": "2022-11-21T13:20:42.364Z"
   },
   {
    "duration": 310,
    "start_time": "2022-11-21T13:20:42.685Z"
   },
   {
    "duration": 813,
    "start_time": "2022-11-21T13:20:42.998Z"
   },
   {
    "duration": 46,
    "start_time": "2022-11-21T13:20:43.813Z"
   },
   {
    "duration": 7,
    "start_time": "2022-11-21T13:20:43.876Z"
   },
   {
    "duration": 838,
    "start_time": "2022-11-21T13:20:43.884Z"
   },
   {
    "duration": 291,
    "start_time": "2022-11-21T13:20:44.724Z"
   },
   {
    "duration": 1259,
    "start_time": "2022-11-21T13:20:45.017Z"
   },
   {
    "duration": 192,
    "start_time": "2022-11-21T13:20:46.277Z"
   },
   {
    "duration": 260,
    "start_time": "2022-11-21T13:20:46.471Z"
   },
   {
    "duration": 184,
    "start_time": "2022-11-21T13:20:46.732Z"
   },
   {
    "duration": 166,
    "start_time": "2022-11-21T13:20:46.917Z"
   },
   {
    "duration": 270,
    "start_time": "2022-11-21T13:20:47.084Z"
   },
   {
    "duration": 265,
    "start_time": "2022-11-21T13:20:47.356Z"
   },
   {
    "duration": 164,
    "start_time": "2022-11-21T13:20:47.623Z"
   },
   {
    "duration": 266,
    "start_time": "2022-11-21T13:20:47.789Z"
   },
   {
    "duration": 197,
    "start_time": "2022-11-21T13:20:48.056Z"
   },
   {
    "duration": 151,
    "start_time": "2022-11-21T13:20:48.254Z"
   },
   {
    "duration": 13,
    "start_time": "2022-11-21T13:20:48.407Z"
   },
   {
    "duration": 14,
    "start_time": "2022-11-21T13:20:48.422Z"
   },
   {
    "duration": 1195,
    "start_time": "2022-11-21T13:44:13.598Z"
   },
   {
    "duration": 78,
    "start_time": "2022-11-21T13:44:14.795Z"
   },
   {
    "duration": 5,
    "start_time": "2022-11-21T13:44:14.874Z"
   },
   {
    "duration": 60,
    "start_time": "2022-11-21T13:44:14.881Z"
   },
   {
    "duration": 57,
    "start_time": "2022-11-21T13:44:14.944Z"
   },
   {
    "duration": 66,
    "start_time": "2022-11-21T13:44:15.004Z"
   },
   {
    "duration": 86,
    "start_time": "2022-11-21T13:44:15.072Z"
   },
   {
    "duration": 6,
    "start_time": "2022-11-21T13:44:15.160Z"
   },
   {
    "duration": 22,
    "start_time": "2022-11-21T13:44:15.168Z"
   },
   {
    "duration": 39,
    "start_time": "2022-11-21T13:44:15.192Z"
   },
   {
    "duration": 45,
    "start_time": "2022-11-21T13:44:15.233Z"
   },
   {
    "duration": 406,
    "start_time": "2022-11-21T13:44:15.279Z"
   },
   {
    "duration": 336,
    "start_time": "2022-11-21T13:44:15.686Z"
   },
   {
    "duration": 927,
    "start_time": "2022-11-21T13:44:16.025Z"
   },
   {
    "duration": 55,
    "start_time": "2022-11-21T13:44:16.954Z"
   },
   {
    "duration": 8,
    "start_time": "2022-11-21T13:44:17.010Z"
   },
   {
    "duration": 931,
    "start_time": "2022-11-21T13:44:17.019Z"
   },
   {
    "duration": 319,
    "start_time": "2022-11-21T13:44:17.952Z"
   },
   {
    "duration": 1231,
    "start_time": "2022-11-21T13:44:18.273Z"
   },
   {
    "duration": 209,
    "start_time": "2022-11-21T13:44:19.506Z"
   },
   {
    "duration": 268,
    "start_time": "2022-11-21T13:44:19.717Z"
   },
   {
    "duration": 203,
    "start_time": "2022-11-21T13:44:19.987Z"
   },
   {
    "duration": 161,
    "start_time": "2022-11-21T13:44:20.191Z"
   },
   {
    "duration": 276,
    "start_time": "2022-11-21T13:44:20.354Z"
   },
   {
    "duration": 293,
    "start_time": "2022-11-21T13:44:20.632Z"
   },
   {
    "duration": 163,
    "start_time": "2022-11-21T13:44:20.926Z"
   },
   {
    "duration": 272,
    "start_time": "2022-11-21T13:44:21.091Z"
   },
   {
    "duration": 220,
    "start_time": "2022-11-21T13:44:21.365Z"
   },
   {
    "duration": 158,
    "start_time": "2022-11-21T13:44:21.587Z"
   },
   {
    "duration": 11,
    "start_time": "2022-11-21T13:44:21.746Z"
   },
   {
    "duration": 27,
    "start_time": "2022-11-21T13:44:21.759Z"
   },
   {
    "duration": 43,
    "start_time": "2022-11-21T15:09:32.265Z"
   },
   {
    "duration": 1215,
    "start_time": "2022-11-21T15:09:36.359Z"
   },
   {
    "duration": 109,
    "start_time": "2022-11-21T15:09:40.436Z"
   },
   {
    "duration": 3,
    "start_time": "2022-11-21T15:09:47.081Z"
   },
   {
    "duration": 2,
    "start_time": "2022-11-21T15:14:26.539Z"
   },
   {
    "duration": 61,
    "start_time": "2022-11-21T15:14:27.060Z"
   },
   {
    "duration": 3,
    "start_time": "2022-11-21T15:14:27.258Z"
   },
   {
    "duration": 4,
    "start_time": "2022-11-21T15:14:27.953Z"
   },
   {
    "duration": 19,
    "start_time": "2022-11-21T15:14:28.135Z"
   },
   {
    "duration": 14,
    "start_time": "2022-11-21T15:14:28.321Z"
   },
   {
    "duration": 15,
    "start_time": "2022-11-21T15:14:29.032Z"
   },
   {
    "duration": 42,
    "start_time": "2022-11-21T15:14:29.577Z"
   },
   {
    "duration": 5,
    "start_time": "2022-11-21T15:14:30.090Z"
   },
   {
    "duration": 13,
    "start_time": "2022-11-21T15:14:30.448Z"
   },
   {
    "duration": 16,
    "start_time": "2022-11-21T15:14:30.633Z"
   },
   {
    "duration": 12,
    "start_time": "2022-11-21T15:14:30.990Z"
   },
   {
    "duration": 379,
    "start_time": "2022-11-21T15:14:31.715Z"
   },
   {
    "duration": 324,
    "start_time": "2022-11-21T15:14:34.355Z"
   },
   {
    "duration": 826,
    "start_time": "2022-11-21T15:14:42.538Z"
   },
   {
    "duration": 9,
    "start_time": "2022-11-21T15:20:21.205Z"
   },
   {
    "duration": 384,
    "start_time": "2022-11-21T15:20:27.698Z"
   },
   {
    "duration": 243,
    "start_time": "2022-11-21T15:22:05.839Z"
   },
   {
    "duration": 184,
    "start_time": "2022-11-21T15:22:53.409Z"
   },
   {
    "duration": 28,
    "start_time": "2022-11-21T15:23:04.423Z"
   },
   {
    "duration": 186,
    "start_time": "2022-11-21T15:24:21.251Z"
   },
   {
    "duration": 159,
    "start_time": "2022-11-21T15:24:39.954Z"
   },
   {
    "duration": 155,
    "start_time": "2022-11-21T15:24:49.578Z"
   },
   {
    "duration": 1180,
    "start_time": "2022-11-21T15:26:11.482Z"
   },
   {
    "duration": 187,
    "start_time": "2022-11-21T15:27:48.685Z"
   },
   {
    "duration": 82,
    "start_time": "2022-11-21T15:28:07.671Z"
   },
   {
    "duration": 133,
    "start_time": "2022-11-21T15:28:12.768Z"
   },
   {
    "duration": 297,
    "start_time": "2022-11-21T15:28:25.306Z"
   },
   {
    "duration": 185,
    "start_time": "2022-11-21T15:28:40.863Z"
   },
   {
    "duration": 183,
    "start_time": "2022-11-21T15:28:51.493Z"
   },
   {
    "duration": 124,
    "start_time": "2022-11-21T15:29:05.126Z"
   },
   {
    "duration": 196,
    "start_time": "2022-11-21T15:29:18.614Z"
   },
   {
    "duration": 174,
    "start_time": "2022-11-21T15:29:31.578Z"
   },
   {
    "duration": 135,
    "start_time": "2022-11-21T15:29:41.459Z"
   },
   {
    "duration": 46,
    "start_time": "2022-11-21T19:10:55.976Z"
   },
   {
    "duration": 7,
    "start_time": "2022-11-21T19:24:25.198Z"
   },
   {
    "duration": 1380,
    "start_time": "2022-11-21T19:24:46.398Z"
   },
   {
    "duration": 120,
    "start_time": "2022-11-21T19:24:47.780Z"
   },
   {
    "duration": 4,
    "start_time": "2022-11-21T19:24:47.902Z"
   },
   {
    "duration": 16,
    "start_time": "2022-11-21T19:24:47.907Z"
   },
   {
    "duration": 31,
    "start_time": "2022-11-21T19:24:47.925Z"
   },
   {
    "duration": 11,
    "start_time": "2022-11-21T19:24:47.959Z"
   },
   {
    "duration": 19,
    "start_time": "2022-11-21T19:24:47.972Z"
   },
   {
    "duration": 57,
    "start_time": "2022-11-21T19:24:47.993Z"
   },
   {
    "duration": 4,
    "start_time": "2022-11-21T19:24:48.052Z"
   },
   {
    "duration": 22,
    "start_time": "2022-11-21T19:24:48.059Z"
   },
   {
    "duration": 31,
    "start_time": "2022-11-21T19:24:48.083Z"
   },
   {
    "duration": 13,
    "start_time": "2022-11-21T19:24:48.116Z"
   },
   {
    "duration": 361,
    "start_time": "2022-11-21T19:24:48.131Z"
   },
   {
    "duration": 345,
    "start_time": "2022-11-21T19:24:48.494Z"
   },
   {
    "duration": 994,
    "start_time": "2022-11-21T19:24:48.841Z"
   },
   {
    "duration": 76,
    "start_time": "2022-11-21T19:24:49.837Z"
   },
   {
    "duration": 7,
    "start_time": "2022-11-21T19:24:49.915Z"
   },
   {
    "duration": 381,
    "start_time": "2022-11-21T19:24:49.924Z"
   },
   {
    "duration": 295,
    "start_time": "2022-11-21T19:24:50.312Z"
   },
   {
    "duration": 32,
    "start_time": "2022-11-21T19:24:50.608Z"
   },
   {
    "duration": 1278,
    "start_time": "2022-11-21T19:24:50.641Z"
   },
   {
    "duration": 216,
    "start_time": "2022-11-21T19:24:51.921Z"
   },
   {
    "duration": 232,
    "start_time": "2022-11-21T19:24:52.138Z"
   },
   {
    "duration": 229,
    "start_time": "2022-11-21T19:24:52.371Z"
   },
   {
    "duration": 164,
    "start_time": "2022-11-21T19:24:52.601Z"
   },
   {
    "duration": 236,
    "start_time": "2022-11-21T19:24:52.767Z"
   },
   {
    "duration": 304,
    "start_time": "2022-11-21T19:24:53.004Z"
   },
   {
    "duration": 153,
    "start_time": "2022-11-21T19:24:53.314Z"
   },
   {
    "duration": 217,
    "start_time": "2022-11-21T19:24:53.469Z"
   },
   {
    "duration": 217,
    "start_time": "2022-11-21T19:24:53.688Z"
   },
   {
    "duration": 154,
    "start_time": "2022-11-21T19:24:53.907Z"
   },
   {
    "duration": 13,
    "start_time": "2022-11-21T19:24:54.063Z"
   },
   {
    "duration": 16,
    "start_time": "2022-11-21T19:24:54.077Z"
   },
   {
    "duration": 34,
    "start_time": "2022-11-21T19:26:28.764Z"
   },
   {
    "duration": 12,
    "start_time": "2022-11-21T19:52:35.994Z"
   },
   {
    "duration": 15,
    "start_time": "2022-11-21T19:53:18.276Z"
   },
   {
    "duration": 14,
    "start_time": "2022-11-21T19:53:53.088Z"
   },
   {
    "duration": 11,
    "start_time": "2022-11-21T19:54:02.161Z"
   },
   {
    "duration": 14,
    "start_time": "2022-11-21T19:54:10.682Z"
   },
   {
    "duration": 10,
    "start_time": "2022-11-21T20:11:25.633Z"
   },
   {
    "duration": 9,
    "start_time": "2022-11-21T20:12:41.288Z"
   },
   {
    "duration": 11,
    "start_time": "2022-11-21T20:12:46.456Z"
   },
   {
    "duration": 11,
    "start_time": "2022-11-21T20:13:00.833Z"
   },
   {
    "duration": 11,
    "start_time": "2022-11-21T20:13:21.496Z"
   },
   {
    "duration": 1190,
    "start_time": "2022-11-21T20:15:49.279Z"
   },
   {
    "duration": 66,
    "start_time": "2022-11-21T20:15:50.471Z"
   },
   {
    "duration": 3,
    "start_time": "2022-11-21T20:15:50.539Z"
   },
   {
    "duration": 10,
    "start_time": "2022-11-21T20:15:50.544Z"
   },
   {
    "duration": 22,
    "start_time": "2022-11-21T20:15:50.555Z"
   },
   {
    "duration": 9,
    "start_time": "2022-11-21T20:15:50.579Z"
   },
   {
    "duration": 34,
    "start_time": "2022-11-21T20:15:50.590Z"
   },
   {
    "duration": 56,
    "start_time": "2022-11-21T20:15:50.625Z"
   },
   {
    "duration": 6,
    "start_time": "2022-11-21T20:15:50.682Z"
   },
   {
    "duration": 37,
    "start_time": "2022-11-21T20:15:50.691Z"
   },
   {
    "duration": 21,
    "start_time": "2022-11-21T20:15:50.730Z"
   },
   {
    "duration": 13,
    "start_time": "2022-11-21T20:15:50.752Z"
   },
   {
    "duration": 334,
    "start_time": "2022-11-21T20:15:50.766Z"
   },
   {
    "duration": 338,
    "start_time": "2022-11-21T20:15:51.101Z"
   },
   {
    "duration": 938,
    "start_time": "2022-11-21T20:15:51.441Z"
   },
   {
    "duration": 51,
    "start_time": "2022-11-21T20:15:52.381Z"
   },
   {
    "duration": 8,
    "start_time": "2022-11-21T20:15:52.434Z"
   },
   {
    "duration": 400,
    "start_time": "2022-11-21T20:15:52.443Z"
   },
   {
    "duration": 309,
    "start_time": "2022-11-21T20:15:52.844Z"
   },
   {
    "duration": 10,
    "start_time": "2022-11-21T20:15:53.155Z"
   },
   {
    "duration": 13,
    "start_time": "2022-11-21T20:15:53.167Z"
   },
   {
    "duration": 30,
    "start_time": "2022-11-21T20:15:53.182Z"
   },
   {
    "duration": 11,
    "start_time": "2022-11-21T20:15:53.214Z"
   },
   {
    "duration": 12,
    "start_time": "2022-11-21T20:15:53.226Z"
   },
   {
    "duration": 1290,
    "start_time": "2022-11-21T20:15:53.240Z"
   },
   {
    "duration": 210,
    "start_time": "2022-11-21T20:15:54.532Z"
   },
   {
    "duration": 245,
    "start_time": "2022-11-21T20:15:54.744Z"
   },
   {
    "duration": 219,
    "start_time": "2022-11-21T20:15:54.993Z"
   },
   {
    "duration": 150,
    "start_time": "2022-11-21T20:15:55.214Z"
   },
   {
    "duration": 220,
    "start_time": "2022-11-21T20:15:55.365Z"
   },
   {
    "duration": 305,
    "start_time": "2022-11-21T20:15:55.587Z"
   },
   {
    "duration": 151,
    "start_time": "2022-11-21T20:15:55.894Z"
   },
   {
    "duration": 239,
    "start_time": "2022-11-21T20:15:56.047Z"
   },
   {
    "duration": 255,
    "start_time": "2022-11-21T20:15:56.287Z"
   },
   {
    "duration": 178,
    "start_time": "2022-11-21T20:15:56.545Z"
   },
   {
    "duration": 12,
    "start_time": "2022-11-21T20:15:56.725Z"
   },
   {
    "duration": 15,
    "start_time": "2022-11-21T20:15:56.738Z"
   },
   {
    "duration": 217,
    "start_time": "2022-11-21T20:19:50.764Z"
   },
   {
    "duration": 187,
    "start_time": "2022-11-21T20:28:43.519Z"
   }
  ],
  "kernelspec": {
   "display_name": "Python 3 (ipykernel)",
   "language": "python",
   "name": "python3"
  },
  "language_info": {
   "codemirror_mode": {
    "name": "ipython",
    "version": 3
   },
   "file_extension": ".py",
   "mimetype": "text/x-python",
   "name": "python",
   "nbconvert_exporter": "python",
   "pygments_lexer": "ipython3",
   "version": "3.9.5"
  },
  "toc": {
   "base_numbering": 1,
   "nav_menu": {},
   "number_sections": true,
   "sideBar": true,
   "skip_h1_title": true,
   "title_cell": "Table of Contents",
   "title_sidebar": "Contents",
   "toc_cell": false,
   "toc_position": {
    "height": "376.667px",
    "left": "33px",
    "top": "110.458px",
    "width": "212px"
   },
   "toc_section_display": true,
   "toc_window_display": true
  },
  "vscode": {
   "interpreter": {
    "hash": "c55c649039c08a6ed9656c6377298cfa405fefe54c0ca6f91a2a775b0cae2cd7"
   }
  }
 },
 "nbformat": 4,
 "nbformat_minor": 2
}
